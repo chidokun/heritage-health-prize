{
 "metadata": {
  "language_info": {
   "codemirror_mode": {
    "name": "ipython",
    "version": 3
   },
   "file_extension": ".py",
   "mimetype": "text/x-python",
   "name": "python",
   "nbconvert_exporter": "python",
   "pygments_lexer": "ipython3",
   "version": "3.7.7-final"
  },
  "orig_nbformat": 2,
  "kernelspec": {
   "name": "python38164bittuanconda0d1158ff6a3f4103ab371d8d1b87e888",
   "display_name": "Python 3.8.1 64-bit ('tuan': conda)",
   "language": "python"
  }
 },
 "nbformat": 4,
 "nbformat_minor": 2,
 "cells": [
  {
   "source": [
    "# Model Building and Evaluation"
   ],
   "cell_type": "markdown",
   "metadata": {}
  },
  {
   "cell_type": "code",
   "execution_count": 25,
   "metadata": {},
   "outputs": [],
   "source": [
    "import numpy as np # Linear algebra\n",
    "import pandas as pd # Data processing, CSV file I/O (e.g. pd.read_csv)\n",
    "\n",
    "import matplotlib.pyplot as plt  # Matlab-style plotting\n",
    "# Make sure plot shows immediately\n",
    "%matplotlib inline \n",
    "import seaborn as sns # Library for plotting\n",
    "color = sns.color_palette()\n",
    "sns.set_style('darkgrid')\n",
    "\n",
    "from sklearn.svm import SVR\n",
    "from sklearn.model_selection import GridSearchCV\n",
    "from sklearn.metrics import make_scorer, mean_squared_error\n",
    "from xgboost import XGBRegressor"
   ]
  },
  {
   "cell_type": "code",
   "execution_count": 31,
   "metadata": {},
   "outputs": [],
   "source": [
    "def rmsle(y_true, y_pred):\n",
    "    return np.sqrt(np.mean(np.power(np.log(y_true + 1) - np.log(y_pred + 1),2)))"
   ]
  },
  {
   "cell_type": "code",
   "execution_count": 64,
   "metadata": {},
   "outputs": [],
   "source": [
    "def show_gd_result(gd_result):\n",
    "    print(\"Best params: \", gd_result.best_params_)\n",
    "    print(\"Best score: \", gd_result.best_score_)"
   ]
  },
  {
   "source": [
    "# Strategy A"
   ],
   "cell_type": "markdown",
   "metadata": {}
  },
  {
   "cell_type": "code",
   "execution_count": 30,
   "metadata": {},
   "outputs": [],
   "source": [
    "X_a_train = pd.read_csv(\"./processed/strategy-a/train/X_train.csv\", index_col=[\"MemberID\"])\n",
    "y_a_train = pd.read_csv(\"./processed/strategy-a/train/y_train.csv\", index_col=[\"MemberID\"])\n",
    "X_a_test = pd.read_csv(\"./processed/strategy-a/test/X_test.csv\", index_col=[\"MemberID\"])\n",
    "y_a_test = pd.read_csv(\"./processed/strategy-a/test/y_test.csv\", index_col=[\"MemberID\"])"
   ]
  },
  {
   "source": [
    "## XGBoost"
   ],
   "cell_type": "markdown",
   "metadata": {}
  },
  {
   "cell_type": "code",
   "execution_count": 48,
   "metadata": {},
   "outputs": [
    {
     "output_type": "stream",
     "name": "stdout",
     "text": [
      "Fitting 5 folds for each of 324 candidates, totalling 1620 fits\n",
      "[Parallel(n_jobs=-1)]: Using backend LokyBackend with 4 concurrent workers.\n",
      "[Parallel(n_jobs=-1)]: Done  17 tasks      | elapsed:    1.9s\n",
      "[Parallel(n_jobs=-1)]: Done  90 tasks      | elapsed:   14.8s\n",
      "[Parallel(n_jobs=-1)]: Done 213 tasks      | elapsed:   35.1s\n",
      "[Parallel(n_jobs=-1)]: Done 384 tasks      | elapsed:  1.0min\n",
      "[Parallel(n_jobs=-1)]: Done 605 tasks      | elapsed:  1.5min\n",
      "[Parallel(n_jobs=-1)]: Done 874 tasks      | elapsed:  2.2min\n",
      "[Parallel(n_jobs=-1)]: Done 1193 tasks      | elapsed:  3.0min\n",
      "[Parallel(n_jobs=-1)]: Done 1560 tasks      | elapsed:  3.8min\n",
      "CPU times: user 5.79 s, sys: 315 ms, total: 6.1 s\n",
      "Wall time: 3min 54s\n",
      "[Parallel(n_jobs=-1)]: Done 1620 out of 1620 | elapsed:  3.9min finished\n"
     ]
    },
    {
     "output_type": "execute_result",
     "data": {
      "text/plain": [
       "GridSearchCV(cv=5,\n",
       "             estimator=XGBRegressor(base_score=None, booster=None,\n",
       "                                    colsample_bylevel=None,\n",
       "                                    colsample_bynode=None,\n",
       "                                    colsample_bytree=None, gamma=None,\n",
       "                                    gpu_id=None, importance_type='gain',\n",
       "                                    interaction_constraints=None,\n",
       "                                    learning_rate=None, max_delta_step=None,\n",
       "                                    max_depth=None, min_child_weight=None,\n",
       "                                    missing=nan, monotone_constraints=None,\n",
       "                                    n_estimators=100, n_jobs=...\n",
       "                                    scale_pos_weight=None, subsample=None,\n",
       "                                    tree_method=None, validate_parameters=None,\n",
       "                                    verbosity=None),\n",
       "             n_jobs=-1,\n",
       "             param_grid={'colsample_bytree': [0.5, 0.7],\n",
       "                         'learning_rate': [0.01, 0.1, 1],\n",
       "                         'max_depth': [3, 5, 7], 'min_child_weight': [1, 3, 5],\n",
       "                         'n_estimators': [100, 200, 500],\n",
       "                         'objective': ['reg:squarederror'],\n",
       "                         'subsample': [0.5, 0.7]},\n",
       "             scoring=make_scorer(rmsle, greater_is_better=False), verbose=4)"
      ]
     },
     "metadata": {},
     "execution_count": 48
    }
   ],
   "source": [
    "%%time\n",
    "a_xgb_params = {\n",
    "    'learning_rate': [0.01, 0.1, 1],\n",
    "    'max_depth': [3, 5, 7],\n",
    "    'min_child_weight': [1, 3, 5],\n",
    "    'subsample': [0.5, 0.7],\n",
    "    'colsample_bytree': [0.5, 0.7],\n",
    "    'n_estimators' : [100, 200, 500],\n",
    "    'objective': ['reg:squarederror']\n",
    "}\n",
    "\n",
    "a_xgb_search = GridSearchCV(estimator = XGBRegressor(),\n",
    "        param_grid = a_xgb_params,                        \n",
    "        scoring = make_scorer(rmsle, greater_is_better=False),\n",
    "        cv = 5,\n",
    "        n_jobs = -1,\n",
    "        verbose = 4)\n",
    "\n",
    "a_xgb_search.fit(X_a_train.to_numpy()[:10],y_a_train.to_numpy()[:10])"
   ]
  },
  {
   "cell_type": "code",
   "execution_count": 65,
   "metadata": {},
   "outputs": [
    {
     "output_type": "stream",
     "name": "stdout",
     "text": [
      "Best params:  {'colsample_bytree': 0.5, 'learning_rate': 1, 'max_depth': 3, 'min_child_weight': 5, 'n_estimators': 100, 'objective': 'reg:squarederror', 'subsample': 0.7}\nBest score:  -0.16280960430938485\n"
     ]
    }
   ],
   "source": [
    "show_gd_result(a_xgb_search)"
   ]
  },
  {
   "cell_type": "code",
   "execution_count": 51,
   "metadata": {},
   "outputs": [
    {
     "output_type": "execute_result",
     "data": {
      "text/plain": [
       "0.4913529736240679"
      ]
     },
     "metadata": {},
     "execution_count": 51
    }
   ],
   "source": [
    "rmsle(y_a_test.to_numpy().T, a_xgb_search.best_estimator_.predict(X_a_test.to_numpy()))"
   ]
  },
  {
   "cell_type": "code",
   "execution_count": 63,
   "metadata": {},
   "outputs": [],
   "source": [
    "df_a_xgb_result = pd.DataFrame(a_xgb_search.cv_results_)\n",
    "df_a_xgb_result.to_csv(\"./processed/strategy-a/result/xgb_result.csv\", index=False)"
   ]
  },
  {
   "source": [],
   "cell_type": "markdown",
   "metadata": {}
  },
  {
   "source": [
    "## Support Vector Regression"
   ],
   "cell_type": "markdown",
   "metadata": {}
  },
  {
   "cell_type": "code",
   "execution_count": 45,
   "metadata": {},
   "outputs": [
    {
     "output_type": "stream",
     "name": "stdout",
     "text": [
      "Fitting 5 folds for each of 308 candidates, totalling 1540 fits\n",
      "[Parallel(n_jobs=-1)]: Using backend LokyBackend with 4 concurrent workers.\n",
      "[Parallel(n_jobs=-1)]: Done  26 tasks      | elapsed:    1.6s\n",
      "[Parallel(n_jobs=-1)]: Done 172 tasks      | elapsed:    7.6s\n",
      "[Parallel(n_jobs=-1)]: Done 443 tasks      | elapsed:   18.7s\n",
      "[Parallel(n_jobs=-1)]: Done 620 tasks      | elapsed:   28.9s\n",
      "[Parallel(n_jobs=-1)]: Done 961 tasks      | elapsed:   50.4s\n",
      "[Parallel(n_jobs=-1)]: Done 1310 tasks      | elapsed:  1.4min\n",
      "[Parallel(n_jobs=-1)]: Done 1533 out of 1540 | elapsed:  1.6min remaining:    0.4s\n",
      "[Parallel(n_jobs=-1)]: Done 1540 out of 1540 | elapsed:  1.6min finished\n",
      "CPU times: user 6.08 s, sys: 411 ms, total: 6.49 s\n",
      "Wall time: 1min 36s\n"
     ]
    },
    {
     "output_type": "execute_result",
     "data": {
      "text/plain": [
       "GridSearchCV(cv=5, estimator=SVR(), n_jobs=-1,\n",
       "             param_grid={'C': [0.01, 0.1, 1, 10],\n",
       "                         'epsilon': [0.0001, 0.0005, 0.001, 0.005, 0.01, 0.05,\n",
       "                                     0.1, 0.5, 1, 5, 10],\n",
       "                         'gamma': [0.0001, 0.001, 0.005, 0.1, 1, 3, 5]},\n",
       "             scoring=make_scorer(rmsle, greater_is_better=False), verbose=4)"
      ]
     },
     "metadata": {},
     "execution_count": 45
    }
   ],
   "source": [
    "%%time\n",
    "a_svr_params = {\n",
    "    'C': [0.01, 0.1, 1, 10],\n",
    "    'epsilon': [0.0001, 0.0005, 0.001, 0.005, 0.01, 0.05, 0.1, 0.5, 1, 5, 10],\n",
    "    'gamma': [0.0001, 0.001, 0.005, 0.1, 1, 3, 5]\n",
    "}\n",
    "\n",
    "a_svr_search = GridSearchCV(estimator = SVR(kernel=\"rbf\"),\n",
    "        param_grid = a_svr_params,                        \n",
    "        scoring = make_scorer(rmsle, greater_is_better=False),\n",
    "        cv = 5,\n",
    "        n_jobs = -1,\n",
    "        verbose = 4)\n",
    "\n",
    "a_svr_search.fit(X_a_train.to_numpy()[:1000],y_a_train.to_numpy()[:1000])"
   ]
  },
  {
   "cell_type": "code",
   "execution_count": 66,
   "metadata": {},
   "outputs": [
    {
     "output_type": "stream",
     "name": "stdout",
     "text": [
      "Best params:  {'C': 0.1, 'epsilon': 0.1, 'gamma': 5}\nBest score:  -0.4790569299851186\n"
     ]
    }
   ],
   "source": [
    "show_gd_result(a_svr_search)"
   ]
  },
  {
   "cell_type": "code",
   "execution_count": 47,
   "metadata": {},
   "outputs": [
    {
     "output_type": "execute_result",
     "data": {
      "text/plain": [
       "0.4773990273135189"
      ]
     },
     "metadata": {},
     "execution_count": 47
    }
   ],
   "source": [
    "rmsle(y_a_test.to_numpy().T, a_svr_search.best_estimator_.predict(X_a_test.to_numpy()))"
   ]
  },
  {
   "cell_type": "code",
   "execution_count": 67,
   "metadata": {},
   "outputs": [],
   "source": [
    "df_a_svr_result = pd.DataFrame(a_svr_search.cv_results_)\n",
    "df_a_svr_result.to_csv(\"./processed/strategy-a/result/svr_result.csv\", index=False)"
   ]
  },
  {
   "source": [
    "# Strategy B"
   ],
   "cell_type": "markdown",
   "metadata": {}
  },
  {
   "cell_type": "code",
   "execution_count": 5,
   "metadata": {},
   "outputs": [],
   "source": [
    "X_b_train = pd.read_csv(\"./processed/strategy-b/train/X_train.csv\", index_col=[\"MemberID\"])\n",
    "y_b_train = pd.read_csv(\"./processed/strategy-b/train/y_train.csv\", index_col=[\"MemberID\"])\n",
    "X_b_test = pd.read_csv(\"./processed/strategy-b/test/X_test.csv\", index_col=[\"MemberID\"])\n",
    "y_b_test = pd.read_csv(\"./processed/strategy-b/test/y_test.csv\", index_col=[\"MemberID\"])"
   ]
  },
  {
   "source": [
    "## XGBoost"
   ],
   "cell_type": "markdown",
   "metadata": {}
  },
  {
   "cell_type": "code",
   "execution_count": 37,
   "metadata": {},
   "outputs": [
    {
     "output_type": "stream",
     "name": "stdout",
     "text": [
      "Fitting 5 folds for each of 324 candidates, totalling 1620 fits\n",
      "[Parallel(n_jobs=-1)]: Using backend LokyBackend with 4 concurrent workers.\n",
      "[Parallel(n_jobs=-1)]: Done  17 tasks      | elapsed:    2.2s\n",
      "[Parallel(n_jobs=-1)]: Done  90 tasks      | elapsed:   15.4s\n",
      "[Parallel(n_jobs=-1)]: Done 213 tasks      | elapsed:   35.8s\n",
      "[Parallel(n_jobs=-1)]: Done 384 tasks      | elapsed:  1.1min\n",
      "[Parallel(n_jobs=-1)]: Done 605 tasks      | elapsed:  1.8min\n",
      "[Parallel(n_jobs=-1)]: Done 874 tasks      | elapsed:  2.7min\n",
      "[Parallel(n_jobs=-1)]: Done 1193 tasks      | elapsed:  4.2min\n",
      "[Parallel(n_jobs=-1)]: Done 1560 tasks      | elapsed:  5.8min\n",
      "CPU times: user 6.67 s, sys: 466 ms, total: 7.14 s\n",
      "Wall time: 6min 9s\n",
      "[Parallel(n_jobs=-1)]: Done 1620 out of 1620 | elapsed:  6.2min finished\n"
     ]
    },
    {
     "output_type": "execute_result",
     "data": {
      "text/plain": [
       "GridSearchCV(cv=5,\n",
       "             estimator=XGBRegressor(base_score=None, booster=None,\n",
       "                                    colsample_bylevel=None,\n",
       "                                    colsample_bynode=None,\n",
       "                                    colsample_bytree=None, gamma=None,\n",
       "                                    gpu_id=None, importance_type='gain',\n",
       "                                    interaction_constraints=None,\n",
       "                                    learning_rate=None, max_delta_step=None,\n",
       "                                    max_depth=None, min_child_weight=None,\n",
       "                                    missing=nan, monotone_constraints=None,\n",
       "                                    n_estimators=100, n_jobs=...\n",
       "                                    scale_pos_weight=None, subsample=None,\n",
       "                                    tree_method=None, validate_parameters=None,\n",
       "                                    verbosity=None),\n",
       "             n_jobs=-1,\n",
       "             param_grid={'colsample_bytree': [0.5, 0.7],\n",
       "                         'learning_rate': [0.01, 0.1, 1],\n",
       "                         'max_depth': [3, 5, 7], 'min_child_weight': [1, 3, 5],\n",
       "                         'n_estimators': [100, 200, 500],\n",
       "                         'objective': ['reg:squarederror'],\n",
       "                         'subsample': [0.5, 0.7]},\n",
       "             scoring=make_scorer(rmsle, greater_is_better=False), verbose=4)"
      ]
     },
     "metadata": {},
     "execution_count": 37
    }
   ],
   "source": [
    "%%time\n",
    "b_xgb_params = {\n",
    "    'learning_rate': [0.01, 0.1, 1],\n",
    "    'max_depth': [3, 5, 7],\n",
    "    'min_child_weight': [1, 3, 5],\n",
    "    'subsample': [0.5, 0.7],\n",
    "    'colsample_bytree': [0.5, 0.7],\n",
    "    'n_estimators' : [100, 200, 500],\n",
    "    'objective': ['reg:squarederror']\n",
    "}\n",
    "\n",
    "b_xgb_search = GridSearchCV(estimator = XGBRegressor(),\n",
    "        param_grid = b_xgb_params,                        \n",
    "        scoring = make_scorer(rmsle, greater_is_better=False),\n",
    "        cv = 5,\n",
    "        n_jobs = -1,\n",
    "        verbose = 4)\n",
    "\n",
    "b_xgb_search.fit(X_b_train.to_numpy()[:10],y_b_train.to_numpy()[:10])"
   ]
  },
  {
   "cell_type": "code",
   "execution_count": 68,
   "metadata": {},
   "outputs": [
    {
     "output_type": "stream",
     "name": "stdout",
     "text": [
      "Best params:  {'colsample_bytree': 0.5, 'learning_rate': 0.01, 'max_depth': 3, 'min_child_weight': 5, 'n_estimators': 100, 'objective': 'reg:squarederror', 'subsample': 0.5}\nBest score:  -0.5278092811202181\n"
     ]
    }
   ],
   "source": [
    "show_gd_result(b_xgb_search)"
   ]
  },
  {
   "cell_type": "code",
   "execution_count": 53,
   "metadata": {},
   "outputs": [
    {
     "output_type": "execute_result",
     "data": {
      "text/plain": [
       "0.5281696912615652"
      ]
     },
     "metadata": {},
     "execution_count": 53
    }
   ],
   "source": [
    "rmsle(y_b_test.to_numpy().T, b_xgb_search.best_estimator_.predict(X_b_test.to_numpy()))"
   ]
  },
  {
   "cell_type": "code",
   "execution_count": 70,
   "metadata": {},
   "outputs": [],
   "source": [
    "df_b_xgb_result = pd.DataFrame(b_xgb_search.cv_results_)\n",
    "df_b_xgb_result.to_csv(\"./processed/strategy-b/result/xgb_result.csv\", index=False)"
   ]
  },
  {
   "source": [
    "## Support Vector Regression"
   ],
   "cell_type": "markdown",
   "metadata": {}
  },
  {
   "cell_type": "code",
   "execution_count": 55,
   "metadata": {},
   "outputs": [
    {
     "output_type": "stream",
     "name": "stdout",
     "text": [
      "Fitting 5 folds for each of 308 candidates, totalling 1540 fits\n",
      "[Parallel(n_jobs=-1)]: Using backend LokyBackend with 4 concurrent workers.\n",
      "[Parallel(n_jobs=-1)]: Done  17 tasks      | elapsed:    2.1s\n",
      "[Parallel(n_jobs=-1)]: Done 1228 tasks      | elapsed:    3.8s\n",
      "CPU times: user 1.05 s, sys: 91.7 ms, total: 1.14 s\n",
      "Wall time: 4.21 s\n",
      "[Parallel(n_jobs=-1)]: Done 1540 out of 1540 | elapsed:    4.1s finished\n"
     ]
    },
    {
     "output_type": "execute_result",
     "data": {
      "text/plain": [
       "GridSearchCV(cv=5, estimator=SVR(), n_jobs=-1,\n",
       "             param_grid={'C': [0.01, 0.1, 1, 10],\n",
       "                         'epsilon': [0.0001, 0.0005, 0.001, 0.005, 0.01, 0.05,\n",
       "                                     0.1, 0.5, 1, 5, 10],\n",
       "                         'gamma': [0.0001, 0.001, 0.005, 0.1, 1, 3, 5]},\n",
       "             scoring=make_scorer(rmsle, greater_is_better=False), verbose=4)"
      ]
     },
     "metadata": {},
     "execution_count": 55
    }
   ],
   "source": [
    "%%time\n",
    "b_svr_params = {\n",
    "    'C': [0.01, 0.1, 1, 10],\n",
    "    'epsilon': [0.0001, 0.0005, 0.001, 0.005, 0.01, 0.05, 0.1, 0.5, 1, 5, 10],\n",
    "    'gamma': [0.0001, 0.001, 0.005, 0.1, 1, 3, 5]\n",
    "}\n",
    "\n",
    "b_svr_search = GridSearchCV(estimator = SVR(),\n",
    "        param_grid = b_svr_params,                        \n",
    "        scoring = make_scorer(rmsle, greater_is_better=False),\n",
    "        cv = 5,\n",
    "        n_jobs = -1,\n",
    "        verbose = 4)\n",
    "\n",
    "b_svr_search.fit(X_b_train.to_numpy()[:10],y_b_train.to_numpy()[:10])"
   ]
  },
  {
   "cell_type": "code",
   "execution_count": 69,
   "metadata": {},
   "outputs": [
    {
     "output_type": "stream",
     "name": "stdout",
     "text": [
      "Best params:  {'C': 0.01, 'epsilon': 0.0001, 'gamma': 0.0001}\nBest score:  -0.35253388861232143\n"
     ]
    }
   ],
   "source": [
    "show_gd_result(b_svr_search)"
   ]
  },
  {
   "cell_type": "code",
   "execution_count": 58,
   "metadata": {},
   "outputs": [
    {
     "output_type": "execute_result",
     "data": {
      "text/plain": [
       "0.5062718790980713"
      ]
     },
     "metadata": {},
     "execution_count": 58
    }
   ],
   "source": [
    "rmsle(y_b_test.to_numpy().T, b_svr_search.best_estimator_.predict(X_b_test.to_numpy()))"
   ]
  },
  {
   "cell_type": "code",
   "execution_count": 71,
   "metadata": {},
   "outputs": [],
   "source": [
    "df_b_svr_result = pd.DataFrame(b_svr_search.cv_results_)\n",
    "df_b_svr_result.to_csv(\"./processed/strategy-b/result/svr_result.csv\", index=False)"
   ]
  },
  {
   "cell_type": "code",
   "execution_count": null,
   "metadata": {},
   "outputs": [],
   "source": []
  }
 ]
}