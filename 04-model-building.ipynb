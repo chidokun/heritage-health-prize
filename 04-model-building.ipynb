{
 "metadata": {
  "language_info": {
   "codemirror_mode": {
    "name": "ipython",
    "version": 3
   },
   "file_extension": ".py",
   "mimetype": "text/x-python",
   "name": "python",
   "nbconvert_exporter": "python",
   "pygments_lexer": "ipython3",
   "version": "3.7.7-final"
  },
  "orig_nbformat": 2,
  "kernelspec": {
   "name": "python38164bittuanconda0d1158ff6a3f4103ab371d8d1b87e888",
   "display_name": "Python 3.8.1 64-bit ('tuan': conda)",
   "language": "python"
  }
 },
 "nbformat": 4,
 "nbformat_minor": 2,
 "cells": [
  {
   "source": [
    "# Model Building and Evaluation"
   ],
   "cell_type": "markdown",
   "metadata": {}
  },
  {
   "cell_type": "code",
   "execution_count": 1,
   "metadata": {},
   "outputs": [],
   "source": [
    "import numpy as np # Linear algebra\n",
    "import pandas as pd # Data processing, CSV file I/O (e.g. pd.read_csv)\n",
    "\n",
    "import matplotlib.pyplot as plt  # Matlab-style plotting\n",
    "# Make sure plot shows immediately\n",
    "%matplotlib inline \n",
    "import seaborn as sns # Library for plotting\n",
    "color = sns.color_palette()\n",
    "sns.set_style('darkgrid')\n",
    "\n",
    "from sklearn.svm import SVR\n",
    "from sklearn.model_selection import GridSearchCV\n",
    "from sklearn.model_selection import learning_curve\n",
    "import xgboost as xg \n",
    "from sklearn.metrics import mean_squared_error"
   ]
  },
  {
   "cell_type": "code",
   "execution_count": 2,
   "metadata": {},
   "outputs": [],
   "source": [
    "def rmsle(y_true, y_pred):\n",
    "    return np.sqrt(np.mean(np.power(np.log(y_true + 1) - np.log(y_pred + 1),2)))"
   ]
  },
  {
   "source": [
    "# Strategy A"
   ],
   "cell_type": "markdown",
   "metadata": {}
  },
  {
   "cell_type": "code",
   "execution_count": 14,
   "metadata": {},
   "outputs": [],
   "source": [
    "X_a_train = pd.read_csv(\"./processed/strategy-a/train/X_train.csv\", index_col=[\"MemberID\"])\n",
    "y_a_train = pd.read_csv(\"./processed/strategy-a/train/y_train.csv\", index_col=[\"MemberID\"])\n",
    "X_a_test = pd.read_csv(\"./processed/strategy-a/test/X_test.csv\", index_col=[\"MemberID\"])\n",
    "y_a_test = pd.read_csv(\"./processed/strategy-a/test/y_test.csv\", index_col=[\"MemberID\"])"
   ]
  },
  {
   "source": [
    "## XGBoost"
   ],
   "cell_type": "markdown",
   "metadata": {}
  },
  {
   "cell_type": "code",
   "execution_count": 5,
   "metadata": {},
   "outputs": [],
   "source": [
    "xgb_r = xg.XGBRegressor(objective ='reg:linear', n_estimators = 10, seed = 123) "
   ]
  },
  {
   "cell_type": "code",
   "execution_count": 22,
   "metadata": {},
   "outputs": [
    {
     "output_type": "stream",
     "name": "stdout",
     "text": [
      "[00:40:48] WARNING: /Users/travis/build/dmlc/xgboost/src/objective/regression_obj.cu:170: reg:linear is now deprecated in favor of reg:squarederror.\n"
     ]
    },
    {
     "output_type": "execute_result",
     "data": {
      "text/plain": [
       "XGBRegressor(base_score=0.5, booster='gbtree', colsample_bylevel=1,\n",
       "             colsample_bynode=1, colsample_bytree=1, gamma=0, gpu_id=-1,\n",
       "             importance_type='gain', interaction_constraints='',\n",
       "             learning_rate=0.300000012, max_delta_step=0, max_depth=6,\n",
       "             min_child_weight=1, missing=nan, monotone_constraints='()',\n",
       "             n_estimators=10, n_jobs=4, num_parallel_tree=1,\n",
       "             objective='reg:linear', random_state=123, reg_alpha=0,\n",
       "             reg_lambda=1, scale_pos_weight=1, seed=123, subsample=1,\n",
       "             tree_method='exact', validate_parameters=1, verbosity=None)"
      ]
     },
     "metadata": {},
     "execution_count": 22
    }
   ],
   "source": [
    "xgb_r.fit(X_a_train, y_a_train) "
   ]
  },
  {
   "cell_type": "code",
   "execution_count": 26,
   "metadata": {},
   "outputs": [],
   "source": [
    "select_col = pd.DataFrame(xgb_r.feature_importances_, columns=[\"Importance\"], index=X_a_train.columns)"
   ]
  },
  {
   "cell_type": "code",
   "execution_count": 28,
   "metadata": {},
   "outputs": [],
   "source": [
    "select_col = select_col[select_col[\"Importance\"] > 0.01]"
   ]
  },
  {
   "cell_type": "code",
   "execution_count": 30,
   "metadata": {},
   "outputs": [
    {
     "output_type": "execute_result",
     "data": {
      "text/plain": [
       "          AgeAtFirstClaim  CharlsonIndexMax  ClaimCount   DSFSMin  \\\n",
       "MemberID                                                            \n",
       "210              0.418605          0.000000    0.166667  0.111111   \n",
       "3197             0.069767          0.000000    0.095238  0.111111   \n",
       "3889             0.000000          0.333333    0.285714  0.111111   \n",
       "4187             0.651163          0.000000    0.071429  0.111111   \n",
       "9063             0.767442          0.000000    0.071429  0.111111   \n",
       "...                   ...               ...         ...       ...   \n",
       "99995554         0.534884          0.000000    0.809524  0.111111   \n",
       "99996214         0.534884          0.000000    0.000000  0.111111   \n",
       "99997485         0.186047          0.000000    0.000000  0.111111   \n",
       "99997895         0.534884          0.000000    0.309524  0.111111   \n",
       "99998627         0.418605          0.333333    0.214286  0.111111   \n",
       "\n",
       "          DrugCountAvg  LabCountAvg  LengthOfStaySum  PayDelayMin  \\\n",
       "MemberID                                                            \n",
       "210           0.238095     0.200000         0.002375     0.135802   \n",
       "3197          0.178571     0.000000         0.000000     0.222222   \n",
       "3889          0.428571     1.000000         0.003563     0.203704   \n",
       "4187          0.871429     0.000000         0.000000     0.179012   \n",
       "9063          0.142857     0.000000         0.000000     0.240741   \n",
       "...                ...          ...              ...          ...   \n",
       "99995554      0.285714     0.366667         0.000000     0.141975   \n",
       "99996214      0.000000     0.000000         0.000000     0.117284   \n",
       "99997485      0.000000     0.000000         0.000000     0.802469   \n",
       "99997895      0.000000     0.500000         0.000000     0.074074   \n",
       "99998627      0.142857     0.500000         0.002375     0.179012   \n",
       "\n",
       "          PlaceSvcCount_Independent Lab  PlaceSvcCount_Inpatient Hospital  \\\n",
       "MemberID                                                                    \n",
       "210                            0.046512                               0.0   \n",
       "3197                           0.000000                               0.0   \n",
       "3889                           0.093023                               0.0   \n",
       "4187                           0.000000                               0.0   \n",
       "9063                           0.000000                               0.0   \n",
       "...                                 ...                               ...   \n",
       "99995554                       0.162791                               0.0   \n",
       "99996214                       0.000000                               0.0   \n",
       "99997485                       0.000000                               0.0   \n",
       "99997895                       0.162791                               0.0   \n",
       "99998627                       0.046512                               0.0   \n",
       "\n",
       "          ...  PrimaryConditionGroupCount_RESPR4  \\\n",
       "MemberID  ...                                      \n",
       "210       ...                           0.000000   \n",
       "3197      ...                           0.102564   \n",
       "3889      ...                           0.000000   \n",
       "4187      ...                           0.000000   \n",
       "9063      ...                           0.000000   \n",
       "...       ...                                ...   \n",
       "99995554  ...                           0.000000   \n",
       "99996214  ...                           0.000000   \n",
       "99997485  ...                           0.000000   \n",
       "99997895  ...                           0.025641   \n",
       "99998627  ...                           0.000000   \n",
       "\n",
       "          PrimaryConditionGroupCount_ROAMI  ProcedureGroupCount_EM  \\\n",
       "MemberID                                                             \n",
       "210                               0.000000                0.025641   \n",
       "3197                              0.000000                0.102564   \n",
       "3889                              0.000000                0.128205   \n",
       "4187                              0.000000                0.076923   \n",
       "9063                              0.000000                0.051282   \n",
       "...                                    ...                     ...   \n",
       "99995554                          0.000000                0.102564   \n",
       "99996214                          0.000000                0.025641   \n",
       "99997485                          0.000000                0.025641   \n",
       "99997895                          0.000000                0.153846   \n",
       "99998627                          0.038462                0.051282   \n",
       "\n",
       "          ProcedureGroupCount_MED  ProcedureGroupCount_SCS  \\\n",
       "MemberID                                                     \n",
       "210                      0.117647                 0.047619   \n",
       "3197                     0.000000                 0.000000   \n",
       "3889                     0.000000                 0.047619   \n",
       "4187                     0.000000                 0.000000   \n",
       "9063                     0.000000                 0.000000   \n",
       "...                           ...                      ...   \n",
       "99995554                 0.705882                 0.190476   \n",
       "99996214                 0.000000                 0.000000   \n",
       "99997485                 0.000000                 0.000000   \n",
       "99997895                 0.000000                 0.142857   \n",
       "99998627                 0.029412                 0.095238   \n",
       "\n",
       "          ProcedureGroupCount_SIS  Sex_NaN  SpecialtyCount_Emergency  \\\n",
       "MemberID                                                               \n",
       "210                           0.0      1.0                  0.074074   \n",
       "3197                          0.0      0.0                  0.074074   \n",
       "3889                          0.0      0.0                  0.148148   \n",
       "4187                          0.0      0.0                  0.000000   \n",
       "9063                          0.0      0.0                  0.000000   \n",
       "...                           ...      ...                       ...   \n",
       "99995554                      0.0      0.0                  0.000000   \n",
       "99996214                      0.0      0.0                  0.000000   \n",
       "99997485                      0.0      0.0                  0.000000   \n",
       "99997895                      0.0      0.0                  0.000000   \n",
       "99998627                      0.0      0.0                  0.000000   \n",
       "\n",
       "          SpecialtyCount_Internal  SpecialtyCount_Laboratory  \n",
       "MemberID                                                      \n",
       "210                      0.102564                   0.046512  \n",
       "3197                     0.000000                   0.000000  \n",
       "3889                     0.102564                   0.093023  \n",
       "4187                     0.051282                   0.000000  \n",
       "9063                     0.076923                   0.000000  \n",
       "...                           ...                        ...  \n",
       "99995554                 0.666667                   0.162791  \n",
       "99996214                 0.000000                   0.000000  \n",
       "99997485                 0.000000                   0.000000  \n",
       "99997895                 0.102564                   0.162791  \n",
       "99998627                 0.102564                   0.046512  \n",
       "\n",
       "[76038 rows x 31 columns]"
      ],
      "text/html": "<div>\n<style scoped>\n    .dataframe tbody tr th:only-of-type {\n        vertical-align: middle;\n    }\n\n    .dataframe tbody tr th {\n        vertical-align: top;\n    }\n\n    .dataframe thead th {\n        text-align: right;\n    }\n</style>\n<table border=\"1\" class=\"dataframe\">\n  <thead>\n    <tr style=\"text-align: right;\">\n      <th></th>\n      <th>AgeAtFirstClaim</th>\n      <th>CharlsonIndexMax</th>\n      <th>ClaimCount</th>\n      <th>DSFSMin</th>\n      <th>DrugCountAvg</th>\n      <th>LabCountAvg</th>\n      <th>LengthOfStaySum</th>\n      <th>PayDelayMin</th>\n      <th>PlaceSvcCount_Independent Lab</th>\n      <th>PlaceSvcCount_Inpatient Hospital</th>\n      <th>...</th>\n      <th>PrimaryConditionGroupCount_RESPR4</th>\n      <th>PrimaryConditionGroupCount_ROAMI</th>\n      <th>ProcedureGroupCount_EM</th>\n      <th>ProcedureGroupCount_MED</th>\n      <th>ProcedureGroupCount_SCS</th>\n      <th>ProcedureGroupCount_SIS</th>\n      <th>Sex_NaN</th>\n      <th>SpecialtyCount_Emergency</th>\n      <th>SpecialtyCount_Internal</th>\n      <th>SpecialtyCount_Laboratory</th>\n    </tr>\n    <tr>\n      <th>MemberID</th>\n      <th></th>\n      <th></th>\n      <th></th>\n      <th></th>\n      <th></th>\n      <th></th>\n      <th></th>\n      <th></th>\n      <th></th>\n      <th></th>\n      <th></th>\n      <th></th>\n      <th></th>\n      <th></th>\n      <th></th>\n      <th></th>\n      <th></th>\n      <th></th>\n      <th></th>\n      <th></th>\n      <th></th>\n    </tr>\n  </thead>\n  <tbody>\n    <tr>\n      <th>210</th>\n      <td>0.418605</td>\n      <td>0.000000</td>\n      <td>0.166667</td>\n      <td>0.111111</td>\n      <td>0.238095</td>\n      <td>0.200000</td>\n      <td>0.002375</td>\n      <td>0.135802</td>\n      <td>0.046512</td>\n      <td>0.0</td>\n      <td>...</td>\n      <td>0.000000</td>\n      <td>0.000000</td>\n      <td>0.025641</td>\n      <td>0.117647</td>\n      <td>0.047619</td>\n      <td>0.0</td>\n      <td>1.0</td>\n      <td>0.074074</td>\n      <td>0.102564</td>\n      <td>0.046512</td>\n    </tr>\n    <tr>\n      <th>3197</th>\n      <td>0.069767</td>\n      <td>0.000000</td>\n      <td>0.095238</td>\n      <td>0.111111</td>\n      <td>0.178571</td>\n      <td>0.000000</td>\n      <td>0.000000</td>\n      <td>0.222222</td>\n      <td>0.000000</td>\n      <td>0.0</td>\n      <td>...</td>\n      <td>0.102564</td>\n      <td>0.000000</td>\n      <td>0.102564</td>\n      <td>0.000000</td>\n      <td>0.000000</td>\n      <td>0.0</td>\n      <td>0.0</td>\n      <td>0.074074</td>\n      <td>0.000000</td>\n      <td>0.000000</td>\n    </tr>\n    <tr>\n      <th>3889</th>\n      <td>0.000000</td>\n      <td>0.333333</td>\n      <td>0.285714</td>\n      <td>0.111111</td>\n      <td>0.428571</td>\n      <td>1.000000</td>\n      <td>0.003563</td>\n      <td>0.203704</td>\n      <td>0.093023</td>\n      <td>0.0</td>\n      <td>...</td>\n      <td>0.000000</td>\n      <td>0.000000</td>\n      <td>0.128205</td>\n      <td>0.000000</td>\n      <td>0.047619</td>\n      <td>0.0</td>\n      <td>0.0</td>\n      <td>0.148148</td>\n      <td>0.102564</td>\n      <td>0.093023</td>\n    </tr>\n    <tr>\n      <th>4187</th>\n      <td>0.651163</td>\n      <td>0.000000</td>\n      <td>0.071429</td>\n      <td>0.111111</td>\n      <td>0.871429</td>\n      <td>0.000000</td>\n      <td>0.000000</td>\n      <td>0.179012</td>\n      <td>0.000000</td>\n      <td>0.0</td>\n      <td>...</td>\n      <td>0.000000</td>\n      <td>0.000000</td>\n      <td>0.076923</td>\n      <td>0.000000</td>\n      <td>0.000000</td>\n      <td>0.0</td>\n      <td>0.0</td>\n      <td>0.000000</td>\n      <td>0.051282</td>\n      <td>0.000000</td>\n    </tr>\n    <tr>\n      <th>9063</th>\n      <td>0.767442</td>\n      <td>0.000000</td>\n      <td>0.071429</td>\n      <td>0.111111</td>\n      <td>0.142857</td>\n      <td>0.000000</td>\n      <td>0.000000</td>\n      <td>0.240741</td>\n      <td>0.000000</td>\n      <td>0.0</td>\n      <td>...</td>\n      <td>0.000000</td>\n      <td>0.000000</td>\n      <td>0.051282</td>\n      <td>0.000000</td>\n      <td>0.000000</td>\n      <td>0.0</td>\n      <td>0.0</td>\n      <td>0.000000</td>\n      <td>0.076923</td>\n      <td>0.000000</td>\n    </tr>\n    <tr>\n      <th>...</th>\n      <td>...</td>\n      <td>...</td>\n      <td>...</td>\n      <td>...</td>\n      <td>...</td>\n      <td>...</td>\n      <td>...</td>\n      <td>...</td>\n      <td>...</td>\n      <td>...</td>\n      <td>...</td>\n      <td>...</td>\n      <td>...</td>\n      <td>...</td>\n      <td>...</td>\n      <td>...</td>\n      <td>...</td>\n      <td>...</td>\n      <td>...</td>\n      <td>...</td>\n      <td>...</td>\n    </tr>\n    <tr>\n      <th>99995554</th>\n      <td>0.534884</td>\n      <td>0.000000</td>\n      <td>0.809524</td>\n      <td>0.111111</td>\n      <td>0.285714</td>\n      <td>0.366667</td>\n      <td>0.000000</td>\n      <td>0.141975</td>\n      <td>0.162791</td>\n      <td>0.0</td>\n      <td>...</td>\n      <td>0.000000</td>\n      <td>0.000000</td>\n      <td>0.102564</td>\n      <td>0.705882</td>\n      <td>0.190476</td>\n      <td>0.0</td>\n      <td>0.0</td>\n      <td>0.000000</td>\n      <td>0.666667</td>\n      <td>0.162791</td>\n    </tr>\n    <tr>\n      <th>99996214</th>\n      <td>0.534884</td>\n      <td>0.000000</td>\n      <td>0.000000</td>\n      <td>0.111111</td>\n      <td>0.000000</td>\n      <td>0.000000</td>\n      <td>0.000000</td>\n      <td>0.117284</td>\n      <td>0.000000</td>\n      <td>0.0</td>\n      <td>...</td>\n      <td>0.000000</td>\n      <td>0.000000</td>\n      <td>0.025641</td>\n      <td>0.000000</td>\n      <td>0.000000</td>\n      <td>0.0</td>\n      <td>0.0</td>\n      <td>0.000000</td>\n      <td>0.000000</td>\n      <td>0.000000</td>\n    </tr>\n    <tr>\n      <th>99997485</th>\n      <td>0.186047</td>\n      <td>0.000000</td>\n      <td>0.000000</td>\n      <td>0.111111</td>\n      <td>0.000000</td>\n      <td>0.000000</td>\n      <td>0.000000</td>\n      <td>0.802469</td>\n      <td>0.000000</td>\n      <td>0.0</td>\n      <td>...</td>\n      <td>0.000000</td>\n      <td>0.000000</td>\n      <td>0.025641</td>\n      <td>0.000000</td>\n      <td>0.000000</td>\n      <td>0.0</td>\n      <td>0.0</td>\n      <td>0.000000</td>\n      <td>0.000000</td>\n      <td>0.000000</td>\n    </tr>\n    <tr>\n      <th>99997895</th>\n      <td>0.534884</td>\n      <td>0.000000</td>\n      <td>0.309524</td>\n      <td>0.111111</td>\n      <td>0.000000</td>\n      <td>0.500000</td>\n      <td>0.000000</td>\n      <td>0.074074</td>\n      <td>0.162791</td>\n      <td>0.0</td>\n      <td>...</td>\n      <td>0.025641</td>\n      <td>0.000000</td>\n      <td>0.153846</td>\n      <td>0.000000</td>\n      <td>0.142857</td>\n      <td>0.0</td>\n      <td>0.0</td>\n      <td>0.000000</td>\n      <td>0.102564</td>\n      <td>0.162791</td>\n    </tr>\n    <tr>\n      <th>99998627</th>\n      <td>0.418605</td>\n      <td>0.333333</td>\n      <td>0.214286</td>\n      <td>0.111111</td>\n      <td>0.142857</td>\n      <td>0.500000</td>\n      <td>0.002375</td>\n      <td>0.179012</td>\n      <td>0.046512</td>\n      <td>0.0</td>\n      <td>...</td>\n      <td>0.000000</td>\n      <td>0.038462</td>\n      <td>0.051282</td>\n      <td>0.029412</td>\n      <td>0.095238</td>\n      <td>0.0</td>\n      <td>0.0</td>\n      <td>0.000000</td>\n      <td>0.102564</td>\n      <td>0.046512</td>\n    </tr>\n  </tbody>\n</table>\n<p>76038 rows × 31 columns</p>\n</div>"
     },
     "metadata": {},
     "execution_count": 30
    }
   ],
   "source": [
    "X_a_train[select_col.index]"
   ]
  },
  {
   "cell_type": "code",
   "execution_count": 31,
   "metadata": {},
   "outputs": [
    {
     "output_type": "stream",
     "name": "stdout",
     "text": [
      "[00:46:25] WARNING: /Users/travis/build/dmlc/xgboost/src/objective/regression_obj.cu:170: reg:linear is now deprecated in favor of reg:squarederror.\n"
     ]
    },
    {
     "output_type": "execute_result",
     "data": {
      "text/plain": [
       "XGBRegressor(base_score=0.5, booster='gbtree', colsample_bylevel=1,\n",
       "             colsample_bynode=1, colsample_bytree=1, gamma=0, gpu_id=-1,\n",
       "             importance_type='gain', interaction_constraints='',\n",
       "             learning_rate=0.300000012, max_delta_step=0, max_depth=6,\n",
       "             min_child_weight=1, missing=nan, monotone_constraints='()',\n",
       "             n_estimators=10, n_jobs=4, num_parallel_tree=1,\n",
       "             objective='reg:linear', random_state=123, reg_alpha=0,\n",
       "             reg_lambda=1, scale_pos_weight=1, seed=123, subsample=1,\n",
       "             tree_method='exact', validate_parameters=1, verbosity=None)"
      ]
     },
     "metadata": {},
     "execution_count": 31
    }
   ],
   "source": [
    "xgb_r.fit(X_a_train[select_col.index], y_a_train)"
   ]
  },
  {
   "cell_type": "code",
   "execution_count": 8,
   "metadata": {},
   "outputs": [
    {
     "output_type": "execute_result",
     "data": {
      "text/plain": [
       "<matplotlib.axes._subplots.AxesSubplot at 0x7fe153c5a090>"
      ]
     },
     "metadata": {},
     "execution_count": 8
    },
    {
     "output_type": "display_data",
     "data": {
      "text/plain": "<Figure size 432x288 with 1 Axes>",
      "image/svg+xml": "<?xml version=\"1.0\" encoding=\"utf-8\" standalone=\"no\"?>\n<!DOCTYPE svg PUBLIC \"-//W3C//DTD SVG 1.1//EN\"\n  \"http://www.w3.org/Graphics/SVG/1.1/DTD/svg11.dtd\">\n<!-- Created with matplotlib (https://matplotlib.org/) -->\n<svg height=\"247.985312pt\" version=\"1.1\" viewBox=\"0 0 361.710937 247.985312\" width=\"361.710937pt\" xmlns=\"http://www.w3.org/2000/svg\" xmlns:xlink=\"http://www.w3.org/1999/xlink\">\n <defs>\n  <style type=\"text/css\">\n*{stroke-linecap:butt;stroke-linejoin:round;}\n  </style>\n </defs>\n <g id=\"figure_1\">\n  <g id=\"patch_1\">\n   <path d=\"M 0 247.985312 \nL 361.710937 247.985312 \nL 361.710937 0 \nL 0 0 \nz\n\" style=\"fill:#ffffff;\"/>\n  </g>\n  <g id=\"axes_1\">\n   <g id=\"patch_2\">\n    <path d=\"M 19.710937 224.64 \nL 354.510938 224.64 \nL 354.510938 7.2 \nL 19.710937 7.2 \nz\n\" style=\"fill:#eaeaf2;\"/>\n   </g>\n   <g id=\"matplotlib.axis_1\">\n    <g id=\"xtick_1\">\n     <g id=\"line2d_1\">\n      <path clip-path=\"url(#pb7bdfe82ef)\" d=\"M 19.710937 224.64 \nL 19.710937 7.2 \n\" style=\"fill:none;stroke:#ffffff;stroke-linecap:round;stroke-width:0.8;\"/>\n     </g>\n     <g id=\"text_1\">\n      <!-- 0.000 -->\n      <defs>\n       <path d=\"M 4.15625 35.296875 \nQ 4.15625 48 6.765625 55.734375 \nQ 9.375 63.484375 14.515625 67.671875 \nQ 19.671875 71.875 27.484375 71.875 \nQ 33.25 71.875 37.59375 69.546875 \nQ 41.9375 67.234375 44.765625 62.859375 \nQ 47.609375 58.5 49.21875 52.21875 \nQ 50.828125 45.953125 50.828125 35.296875 \nQ 50.828125 22.703125 48.234375 14.96875 \nQ 45.65625 7.234375 40.5 3 \nQ 35.359375 -1.21875 27.484375 -1.21875 \nQ 17.140625 -1.21875 11.234375 6.203125 \nQ 4.15625 15.140625 4.15625 35.296875 \nz\nM 13.1875 35.296875 \nQ 13.1875 17.671875 17.3125 11.828125 \nQ 21.4375 6 27.484375 6 \nQ 33.546875 6 37.671875 11.859375 \nQ 41.796875 17.71875 41.796875 35.296875 \nQ 41.796875 52.984375 37.671875 58.78125 \nQ 33.546875 64.59375 27.390625 64.59375 \nQ 21.34375 64.59375 17.71875 59.46875 \nQ 13.1875 52.9375 13.1875 35.296875 \nz\n\" id=\"ArialMT-48\"/>\n       <path d=\"M 9.078125 0 \nL 9.078125 10.015625 \nL 19.09375 10.015625 \nL 19.09375 0 \nz\n\" id=\"ArialMT-46\"/>\n      </defs>\n      <g style=\"fill:#262626;\" transform=\"translate(7.2 238.797812)scale(0.1 -0.1)\">\n       <use xlink:href=\"#ArialMT-48\"/>\n       <use x=\"55.615234\" xlink:href=\"#ArialMT-46\"/>\n       <use x=\"83.398438\" xlink:href=\"#ArialMT-48\"/>\n       <use x=\"139.013672\" xlink:href=\"#ArialMT-48\"/>\n       <use x=\"194.628906\" xlink:href=\"#ArialMT-48\"/>\n      </g>\n     </g>\n    </g>\n    <g id=\"xtick_2\">\n     <g id=\"line2d_2\">\n      <path clip-path=\"url(#pb7bdfe82ef)\" d=\"M 78.505461 224.64 \nL 78.505461 7.2 \n\" style=\"fill:none;stroke:#ffffff;stroke-linecap:round;stroke-width:0.8;\"/>\n     </g>\n     <g id=\"text_2\">\n      <!-- 0.002 -->\n      <defs>\n       <path d=\"M 50.34375 8.453125 \nL 50.34375 0 \nL 3.03125 0 \nQ 2.9375 3.171875 4.046875 6.109375 \nQ 5.859375 10.9375 9.828125 15.625 \nQ 13.8125 20.3125 21.34375 26.46875 \nQ 33.015625 36.03125 37.109375 41.625 \nQ 41.21875 47.21875 41.21875 52.203125 \nQ 41.21875 57.421875 37.46875 61 \nQ 33.734375 64.59375 27.734375 64.59375 \nQ 21.390625 64.59375 17.578125 60.78125 \nQ 13.765625 56.984375 13.71875 50.25 \nL 4.6875 51.171875 \nQ 5.609375 61.28125 11.65625 66.578125 \nQ 17.71875 71.875 27.9375 71.875 \nQ 38.234375 71.875 44.234375 66.15625 \nQ 50.25 60.453125 50.25 52 \nQ 50.25 47.703125 48.484375 43.546875 \nQ 46.734375 39.40625 42.65625 34.8125 \nQ 38.578125 30.21875 29.109375 22.21875 \nQ 21.1875 15.578125 18.9375 13.203125 \nQ 16.703125 10.84375 15.234375 8.453125 \nz\n\" id=\"ArialMT-50\"/>\n      </defs>\n      <g style=\"fill:#262626;\" transform=\"translate(65.994523 238.797812)scale(0.1 -0.1)\">\n       <use xlink:href=\"#ArialMT-48\"/>\n       <use x=\"55.615234\" xlink:href=\"#ArialMT-46\"/>\n       <use x=\"83.398438\" xlink:href=\"#ArialMT-48\"/>\n       <use x=\"139.013672\" xlink:href=\"#ArialMT-48\"/>\n       <use x=\"194.628906\" xlink:href=\"#ArialMT-50\"/>\n      </g>\n     </g>\n    </g>\n    <g id=\"xtick_3\">\n     <g id=\"line2d_3\">\n      <path clip-path=\"url(#pb7bdfe82ef)\" d=\"M 137.299984 224.64 \nL 137.299984 7.2 \n\" style=\"fill:none;stroke:#ffffff;stroke-linecap:round;stroke-width:0.8;\"/>\n     </g>\n     <g id=\"text_3\">\n      <!-- 0.004 -->\n      <defs>\n       <path d=\"M 32.328125 0 \nL 32.328125 17.140625 \nL 1.265625 17.140625 \nL 1.265625 25.203125 \nL 33.9375 71.578125 \nL 41.109375 71.578125 \nL 41.109375 25.203125 \nL 50.78125 25.203125 \nL 50.78125 17.140625 \nL 41.109375 17.140625 \nL 41.109375 0 \nz\nM 32.328125 25.203125 \nL 32.328125 57.46875 \nL 9.90625 25.203125 \nz\n\" id=\"ArialMT-52\"/>\n      </defs>\n      <g style=\"fill:#262626;\" transform=\"translate(124.789046 238.797812)scale(0.1 -0.1)\">\n       <use xlink:href=\"#ArialMT-48\"/>\n       <use x=\"55.615234\" xlink:href=\"#ArialMT-46\"/>\n       <use x=\"83.398438\" xlink:href=\"#ArialMT-48\"/>\n       <use x=\"139.013672\" xlink:href=\"#ArialMT-48\"/>\n       <use x=\"194.628906\" xlink:href=\"#ArialMT-52\"/>\n      </g>\n     </g>\n    </g>\n    <g id=\"xtick_4\">\n     <g id=\"line2d_4\">\n      <path clip-path=\"url(#pb7bdfe82ef)\" d=\"M 196.094507 224.64 \nL 196.094507 7.2 \n\" style=\"fill:none;stroke:#ffffff;stroke-linecap:round;stroke-width:0.8;\"/>\n     </g>\n     <g id=\"text_4\">\n      <!-- 0.006 -->\n      <defs>\n       <path d=\"M 49.75 54.046875 \nL 41.015625 53.375 \nQ 39.84375 58.546875 37.703125 60.890625 \nQ 34.125 64.65625 28.90625 64.65625 \nQ 24.703125 64.65625 21.53125 62.3125 \nQ 17.390625 59.28125 14.984375 53.46875 \nQ 12.59375 47.65625 12.5 36.921875 \nQ 15.671875 41.75 20.265625 44.09375 \nQ 24.859375 46.4375 29.890625 46.4375 \nQ 38.671875 46.4375 44.84375 39.96875 \nQ 51.03125 33.5 51.03125 23.25 \nQ 51.03125 16.5 48.125 10.71875 \nQ 45.21875 4.9375 40.140625 1.859375 \nQ 35.0625 -1.21875 28.609375 -1.21875 \nQ 17.625 -1.21875 10.6875 6.859375 \nQ 3.765625 14.9375 3.765625 33.5 \nQ 3.765625 54.25 11.421875 63.671875 \nQ 18.109375 71.875 29.4375 71.875 \nQ 37.890625 71.875 43.28125 67.140625 \nQ 48.6875 62.40625 49.75 54.046875 \nz\nM 13.875 23.1875 \nQ 13.875 18.65625 15.796875 14.5 \nQ 17.71875 10.359375 21.1875 8.171875 \nQ 24.65625 6 28.46875 6 \nQ 34.03125 6 38.03125 10.484375 \nQ 42.046875 14.984375 42.046875 22.703125 \nQ 42.046875 30.125 38.078125 34.390625 \nQ 34.125 38.671875 28.125 38.671875 \nQ 22.171875 38.671875 18.015625 34.390625 \nQ 13.875 30.125 13.875 23.1875 \nz\n\" id=\"ArialMT-54\"/>\n      </defs>\n      <g style=\"fill:#262626;\" transform=\"translate(183.583569 238.797812)scale(0.1 -0.1)\">\n       <use xlink:href=\"#ArialMT-48\"/>\n       <use x=\"55.615234\" xlink:href=\"#ArialMT-46\"/>\n       <use x=\"83.398438\" xlink:href=\"#ArialMT-48\"/>\n       <use x=\"139.013672\" xlink:href=\"#ArialMT-48\"/>\n       <use x=\"194.628906\" xlink:href=\"#ArialMT-54\"/>\n      </g>\n     </g>\n    </g>\n    <g id=\"xtick_5\">\n     <g id=\"line2d_5\">\n      <path clip-path=\"url(#pb7bdfe82ef)\" d=\"M 254.88903 224.64 \nL 254.88903 7.2 \n\" style=\"fill:none;stroke:#ffffff;stroke-linecap:round;stroke-width:0.8;\"/>\n     </g>\n     <g id=\"text_5\">\n      <!-- 0.008 -->\n      <defs>\n       <path d=\"M 17.671875 38.8125 \nQ 12.203125 40.828125 9.5625 44.53125 \nQ 6.9375 48.25 6.9375 53.421875 \nQ 6.9375 61.234375 12.546875 66.546875 \nQ 18.171875 71.875 27.484375 71.875 \nQ 36.859375 71.875 42.578125 66.421875 \nQ 48.296875 60.984375 48.296875 53.171875 \nQ 48.296875 48.1875 45.671875 44.5 \nQ 43.0625 40.828125 37.75 38.8125 \nQ 44.34375 36.671875 47.78125 31.875 \nQ 51.21875 27.09375 51.21875 20.453125 \nQ 51.21875 11.28125 44.71875 5.03125 \nQ 38.234375 -1.21875 27.640625 -1.21875 \nQ 17.046875 -1.21875 10.546875 5.046875 \nQ 4.046875 11.328125 4.046875 20.703125 \nQ 4.046875 27.6875 7.59375 32.390625 \nQ 11.140625 37.109375 17.671875 38.8125 \nz\nM 15.921875 53.71875 \nQ 15.921875 48.640625 19.1875 45.40625 \nQ 22.46875 42.1875 27.6875 42.1875 \nQ 32.765625 42.1875 36.015625 45.375 \nQ 39.265625 48.578125 39.265625 53.21875 \nQ 39.265625 58.0625 35.90625 61.359375 \nQ 32.5625 64.65625 27.59375 64.65625 \nQ 22.5625 64.65625 19.234375 61.421875 \nQ 15.921875 58.203125 15.921875 53.71875 \nz\nM 13.09375 20.65625 \nQ 13.09375 16.890625 14.875 13.375 \nQ 16.65625 9.859375 20.171875 7.921875 \nQ 23.6875 6 27.734375 6 \nQ 34.03125 6 38.125 10.046875 \nQ 42.234375 14.109375 42.234375 20.359375 \nQ 42.234375 26.703125 38.015625 30.859375 \nQ 33.796875 35.015625 27.4375 35.015625 \nQ 21.234375 35.015625 17.15625 30.90625 \nQ 13.09375 26.8125 13.09375 20.65625 \nz\n\" id=\"ArialMT-56\"/>\n      </defs>\n      <g style=\"fill:#262626;\" transform=\"translate(242.378092 238.797812)scale(0.1 -0.1)\">\n       <use xlink:href=\"#ArialMT-48\"/>\n       <use x=\"55.615234\" xlink:href=\"#ArialMT-46\"/>\n       <use x=\"83.398438\" xlink:href=\"#ArialMT-48\"/>\n       <use x=\"139.013672\" xlink:href=\"#ArialMT-48\"/>\n       <use x=\"194.628906\" xlink:href=\"#ArialMT-56\"/>\n      </g>\n     </g>\n    </g>\n    <g id=\"xtick_6\">\n     <g id=\"line2d_6\">\n      <path clip-path=\"url(#pb7bdfe82ef)\" d=\"M 313.683553 224.64 \nL 313.683553 7.2 \n\" style=\"fill:none;stroke:#ffffff;stroke-linecap:round;stroke-width:0.8;\"/>\n     </g>\n     <g id=\"text_6\">\n      <!-- 0.010 -->\n      <defs>\n       <path d=\"M 37.25 0 \nL 28.46875 0 \nL 28.46875 56 \nQ 25.296875 52.984375 20.140625 49.953125 \nQ 14.984375 46.921875 10.890625 45.40625 \nL 10.890625 53.90625 \nQ 18.265625 57.375 23.78125 62.296875 \nQ 29.296875 67.234375 31.59375 71.875 \nL 37.25 71.875 \nz\n\" id=\"ArialMT-49\"/>\n      </defs>\n      <g style=\"fill:#262626;\" transform=\"translate(301.172615 238.797812)scale(0.1 -0.1)\">\n       <use xlink:href=\"#ArialMT-48\"/>\n       <use x=\"55.615234\" xlink:href=\"#ArialMT-46\"/>\n       <use x=\"83.398438\" xlink:href=\"#ArialMT-48\"/>\n       <use x=\"139.013672\" xlink:href=\"#ArialMT-49\"/>\n       <use x=\"194.628906\" xlink:href=\"#ArialMT-48\"/>\n      </g>\n     </g>\n    </g>\n   </g>\n   <g id=\"matplotlib.axis_2\">\n    <g id=\"ytick_1\"/>\n   </g>\n   <g id=\"patch_3\">\n    <path clip-path=\"url(#pb7bdfe82ef)\" d=\"M 19.710937 28.944 \nL 291.907833 28.944 \nL 291.907833 202.896 \nL 19.710937 202.896 \nz\n\" style=\"fill:#3274a1;stroke:#ffffff;stroke-linejoin:miter;\"/>\n   </g>\n   <g id=\"line2d_7\">\n    <path clip-path=\"url(#pb7bdfe82ef)\" d=\"M 249.074792 115.92 \nL 338.56808 115.92 \n\" style=\"fill:none;stroke:#424242;stroke-linecap:round;stroke-width:2.7;\"/>\n   </g>\n   <g id=\"patch_4\">\n    <path d=\"M 19.710937 224.64 \nL 19.710937 7.2 \n\" style=\"fill:none;stroke:#ffffff;stroke-linecap:square;stroke-linejoin:miter;stroke-width:0.8;\"/>\n   </g>\n   <g id=\"patch_5\">\n    <path d=\"M 354.510938 224.64 \nL 354.510938 7.2 \n\" style=\"fill:none;stroke:#ffffff;stroke-linecap:square;stroke-linejoin:miter;stroke-width:0.8;\"/>\n   </g>\n   <g id=\"patch_6\">\n    <path d=\"M 19.710937 224.64 \nL 354.510938 224.64 \n\" style=\"fill:none;stroke:#ffffff;stroke-linecap:square;stroke-linejoin:miter;stroke-width:0.8;\"/>\n   </g>\n   <g id=\"patch_7\">\n    <path d=\"M 19.710937 7.2 \nL 354.510938 7.2 \n\" style=\"fill:none;stroke:#ffffff;stroke-linecap:square;stroke-linejoin:miter;stroke-width:0.8;\"/>\n   </g>\n  </g>\n </g>\n <defs>\n  <clipPath id=\"pb7bdfe82ef\">\n   <rect height=\"217.44\" width=\"334.8\" x=\"19.710937\" y=\"7.2\"/>\n  </clipPath>\n </defs>\n</svg>\n",
      "image/png": "[encoded data removed]"
     },
     "metadata": {}
    }
   ],
   "source": [
    "sns.barplot(xgb_r.feature_importances_)"
   ]
  },
  {
   "cell_type": "code",
   "execution_count": 33,
   "metadata": {},
   "outputs": [],
   "source": [
    "# Predict the model \n",
    "pred = xgb_r.predict(X_a_test[select_col.index]) "
   ]
  },
  {
   "cell_type": "code",
   "execution_count": 35,
   "metadata": {},
   "outputs": [
    {
     "output_type": "stream",
     "name": "stdout",
     "text": [
      "RMSLE : 0.502390\n"
     ]
    }
   ],
   "source": [
    "# RMSLE Computation \n",
    "print(\"RMSLE : %f\" %(rmsle(y_a_test, pred))) "
   ]
  },
  {
   "source": [],
   "cell_type": "markdown",
   "metadata": {}
  },
  {
   "source": [
    "## Support Vector Regression"
   ],
   "cell_type": "markdown",
   "metadata": {}
  },
  {
   "cell_type": "code",
   "execution_count": 15,
   "metadata": {},
   "outputs": [],
   "source": [
    "regressor = SVR(kernel='rbf', C=1.0)"
   ]
  },
  {
   "cell_type": "code",
   "execution_count": 24,
   "metadata": {},
   "outputs": [
    {
     "output_type": "execute_result",
     "data": {
      "text/plain": [
       "SVR()"
      ]
     },
     "metadata": {},
     "execution_count": 24
    }
   ],
   "source": [
    "regressor.fit(X_a_train.to_numpy(),y_a_train.to_numpy())"
   ]
  },
  {
   "cell_type": "code",
   "execution_count": 25,
   "metadata": {},
   "outputs": [],
   "source": [
    "y_pred = regressor.predict(X_a_test.to_numpy())"
   ]
  },
  {
   "cell_type": "code",
   "execution_count": 25,
   "metadata": {},
   "outputs": [
    {
     "output_type": "execute_result",
     "data": {
      "text/plain": [
       "<matplotlib.axes._subplots.AxesSubplot at 0x7fb228655890>"
      ]
     },
     "metadata": {},
     "execution_count": 25
    },
    {
     "output_type": "display_data",
     "data": {
      "text/plain": "<Figure size 432x288 with 1 Axes>",
      "image/svg+xml": "<?xml version=\"1.0\" encoding=\"utf-8\" standalone=\"no\"?>\n<!DOCTYPE svg PUBLIC \"-//W3C//DTD SVG 1.1//EN\"\n  \"http://www.w3.org/Graphics/SVG/1.1/DTD/svg11.dtd\">\n<!-- Created with matplotlib (https://matplotlib.org/) -->\n<svg height=\"261.130625pt\" version=\"1.1\" viewBox=\"0 0 367.321875 261.130625\" width=\"367.321875pt\" xmlns=\"http://www.w3.org/2000/svg\" xmlns:xlink=\"http://www.w3.org/1999/xlink\">\n <defs>\n  <style type=\"text/css\">\n*{stroke-linecap:butt;stroke-linejoin:round;}\n  </style>\n </defs>\n <g id=\"figure_1\">\n  <g id=\"patch_1\">\n   <path d=\"M 0 261.130625 \nL 367.321875 261.130625 \nL 367.321875 0 \nL 0 0 \nz\n\" style=\"fill:#ffffff;\"/>\n  </g>\n  <g id=\"axes_1\">\n   <g id=\"patch_2\">\n    <path d=\"M 25.321875 224.64 \nL 360.121875 224.64 \nL 360.121875 7.2 \nL 25.321875 7.2 \nz\n\" style=\"fill:#eaeaf2;\"/>\n   </g>\n   <g id=\"matplotlib.axis_1\">\n    <g id=\"xtick_1\">\n     <g id=\"line2d_1\">\n      <path clip-path=\"url(#p176df7429f)\" d=\"M 40.531784 224.64 \nL 40.531784 7.2 \n\" style=\"fill:none;stroke:#ffffff;stroke-linecap:round;stroke-width:0.8;\"/>\n     </g>\n     <g id=\"text_1\">\n      <!-- 0 -->\n      <defs>\n       <path d=\"M 4.15625 35.296875 \nQ 4.15625 48 6.765625 55.734375 \nQ 9.375 63.484375 14.515625 67.671875 \nQ 19.671875 71.875 27.484375 71.875 \nQ 33.25 71.875 37.59375 69.546875 \nQ 41.9375 67.234375 44.765625 62.859375 \nQ 47.609375 58.5 49.21875 52.21875 \nQ 50.828125 45.953125 50.828125 35.296875 \nQ 50.828125 22.703125 48.234375 14.96875 \nQ 45.65625 7.234375 40.5 3 \nQ 35.359375 -1.21875 27.484375 -1.21875 \nQ 17.140625 -1.21875 11.234375 6.203125 \nQ 4.15625 15.140625 4.15625 35.296875 \nz\nM 13.1875 35.296875 \nQ 13.1875 17.671875 17.3125 11.828125 \nQ 21.4375 6 27.484375 6 \nQ 33.546875 6 37.671875 11.859375 \nQ 41.796875 17.71875 41.796875 35.296875 \nQ 41.796875 52.984375 37.671875 58.78125 \nQ 33.546875 64.59375 27.390625 64.59375 \nQ 21.34375 64.59375 17.71875 59.46875 \nQ 13.1875 52.9375 13.1875 35.296875 \nz\n\" id=\"ArialMT-48\"/>\n      </defs>\n      <g style=\"fill:#262626;\" transform=\"translate(37.751315 238.797812)scale(0.1 -0.1)\">\n       <use xlink:href=\"#ArialMT-48\"/>\n      </g>\n     </g>\n    </g>\n    <g id=\"xtick_2\">\n     <g id=\"line2d_2\">\n      <path clip-path=\"url(#p176df7429f)\" d=\"M 81.896779 224.64 \nL 81.896779 7.2 \n\" style=\"fill:none;stroke:#ffffff;stroke-linecap:round;stroke-width:0.8;\"/>\n     </g>\n     <g id=\"text_2\">\n      <!-- 20000 -->\n      <defs>\n       <path d=\"M 50.34375 8.453125 \nL 50.34375 0 \nL 3.03125 0 \nQ 2.9375 3.171875 4.046875 6.109375 \nQ 5.859375 10.9375 9.828125 15.625 \nQ 13.8125 20.3125 21.34375 26.46875 \nQ 33.015625 36.03125 37.109375 41.625 \nQ 41.21875 47.21875 41.21875 52.203125 \nQ 41.21875 57.421875 37.46875 61 \nQ 33.734375 64.59375 27.734375 64.59375 \nQ 21.390625 64.59375 17.578125 60.78125 \nQ 13.765625 56.984375 13.71875 50.25 \nL 4.6875 51.171875 \nQ 5.609375 61.28125 11.65625 66.578125 \nQ 17.71875 71.875 27.9375 71.875 \nQ 38.234375 71.875 44.234375 66.15625 \nQ 50.25 60.453125 50.25 52 \nQ 50.25 47.703125 48.484375 43.546875 \nQ 46.734375 39.40625 42.65625 34.8125 \nQ 38.578125 30.21875 29.109375 22.21875 \nQ 21.1875 15.578125 18.9375 13.203125 \nQ 16.703125 10.84375 15.234375 8.453125 \nz\n\" id=\"ArialMT-50\"/>\n      </defs>\n      <g style=\"fill:#262626;\" transform=\"translate(67.994435 238.797812)scale(0.1 -0.1)\">\n       <use xlink:href=\"#ArialMT-50\"/>\n       <use x=\"55.615234\" xlink:href=\"#ArialMT-48\"/>\n       <use x=\"111.230469\" xlink:href=\"#ArialMT-48\"/>\n       <use x=\"166.845703\" xlink:href=\"#ArialMT-48\"/>\n       <use x=\"222.460938\" xlink:href=\"#ArialMT-48\"/>\n      </g>\n     </g>\n    </g>\n    <g id=\"xtick_3\">\n     <g id=\"line2d_3\">\n      <path clip-path=\"url(#p176df7429f)\" d=\"M 123.261775 224.64 \nL 123.261775 7.2 \n\" style=\"fill:none;stroke:#ffffff;stroke-linecap:round;stroke-width:0.8;\"/>\n     </g>\n     <g id=\"text_3\">\n      <!-- 40000 -->\n      <defs>\n       <path d=\"M 32.328125 0 \nL 32.328125 17.140625 \nL 1.265625 17.140625 \nL 1.265625 25.203125 \nL 33.9375 71.578125 \nL 41.109375 71.578125 \nL 41.109375 25.203125 \nL 50.78125 25.203125 \nL 50.78125 17.140625 \nL 41.109375 17.140625 \nL 41.109375 0 \nz\nM 32.328125 25.203125 \nL 32.328125 57.46875 \nL 9.90625 25.203125 \nz\n\" id=\"ArialMT-52\"/>\n      </defs>\n      <g style=\"fill:#262626;\" transform=\"translate(109.359431 238.797812)scale(0.1 -0.1)\">\n       <use xlink:href=\"#ArialMT-52\"/>\n       <use x=\"55.615234\" xlink:href=\"#ArialMT-48\"/>\n       <use x=\"111.230469\" xlink:href=\"#ArialMT-48\"/>\n       <use x=\"166.845703\" xlink:href=\"#ArialMT-48\"/>\n       <use x=\"222.460938\" xlink:href=\"#ArialMT-48\"/>\n      </g>\n     </g>\n    </g>\n    <g id=\"xtick_4\">\n     <g id=\"line2d_4\">\n      <path clip-path=\"url(#p176df7429f)\" d=\"M 164.62677 224.64 \nL 164.62677 7.2 \n\" style=\"fill:none;stroke:#ffffff;stroke-linecap:round;stroke-width:0.8;\"/>\n     </g>\n     <g id=\"text_4\">\n      <!-- 60000 -->\n      <defs>\n       <path d=\"M 49.75 54.046875 \nL 41.015625 53.375 \nQ 39.84375 58.546875 37.703125 60.890625 \nQ 34.125 64.65625 28.90625 64.65625 \nQ 24.703125 64.65625 21.53125 62.3125 \nQ 17.390625 59.28125 14.984375 53.46875 \nQ 12.59375 47.65625 12.5 36.921875 \nQ 15.671875 41.75 20.265625 44.09375 \nQ 24.859375 46.4375 29.890625 46.4375 \nQ 38.671875 46.4375 44.84375 39.96875 \nQ 51.03125 33.5 51.03125 23.25 \nQ 51.03125 16.5 48.125 10.71875 \nQ 45.21875 4.9375 40.140625 1.859375 \nQ 35.0625 -1.21875 28.609375 -1.21875 \nQ 17.625 -1.21875 10.6875 6.859375 \nQ 3.765625 14.9375 3.765625 33.5 \nQ 3.765625 54.25 11.421875 63.671875 \nQ 18.109375 71.875 29.4375 71.875 \nQ 37.890625 71.875 43.28125 67.140625 \nQ 48.6875 62.40625 49.75 54.046875 \nz\nM 13.875 23.1875 \nQ 13.875 18.65625 15.796875 14.5 \nQ 17.71875 10.359375 21.1875 8.171875 \nQ 24.65625 6 28.46875 6 \nQ 34.03125 6 38.03125 10.484375 \nQ 42.046875 14.984375 42.046875 22.703125 \nQ 42.046875 30.125 38.078125 34.390625 \nQ 34.125 38.671875 28.125 38.671875 \nQ 22.171875 38.671875 18.015625 34.390625 \nQ 13.875 30.125 13.875 23.1875 \nz\n\" id=\"ArialMT-54\"/>\n      </defs>\n      <g style=\"fill:#262626;\" transform=\"translate(150.724426 238.797812)scale(0.1 -0.1)\">\n       <use xlink:href=\"#ArialMT-54\"/>\n       <use x=\"55.615234\" xlink:href=\"#ArialMT-48\"/>\n       <use x=\"111.230469\" xlink:href=\"#ArialMT-48\"/>\n       <use x=\"166.845703\" xlink:href=\"#ArialMT-48\"/>\n       <use x=\"222.460938\" xlink:href=\"#ArialMT-48\"/>\n      </g>\n     </g>\n    </g>\n    <g id=\"xtick_5\">\n     <g id=\"line2d_5\">\n      <path clip-path=\"url(#p176df7429f)\" d=\"M 205.991766 224.64 \nL 205.991766 7.2 \n\" style=\"fill:none;stroke:#ffffff;stroke-linecap:round;stroke-width:0.8;\"/>\n     </g>\n     <g id=\"text_5\">\n      <!-- 80000 -->\n      <defs>\n       <path d=\"M 17.671875 38.8125 \nQ 12.203125 40.828125 9.5625 44.53125 \nQ 6.9375 48.25 6.9375 53.421875 \nQ 6.9375 61.234375 12.546875 66.546875 \nQ 18.171875 71.875 27.484375 71.875 \nQ 36.859375 71.875 42.578125 66.421875 \nQ 48.296875 60.984375 48.296875 53.171875 \nQ 48.296875 48.1875 45.671875 44.5 \nQ 43.0625 40.828125 37.75 38.8125 \nQ 44.34375 36.671875 47.78125 31.875 \nQ 51.21875 27.09375 51.21875 20.453125 \nQ 51.21875 11.28125 44.71875 5.03125 \nQ 38.234375 -1.21875 27.640625 -1.21875 \nQ 17.046875 -1.21875 10.546875 5.046875 \nQ 4.046875 11.328125 4.046875 20.703125 \nQ 4.046875 27.6875 7.59375 32.390625 \nQ 11.140625 37.109375 17.671875 38.8125 \nz\nM 15.921875 53.71875 \nQ 15.921875 48.640625 19.1875 45.40625 \nQ 22.46875 42.1875 27.6875 42.1875 \nQ 32.765625 42.1875 36.015625 45.375 \nQ 39.265625 48.578125 39.265625 53.21875 \nQ 39.265625 58.0625 35.90625 61.359375 \nQ 32.5625 64.65625 27.59375 64.65625 \nQ 22.5625 64.65625 19.234375 61.421875 \nQ 15.921875 58.203125 15.921875 53.71875 \nz\nM 13.09375 20.65625 \nQ 13.09375 16.890625 14.875 13.375 \nQ 16.65625 9.859375 20.171875 7.921875 \nQ 23.6875 6 27.734375 6 \nQ 34.03125 6 38.125 10.046875 \nQ 42.234375 14.109375 42.234375 20.359375 \nQ 42.234375 26.703125 38.015625 30.859375 \nQ 33.796875 35.015625 27.4375 35.015625 \nQ 21.234375 35.015625 17.15625 30.90625 \nQ 13.09375 26.8125 13.09375 20.65625 \nz\n\" id=\"ArialMT-56\"/>\n      </defs>\n      <g style=\"fill:#262626;\" transform=\"translate(192.089422 238.797812)scale(0.1 -0.1)\">\n       <use xlink:href=\"#ArialMT-56\"/>\n       <use x=\"55.615234\" xlink:href=\"#ArialMT-48\"/>\n       <use x=\"111.230469\" xlink:href=\"#ArialMT-48\"/>\n       <use x=\"166.845703\" xlink:href=\"#ArialMT-48\"/>\n       <use x=\"222.460938\" xlink:href=\"#ArialMT-48\"/>\n      </g>\n     </g>\n    </g>\n    <g id=\"xtick_6\">\n     <g id=\"line2d_6\">\n      <path clip-path=\"url(#p176df7429f)\" d=\"M 247.356761 224.64 \nL 247.356761 7.2 \n\" style=\"fill:none;stroke:#ffffff;stroke-linecap:round;stroke-width:0.8;\"/>\n     </g>\n     <g id=\"text_6\">\n      <!-- 100000 -->\n      <defs>\n       <path d=\"M 37.25 0 \nL 28.46875 0 \nL 28.46875 56 \nQ 25.296875 52.984375 20.140625 49.953125 \nQ 14.984375 46.921875 10.890625 45.40625 \nL 10.890625 53.90625 \nQ 18.265625 57.375 23.78125 62.296875 \nQ 29.296875 67.234375 31.59375 71.875 \nL 37.25 71.875 \nz\n\" id=\"ArialMT-49\"/>\n      </defs>\n      <g style=\"fill:#262626;\" transform=\"translate(230.673948 238.797812)scale(0.1 -0.1)\">\n       <use xlink:href=\"#ArialMT-49\"/>\n       <use x=\"55.615234\" xlink:href=\"#ArialMT-48\"/>\n       <use x=\"111.230469\" xlink:href=\"#ArialMT-48\"/>\n       <use x=\"166.845703\" xlink:href=\"#ArialMT-48\"/>\n       <use x=\"222.460938\" xlink:href=\"#ArialMT-48\"/>\n       <use x=\"278.076172\" xlink:href=\"#ArialMT-48\"/>\n      </g>\n     </g>\n    </g>\n    <g id=\"xtick_7\">\n     <g id=\"line2d_7\">\n      <path clip-path=\"url(#p176df7429f)\" d=\"M 288.721756 224.64 \nL 288.721756 7.2 \n\" style=\"fill:none;stroke:#ffffff;stroke-linecap:round;stroke-width:0.8;\"/>\n     </g>\n     <g id=\"text_7\">\n      <!-- 120000 -->\n      <g style=\"fill:#262626;\" transform=\"translate(272.038944 238.797812)scale(0.1 -0.1)\">\n       <use xlink:href=\"#ArialMT-49\"/>\n       <use x=\"55.615234\" xlink:href=\"#ArialMT-50\"/>\n       <use x=\"111.230469\" xlink:href=\"#ArialMT-48\"/>\n       <use x=\"166.845703\" xlink:href=\"#ArialMT-48\"/>\n       <use x=\"222.460938\" xlink:href=\"#ArialMT-48\"/>\n       <use x=\"278.076172\" xlink:href=\"#ArialMT-48\"/>\n      </g>\n     </g>\n    </g>\n    <g id=\"xtick_8\">\n     <g id=\"line2d_8\">\n      <path clip-path=\"url(#p176df7429f)\" d=\"M 330.086752 224.64 \nL 330.086752 7.2 \n\" style=\"fill:none;stroke:#ffffff;stroke-linecap:round;stroke-width:0.8;\"/>\n     </g>\n     <g id=\"text_8\">\n      <!-- 140000 -->\n      <g style=\"fill:#262626;\" transform=\"translate(313.403939 238.797812)scale(0.1 -0.1)\">\n       <use xlink:href=\"#ArialMT-49\"/>\n       <use x=\"55.615234\" xlink:href=\"#ArialMT-52\"/>\n       <use x=\"111.230469\" xlink:href=\"#ArialMT-48\"/>\n       <use x=\"166.845703\" xlink:href=\"#ArialMT-48\"/>\n       <use x=\"222.460938\" xlink:href=\"#ArialMT-48\"/>\n       <use x=\"278.076172\" xlink:href=\"#ArialMT-48\"/>\n      </g>\n     </g>\n    </g>\n    <g id=\"text_9\">\n     <!-- MemberID -->\n     <defs>\n      <path d=\"M 7.421875 0 \nL 7.421875 71.578125 \nL 21.6875 71.578125 \nL 38.625 20.90625 \nQ 40.96875 13.8125 42.046875 10.296875 \nQ 43.265625 14.203125 45.84375 21.78125 \nL 62.984375 71.578125 \nL 75.734375 71.578125 \nL 75.734375 0 \nL 66.609375 0 \nL 66.609375 59.90625 \nL 45.796875 0 \nL 37.25 0 \nL 16.546875 60.9375 \nL 16.546875 0 \nz\n\" id=\"ArialMT-77\"/>\n      <path d=\"M 42.09375 16.703125 \nL 51.171875 15.578125 \nQ 49.03125 7.625 43.21875 3.21875 \nQ 37.40625 -1.171875 28.375 -1.171875 \nQ 17 -1.171875 10.328125 5.828125 \nQ 3.65625 12.84375 3.65625 25.484375 \nQ 3.65625 38.578125 10.390625 45.796875 \nQ 17.140625 53.03125 27.875 53.03125 \nQ 38.28125 53.03125 44.875 45.953125 \nQ 51.46875 38.875 51.46875 26.03125 \nQ 51.46875 25.25 51.421875 23.6875 \nL 12.75 23.6875 \nQ 13.234375 15.140625 17.578125 10.59375 \nQ 21.921875 6.0625 28.421875 6.0625 \nQ 33.25 6.0625 36.671875 8.59375 \nQ 40.09375 11.140625 42.09375 16.703125 \nz\nM 13.234375 30.90625 \nL 42.1875 30.90625 \nQ 41.609375 37.453125 38.875 40.71875 \nQ 34.671875 45.796875 27.984375 45.796875 \nQ 21.921875 45.796875 17.796875 41.75 \nQ 13.671875 37.703125 13.234375 30.90625 \nz\n\" id=\"ArialMT-101\"/>\n      <path d=\"M 6.59375 0 \nL 6.59375 51.859375 \nL 14.453125 51.859375 \nL 14.453125 44.578125 \nQ 16.890625 48.390625 20.9375 50.703125 \nQ 25 53.03125 30.171875 53.03125 \nQ 35.9375 53.03125 39.625 50.640625 \nQ 43.3125 48.25 44.828125 43.953125 \nQ 50.984375 53.03125 60.84375 53.03125 \nQ 68.5625 53.03125 72.703125 48.75 \nQ 76.859375 44.484375 76.859375 35.59375 \nL 76.859375 0 \nL 68.109375 0 \nL 68.109375 32.671875 \nQ 68.109375 37.9375 67.25 40.25 \nQ 66.40625 42.578125 64.15625 43.984375 \nQ 61.921875 45.40625 58.890625 45.40625 \nQ 53.421875 45.40625 49.796875 41.765625 \nQ 46.1875 38.140625 46.1875 30.125 \nL 46.1875 0 \nL 37.40625 0 \nL 37.40625 33.6875 \nQ 37.40625 39.546875 35.25 42.46875 \nQ 33.109375 45.40625 28.21875 45.40625 \nQ 24.515625 45.40625 21.359375 43.453125 \nQ 18.21875 41.5 16.796875 37.734375 \nQ 15.375 33.984375 15.375 26.90625 \nL 15.375 0 \nz\n\" id=\"ArialMT-109\"/>\n      <path d=\"M 14.703125 0 \nL 6.546875 0 \nL 6.546875 71.578125 \nL 15.328125 71.578125 \nL 15.328125 46.046875 \nQ 20.90625 53.03125 29.546875 53.03125 \nQ 34.328125 53.03125 38.59375 51.09375 \nQ 42.875 49.171875 45.625 45.671875 \nQ 48.390625 42.1875 49.953125 37.25 \nQ 51.515625 32.328125 51.515625 26.703125 \nQ 51.515625 13.375 44.921875 6.09375 \nQ 38.328125 -1.171875 29.109375 -1.171875 \nQ 19.921875 -1.171875 14.703125 6.5 \nz\nM 14.59375 26.3125 \nQ 14.59375 17 17.140625 12.84375 \nQ 21.296875 6.0625 28.375 6.0625 \nQ 34.125 6.0625 38.328125 11.0625 \nQ 42.53125 16.0625 42.53125 25.984375 \nQ 42.53125 36.140625 38.5 40.96875 \nQ 34.46875 45.796875 28.765625 45.796875 \nQ 23 45.796875 18.796875 40.796875 \nQ 14.59375 35.796875 14.59375 26.3125 \nz\n\" id=\"ArialMT-98\"/>\n      <path d=\"M 6.5 0 \nL 6.5 51.859375 \nL 14.40625 51.859375 \nL 14.40625 44 \nQ 17.4375 49.515625 20 51.265625 \nQ 22.5625 53.03125 25.640625 53.03125 \nQ 30.078125 53.03125 34.671875 50.203125 \nL 31.640625 42.046875 \nQ 28.421875 43.953125 25.203125 43.953125 \nQ 22.3125 43.953125 20.015625 42.21875 \nQ 17.71875 40.484375 16.75 37.40625 \nQ 15.28125 32.71875 15.28125 27.15625 \nL 15.28125 0 \nz\n\" id=\"ArialMT-114\"/>\n      <path d=\"M 9.328125 0 \nL 9.328125 71.578125 \nL 18.796875 71.578125 \nL 18.796875 0 \nz\n\" id=\"ArialMT-73\"/>\n      <path d=\"M 7.71875 0 \nL 7.71875 71.578125 \nL 32.375 71.578125 \nQ 40.71875 71.578125 45.125 70.5625 \nQ 51.265625 69.140625 55.609375 65.4375 \nQ 61.28125 60.640625 64.078125 53.1875 \nQ 66.890625 45.75 66.890625 36.1875 \nQ 66.890625 28.03125 64.984375 21.734375 \nQ 63.09375 15.4375 60.109375 11.296875 \nQ 57.125 7.171875 53.578125 4.796875 \nQ 50.046875 2.4375 45.046875 1.21875 \nQ 40.046875 0 33.546875 0 \nz\nM 17.1875 8.453125 \nL 32.46875 8.453125 \nQ 39.546875 8.453125 43.578125 9.765625 \nQ 47.609375 11.078125 50 13.484375 \nQ 53.375 16.84375 55.25 22.53125 \nQ 57.125 28.21875 57.125 36.328125 \nQ 57.125 47.5625 53.4375 53.59375 \nQ 49.75 59.625 44.484375 61.671875 \nQ 40.671875 63.140625 32.234375 63.140625 \nL 17.1875 63.140625 \nz\n\" id=\"ArialMT-68\"/>\n     </defs>\n     <g style=\"fill:#262626;\" transform=\"translate(169.385938 251.943125)scale(0.1 -0.1)\">\n      <use xlink:href=\"#ArialMT-77\"/>\n      <use x=\"83.300781\" xlink:href=\"#ArialMT-101\"/>\n      <use x=\"138.916016\" xlink:href=\"#ArialMT-109\"/>\n      <use x=\"222.216797\" xlink:href=\"#ArialMT-98\"/>\n      <use x=\"277.832031\" xlink:href=\"#ArialMT-101\"/>\n      <use x=\"333.447266\" xlink:href=\"#ArialMT-114\"/>\n      <use x=\"366.748047\" xlink:href=\"#ArialMT-73\"/>\n      <use x=\"394.53125\" xlink:href=\"#ArialMT-68\"/>\n     </g>\n    </g>\n   </g>\n   <g id=\"matplotlib.axis_2\">\n    <g id=\"ytick_1\">\n     <g id=\"line2d_9\">\n      <path clip-path=\"url(#p176df7429f)\" d=\"M 25.321875 214.756364 \nL 360.121875 214.756364 \n\" style=\"fill:none;stroke:#ffffff;stroke-linecap:round;stroke-width:0.8;\"/>\n     </g>\n     <g id=\"text_10\">\n      <!-- 0 -->\n      <g style=\"fill:#262626;\" transform=\"translate(12.760938 218.33527)scale(0.1 -0.1)\">\n       <use xlink:href=\"#ArialMT-48\"/>\n      </g>\n     </g>\n    </g>\n    <g id=\"ytick_2\">\n     <g id=\"line2d_10\">\n      <path clip-path=\"url(#p176df7429f)\" d=\"M 25.321875 188.4 \nL 360.121875 188.4 \n\" style=\"fill:none;stroke:#ffffff;stroke-linecap:round;stroke-width:0.8;\"/>\n     </g>\n     <g id=\"text_11\">\n      <!-- 2 -->\n      <g style=\"fill:#262626;\" transform=\"translate(12.760938 191.978906)scale(0.1 -0.1)\">\n       <use xlink:href=\"#ArialMT-50\"/>\n      </g>\n     </g>\n    </g>\n    <g id=\"ytick_3\">\n     <g id=\"line2d_11\">\n      <path clip-path=\"url(#p176df7429f)\" d=\"M 25.321875 162.043636 \nL 360.121875 162.043636 \n\" style=\"fill:none;stroke:#ffffff;stroke-linecap:round;stroke-width:0.8;\"/>\n     </g>\n     <g id=\"text_12\">\n      <!-- 4 -->\n      <g style=\"fill:#262626;\" transform=\"translate(12.760938 165.622543)scale(0.1 -0.1)\">\n       <use xlink:href=\"#ArialMT-52\"/>\n      </g>\n     </g>\n    </g>\n    <g id=\"ytick_4\">\n     <g id=\"line2d_12\">\n      <path clip-path=\"url(#p176df7429f)\" d=\"M 25.321875 135.687273 \nL 360.121875 135.687273 \n\" style=\"fill:none;stroke:#ffffff;stroke-linecap:round;stroke-width:0.8;\"/>\n     </g>\n     <g id=\"text_13\">\n      <!-- 6 -->\n      <g style=\"fill:#262626;\" transform=\"translate(12.760938 139.266179)scale(0.1 -0.1)\">\n       <use xlink:href=\"#ArialMT-54\"/>\n      </g>\n     </g>\n    </g>\n    <g id=\"ytick_5\">\n     <g id=\"line2d_13\">\n      <path clip-path=\"url(#p176df7429f)\" d=\"M 25.321875 109.330909 \nL 360.121875 109.330909 \n\" style=\"fill:none;stroke:#ffffff;stroke-linecap:round;stroke-width:0.8;\"/>\n     </g>\n     <g id=\"text_14\">\n      <!-- 8 -->\n      <g style=\"fill:#262626;\" transform=\"translate(12.760938 112.909815)scale(0.1 -0.1)\">\n       <use xlink:href=\"#ArialMT-56\"/>\n      </g>\n     </g>\n    </g>\n    <g id=\"ytick_6\">\n     <g id=\"line2d_14\">\n      <path clip-path=\"url(#p176df7429f)\" d=\"M 25.321875 82.974545 \nL 360.121875 82.974545 \n\" style=\"fill:none;stroke:#ffffff;stroke-linecap:round;stroke-width:0.8;\"/>\n     </g>\n     <g id=\"text_15\">\n      <!-- 10 -->\n      <g style=\"fill:#262626;\" transform=\"translate(7.2 86.553452)scale(0.1 -0.1)\">\n       <use xlink:href=\"#ArialMT-49\"/>\n       <use x=\"55.615234\" xlink:href=\"#ArialMT-48\"/>\n      </g>\n     </g>\n    </g>\n    <g id=\"ytick_7\">\n     <g id=\"line2d_15\">\n      <path clip-path=\"url(#p176df7429f)\" d=\"M 25.321875 56.618182 \nL 360.121875 56.618182 \n\" style=\"fill:none;stroke:#ffffff;stroke-linecap:round;stroke-width:0.8;\"/>\n     </g>\n     <g id=\"text_16\">\n      <!-- 12 -->\n      <g style=\"fill:#262626;\" transform=\"translate(7.2 60.197088)scale(0.1 -0.1)\">\n       <use xlink:href=\"#ArialMT-49\"/>\n       <use x=\"55.615234\" xlink:href=\"#ArialMT-50\"/>\n      </g>\n     </g>\n    </g>\n    <g id=\"ytick_8\">\n     <g id=\"line2d_16\">\n      <path clip-path=\"url(#p176df7429f)\" d=\"M 25.321875 30.261818 \nL 360.121875 30.261818 \n\" style=\"fill:none;stroke:#ffffff;stroke-linecap:round;stroke-width:0.8;\"/>\n     </g>\n     <g id=\"text_17\">\n      <!-- 14 -->\n      <g style=\"fill:#262626;\" transform=\"translate(7.2 33.840724)scale(0.1 -0.1)\">\n       <use xlink:href=\"#ArialMT-49\"/>\n       <use x=\"55.615234\" xlink:href=\"#ArialMT-52\"/>\n      </g>\n     </g>\n    </g>\n   </g>\n   <g id=\"line2d_17\">\n    <path clip-path=\"url(#p176df7429f)\" d=\"M 40.540057 214.756364 \nL 40.966116 214.756364 \nL 47.143978 214.756364 \nL 47.681723 214.756364 \nL 48.211195 214.756364 \nL 48.269106 214.756364 \nL 51.259795 214.756364 \nL 57.518319 214.756364 \nL 61.714798 214.756364 \nL 65.249437 214.756364 \nL 69.555533 188.4 \nL 70.854394 214.756364 \nL 71.096379 214.756364 \nL 76.207024 214.756364 \nL 78.153247 214.756364 \nL 78.449007 214.756364 \nL 82.045693 214.756364 \nL 82.893676 214.756364 \nL 84.393157 214.756364 \nL 93.801625 214.756364 \nL 94.546195 214.756364 \nL 97.793347 214.756364 \nL 98.945362 188.4 \nL 101.497582 214.756364 \nL 107.731287 162.043636 \nL 109.032216 214.756364 \nL 111.282472 214.756364 \nL 122.779872 214.756364 \nL 128.215233 135.687273 \nL 128.966008 214.756364 \nL 137.952553 214.756364 \nL 138.175924 214.756364 \nL 141.729177 214.756364 \nL 142.961854 214.756364 \nL 144.016661 214.756364 \nL 154.821198 214.756364 \nL 155.921507 214.756364 \nL 156.188311 148.865455 \nL 156.604029 214.756364 \nL 157.472694 214.756364 \nL 160.657799 162.043636 \nL 164.06007 214.756364 \nL 168.291709 201.578182 \nL 170.457166 214.756364 \nL 174.031102 214.756364 \nL 180.312376 214.756364 \nL 180.333059 214.756364 \nL 183.15622 214.756364 \nL 187.660868 214.756364 \nL 188.239978 214.756364 \nL 195.545036 214.756364 \nL 197.710493 201.578182 \nL 199.815972 162.043636 \nL 201.125174 214.756364 \nL 219.201677 214.756364 \nL 219.867653 214.756364 \nL 220.407466 214.756364 \nL 229.658748 214.756364 \nL 229.724932 214.756364 \nL 231.640131 214.756364 \nL 233.056882 214.756364 \nL 247.59461 214.756364 \nL 251.230593 214.756364 \nL 252.597706 214.756364 \nL 254.73214 214.756364 \nL 258.272983 214.756364 \nL 258.426034 175.221818 \nL 259.656642 162.043636 \nL 261.023755 162.043636 \nL 262.545987 162.043636 \nL 267.739362 214.756364 \nL 268.599754 214.756364 \nL 273.772447 214.756364 \nL 282.485983 214.756364 \nL 282.849995 17.083636 \nL 283.230553 214.756364 \nL 284.750717 214.756364 \nL 286.802421 214.756364 \nL 291.050606 214.756364 \nL 295.743464 214.756364 \nL 297.526296 201.578182 \nL 300.241908 214.756364 \nL 303.999917 214.756364 \nL 308.229488 214.756364 \nL 315.681392 214.756364 \nL 319.162257 214.756364 \nL 320.415616 214.756364 \nL 321.472492 162.043636 \nL 322.854082 214.756364 \nL 324.610026 214.756364 \nL 325.228433 214.756364 \nL 325.509715 214.756364 \nL 328.473517 214.756364 \nL 329.782719 214.756364 \nL 333.989539 214.756364 \nL 336.77754 214.756364 \nL 340.059852 214.756364 \nL 340.210834 214.756364 \nL 342.084669 122.509091 \nL 344.903693 162.043636 \n\" style=\"fill:none;stroke:#1f77b4;stroke-linecap:round;stroke-width:1.5;\"/>\n   </g>\n   <g id=\"line2d_18\"/>\n   <g id=\"patch_3\">\n    <path d=\"M 25.321875 224.64 \nL 25.321875 7.2 \n\" style=\"fill:none;stroke:#ffffff;stroke-linecap:square;stroke-linejoin:miter;stroke-width:0.8;\"/>\n   </g>\n   <g id=\"patch_4\">\n    <path d=\"M 360.121875 224.64 \nL 360.121875 7.2 \n\" style=\"fill:none;stroke:#ffffff;stroke-linecap:square;stroke-linejoin:miter;stroke-width:0.8;\"/>\n   </g>\n   <g id=\"patch_5\">\n    <path d=\"M 25.321875 224.64 \nL 360.121875 224.64 \n\" style=\"fill:none;stroke:#ffffff;stroke-linecap:square;stroke-linejoin:miter;stroke-width:0.8;\"/>\n   </g>\n   <g id=\"patch_6\">\n    <path d=\"M 25.321875 7.2 \nL 360.121875 7.2 \n\" style=\"fill:none;stroke:#ffffff;stroke-linecap:square;stroke-linejoin:miter;stroke-width:0.8;\"/>\n   </g>\n   <g id=\"legend_1\">\n    <g id=\"patch_7\">\n     <path d=\"M 32.321875 29.4625 \nL 131.570312 29.4625 \nQ 133.570312 29.4625 133.570312 27.4625 \nL 133.570312 14.2 \nQ 133.570312 12.2 131.570312 12.2 \nL 32.321875 12.2 \nQ 30.321875 12.2 30.321875 14.2 \nL 30.321875 27.4625 \nQ 30.321875 29.4625 32.321875 29.4625 \nz\n\" style=\"fill:#eaeaf2;opacity:0.8;stroke:#cccccc;stroke-linejoin:miter;\"/>\n    </g>\n    <g id=\"line2d_19\">\n     <path d=\"M 34.321875 19.857812 \nL 54.321875 19.857812 \n\" style=\"fill:none;stroke:#1f77b4;stroke-linecap:round;stroke-width:1.5;\"/>\n    </g>\n    <g id=\"line2d_20\"/>\n    <g id=\"text_18\">\n     <!-- DaysInHospital -->\n     <defs>\n      <path d=\"M 40.4375 6.390625 \nQ 35.546875 2.25 31.03125 0.53125 \nQ 26.515625 -1.171875 21.34375 -1.171875 \nQ 12.796875 -1.171875 8.203125 3 \nQ 3.609375 7.171875 3.609375 13.671875 \nQ 3.609375 17.484375 5.34375 20.625 \nQ 7.078125 23.78125 9.890625 25.6875 \nQ 12.703125 27.59375 16.21875 28.5625 \nQ 18.796875 29.25 24.03125 29.890625 \nQ 34.671875 31.15625 39.703125 32.90625 \nQ 39.75 34.71875 39.75 35.203125 \nQ 39.75 40.578125 37.25 42.78125 \nQ 33.890625 45.75 27.25 45.75 \nQ 21.046875 45.75 18.09375 43.578125 \nQ 15.140625 41.40625 13.71875 35.890625 \nL 5.125 37.0625 \nQ 6.296875 42.578125 8.984375 45.96875 \nQ 11.671875 49.359375 16.75 51.1875 \nQ 21.828125 53.03125 28.515625 53.03125 \nQ 35.15625 53.03125 39.296875 51.46875 \nQ 43.453125 49.90625 45.40625 47.53125 \nQ 47.359375 45.171875 48.140625 41.546875 \nQ 48.578125 39.3125 48.578125 33.453125 \nL 48.578125 21.734375 \nQ 48.578125 9.46875 49.140625 6.21875 \nQ 49.703125 2.984375 51.375 0 \nL 42.1875 0 \nQ 40.828125 2.734375 40.4375 6.390625 \nz\nM 39.703125 26.03125 \nQ 34.90625 24.078125 25.34375 22.703125 \nQ 19.921875 21.921875 17.671875 20.9375 \nQ 15.4375 19.96875 14.203125 18.09375 \nQ 12.984375 16.21875 12.984375 13.921875 \nQ 12.984375 10.40625 15.640625 8.0625 \nQ 18.3125 5.71875 23.4375 5.71875 \nQ 28.515625 5.71875 32.46875 7.9375 \nQ 36.421875 10.15625 38.28125 14.015625 \nQ 39.703125 17 39.703125 22.796875 \nz\n\" id=\"ArialMT-97\"/>\n      <path d=\"M 6.203125 -19.96875 \nL 5.21875 -11.71875 \nQ 8.109375 -12.5 10.25 -12.5 \nQ 13.1875 -12.5 14.9375 -11.515625 \nQ 16.703125 -10.546875 17.828125 -8.796875 \nQ 18.65625 -7.46875 20.515625 -2.25 \nQ 20.75 -1.515625 21.296875 -0.09375 \nL 1.609375 51.859375 \nL 11.078125 51.859375 \nL 21.875 21.828125 \nQ 23.96875 16.109375 25.640625 9.8125 \nQ 27.15625 15.875 29.25 21.625 \nL 40.328125 51.859375 \nL 49.125 51.859375 \nL 29.390625 -0.875 \nQ 26.21875 -9.421875 24.46875 -12.640625 \nQ 22.125 -17 19.09375 -19.015625 \nQ 16.0625 -21.046875 11.859375 -21.046875 \nQ 9.328125 -21.046875 6.203125 -19.96875 \nz\n\" id=\"ArialMT-121\"/>\n      <path d=\"M 3.078125 15.484375 \nL 11.765625 16.84375 \nQ 12.5 11.625 15.84375 8.84375 \nQ 19.1875 6.0625 25.203125 6.0625 \nQ 31.25 6.0625 34.171875 8.515625 \nQ 37.109375 10.984375 37.109375 14.3125 \nQ 37.109375 17.28125 34.515625 19 \nQ 32.71875 20.171875 25.53125 21.96875 \nQ 15.875 24.421875 12.140625 26.203125 \nQ 8.40625 27.984375 6.46875 31.125 \nQ 4.546875 34.28125 4.546875 38.09375 \nQ 4.546875 41.546875 6.125 44.5 \nQ 7.71875 47.46875 10.453125 49.421875 \nQ 12.5 50.921875 16.03125 51.96875 \nQ 19.578125 53.03125 23.640625 53.03125 \nQ 29.734375 53.03125 34.34375 51.265625 \nQ 38.96875 49.515625 41.15625 46.5 \nQ 43.359375 43.5 44.1875 38.484375 \nL 35.59375 37.3125 \nQ 35.015625 41.3125 32.203125 43.546875 \nQ 29.390625 45.796875 24.265625 45.796875 \nQ 18.21875 45.796875 15.625 43.796875 \nQ 13.03125 41.796875 13.03125 39.109375 \nQ 13.03125 37.40625 14.109375 36.03125 \nQ 15.1875 34.625 17.484375 33.6875 \nQ 18.796875 33.203125 25.25 31.453125 \nQ 34.578125 28.953125 38.25 27.359375 \nQ 41.9375 25.78125 44.03125 22.75 \nQ 46.140625 19.734375 46.140625 15.234375 \nQ 46.140625 10.84375 43.578125 6.953125 \nQ 41.015625 3.078125 36.171875 0.953125 \nQ 31.34375 -1.171875 25.25 -1.171875 \nQ 15.140625 -1.171875 9.84375 3.03125 \nQ 4.546875 7.234375 3.078125 15.484375 \nz\n\" id=\"ArialMT-115\"/>\n      <path d=\"M 6.59375 0 \nL 6.59375 51.859375 \nL 14.5 51.859375 \nL 14.5 44.484375 \nQ 20.21875 53.03125 31 53.03125 \nQ 35.6875 53.03125 39.625 51.34375 \nQ 43.5625 49.65625 45.515625 46.921875 \nQ 47.46875 44.1875 48.25 40.4375 \nQ 48.734375 37.984375 48.734375 31.890625 \nL 48.734375 0 \nL 39.9375 0 \nL 39.9375 31.546875 \nQ 39.9375 36.921875 38.90625 39.578125 \nQ 37.890625 42.234375 35.28125 43.8125 \nQ 32.671875 45.40625 29.15625 45.40625 \nQ 23.53125 45.40625 19.453125 41.84375 \nQ 15.375 38.28125 15.375 28.328125 \nL 15.375 0 \nz\n\" id=\"ArialMT-110\"/>\n      <path d=\"M 8.015625 0 \nL 8.015625 71.578125 \nL 17.484375 71.578125 \nL 17.484375 42.1875 \nL 54.6875 42.1875 \nL 54.6875 71.578125 \nL 64.15625 71.578125 \nL 64.15625 0 \nL 54.6875 0 \nL 54.6875 33.734375 \nL 17.484375 33.734375 \nL 17.484375 0 \nz\n\" id=\"ArialMT-72\"/>\n      <path d=\"M 3.328125 25.921875 \nQ 3.328125 40.328125 11.328125 47.265625 \nQ 18.015625 53.03125 27.640625 53.03125 \nQ 38.328125 53.03125 45.109375 46.015625 \nQ 51.90625 39.015625 51.90625 26.65625 \nQ 51.90625 16.65625 48.90625 10.90625 \nQ 45.90625 5.171875 40.15625 2 \nQ 34.421875 -1.171875 27.640625 -1.171875 \nQ 16.75 -1.171875 10.03125 5.8125 \nQ 3.328125 12.796875 3.328125 25.921875 \nz\nM 12.359375 25.921875 \nQ 12.359375 15.96875 16.703125 11.015625 \nQ 21.046875 6.0625 27.640625 6.0625 \nQ 34.1875 6.0625 38.53125 11.03125 \nQ 42.875 16.015625 42.875 26.21875 \nQ 42.875 35.84375 38.5 40.796875 \nQ 34.125 45.75 27.640625 45.75 \nQ 21.046875 45.75 16.703125 40.8125 \nQ 12.359375 35.890625 12.359375 25.921875 \nz\n\" id=\"ArialMT-111\"/>\n      <path d=\"M 6.59375 -19.875 \nL 6.59375 51.859375 \nL 14.59375 51.859375 \nL 14.59375 45.125 \nQ 17.4375 49.078125 21 51.046875 \nQ 24.5625 53.03125 29.640625 53.03125 \nQ 36.28125 53.03125 41.359375 49.609375 \nQ 46.4375 46.1875 49.015625 39.953125 \nQ 51.609375 33.734375 51.609375 26.3125 \nQ 51.609375 18.359375 48.75 11.984375 \nQ 45.90625 5.609375 40.453125 2.21875 \nQ 35.015625 -1.171875 29 -1.171875 \nQ 24.609375 -1.171875 21.109375 0.6875 \nQ 17.625 2.546875 15.375 5.375 \nL 15.375 -19.875 \nz\nM 14.546875 25.640625 \nQ 14.546875 15.625 18.59375 10.84375 \nQ 22.65625 6.0625 28.421875 6.0625 \nQ 34.28125 6.0625 38.453125 11.015625 \nQ 42.625 15.96875 42.625 26.375 \nQ 42.625 36.28125 38.546875 41.203125 \nQ 34.46875 46.140625 28.8125 46.140625 \nQ 23.1875 46.140625 18.859375 40.890625 \nQ 14.546875 35.640625 14.546875 25.640625 \nz\n\" id=\"ArialMT-112\"/>\n      <path d=\"M 6.640625 61.46875 \nL 6.640625 71.578125 \nL 15.4375 71.578125 \nL 15.4375 61.46875 \nz\nM 6.640625 0 \nL 6.640625 51.859375 \nL 15.4375 51.859375 \nL 15.4375 0 \nz\n\" id=\"ArialMT-105\"/>\n      <path d=\"M 25.78125 7.859375 \nL 27.046875 0.09375 \nQ 23.34375 -0.6875 20.40625 -0.6875 \nQ 15.625 -0.6875 12.984375 0.828125 \nQ 10.359375 2.34375 9.28125 4.8125 \nQ 8.203125 7.28125 8.203125 15.1875 \nL 8.203125 45.015625 \nL 1.765625 45.015625 \nL 1.765625 51.859375 \nL 8.203125 51.859375 \nL 8.203125 64.703125 \nL 16.9375 69.96875 \nL 16.9375 51.859375 \nL 25.78125 51.859375 \nL 25.78125 45.015625 \nL 16.9375 45.015625 \nL 16.9375 14.703125 \nQ 16.9375 10.9375 17.40625 9.859375 \nQ 17.875 8.796875 18.921875 8.15625 \nQ 19.96875 7.515625 21.921875 7.515625 \nQ 23.390625 7.515625 25.78125 7.859375 \nz\n\" id=\"ArialMT-116\"/>\n      <path d=\"M 6.390625 0 \nL 6.390625 71.578125 \nL 15.1875 71.578125 \nL 15.1875 0 \nz\n\" id=\"ArialMT-108\"/>\n     </defs>\n     <g style=\"fill:#262626;\" transform=\"translate(62.321875 23.357812)scale(0.1 -0.1)\">\n      <use xlink:href=\"#ArialMT-68\"/>\n      <use x=\"72.216797\" xlink:href=\"#ArialMT-97\"/>\n      <use x=\"127.832031\" xlink:href=\"#ArialMT-121\"/>\n      <use x=\"177.832031\" xlink:href=\"#ArialMT-115\"/>\n      <use x=\"227.832031\" xlink:href=\"#ArialMT-73\"/>\n      <use x=\"255.615234\" xlink:href=\"#ArialMT-110\"/>\n      <use x=\"311.230469\" xlink:href=\"#ArialMT-72\"/>\n      <use x=\"383.447266\" xlink:href=\"#ArialMT-111\"/>\n      <use x=\"439.0625\" xlink:href=\"#ArialMT-115\"/>\n      <use x=\"489.0625\" xlink:href=\"#ArialMT-112\"/>\n      <use x=\"544.677734\" xlink:href=\"#ArialMT-105\"/>\n      <use x=\"566.894531\" xlink:href=\"#ArialMT-116\"/>\n      <use x=\"594.677734\" xlink:href=\"#ArialMT-97\"/>\n      <use x=\"650.292969\" xlink:href=\"#ArialMT-108\"/>\n     </g>\n    </g>\n   </g>\n  </g>\n </g>\n <defs>\n  <clipPath id=\"p176df7429f\">\n   <rect height=\"217.44\" width=\"334.8\" x=\"25.321875\" y=\"7.2\"/>\n  </clipPath>\n </defs>\n</svg>\n",
      "image/png": "[encoded data removed]"
     },
     "metadata": {}
    }
   ],
   "source": [
    "sns.lineplot(data=y_a_test[:100])"
   ]
  },
  {
   "cell_type": "code",
   "execution_count": 26,
   "metadata": {},
   "outputs": [
    {
     "output_type": "execute_result",
     "data": {
      "text/plain": [
       "0.46945039082707135"
      ]
     },
     "metadata": {},
     "execution_count": 26
    }
   ],
   "source": [
    "rmsle(y_a_test.to_numpy().T, y_pred.T)"
   ]
  },
  {
   "source": [
    "# Strategy B"
   ],
   "cell_type": "markdown",
   "metadata": {}
  },
  {
   "cell_type": "code",
   "execution_count": 5,
   "metadata": {},
   "outputs": [],
   "source": [
    "X_b_train = pd.read_csv(\"./processed/strategy-b/train/X_train.csv\", index_col=[\"MemberID\"])\n",
    "y_b_train = pd.read_csv(\"./processed/strategy-b/train/y_train.csv\", index_col=[\"MemberID\"])\n",
    "X_b_test = pd.read_csv(\"./processed/strategy-b/test/X_test.csv\", index_col=[\"MemberID\"])\n",
    "y_b_test = pd.read_csv(\"./processed/strategy-b/test/y_test.csv\", index_col=[\"MemberID\"])"
   ]
  },
  {
   "source": [
    "## XGBoost"
   ],
   "cell_type": "markdown",
   "metadata": {}
  },
  {
   "cell_type": "code",
   "execution_count": 4,
   "metadata": {},
   "outputs": [],
   "source": [
    "xgb_b = xg.XGBRegressor(objective ='reg:linear', n_estimators = 10, seed = 123) "
   ]
  },
  {
   "cell_type": "code",
   "execution_count": 5,
   "metadata": {},
   "outputs": [
    {
     "output_type": "stream",
     "name": "stdout",
     "text": [
      "[08:43:37] WARNING: /Users/travis/build/dmlc/xgboost/src/objective/regression_obj.cu:170: reg:linear is now deprecated in favor of reg:squarederror.\n"
     ]
    },
    {
     "output_type": "execute_result",
     "data": {
      "text/plain": [
       "XGBRegressor(base_score=0.5, booster='gbtree', colsample_bylevel=1,\n",
       "             colsample_bynode=1, colsample_bytree=1, gamma=0, gpu_id=-1,\n",
       "             importance_type='gain', interaction_constraints='',\n",
       "             learning_rate=0.300000012, max_delta_step=0, max_depth=6,\n",
       "             min_child_weight=1, missing=nan, monotone_constraints='()',\n",
       "             n_estimators=10, n_jobs=4, num_parallel_tree=1,\n",
       "             objective='reg:linear', random_state=123, reg_alpha=0,\n",
       "             reg_lambda=1, scale_pos_weight=1, seed=123, subsample=1,\n",
       "             tree_method='exact', validate_parameters=1, verbosity=None)"
      ]
     },
     "metadata": {},
     "execution_count": 5
    }
   ],
   "source": [
    "xgb_b.fit(X_b_train, y_b_train) "
   ]
  },
  {
   "cell_type": "code",
   "execution_count": 6,
   "metadata": {},
   "outputs": [],
   "source": [
    "# Predict the model \n",
    "b_pred = xgb_b.predict(X_b_test) "
   ]
  },
  {
   "cell_type": "code",
   "execution_count": 8,
   "metadata": {},
   "outputs": [
    {
     "output_type": "execute_result",
     "data": {
      "text/plain": [
       "(14287,)"
      ]
     },
     "metadata": {},
     "execution_count": 8
    }
   ],
   "source": [
    "b_pred.shape"
   ]
  },
  {
   "cell_type": "code",
   "execution_count": 12,
   "metadata": {},
   "outputs": [
    {
     "output_type": "execute_result",
     "data": {
      "text/plain": [
       "0.483611922398123"
      ]
     },
     "metadata": {},
     "execution_count": 12
    }
   ],
   "source": [
    "rmsle(y_b_test.to_numpy().T, b_pred.T)"
   ]
  },
  {
   "cell_type": "code",
   "execution_count": 9,
   "metadata": {},
   "outputs": [],
   "source": [
    "def hyperParameterTuning(X_train, y_train):\n",
    "    param_tuning = {\n",
    "        'learning_rate': [0.01, 0.1],\n",
    "        'max_depth': [3, 5, 7, 10],\n",
    "        'min_child_weight': [1, 3, 5],\n",
    "        'subsample': [0.5, 0.7],\n",
    "        'colsample_bytree': [0.5, 0.7],\n",
    "        'n_estimators' : [100, 200, 500],\n",
    "        'objective': ['reg:squarederror']\n",
    "    }\n",
    "\n",
    "    xgb_model = xg.XGBRegressor()\n",
    "\n",
    "    gsearch = GridSearchCV(estimator = xgb_model,\n",
    "                           param_grid = param_tuning,                        \n",
    "                           #scoring = 'neg_mean_absolute_error', #MAE\n",
    "                           #scoring = 'neg_mean_squared_error',  #MSE\n",
    "                           cv = 5,\n",
    "                           n_jobs = -1,\n",
    "                           verbose = 4)\n",
    "\n",
    "    gsearch.fit(X_train,y_train)\n",
    "\n",
    "    return gsearch.best_params_"
   ]
  },
  {
   "cell_type": "code",
   "execution_count": 11,
   "metadata": {},
   "outputs": [
    {
     "output_type": "stream",
     "name": "stdout",
     "text": [
      "Fitting 5 folds for each of 288 candidates, totalling 1440 fits\n",
      "[Parallel(n_jobs=-1)]: Using backend LokyBackend with 4 concurrent workers.\n",
      "[Parallel(n_jobs=-1)]: Done  17 tasks      | elapsed:    6.4s\n",
      "[Parallel(n_jobs=-1)]: Done  90 tasks      | elapsed:   30.0s\n",
      "[Parallel(n_jobs=-1)]: Done 213 tasks      | elapsed:  1.3min\n",
      "[Parallel(n_jobs=-1)]: Done 384 tasks      | elapsed:  2.4min\n",
      "[Parallel(n_jobs=-1)]: Done 605 tasks      | elapsed:  3.6min\n",
      "[Parallel(n_jobs=-1)]: Done 874 tasks      | elapsed:  5.3min\n",
      "[Parallel(n_jobs=-1)]: Done 1193 tasks      | elapsed:  7.4min\n",
      "[Parallel(n_jobs=-1)]: Done 1440 out of 1440 | elapsed:  9.0min finished\n"
     ]
    },
    {
     "output_type": "execute_result",
     "data": {
      "text/plain": [
       "{'colsample_bytree': 0.7,\n",
       " 'learning_rate': 0.01,\n",
       " 'max_depth': 5,\n",
       " 'min_child_weight': 1,\n",
       " 'n_estimators': 100,\n",
       " 'objective': 'reg:squarederror',\n",
       " 'subsample': 0.5}"
      ]
     },
     "metadata": {},
     "execution_count": 11
    }
   ],
   "source": [
    "hyperParameterTuning(X_b_train[:100], y_b_train[:100])"
   ]
  },
  {
   "source": [
    "## Support Vector Regression"
   ],
   "cell_type": "markdown",
   "metadata": {}
  }
 ]
}