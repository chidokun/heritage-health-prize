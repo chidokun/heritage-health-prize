{
 "metadata": {
  "language_info": {
   "codemirror_mode": {
    "name": "ipython",
    "version": 3
   },
   "file_extension": ".py",
   "mimetype": "text/x-python",
   "name": "python",
   "nbconvert_exporter": "python",
   "pygments_lexer": "ipython3",
   "version": "3.7.7-final"
  },
  "orig_nbformat": 2,
  "kernelspec": {
   "name": "python38164bittuanconda0d1158ff6a3f4103ab371d8d1b87e888",
   "display_name": "Python 3.8.1 64-bit ('tuan': conda)",
   "language": "python"
  }
 },
 "nbformat": 4,
 "nbformat_minor": 2,
 "cells": [
  {
   "source": [
    "# Model Building and Evaluation"
   ],
   "cell_type": "markdown",
   "metadata": {}
  },
  {
   "cell_type": "code",
   "execution_count": 1,
   "metadata": {},
   "outputs": [],
   "source": [
    "import numpy as np # Linear algebra\n",
    "import pandas as pd # Data processing, CSV file I/O (e.g. pd.read_csv)\n",
    "\n",
    "import matplotlib.pyplot as plt  # Matlab-style plotting\n",
    "# Make sure plot shows immediately\n",
    "%matplotlib inline \n",
    "import seaborn as sns # Library for plotting\n",
    "color = sns.color_palette()\n",
    "sns.set_style('darkgrid')\n",
    "\n",
    "from sklearn.svm import SVR\n",
    "from sklearn.model_selection import GridSearchCV\n",
    "from sklearn.metrics import make_scorer, mean_squared_error\n",
    "from xgboost import XGBRegressor\n",
    "from joblib import dump, load"
   ]
  },
  {
   "cell_type": "code",
   "execution_count": 2,
   "metadata": {},
   "outputs": [],
   "source": [
    "def rmsle(y_true, y_pred):\n",
    "    return np.sqrt(np.mean(np.power(np.log(y_pred + 1) - np.log(y_true + 1),2)))"
   ]
  },
  {
   "cell_type": "code",
   "execution_count": 3,
   "metadata": {},
   "outputs": [],
   "source": [
    "def show_gd_result(gd_result):\n",
    "    print(\"Best params: \", gd_result.best_params_)\n",
    "    print(\"Best score: \", gd_result.best_score_)"
   ]
  },
  {
   "cell_type": "code",
   "execution_count": 4,
   "metadata": {},
   "outputs": [],
   "source": [
    "def tune_xgb(X_train, y_train):\n",
    "    xgb_params = {\n",
    "        'learning_rate': [ 0.01, 0.1, 1],\n",
    "        'max_depth': [3, 5, 7],\n",
    "        'subsample': [0.3, 0.5, 0.7],\n",
    "        'n_estimators' : [100, 300, 500 ],\n",
    "    }\n",
    "\n",
    "    xgb_search = GridSearchCV(estimator = XGBRegressor(objective='reg:squarederror'),\n",
    "            param_grid = xgb_params,                        \n",
    "            scoring = make_scorer(rmsle, greater_is_better=False),\n",
    "            cv = 5,\n",
    "            n_jobs = -1,\n",
    "            verbose = 4)\n",
    "\n",
    "    xgb_search.fit(X_train,y_train)\n",
    "    return xgb_search"
   ]
  },
  {
   "cell_type": "code",
   "execution_count": 18,
   "metadata": {},
   "outputs": [],
   "source": [
    "def tune_svr(X_train, y_train):\n",
    "    svr_params = {\n",
    "        'C': [0.01, 0.1, 1, 10],\n",
    "        'epsilon': [0.0001, 0.001, 0.01, 0.1, 1],\n",
    "        'gamma': ['auto', 'scale']\n",
    "    }\n",
    "\n",
    "    svr_search = GridSearchCV(estimator = SVR(kernel=\"rbf\"),\n",
    "            param_grid = svr_params,                        \n",
    "            scoring = make_scorer(rmsle, greater_is_better=False),\n",
    "            cv = 5,\n",
    "            n_jobs = -1,\n",
    "            verbose = 4)\n",
    "\n",
    "    svr_search.fit(X_train, y_train)\n",
    "    return svr_search"
   ]
  },
  {
   "source": [
    "# Strategy A"
   ],
   "cell_type": "markdown",
   "metadata": {}
  },
  {
   "cell_type": "code",
   "execution_count": 6,
   "metadata": {},
   "outputs": [],
   "source": [
    "X_a_train = pd.read_csv(\"./processed/strategy-a/train/X_train.csv\", index_col=[\"MemberID\"])\n",
    "y_a_train = pd.read_csv(\"./processed/strategy-a/train/y_train.csv\", index_col=[\"MemberID\"])\n",
    "X_a_test = pd.read_csv(\"./processed/strategy-a/test/X_test.csv\", index_col=[\"MemberID\"])\n",
    "y_a_test = pd.read_csv(\"./processed/strategy-a/test/y_test.csv\", index_col=[\"MemberID\"])"
   ]
  },
  {
   "source": [
    "## XGBoost"
   ],
   "cell_type": "markdown",
   "metadata": {}
  },
  {
   "source": [
    "Tuning for XGBoost"
   ],
   "cell_type": "markdown",
   "metadata": {}
  },
  {
   "cell_type": "code",
   "execution_count": 7,
   "metadata": {},
   "outputs": [
    {
     "output_type": "stream",
     "name": "stdout",
     "text": [
      "Fitting 5 folds for each of 81 candidates, totalling 405 fits\n",
      "[Parallel(n_jobs=-1)]: Using backend LokyBackend with 4 concurrent workers.\n",
      "[Parallel(n_jobs=-1)]: Done  17 tasks      | elapsed:   37.8s\n",
      "[Parallel(n_jobs=-1)]: Done  90 tasks      | elapsed:  7.3min\n",
      "[Parallel(n_jobs=-1)]: Done 213 tasks      | elapsed: 17.0min\n",
      "[Parallel(n_jobs=-1)]: Done 384 tasks      | elapsed: 32.7min\n",
      "[Parallel(n_jobs=-1)]: Done 405 out of 405 | elapsed: 35.5min finished\n",
      "CPU times: user 4.35 s, sys: 249 ms, total: 4.6 s\n",
      "Wall time: 35min 30s\n"
     ]
    }
   ],
   "source": [
    "%%time\n",
    "a_xgb_search = tune_xgb(X_a_train.sample(5000, random_state=1).to_numpy(),y_a_train.sample(5000, random_state=1).to_numpy())"
   ]
  },
  {
   "cell_type": "code",
   "execution_count": 8,
   "metadata": {},
   "outputs": [
    {
     "output_type": "stream",
     "name": "stdout",
     "text": [
      "Best params:  {'learning_rate': 0.01, 'max_depth': 3, 'n_estimators': 100, 'subsample': 0.3}\nBest score:  -0.538593650095859\n"
     ]
    }
   ],
   "source": [
    "show_gd_result(a_xgb_search)"
   ]
  },
  {
   "cell_type": "code",
   "execution_count": 9,
   "metadata": {},
   "outputs": [
    {
     "output_type": "execute_result",
     "data": {
      "text/plain": [
       "0.5078447373821157"
      ]
     },
     "metadata": {},
     "execution_count": 9
    }
   ],
   "source": [
    "rmsle(y_a_test.to_numpy().T, a_xgb_search.best_estimator_.predict(X_a_test.to_numpy()))"
   ]
  },
  {
   "cell_type": "code",
   "execution_count": 10,
   "metadata": {},
   "outputs": [],
   "source": [
    "df_a_xgb_result = pd.DataFrame(a_xgb_search.cv_results_)\n",
    "df_a_xgb_result.to_csv(\"./processed/strategy-a/result/xgb_result.csv\", index=False)"
   ]
  },
  {
   "source": [
    "Re-train with best params "
   ],
   "cell_type": "markdown",
   "metadata": {}
  },
  {
   "cell_type": "code",
   "execution_count": 25,
   "metadata": {},
   "outputs": [],
   "source": [
    "xgb_a_best_param = {'learning_rate': 0.01, 'max_depth': 3, 'n_estimators': 100, 'subsample': 0.3}"
   ]
  },
  {
   "cell_type": "code",
   "execution_count": 26,
   "metadata": {},
   "outputs": [],
   "source": [
    "xgb_a_final = XGBRegressor(objective='reg:squarederror', **xgb_a_best_param)"
   ]
  },
  {
   "cell_type": "code",
   "execution_count": 27,
   "metadata": {},
   "outputs": [
    {
     "output_type": "stream",
     "name": "stdout",
     "text": [
      "CPU times: user 3.67 s, sys: 85.5 ms, total: 3.75 s\nWall time: 2.78 s\n"
     ]
    },
    {
     "output_type": "execute_result",
     "data": {
      "text/plain": [
       "XGBRegressor(base_score=0.5, booster='gbtree', colsample_bylevel=1,\n",
       "             colsample_bynode=1, colsample_bytree=1, gamma=0, gpu_id=-1,\n",
       "             importance_type='gain', interaction_constraints='',\n",
       "             learning_rate=0.01, max_delta_step=0, max_depth=3,\n",
       "             min_child_weight=1, missing=nan, monotone_constraints='()',\n",
       "             n_estimators=100, n_jobs=4, num_parallel_tree=1, random_state=0,\n",
       "             reg_alpha=0, reg_lambda=1, scale_pos_weight=1, subsample=0.3,\n",
       "             tree_method='exact', validate_parameters=1, verbosity=None)"
      ]
     },
     "metadata": {},
     "execution_count": 27
    }
   ],
   "source": [
    "%%time\n",
    "xgb_a_final.fit(X_a_train.sample(10000, random_state=2).to_numpy(),y_a_train.sample(10000, random_state=2).to_numpy())"
   ]
  },
  {
   "cell_type": "code",
   "execution_count": 28,
   "metadata": {},
   "outputs": [],
   "source": [
    "y_a_pred = xgb_a_final.predict(X_a_test.to_numpy())"
   ]
  },
  {
   "cell_type": "code",
   "execution_count": 29,
   "metadata": {},
   "outputs": [
    {
     "output_type": "execute_result",
     "data": {
      "text/plain": [
       "0.5029061268185858"
      ]
     },
     "metadata": {},
     "execution_count": 29
    }
   ],
   "source": [
    "rmsle(y_a_test.to_numpy().T, y_a_pred)"
   ]
  },
  {
   "cell_type": "code",
   "execution_count": 30,
   "metadata": {},
   "outputs": [
    {
     "output_type": "execute_result",
     "data": {
      "text/plain": [
       "['./processed/strategy-a/result/xgb.model']"
      ]
     },
     "metadata": {},
     "execution_count": 30
    }
   ],
   "source": [
    "dump(xgb_a_final, \"./processed/strategy-a/result/xgb.model\")"
   ]
  },
  {
   "source": [
    "## Support Vector Regression"
   ],
   "cell_type": "markdown",
   "metadata": {}
  },
  {
   "source": [
    "Tuning for Support Vector Regression"
   ],
   "cell_type": "markdown",
   "metadata": {}
  },
  {
   "cell_type": "code",
   "execution_count": 19,
   "metadata": {},
   "outputs": [
    {
     "output_type": "stream",
     "name": "stdout",
     "text": [
      "Fitting 5 folds for each of 40 candidates, totalling 200 fits\n",
      "[Parallel(n_jobs=-1)]: Using backend LokyBackend with 4 concurrent workers.\n",
      "[Parallel(n_jobs=-1)]: Done  17 tasks      | elapsed:    9.5s\n",
      "[Parallel(n_jobs=-1)]: Done  90 tasks      | elapsed:   49.1s\n",
      "[Parallel(n_jobs=-1)]: Done 200 out of 200 | elapsed:  4.0min finished\n",
      "CPU times: user 2.68 s, sys: 105 ms, total: 2.79 s\n",
      "Wall time: 3min 59s\n"
     ]
    }
   ],
   "source": [
    "%%time\n",
    "a_svr_search = tune_svr(X_a_train.sample(5000, random_state=1).to_numpy(),y_a_train.sample(5000, random_state=1).to_numpy())"
   ]
  },
  {
   "cell_type": "code",
   "execution_count": 20,
   "metadata": {},
   "outputs": [
    {
     "output_type": "stream",
     "name": "stdout",
     "text": [
      "Best params:  {'C': 0.1, 'epsilon': 0.1, 'gamma': 'scale'}\nBest score:  -0.4967324995325847\n"
     ]
    }
   ],
   "source": [
    "show_gd_result(a_svr_search)"
   ]
  },
  {
   "cell_type": "code",
   "execution_count": 21,
   "metadata": {},
   "outputs": [
    {
     "output_type": "execute_result",
     "data": {
      "text/plain": [
       "0.478414322491396"
      ]
     },
     "metadata": {},
     "execution_count": 21
    }
   ],
   "source": [
    "rmsle(y_a_test.to_numpy().T, a_svr_search.best_estimator_.predict(X_a_test.to_numpy()))"
   ]
  },
  {
   "cell_type": "code",
   "execution_count": 22,
   "metadata": {},
   "outputs": [],
   "source": [
    "df_a_svr_result = pd.DataFrame(a_svr_search.cv_results_)\n",
    "df_a_svr_result.to_csv(\"./processed/strategy-a/result/svr_result.csv\", index=False)"
   ]
  },
  {
   "source": [
    "Re-train with best params"
   ],
   "cell_type": "markdown",
   "metadata": {}
  },
  {
   "cell_type": "code",
   "execution_count": 31,
   "metadata": {},
   "outputs": [],
   "source": [
    "svr_a_best_param = {'C': 0.1, 'epsilon': 0.1, 'gamma': 'scale'}"
   ]
  },
  {
   "cell_type": "code",
   "execution_count": 32,
   "metadata": {},
   "outputs": [],
   "source": [
    "svr_a_final = SVR(**svr_a_best_param)"
   ]
  },
  {
   "cell_type": "code",
   "execution_count": 33,
   "metadata": {},
   "outputs": [
    {
     "output_type": "stream",
     "name": "stdout",
     "text": [
      "CPU times: user 7.58 s, sys: 197 ms, total: 7.78 s\nWall time: 9.21 s\n"
     ]
    },
    {
     "output_type": "execute_result",
     "data": {
      "text/plain": [
       "SVR(C=0.1)"
      ]
     },
     "metadata": {},
     "execution_count": 33
    }
   ],
   "source": [
    "%%time\n",
    "svr_a_final.fit(X_a_train.sample(10000, random_state=2).to_numpy(),y_a_train.sample(10000, random_state=2).to_numpy())"
   ]
  },
  {
   "cell_type": "code",
   "execution_count": 34,
   "metadata": {},
   "outputs": [],
   "source": [
    "y_a_pred = svr_a_final.predict(X_a_test.to_numpy())"
   ]
  },
  {
   "cell_type": "code",
   "execution_count": 35,
   "metadata": {},
   "outputs": [
    {
     "output_type": "execute_result",
     "data": {
      "text/plain": [
       "0.4803696068160331"
      ]
     },
     "metadata": {},
     "execution_count": 35
    }
   ],
   "source": [
    "rmsle(y_a_test.to_numpy().T, y_a_pred)"
   ]
  },
  {
   "cell_type": "code",
   "execution_count": 36,
   "metadata": {},
   "outputs": [
    {
     "output_type": "execute_result",
     "data": {
      "text/plain": [
       "['./processed/strategy-a/result/svr.model']"
      ]
     },
     "metadata": {},
     "execution_count": 36
    }
   ],
   "source": [
    "dump(svr_a_final, \"./processed/strategy-a/result/svr.model\")"
   ]
  },
  {
   "source": [
    "# Strategy B"
   ],
   "cell_type": "markdown",
   "metadata": {}
  },
  {
   "cell_type": "code",
   "execution_count": 23,
   "metadata": {},
   "outputs": [],
   "source": [
    "X_b_train = pd.read_csv(\"./processed/strategy-b/train/X_train.csv\", index_col=[\"MemberID\"])\n",
    "y_b_train = pd.read_csv(\"./processed/strategy-b/train/y_train.csv\", index_col=[\"MemberID\"])\n",
    "X_b_test = pd.read_csv(\"./processed/strategy-b/test/X_test.csv\", index_col=[\"MemberID\"])\n",
    "y_b_test = pd.read_csv(\"./processed/strategy-b/test/y_test.csv\", index_col=[\"MemberID\"])"
   ]
  },
  {
   "source": [
    "## XGBoost"
   ],
   "cell_type": "markdown",
   "metadata": {}
  },
  {
   "source": [
    "Tuning for XGBoost"
   ],
   "cell_type": "markdown",
   "metadata": {}
  },
  {
   "cell_type": "code",
   "execution_count": 37,
   "metadata": {},
   "outputs": [
    {
     "output_type": "stream",
     "name": "stdout",
     "text": [
      "Fitting 5 folds for each of 81 candidates, totalling 405 fits\n",
      "[Parallel(n_jobs=-1)]: Using backend LokyBackend with 4 concurrent workers.\n",
      "[Parallel(n_jobs=-1)]: Done  17 tasks      | elapsed:   39.4s\n",
      "[Parallel(n_jobs=-1)]: Done  90 tasks      | elapsed:  6.8min\n",
      "[Parallel(n_jobs=-1)]: Done 213 tasks      | elapsed: 21.6min\n",
      "[Parallel(n_jobs=-1)]: Done 384 tasks      | elapsed: 44.9min\n",
      "[Parallel(n_jobs=-1)]: Done 405 out of 405 | elapsed: 49.8min finished\n",
      "CPU times: user 4.84 s, sys: 288 ms, total: 5.13 s\n",
      "Wall time: 49min 49s\n"
     ]
    }
   ],
   "source": [
    "%%time\n",
    "b_xgb_search = tune_xgb(X_b_train.sample(5000, random_state=1).to_numpy(),y_b_train.sample(5000, random_state=1).to_numpy())"
   ]
  },
  {
   "cell_type": "code",
   "execution_count": 38,
   "metadata": {},
   "outputs": [
    {
     "output_type": "stream",
     "name": "stdout",
     "text": [
      "Best params:  {'learning_rate': 0.01, 'max_depth': 3, 'n_estimators': 100, 'subsample': 0.3}\nBest score:  -0.5189132992905694\n"
     ]
    }
   ],
   "source": [
    "show_gd_result(b_xgb_search)"
   ]
  },
  {
   "cell_type": "code",
   "execution_count": 39,
   "metadata": {},
   "outputs": [
    {
     "output_type": "execute_result",
     "data": {
      "text/plain": [
       "0.4945377380003405"
      ]
     },
     "metadata": {},
     "execution_count": 39
    }
   ],
   "source": [
    "rmsle(y_b_test.to_numpy().T, b_xgb_search.best_estimator_.predict(X_b_test.to_numpy()))"
   ]
  },
  {
   "cell_type": "code",
   "execution_count": 40,
   "metadata": {},
   "outputs": [],
   "source": [
    "df_b_xgb_result = pd.DataFrame(b_xgb_search.cv_results_)\n",
    "df_b_xgb_result.to_csv(\"./processed/strategy-b/result/xgb_result.csv\", index=False)"
   ]
  },
  {
   "source": [
    "Re-train with best params"
   ],
   "cell_type": "markdown",
   "metadata": {}
  },
  {
   "cell_type": "code",
   "execution_count": 41,
   "metadata": {},
   "outputs": [],
   "source": [
    "xgb_b_best_param = {'learning_rate': 0.01, 'max_depth': 3, 'n_estimators': 100, 'subsample': 0.3}"
   ]
  },
  {
   "cell_type": "code",
   "execution_count": 42,
   "metadata": {},
   "outputs": [],
   "source": [
    "xgb_b_final = XGBRegressor(objective='reg:squarederror', **xgb_b_best_param)"
   ]
  },
  {
   "cell_type": "code",
   "execution_count": 43,
   "metadata": {},
   "outputs": [
    {
     "output_type": "stream",
     "name": "stdout",
     "text": [
      "CPU times: user 4.67 s, sys: 107 ms, total: 4.78 s\nWall time: 3.19 s\n"
     ]
    },
    {
     "output_type": "execute_result",
     "data": {
      "text/plain": [
       "XGBRegressor(base_score=0.5, booster='gbtree', colsample_bylevel=1,\n",
       "             colsample_bynode=1, colsample_bytree=1, gamma=0, gpu_id=-1,\n",
       "             importance_type='gain', interaction_constraints='',\n",
       "             learning_rate=0.01, max_delta_step=0, max_depth=3,\n",
       "             min_child_weight=1, missing=nan, monotone_constraints='()',\n",
       "             n_estimators=100, n_jobs=4, num_parallel_tree=1, random_state=0,\n",
       "             reg_alpha=0, reg_lambda=1, scale_pos_weight=1, subsample=0.3,\n",
       "             tree_method='exact', validate_parameters=1, verbosity=None)"
      ]
     },
     "metadata": {},
     "execution_count": 43
    }
   ],
   "source": [
    "%%time\n",
    "xgb_b_final.fit(X_b_train.sample(10000, random_state=2).to_numpy(),y_b_train.sample(10000, random_state=2).to_numpy())"
   ]
  },
  {
   "cell_type": "code",
   "execution_count": 44,
   "metadata": {},
   "outputs": [],
   "source": [
    "y_b_pred = xgb_b_final.predict(X_b_test.to_numpy())"
   ]
  },
  {
   "cell_type": "code",
   "execution_count": 45,
   "metadata": {},
   "outputs": [
    {
     "output_type": "execute_result",
     "data": {
      "text/plain": [
       "0.49550572912214236"
      ]
     },
     "metadata": {},
     "execution_count": 45
    }
   ],
   "source": [
    "rmsle(y_b_test.to_numpy().T, y_b_pred)"
   ]
  },
  {
   "source": [
    "Save model"
   ],
   "cell_type": "markdown",
   "metadata": {}
  },
  {
   "cell_type": "code",
   "execution_count": 46,
   "metadata": {},
   "outputs": [
    {
     "output_type": "execute_result",
     "data": {
      "text/plain": [
       "['./processed/strategy-b/result/xgb.model']"
      ]
     },
     "metadata": {},
     "execution_count": 46
    }
   ],
   "source": [
    "dump(xgb_b_final, \"./processed/strategy-b/result/xgb.model\")"
   ]
  },
  {
   "source": [
    "## Support Vector Regression"
   ],
   "cell_type": "markdown",
   "metadata": {}
  },
  {
   "source": [
    "Tuning for Support Vector Regression"
   ],
   "cell_type": "markdown",
   "metadata": {}
  },
  {
   "cell_type": "code",
   "execution_count": 47,
   "metadata": {},
   "outputs": [
    {
     "output_type": "stream",
     "name": "stdout",
     "text": [
      "Fitting 5 folds for each of 40 candidates, totalling 200 fits\n",
      "[Parallel(n_jobs=-1)]: Using backend LokyBackend with 4 concurrent workers.\n",
      "[Parallel(n_jobs=-1)]: Done  17 tasks      | elapsed:   39.6s\n",
      "[Parallel(n_jobs=-1)]: Done  90 tasks      | elapsed:  2.9min\n",
      "[Parallel(n_jobs=-1)]: Done 200 out of 200 | elapsed:  7.5min finished\n",
      "CPU times: user 7.18 s, sys: 249 ms, total: 7.43 s\n",
      "Wall time: 7min 37s\n"
     ]
    }
   ],
   "source": [
    "%%time\n",
    "b_svr_search = tune_svr(X_b_train.sample(5000, random_state=1).to_numpy(),y_b_train.sample(5000, random_state=1).to_numpy())"
   ]
  },
  {
   "cell_type": "code",
   "execution_count": 48,
   "metadata": {},
   "outputs": [
    {
     "output_type": "stream",
     "name": "stdout",
     "text": [
      "Best params:  {'C': 1, 'epsilon': 0.01, 'gamma': 'auto'}\nBest score:  -0.4727802739832475\n"
     ]
    }
   ],
   "source": [
    "show_gd_result(b_svr_search)"
   ]
  },
  {
   "cell_type": "code",
   "execution_count": 49,
   "metadata": {},
   "outputs": [
    {
     "output_type": "execute_result",
     "data": {
      "text/plain": [
       "0.4741860679910001"
      ]
     },
     "metadata": {},
     "execution_count": 49
    }
   ],
   "source": [
    "rmsle(y_b_test.to_numpy().T, b_svr_search.best_estimator_.predict(X_b_test.to_numpy()))"
   ]
  },
  {
   "cell_type": "code",
   "execution_count": 50,
   "metadata": {},
   "outputs": [],
   "source": [
    "df_b_svr_result = pd.DataFrame(b_svr_search.cv_results_)\n",
    "df_b_svr_result.to_csv(\"./processed/strategy-b/result/svr_result.csv\", index=False)"
   ]
  },
  {
   "source": [
    "Re-train with best params"
   ],
   "cell_type": "markdown",
   "metadata": {}
  },
  {
   "cell_type": "code",
   "execution_count": 51,
   "metadata": {},
   "outputs": [],
   "source": [
    "svr_b_best_param = {'C': 1, 'epsilon': 0.01, 'gamma': 'auto'}"
   ]
  },
  {
   "cell_type": "code",
   "execution_count": 52,
   "metadata": {},
   "outputs": [],
   "source": [
    "svr_b_final = SVR(**svr_b_best_param)"
   ]
  },
  {
   "cell_type": "code",
   "execution_count": 53,
   "metadata": {},
   "outputs": [
    {
     "output_type": "stream",
     "name": "stdout",
     "text": [
      "CPU times: user 1min 33s, sys: 1.68 s, total: 1min 35s\nWall time: 2min 13s\n"
     ]
    },
    {
     "output_type": "execute_result",
     "data": {
      "text/plain": [
       "SVR(C=1, epsilon=0.01, gamma='auto')"
      ]
     },
     "metadata": {},
     "execution_count": 53
    }
   ],
   "source": [
    "%%time\n",
    "svr_b_final.fit(X_b_train.sample(10000, random_state=2).to_numpy(),y_b_train.sample(10000, random_state=2).to_numpy())"
   ]
  },
  {
   "cell_type": "code",
   "execution_count": 54,
   "metadata": {},
   "outputs": [],
   "source": [
    "y_b_pred = svr_b_final.predict(X_b_test.to_numpy())"
   ]
  },
  {
   "cell_type": "code",
   "execution_count": 55,
   "metadata": {},
   "outputs": [
    {
     "output_type": "execute_result",
     "data": {
      "text/plain": [
       "0.47406410624280426"
      ]
     },
     "metadata": {},
     "execution_count": 55
    }
   ],
   "source": [
    "rmsle(y_b_test.to_numpy().T, y_b_pred)"
   ]
  },
  {
   "cell_type": "code",
   "execution_count": 56,
   "metadata": {},
   "outputs": [
    {
     "output_type": "execute_result",
     "data": {
      "text/plain": [
       "['./processed/strategy-b/result/svr.model']"
      ]
     },
     "metadata": {},
     "execution_count": 56
    }
   ],
   "source": [
    "dump(svr_b_final, \"./processed/strategy-b/result/svr.model\")"
   ]
  },
  {
   "cell_type": "code",
   "execution_count": null,
   "metadata": {},
   "outputs": [],
   "source": []
  }
 ]
}