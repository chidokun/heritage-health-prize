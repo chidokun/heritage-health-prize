{
 "metadata": {
  "language_info": {
   "codemirror_mode": {
    "name": "ipython",
    "version": 3
   },
   "file_extension": ".py",
   "mimetype": "text/x-python",
   "name": "python",
   "nbconvert_exporter": "python",
   "pygments_lexer": "ipython3",
   "version": "3.7.7-final"
  },
  "orig_nbformat": 2,
  "kernelspec": {
   "name": "python38164bittuanconda0d1158ff6a3f4103ab371d8d1b87e888",
   "display_name": "Python 3.8.1 64-bit ('tuan': conda)"
  }
 },
 "nbformat": 4,
 "nbformat_minor": 2,
 "cells": [
  {
   "source": [
    "# HHP Data Analytics"
   ],
   "cell_type": "markdown",
   "metadata": {}
  },
  {
   "cell_type": "code",
   "execution_count": 3,
   "metadata": {},
   "outputs": [],
   "source": [
    "import numpy as np # Linear algebra\n",
    "import pandas as pd # Data processing, CSV file I/O (e.g. pd.read_csv)\n",
    "\n",
    "import matplotlib.pyplot as plt  # Matlab-style plotting\n",
    "# Make sure plot shows immediately\n",
    "%matplotlib inline \n",
    "\n",
    "import seaborn as sns # Library for plotting\n",
    "color = sns.color_palette()\n",
    "sns.set_style('darkgrid')"
   ]
  },
  {
   "cell_type": "code",
   "execution_count": 4,
   "metadata": {},
   "outputs": [],
   "source": [
    "df_claims = pd.read_csv(\"./data/Claims.csv\")\n",
    "df_day_y2 = pd.read_csv(\"./data/DaysInHospital_Y2.csv\")\n",
    "df_day_y3 = pd.read_csv(\"./data/DaysInHospital_Y3.csv\")\n",
    "df_drug = pd.read_csv(\"./data/DrugCount.csv\")\n",
    "df_lab = pd.read_csv(\"./data/LabCount.csv\")\n",
    "df_lk_primary = pd.read_csv(\"./data/Lookup ProcedureGroup.csv\")\n",
    "df_lk_procedure = pd.read_csv(\"./data/Lookup ProcedureGroup.csv\")\n",
    "df_members = pd.read_csv(\"./data/Members.csv\")\n",
    "df_target = pd.read_csv(\"./data/Target.csv\")"
   ]
  },
  {
   "cell_type": "code",
   "execution_count": 5,
   "metadata": {},
   "outputs": [],
   "source": [
    "def show_stt(df):\n",
    "    print(\"Shape: \", df.shape)\n",
    "    print(\"Dtypes: \", df.dtypes)\n",
    "    print(\"Describe: \\n\", df.describe())\n",
    "    print(\"Sample: \\n\", df.sample(5))\n",
    "    print(\"Unique value: \")\n",
    "    ls = list(filter(lambda i : df[i].dtype == 'object', list(df.columns)))\n",
    "    for i in ls:\n",
    "        print(\"[{}]: {}\".format(i, df[i].unique()))\n",
    "\n"
   ]
  },
  {
   "cell_type": "code",
   "execution_count": 6,
   "metadata": {},
   "outputs": [
    {
     "output_type": "stream",
     "name": "stdout",
     "text": [
      "Shape:  (2668990, 14)\n",
      "Dtypes:  MemberID                   int64\n",
      "ProviderID               float64\n",
      "Vendor                   float64\n",
      "PCP                      float64\n",
      "Year                      object\n",
      "Specialty                 object\n",
      "PlaceSvc                  object\n",
      "PayDelay                  object\n",
      "LengthOfStay              object\n",
      "DSFS                      object\n",
      "PrimaryConditionGroup     object\n",
      "CharlsonIndex             object\n",
      "ProcedureGroup            object\n",
      "SupLOS                     int64\n",
      "dtype: object\n",
      "Describe: \n",
      "            MemberID    ProviderID        Vendor           PCP        SupLOS\n",
      "count  2.668990e+06  2.652726e+06  2.644134e+06  2.661498e+06  2.668990e+06\n",
      "mean   4.998824e+07  5.070900e+06  3.806974e+05  5.133819e+04  4.245801e-03\n",
      "std    2.892240e+07  2.868035e+06  2.729317e+05  2.920591e+04  6.502135e-02\n",
      "min    4.000000e+00  4.720000e+02  3.900000e+01  7.400000e+01  0.000000e+00\n",
      "25%    2.480119e+07  2.467684e+06  1.526100e+05  2.746700e+04  0.000000e+00\n",
      "50%    4.992606e+07  5.442161e+06  2.518090e+05  4.799000e+04  0.000000e+00\n",
      "75%    7.532789e+07  7.053364e+06  5.885440e+05  7.587600e+04  0.000000e+00\n",
      "max    9.999882e+07  9.999241e+06  9.998740e+05  9.990500e+04  1.000000e+00\n",
      "Sample: \n",
      "          MemberID  ProviderID    Vendor      PCP Year         Specialty  \\\n",
      "1496133  79965949   3449013.0   72527.0    907.0   Y3        Pediatrics   \n",
      "553107   17989847   7053364.0  240043.0  94891.0   Y3        Laboratory   \n",
      "2177592  30812617   6083041.0  140343.0  30569.0   Y2          Internal   \n",
      "2127244  40680091   9387258.0  346216.0  66621.0   Y1  General Practice   \n",
      "1899312  63847432   4107701.0  164823.0  32724.0   Y1        Laboratory   \n",
      "\n",
      "                   PlaceSvc PayDelay LengthOfStay          DSFS  \\\n",
      "1496133  Inpatient Hospital       46          NaN   6- 7 months   \n",
      "553107      Independent Lab       21          NaN   1- 2 months   \n",
      "2177592              Office       28          NaN  10-11 months   \n",
      "2127244              Office       36          NaN   8- 9 months   \n",
      "1899312     Independent Lab       21          NaN   3- 4 months   \n",
      "\n",
      "        PrimaryConditionGroup CharlsonIndex ProcedureGroup  SupLOS  \n",
      "1496133               PERINTL             0             EM       0  \n",
      "553107                 RENAL3           1-2             PL       0  \n",
      "2177592                 ROAMI             0            MED       0  \n",
      "2127244               GIBLEED             0             EM       0  \n",
      "1899312                SKNAUT           1-2             PL       0  \n",
      "Unique value: \n",
      "[Year]: ['Y1' 'Y3' 'Y2']\n",
      "[Specialty]: ['Surgery' 'Internal' 'Laboratory' 'Pediatrics' 'Rehabilitation'\n",
      " 'Diagnostic Imaging' 'Anesthesiology' 'Emergency' 'General Practice'\n",
      " 'Other' 'Obstetrics and Gynecology' 'Pathology' nan]\n",
      "[PlaceSvc]: ['Office' 'Independent Lab' 'Outpatient Hospital' 'Inpatient Hospital'\n",
      " 'Urgent Care' 'Ambulance' 'Home' nan 'Other']\n",
      "[PayDelay]: ['28' '50' '14' '24' '27' '25' '162+' '29' '42' '56' '37' '51' '22' '21'\n",
      " '143' '62' '46' '31' '34' '16' '23' '48' '75' '17' '0' '84' '35' '41'\n",
      " '30' '148' '65' '45' '60' '18' '49' '15' '93' '74' '66' '26' '135' '9'\n",
      " '20' '112' '72' '36' '39' '63' '55' '53' '11' '88' '58' '136' '4' '47'\n",
      " '155' '43' '7' '71' '13' '8' '115' '70' '44' '57' '82' '59' '128' '103'\n",
      " '78' '3' '19' '80' '73' '32' '120' '79' '10' '94' '86' '38' '106' '85'\n",
      " '111' '133' '76' '122' '52' '127' '101' '67' '12' '81' '5' '92' '40'\n",
      " '140' '69' '64' '87' '105' '116' '61' '123' '89' '109' '134' '98' '114'\n",
      " '156' '68' '91' '90' '83' '126' '142' '144' '154' '118' '107' '54' '130'\n",
      " '150' '33' '108' '100' '99' '102' '161' '159' '97' '121' '95' '158' '77'\n",
      " '147' '157' '153' '104' '113' '141' '132' '152' '125' '110' '131' '145'\n",
      " '139' '137' '119' '129' '96' '117' '149' '6' '124' '146' '138' '160'\n",
      " '151' '2' '1']\n",
      "[LengthOfStay]: [nan '1 day' '2- 4 weeks' '2 days' '3 days' '4 days' '1- 2 weeks'\n",
      " '4- 8 weeks' '6 days' '5 days' '26+ weeks']\n",
      "[DSFS]: ['8- 9 months' '7- 8 months' '0- 1 month' '5- 6 months' '4- 5 months'\n",
      " '3- 4 months' '1- 2 months' nan '6- 7 months' '10-11 months'\n",
      " '11-12 months' '2- 3 months' '9-10 months']\n",
      "[PrimaryConditionGroup]: ['NEUMENT' 'METAB3' 'FXDISLC' 'TRAUMA' 'RESPR4' 'INFEC4' 'MISCHRT'\n",
      " 'ARTHSPIN' 'ROAMI' 'HEART2' 'MSC2a3' 'PNEUM' 'MISCL5' 'GIOBSENT' 'RENAL3'\n",
      " 'GYNEC1' 'AMI' 'UTI' 'COPD' 'GIBLEED' 'HIPFX' 'SKNAUT' 'CANCRB' 'SEIZURE'\n",
      " 'CHF' 'PRGNCY' 'METAB1' 'HEART4' 'ODaBNCA' 'HEMTOL' 'GYNECA' 'APPCHOL'\n",
      " 'MISCL1' 'RENAL2' nan 'STROKE' 'PERVALV' 'CANCRA' 'CATAST' 'FLaELEC'\n",
      " 'SEPSIS' 'LIVERDZ' 'PNCRDZ' 'RENAL1' 'CANCRM' 'PERINTL']\n",
      "[CharlsonIndex]: ['0' '1-2' '3-4' '5+']\n",
      "[ProcedureGroup]: ['MED' 'EM' 'SCS' 'RAD' 'ANES' 'SDS' 'PL' 'SIS' 'SMS' 'SGS' 'SEOA' 'SNS'\n",
      " nan 'SAS' 'SRS' 'SUS' 'SO' 'SMCD']\n"
     ]
    }
   ],
   "source": [
    "show_stt(df_claims)"
   ]
  },
  {
   "cell_type": "code",
   "execution_count": 7,
   "metadata": {},
   "outputs": [
    {
     "output_type": "stream",
     "name": "stdout",
     "text": [
      "Shape:  (76038, 3)\nDtypes:  MemberID           int64\nClaimsTruncated    int64\nDaysInHospital     int64\ndtype: object\nDescribe: \n            MemberID  ClaimsTruncated  DaysInHospital\ncount  7.603800e+04     76038.000000    76038.000000\nmean   4.994761e+07         0.052224        0.467095\nstd    2.890145e+07         0.222480        1.612194\nmin    2.100000e+02         0.000000        0.000000\n25%    2.483719e+07         0.000000        0.000000\n50%    4.990721e+07         0.000000        0.000000\n75%    7.510112e+07         0.000000        0.000000\nmax    9.999863e+07         1.000000       15.000000\nSample: \n        MemberID  ClaimsTruncated  DaysInHospital\n67662   3507042                0               0\n17102  35805415                0               0\n42624  89205733                1               0\n29574  70509840                0               0\n73107  85373499                0               0\nUnique value: \n"
     ]
    }
   ],
   "source": [
    "show_stt(df_day_y2)"
   ]
  },
  {
   "cell_type": "code",
   "execution_count": 8,
   "metadata": {},
   "outputs": [
    {
     "output_type": "stream",
     "name": "stdout",
     "text": [
      "Shape:  (71435, 3)\nDtypes:  MemberID           int64\nClaimsTruncated    int64\nDaysInHospital     int64\ndtype: object\nDescribe: \n            MemberID  ClaimsTruncated  DaysInHospital\ncount  7.143500e+04     71435.000000    71435.000000\nmean   4.993986e+07         0.056611        0.437895\nstd    2.894077e+07         0.231099        1.531780\nmin    4.000000e+00         0.000000        0.000000\n25%    2.477813e+07         0.000000        0.000000\n50%    4.995379e+07         0.000000        0.000000\n75%    7.521986e+07         0.000000        0.000000\nmax    9.999882e+07         1.000000       15.000000\nSample: \n        MemberID  ClaimsTruncated  DaysInHospital\n1432   91501361                0               0\n54121  13734597                0               0\n69170  69529282                0               0\n12977  67711412                0               2\n68630  73811167                0               1\nUnique value: \n"
     ]
    }
   ],
   "source": [
    "show_stt(df_day_y3)"
   ]
  },
  {
   "cell_type": "code",
   "execution_count": 9,
   "metadata": {},
   "outputs": [
    {
     "output_type": "stream",
     "name": "stdout",
     "text": [
      "Shape:  (818241, 4)\n",
      "Dtypes:  MemberID      int64\n",
      "Year         object\n",
      "DSFS         object\n",
      "DrugCount    object\n",
      "dtype: object\n",
      "Describe: \n",
      "            MemberID\n",
      "count  8.182410e+05\n",
      "mean   4.996952e+07\n",
      "std    2.893926e+07\n",
      "min    2.100000e+02\n",
      "25%    2.480562e+07\n",
      "50%    4.990342e+07\n",
      "75%    7.526906e+07\n",
      "max    9.999863e+07\n",
      "Sample: \n",
      "         MemberID Year          DSFS DrugCount\n",
      "367384   3863422   Y2   5- 6 months         4\n",
      "403129  90940623   Y1  10-11 months         2\n",
      "164883  13919855   Y3   6- 7 months         2\n",
      "44586    3348116   Y1   2- 3 months         1\n",
      "333298  98843115   Y1   2- 3 months         3\n",
      "Unique value: \n",
      "[Year]: ['Y2' 'Y3' 'Y1']\n",
      "[DSFS]: ['9-10 months' '8- 9 months' '2- 3 months' '1- 2 months' '10-11 months'\n",
      " '4- 5 months' '6- 7 months' '7- 8 months' '0- 1 month' '3- 4 months'\n",
      " '11-12 months' '5- 6 months']\n",
      "[DrugCount]: ['7+' '3' '1' '4' '2' '5' '6']\n"
     ]
    }
   ],
   "source": [
    "show_stt(df_drug)"
   ]
  },
  {
   "cell_type": "code",
   "execution_count": 10,
   "metadata": {},
   "outputs": [
    {
     "output_type": "stream",
     "name": "stdout",
     "text": [
      "Shape:  (361484, 4)\n",
      "Dtypes:  MemberID     int64\n",
      "Year        object\n",
      "DSFS        object\n",
      "LabCount    object\n",
      "dtype: object\n",
      "Describe: \n",
      "            MemberID\n",
      "count  3.614840e+05\n",
      "mean   5.001794e+07\n",
      "std    2.895612e+07\n",
      "min    2.100000e+02\n",
      "25%    2.475847e+07\n",
      "50%    4.995531e+07\n",
      "75%    7.537901e+07\n",
      "max    9.999882e+07\n",
      "Sample: \n",
      "         MemberID Year          DSFS LabCount\n",
      "302154  56015707   Y3   3- 4 months        4\n",
      "355275  35888849   Y1  10-11 months        3\n",
      "61100   28069002   Y3    0- 1 month        1\n",
      "162600  55296427   Y1   5- 6 months      10+\n",
      "229948  66053726   Y3    0- 1 month        6\n",
      "Unique value: \n",
      "[Year]: ['Y3' 'Y1' 'Y2']\n",
      "[DSFS]: ['2- 3 months' '0- 1 month' '6- 7 months' '3- 4 months' '7- 8 months'\n",
      " '4- 5 months' '10-11 months' '8- 9 months' '1- 2 months' '5- 6 months'\n",
      " '9-10 months' '11-12 months']\n",
      "[LabCount]: ['1' '2' '6' '4' '5' '3' '8' '10+' '7' '9']\n"
     ]
    }
   ],
   "source": [
    "show_stt(df_lab)"
   ]
  },
  {
   "cell_type": "code",
   "execution_count": 11,
   "metadata": {},
   "outputs": [
    {
     "output_type": "stream",
     "name": "stdout",
     "text": [
      "Shape:  (17, 2)\nDtypes:  ProcedureGroup    object\nDescription       object\ndtype: object\nDescribe: \n        ProcedureGroup             Description\ncount              17                      17\nunique             17                      17\ntop                EM  Surgery-Genital System\nfreq                1                       1\nSample: \n    ProcedureGroup                   Description\n5             SAS       Surgery-Auditory System\n9             SGS        Surgery-Genital System\n1              EM     Evaluation and Management\n13            SNS        Surgery-Nervous System\n10            SIS  Surgery-Integumentary System\nUnique value: \n[ProcedureGroup]: ['ANES' 'EM' 'MED' 'PL' 'RAD' 'SAS' 'SCS' 'SDS' 'SEOA' 'SGS' 'SIS' 'SMCD'\n 'SMS' 'SNS' 'SO' 'SRS' 'SUS']\n[Description]: ['Anesthesia' 'Evaluation and Management' 'Medicine'\n 'Pathology and Laboratory' 'Radiology' 'Surgery-Auditory System'\n 'Surgery-Cardiovascular System' 'Surgery-Digestive System'\n 'Surgery-Eye and Ocular Adnexa' 'Surgery-Genital System'\n 'Surgery-Integumentary System' 'Surgery-Maternity Care and Delivery'\n 'Surgery-Musculoskeletal System' 'Surgery-Nervous System' 'Surgery-Other'\n 'Surgery-Respiratory System' 'Surgery-Urinary System']\n"
     ]
    }
   ],
   "source": [
    "show_stt(df_lk_procedure)"
   ]
  },
  {
   "cell_type": "code",
   "execution_count": 12,
   "metadata": {},
   "outputs": [
    {
     "output_type": "stream",
     "name": "stdout",
     "text": [
      "Shape:  (17, 2)\nDtypes:  ProcedureGroup    object\nDescription       object\ndtype: object\nDescribe: \n        ProcedureGroup             Description\ncount              17                      17\nunique             17                      17\ntop                EM  Surgery-Genital System\nfreq                1                       1\nSample: \n    ProcedureGroup                     Description\n12            SMS  Surgery-Musculoskeletal System\n8            SEOA   Surgery-Eye and Ocular Adnexa\n5             SAS         Surgery-Auditory System\n16            SUS          Surgery-Urinary System\n0            ANES                      Anesthesia\nUnique value: \n[ProcedureGroup]: ['ANES' 'EM' 'MED' 'PL' 'RAD' 'SAS' 'SCS' 'SDS' 'SEOA' 'SGS' 'SIS' 'SMCD'\n 'SMS' 'SNS' 'SO' 'SRS' 'SUS']\n[Description]: ['Anesthesia' 'Evaluation and Management' 'Medicine'\n 'Pathology and Laboratory' 'Radiology' 'Surgery-Auditory System'\n 'Surgery-Cardiovascular System' 'Surgery-Digestive System'\n 'Surgery-Eye and Ocular Adnexa' 'Surgery-Genital System'\n 'Surgery-Integumentary System' 'Surgery-Maternity Care and Delivery'\n 'Surgery-Musculoskeletal System' 'Surgery-Nervous System' 'Surgery-Other'\n 'Surgery-Respiratory System' 'Surgery-Urinary System']\n"
     ]
    }
   ],
   "source": [
    "show_stt(df_lk_primary)"
   ]
  },
  {
   "cell_type": "code",
   "execution_count": 13,
   "metadata": {},
   "outputs": [
    {
     "output_type": "stream",
     "name": "stdout",
     "text": [
      "Shape:  (113000, 3)\n",
      "Dtypes:  MemberID            int64\n",
      "AgeAtFirstClaim    object\n",
      "Sex                object\n",
      "dtype: object\n",
      "Describe: \n",
      "            MemberID\n",
      "count  1.130000e+05\n",
      "mean   4.987601e+07\n",
      "std    2.890233e+07\n",
      "min    4.000000e+00\n",
      "25%    2.473595e+07\n",
      "50%    4.988244e+07\n",
      "75%    7.500351e+07\n",
      "max    9.999882e+07\n",
      "Sample: \n",
      "         MemberID AgeAtFirstClaim Sex\n",
      "39695   98359437           50-59   F\n",
      "84646   55585314             0-9   F\n",
      "92398   64574075           50-59   M\n",
      "86368   66340346           20-29   M\n",
      "101236  14427998             0-9   F\n",
      "Unique value: \n",
      "[AgeAtFirstClaim]: ['70-79' '40-49' '0-9' '30-39' '50-59' '60-69' '10-19' '80+' '20-29' nan]\n",
      "[Sex]: ['M' 'F' nan]\n"
     ]
    }
   ],
   "source": [
    "show_stt(df_members)"
   ]
  },
  {
   "cell_type": "code",
   "execution_count": 14,
   "metadata": {},
   "outputs": [
    {
     "output_type": "stream",
     "name": "stdout",
     "text": [
      "Shape:  (70942, 3)\n",
      "Dtypes:  MemberID             int64\n",
      "ClaimsTruncated      int64\n",
      "DaysInHospital     float64\n",
      "dtype: object\n",
      "Describe: \n",
      "            MemberID  ClaimsTruncated  DaysInHospital\n",
      "count  7.094200e+04     70942.000000             0.0\n",
      "mean   4.991530e+07         0.055933             NaN\n",
      "std    2.893409e+07         0.229794             NaN\n",
      "min    2.100000e+02         0.000000             NaN\n",
      "25%    2.472547e+07         0.000000             NaN\n",
      "50%    4.994500e+07         0.000000             NaN\n",
      "75%    7.514558e+07         0.000000             NaN\n",
      "max    9.999748e+07         1.000000             NaN\n",
      "Sample: \n",
      "        MemberID  ClaimsTruncated  DaysInHospital\n",
      "70009  63525218                0             NaN\n",
      "45714  64246235                0             NaN\n",
      "10412   5261621                0             NaN\n",
      "21145   7540740                0             NaN\n",
      "34116  87514604                0             NaN\n",
      "Unique value: \n"
     ]
    }
   ],
   "source": [
    "show_stt(df_target)"
   ]
  },
  {
   "source": [
    "# DrugCount\n"
   ],
   "cell_type": "markdown",
   "metadata": {}
  },
  {
   "cell_type": "code",
   "execution_count": 16,
   "metadata": {},
   "outputs": [
    {
     "output_type": "stream",
     "name": "stdout",
     "text": [
      "Shape:  (818241, 4)\nDtypes:  MemberID      int64\nYear         object\nDSFS         object\nDrugCount    object\ndtype: object\nDescribe: \n            MemberID\ncount  8.182410e+05\nmean   4.996952e+07\nstd    2.893926e+07\nmin    2.100000e+02\n25%    2.480562e+07\n50%    4.990342e+07\n75%    7.526906e+07\nmax    9.999863e+07\nSample: \n         MemberID Year         DSFS DrugCount\n322344  64563799   Y1   0- 1 month         2\n19767   26791527   Y3  3- 4 months         1\n801016  43093076   Y2  2- 3 months         2\n159224  56354483   Y1   0- 1 month         1\n93764   66415715   Y2  4- 5 months         1\nUnique value: \n[Year]: ['Y2' 'Y3' 'Y1']\n[DSFS]: ['9-10 months' '8- 9 months' '2- 3 months' '1- 2 months' '10-11 months'\n '4- 5 months' '6- 7 months' '7- 8 months' '0- 1 month' '3- 4 months'\n '11-12 months' '5- 6 months']\n[DrugCount]: ['7+' '3' '1' '4' '2' '5' '6']\n"
     ]
    }
   ],
   "source": [
    "show_stt(df_drug)"
   ]
  },
  {
   "cell_type": "code",
   "execution_count": 17,
   "metadata": {},
   "outputs": [
    {
     "output_type": "execute_result",
     "data": {
      "text/plain": [
       "75998"
      ]
     },
     "metadata": {},
     "execution_count": 17
    }
   ],
   "source": [
    "df_drug[\"MemberID\"].nunique()"
   ]
  },
  {
   "cell_type": "code",
   "execution_count": 18,
   "metadata": {},
   "outputs": [
    {
     "output_type": "execute_result",
     "data": {
      "text/plain": [
       "          Year  DSFS  DrugCount\n",
       "MemberID                       \n",
       "210          7     7          7\n",
       "3197        11    11         11\n",
       "3713         4     4          4\n",
       "3741        11    11         11\n",
       "3889        10    10         10\n",
       "...        ...   ...        ...\n",
       "99994536     2     2          2\n",
       "99995391    18    18         18\n",
       "99995554     5     5          5\n",
       "99997485     2     2          2\n",
       "99998627     1     1          1\n",
       "\n",
       "[75998 rows x 3 columns]"
      ],
      "text/html": "<div>\n<style scoped>\n    .dataframe tbody tr th:only-of-type {\n        vertical-align: middle;\n    }\n\n    .dataframe tbody tr th {\n        vertical-align: top;\n    }\n\n    .dataframe thead th {\n        text-align: right;\n    }\n</style>\n<table border=\"1\" class=\"dataframe\">\n  <thead>\n    <tr style=\"text-align: right;\">\n      <th></th>\n      <th>Year</th>\n      <th>DSFS</th>\n      <th>DrugCount</th>\n    </tr>\n    <tr>\n      <th>MemberID</th>\n      <th></th>\n      <th></th>\n      <th></th>\n    </tr>\n  </thead>\n  <tbody>\n    <tr>\n      <th>210</th>\n      <td>7</td>\n      <td>7</td>\n      <td>7</td>\n    </tr>\n    <tr>\n      <th>3197</th>\n      <td>11</td>\n      <td>11</td>\n      <td>11</td>\n    </tr>\n    <tr>\n      <th>3713</th>\n      <td>4</td>\n      <td>4</td>\n      <td>4</td>\n    </tr>\n    <tr>\n      <th>3741</th>\n      <td>11</td>\n      <td>11</td>\n      <td>11</td>\n    </tr>\n    <tr>\n      <th>3889</th>\n      <td>10</td>\n      <td>10</td>\n      <td>10</td>\n    </tr>\n    <tr>\n      <th>...</th>\n      <td>...</td>\n      <td>...</td>\n      <td>...</td>\n    </tr>\n    <tr>\n      <th>99994536</th>\n      <td>2</td>\n      <td>2</td>\n      <td>2</td>\n    </tr>\n    <tr>\n      <th>99995391</th>\n      <td>18</td>\n      <td>18</td>\n      <td>18</td>\n    </tr>\n    <tr>\n      <th>99995554</th>\n      <td>5</td>\n      <td>5</td>\n      <td>5</td>\n    </tr>\n    <tr>\n      <th>99997485</th>\n      <td>2</td>\n      <td>2</td>\n      <td>2</td>\n    </tr>\n    <tr>\n      <th>99998627</th>\n      <td>1</td>\n      <td>1</td>\n      <td>1</td>\n    </tr>\n  </tbody>\n</table>\n<p>75998 rows × 3 columns</p>\n</div>"
     },
     "metadata": {},
     "execution_count": 18
    }
   ],
   "source": [
    "df_drug.groupby(\"MemberID\").count()"
   ]
  },
  {
   "cell_type": "code",
   "execution_count": 26,
   "metadata": {},
   "outputs": [
    {
     "output_type": "execute_result",
     "data": {
      "text/plain": [
       "        MemberID Year         DSFS DrugCount\n",
       "138925  99995554   Y1  5- 6 months         2\n",
       "251064  99995554   Y1  9-10 months         1\n",
       "591122  99995554   Y1  8- 9 months         4\n",
       "723646  99995554   Y1  4- 5 months         1"
      ],
      "text/html": "<div>\n<style scoped>\n    .dataframe tbody tr th:only-of-type {\n        vertical-align: middle;\n    }\n\n    .dataframe tbody tr th {\n        vertical-align: top;\n    }\n\n    .dataframe thead th {\n        text-align: right;\n    }\n</style>\n<table border=\"1\" class=\"dataframe\">\n  <thead>\n    <tr style=\"text-align: right;\">\n      <th></th>\n      <th>MemberID</th>\n      <th>Year</th>\n      <th>DSFS</th>\n      <th>DrugCount</th>\n    </tr>\n  </thead>\n  <tbody>\n    <tr>\n      <th>138925</th>\n      <td>99995554</td>\n      <td>Y1</td>\n      <td>5- 6 months</td>\n      <td>2</td>\n    </tr>\n    <tr>\n      <th>251064</th>\n      <td>99995554</td>\n      <td>Y1</td>\n      <td>9-10 months</td>\n      <td>1</td>\n    </tr>\n    <tr>\n      <th>591122</th>\n      <td>99995554</td>\n      <td>Y1</td>\n      <td>8- 9 months</td>\n      <td>4</td>\n    </tr>\n    <tr>\n      <th>723646</th>\n      <td>99995554</td>\n      <td>Y1</td>\n      <td>4- 5 months</td>\n      <td>1</td>\n    </tr>\n  </tbody>\n</table>\n</div>"
     },
     "metadata": {},
     "execution_count": 26
    }
   ],
   "source": [
    " df_drug[(df_drug[\"MemberID\"] == 99995554) & (df_drug[\"Year\"] == \"Y1\")]"
   ]
  },
  {
   "cell_type": "code",
   "execution_count": 27,
   "metadata": {},
   "outputs": [
    {
     "output_type": "execute_result",
     "data": {
      "text/plain": [
       "        MemberID Year         DSFS LabCount\n",
       "251428  99995554   Y1  5- 6 months        1\n",
       "319762  99995554   Y1  2- 3 months        8\n",
       "322307  99995554   Y1  9-10 months        2"
      ],
      "text/html": "<div>\n<style scoped>\n    .dataframe tbody tr th:only-of-type {\n        vertical-align: middle;\n    }\n\n    .dataframe tbody tr th {\n        vertical-align: top;\n    }\n\n    .dataframe thead th {\n        text-align: right;\n    }\n</style>\n<table border=\"1\" class=\"dataframe\">\n  <thead>\n    <tr style=\"text-align: right;\">\n      <th></th>\n      <th>MemberID</th>\n      <th>Year</th>\n      <th>DSFS</th>\n      <th>LabCount</th>\n    </tr>\n  </thead>\n  <tbody>\n    <tr>\n      <th>251428</th>\n      <td>99995554</td>\n      <td>Y1</td>\n      <td>5- 6 months</td>\n      <td>1</td>\n    </tr>\n    <tr>\n      <th>319762</th>\n      <td>99995554</td>\n      <td>Y1</td>\n      <td>2- 3 months</td>\n      <td>8</td>\n    </tr>\n    <tr>\n      <th>322307</th>\n      <td>99995554</td>\n      <td>Y1</td>\n      <td>9-10 months</td>\n      <td>2</td>\n    </tr>\n  </tbody>\n</table>\n</div>"
     },
     "metadata": {},
     "execution_count": 27
    }
   ],
   "source": [
    "df_lab[(df_lab[\"MemberID\"] == 99995554) & (df_lab[\"Year\"] == \"Y1\")]"
   ]
  },
  {
   "cell_type": "code",
   "execution_count": 32,
   "metadata": {},
   "outputs": [
    {
     "output_type": "execute_result",
     "data": {
      "text/plain": [
       "         MemberID  ProviderID    Vendor     PCP Year         Specialty  \\\n",
       "95213    99995554   8511459.0   64764.0  1303.0   Y1          Internal   \n",
       "294716   99995554   7053364.0  240043.0  1303.0   Y1        Laboratory   \n",
       "355539   99995554   7053364.0  240043.0  1303.0   Y1        Laboratory   \n",
       "457659   99995554   8511459.0   64764.0  1303.0   Y1          Internal   \n",
       "646263   99995554   8511459.0   64764.0  1303.0   Y1          Internal   \n",
       "691182   99995554   8511459.0   64764.0  1303.0   Y1          Internal   \n",
       "775879   99995554   8511459.0   64764.0  1303.0   Y1          Internal   \n",
       "843923   99995554   8511459.0   64764.0  1303.0   Y1          Internal   \n",
       "869158   99995554   8511459.0   64764.0  1303.0   Y1          Internal   \n",
       "1177296  99995554   8511459.0   64764.0  1303.0   Y1          Internal   \n",
       "1255790  99995554   8511459.0   64764.0  1303.0   Y1          Internal   \n",
       "1388349  99995554   8511459.0   64764.0  1303.0   Y1          Internal   \n",
       "1517458  99995554   8511459.0   64764.0  1303.0   Y1          Internal   \n",
       "1633747  99995554   8511459.0   64764.0  1303.0   Y1          Internal   \n",
       "1641029  99995554   8511459.0   64764.0  1303.0   Y1          Internal   \n",
       "1667296  99995554   8511459.0   64764.0  1303.0   Y1          Internal   \n",
       "1727822  99995554   8511459.0   64764.0  1303.0   Y1          Internal   \n",
       "1731203  99995554   8205004.0  722361.0  1303.0   Y1  General Practice   \n",
       "2094978  99995554   8511459.0   64764.0  1303.0   Y1          Internal   \n",
       "2182916  99995554   8511459.0   64764.0  1303.0   Y1          Internal   \n",
       "2185435  99995554   8511459.0   64764.0  1303.0   Y1          Internal   \n",
       "2185467  99995554   8511459.0   64764.0  1303.0   Y1          Internal   \n",
       "2197215  99995554   7053364.0  240043.0  1303.0   Y1        Laboratory   \n",
       "2221211  99995554   8511459.0   64764.0  1303.0   Y1          Internal   \n",
       "2226123  99995554   8511459.0   64764.0  1303.0   Y1          Internal   \n",
       "2259894  99995554   7053364.0  240043.0  1303.0   Y1        Laboratory   \n",
       "2323786  99995554   8511459.0   64764.0  1303.0   Y1          Internal   \n",
       "2339755  99995554   7053364.0  240043.0  1303.0   Y1        Laboratory   \n",
       "2396764  99995554   7053364.0  240043.0  1303.0   Y1        Laboratory   \n",
       "2398031  99995554   8511459.0   64764.0  1303.0   Y1          Internal   \n",
       "2402451  99995554   8511459.0   64764.0  1303.0   Y1          Internal   \n",
       "2405729  99995554   8205004.0  722361.0  1303.0   Y1  General Practice   \n",
       "2454449  99995554   7053364.0  240043.0  1303.0   Y1        Laboratory   \n",
       "2470958  99995554   8511459.0   64764.0  1303.0   Y1          Internal   \n",
       "2472973  99995554   8511459.0   64764.0  1303.0   Y1          Internal   \n",
       "\n",
       "                PlaceSvc PayDelay LengthOfStay         DSFS  \\\n",
       "95213             Office      122          NaN  8- 9 months   \n",
       "294716   Independent Lab       27          NaN  5- 6 months   \n",
       "355539   Independent Lab       31          NaN   0- 1 month   \n",
       "457659            Office      115          NaN  9-10 months   \n",
       "646263            Office      139          NaN  7- 8 months   \n",
       "691182            Office      146          NaN  6- 7 months   \n",
       "775879            Office      120          NaN  9-10 months   \n",
       "843923            Office      134          NaN  7- 8 months   \n",
       "869158            Office      115          NaN  9-10 months   \n",
       "1177296           Office     162+          NaN  5- 6 months   \n",
       "1255790           Office      157          NaN  6- 7 months   \n",
       "1388349           Office      119          NaN  8- 9 months   \n",
       "1517458           Office     162+          NaN  5- 6 months   \n",
       "1633747           Office      146          NaN  6- 7 months   \n",
       "1641029           Office      148          NaN  5- 6 months   \n",
       "1667296           Office      157          NaN  7- 8 months   \n",
       "1727822           Office      125          NaN  8- 9 months   \n",
       "1731203           Office       90          NaN  4- 5 months   \n",
       "2094978           Office      150          NaN  6- 7 months   \n",
       "2182916           Office      139          NaN  7- 8 months   \n",
       "2185435           Office      128          NaN  9-10 months   \n",
       "2185467           Office      136          NaN  7- 8 months   \n",
       "2197215  Independent Lab       30          NaN  9-10 months   \n",
       "2221211           Office      146          NaN  6- 7 months   \n",
       "2226123           Office      157          NaN  7- 8 months   \n",
       "2259894  Independent Lab       27          NaN  5- 6 months   \n",
       "2323786           Office      113          NaN  9-10 months   \n",
       "2339755  Independent Lab       23          NaN  2- 3 months   \n",
       "2396764  Independent Lab       30          NaN  9-10 months   \n",
       "2398031           Office      141          NaN  6- 7 months   \n",
       "2402451           Office      139          NaN  7- 8 months   \n",
       "2405729           Office       29          NaN  5- 6 months   \n",
       "2454449  Independent Lab       23          NaN  2- 3 months   \n",
       "2470958           Office      125          NaN  8- 9 months   \n",
       "2472973           Office      148          NaN  6- 7 months   \n",
       "\n",
       "        PrimaryConditionGroup CharlsonIndex ProcedureGroup  SupLOS  \n",
       "95213                  SKNAUT             0            MED       0  \n",
       "294716                MISCHRT             0            SCS       0  \n",
       "355539                 SKNAUT             0            SCS       0  \n",
       "457659                 SKNAUT             0            MED       0  \n",
       "646263                 SKNAUT             0            MED       0  \n",
       "691182                 SKNAUT             0            MED       0  \n",
       "775879                 SKNAUT             0            MED       0  \n",
       "843923                 SKNAUT             0            MED       0  \n",
       "869158                 SKNAUT             0            MED       0  \n",
       "1177296                SKNAUT             0            MED       0  \n",
       "1255790                SKNAUT             0            MED       0  \n",
       "1388349                SKNAUT             0             EM       0  \n",
       "1517458                SKNAUT             0            MED       0  \n",
       "1633747                SKNAUT             0            MED       0  \n",
       "1641029                SKNAUT             0            MED       0  \n",
       "1667296                SKNAUT             0             EM       0  \n",
       "1727822                SKNAUT             0            MED       0  \n",
       "1731203               MISCHRT             0             EM       0  \n",
       "2094978                SKNAUT             0            MED       0  \n",
       "2182916                SKNAUT             0            MED       0  \n",
       "2185435                SKNAUT             0            MED       0  \n",
       "2185467                SKNAUT             0            MED       0  \n",
       "2197215                SKNAUT             0             PL       0  \n",
       "2221211                SKNAUT             0            MED       0  \n",
       "2226123                SKNAUT             0            MED       0  \n",
       "2259894               MISCHRT             0             PL       0  \n",
       "2323786                SKNAUT             0            MED       0  \n",
       "2339755                METAB3             0            SCS       0  \n",
       "2396764                SKNAUT             0            SCS       0  \n",
       "2398031                SKNAUT             0            MED       0  \n",
       "2402451                SKNAUT             0            MED       0  \n",
       "2405729               MISCHRT             0             EM       0  \n",
       "2454449                METAB3             0             PL       0  \n",
       "2470958                SKNAUT             0            MED       0  \n",
       "2472973                SKNAUT             0            MED       0  "
      ],
      "text/html": "<div>\n<style scoped>\n    .dataframe tbody tr th:only-of-type {\n        vertical-align: middle;\n    }\n\n    .dataframe tbody tr th {\n        vertical-align: top;\n    }\n\n    .dataframe thead th {\n        text-align: right;\n    }\n</style>\n<table border=\"1\" class=\"dataframe\">\n  <thead>\n    <tr style=\"text-align: right;\">\n      <th></th>\n      <th>MemberID</th>\n      <th>ProviderID</th>\n      <th>Vendor</th>\n      <th>PCP</th>\n      <th>Year</th>\n      <th>Specialty</th>\n      <th>PlaceSvc</th>\n      <th>PayDelay</th>\n      <th>LengthOfStay</th>\n      <th>DSFS</th>\n      <th>PrimaryConditionGroup</th>\n      <th>CharlsonIndex</th>\n      <th>ProcedureGroup</th>\n      <th>SupLOS</th>\n    </tr>\n  </thead>\n  <tbody>\n    <tr>\n      <th>95213</th>\n      <td>99995554</td>\n      <td>8511459.0</td>\n      <td>64764.0</td>\n      <td>1303.0</td>\n      <td>Y1</td>\n      <td>Internal</td>\n      <td>Office</td>\n      <td>122</td>\n      <td>NaN</td>\n      <td>8- 9 months</td>\n      <td>SKNAUT</td>\n      <td>0</td>\n      <td>MED</td>\n      <td>0</td>\n    </tr>\n    <tr>\n      <th>294716</th>\n      <td>99995554</td>\n      <td>7053364.0</td>\n      <td>240043.0</td>\n      <td>1303.0</td>\n      <td>Y1</td>\n      <td>Laboratory</td>\n      <td>Independent Lab</td>\n      <td>27</td>\n      <td>NaN</td>\n      <td>5- 6 months</td>\n      <td>MISCHRT</td>\n      <td>0</td>\n      <td>SCS</td>\n      <td>0</td>\n    </tr>\n    <tr>\n      <th>355539</th>\n      <td>99995554</td>\n      <td>7053364.0</td>\n      <td>240043.0</td>\n      <td>1303.0</td>\n      <td>Y1</td>\n      <td>Laboratory</td>\n      <td>Independent Lab</td>\n      <td>31</td>\n      <td>NaN</td>\n      <td>0- 1 month</td>\n      <td>SKNAUT</td>\n      <td>0</td>\n      <td>SCS</td>\n      <td>0</td>\n    </tr>\n    <tr>\n      <th>457659</th>\n      <td>99995554</td>\n      <td>8511459.0</td>\n      <td>64764.0</td>\n      <td>1303.0</td>\n      <td>Y1</td>\n      <td>Internal</td>\n      <td>Office</td>\n      <td>115</td>\n      <td>NaN</td>\n      <td>9-10 months</td>\n      <td>SKNAUT</td>\n      <td>0</td>\n      <td>MED</td>\n      <td>0</td>\n    </tr>\n    <tr>\n      <th>646263</th>\n      <td>99995554</td>\n      <td>8511459.0</td>\n      <td>64764.0</td>\n      <td>1303.0</td>\n      <td>Y1</td>\n      <td>Internal</td>\n      <td>Office</td>\n      <td>139</td>\n      <td>NaN</td>\n      <td>7- 8 months</td>\n      <td>SKNAUT</td>\n      <td>0</td>\n      <td>MED</td>\n      <td>0</td>\n    </tr>\n    <tr>\n      <th>691182</th>\n      <td>99995554</td>\n      <td>8511459.0</td>\n      <td>64764.0</td>\n      <td>1303.0</td>\n      <td>Y1</td>\n      <td>Internal</td>\n      <td>Office</td>\n      <td>146</td>\n      <td>NaN</td>\n      <td>6- 7 months</td>\n      <td>SKNAUT</td>\n      <td>0</td>\n      <td>MED</td>\n      <td>0</td>\n    </tr>\n    <tr>\n      <th>775879</th>\n      <td>99995554</td>\n      <td>8511459.0</td>\n      <td>64764.0</td>\n      <td>1303.0</td>\n      <td>Y1</td>\n      <td>Internal</td>\n      <td>Office</td>\n      <td>120</td>\n      <td>NaN</td>\n      <td>9-10 months</td>\n      <td>SKNAUT</td>\n      <td>0</td>\n      <td>MED</td>\n      <td>0</td>\n    </tr>\n    <tr>\n      <th>843923</th>\n      <td>99995554</td>\n      <td>8511459.0</td>\n      <td>64764.0</td>\n      <td>1303.0</td>\n      <td>Y1</td>\n      <td>Internal</td>\n      <td>Office</td>\n      <td>134</td>\n      <td>NaN</td>\n      <td>7- 8 months</td>\n      <td>SKNAUT</td>\n      <td>0</td>\n      <td>MED</td>\n      <td>0</td>\n    </tr>\n    <tr>\n      <th>869158</th>\n      <td>99995554</td>\n      <td>8511459.0</td>\n      <td>64764.0</td>\n      <td>1303.0</td>\n      <td>Y1</td>\n      <td>Internal</td>\n      <td>Office</td>\n      <td>115</td>\n      <td>NaN</td>\n      <td>9-10 months</td>\n      <td>SKNAUT</td>\n      <td>0</td>\n      <td>MED</td>\n      <td>0</td>\n    </tr>\n    <tr>\n      <th>1177296</th>\n      <td>99995554</td>\n      <td>8511459.0</td>\n      <td>64764.0</td>\n      <td>1303.0</td>\n      <td>Y1</td>\n      <td>Internal</td>\n      <td>Office</td>\n      <td>162+</td>\n      <td>NaN</td>\n      <td>5- 6 months</td>\n      <td>SKNAUT</td>\n      <td>0</td>\n      <td>MED</td>\n      <td>0</td>\n    </tr>\n    <tr>\n      <th>1255790</th>\n      <td>99995554</td>\n      <td>8511459.0</td>\n      <td>64764.0</td>\n      <td>1303.0</td>\n      <td>Y1</td>\n      <td>Internal</td>\n      <td>Office</td>\n      <td>157</td>\n      <td>NaN</td>\n      <td>6- 7 months</td>\n      <td>SKNAUT</td>\n      <td>0</td>\n      <td>MED</td>\n      <td>0</td>\n    </tr>\n    <tr>\n      <th>1388349</th>\n      <td>99995554</td>\n      <td>8511459.0</td>\n      <td>64764.0</td>\n      <td>1303.0</td>\n      <td>Y1</td>\n      <td>Internal</td>\n      <td>Office</td>\n      <td>119</td>\n      <td>NaN</td>\n      <td>8- 9 months</td>\n      <td>SKNAUT</td>\n      <td>0</td>\n      <td>EM</td>\n      <td>0</td>\n    </tr>\n    <tr>\n      <th>1517458</th>\n      <td>99995554</td>\n      <td>8511459.0</td>\n      <td>64764.0</td>\n      <td>1303.0</td>\n      <td>Y1</td>\n      <td>Internal</td>\n      <td>Office</td>\n      <td>162+</td>\n      <td>NaN</td>\n      <td>5- 6 months</td>\n      <td>SKNAUT</td>\n      <td>0</td>\n      <td>MED</td>\n      <td>0</td>\n    </tr>\n    <tr>\n      <th>1633747</th>\n      <td>99995554</td>\n      <td>8511459.0</td>\n      <td>64764.0</td>\n      <td>1303.0</td>\n      <td>Y1</td>\n      <td>Internal</td>\n      <td>Office</td>\n      <td>146</td>\n      <td>NaN</td>\n      <td>6- 7 months</td>\n      <td>SKNAUT</td>\n      <td>0</td>\n      <td>MED</td>\n      <td>0</td>\n    </tr>\n    <tr>\n      <th>1641029</th>\n      <td>99995554</td>\n      <td>8511459.0</td>\n      <td>64764.0</td>\n      <td>1303.0</td>\n      <td>Y1</td>\n      <td>Internal</td>\n      <td>Office</td>\n      <td>148</td>\n      <td>NaN</td>\n      <td>5- 6 months</td>\n      <td>SKNAUT</td>\n      <td>0</td>\n      <td>MED</td>\n      <td>0</td>\n    </tr>\n    <tr>\n      <th>1667296</th>\n      <td>99995554</td>\n      <td>8511459.0</td>\n      <td>64764.0</td>\n      <td>1303.0</td>\n      <td>Y1</td>\n      <td>Internal</td>\n      <td>Office</td>\n      <td>157</td>\n      <td>NaN</td>\n      <td>7- 8 months</td>\n      <td>SKNAUT</td>\n      <td>0</td>\n      <td>EM</td>\n      <td>0</td>\n    </tr>\n    <tr>\n      <th>1727822</th>\n      <td>99995554</td>\n      <td>8511459.0</td>\n      <td>64764.0</td>\n      <td>1303.0</td>\n      <td>Y1</td>\n      <td>Internal</td>\n      <td>Office</td>\n      <td>125</td>\n      <td>NaN</td>\n      <td>8- 9 months</td>\n      <td>SKNAUT</td>\n      <td>0</td>\n      <td>MED</td>\n      <td>0</td>\n    </tr>\n    <tr>\n      <th>1731203</th>\n      <td>99995554</td>\n      <td>8205004.0</td>\n      <td>722361.0</td>\n      <td>1303.0</td>\n      <td>Y1</td>\n      <td>General Practice</td>\n      <td>Office</td>\n      <td>90</td>\n      <td>NaN</td>\n      <td>4- 5 months</td>\n      <td>MISCHRT</td>\n      <td>0</td>\n      <td>EM</td>\n      <td>0</td>\n    </tr>\n    <tr>\n      <th>2094978</th>\n      <td>99995554</td>\n      <td>8511459.0</td>\n      <td>64764.0</td>\n      <td>1303.0</td>\n      <td>Y1</td>\n      <td>Internal</td>\n      <td>Office</td>\n      <td>150</td>\n      <td>NaN</td>\n      <td>6- 7 months</td>\n      <td>SKNAUT</td>\n      <td>0</td>\n      <td>MED</td>\n      <td>0</td>\n    </tr>\n    <tr>\n      <th>2182916</th>\n      <td>99995554</td>\n      <td>8511459.0</td>\n      <td>64764.0</td>\n      <td>1303.0</td>\n      <td>Y1</td>\n      <td>Internal</td>\n      <td>Office</td>\n      <td>139</td>\n      <td>NaN</td>\n      <td>7- 8 months</td>\n      <td>SKNAUT</td>\n      <td>0</td>\n      <td>MED</td>\n      <td>0</td>\n    </tr>\n    <tr>\n      <th>2185435</th>\n      <td>99995554</td>\n      <td>8511459.0</td>\n      <td>64764.0</td>\n      <td>1303.0</td>\n      <td>Y1</td>\n      <td>Internal</td>\n      <td>Office</td>\n      <td>128</td>\n      <td>NaN</td>\n      <td>9-10 months</td>\n      <td>SKNAUT</td>\n      <td>0</td>\n      <td>MED</td>\n      <td>0</td>\n    </tr>\n    <tr>\n      <th>2185467</th>\n      <td>99995554</td>\n      <td>8511459.0</td>\n      <td>64764.0</td>\n      <td>1303.0</td>\n      <td>Y1</td>\n      <td>Internal</td>\n      <td>Office</td>\n      <td>136</td>\n      <td>NaN</td>\n      <td>7- 8 months</td>\n      <td>SKNAUT</td>\n      <td>0</td>\n      <td>MED</td>\n      <td>0</td>\n    </tr>\n    <tr>\n      <th>2197215</th>\n      <td>99995554</td>\n      <td>7053364.0</td>\n      <td>240043.0</td>\n      <td>1303.0</td>\n      <td>Y1</td>\n      <td>Laboratory</td>\n      <td>Independent Lab</td>\n      <td>30</td>\n      <td>NaN</td>\n      <td>9-10 months</td>\n      <td>SKNAUT</td>\n      <td>0</td>\n      <td>PL</td>\n      <td>0</td>\n    </tr>\n    <tr>\n      <th>2221211</th>\n      <td>99995554</td>\n      <td>8511459.0</td>\n      <td>64764.0</td>\n      <td>1303.0</td>\n      <td>Y1</td>\n      <td>Internal</td>\n      <td>Office</td>\n      <td>146</td>\n      <td>NaN</td>\n      <td>6- 7 months</td>\n      <td>SKNAUT</td>\n      <td>0</td>\n      <td>MED</td>\n      <td>0</td>\n    </tr>\n    <tr>\n      <th>2226123</th>\n      <td>99995554</td>\n      <td>8511459.0</td>\n      <td>64764.0</td>\n      <td>1303.0</td>\n      <td>Y1</td>\n      <td>Internal</td>\n      <td>Office</td>\n      <td>157</td>\n      <td>NaN</td>\n      <td>7- 8 months</td>\n      <td>SKNAUT</td>\n      <td>0</td>\n      <td>MED</td>\n      <td>0</td>\n    </tr>\n    <tr>\n      <th>2259894</th>\n      <td>99995554</td>\n      <td>7053364.0</td>\n      <td>240043.0</td>\n      <td>1303.0</td>\n      <td>Y1</td>\n      <td>Laboratory</td>\n      <td>Independent Lab</td>\n      <td>27</td>\n      <td>NaN</td>\n      <td>5- 6 months</td>\n      <td>MISCHRT</td>\n      <td>0</td>\n      <td>PL</td>\n      <td>0</td>\n    </tr>\n    <tr>\n      <th>2323786</th>\n      <td>99995554</td>\n      <td>8511459.0</td>\n      <td>64764.0</td>\n      <td>1303.0</td>\n      <td>Y1</td>\n      <td>Internal</td>\n      <td>Office</td>\n      <td>113</td>\n      <td>NaN</td>\n      <td>9-10 months</td>\n      <td>SKNAUT</td>\n      <td>0</td>\n      <td>MED</td>\n      <td>0</td>\n    </tr>\n    <tr>\n      <th>2339755</th>\n      <td>99995554</td>\n      <td>7053364.0</td>\n      <td>240043.0</td>\n      <td>1303.0</td>\n      <td>Y1</td>\n      <td>Laboratory</td>\n      <td>Independent Lab</td>\n      <td>23</td>\n      <td>NaN</td>\n      <td>2- 3 months</td>\n      <td>METAB3</td>\n      <td>0</td>\n      <td>SCS</td>\n      <td>0</td>\n    </tr>\n    <tr>\n      <th>2396764</th>\n      <td>99995554</td>\n      <td>7053364.0</td>\n      <td>240043.0</td>\n      <td>1303.0</td>\n      <td>Y1</td>\n      <td>Laboratory</td>\n      <td>Independent Lab</td>\n      <td>30</td>\n      <td>NaN</td>\n      <td>9-10 months</td>\n      <td>SKNAUT</td>\n      <td>0</td>\n      <td>SCS</td>\n      <td>0</td>\n    </tr>\n    <tr>\n      <th>2398031</th>\n      <td>99995554</td>\n      <td>8511459.0</td>\n      <td>64764.0</td>\n      <td>1303.0</td>\n      <td>Y1</td>\n      <td>Internal</td>\n      <td>Office</td>\n      <td>141</td>\n      <td>NaN</td>\n      <td>6- 7 months</td>\n      <td>SKNAUT</td>\n      <td>0</td>\n      <td>MED</td>\n      <td>0</td>\n    </tr>\n    <tr>\n      <th>2402451</th>\n      <td>99995554</td>\n      <td>8511459.0</td>\n      <td>64764.0</td>\n      <td>1303.0</td>\n      <td>Y1</td>\n      <td>Internal</td>\n      <td>Office</td>\n      <td>139</td>\n      <td>NaN</td>\n      <td>7- 8 months</td>\n      <td>SKNAUT</td>\n      <td>0</td>\n      <td>MED</td>\n      <td>0</td>\n    </tr>\n    <tr>\n      <th>2405729</th>\n      <td>99995554</td>\n      <td>8205004.0</td>\n      <td>722361.0</td>\n      <td>1303.0</td>\n      <td>Y1</td>\n      <td>General Practice</td>\n      <td>Office</td>\n      <td>29</td>\n      <td>NaN</td>\n      <td>5- 6 months</td>\n      <td>MISCHRT</td>\n      <td>0</td>\n      <td>EM</td>\n      <td>0</td>\n    </tr>\n    <tr>\n      <th>2454449</th>\n      <td>99995554</td>\n      <td>7053364.0</td>\n      <td>240043.0</td>\n      <td>1303.0</td>\n      <td>Y1</td>\n      <td>Laboratory</td>\n      <td>Independent Lab</td>\n      <td>23</td>\n      <td>NaN</td>\n      <td>2- 3 months</td>\n      <td>METAB3</td>\n      <td>0</td>\n      <td>PL</td>\n      <td>0</td>\n    </tr>\n    <tr>\n      <th>2470958</th>\n      <td>99995554</td>\n      <td>8511459.0</td>\n      <td>64764.0</td>\n      <td>1303.0</td>\n      <td>Y1</td>\n      <td>Internal</td>\n      <td>Office</td>\n      <td>125</td>\n      <td>NaN</td>\n      <td>8- 9 months</td>\n      <td>SKNAUT</td>\n      <td>0</td>\n      <td>MED</td>\n      <td>0</td>\n    </tr>\n    <tr>\n      <th>2472973</th>\n      <td>99995554</td>\n      <td>8511459.0</td>\n      <td>64764.0</td>\n      <td>1303.0</td>\n      <td>Y1</td>\n      <td>Internal</td>\n      <td>Office</td>\n      <td>148</td>\n      <td>NaN</td>\n      <td>6- 7 months</td>\n      <td>SKNAUT</td>\n      <td>0</td>\n      <td>MED</td>\n      <td>0</td>\n    </tr>\n  </tbody>\n</table>\n</div>"
     },
     "metadata": {},
     "execution_count": 32
    }
   ],
   "source": [
    "df_claims[(df_claims[\"MemberID\"] == 99995554) & (df_claims[\"Year\"] == \"Y1\")]"
   ]
  },
  {
   "cell_type": "code",
   "execution_count": null,
   "metadata": {},
   "outputs": [],
   "source": []
  }
 ]
}