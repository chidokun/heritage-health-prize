{
 "metadata": {
  "language_info": {
   "codemirror_mode": {
    "name": "ipython",
    "version": 3
   },
   "file_extension": ".py",
   "mimetype": "text/x-python",
   "name": "python",
   "nbconvert_exporter": "python",
   "pygments_lexer": "ipython3",
   "version": "3.7.7-final"
  },
  "orig_nbformat": 2,
  "kernelspec": {
   "name": "python3",
   "display_name": "Python 3",
   "language": "python"
  }
 },
 "nbformat": 4,
 "nbformat_minor": 2,
 "cells": [
  {
   "source": [
    "# Feature Selection"
   ],
   "cell_type": "markdown",
   "metadata": {}
  },
  {
   "cell_type": "code",
   "execution_count": 1,
   "metadata": {},
   "outputs": [],
   "source": [
    "import numpy as np # Linear algebra\n",
    "import pandas as pd # Data processing, CSV file I/O (e.g. pd.read_csv)\n",
    "\n",
    "import matplotlib.pyplot as plt  # Matlab-style plotting\n",
    "# Make sure plot shows immediately\n",
    "%matplotlib inline \n",
    "import seaborn as sns # Library for plotting\n",
    "color = sns.color_palette()\n",
    "sns.set_style('darkgrid')\n",
    "\n",
    "from sklearn.preprocessing import MinMaxScaler\n",
    "from sklearn.model_selection import train_test_split"
   ]
  },
  {
   "cell_type": "code",
   "execution_count": 2,
   "metadata": {},
   "outputs": [],
   "source": [
    "def show_stt(df):\n",
    "    print(\"Shape: \", df.shape)\n",
    "    print(\"Dtypes: \", df.dtypes)\n",
    "    print(\"Describe: \\n\", df.describe())\n",
    "    print(\"Unique value: \")\n",
    "    ls = list(filter(lambda i : df[i].dtype == 'object', list(df.columns)))\n",
    "    for i in ls:\n",
    "        print(\"[{}]: {}\".format(i, df[i].unique()))\n",
    "    return df.sample(5)"
   ]
  },
  {
   "source": [
    "# Strategy A"
   ],
   "cell_type": "markdown",
   "metadata": {}
  },
  {
   "cell_type": "code",
   "execution_count": 4,
   "metadata": {},
   "outputs": [],
   "source": [
    "df_a_train = pd.read_csv(\"./processed/DatasetATrain.csv\", index_col=[\"MemberID\"])\n",
    "df_a_test = pd.read_csv(\"./processed/DatasetATest.csv\", index_col=[\"MemberID\"])"
   ]
  },
  {
   "cell_type": "code",
   "execution_count": 5,
   "metadata": {},
   "outputs": [
    {
     "output_type": "stream",
     "name": "stdout",
     "text": [
      "Shape:  (76038, 121)\n",
      "Dtypes:  AgeAtFirstClaim      int64\n",
      "Sex                 object\n",
      "ClaimCount         float64\n",
      "ProviderID         float64\n",
      "Vendor             float64\n",
      "                    ...   \n",
      "DrugCountAvg       float64\n",
      "DrugCountStd       float64\n",
      "DrugCountSum       float64\n",
      "DrugClaimCount     float64\n",
      "DaysInHospital     float64\n",
      "Length: 121, dtype: object\n",
      "Describe: \n",
      "        AgeAtFirstClaim    ClaimCount    ProviderID        Vendor  \\\n",
      "count     76038.000000  76038.000000  76038.000000  76038.000000   \n",
      "mean         45.643731     11.384952      4.404127      3.705805   \n",
      "std          26.795079     10.555889      3.341382      2.615952   \n",
      "min          -1.000000      1.000000      0.000000      0.000000   \n",
      "25%          25.000000      3.000000      2.000000      2.000000   \n",
      "50%          45.000000      8.000000      3.000000      3.000000   \n",
      "75%          65.000000     16.000000      6.000000      5.000000   \n",
      "max          85.000000     43.000000     27.000000     19.000000   \n",
      "\n",
      "                PCP  SpecialtyCount_Surgery  SpecialtyCount_Rehabilitation  \\\n",
      "count  76038.000000            76038.000000                   76038.000000   \n",
      "mean       1.022344                0.865712                       0.226058   \n",
      "std        0.150621                2.044290                       1.381126   \n",
      "min        0.000000                0.000000                       0.000000   \n",
      "25%        1.000000                0.000000                       0.000000   \n",
      "50%        1.000000                0.000000                       0.000000   \n",
      "75%        1.000000                1.000000                       0.000000   \n",
      "max        3.000000               33.000000                      31.000000   \n",
      "\n",
      "       SpecialtyCount_Diagnostic Imaging  SpecialtyCount_Emergency  \\\n",
      "count                       76038.000000              76038.000000   \n",
      "mean                            0.876312                  0.567230   \n",
      "std                             1.429824                  1.328654   \n",
      "min                             0.000000                  0.000000   \n",
      "25%                             0.000000                  0.000000   \n",
      "50%                             0.000000                  0.000000   \n",
      "75%                             1.000000                  0.000000   \n",
      "max                            24.000000                 27.000000   \n",
      "\n",
      "       SpecialtyCount_Internal  ...   LabCountStd   LabCountSum  \\\n",
      "count             76038.000000  ...  28914.000000  53227.000000   \n",
      "mean                  2.766012  ...      2.281018      8.784057   \n",
      "std                   4.258823  ...      1.463841      7.183210   \n",
      "min                   0.000000  ...      0.000000      1.000000   \n",
      "25%                   0.000000  ...      1.154701      4.000000   \n",
      "50%                   1.000000  ...      2.121320      7.000000   \n",
      "75%                   4.000000  ...      3.286335     12.000000   \n",
      "max                  39.000000  ...      6.363961     89.000000   \n",
      "\n",
      "       LabClaimCount  DrugCountMin  DrugCountMax  DrugCountAvg  DrugCountStd  \\\n",
      "count   53227.000000  49838.000000  49838.000000  49838.000000  39996.000000   \n",
      "mean        2.257538      1.478089      3.318472      2.306282      0.909692   \n",
      "std         1.781216      0.958282      1.970870      1.330349      0.646030   \n",
      "min         1.000000      1.000000      1.000000      1.000000      0.000000   \n",
      "25%         1.000000      1.000000      2.000000      1.250000      0.500000   \n",
      "50%         2.000000      1.000000      3.000000      2.000000      0.823273   \n",
      "75%         3.000000      2.000000      5.000000      3.000000      1.322876   \n",
      "max        12.000000      7.000000      7.000000      7.000000      4.242641   \n",
      "\n",
      "       DrugCountSum  DrugClaimCount  DaysInHospital  \n",
      "count  49838.000000    49838.000000    76038.000000  \n",
      "mean      15.437518        5.650688        0.467095  \n",
      "std       16.659446        3.810392        1.612194  \n",
      "min        1.000000        1.000000        0.000000  \n",
      "25%        3.000000        2.000000        0.000000  \n",
      "50%        9.000000        5.000000        0.000000  \n",
      "75%       22.000000        9.000000        0.000000  \n",
      "max       84.000000       12.000000       15.000000  \n",
      "\n",
      "[8 rows x 120 columns]\n",
      "Unique value: \n",
      "[Sex]: [nan 'F' 'M']\n"
     ]
    },
    {
     "output_type": "execute_result",
     "data": {
      "text/plain": [
       "          AgeAtFirstClaim Sex  ClaimCount  ProviderID  Vendor  PCP  \\\n",
       "MemberID                                                             \n",
       "34815048               75   M        21.0         7.0     6.0  1.0   \n",
       "13032247               55   F         9.0         5.0     4.0  1.0   \n",
       "56109660               55   F         6.0         4.0     4.0  1.0   \n",
       "37182450               15   F         4.0         1.0     1.0  1.0   \n",
       "34058629               15   F         2.0         2.0     2.0  1.0   \n",
       "\n",
       "          SpecialtyCount_Surgery  SpecialtyCount_Rehabilitation  \\\n",
       "MemberID                                                          \n",
       "34815048                     4.0                            0.0   \n",
       "13032247                     1.0                            0.0   \n",
       "56109660                     0.0                            0.0   \n",
       "37182450                     0.0                            0.0   \n",
       "34058629                     0.0                            0.0   \n",
       "\n",
       "          SpecialtyCount_Diagnostic Imaging  SpecialtyCount_Emergency  ...  \\\n",
       "MemberID                                                               ...   \n",
       "34815048                                1.0                       0.0  ...   \n",
       "13032247                                0.0                       0.0  ...   \n",
       "56109660                                0.0                       0.0  ...   \n",
       "37182450                                0.0                       0.0  ...   \n",
       "34058629                                0.0                       1.0  ...   \n",
       "\n",
       "          LabCountStd  LabCountSum  LabClaimCount  DrugCountMin  DrugCountMax  \\\n",
       "MemberID                                                                        \n",
       "34815048      3.21455         10.0            3.0           1.0           1.0   \n",
       "13032247          NaN          8.0            1.0           NaN           NaN   \n",
       "56109660          NaN          2.0            1.0           NaN           NaN   \n",
       "37182450          NaN          NaN            NaN           1.0           1.0   \n",
       "34058629          NaN          NaN            NaN           1.0           1.0   \n",
       "\n",
       "          DrugCountAvg  DrugCountStd  DrugCountSum  DrugClaimCount  \\\n",
       "MemberID                                                             \n",
       "34815048           1.0           NaN           1.0             1.0   \n",
       "13032247           NaN           NaN           NaN             NaN   \n",
       "56109660           NaN           NaN           NaN             NaN   \n",
       "37182450           1.0           NaN           1.0             1.0   \n",
       "34058629           1.0           NaN           1.0             1.0   \n",
       "\n",
       "          DaysInHospital  \n",
       "MemberID                  \n",
       "34815048             0.0  \n",
       "13032247             0.0  \n",
       "56109660             0.0  \n",
       "37182450             0.0  \n",
       "34058629             0.0  \n",
       "\n",
       "[5 rows x 121 columns]"
      ],
      "text/html": "<div>\n<style scoped>\n    .dataframe tbody tr th:only-of-type {\n        vertical-align: middle;\n    }\n\n    .dataframe tbody tr th {\n        vertical-align: top;\n    }\n\n    .dataframe thead th {\n        text-align: right;\n    }\n</style>\n<table border=\"1\" class=\"dataframe\">\n  <thead>\n    <tr style=\"text-align: right;\">\n      <th></th>\n      <th>AgeAtFirstClaim</th>\n      <th>Sex</th>\n      <th>ClaimCount</th>\n      <th>ProviderID</th>\n      <th>Vendor</th>\n      <th>PCP</th>\n      <th>SpecialtyCount_Surgery</th>\n      <th>SpecialtyCount_Rehabilitation</th>\n      <th>SpecialtyCount_Diagnostic Imaging</th>\n      <th>SpecialtyCount_Emergency</th>\n      <th>...</th>\n      <th>LabCountStd</th>\n      <th>LabCountSum</th>\n      <th>LabClaimCount</th>\n      <th>DrugCountMin</th>\n      <th>DrugCountMax</th>\n      <th>DrugCountAvg</th>\n      <th>DrugCountStd</th>\n      <th>DrugCountSum</th>\n      <th>DrugClaimCount</th>\n      <th>DaysInHospital</th>\n    </tr>\n    <tr>\n      <th>MemberID</th>\n      <th></th>\n      <th></th>\n      <th></th>\n      <th></th>\n      <th></th>\n      <th></th>\n      <th></th>\n      <th></th>\n      <th></th>\n      <th></th>\n      <th></th>\n      <th></th>\n      <th></th>\n      <th></th>\n      <th></th>\n      <th></th>\n      <th></th>\n      <th></th>\n      <th></th>\n      <th></th>\n      <th></th>\n    </tr>\n  </thead>\n  <tbody>\n    <tr>\n      <th>34815048</th>\n      <td>75</td>\n      <td>M</td>\n      <td>21.0</td>\n      <td>7.0</td>\n      <td>6.0</td>\n      <td>1.0</td>\n      <td>4.0</td>\n      <td>0.0</td>\n      <td>1.0</td>\n      <td>0.0</td>\n      <td>...</td>\n      <td>3.21455</td>\n      <td>10.0</td>\n      <td>3.0</td>\n      <td>1.0</td>\n      <td>1.0</td>\n      <td>1.0</td>\n      <td>NaN</td>\n      <td>1.0</td>\n      <td>1.0</td>\n      <td>0.0</td>\n    </tr>\n    <tr>\n      <th>13032247</th>\n      <td>55</td>\n      <td>F</td>\n      <td>9.0</td>\n      <td>5.0</td>\n      <td>4.0</td>\n      <td>1.0</td>\n      <td>1.0</td>\n      <td>0.0</td>\n      <td>0.0</td>\n      <td>0.0</td>\n      <td>...</td>\n      <td>NaN</td>\n      <td>8.0</td>\n      <td>1.0</td>\n      <td>NaN</td>\n      <td>NaN</td>\n      <td>NaN</td>\n      <td>NaN</td>\n      <td>NaN</td>\n      <td>NaN</td>\n      <td>0.0</td>\n    </tr>\n    <tr>\n      <th>56109660</th>\n      <td>55</td>\n      <td>F</td>\n      <td>6.0</td>\n      <td>4.0</td>\n      <td>4.0</td>\n      <td>1.0</td>\n      <td>0.0</td>\n      <td>0.0</td>\n      <td>0.0</td>\n      <td>0.0</td>\n      <td>...</td>\n      <td>NaN</td>\n      <td>2.0</td>\n      <td>1.0</td>\n      <td>NaN</td>\n      <td>NaN</td>\n      <td>NaN</td>\n      <td>NaN</td>\n      <td>NaN</td>\n      <td>NaN</td>\n      <td>0.0</td>\n    </tr>\n    <tr>\n      <th>37182450</th>\n      <td>15</td>\n      <td>F</td>\n      <td>4.0</td>\n      <td>1.0</td>\n      <td>1.0</td>\n      <td>1.0</td>\n      <td>0.0</td>\n      <td>0.0</td>\n      <td>0.0</td>\n      <td>0.0</td>\n      <td>...</td>\n      <td>NaN</td>\n      <td>NaN</td>\n      <td>NaN</td>\n      <td>1.0</td>\n      <td>1.0</td>\n      <td>1.0</td>\n      <td>NaN</td>\n      <td>1.0</td>\n      <td>1.0</td>\n      <td>0.0</td>\n    </tr>\n    <tr>\n      <th>34058629</th>\n      <td>15</td>\n      <td>F</td>\n      <td>2.0</td>\n      <td>2.0</td>\n      <td>2.0</td>\n      <td>1.0</td>\n      <td>0.0</td>\n      <td>0.0</td>\n      <td>0.0</td>\n      <td>1.0</td>\n      <td>...</td>\n      <td>NaN</td>\n      <td>NaN</td>\n      <td>NaN</td>\n      <td>1.0</td>\n      <td>1.0</td>\n      <td>1.0</td>\n      <td>NaN</td>\n      <td>1.0</td>\n      <td>1.0</td>\n      <td>0.0</td>\n    </tr>\n  </tbody>\n</table>\n<p>5 rows × 121 columns</p>\n</div>"
     },
     "metadata": {},
     "execution_count": 5
    }
   ],
   "source": [
    "show_stt(df_a_train)"
   ]
  },
  {
   "cell_type": "code",
   "execution_count": 6,
   "metadata": {},
   "outputs": [
    {
     "output_type": "execute_result",
     "data": {
      "text/plain": [
       "<matplotlib.axes._subplots.AxesSubplot at 0x7fb94531a3d0>"
      ]
     },
     "metadata": {},
     "execution_count": 6
    },
    {
     "output_type": "display_data",
     "data": {
      "text/plain": "<Figure size 432x288 with 1 Axes>",
      "image/svg+xml": "<?xml version=\"1.0\" encoding=\"utf-8\" standalone=\"no\"?>\n<!DOCTYPE svg PUBLIC \"-//W3C//DTD SVG 1.1//EN\"\n  \"http://www.w3.org/Graphics/SVG/1.1/DTD/svg11.dtd\">\n<!-- Created with matplotlib (https://matplotlib.org/) -->\n<svg height=\"261.247813pt\" version=\"1.1\" viewBox=\"0 0 370.1 261.247813\" width=\"370.1pt\" xmlns=\"http://www.w3.org/2000/svg\" xmlns:xlink=\"http://www.w3.org/1999/xlink\">\n <defs>\n  <style type=\"text/css\">\n*{stroke-linecap:butt;stroke-linejoin:round;}\n  </style>\n </defs>\n <g id=\"figure_1\">\n  <g id=\"patch_1\">\n   <path d=\"M 0 261.247813 \nL 370.1 261.247813 \nL 370.1 0 \nL 0 0 \nz\n\" style=\"fill:#ffffff;\"/>\n  </g>\n  <g id=\"axes_1\">\n   <g id=\"patch_2\">\n    <path d=\"M 28.1 224.64 \nL 362.9 224.64 \nL 362.9 7.2 \nL 28.1 7.2 \nz\n\" style=\"fill:#eaeaf2;\"/>\n   </g>\n   <g id=\"matplotlib.axis_1\">\n    <g id=\"xtick_1\">\n     <g id=\"line2d_1\">\n      <path clip-path=\"url(#p67d208d7e6)\" d=\"M 43.318182 224.64 \nL 43.318182 7.2 \n\" style=\"fill:none;stroke:#ffffff;stroke-linecap:round;stroke-width:0.8;\"/>\n     </g>\n     <g id=\"text_1\">\n      <!-- 0 -->\n      <defs>\n       <path d=\"M 4.15625 35.296875 \nQ 4.15625 48 6.765625 55.734375 \nQ 9.375 63.484375 14.515625 67.671875 \nQ 19.671875 71.875 27.484375 71.875 \nQ 33.25 71.875 37.59375 69.546875 \nQ 41.9375 67.234375 44.765625 62.859375 \nQ 47.609375 58.5 49.21875 52.21875 \nQ 50.828125 45.953125 50.828125 35.296875 \nQ 50.828125 22.703125 48.234375 14.96875 \nQ 45.65625 7.234375 40.5 3 \nQ 35.359375 -1.21875 27.484375 -1.21875 \nQ 17.140625 -1.21875 11.234375 6.203125 \nQ 4.15625 15.140625 4.15625 35.296875 \nz\nM 13.1875 35.296875 \nQ 13.1875 17.671875 17.3125 11.828125 \nQ 21.4375 6 27.484375 6 \nQ 33.546875 6 37.671875 11.859375 \nQ 41.796875 17.71875 41.796875 35.296875 \nQ 41.796875 52.984375 37.671875 58.78125 \nQ 33.546875 64.59375 27.390625 64.59375 \nQ 21.34375 64.59375 17.71875 59.46875 \nQ 13.1875 52.9375 13.1875 35.296875 \nz\n\" id=\"ArialMT-48\"/>\n      </defs>\n      <g style=\"fill:#262626;\" transform=\"translate(40.537713 238.797812)scale(0.1 -0.1)\">\n       <use xlink:href=\"#ArialMT-48\"/>\n      </g>\n     </g>\n    </g>\n    <g id=\"xtick_2\">\n     <g id=\"line2d_2\">\n      <path clip-path=\"url(#p67d208d7e6)\" d=\"M 83.9 224.64 \nL 83.9 7.2 \n\" style=\"fill:none;stroke:#ffffff;stroke-linecap:round;stroke-width:0.8;\"/>\n     </g>\n     <g id=\"text_2\">\n      <!-- 2 -->\n      <defs>\n       <path d=\"M 50.34375 8.453125 \nL 50.34375 0 \nL 3.03125 0 \nQ 2.9375 3.171875 4.046875 6.109375 \nQ 5.859375 10.9375 9.828125 15.625 \nQ 13.8125 20.3125 21.34375 26.46875 \nQ 33.015625 36.03125 37.109375 41.625 \nQ 41.21875 47.21875 41.21875 52.203125 \nQ 41.21875 57.421875 37.46875 61 \nQ 33.734375 64.59375 27.734375 64.59375 \nQ 21.390625 64.59375 17.578125 60.78125 \nQ 13.765625 56.984375 13.71875 50.25 \nL 4.6875 51.171875 \nQ 5.609375 61.28125 11.65625 66.578125 \nQ 17.71875 71.875 27.9375 71.875 \nQ 38.234375 71.875 44.234375 66.15625 \nQ 50.25 60.453125 50.25 52 \nQ 50.25 47.703125 48.484375 43.546875 \nQ 46.734375 39.40625 42.65625 34.8125 \nQ 38.578125 30.21875 29.109375 22.21875 \nQ 21.1875 15.578125 18.9375 13.203125 \nQ 16.703125 10.84375 15.234375 8.453125 \nz\n\" id=\"ArialMT-50\"/>\n      </defs>\n      <g style=\"fill:#262626;\" transform=\"translate(81.119531 238.797812)scale(0.1 -0.1)\">\n       <use xlink:href=\"#ArialMT-50\"/>\n      </g>\n     </g>\n    </g>\n    <g id=\"xtick_3\">\n     <g id=\"line2d_3\">\n      <path clip-path=\"url(#p67d208d7e6)\" d=\"M 124.481818 224.64 \nL 124.481818 7.2 \n\" style=\"fill:none;stroke:#ffffff;stroke-linecap:round;stroke-width:0.8;\"/>\n     </g>\n     <g id=\"text_3\">\n      <!-- 4 -->\n      <defs>\n       <path d=\"M 32.328125 0 \nL 32.328125 17.140625 \nL 1.265625 17.140625 \nL 1.265625 25.203125 \nL 33.9375 71.578125 \nL 41.109375 71.578125 \nL 41.109375 25.203125 \nL 50.78125 25.203125 \nL 50.78125 17.140625 \nL 41.109375 17.140625 \nL 41.109375 0 \nz\nM 32.328125 25.203125 \nL 32.328125 57.46875 \nL 9.90625 25.203125 \nz\n\" id=\"ArialMT-52\"/>\n      </defs>\n      <g style=\"fill:#262626;\" transform=\"translate(121.701349 238.797812)scale(0.1 -0.1)\">\n       <use xlink:href=\"#ArialMT-52\"/>\n      </g>\n     </g>\n    </g>\n    <g id=\"xtick_4\">\n     <g id=\"line2d_4\">\n      <path clip-path=\"url(#p67d208d7e6)\" d=\"M 165.063636 224.64 \nL 165.063636 7.2 \n\" style=\"fill:none;stroke:#ffffff;stroke-linecap:round;stroke-width:0.8;\"/>\n     </g>\n     <g id=\"text_4\">\n      <!-- 6 -->\n      <defs>\n       <path d=\"M 49.75 54.046875 \nL 41.015625 53.375 \nQ 39.84375 58.546875 37.703125 60.890625 \nQ 34.125 64.65625 28.90625 64.65625 \nQ 24.703125 64.65625 21.53125 62.3125 \nQ 17.390625 59.28125 14.984375 53.46875 \nQ 12.59375 47.65625 12.5 36.921875 \nQ 15.671875 41.75 20.265625 44.09375 \nQ 24.859375 46.4375 29.890625 46.4375 \nQ 38.671875 46.4375 44.84375 39.96875 \nQ 51.03125 33.5 51.03125 23.25 \nQ 51.03125 16.5 48.125 10.71875 \nQ 45.21875 4.9375 40.140625 1.859375 \nQ 35.0625 -1.21875 28.609375 -1.21875 \nQ 17.625 -1.21875 10.6875 6.859375 \nQ 3.765625 14.9375 3.765625 33.5 \nQ 3.765625 54.25 11.421875 63.671875 \nQ 18.109375 71.875 29.4375 71.875 \nQ 37.890625 71.875 43.28125 67.140625 \nQ 48.6875 62.40625 49.75 54.046875 \nz\nM 13.875 23.1875 \nQ 13.875 18.65625 15.796875 14.5 \nQ 17.71875 10.359375 21.1875 8.171875 \nQ 24.65625 6 28.46875 6 \nQ 34.03125 6 38.03125 10.484375 \nQ 42.046875 14.984375 42.046875 22.703125 \nQ 42.046875 30.125 38.078125 34.390625 \nQ 34.125 38.671875 28.125 38.671875 \nQ 22.171875 38.671875 18.015625 34.390625 \nQ 13.875 30.125 13.875 23.1875 \nz\n\" id=\"ArialMT-54\"/>\n      </defs>\n      <g style=\"fill:#262626;\" transform=\"translate(162.283168 238.797812)scale(0.1 -0.1)\">\n       <use xlink:href=\"#ArialMT-54\"/>\n      </g>\n     </g>\n    </g>\n    <g id=\"xtick_5\">\n     <g id=\"line2d_5\">\n      <path clip-path=\"url(#p67d208d7e6)\" d=\"M 205.645455 224.64 \nL 205.645455 7.2 \n\" style=\"fill:none;stroke:#ffffff;stroke-linecap:round;stroke-width:0.8;\"/>\n     </g>\n     <g id=\"text_5\">\n      <!-- 8 -->\n      <defs>\n       <path d=\"M 17.671875 38.8125 \nQ 12.203125 40.828125 9.5625 44.53125 \nQ 6.9375 48.25 6.9375 53.421875 \nQ 6.9375 61.234375 12.546875 66.546875 \nQ 18.171875 71.875 27.484375 71.875 \nQ 36.859375 71.875 42.578125 66.421875 \nQ 48.296875 60.984375 48.296875 53.171875 \nQ 48.296875 48.1875 45.671875 44.5 \nQ 43.0625 40.828125 37.75 38.8125 \nQ 44.34375 36.671875 47.78125 31.875 \nQ 51.21875 27.09375 51.21875 20.453125 \nQ 51.21875 11.28125 44.71875 5.03125 \nQ 38.234375 -1.21875 27.640625 -1.21875 \nQ 17.046875 -1.21875 10.546875 5.046875 \nQ 4.046875 11.328125 4.046875 20.703125 \nQ 4.046875 27.6875 7.59375 32.390625 \nQ 11.140625 37.109375 17.671875 38.8125 \nz\nM 15.921875 53.71875 \nQ 15.921875 48.640625 19.1875 45.40625 \nQ 22.46875 42.1875 27.6875 42.1875 \nQ 32.765625 42.1875 36.015625 45.375 \nQ 39.265625 48.578125 39.265625 53.21875 \nQ 39.265625 58.0625 35.90625 61.359375 \nQ 32.5625 64.65625 27.59375 64.65625 \nQ 22.5625 64.65625 19.234375 61.421875 \nQ 15.921875 58.203125 15.921875 53.71875 \nz\nM 13.09375 20.65625 \nQ 13.09375 16.890625 14.875 13.375 \nQ 16.65625 9.859375 20.171875 7.921875 \nQ 23.6875 6 27.734375 6 \nQ 34.03125 6 38.125 10.046875 \nQ 42.234375 14.109375 42.234375 20.359375 \nQ 42.234375 26.703125 38.015625 30.859375 \nQ 33.796875 35.015625 27.4375 35.015625 \nQ 21.234375 35.015625 17.15625 30.90625 \nQ 13.09375 26.8125 13.09375 20.65625 \nz\n\" id=\"ArialMT-56\"/>\n      </defs>\n      <g style=\"fill:#262626;\" transform=\"translate(202.864986 238.797812)scale(0.1 -0.1)\">\n       <use xlink:href=\"#ArialMT-56\"/>\n      </g>\n     </g>\n    </g>\n    <g id=\"xtick_6\">\n     <g id=\"line2d_6\">\n      <path clip-path=\"url(#p67d208d7e6)\" d=\"M 246.227273 224.64 \nL 246.227273 7.2 \n\" style=\"fill:none;stroke:#ffffff;stroke-linecap:round;stroke-width:0.8;\"/>\n     </g>\n     <g id=\"text_6\">\n      <!-- 10 -->\n      <defs>\n       <path d=\"M 37.25 0 \nL 28.46875 0 \nL 28.46875 56 \nQ 25.296875 52.984375 20.140625 49.953125 \nQ 14.984375 46.921875 10.890625 45.40625 \nL 10.890625 53.90625 \nQ 18.265625 57.375 23.78125 62.296875 \nQ 29.296875 67.234375 31.59375 71.875 \nL 37.25 71.875 \nz\n\" id=\"ArialMT-49\"/>\n      </defs>\n      <g style=\"fill:#262626;\" transform=\"translate(240.666335 238.797812)scale(0.1 -0.1)\">\n       <use xlink:href=\"#ArialMT-49\"/>\n       <use x=\"55.615234\" xlink:href=\"#ArialMT-48\"/>\n      </g>\n     </g>\n    </g>\n    <g id=\"xtick_7\">\n     <g id=\"line2d_7\">\n      <path clip-path=\"url(#p67d208d7e6)\" d=\"M 286.809091 224.64 \nL 286.809091 7.2 \n\" style=\"fill:none;stroke:#ffffff;stroke-linecap:round;stroke-width:0.8;\"/>\n     </g>\n     <g id=\"text_7\">\n      <!-- 12 -->\n      <g style=\"fill:#262626;\" transform=\"translate(281.248153 238.797812)scale(0.1 -0.1)\">\n       <use xlink:href=\"#ArialMT-49\"/>\n       <use x=\"55.615234\" xlink:href=\"#ArialMT-50\"/>\n      </g>\n     </g>\n    </g>\n    <g id=\"xtick_8\">\n     <g id=\"line2d_8\">\n      <path clip-path=\"url(#p67d208d7e6)\" d=\"M 327.390909 224.64 \nL 327.390909 7.2 \n\" style=\"fill:none;stroke:#ffffff;stroke-linecap:round;stroke-width:0.8;\"/>\n     </g>\n     <g id=\"text_8\">\n      <!-- 14 -->\n      <g style=\"fill:#262626;\" transform=\"translate(321.829972 238.797812)scale(0.1 -0.1)\">\n       <use xlink:href=\"#ArialMT-49\"/>\n       <use x=\"55.615234\" xlink:href=\"#ArialMT-52\"/>\n      </g>\n     </g>\n    </g>\n    <g id=\"text_9\">\n     <!-- DaysInHospital -->\n     <defs>\n      <path d=\"M 7.71875 0 \nL 7.71875 71.578125 \nL 32.375 71.578125 \nQ 40.71875 71.578125 45.125 70.5625 \nQ 51.265625 69.140625 55.609375 65.4375 \nQ 61.28125 60.640625 64.078125 53.1875 \nQ 66.890625 45.75 66.890625 36.1875 \nQ 66.890625 28.03125 64.984375 21.734375 \nQ 63.09375 15.4375 60.109375 11.296875 \nQ 57.125 7.171875 53.578125 4.796875 \nQ 50.046875 2.4375 45.046875 1.21875 \nQ 40.046875 0 33.546875 0 \nz\nM 17.1875 8.453125 \nL 32.46875 8.453125 \nQ 39.546875 8.453125 43.578125 9.765625 \nQ 47.609375 11.078125 50 13.484375 \nQ 53.375 16.84375 55.25 22.53125 \nQ 57.125 28.21875 57.125 36.328125 \nQ 57.125 47.5625 53.4375 53.59375 \nQ 49.75 59.625 44.484375 61.671875 \nQ 40.671875 63.140625 32.234375 63.140625 \nL 17.1875 63.140625 \nz\n\" id=\"ArialMT-68\"/>\n      <path d=\"M 40.4375 6.390625 \nQ 35.546875 2.25 31.03125 0.53125 \nQ 26.515625 -1.171875 21.34375 -1.171875 \nQ 12.796875 -1.171875 8.203125 3 \nQ 3.609375 7.171875 3.609375 13.671875 \nQ 3.609375 17.484375 5.34375 20.625 \nQ 7.078125 23.78125 9.890625 25.6875 \nQ 12.703125 27.59375 16.21875 28.5625 \nQ 18.796875 29.25 24.03125 29.890625 \nQ 34.671875 31.15625 39.703125 32.90625 \nQ 39.75 34.71875 39.75 35.203125 \nQ 39.75 40.578125 37.25 42.78125 \nQ 33.890625 45.75 27.25 45.75 \nQ 21.046875 45.75 18.09375 43.578125 \nQ 15.140625 41.40625 13.71875 35.890625 \nL 5.125 37.0625 \nQ 6.296875 42.578125 8.984375 45.96875 \nQ 11.671875 49.359375 16.75 51.1875 \nQ 21.828125 53.03125 28.515625 53.03125 \nQ 35.15625 53.03125 39.296875 51.46875 \nQ 43.453125 49.90625 45.40625 47.53125 \nQ 47.359375 45.171875 48.140625 41.546875 \nQ 48.578125 39.3125 48.578125 33.453125 \nL 48.578125 21.734375 \nQ 48.578125 9.46875 49.140625 6.21875 \nQ 49.703125 2.984375 51.375 0 \nL 42.1875 0 \nQ 40.828125 2.734375 40.4375 6.390625 \nz\nM 39.703125 26.03125 \nQ 34.90625 24.078125 25.34375 22.703125 \nQ 19.921875 21.921875 17.671875 20.9375 \nQ 15.4375 19.96875 14.203125 18.09375 \nQ 12.984375 16.21875 12.984375 13.921875 \nQ 12.984375 10.40625 15.640625 8.0625 \nQ 18.3125 5.71875 23.4375 5.71875 \nQ 28.515625 5.71875 32.46875 7.9375 \nQ 36.421875 10.15625 38.28125 14.015625 \nQ 39.703125 17 39.703125 22.796875 \nz\n\" id=\"ArialMT-97\"/>\n      <path d=\"M 6.203125 -19.96875 \nL 5.21875 -11.71875 \nQ 8.109375 -12.5 10.25 -12.5 \nQ 13.1875 -12.5 14.9375 -11.515625 \nQ 16.703125 -10.546875 17.828125 -8.796875 \nQ 18.65625 -7.46875 20.515625 -2.25 \nQ 20.75 -1.515625 21.296875 -0.09375 \nL 1.609375 51.859375 \nL 11.078125 51.859375 \nL 21.875 21.828125 \nQ 23.96875 16.109375 25.640625 9.8125 \nQ 27.15625 15.875 29.25 21.625 \nL 40.328125 51.859375 \nL 49.125 51.859375 \nL 29.390625 -0.875 \nQ 26.21875 -9.421875 24.46875 -12.640625 \nQ 22.125 -17 19.09375 -19.015625 \nQ 16.0625 -21.046875 11.859375 -21.046875 \nQ 9.328125 -21.046875 6.203125 -19.96875 \nz\n\" id=\"ArialMT-121\"/>\n      <path d=\"M 3.078125 15.484375 \nL 11.765625 16.84375 \nQ 12.5 11.625 15.84375 8.84375 \nQ 19.1875 6.0625 25.203125 6.0625 \nQ 31.25 6.0625 34.171875 8.515625 \nQ 37.109375 10.984375 37.109375 14.3125 \nQ 37.109375 17.28125 34.515625 19 \nQ 32.71875 20.171875 25.53125 21.96875 \nQ 15.875 24.421875 12.140625 26.203125 \nQ 8.40625 27.984375 6.46875 31.125 \nQ 4.546875 34.28125 4.546875 38.09375 \nQ 4.546875 41.546875 6.125 44.5 \nQ 7.71875 47.46875 10.453125 49.421875 \nQ 12.5 50.921875 16.03125 51.96875 \nQ 19.578125 53.03125 23.640625 53.03125 \nQ 29.734375 53.03125 34.34375 51.265625 \nQ 38.96875 49.515625 41.15625 46.5 \nQ 43.359375 43.5 44.1875 38.484375 \nL 35.59375 37.3125 \nQ 35.015625 41.3125 32.203125 43.546875 \nQ 29.390625 45.796875 24.265625 45.796875 \nQ 18.21875 45.796875 15.625 43.796875 \nQ 13.03125 41.796875 13.03125 39.109375 \nQ 13.03125 37.40625 14.109375 36.03125 \nQ 15.1875 34.625 17.484375 33.6875 \nQ 18.796875 33.203125 25.25 31.453125 \nQ 34.578125 28.953125 38.25 27.359375 \nQ 41.9375 25.78125 44.03125 22.75 \nQ 46.140625 19.734375 46.140625 15.234375 \nQ 46.140625 10.84375 43.578125 6.953125 \nQ 41.015625 3.078125 36.171875 0.953125 \nQ 31.34375 -1.171875 25.25 -1.171875 \nQ 15.140625 -1.171875 9.84375 3.03125 \nQ 4.546875 7.234375 3.078125 15.484375 \nz\n\" id=\"ArialMT-115\"/>\n      <path d=\"M 9.328125 0 \nL 9.328125 71.578125 \nL 18.796875 71.578125 \nL 18.796875 0 \nz\n\" id=\"ArialMT-73\"/>\n      <path d=\"M 6.59375 0 \nL 6.59375 51.859375 \nL 14.5 51.859375 \nL 14.5 44.484375 \nQ 20.21875 53.03125 31 53.03125 \nQ 35.6875 53.03125 39.625 51.34375 \nQ 43.5625 49.65625 45.515625 46.921875 \nQ 47.46875 44.1875 48.25 40.4375 \nQ 48.734375 37.984375 48.734375 31.890625 \nL 48.734375 0 \nL 39.9375 0 \nL 39.9375 31.546875 \nQ 39.9375 36.921875 38.90625 39.578125 \nQ 37.890625 42.234375 35.28125 43.8125 \nQ 32.671875 45.40625 29.15625 45.40625 \nQ 23.53125 45.40625 19.453125 41.84375 \nQ 15.375 38.28125 15.375 28.328125 \nL 15.375 0 \nz\n\" id=\"ArialMT-110\"/>\n      <path d=\"M 8.015625 0 \nL 8.015625 71.578125 \nL 17.484375 71.578125 \nL 17.484375 42.1875 \nL 54.6875 42.1875 \nL 54.6875 71.578125 \nL 64.15625 71.578125 \nL 64.15625 0 \nL 54.6875 0 \nL 54.6875 33.734375 \nL 17.484375 33.734375 \nL 17.484375 0 \nz\n\" id=\"ArialMT-72\"/>\n      <path d=\"M 3.328125 25.921875 \nQ 3.328125 40.328125 11.328125 47.265625 \nQ 18.015625 53.03125 27.640625 53.03125 \nQ 38.328125 53.03125 45.109375 46.015625 \nQ 51.90625 39.015625 51.90625 26.65625 \nQ 51.90625 16.65625 48.90625 10.90625 \nQ 45.90625 5.171875 40.15625 2 \nQ 34.421875 -1.171875 27.640625 -1.171875 \nQ 16.75 -1.171875 10.03125 5.8125 \nQ 3.328125 12.796875 3.328125 25.921875 \nz\nM 12.359375 25.921875 \nQ 12.359375 15.96875 16.703125 11.015625 \nQ 21.046875 6.0625 27.640625 6.0625 \nQ 34.1875 6.0625 38.53125 11.03125 \nQ 42.875 16.015625 42.875 26.21875 \nQ 42.875 35.84375 38.5 40.796875 \nQ 34.125 45.75 27.640625 45.75 \nQ 21.046875 45.75 16.703125 40.8125 \nQ 12.359375 35.890625 12.359375 25.921875 \nz\n\" id=\"ArialMT-111\"/>\n      <path d=\"M 6.59375 -19.875 \nL 6.59375 51.859375 \nL 14.59375 51.859375 \nL 14.59375 45.125 \nQ 17.4375 49.078125 21 51.046875 \nQ 24.5625 53.03125 29.640625 53.03125 \nQ 36.28125 53.03125 41.359375 49.609375 \nQ 46.4375 46.1875 49.015625 39.953125 \nQ 51.609375 33.734375 51.609375 26.3125 \nQ 51.609375 18.359375 48.75 11.984375 \nQ 45.90625 5.609375 40.453125 2.21875 \nQ 35.015625 -1.171875 29 -1.171875 \nQ 24.609375 -1.171875 21.109375 0.6875 \nQ 17.625 2.546875 15.375 5.375 \nL 15.375 -19.875 \nz\nM 14.546875 25.640625 \nQ 14.546875 15.625 18.59375 10.84375 \nQ 22.65625 6.0625 28.421875 6.0625 \nQ 34.28125 6.0625 38.453125 11.015625 \nQ 42.625 15.96875 42.625 26.375 \nQ 42.625 36.28125 38.546875 41.203125 \nQ 34.46875 46.140625 28.8125 46.140625 \nQ 23.1875 46.140625 18.859375 40.890625 \nQ 14.546875 35.640625 14.546875 25.640625 \nz\n\" id=\"ArialMT-112\"/>\n      <path d=\"M 6.640625 61.46875 \nL 6.640625 71.578125 \nL 15.4375 71.578125 \nL 15.4375 61.46875 \nz\nM 6.640625 0 \nL 6.640625 51.859375 \nL 15.4375 51.859375 \nL 15.4375 0 \nz\n\" id=\"ArialMT-105\"/>\n      <path d=\"M 25.78125 7.859375 \nL 27.046875 0.09375 \nQ 23.34375 -0.6875 20.40625 -0.6875 \nQ 15.625 -0.6875 12.984375 0.828125 \nQ 10.359375 2.34375 9.28125 4.8125 \nQ 8.203125 7.28125 8.203125 15.1875 \nL 8.203125 45.015625 \nL 1.765625 45.015625 \nL 1.765625 51.859375 \nL 8.203125 51.859375 \nL 8.203125 64.703125 \nL 16.9375 69.96875 \nL 16.9375 51.859375 \nL 25.78125 51.859375 \nL 25.78125 45.015625 \nL 16.9375 45.015625 \nL 16.9375 14.703125 \nQ 16.9375 10.9375 17.40625 9.859375 \nQ 17.875 8.796875 18.921875 8.15625 \nQ 19.96875 7.515625 21.921875 7.515625 \nQ 23.390625 7.515625 25.78125 7.859375 \nz\n\" id=\"ArialMT-116\"/>\n      <path d=\"M 6.390625 0 \nL 6.390625 71.578125 \nL 15.1875 71.578125 \nL 15.1875 0 \nz\n\" id=\"ArialMT-108\"/>\n     </defs>\n     <g style=\"fill:#262626;\" transform=\"translate(161.875781 251.943125)scale(0.1 -0.1)\">\n      <use xlink:href=\"#ArialMT-68\"/>\n      <use x=\"72.216797\" xlink:href=\"#ArialMT-97\"/>\n      <use x=\"127.832031\" xlink:href=\"#ArialMT-121\"/>\n      <use x=\"177.832031\" xlink:href=\"#ArialMT-115\"/>\n      <use x=\"227.832031\" xlink:href=\"#ArialMT-73\"/>\n      <use x=\"255.615234\" xlink:href=\"#ArialMT-110\"/>\n      <use x=\"311.230469\" xlink:href=\"#ArialMT-72\"/>\n      <use x=\"383.447266\" xlink:href=\"#ArialMT-111\"/>\n      <use x=\"439.0625\" xlink:href=\"#ArialMT-115\"/>\n      <use x=\"489.0625\" xlink:href=\"#ArialMT-112\"/>\n      <use x=\"544.677734\" xlink:href=\"#ArialMT-105\"/>\n      <use x=\"566.894531\" xlink:href=\"#ArialMT-116\"/>\n      <use x=\"594.677734\" xlink:href=\"#ArialMT-97\"/>\n      <use x=\"650.292969\" xlink:href=\"#ArialMT-108\"/>\n     </g>\n    </g>\n   </g>\n   <g id=\"matplotlib.axis_2\">\n    <g id=\"ytick_1\">\n     <g id=\"line2d_9\">\n      <path clip-path=\"url(#p67d208d7e6)\" d=\"M 28.1 224.64 \nL 362.9 224.64 \n\" style=\"fill:none;stroke:#ffffff;stroke-linecap:round;stroke-width:0.8;\"/>\n     </g>\n     <g id=\"text_10\">\n      <!-- 0.0 -->\n      <defs>\n       <path d=\"M 9.078125 0 \nL 9.078125 10.015625 \nL 19.09375 10.015625 \nL 19.09375 0 \nz\n\" id=\"ArialMT-46\"/>\n      </defs>\n      <g style=\"fill:#262626;\" transform=\"translate(7.2 228.218906)scale(0.1 -0.1)\">\n       <use xlink:href=\"#ArialMT-48\"/>\n       <use x=\"55.615234\" xlink:href=\"#ArialMT-46\"/>\n       <use x=\"83.398438\" xlink:href=\"#ArialMT-48\"/>\n      </g>\n     </g>\n    </g>\n    <g id=\"ytick_2\">\n     <g id=\"line2d_10\">\n      <path clip-path=\"url(#p67d208d7e6)\" d=\"M 28.1 187.888883 \nL 362.9 187.888883 \n\" style=\"fill:none;stroke:#ffffff;stroke-linecap:round;stroke-width:0.8;\"/>\n     </g>\n     <g id=\"text_11\">\n      <!-- 0.5 -->\n      <defs>\n       <path d=\"M 4.15625 18.75 \nL 13.375 19.53125 \nQ 14.40625 12.796875 18.140625 9.390625 \nQ 21.875 6 27.15625 6 \nQ 33.5 6 37.890625 10.78125 \nQ 42.28125 15.578125 42.28125 23.484375 \nQ 42.28125 31 38.0625 35.34375 \nQ 33.84375 39.703125 27 39.703125 \nQ 22.75 39.703125 19.328125 37.765625 \nQ 15.921875 35.84375 13.96875 32.765625 \nL 5.71875 33.84375 \nL 12.640625 70.609375 \nL 48.25 70.609375 \nL 48.25 62.203125 \nL 19.671875 62.203125 \nL 15.828125 42.96875 \nQ 22.265625 47.46875 29.34375 47.46875 \nQ 38.71875 47.46875 45.15625 40.96875 \nQ 51.609375 34.46875 51.609375 24.265625 \nQ 51.609375 14.546875 45.953125 7.46875 \nQ 39.0625 -1.21875 27.15625 -1.21875 \nQ 17.390625 -1.21875 11.203125 4.25 \nQ 5.03125 9.71875 4.15625 18.75 \nz\n\" id=\"ArialMT-53\"/>\n      </defs>\n      <g style=\"fill:#262626;\" transform=\"translate(7.2 191.467789)scale(0.1 -0.1)\">\n       <use xlink:href=\"#ArialMT-48\"/>\n       <use x=\"55.615234\" xlink:href=\"#ArialMT-46\"/>\n       <use x=\"83.398438\" xlink:href=\"#ArialMT-53\"/>\n      </g>\n     </g>\n    </g>\n    <g id=\"ytick_3\">\n     <g id=\"line2d_11\">\n      <path clip-path=\"url(#p67d208d7e6)\" d=\"M 28.1 151.137766 \nL 362.9 151.137766 \n\" style=\"fill:none;stroke:#ffffff;stroke-linecap:round;stroke-width:0.8;\"/>\n     </g>\n     <g id=\"text_12\">\n      <!-- 1.0 -->\n      <g style=\"fill:#262626;\" transform=\"translate(7.2 154.716672)scale(0.1 -0.1)\">\n       <use xlink:href=\"#ArialMT-49\"/>\n       <use x=\"55.615234\" xlink:href=\"#ArialMT-46\"/>\n       <use x=\"83.398438\" xlink:href=\"#ArialMT-48\"/>\n      </g>\n     </g>\n    </g>\n    <g id=\"ytick_4\">\n     <g id=\"line2d_12\">\n      <path clip-path=\"url(#p67d208d7e6)\" d=\"M 28.1 114.386649 \nL 362.9 114.386649 \n\" style=\"fill:none;stroke:#ffffff;stroke-linecap:round;stroke-width:0.8;\"/>\n     </g>\n     <g id=\"text_13\">\n      <!-- 1.5 -->\n      <g style=\"fill:#262626;\" transform=\"translate(7.2 117.965556)scale(0.1 -0.1)\">\n       <use xlink:href=\"#ArialMT-49\"/>\n       <use x=\"55.615234\" xlink:href=\"#ArialMT-46\"/>\n       <use x=\"83.398438\" xlink:href=\"#ArialMT-53\"/>\n      </g>\n     </g>\n    </g>\n    <g id=\"ytick_5\">\n     <g id=\"line2d_13\">\n      <path clip-path=\"url(#p67d208d7e6)\" d=\"M 28.1 77.635532 \nL 362.9 77.635532 \n\" style=\"fill:none;stroke:#ffffff;stroke-linecap:round;stroke-width:0.8;\"/>\n     </g>\n     <g id=\"text_14\">\n      <!-- 2.0 -->\n      <g style=\"fill:#262626;\" transform=\"translate(7.2 81.214439)scale(0.1 -0.1)\">\n       <use xlink:href=\"#ArialMT-50\"/>\n       <use x=\"55.615234\" xlink:href=\"#ArialMT-46\"/>\n       <use x=\"83.398438\" xlink:href=\"#ArialMT-48\"/>\n      </g>\n     </g>\n    </g>\n    <g id=\"ytick_6\">\n     <g id=\"line2d_14\">\n      <path clip-path=\"url(#p67d208d7e6)\" d=\"M 28.1 40.884416 \nL 362.9 40.884416 \n\" style=\"fill:none;stroke:#ffffff;stroke-linecap:round;stroke-width:0.8;\"/>\n     </g>\n     <g id=\"text_15\">\n      <!-- 2.5 -->\n      <g style=\"fill:#262626;\" transform=\"translate(7.2 44.463322)scale(0.1 -0.1)\">\n       <use xlink:href=\"#ArialMT-50\"/>\n       <use x=\"55.615234\" xlink:href=\"#ArialMT-46\"/>\n       <use x=\"83.398438\" xlink:href=\"#ArialMT-53\"/>\n      </g>\n     </g>\n    </g>\n   </g>\n   <g id=\"patch_3\">\n    <path clip-path=\"url(#p67d208d7e6)\" d=\"M 43.318182 224.64 \nL 49.405455 224.64 \nL 49.405455 17.554286 \nL 43.318182 17.554286 \nz\n\" style=\"fill:#1f77b4;opacity:0.4;stroke:#ffffff;stroke-linejoin:miter;\"/>\n   </g>\n   <g id=\"patch_4\">\n    <path clip-path=\"url(#p67d208d7e6)\" d=\"M 49.405455 224.64 \nL 55.492727 224.64 \nL 55.492727 224.64 \nL 49.405455 224.64 \nz\n\" style=\"fill:#1f77b4;opacity:0.4;stroke:#ffffff;stroke-linejoin:miter;\"/>\n   </g>\n   <g id=\"patch_5\">\n    <path clip-path=\"url(#p67d208d7e6)\" d=\"M 55.492727 224.64 \nL 61.58 224.64 \nL 61.58 224.64 \nL 55.492727 224.64 \nz\n\" style=\"fill:#1f77b4;opacity:0.4;stroke:#ffffff;stroke-linejoin:miter;\"/>\n   </g>\n   <g id=\"patch_6\">\n    <path clip-path=\"url(#p67d208d7e6)\" d=\"M 61.58 224.64 \nL 67.667273 224.64 \nL 67.667273 209.060803 \nL 61.58 209.060803 \nz\n\" style=\"fill:#1f77b4;opacity:0.4;stroke:#ffffff;stroke-linejoin:miter;\"/>\n   </g>\n   <g id=\"patch_7\">\n    <path clip-path=\"url(#p67d208d7e6)\" d=\"M 67.667273 224.64 \nL 73.754545 224.64 \nL 73.754545 224.64 \nL 67.667273 224.64 \nz\n\" style=\"fill:#1f77b4;opacity:0.4;stroke:#ffffff;stroke-linejoin:miter;\"/>\n   </g>\n   <g id=\"patch_8\">\n    <path clip-path=\"url(#p67d208d7e6)\" d=\"M 73.754545 224.64 \nL 79.841818 224.64 \nL 79.841818 224.64 \nL 73.754545 224.64 \nz\n\" style=\"fill:#1f77b4;opacity:0.4;stroke:#ffffff;stroke-linejoin:miter;\"/>\n   </g>\n   <g id=\"patch_9\">\n    <path clip-path=\"url(#p67d208d7e6)\" d=\"M 79.841818 224.64 \nL 85.929091 224.64 \nL 85.929091 217.016343 \nL 79.841818 217.016343 \nz\n\" style=\"fill:#1f77b4;opacity:0.4;stroke:#ffffff;stroke-linejoin:miter;\"/>\n   </g>\n   <g id=\"patch_10\">\n    <path clip-path=\"url(#p67d208d7e6)\" d=\"M 85.929091 224.64 \nL 92.016364 224.64 \nL 92.016364 224.64 \nL 85.929091 224.64 \nz\n\" style=\"fill:#1f77b4;opacity:0.4;stroke:#ffffff;stroke-linejoin:miter;\"/>\n   </g>\n   <g id=\"patch_11\">\n    <path clip-path=\"url(#p67d208d7e6)\" d=\"M 92.016364 224.64 \nL 98.103636 224.64 \nL 98.103636 224.64 \nL 92.016364 224.64 \nz\n\" style=\"fill:#1f77b4;opacity:0.4;stroke:#ffffff;stroke-linejoin:miter;\"/>\n   </g>\n   <g id=\"patch_12\">\n    <path clip-path=\"url(#p67d208d7e6)\" d=\"M 98.103636 224.64 \nL 104.190909 224.64 \nL 104.190909 224.64 \nL 98.103636 224.64 \nz\n\" style=\"fill:#1f77b4;opacity:0.4;stroke:#ffffff;stroke-linejoin:miter;\"/>\n   </g>\n   <g id=\"patch_13\">\n    <path clip-path=\"url(#p67d208d7e6)\" d=\"M 104.190909 224.64 \nL 110.278182 224.64 \nL 110.278182 219.958185 \nL 104.190909 219.958185 \nz\n\" style=\"fill:#1f77b4;opacity:0.4;stroke:#ffffff;stroke-linejoin:miter;\"/>\n   </g>\n   <g id=\"patch_14\">\n    <path clip-path=\"url(#p67d208d7e6)\" d=\"M 110.278182 224.64 \nL 116.365455 224.64 \nL 116.365455 224.64 \nL 110.278182 224.64 \nz\n\" style=\"fill:#1f77b4;opacity:0.4;stroke:#ffffff;stroke-linejoin:miter;\"/>\n   </g>\n   <g id=\"patch_15\">\n    <path clip-path=\"url(#p67d208d7e6)\" d=\"M 116.365455 224.64 \nL 122.452727 224.64 \nL 122.452727 224.64 \nL 116.365455 224.64 \nz\n\" style=\"fill:#1f77b4;opacity:0.4;stroke:#ffffff;stroke-linejoin:miter;\"/>\n   </g>\n   <g id=\"patch_16\">\n    <path clip-path=\"url(#p67d208d7e6)\" d=\"M 122.452727 224.64 \nL 128.54 224.64 \nL 128.54 221.491939 \nL 122.452727 221.491939 \nz\n\" style=\"fill:#1f77b4;opacity:0.4;stroke:#ffffff;stroke-linejoin:miter;\"/>\n   </g>\n   <g id=\"patch_17\">\n    <path clip-path=\"url(#p67d208d7e6)\" d=\"M 128.54 224.64 \nL 134.627273 224.64 \nL 134.627273 224.64 \nL 128.54 224.64 \nz\n\" style=\"fill:#1f77b4;opacity:0.4;stroke:#ffffff;stroke-linejoin:miter;\"/>\n   </g>\n   <g id=\"patch_18\">\n    <path clip-path=\"url(#p67d208d7e6)\" d=\"M 134.627273 224.64 \nL 140.714545 224.64 \nL 140.714545 224.64 \nL 134.627273 224.64 \nz\n\" style=\"fill:#1f77b4;opacity:0.4;stroke:#ffffff;stroke-linejoin:miter;\"/>\n   </g>\n   <g id=\"patch_19\">\n    <path clip-path=\"url(#p67d208d7e6)\" d=\"M 140.714545 224.64 \nL 146.801818 224.64 \nL 146.801818 222.819473 \nL 140.714545 222.819473 \nz\n\" style=\"fill:#1f77b4;opacity:0.4;stroke:#ffffff;stroke-linejoin:miter;\"/>\n   </g>\n   <g id=\"patch_20\">\n    <path clip-path=\"url(#p67d208d7e6)\" d=\"M 146.801818 224.64 \nL 152.889091 224.64 \nL 152.889091 224.64 \nL 146.801818 224.64 \nz\n\" style=\"fill:#1f77b4;opacity:0.4;stroke:#ffffff;stroke-linejoin:miter;\"/>\n   </g>\n   <g id=\"patch_21\">\n    <path clip-path=\"url(#p67d208d7e6)\" d=\"M 152.889091 224.64 \nL 158.976364 224.64 \nL 158.976364 224.64 \nL 152.889091 224.64 \nz\n\" style=\"fill:#1f77b4;opacity:0.4;stroke:#ffffff;stroke-linejoin:miter;\"/>\n   </g>\n   <g id=\"patch_22\">\n    <path clip-path=\"url(#p67d208d7e6)\" d=\"M 158.976364 224.64 \nL 165.063636 224.64 \nL 165.063636 224.64 \nL 158.976364 224.64 \nz\n\" style=\"fill:#1f77b4;opacity:0.4;stroke:#ffffff;stroke-linejoin:miter;\"/>\n   </g>\n   <g id=\"patch_23\">\n    <path clip-path=\"url(#p67d208d7e6)\" d=\"M 165.063636 224.64 \nL 171.150909 224.64 \nL 171.150909 223.43813 \nL 165.063636 223.43813 \nz\n\" style=\"fill:#1f77b4;opacity:0.4;stroke:#ffffff;stroke-linejoin:miter;\"/>\n   </g>\n   <g id=\"patch_24\">\n    <path clip-path=\"url(#p67d208d7e6)\" d=\"M 171.150909 224.64 \nL 177.238182 224.64 \nL 177.238182 224.64 \nL 171.150909 224.64 \nz\n\" style=\"fill:#1f77b4;opacity:0.4;stroke:#ffffff;stroke-linejoin:miter;\"/>\n   </g>\n   <g id=\"patch_25\">\n    <path clip-path=\"url(#p67d208d7e6)\" d=\"M 177.238182 224.64 \nL 183.325455 224.64 \nL 183.325455 224.64 \nL 177.238182 224.64 \nz\n\" style=\"fill:#1f77b4;opacity:0.4;stroke:#ffffff;stroke-linejoin:miter;\"/>\n   </g>\n   <g id=\"patch_26\">\n    <path clip-path=\"url(#p67d208d7e6)\" d=\"M 183.325455 224.64 \nL 189.412727 224.64 \nL 189.412727 223.815124 \nL 183.325455 223.815124 \nz\n\" style=\"fill:#1f77b4;opacity:0.4;stroke:#ffffff;stroke-linejoin:miter;\"/>\n   </g>\n   <g id=\"patch_27\">\n    <path clip-path=\"url(#p67d208d7e6)\" d=\"M 189.412727 224.64 \nL 195.5 224.64 \nL 195.5 224.64 \nL 189.412727 224.64 \nz\n\" style=\"fill:#1f77b4;opacity:0.4;stroke:#ffffff;stroke-linejoin:miter;\"/>\n   </g>\n   <g id=\"patch_28\">\n    <path clip-path=\"url(#p67d208d7e6)\" d=\"M 195.5 224.64 \nL 201.587273 224.64 \nL 201.587273 224.64 \nL 195.5 224.64 \nz\n\" style=\"fill:#1f77b4;opacity:0.4;stroke:#ffffff;stroke-linejoin:miter;\"/>\n   </g>\n   <g id=\"patch_29\">\n    <path clip-path=\"url(#p67d208d7e6)\" d=\"M 201.587273 224.64 \nL 207.674545 224.64 \nL 207.674545 224.082564 \nL 201.587273 224.082564 \nz\n\" style=\"fill:#1f77b4;opacity:0.4;stroke:#ffffff;stroke-linejoin:miter;\"/>\n   </g>\n   <g id=\"patch_30\">\n    <path clip-path=\"url(#p67d208d7e6)\" d=\"M 207.674545 224.64 \nL 213.761818 224.64 \nL 213.761818 224.64 \nL 207.674545 224.64 \nz\n\" style=\"fill:#1f77b4;opacity:0.4;stroke:#ffffff;stroke-linejoin:miter;\"/>\n   </g>\n   <g id=\"patch_31\">\n    <path clip-path=\"url(#p67d208d7e6)\" d=\"M 213.761818 224.64 \nL 219.849091 224.64 \nL 219.849091 224.64 \nL 213.761818 224.64 \nz\n\" style=\"fill:#1f77b4;opacity:0.4;stroke:#ffffff;stroke-linejoin:miter;\"/>\n   </g>\n   <g id=\"patch_32\">\n    <path clip-path=\"url(#p67d208d7e6)\" d=\"M 219.849091 224.64 \nL 225.936364 224.64 \nL 225.936364 224.64 \nL 219.849091 224.64 \nz\n\" style=\"fill:#1f77b4;opacity:0.4;stroke:#ffffff;stroke-linejoin:miter;\"/>\n   </g>\n   <g id=\"patch_33\">\n    <path clip-path=\"url(#p67d208d7e6)\" d=\"M 225.936364 224.64 \nL 232.023636 224.64 \nL 232.023636 224.163119 \nL 225.936364 224.163119 \nz\n\" style=\"fill:#1f77b4;opacity:0.4;stroke:#ffffff;stroke-linejoin:miter;\"/>\n   </g>\n   <g id=\"patch_34\">\n    <path clip-path=\"url(#p67d208d7e6)\" d=\"M 232.023636 224.64 \nL 238.110909 224.64 \nL 238.110909 224.64 \nL 232.023636 224.64 \nz\n\" style=\"fill:#1f77b4;opacity:0.4;stroke:#ffffff;stroke-linejoin:miter;\"/>\n   </g>\n   <g id=\"patch_35\">\n    <path clip-path=\"url(#p67d208d7e6)\" d=\"M 238.110909 224.64 \nL 244.198182 224.64 \nL 244.198182 224.64 \nL 238.110909 224.64 \nz\n\" style=\"fill:#1f77b4;opacity:0.4;stroke:#ffffff;stroke-linejoin:miter;\"/>\n   </g>\n   <g id=\"patch_36\">\n    <path clip-path=\"url(#p67d208d7e6)\" d=\"M 244.198182 224.64 \nL 250.285455 224.64 \nL 250.285455 224.29845 \nL 244.198182 224.29845 \nz\n\" style=\"fill:#1f77b4;opacity:0.4;stroke:#ffffff;stroke-linejoin:miter;\"/>\n   </g>\n   <g id=\"patch_37\">\n    <path clip-path=\"url(#p67d208d7e6)\" d=\"M 250.285455 224.64 \nL 256.372727 224.64 \nL 256.372727 224.64 \nL 250.285455 224.64 \nz\n\" style=\"fill:#1f77b4;opacity:0.4;stroke:#ffffff;stroke-linejoin:miter;\"/>\n   </g>\n   <g id=\"patch_38\">\n    <path clip-path=\"url(#p67d208d7e6)\" d=\"M 256.372727 224.64 \nL 262.46 224.64 \nL 262.46 224.64 \nL 256.372727 224.64 \nz\n\" style=\"fill:#1f77b4;opacity:0.4;stroke:#ffffff;stroke-linejoin:miter;\"/>\n   </g>\n   <g id=\"patch_39\">\n    <path clip-path=\"url(#p67d208d7e6)\" d=\"M 262.46 224.64 \nL 268.547273 224.64 \nL 268.547273 224.382226 \nL 262.46 224.382226 \nz\n\" style=\"fill:#1f77b4;opacity:0.4;stroke:#ffffff;stroke-linejoin:miter;\"/>\n   </g>\n   <g id=\"patch_40\">\n    <path clip-path=\"url(#p67d208d7e6)\" d=\"M 268.547273 224.64 \nL 274.634545 224.64 \nL 274.634545 224.64 \nL 268.547273 224.64 \nz\n\" style=\"fill:#1f77b4;opacity:0.4;stroke:#ffffff;stroke-linejoin:miter;\"/>\n   </g>\n   <g id=\"patch_41\">\n    <path clip-path=\"url(#p67d208d7e6)\" d=\"M 274.634545 224.64 \nL 280.721818 224.64 \nL 280.721818 224.64 \nL 274.634545 224.64 \nz\n\" style=\"fill:#1f77b4;opacity:0.4;stroke:#ffffff;stroke-linejoin:miter;\"/>\n   </g>\n   <g id=\"patch_42\">\n    <path clip-path=\"url(#p67d208d7e6)\" d=\"M 280.721818 224.64 \nL 286.809091 224.64 \nL 286.809091 224.64 \nL 280.721818 224.64 \nz\n\" style=\"fill:#1f77b4;opacity:0.4;stroke:#ffffff;stroke-linejoin:miter;\"/>\n   </g>\n   <g id=\"patch_43\">\n    <path clip-path=\"url(#p67d208d7e6)\" d=\"M 286.809091 224.64 \nL 292.896364 224.64 \nL 292.896364 224.404782 \nL 286.809091 224.404782 \nz\n\" style=\"fill:#1f77b4;opacity:0.4;stroke:#ffffff;stroke-linejoin:miter;\"/>\n   </g>\n   <g id=\"patch_44\">\n    <path clip-path=\"url(#p67d208d7e6)\" d=\"M 292.896364 224.64 \nL 298.983636 224.64 \nL 298.983636 224.64 \nL 292.896364 224.64 \nz\n\" style=\"fill:#1f77b4;opacity:0.4;stroke:#ffffff;stroke-linejoin:miter;\"/>\n   </g>\n   <g id=\"patch_45\">\n    <path clip-path=\"url(#p67d208d7e6)\" d=\"M 298.983636 224.64 \nL 305.070909 224.64 \nL 305.070909 224.64 \nL 298.983636 224.64 \nz\n\" style=\"fill:#1f77b4;opacity:0.4;stroke:#ffffff;stroke-linejoin:miter;\"/>\n   </g>\n   <g id=\"patch_46\">\n    <path clip-path=\"url(#p67d208d7e6)\" d=\"M 305.070909 224.64 \nL 311.158182 224.64 \nL 311.158182 224.443448 \nL 305.070909 224.443448 \nz\n\" style=\"fill:#1f77b4;opacity:0.4;stroke:#ffffff;stroke-linejoin:miter;\"/>\n   </g>\n   <g id=\"patch_47\">\n    <path clip-path=\"url(#p67d208d7e6)\" d=\"M 311.158182 224.64 \nL 317.245455 224.64 \nL 317.245455 224.64 \nL 311.158182 224.64 \nz\n\" style=\"fill:#1f77b4;opacity:0.4;stroke:#ffffff;stroke-linejoin:miter;\"/>\n   </g>\n   <g id=\"patch_48\">\n    <path clip-path=\"url(#p67d208d7e6)\" d=\"M 317.245455 224.64 \nL 323.332727 224.64 \nL 323.332727 224.64 \nL 317.245455 224.64 \nz\n\" style=\"fill:#1f77b4;opacity:0.4;stroke:#ffffff;stroke-linejoin:miter;\"/>\n   </g>\n   <g id=\"patch_49\">\n    <path clip-path=\"url(#p67d208d7e6)\" d=\"M 323.332727 224.64 \nL 329.42 224.64 \nL 329.42 224.504669 \nL 323.332727 224.504669 \nz\n\" style=\"fill:#1f77b4;opacity:0.4;stroke:#ffffff;stroke-linejoin:miter;\"/>\n   </g>\n   <g id=\"patch_50\">\n    <path clip-path=\"url(#p67d208d7e6)\" d=\"M 329.42 224.64 \nL 335.507273 224.64 \nL 335.507273 224.64 \nL 329.42 224.64 \nz\n\" style=\"fill:#1f77b4;opacity:0.4;stroke:#ffffff;stroke-linejoin:miter;\"/>\n   </g>\n   <g id=\"patch_51\">\n    <path clip-path=\"url(#p67d208d7e6)\" d=\"M 335.507273 224.64 \nL 341.594545 224.64 \nL 341.594545 224.64 \nL 335.507273 224.64 \nz\n\" style=\"fill:#1f77b4;opacity:0.4;stroke:#ffffff;stroke-linejoin:miter;\"/>\n   </g>\n   <g id=\"patch_52\">\n    <path clip-path=\"url(#p67d208d7e6)\" d=\"M 341.594545 224.64 \nL 347.681818 224.64 \nL 347.681818 223.799013 \nL 341.594545 223.799013 \nz\n\" style=\"fill:#1f77b4;opacity:0.4;stroke:#ffffff;stroke-linejoin:miter;\"/>\n   </g>\n   <g id=\"line2d_15\"/>\n   <g id=\"patch_53\">\n    <path d=\"M 28.1 224.64 \nL 28.1 7.2 \n\" style=\"fill:none;stroke:#ffffff;stroke-linecap:square;stroke-linejoin:miter;stroke-width:0.8;\"/>\n   </g>\n   <g id=\"patch_54\">\n    <path d=\"M 362.9 224.64 \nL 362.9 7.2 \n\" style=\"fill:none;stroke:#ffffff;stroke-linecap:square;stroke-linejoin:miter;stroke-width:0.8;\"/>\n   </g>\n   <g id=\"patch_55\">\n    <path d=\"M 28.1 224.64 \nL 362.9 224.64 \n\" style=\"fill:none;stroke:#ffffff;stroke-linecap:square;stroke-linejoin:miter;stroke-width:0.8;\"/>\n   </g>\n   <g id=\"patch_56\">\n    <path d=\"M 28.1 7.2 \nL 362.9 7.2 \n\" style=\"fill:none;stroke:#ffffff;stroke-linecap:square;stroke-linejoin:miter;stroke-width:0.8;\"/>\n   </g>\n  </g>\n </g>\n <defs>\n  <clipPath id=\"p67d208d7e6\">\n   <rect height=\"217.44\" width=\"334.8\" x=\"28.1\" y=\"7.2\"/>\n  </clipPath>\n </defs>\n</svg>\n",
      "image/png": "[encoded data removed]"
     },
     "metadata": {}
    }
   ],
   "source": [
    "sns.distplot(df_a_train[\"DaysInHospital\"])"
   ]
  },
  {
   "cell_type": "code",
   "execution_count": 7,
   "metadata": {},
   "outputs": [
    {
     "output_type": "execute_result",
     "data": {
      "text/plain": [
       "AgeAtFirstClaim    0.000000\n",
       "Sex                0.183172\n",
       "ClaimCount         0.000000\n",
       "ProviderID         0.000000\n",
       "Vendor             0.000000\n",
       "                     ...   \n",
       "DrugCountAvg       0.344565\n",
       "DrugCountStd       0.474000\n",
       "DrugCountSum       0.344565\n",
       "DrugClaimCount     0.344565\n",
       "DaysInHospital     0.000000\n",
       "Length: 121, dtype: float64"
      ]
     },
     "metadata": {},
     "execution_count": 7
    }
   ],
   "source": [
    "missing_rate = df_a_train.isnull().sum() / df_a_train.shape[0]\n",
    "missing_rate"
   ]
  },
  {
   "cell_type": "code",
   "execution_count": 8,
   "metadata": {},
   "outputs": [
    {
     "output_type": "execute_result",
     "data": {
      "text/plain": [
       "Sex               0.183172\n",
       "PayDelayStd       0.092204\n",
       "DSFSMin           0.000237\n",
       "DSFSMax           0.000237\n",
       "LabCountMin       0.299995\n",
       "LabCountMax       0.299995\n",
       "LabCountAvg       0.299995\n",
       "LabCountStd       0.619743\n",
       "LabCountSum       0.299995\n",
       "LabClaimCount     0.299995\n",
       "DrugCountMin      0.344565\n",
       "DrugCountMax      0.344565\n",
       "DrugCountAvg      0.344565\n",
       "DrugCountStd      0.474000\n",
       "DrugCountSum      0.344565\n",
       "DrugClaimCount    0.344565\n",
       "dtype: float64"
      ]
     },
     "metadata": {},
     "execution_count": 8
    }
   ],
   "source": [
    "need_remove = missing_rate[missing_rate != 0]\n",
    "need_remove"
   ]
  },
  {
   "cell_type": "code",
   "execution_count": 9,
   "metadata": {},
   "outputs": [],
   "source": [
    "def one_hot_encode(df, column, params=None, drop=False):\n",
    "    df[column].fillna(\"NaN\", inplace=True)\n",
    "    if params == None:\n",
    "        value_count = df[column].value_counts()\n",
    "\n",
    "        category = list(value_count.index)\n",
    "        max_category = category[np.argmax(value_count)]\n",
    "        if drop:\n",
    "            category.remove(max_category)\n",
    "        \n",
    "        for index in category:\n",
    "            column_name = \"{}_{}\".format(column, index)\n",
    "            df[column_name] = 0\n",
    "            df.loc[df[column] == index, column_name] = 1\n",
    "\n",
    "        df.drop(columns=[column], inplace=True)\n",
    "        return { \"category\": list(value_count.index), \"drop\": max_category }\n",
    "    else:\n",
    "        category = params[\"category\"]\n",
    "        is_drop = params[\"drop\"]\n",
    "        if drop:\n",
    "            category.remove(drop)\n",
    "\n",
    "        for index in category:\n",
    "            column_name = \"{}_{}\".format(column, index)\n",
    "            df[column_name] = 0\n",
    "            df.loc[df[column] == index, column_name] = 1\n",
    "\n",
    "        df.drop(columns=[column], inplace=True)\n",
    "        return params"
   ]
  },
  {
   "cell_type": "code",
   "execution_count": 10,
   "metadata": {},
   "outputs": [],
   "source": [
    "sex_param = one_hot_encode(df_a_train, \"Sex\")"
   ]
  },
  {
   "cell_type": "code",
   "execution_count": 11,
   "metadata": {},
   "outputs": [
    {
     "output_type": "execute_result",
     "data": {
      "text/plain": [
       "{'category': ['F', 'M', 'NaN'], 'drop': 'F'}"
      ]
     },
     "metadata": {},
     "execution_count": 11
    }
   ],
   "source": [
    "sex_param"
   ]
  },
  {
   "cell_type": "code",
   "execution_count": 12,
   "metadata": {},
   "outputs": [
    {
     "output_type": "execute_result",
     "data": {
      "text/plain": [
       "          AgeAtFirstClaim  ClaimCount  ProviderID  Vendor  PCP  \\\n",
       "MemberID                                                         \n",
       "210                    35         8.0         4.0     4.0  2.0   \n",
       "3197                    5         5.0         3.0     3.0  1.0   \n",
       "3889                   -1        13.0         7.0     7.0  1.0   \n",
       "4187                   55         4.0         3.0     3.0  1.0   \n",
       "9063                   65         4.0         2.0     2.0  1.0   \n",
       "...                   ...         ...         ...     ...  ...   \n",
       "99995554               45        35.0         3.0     3.0  1.0   \n",
       "99996214               45         1.0         1.0     1.0  1.0   \n",
       "99997485               15         1.0         1.0     1.0  1.0   \n",
       "99997895               45        14.0         5.0     4.0  1.0   \n",
       "99998627               35        10.0         7.0     7.0  1.0   \n",
       "\n",
       "          SpecialtyCount_Surgery  SpecialtyCount_Rehabilitation  \\\n",
       "MemberID                                                          \n",
       "210                          0.0                            0.0   \n",
       "3197                         0.0                            0.0   \n",
       "3889                         0.0                            0.0   \n",
       "4187                         0.0                            0.0   \n",
       "9063                         0.0                            0.0   \n",
       "...                          ...                            ...   \n",
       "99995554                     0.0                            0.0   \n",
       "99996214                     0.0                            0.0   \n",
       "99997485                     0.0                            0.0   \n",
       "99997895                     2.0                            0.0   \n",
       "99998627                     0.0                            0.0   \n",
       "\n",
       "          SpecialtyCount_Diagnostic Imaging  SpecialtyCount_Emergency  \\\n",
       "MemberID                                                                \n",
       "210                                     0.0                       2.0   \n",
       "3197                                    0.0                       2.0   \n",
       "3889                                    1.0                       4.0   \n",
       "4187                                    1.0                       0.0   \n",
       "9063                                    1.0                       0.0   \n",
       "...                                     ...                       ...   \n",
       "99995554                                0.0                       0.0   \n",
       "99996214                                0.0                       0.0   \n",
       "99997485                                0.0                       0.0   \n",
       "99997895                                1.0                       0.0   \n",
       "99998627                                1.0                       0.0   \n",
       "\n",
       "          SpecialtyCount_Internal  ...  DrugCountMin  DrugCountMax  \\\n",
       "MemberID                           ...                               \n",
       "210                           4.0  ...           1.0           2.0   \n",
       "3197                          0.0  ...           1.0           2.0   \n",
       "3889                          4.0  ...           2.0           5.0   \n",
       "4187                          2.0  ...           3.0           7.0   \n",
       "9063                          3.0  ...           1.0           1.0   \n",
       "...                           ...  ...           ...           ...   \n",
       "99995554                     26.0  ...           1.0           4.0   \n",
       "99996214                      0.0  ...           NaN           NaN   \n",
       "99997485                      0.0  ...           NaN           NaN   \n",
       "99997895                      4.0  ...           NaN           NaN   \n",
       "99998627                      4.0  ...           1.0           1.0   \n",
       "\n",
       "          DrugCountAvg  DrugCountStd  DrugCountSum  DrugClaimCount  \\\n",
       "MemberID                                                             \n",
       "210           1.666667      0.577350           5.0             3.0   \n",
       "3197          1.250000      0.500000           5.0             4.0   \n",
       "3889          3.000000      0.816497          30.0            10.0   \n",
       "4187          6.100000      1.449138          61.0            10.0   \n",
       "9063          1.000000      0.000000           2.0             2.0   \n",
       "...                ...           ...           ...             ...   \n",
       "99995554      2.000000      1.414214           8.0             4.0   \n",
       "99996214           NaN           NaN           NaN             NaN   \n",
       "99997485           NaN           NaN           NaN             NaN   \n",
       "99997895           NaN           NaN           NaN             NaN   \n",
       "99998627      1.000000           NaN           1.0             1.0   \n",
       "\n",
       "          DaysInHospital  Sex_F  Sex_M  Sex_NaN  \n",
       "MemberID                                         \n",
       "210                  0.0      0      0        1  \n",
       "3197                 0.0      1      0        0  \n",
       "3889                 0.0      1      0        0  \n",
       "4187                 0.0      1      0        0  \n",
       "9063                 0.0      1      0        0  \n",
       "...                  ...    ...    ...      ...  \n",
       "99995554             0.0      0      1        0  \n",
       "99996214             0.0      0      1        0  \n",
       "99997485             0.0      0      1        0  \n",
       "99997895             0.0      0      1        0  \n",
       "99998627             0.0      1      0        0  \n",
       "\n",
       "[76038 rows x 123 columns]"
      ],
      "text/html": "<div>\n<style scoped>\n    .dataframe tbody tr th:only-of-type {\n        vertical-align: middle;\n    }\n\n    .dataframe tbody tr th {\n        vertical-align: top;\n    }\n\n    .dataframe thead th {\n        text-align: right;\n    }\n</style>\n<table border=\"1\" class=\"dataframe\">\n  <thead>\n    <tr style=\"text-align: right;\">\n      <th></th>\n      <th>AgeAtFirstClaim</th>\n      <th>ClaimCount</th>\n      <th>ProviderID</th>\n      <th>Vendor</th>\n      <th>PCP</th>\n      <th>SpecialtyCount_Surgery</th>\n      <th>SpecialtyCount_Rehabilitation</th>\n      <th>SpecialtyCount_Diagnostic Imaging</th>\n      <th>SpecialtyCount_Emergency</th>\n      <th>SpecialtyCount_Internal</th>\n      <th>...</th>\n      <th>DrugCountMin</th>\n      <th>DrugCountMax</th>\n      <th>DrugCountAvg</th>\n      <th>DrugCountStd</th>\n      <th>DrugCountSum</th>\n      <th>DrugClaimCount</th>\n      <th>DaysInHospital</th>\n      <th>Sex_F</th>\n      <th>Sex_M</th>\n      <th>Sex_NaN</th>\n    </tr>\n    <tr>\n      <th>MemberID</th>\n      <th></th>\n      <th></th>\n      <th></th>\n      <th></th>\n      <th></th>\n      <th></th>\n      <th></th>\n      <th></th>\n      <th></th>\n      <th></th>\n      <th></th>\n      <th></th>\n      <th></th>\n      <th></th>\n      <th></th>\n      <th></th>\n      <th></th>\n      <th></th>\n      <th></th>\n      <th></th>\n      <th></th>\n    </tr>\n  </thead>\n  <tbody>\n    <tr>\n      <th>210</th>\n      <td>35</td>\n      <td>8.0</td>\n      <td>4.0</td>\n      <td>4.0</td>\n      <td>2.0</td>\n      <td>0.0</td>\n      <td>0.0</td>\n      <td>0.0</td>\n      <td>2.0</td>\n      <td>4.0</td>\n      <td>...</td>\n      <td>1.0</td>\n      <td>2.0</td>\n      <td>1.666667</td>\n      <td>0.577350</td>\n      <td>5.0</td>\n      <td>3.0</td>\n      <td>0.0</td>\n      <td>0</td>\n      <td>0</td>\n      <td>1</td>\n    </tr>\n    <tr>\n      <th>3197</th>\n      <td>5</td>\n      <td>5.0</td>\n      <td>3.0</td>\n      <td>3.0</td>\n      <td>1.0</td>\n      <td>0.0</td>\n      <td>0.0</td>\n      <td>0.0</td>\n      <td>2.0</td>\n      <td>0.0</td>\n      <td>...</td>\n      <td>1.0</td>\n      <td>2.0</td>\n      <td>1.250000</td>\n      <td>0.500000</td>\n      <td>5.0</td>\n      <td>4.0</td>\n      <td>0.0</td>\n      <td>1</td>\n      <td>0</td>\n      <td>0</td>\n    </tr>\n    <tr>\n      <th>3889</th>\n      <td>-1</td>\n      <td>13.0</td>\n      <td>7.0</td>\n      <td>7.0</td>\n      <td>1.0</td>\n      <td>0.0</td>\n      <td>0.0</td>\n      <td>1.0</td>\n      <td>4.0</td>\n      <td>4.0</td>\n      <td>...</td>\n      <td>2.0</td>\n      <td>5.0</td>\n      <td>3.000000</td>\n      <td>0.816497</td>\n      <td>30.0</td>\n      <td>10.0</td>\n      <td>0.0</td>\n      <td>1</td>\n      <td>0</td>\n      <td>0</td>\n    </tr>\n    <tr>\n      <th>4187</th>\n      <td>55</td>\n      <td>4.0</td>\n      <td>3.0</td>\n      <td>3.0</td>\n      <td>1.0</td>\n      <td>0.0</td>\n      <td>0.0</td>\n      <td>1.0</td>\n      <td>0.0</td>\n      <td>2.0</td>\n      <td>...</td>\n      <td>3.0</td>\n      <td>7.0</td>\n      <td>6.100000</td>\n      <td>1.449138</td>\n      <td>61.0</td>\n      <td>10.0</td>\n      <td>0.0</td>\n      <td>1</td>\n      <td>0</td>\n      <td>0</td>\n    </tr>\n    <tr>\n      <th>9063</th>\n      <td>65</td>\n      <td>4.0</td>\n      <td>2.0</td>\n      <td>2.0</td>\n      <td>1.0</td>\n      <td>0.0</td>\n      <td>0.0</td>\n      <td>1.0</td>\n      <td>0.0</td>\n      <td>3.0</td>\n      <td>...</td>\n      <td>1.0</td>\n      <td>1.0</td>\n      <td>1.000000</td>\n      <td>0.000000</td>\n      <td>2.0</td>\n      <td>2.0</td>\n      <td>0.0</td>\n      <td>1</td>\n      <td>0</td>\n      <td>0</td>\n    </tr>\n    <tr>\n      <th>...</th>\n      <td>...</td>\n      <td>...</td>\n      <td>...</td>\n      <td>...</td>\n      <td>...</td>\n      <td>...</td>\n      <td>...</td>\n      <td>...</td>\n      <td>...</td>\n      <td>...</td>\n      <td>...</td>\n      <td>...</td>\n      <td>...</td>\n      <td>...</td>\n      <td>...</td>\n      <td>...</td>\n      <td>...</td>\n      <td>...</td>\n      <td>...</td>\n      <td>...</td>\n      <td>...</td>\n    </tr>\n    <tr>\n      <th>99995554</th>\n      <td>45</td>\n      <td>35.0</td>\n      <td>3.0</td>\n      <td>3.0</td>\n      <td>1.0</td>\n      <td>0.0</td>\n      <td>0.0</td>\n      <td>0.0</td>\n      <td>0.0</td>\n      <td>26.0</td>\n      <td>...</td>\n      <td>1.0</td>\n      <td>4.0</td>\n      <td>2.000000</td>\n      <td>1.414214</td>\n      <td>8.0</td>\n      <td>4.0</td>\n      <td>0.0</td>\n      <td>0</td>\n      <td>1</td>\n      <td>0</td>\n    </tr>\n    <tr>\n      <th>99996214</th>\n      <td>45</td>\n      <td>1.0</td>\n      <td>1.0</td>\n      <td>1.0</td>\n      <td>1.0</td>\n      <td>0.0</td>\n      <td>0.0</td>\n      <td>0.0</td>\n      <td>0.0</td>\n      <td>0.0</td>\n      <td>...</td>\n      <td>NaN</td>\n      <td>NaN</td>\n      <td>NaN</td>\n      <td>NaN</td>\n      <td>NaN</td>\n      <td>NaN</td>\n      <td>0.0</td>\n      <td>0</td>\n      <td>1</td>\n      <td>0</td>\n    </tr>\n    <tr>\n      <th>99997485</th>\n      <td>15</td>\n      <td>1.0</td>\n      <td>1.0</td>\n      <td>1.0</td>\n      <td>1.0</td>\n      <td>0.0</td>\n      <td>0.0</td>\n      <td>0.0</td>\n      <td>0.0</td>\n      <td>0.0</td>\n      <td>...</td>\n      <td>NaN</td>\n      <td>NaN</td>\n      <td>NaN</td>\n      <td>NaN</td>\n      <td>NaN</td>\n      <td>NaN</td>\n      <td>0.0</td>\n      <td>0</td>\n      <td>1</td>\n      <td>0</td>\n    </tr>\n    <tr>\n      <th>99997895</th>\n      <td>45</td>\n      <td>14.0</td>\n      <td>5.0</td>\n      <td>4.0</td>\n      <td>1.0</td>\n      <td>2.0</td>\n      <td>0.0</td>\n      <td>1.0</td>\n      <td>0.0</td>\n      <td>4.0</td>\n      <td>...</td>\n      <td>NaN</td>\n      <td>NaN</td>\n      <td>NaN</td>\n      <td>NaN</td>\n      <td>NaN</td>\n      <td>NaN</td>\n      <td>0.0</td>\n      <td>0</td>\n      <td>1</td>\n      <td>0</td>\n    </tr>\n    <tr>\n      <th>99998627</th>\n      <td>35</td>\n      <td>10.0</td>\n      <td>7.0</td>\n      <td>7.0</td>\n      <td>1.0</td>\n      <td>0.0</td>\n      <td>0.0</td>\n      <td>1.0</td>\n      <td>0.0</td>\n      <td>4.0</td>\n      <td>...</td>\n      <td>1.0</td>\n      <td>1.0</td>\n      <td>1.000000</td>\n      <td>NaN</td>\n      <td>1.0</td>\n      <td>1.0</td>\n      <td>0.0</td>\n      <td>1</td>\n      <td>0</td>\n      <td>0</td>\n    </tr>\n  </tbody>\n</table>\n<p>76038 rows × 123 columns</p>\n</div>"
     },
     "metadata": {},
     "execution_count": 12
    }
   ],
   "source": [
    "df_a_train"
   ]
  },
  {
   "cell_type": "code",
   "execution_count": 13,
   "metadata": {},
   "outputs": [],
   "source": [
    "df_a_train[\"PayDelayStd\"].fillna(-1.0, inplace=True)\n",
    "df_a_train[\"LabCountStd\"].fillna(-1.0, inplace=True)\n",
    "df_a_train[\"DrugCountStd\"].fillna(-1.0, inplace=True)\n",
    "df_a_train.fillna(0.0, inplace=True)"
   ]
  },
  {
   "cell_type": "code",
   "execution_count": 17,
   "metadata": {},
   "outputs": [
    {
     "output_type": "execute_result",
     "data": {
      "text/plain": [
       "                               AgeAtFirstClaim  CharlsonIndexAvg  \\\n",
       "AgeAtFirstClaim                       1.000000          0.318469   \n",
       "CharlsonIndexAvg                      0.318469          1.000000   \n",
       "CharlsonIndexMax                      0.322416          0.916764   \n",
       "CharlsonIndexMin                      0.185983          0.715361   \n",
       "ClaimCount                            0.318933          0.461921   \n",
       "...                                        ...               ...   \n",
       "SpecialtyCount_Pediatrics             0.330481          0.099440   \n",
       "SpecialtyCount_Rehabilitation         0.043945          0.032961   \n",
       "SpecialtyCount_Surgery                0.182302          0.188123   \n",
       "SpecialtyCount_nan                    0.053847          0.046136   \n",
       "Vendor                                0.257952          0.334537   \n",
       "\n",
       "                               CharlsonIndexMax  CharlsonIndexMin  ClaimCount  \\\n",
       "AgeAtFirstClaim                        0.322416          0.185983    0.318933   \n",
       "CharlsonIndexAvg                       0.916764          0.715361    0.461921   \n",
       "CharlsonIndexMax                       1.000000          0.555844    0.497185   \n",
       "CharlsonIndexMin                       0.555844          1.000000    0.179185   \n",
       "ClaimCount                             0.497185          0.179185    1.000000   \n",
       "...                                         ...               ...         ...   \n",
       "SpecialtyCount_Pediatrics              0.094534          0.073204    0.018476   \n",
       "SpecialtyCount_Rehabilitation          0.045363          0.018613    0.250658   \n",
       "SpecialtyCount_Surgery                 0.201291          0.062400    0.493836   \n",
       "SpecialtyCount_nan                     0.044078          0.012741    0.136595   \n",
       "Vendor                                 0.364215          0.103928    0.775221   \n",
       "\n",
       "                                DSFSMax   DSFSMin  DrugClaimCount  \\\n",
       "AgeAtFirstClaim                0.309591  0.031037        0.428059   \n",
       "CharlsonIndexAvg               0.349424  0.068671        0.380978   \n",
       "CharlsonIndexMax               0.374594  0.061235        0.390197   \n",
       "CharlsonIndexMin               0.145568  0.077180        0.197247   \n",
       "ClaimCount                     0.671555  0.068696        0.538912   \n",
       "...                                 ...       ...             ...   \n",
       "SpecialtyCount_Pediatrics      0.023611  0.004375        0.129759   \n",
       "SpecialtyCount_Rehabilitation  0.141882  0.000748        0.094462   \n",
       "SpecialtyCount_Surgery         0.320338  0.004361        0.251640   \n",
       "SpecialtyCount_nan             0.066942  0.032544        0.035968   \n",
       "Vendor                         0.559130  0.028320        0.418256   \n",
       "\n",
       "                               DrugCountAvg  DrugCountMax  ...  \\\n",
       "AgeAtFirstClaim                    0.354634      0.390911  ...   \n",
       "CharlsonIndexAvg                   0.390423      0.417698  ...   \n",
       "CharlsonIndexMax                   0.389618      0.421359  ...   \n",
       "CharlsonIndexMin                   0.243166      0.239324  ...   \n",
       "ClaimCount                         0.428392      0.511226  ...   \n",
       "...                                     ...           ...  ...   \n",
       "SpecialtyCount_Pediatrics          0.108211      0.118096  ...   \n",
       "SpecialtyCount_Rehabilitation      0.069001      0.091723  ...   \n",
       "SpecialtyCount_Surgery             0.192883      0.241813  ...   \n",
       "SpecialtyCount_nan                 0.025103      0.034501  ...   \n",
       "Vendor                             0.317913      0.393993  ...   \n",
       "\n",
       "                               SpecialtyCount_Internal  \\\n",
       "AgeAtFirstClaim                               0.288102   \n",
       "CharlsonIndexAvg                              0.378260   \n",
       "CharlsonIndexMax                              0.403368   \n",
       "CharlsonIndexMin                              0.160182   \n",
       "ClaimCount                                    0.684208   \n",
       "...                                                ...   \n",
       "SpecialtyCount_Pediatrics                     0.115537   \n",
       "SpecialtyCount_Rehabilitation                 0.079035   \n",
       "SpecialtyCount_Surgery                        0.276574   \n",
       "SpecialtyCount_nan                            0.081712   \n",
       "Vendor                                        0.553973   \n",
       "\n",
       "                               SpecialtyCount_Laboratory  \\\n",
       "AgeAtFirstClaim                                 0.304139   \n",
       "CharlsonIndexAvg                                0.344711   \n",
       "CharlsonIndexMax                                0.365259   \n",
       "CharlsonIndexMin                                0.160315   \n",
       "ClaimCount                                      0.659215   \n",
       "...                                                  ...   \n",
       "SpecialtyCount_Pediatrics                       0.094636   \n",
       "SpecialtyCount_Rehabilitation                   0.045704   \n",
       "SpecialtyCount_Surgery                          0.156768   \n",
       "SpecialtyCount_nan                              0.020700   \n",
       "Vendor                                          0.341141   \n",
       "\n",
       "                               SpecialtyCount_Obstetrics and Gynecology  \\\n",
       "AgeAtFirstClaim                                                0.055738   \n",
       "CharlsonIndexAvg                                               0.051728   \n",
       "CharlsonIndexMax                                               0.045234   \n",
       "CharlsonIndexMin                                               0.050188   \n",
       "ClaimCount                                                     0.112739   \n",
       "...                                                                 ...   \n",
       "SpecialtyCount_Pediatrics                                      0.004171   \n",
       "SpecialtyCount_Rehabilitation                                  0.021867   \n",
       "SpecialtyCount_Surgery                                         0.021049   \n",
       "SpecialtyCount_nan                                             0.100649   \n",
       "Vendor                                                         0.190993   \n",
       "\n",
       "                               SpecialtyCount_Other  SpecialtyCount_Pathology  \\\n",
       "AgeAtFirstClaim                            0.137113                  0.004704   \n",
       "CharlsonIndexAvg                           0.218768                  0.057744   \n",
       "CharlsonIndexMax                           0.235393                  0.068578   \n",
       "CharlsonIndexMin                           0.115068                  0.001449   \n",
       "ClaimCount                                 0.325299                  0.214807   \n",
       "...                                             ...                       ...   \n",
       "SpecialtyCount_Pediatrics                  0.049477                  0.007183   \n",
       "SpecialtyCount_Rehabilitation              0.014575                  0.000004   \n",
       "SpecialtyCount_Surgery                     0.111460                  0.119772   \n",
       "SpecialtyCount_nan                         0.037459                  0.131162   \n",
       "Vendor                                     0.220250                  0.341162   \n",
       "\n",
       "                               SpecialtyCount_Pediatrics  \\\n",
       "AgeAtFirstClaim                                 0.330481   \n",
       "CharlsonIndexAvg                                0.099440   \n",
       "CharlsonIndexMax                                0.094534   \n",
       "CharlsonIndexMin                                0.073204   \n",
       "ClaimCount                                      0.018476   \n",
       "...                                                  ...   \n",
       "SpecialtyCount_Pediatrics                       1.000000   \n",
       "SpecialtyCount_Rehabilitation                   0.037927   \n",
       "SpecialtyCount_Surgery                          0.069272   \n",
       "SpecialtyCount_nan                              0.026235   \n",
       "Vendor                                          0.066183   \n",
       "\n",
       "                               SpecialtyCount_Rehabilitation  \\\n",
       "AgeAtFirstClaim                                     0.043945   \n",
       "CharlsonIndexAvg                                    0.032961   \n",
       "CharlsonIndexMax                                    0.045363   \n",
       "CharlsonIndexMin                                    0.018613   \n",
       "ClaimCount                                          0.250658   \n",
       "...                                                      ...   \n",
       "SpecialtyCount_Pediatrics                           0.037927   \n",
       "SpecialtyCount_Rehabilitation                       1.000000   \n",
       "SpecialtyCount_Surgery                              0.128003   \n",
       "SpecialtyCount_nan                                  0.000147   \n",
       "Vendor                                              0.204689   \n",
       "\n",
       "                               SpecialtyCount_Surgery  SpecialtyCount_nan  \\\n",
       "AgeAtFirstClaim                              0.182302            0.053847   \n",
       "CharlsonIndexAvg                             0.188123            0.046136   \n",
       "CharlsonIndexMax                             0.201291            0.044078   \n",
       "CharlsonIndexMin                             0.062400            0.012741   \n",
       "ClaimCount                                   0.493836            0.136595   \n",
       "...                                               ...                 ...   \n",
       "SpecialtyCount_Pediatrics                    0.069272            0.026235   \n",
       "SpecialtyCount_Rehabilitation                0.128003            0.000147   \n",
       "SpecialtyCount_Surgery                       1.000000            0.063598   \n",
       "SpecialtyCount_nan                           0.063598            1.000000   \n",
       "Vendor                                       0.519293            0.154565   \n",
       "\n",
       "                                 Vendor  \n",
       "AgeAtFirstClaim                0.257952  \n",
       "CharlsonIndexAvg               0.334537  \n",
       "CharlsonIndexMax               0.364215  \n",
       "CharlsonIndexMin               0.103928  \n",
       "ClaimCount                     0.775221  \n",
       "...                                 ...  \n",
       "SpecialtyCount_Pediatrics      0.066183  \n",
       "SpecialtyCount_Rehabilitation  0.204689  \n",
       "SpecialtyCount_Surgery         0.519293  \n",
       "SpecialtyCount_nan             0.154565  \n",
       "Vendor                         1.000000  \n",
       "\n",
       "[122 rows x 122 columns]"
      ],
      "text/html": "<div>\n<style scoped>\n    .dataframe tbody tr th:only-of-type {\n        vertical-align: middle;\n    }\n\n    .dataframe tbody tr th {\n        vertical-align: top;\n    }\n\n    .dataframe thead th {\n        text-align: right;\n    }\n</style>\n<table border=\"1\" class=\"dataframe\">\n  <thead>\n    <tr style=\"text-align: right;\">\n      <th></th>\n      <th>AgeAtFirstClaim</th>\n      <th>CharlsonIndexAvg</th>\n      <th>CharlsonIndexMax</th>\n      <th>CharlsonIndexMin</th>\n      <th>ClaimCount</th>\n      <th>DSFSMax</th>\n      <th>DSFSMin</th>\n      <th>DrugClaimCount</th>\n      <th>DrugCountAvg</th>\n      <th>DrugCountMax</th>\n      <th>...</th>\n      <th>SpecialtyCount_Internal</th>\n      <th>SpecialtyCount_Laboratory</th>\n      <th>SpecialtyCount_Obstetrics and Gynecology</th>\n      <th>SpecialtyCount_Other</th>\n      <th>SpecialtyCount_Pathology</th>\n      <th>SpecialtyCount_Pediatrics</th>\n      <th>SpecialtyCount_Rehabilitation</th>\n      <th>SpecialtyCount_Surgery</th>\n      <th>SpecialtyCount_nan</th>\n      <th>Vendor</th>\n    </tr>\n  </thead>\n  <tbody>\n    <tr>\n      <th>AgeAtFirstClaim</th>\n      <td>1.000000</td>\n      <td>0.318469</td>\n      <td>0.322416</td>\n      <td>0.185983</td>\n      <td>0.318933</td>\n      <td>0.309591</td>\n      <td>0.031037</td>\n      <td>0.428059</td>\n      <td>0.354634</td>\n      <td>0.390911</td>\n      <td>...</td>\n      <td>0.288102</td>\n      <td>0.304139</td>\n      <td>0.055738</td>\n      <td>0.137113</td>\n      <td>0.004704</td>\n      <td>0.330481</td>\n      <td>0.043945</td>\n      <td>0.182302</td>\n      <td>0.053847</td>\n      <td>0.257952</td>\n    </tr>\n    <tr>\n      <th>CharlsonIndexAvg</th>\n      <td>0.318469</td>\n      <td>1.000000</td>\n      <td>0.916764</td>\n      <td>0.715361</td>\n      <td>0.461921</td>\n      <td>0.349424</td>\n      <td>0.068671</td>\n      <td>0.380978</td>\n      <td>0.390423</td>\n      <td>0.417698</td>\n      <td>...</td>\n      <td>0.378260</td>\n      <td>0.344711</td>\n      <td>0.051728</td>\n      <td>0.218768</td>\n      <td>0.057744</td>\n      <td>0.099440</td>\n      <td>0.032961</td>\n      <td>0.188123</td>\n      <td>0.046136</td>\n      <td>0.334537</td>\n    </tr>\n    <tr>\n      <th>CharlsonIndexMax</th>\n      <td>0.322416</td>\n      <td>0.916764</td>\n      <td>1.000000</td>\n      <td>0.555844</td>\n      <td>0.497185</td>\n      <td>0.374594</td>\n      <td>0.061235</td>\n      <td>0.390197</td>\n      <td>0.389618</td>\n      <td>0.421359</td>\n      <td>...</td>\n      <td>0.403368</td>\n      <td>0.365259</td>\n      <td>0.045234</td>\n      <td>0.235393</td>\n      <td>0.068578</td>\n      <td>0.094534</td>\n      <td>0.045363</td>\n      <td>0.201291</td>\n      <td>0.044078</td>\n      <td>0.364215</td>\n    </tr>\n    <tr>\n      <th>CharlsonIndexMin</th>\n      <td>0.185983</td>\n      <td>0.715361</td>\n      <td>0.555844</td>\n      <td>1.000000</td>\n      <td>0.179185</td>\n      <td>0.145568</td>\n      <td>0.077180</td>\n      <td>0.197247</td>\n      <td>0.243166</td>\n      <td>0.239324</td>\n      <td>...</td>\n      <td>0.160182</td>\n      <td>0.160315</td>\n      <td>0.050188</td>\n      <td>0.115068</td>\n      <td>0.001449</td>\n      <td>0.073204</td>\n      <td>0.018613</td>\n      <td>0.062400</td>\n      <td>0.012741</td>\n      <td>0.103928</td>\n    </tr>\n    <tr>\n      <th>ClaimCount</th>\n      <td>0.318933</td>\n      <td>0.461921</td>\n      <td>0.497185</td>\n      <td>0.179185</td>\n      <td>1.000000</td>\n      <td>0.671555</td>\n      <td>0.068696</td>\n      <td>0.538912</td>\n      <td>0.428392</td>\n      <td>0.511226</td>\n      <td>...</td>\n      <td>0.684208</td>\n      <td>0.659215</td>\n      <td>0.112739</td>\n      <td>0.325299</td>\n      <td>0.214807</td>\n      <td>0.018476</td>\n      <td>0.250658</td>\n      <td>0.493836</td>\n      <td>0.136595</td>\n      <td>0.775221</td>\n    </tr>\n    <tr>\n      <th>...</th>\n      <td>...</td>\n      <td>...</td>\n      <td>...</td>\n      <td>...</td>\n      <td>...</td>\n      <td>...</td>\n      <td>...</td>\n      <td>...</td>\n      <td>...</td>\n      <td>...</td>\n      <td>...</td>\n      <td>...</td>\n      <td>...</td>\n      <td>...</td>\n      <td>...</td>\n      <td>...</td>\n      <td>...</td>\n      <td>...</td>\n      <td>...</td>\n      <td>...</td>\n      <td>...</td>\n    </tr>\n    <tr>\n      <th>SpecialtyCount_Pediatrics</th>\n      <td>0.330481</td>\n      <td>0.099440</td>\n      <td>0.094534</td>\n      <td>0.073204</td>\n      <td>0.018476</td>\n      <td>0.023611</td>\n      <td>0.004375</td>\n      <td>0.129759</td>\n      <td>0.108211</td>\n      <td>0.118096</td>\n      <td>...</td>\n      <td>0.115537</td>\n      <td>0.094636</td>\n      <td>0.004171</td>\n      <td>0.049477</td>\n      <td>0.007183</td>\n      <td>1.000000</td>\n      <td>0.037927</td>\n      <td>0.069272</td>\n      <td>0.026235</td>\n      <td>0.066183</td>\n    </tr>\n    <tr>\n      <th>SpecialtyCount_Rehabilitation</th>\n      <td>0.043945</td>\n      <td>0.032961</td>\n      <td>0.045363</td>\n      <td>0.018613</td>\n      <td>0.250658</td>\n      <td>0.141882</td>\n      <td>0.000748</td>\n      <td>0.094462</td>\n      <td>0.069001</td>\n      <td>0.091723</td>\n      <td>...</td>\n      <td>0.079035</td>\n      <td>0.045704</td>\n      <td>0.021867</td>\n      <td>0.014575</td>\n      <td>0.000004</td>\n      <td>0.037927</td>\n      <td>1.000000</td>\n      <td>0.128003</td>\n      <td>0.000147</td>\n      <td>0.204689</td>\n    </tr>\n    <tr>\n      <th>SpecialtyCount_Surgery</th>\n      <td>0.182302</td>\n      <td>0.188123</td>\n      <td>0.201291</td>\n      <td>0.062400</td>\n      <td>0.493836</td>\n      <td>0.320338</td>\n      <td>0.004361</td>\n      <td>0.251640</td>\n      <td>0.192883</td>\n      <td>0.241813</td>\n      <td>...</td>\n      <td>0.276574</td>\n      <td>0.156768</td>\n      <td>0.021049</td>\n      <td>0.111460</td>\n      <td>0.119772</td>\n      <td>0.069272</td>\n      <td>0.128003</td>\n      <td>1.000000</td>\n      <td>0.063598</td>\n      <td>0.519293</td>\n    </tr>\n    <tr>\n      <th>SpecialtyCount_nan</th>\n      <td>0.053847</td>\n      <td>0.046136</td>\n      <td>0.044078</td>\n      <td>0.012741</td>\n      <td>0.136595</td>\n      <td>0.066942</td>\n      <td>0.032544</td>\n      <td>0.035968</td>\n      <td>0.025103</td>\n      <td>0.034501</td>\n      <td>...</td>\n      <td>0.081712</td>\n      <td>0.020700</td>\n      <td>0.100649</td>\n      <td>0.037459</td>\n      <td>0.131162</td>\n      <td>0.026235</td>\n      <td>0.000147</td>\n      <td>0.063598</td>\n      <td>1.000000</td>\n      <td>0.154565</td>\n    </tr>\n    <tr>\n      <th>Vendor</th>\n      <td>0.257952</td>\n      <td>0.334537</td>\n      <td>0.364215</td>\n      <td>0.103928</td>\n      <td>0.775221</td>\n      <td>0.559130</td>\n      <td>0.028320</td>\n      <td>0.418256</td>\n      <td>0.317913</td>\n      <td>0.393993</td>\n      <td>...</td>\n      <td>0.553973</td>\n      <td>0.341141</td>\n      <td>0.190993</td>\n      <td>0.220250</td>\n      <td>0.341162</td>\n      <td>0.066183</td>\n      <td>0.204689</td>\n      <td>0.519293</td>\n      <td>0.154565</td>\n      <td>1.000000</td>\n    </tr>\n  </tbody>\n</table>\n<p>122 rows × 122 columns</p>\n</div>"
     },
     "metadata": {},
     "execution_count": 17
    }
   ],
   "source": [
    "d1 = df_a_train.sample(10000)\n",
    "cor = d1[d1.columns.difference(['DaysInHospital'])].corr().abs()\n",
    "cor"
   ]
  },
  {
   "cell_type": "code",
   "execution_count": 18,
   "metadata": {},
   "outputs": [
    {
     "output_type": "execute_result",
     "data": {
      "text/plain": [
       "[('CharlsonIndexAvg', 'CharlsonIndexMax'),\n",
       " ('ClaimCount', 'LengthOfStayCountNan'),\n",
       " ('ClaimCount', 'PayDelaySum'),\n",
       " ('ClaimCount', 'PlaceSvcCount_Office'),\n",
       " ('ClaimCount', 'ProcedureGroupCount_EM'),\n",
       " ('ClaimCount', 'ProviderID'),\n",
       " ('DrugClaimCount', 'DrugCountMax'),\n",
       " ('DrugClaimCount', 'DrugCountSum'),\n",
       " ('DrugCountAvg', 'DrugCountMax'),\n",
       " ('DrugCountAvg', 'DrugCountMin'),\n",
       " ('DrugCountAvg', 'DrugCountSum'),\n",
       " ('DrugCountMax', 'DrugCountStd'),\n",
       " ('DrugCountMax', 'DrugCountSum'),\n",
       " ('LabClaimCount', 'LabCountSum'),\n",
       " ('LabClaimCount', 'PlaceSvcCount_Independent Lab'),\n",
       " ('LabClaimCount', 'ProcedureGroupCount_PL'),\n",
       " ('LabClaimCount', 'SpecialtyCount_Laboratory'),\n",
       " ('LabCountAvg', 'LabCountMax'),\n",
       " ('LabCountAvg', 'LabCountMin'),\n",
       " ('LabCountMax', 'LabCountSum'),\n",
       " ('LabCountSum', 'ProcedureGroupCount_PL'),\n",
       " ('LengthOfStayAvg', 'LengthOfStayMax'),\n",
       " ('LengthOfStayAvg', 'LengthOfStayMin'),\n",
       " ('LengthOfStayAvg', 'LengthOfStaySum'),\n",
       " ('LengthOfStayCountNan', 'PayDelaySum'),\n",
       " ('LengthOfStayCountNan', 'PlaceSvcCount_Office'),\n",
       " ('LengthOfStayCountNan', 'ProcedureGroupCount_EM'),\n",
       " ('LengthOfStayCountNan', 'ProviderID'),\n",
       " ('LengthOfStayMax', 'LengthOfStayMin'),\n",
       " ('LengthOfStayMax', 'LengthOfStaySum'),\n",
       " ('PayDelayMax', 'PayDelayStd'),\n",
       " ('PayDelaySum', 'PlaceSvcCount_Office'),\n",
       " ('PayDelaySum', 'ProcedureGroupCount_EM'),\n",
       " ('PlaceSvcCount_Independent Lab', 'ProcedureGroupCount_PL'),\n",
       " ('PlaceSvcCount_Independent Lab', 'ProcedureGroupCount_SCS'),\n",
       " ('PlaceSvcCount_Independent Lab', 'SpecialtyCount_Laboratory'),\n",
       " ('PlaceSvcCount_Office', 'ProcedureGroupCount_EM'),\n",
       " ('ProcedureGroupCount_PL', 'SpecialtyCount_Laboratory'),\n",
       " ('ProcedureGroupCount_RAD', 'SpecialtyCount_Diagnostic Imaging'),\n",
       " ('ProcedureGroupCount_SCS', 'SpecialtyCount_Laboratory'),\n",
       " ('ProviderID', 'Vendor')]"
      ]
     },
     "metadata": {},
     "execution_count": 18
    }
   ],
   "source": [
    "high_corr = np.where(cor > 0.8)\n",
    "high_corr = [(cor.columns[x],cor.columns[y]) for x,y in zip(*high_corr) if x!=y and x<y]\n",
    "high_corr"
   ]
  },
  {
   "cell_type": "code",
   "execution_count": 19,
   "metadata": {},
   "outputs": [
    {
     "output_type": "stream",
     "name": "stdout",
     "text": [
      "Row: CharlsonIndexAvg, Col: CharlsonIndexMax, corr=0.9167637966097435\nRow: ClaimCount, Col: LengthOfStayCountNan, corr=0.9975198024553908\nRow: ClaimCount, Col: PayDelaySum, corr=0.8974447464856646\nRow: ClaimCount, Col: PlaceSvcCount_Office, corr=0.8543070814860216\nRow: ClaimCount, Col: ProcedureGroupCount_EM, corr=0.8437357245951923\nRow: ClaimCount, Col: ProviderID, corr=0.8236021181061743\nRow: DrugClaimCount, Col: DrugCountMax, corr=0.8047220951518592\nRow: DrugClaimCount, Col: DrugCountSum, corr=0.8505551858652187\nRow: DrugCountAvg, Col: DrugCountMax, corr=0.9322988210641912\nRow: DrugCountAvg, Col: DrugCountMin, corr=0.847873611207741\nRow: DrugCountAvg, Col: DrugCountSum, corr=0.8460202503746961\nRow: DrugCountMax, Col: DrugCountStd, corr=0.8713281690854981\nRow: DrugCountMax, Col: DrugCountSum, corr=0.8397783274319197\nRow: LabClaimCount, Col: LabCountSum, corr=0.8366223365695087\nRow: LabClaimCount, Col: PlaceSvcCount_Independent Lab, corr=0.8903109661332449\nRow: LabClaimCount, Col: ProcedureGroupCount_PL, corr=0.9308589464003084\nRow: LabClaimCount, Col: SpecialtyCount_Laboratory, corr=0.8884189584371986\nRow: LabCountAvg, Col: LabCountMax, corr=0.9043889356881587\nRow: LabCountAvg, Col: LabCountMin, corr=0.8986373201932776\nRow: LabCountMax, Col: LabCountSum, corr=0.8176915295777257\nRow: LabCountSum, Col: ProcedureGroupCount_PL, corr=0.8084619314208923\nRow: LengthOfStayAvg, Col: LengthOfStayMax, corr=0.9501807918850167\nRow: LengthOfStayAvg, Col: LengthOfStayMin, corr=0.9453996026134586\nRow: LengthOfStayAvg, Col: LengthOfStaySum, corr=0.809329499046711\nRow: LengthOfStayCountNan, Col: PayDelaySum, corr=0.8943761335321625\nRow: LengthOfStayCountNan, Col: PlaceSvcCount_Office, corr=0.863452639750696\nRow: LengthOfStayCountNan, Col: ProcedureGroupCount_EM, corr=0.8441228000753747\nRow: LengthOfStayCountNan, Col: ProviderID, corr=0.8069842479923531\nRow: LengthOfStayMax, Col: LengthOfStayMin, corr=0.8100987456154997\nRow: LengthOfStayMax, Col: LengthOfStaySum, corr=0.8264167083689774\nRow: PayDelayMax, Col: PayDelayStd, corr=0.8285059798888978\nRow: PayDelaySum, Col: PlaceSvcCount_Office, corr=0.8062318314945341\nRow: PayDelaySum, Col: ProcedureGroupCount_EM, corr=0.8087787668145457\nRow: PlaceSvcCount_Independent Lab, Col: ProcedureGroupCount_PL, corr=0.9147022601595824\nRow: PlaceSvcCount_Independent Lab, Col: ProcedureGroupCount_SCS, corr=0.9173358118569516\nRow: PlaceSvcCount_Independent Lab, Col: SpecialtyCount_Laboratory, corr=0.9982749612397054\nRow: PlaceSvcCount_Office, Col: ProcedureGroupCount_EM, corr=0.8418204389224078\nRow: ProcedureGroupCount_PL, Col: SpecialtyCount_Laboratory, corr=0.9125777907538456\nRow: ProcedureGroupCount_RAD, Col: SpecialtyCount_Diagnostic Imaging, corr=0.8665358629113561\nRow: ProcedureGroupCount_SCS, Col: SpecialtyCount_Laboratory, corr=0.9171747795288573\nRow: ProviderID, Col: Vendor, corr=0.9410861534688039\n"
     ]
    }
   ],
   "source": [
    "for row, col in high_corr:\n",
    "    print(\"Row: %s, Col: %s, corr=%s\" % (row, col, cor[row][col]))"
   ]
  },
  {
   "cell_type": "code",
   "execution_count": 20,
   "metadata": {},
   "outputs": [],
   "source": [
    "remove_col = [\"CharlsonIndexAvg\", \"LengthOfStayCountNan\", \"PayDelaySum\", \"ProviderID\", \"Vendor\", \"DrugCountMax\", \"DrugCountSum\", \"DrugCountMin\", \"DrugCountStd\", \"LabCountSum\", \"LabCountMax\", \"LabCountMin\", \"LengthOfStayMax\", \"LengthOfStayMin\", \"PlaceSvcCount_Independent Lab\", \"PlaceSvcCount_Office\" ]"
   ]
  },
  {
   "cell_type": "code",
   "execution_count": 22,
   "metadata": {},
   "outputs": [
    {
     "output_type": "error",
     "ename": "KeyError",
     "evalue": "\"['CharlsonIndexAvg' 'LengthOfStayCountNan' 'PayDelaySum' 'ProviderID'\\n 'Vendor' 'DrugCountMax' 'DrugCountSum' 'DrugCountMin' 'DrugCountStd'\\n 'LabCountSum' 'LabCountMax' 'LabCountMin' 'LengthOfStayMax'\\n 'LengthOfStayMin' 'PlaceSvcCount_Independent Lab' 'PlaceSvcCount_Office'] not found in axis\"",
     "traceback": [
      "\u001b[0;31m---------------------------------------------------------------------------\u001b[0m",
      "\u001b[0;31mKeyError\u001b[0m                                  Traceback (most recent call last)",
      "\u001b[0;32m<ipython-input-22-be4bbbc4bda7>\u001b[0m in \u001b[0;36m<module>\u001b[0;34m\u001b[0m\n\u001b[0;32m----> 1\u001b[0;31m \u001b[0mdf_a_train\u001b[0m\u001b[0;34m.\u001b[0m\u001b[0mdrop\u001b[0m\u001b[0;34m(\u001b[0m\u001b[0mcolumns\u001b[0m\u001b[0;34m=\u001b[0m\u001b[0mremove_col\u001b[0m\u001b[0;34m,\u001b[0m \u001b[0minplace\u001b[0m\u001b[0;34m=\u001b[0m\u001b[0;32mTrue\u001b[0m\u001b[0;34m)\u001b[0m\u001b[0;34m\u001b[0m\u001b[0;34m\u001b[0m\u001b[0m\n\u001b[0m",
      "\u001b[0;32m/usr/local/anaconda3/envs/tuan/lib/python3.7/site-packages/pandas/core/frame.py\u001b[0m in \u001b[0;36mdrop\u001b[0;34m(self, labels, axis, index, columns, level, inplace, errors)\u001b[0m\n\u001b[1;32m   3995\u001b[0m             \u001b[0mlevel\u001b[0m\u001b[0;34m=\u001b[0m\u001b[0mlevel\u001b[0m\u001b[0;34m,\u001b[0m\u001b[0;34m\u001b[0m\u001b[0;34m\u001b[0m\u001b[0m\n\u001b[1;32m   3996\u001b[0m             \u001b[0minplace\u001b[0m\u001b[0;34m=\u001b[0m\u001b[0minplace\u001b[0m\u001b[0;34m,\u001b[0m\u001b[0;34m\u001b[0m\u001b[0;34m\u001b[0m\u001b[0m\n\u001b[0;32m-> 3997\u001b[0;31m             \u001b[0merrors\u001b[0m\u001b[0;34m=\u001b[0m\u001b[0merrors\u001b[0m\u001b[0;34m,\u001b[0m\u001b[0;34m\u001b[0m\u001b[0;34m\u001b[0m\u001b[0m\n\u001b[0m\u001b[1;32m   3998\u001b[0m         )\n\u001b[1;32m   3999\u001b[0m \u001b[0;34m\u001b[0m\u001b[0m\n",
      "\u001b[0;32m/usr/local/anaconda3/envs/tuan/lib/python3.7/site-packages/pandas/core/generic.py\u001b[0m in \u001b[0;36mdrop\u001b[0;34m(self, labels, axis, index, columns, level, inplace, errors)\u001b[0m\n\u001b[1;32m   3934\u001b[0m         \u001b[0;32mfor\u001b[0m \u001b[0maxis\u001b[0m\u001b[0;34m,\u001b[0m \u001b[0mlabels\u001b[0m \u001b[0;32min\u001b[0m \u001b[0maxes\u001b[0m\u001b[0;34m.\u001b[0m\u001b[0mitems\u001b[0m\u001b[0;34m(\u001b[0m\u001b[0;34m)\u001b[0m\u001b[0;34m:\u001b[0m\u001b[0;34m\u001b[0m\u001b[0;34m\u001b[0m\u001b[0m\n\u001b[1;32m   3935\u001b[0m             \u001b[0;32mif\u001b[0m \u001b[0mlabels\u001b[0m \u001b[0;32mis\u001b[0m \u001b[0;32mnot\u001b[0m \u001b[0;32mNone\u001b[0m\u001b[0;34m:\u001b[0m\u001b[0;34m\u001b[0m\u001b[0;34m\u001b[0m\u001b[0m\n\u001b[0;32m-> 3936\u001b[0;31m                 \u001b[0mobj\u001b[0m \u001b[0;34m=\u001b[0m \u001b[0mobj\u001b[0m\u001b[0;34m.\u001b[0m\u001b[0m_drop_axis\u001b[0m\u001b[0;34m(\u001b[0m\u001b[0mlabels\u001b[0m\u001b[0;34m,\u001b[0m \u001b[0maxis\u001b[0m\u001b[0;34m,\u001b[0m \u001b[0mlevel\u001b[0m\u001b[0;34m=\u001b[0m\u001b[0mlevel\u001b[0m\u001b[0;34m,\u001b[0m \u001b[0merrors\u001b[0m\u001b[0;34m=\u001b[0m\u001b[0merrors\u001b[0m\u001b[0;34m)\u001b[0m\u001b[0;34m\u001b[0m\u001b[0;34m\u001b[0m\u001b[0m\n\u001b[0m\u001b[1;32m   3937\u001b[0m \u001b[0;34m\u001b[0m\u001b[0m\n\u001b[1;32m   3938\u001b[0m         \u001b[0;32mif\u001b[0m \u001b[0minplace\u001b[0m\u001b[0;34m:\u001b[0m\u001b[0;34m\u001b[0m\u001b[0;34m\u001b[0m\u001b[0m\n",
      "\u001b[0;32m/usr/local/anaconda3/envs/tuan/lib/python3.7/site-packages/pandas/core/generic.py\u001b[0m in \u001b[0;36m_drop_axis\u001b[0;34m(self, labels, axis, level, errors)\u001b[0m\n\u001b[1;32m   3968\u001b[0m                 \u001b[0mnew_axis\u001b[0m \u001b[0;34m=\u001b[0m \u001b[0maxis\u001b[0m\u001b[0;34m.\u001b[0m\u001b[0mdrop\u001b[0m\u001b[0;34m(\u001b[0m\u001b[0mlabels\u001b[0m\u001b[0;34m,\u001b[0m \u001b[0mlevel\u001b[0m\u001b[0;34m=\u001b[0m\u001b[0mlevel\u001b[0m\u001b[0;34m,\u001b[0m \u001b[0merrors\u001b[0m\u001b[0;34m=\u001b[0m\u001b[0merrors\u001b[0m\u001b[0;34m)\u001b[0m\u001b[0;34m\u001b[0m\u001b[0;34m\u001b[0m\u001b[0m\n\u001b[1;32m   3969\u001b[0m             \u001b[0;32melse\u001b[0m\u001b[0;34m:\u001b[0m\u001b[0;34m\u001b[0m\u001b[0;34m\u001b[0m\u001b[0m\n\u001b[0;32m-> 3970\u001b[0;31m                 \u001b[0mnew_axis\u001b[0m \u001b[0;34m=\u001b[0m \u001b[0maxis\u001b[0m\u001b[0;34m.\u001b[0m\u001b[0mdrop\u001b[0m\u001b[0;34m(\u001b[0m\u001b[0mlabels\u001b[0m\u001b[0;34m,\u001b[0m \u001b[0merrors\u001b[0m\u001b[0;34m=\u001b[0m\u001b[0merrors\u001b[0m\u001b[0;34m)\u001b[0m\u001b[0;34m\u001b[0m\u001b[0;34m\u001b[0m\u001b[0m\n\u001b[0m\u001b[1;32m   3971\u001b[0m             \u001b[0mresult\u001b[0m \u001b[0;34m=\u001b[0m \u001b[0mself\u001b[0m\u001b[0;34m.\u001b[0m\u001b[0mreindex\u001b[0m\u001b[0;34m(\u001b[0m\u001b[0;34m**\u001b[0m\u001b[0;34m{\u001b[0m\u001b[0maxis_name\u001b[0m\u001b[0;34m:\u001b[0m \u001b[0mnew_axis\u001b[0m\u001b[0;34m}\u001b[0m\u001b[0;34m)\u001b[0m\u001b[0;34m\u001b[0m\u001b[0;34m\u001b[0m\u001b[0m\n\u001b[1;32m   3972\u001b[0m \u001b[0;34m\u001b[0m\u001b[0m\n",
      "\u001b[0;32m/usr/local/anaconda3/envs/tuan/lib/python3.7/site-packages/pandas/core/indexes/base.py\u001b[0m in \u001b[0;36mdrop\u001b[0;34m(self, labels, errors)\u001b[0m\n\u001b[1;32m   5016\u001b[0m         \u001b[0;32mif\u001b[0m \u001b[0mmask\u001b[0m\u001b[0;34m.\u001b[0m\u001b[0many\u001b[0m\u001b[0;34m(\u001b[0m\u001b[0;34m)\u001b[0m\u001b[0;34m:\u001b[0m\u001b[0;34m\u001b[0m\u001b[0;34m\u001b[0m\u001b[0m\n\u001b[1;32m   5017\u001b[0m             \u001b[0;32mif\u001b[0m \u001b[0merrors\u001b[0m \u001b[0;34m!=\u001b[0m \u001b[0;34m\"ignore\"\u001b[0m\u001b[0;34m:\u001b[0m\u001b[0;34m\u001b[0m\u001b[0;34m\u001b[0m\u001b[0m\n\u001b[0;32m-> 5018\u001b[0;31m                 \u001b[0;32mraise\u001b[0m \u001b[0mKeyError\u001b[0m\u001b[0;34m(\u001b[0m\u001b[0;34mf\"{labels[mask]} not found in axis\"\u001b[0m\u001b[0;34m)\u001b[0m\u001b[0;34m\u001b[0m\u001b[0;34m\u001b[0m\u001b[0m\n\u001b[0m\u001b[1;32m   5019\u001b[0m             \u001b[0mindexer\u001b[0m \u001b[0;34m=\u001b[0m \u001b[0mindexer\u001b[0m\u001b[0;34m[\u001b[0m\u001b[0;34m~\u001b[0m\u001b[0mmask\u001b[0m\u001b[0;34m]\u001b[0m\u001b[0;34m\u001b[0m\u001b[0;34m\u001b[0m\u001b[0m\n\u001b[1;32m   5020\u001b[0m         \u001b[0;32mreturn\u001b[0m \u001b[0mself\u001b[0m\u001b[0;34m.\u001b[0m\u001b[0mdelete\u001b[0m\u001b[0;34m(\u001b[0m\u001b[0mindexer\u001b[0m\u001b[0;34m)\u001b[0m\u001b[0;34m\u001b[0m\u001b[0;34m\u001b[0m\u001b[0m\n",
      "\u001b[0;31mKeyError\u001b[0m: \"['CharlsonIndexAvg' 'LengthOfStayCountNan' 'PayDelaySum' 'ProviderID'\\n 'Vendor' 'DrugCountMax' 'DrugCountSum' 'DrugCountMin' 'DrugCountStd'\\n 'LabCountSum' 'LabCountMax' 'LabCountMin' 'LengthOfStayMax'\\n 'LengthOfStayMin' 'PlaceSvcCount_Independent Lab' 'PlaceSvcCount_Office'] not found in axis\""
     ]
    }
   ],
   "source": [
    "df_a_train.drop(columns=remove_col, inplace=True)"
   ]
  },
  {
   "cell_type": "code",
   "execution_count": 23,
   "metadata": {},
   "outputs": [],
   "source": [
    "X_train = df_a_train[df_a_train.columns.difference([\"DaysInHospital\"])]\n",
    "y_train = df_a_train[[\"DaysInHospital\"]]"
   ]
  },
  {
   "cell_type": "code",
   "execution_count": 24,
   "metadata": {},
   "outputs": [],
   "source": [
    "scaler = MinMaxScaler()\n",
    "scaler = scaler.fit(X_train)"
   ]
  },
  {
   "cell_type": "code",
   "execution_count": 25,
   "metadata": {},
   "outputs": [
    {
     "output_type": "execute_result",
     "data": {
      "text/plain": [
       "          AgeAtFirstClaim  CharlsonIndexMax  CharlsonIndexMin  ClaimCount  \\\n",
       "MemberID                                                                    \n",
       "210                    35               0.0               0.0         8.0   \n",
       "3197                    5               0.0               0.0         5.0   \n",
       "3889                   -1               2.0               0.0        13.0   \n",
       "4187                   55               0.0               0.0         4.0   \n",
       "9063                   65               0.0               0.0         4.0   \n",
       "...                   ...               ...               ...         ...   \n",
       "99995554               45               0.0               0.0        35.0   \n",
       "99996214               45               0.0               0.0         1.0   \n",
       "99997485               15               0.0               0.0         1.0   \n",
       "99997895               45               0.0               0.0        14.0   \n",
       "99998627               35               2.0               0.0        10.0   \n",
       "\n",
       "          DSFSMax  DSFSMin  DrugClaimCount  DrugCountAvg  LabClaimCount  \\\n",
       "MemberID                                                                  \n",
       "210          10.0      1.0             3.0      1.666667            1.0   \n",
       "3197         12.0      1.0             4.0      1.250000            0.0   \n",
       "3889          2.0      1.0            10.0      3.000000            1.0   \n",
       "4187          9.0      1.0            10.0      6.100000            0.0   \n",
       "9063          2.0      1.0             2.0      1.000000            0.0   \n",
       "...           ...      ...             ...           ...            ...   \n",
       "99995554     10.0      1.0             4.0      2.000000            3.0   \n",
       "99996214      1.0      1.0             0.0      0.000000            0.0   \n",
       "99997485      1.0      1.0             0.0      0.000000            0.0   \n",
       "99997895     10.0      1.0             0.0      0.000000            2.0   \n",
       "99998627      1.0      1.0             1.0      1.000000            1.0   \n",
       "\n",
       "          LabCountAvg  ...  SpecialtyCount_General Practice  \\\n",
       "MemberID               ...                                    \n",
       "210          2.000000  ...                              0.0   \n",
       "3197         0.000000  ...                              0.0   \n",
       "3889        10.000000  ...                              0.0   \n",
       "4187         0.000000  ...                              0.0   \n",
       "9063         0.000000  ...                              0.0   \n",
       "...               ...  ...                              ...   \n",
       "99995554     3.666667  ...                              2.0   \n",
       "99996214     0.000000  ...                              1.0   \n",
       "99997485     0.000000  ...                              1.0   \n",
       "99997895     5.000000  ...                              0.0   \n",
       "99998627     5.000000  ...                              0.0   \n",
       "\n",
       "          SpecialtyCount_Internal  SpecialtyCount_Laboratory  \\\n",
       "MemberID                                                       \n",
       "210                           4.0                        2.0   \n",
       "3197                          0.0                        0.0   \n",
       "3889                          4.0                        4.0   \n",
       "4187                          2.0                        0.0   \n",
       "9063                          3.0                        0.0   \n",
       "...                           ...                        ...   \n",
       "99995554                     26.0                        7.0   \n",
       "99996214                      0.0                        0.0   \n",
       "99997485                      0.0                        0.0   \n",
       "99997895                      4.0                        7.0   \n",
       "99998627                      4.0                        2.0   \n",
       "\n",
       "          SpecialtyCount_Obstetrics and Gynecology  SpecialtyCount_Other  \\\n",
       "MemberID                                                                   \n",
       "210                                            0.0                   0.0   \n",
       "3197                                           0.0                   0.0   \n",
       "3889                                           0.0                   0.0   \n",
       "4187                                           0.0                   1.0   \n",
       "9063                                           0.0                   0.0   \n",
       "...                                            ...                   ...   \n",
       "99995554                                       0.0                   0.0   \n",
       "99996214                                       0.0                   0.0   \n",
       "99997485                                       0.0                   0.0   \n",
       "99997895                                       0.0                   0.0   \n",
       "99998627                                       0.0                   2.0   \n",
       "\n",
       "          SpecialtyCount_Pathology  SpecialtyCount_Pediatrics  \\\n",
       "MemberID                                                        \n",
       "210                            0.0                        0.0   \n",
       "3197                           0.0                        3.0   \n",
       "3889                           0.0                        0.0   \n",
       "4187                           0.0                        0.0   \n",
       "9063                           0.0                        0.0   \n",
       "...                            ...                        ...   \n",
       "99995554                       0.0                        0.0   \n",
       "99996214                       0.0                        0.0   \n",
       "99997485                       0.0                        0.0   \n",
       "99997895                       0.0                        0.0   \n",
       "99998627                       0.0                        0.0   \n",
       "\n",
       "          SpecialtyCount_Rehabilitation  SpecialtyCount_Surgery  \\\n",
       "MemberID                                                          \n",
       "210                                 0.0                     0.0   \n",
       "3197                                0.0                     0.0   \n",
       "3889                                0.0                     0.0   \n",
       "4187                                0.0                     0.0   \n",
       "9063                                0.0                     0.0   \n",
       "...                                 ...                     ...   \n",
       "99995554                            0.0                     0.0   \n",
       "99996214                            0.0                     0.0   \n",
       "99997485                            0.0                     0.0   \n",
       "99997895                            0.0                     2.0   \n",
       "99998627                            0.0                     0.0   \n",
       "\n",
       "          SpecialtyCount_nan  \n",
       "MemberID                      \n",
       "210                      0.0  \n",
       "3197                     0.0  \n",
       "3889                     0.0  \n",
       "4187                     0.0  \n",
       "9063                     0.0  \n",
       "...                      ...  \n",
       "99995554                 0.0  \n",
       "99996214                 0.0  \n",
       "99997485                 0.0  \n",
       "99997895                 0.0  \n",
       "99998627                 0.0  \n",
       "\n",
       "[76038 rows x 106 columns]"
      ],
      "text/html": "<div>\n<style scoped>\n    .dataframe tbody tr th:only-of-type {\n        vertical-align: middle;\n    }\n\n    .dataframe tbody tr th {\n        vertical-align: top;\n    }\n\n    .dataframe thead th {\n        text-align: right;\n    }\n</style>\n<table border=\"1\" class=\"dataframe\">\n  <thead>\n    <tr style=\"text-align: right;\">\n      <th></th>\n      <th>AgeAtFirstClaim</th>\n      <th>CharlsonIndexMax</th>\n      <th>CharlsonIndexMin</th>\n      <th>ClaimCount</th>\n      <th>DSFSMax</th>\n      <th>DSFSMin</th>\n      <th>DrugClaimCount</th>\n      <th>DrugCountAvg</th>\n      <th>LabClaimCount</th>\n      <th>LabCountAvg</th>\n      <th>...</th>\n      <th>SpecialtyCount_General Practice</th>\n      <th>SpecialtyCount_Internal</th>\n      <th>SpecialtyCount_Laboratory</th>\n      <th>SpecialtyCount_Obstetrics and Gynecology</th>\n      <th>SpecialtyCount_Other</th>\n      <th>SpecialtyCount_Pathology</th>\n      <th>SpecialtyCount_Pediatrics</th>\n      <th>SpecialtyCount_Rehabilitation</th>\n      <th>SpecialtyCount_Surgery</th>\n      <th>SpecialtyCount_nan</th>\n    </tr>\n    <tr>\n      <th>MemberID</th>\n      <th></th>\n      <th></th>\n      <th></th>\n      <th></th>\n      <th></th>\n      <th></th>\n      <th></th>\n      <th></th>\n      <th></th>\n      <th></th>\n      <th></th>\n      <th></th>\n      <th></th>\n      <th></th>\n      <th></th>\n      <th></th>\n      <th></th>\n      <th></th>\n      <th></th>\n      <th></th>\n      <th></th>\n    </tr>\n  </thead>\n  <tbody>\n    <tr>\n      <th>210</th>\n      <td>35</td>\n      <td>0.0</td>\n      <td>0.0</td>\n      <td>8.0</td>\n      <td>10.0</td>\n      <td>1.0</td>\n      <td>3.0</td>\n      <td>1.666667</td>\n      <td>1.0</td>\n      <td>2.000000</td>\n      <td>...</td>\n      <td>0.0</td>\n      <td>4.0</td>\n      <td>2.0</td>\n      <td>0.0</td>\n      <td>0.0</td>\n      <td>0.0</td>\n      <td>0.0</td>\n      <td>0.0</td>\n      <td>0.0</td>\n      <td>0.0</td>\n    </tr>\n    <tr>\n      <th>3197</th>\n      <td>5</td>\n      <td>0.0</td>\n      <td>0.0</td>\n      <td>5.0</td>\n      <td>12.0</td>\n      <td>1.0</td>\n      <td>4.0</td>\n      <td>1.250000</td>\n      <td>0.0</td>\n      <td>0.000000</td>\n      <td>...</td>\n      <td>0.0</td>\n      <td>0.0</td>\n      <td>0.0</td>\n      <td>0.0</td>\n      <td>0.0</td>\n      <td>0.0</td>\n      <td>3.0</td>\n      <td>0.0</td>\n      <td>0.0</td>\n      <td>0.0</td>\n    </tr>\n    <tr>\n      <th>3889</th>\n      <td>-1</td>\n      <td>2.0</td>\n      <td>0.0</td>\n      <td>13.0</td>\n      <td>2.0</td>\n      <td>1.0</td>\n      <td>10.0</td>\n      <td>3.000000</td>\n      <td>1.0</td>\n      <td>10.000000</td>\n      <td>...</td>\n      <td>0.0</td>\n      <td>4.0</td>\n      <td>4.0</td>\n      <td>0.0</td>\n      <td>0.0</td>\n      <td>0.0</td>\n      <td>0.0</td>\n      <td>0.0</td>\n      <td>0.0</td>\n      <td>0.0</td>\n    </tr>\n    <tr>\n      <th>4187</th>\n      <td>55</td>\n      <td>0.0</td>\n      <td>0.0</td>\n      <td>4.0</td>\n      <td>9.0</td>\n      <td>1.0</td>\n      <td>10.0</td>\n      <td>6.100000</td>\n      <td>0.0</td>\n      <td>0.000000</td>\n      <td>...</td>\n      <td>0.0</td>\n      <td>2.0</td>\n      <td>0.0</td>\n      <td>0.0</td>\n      <td>1.0</td>\n      <td>0.0</td>\n      <td>0.0</td>\n      <td>0.0</td>\n      <td>0.0</td>\n      <td>0.0</td>\n    </tr>\n    <tr>\n      <th>9063</th>\n      <td>65</td>\n      <td>0.0</td>\n      <td>0.0</td>\n      <td>4.0</td>\n      <td>2.0</td>\n      <td>1.0</td>\n      <td>2.0</td>\n      <td>1.000000</td>\n      <td>0.0</td>\n      <td>0.000000</td>\n      <td>...</td>\n      <td>0.0</td>\n      <td>3.0</td>\n      <td>0.0</td>\n      <td>0.0</td>\n      <td>0.0</td>\n      <td>0.0</td>\n      <td>0.0</td>\n      <td>0.0</td>\n      <td>0.0</td>\n      <td>0.0</td>\n    </tr>\n    <tr>\n      <th>...</th>\n      <td>...</td>\n      <td>...</td>\n      <td>...</td>\n      <td>...</td>\n      <td>...</td>\n      <td>...</td>\n      <td>...</td>\n      <td>...</td>\n      <td>...</td>\n      <td>...</td>\n      <td>...</td>\n      <td>...</td>\n      <td>...</td>\n      <td>...</td>\n      <td>...</td>\n      <td>...</td>\n      <td>...</td>\n      <td>...</td>\n      <td>...</td>\n      <td>...</td>\n      <td>...</td>\n    </tr>\n    <tr>\n      <th>99995554</th>\n      <td>45</td>\n      <td>0.0</td>\n      <td>0.0</td>\n      <td>35.0</td>\n      <td>10.0</td>\n      <td>1.0</td>\n      <td>4.0</td>\n      <td>2.000000</td>\n      <td>3.0</td>\n      <td>3.666667</td>\n      <td>...</td>\n      <td>2.0</td>\n      <td>26.0</td>\n      <td>7.0</td>\n      <td>0.0</td>\n      <td>0.0</td>\n      <td>0.0</td>\n      <td>0.0</td>\n      <td>0.0</td>\n      <td>0.0</td>\n      <td>0.0</td>\n    </tr>\n    <tr>\n      <th>99996214</th>\n      <td>45</td>\n      <td>0.0</td>\n      <td>0.0</td>\n      <td>1.0</td>\n      <td>1.0</td>\n      <td>1.0</td>\n      <td>0.0</td>\n      <td>0.000000</td>\n      <td>0.0</td>\n      <td>0.000000</td>\n      <td>...</td>\n      <td>1.0</td>\n      <td>0.0</td>\n      <td>0.0</td>\n      <td>0.0</td>\n      <td>0.0</td>\n      <td>0.0</td>\n      <td>0.0</td>\n      <td>0.0</td>\n      <td>0.0</td>\n      <td>0.0</td>\n    </tr>\n    <tr>\n      <th>99997485</th>\n      <td>15</td>\n      <td>0.0</td>\n      <td>0.0</td>\n      <td>1.0</td>\n      <td>1.0</td>\n      <td>1.0</td>\n      <td>0.0</td>\n      <td>0.000000</td>\n      <td>0.0</td>\n      <td>0.000000</td>\n      <td>...</td>\n      <td>1.0</td>\n      <td>0.0</td>\n      <td>0.0</td>\n      <td>0.0</td>\n      <td>0.0</td>\n      <td>0.0</td>\n      <td>0.0</td>\n      <td>0.0</td>\n      <td>0.0</td>\n      <td>0.0</td>\n    </tr>\n    <tr>\n      <th>99997895</th>\n      <td>45</td>\n      <td>0.0</td>\n      <td>0.0</td>\n      <td>14.0</td>\n      <td>10.0</td>\n      <td>1.0</td>\n      <td>0.0</td>\n      <td>0.000000</td>\n      <td>2.0</td>\n      <td>5.000000</td>\n      <td>...</td>\n      <td>0.0</td>\n      <td>4.0</td>\n      <td>7.0</td>\n      <td>0.0</td>\n      <td>0.0</td>\n      <td>0.0</td>\n      <td>0.0</td>\n      <td>0.0</td>\n      <td>2.0</td>\n      <td>0.0</td>\n    </tr>\n    <tr>\n      <th>99998627</th>\n      <td>35</td>\n      <td>2.0</td>\n      <td>0.0</td>\n      <td>10.0</td>\n      <td>1.0</td>\n      <td>1.0</td>\n      <td>1.0</td>\n      <td>1.000000</td>\n      <td>1.0</td>\n      <td>5.000000</td>\n      <td>...</td>\n      <td>0.0</td>\n      <td>4.0</td>\n      <td>2.0</td>\n      <td>0.0</td>\n      <td>2.0</td>\n      <td>0.0</td>\n      <td>0.0</td>\n      <td>0.0</td>\n      <td>0.0</td>\n      <td>0.0</td>\n    </tr>\n  </tbody>\n</table>\n<p>76038 rows × 106 columns</p>\n</div>"
     },
     "metadata": {},
     "execution_count": 25
    }
   ],
   "source": [
    "X_train"
   ]
  },
  {
   "cell_type": "code",
   "execution_count": 26,
   "metadata": {},
   "outputs": [],
   "source": [
    "X_train = pd.DataFrame(scaler.transform(X_train), columns=X_train.columns, index=X_train.index)"
   ]
  },
  {
   "cell_type": "code",
   "execution_count": 27,
   "metadata": {},
   "outputs": [
    {
     "output_type": "execute_result",
     "data": {
      "text/plain": [
       "          AgeAtFirstClaim  CharlsonIndexMax  CharlsonIndexMin  ClaimCount  \\\n",
       "MemberID                                                                    \n",
       "210              0.418605          0.000000               0.0    0.166667   \n",
       "3197             0.069767          0.000000               0.0    0.095238   \n",
       "3889             0.000000          0.333333               0.0    0.285714   \n",
       "4187             0.651163          0.000000               0.0    0.071429   \n",
       "9063             0.767442          0.000000               0.0    0.071429   \n",
       "...                   ...               ...               ...         ...   \n",
       "99995554         0.534884          0.000000               0.0    0.809524   \n",
       "99996214         0.534884          0.000000               0.0    0.000000   \n",
       "99997485         0.186047          0.000000               0.0    0.000000   \n",
       "99997895         0.534884          0.000000               0.0    0.309524   \n",
       "99998627         0.418605          0.333333               0.0    0.214286   \n",
       "\n",
       "           DSFSMax   DSFSMin  DrugClaimCount  DrugCountAvg  LabClaimCount  \\\n",
       "MemberID                                                                    \n",
       "210       0.833333  0.111111        0.250000      0.238095       0.083333   \n",
       "3197      1.000000  0.111111        0.333333      0.178571       0.000000   \n",
       "3889      0.166667  0.111111        0.833333      0.428571       0.083333   \n",
       "4187      0.750000  0.111111        0.833333      0.871429       0.000000   \n",
       "9063      0.166667  0.111111        0.166667      0.142857       0.000000   \n",
       "...            ...       ...             ...           ...            ...   \n",
       "99995554  0.833333  0.111111        0.333333      0.285714       0.250000   \n",
       "99996214  0.083333  0.111111        0.000000      0.000000       0.000000   \n",
       "99997485  0.083333  0.111111        0.000000      0.000000       0.000000   \n",
       "99997895  0.833333  0.111111        0.000000      0.000000       0.166667   \n",
       "99998627  0.083333  0.111111        0.083333      0.142857       0.083333   \n",
       "\n",
       "          LabCountAvg  ...  SpecialtyCount_General Practice  \\\n",
       "MemberID               ...                                    \n",
       "210          0.200000  ...                         0.000000   \n",
       "3197         0.000000  ...                         0.000000   \n",
       "3889         1.000000  ...                         0.000000   \n",
       "4187         0.000000  ...                         0.000000   \n",
       "9063         0.000000  ...                         0.000000   \n",
       "...               ...  ...                              ...   \n",
       "99995554     0.366667  ...                         0.051282   \n",
       "99996214     0.000000  ...                         0.025641   \n",
       "99997485     0.000000  ...                         0.025641   \n",
       "99997895     0.500000  ...                         0.000000   \n",
       "99998627     0.500000  ...                         0.000000   \n",
       "\n",
       "          SpecialtyCount_Internal  SpecialtyCount_Laboratory  \\\n",
       "MemberID                                                       \n",
       "210                      0.102564                   0.046512   \n",
       "3197                     0.000000                   0.000000   \n",
       "3889                     0.102564                   0.093023   \n",
       "4187                     0.051282                   0.000000   \n",
       "9063                     0.076923                   0.000000   \n",
       "...                           ...                        ...   \n",
       "99995554                 0.666667                   0.162791   \n",
       "99996214                 0.000000                   0.000000   \n",
       "99997485                 0.000000                   0.000000   \n",
       "99997895                 0.102564                   0.162791   \n",
       "99998627                 0.102564                   0.046512   \n",
       "\n",
       "          SpecialtyCount_Obstetrics and Gynecology  SpecialtyCount_Other  \\\n",
       "MemberID                                                                   \n",
       "210                                            0.0              0.000000   \n",
       "3197                                           0.0              0.000000   \n",
       "3889                                           0.0              0.000000   \n",
       "4187                                           0.0              0.028571   \n",
       "9063                                           0.0              0.000000   \n",
       "...                                            ...                   ...   \n",
       "99995554                                       0.0              0.000000   \n",
       "99996214                                       0.0              0.000000   \n",
       "99997485                                       0.0              0.000000   \n",
       "99997895                                       0.0              0.000000   \n",
       "99998627                                       0.0              0.057143   \n",
       "\n",
       "          SpecialtyCount_Pathology  SpecialtyCount_Pediatrics  \\\n",
       "MemberID                                                        \n",
       "210                            0.0                   0.000000   \n",
       "3197                           0.0                   0.078947   \n",
       "3889                           0.0                   0.000000   \n",
       "4187                           0.0                   0.000000   \n",
       "9063                           0.0                   0.000000   \n",
       "...                            ...                        ...   \n",
       "99995554                       0.0                   0.000000   \n",
       "99996214                       0.0                   0.000000   \n",
       "99997485                       0.0                   0.000000   \n",
       "99997895                       0.0                   0.000000   \n",
       "99998627                       0.0                   0.000000   \n",
       "\n",
       "          SpecialtyCount_Rehabilitation  SpecialtyCount_Surgery  \\\n",
       "MemberID                                                          \n",
       "210                                 0.0                0.000000   \n",
       "3197                                0.0                0.000000   \n",
       "3889                                0.0                0.000000   \n",
       "4187                                0.0                0.000000   \n",
       "9063                                0.0                0.000000   \n",
       "...                                 ...                     ...   \n",
       "99995554                            0.0                0.000000   \n",
       "99996214                            0.0                0.000000   \n",
       "99997485                            0.0                0.000000   \n",
       "99997895                            0.0                0.060606   \n",
       "99998627                            0.0                0.000000   \n",
       "\n",
       "          SpecialtyCount_nan  \n",
       "MemberID                      \n",
       "210                      0.0  \n",
       "3197                     0.0  \n",
       "3889                     0.0  \n",
       "4187                     0.0  \n",
       "9063                     0.0  \n",
       "...                      ...  \n",
       "99995554                 0.0  \n",
       "99996214                 0.0  \n",
       "99997485                 0.0  \n",
       "99997895                 0.0  \n",
       "99998627                 0.0  \n",
       "\n",
       "[76038 rows x 106 columns]"
      ],
      "text/html": "<div>\n<style scoped>\n    .dataframe tbody tr th:only-of-type {\n        vertical-align: middle;\n    }\n\n    .dataframe tbody tr th {\n        vertical-align: top;\n    }\n\n    .dataframe thead th {\n        text-align: right;\n    }\n</style>\n<table border=\"1\" class=\"dataframe\">\n  <thead>\n    <tr style=\"text-align: right;\">\n      <th></th>\n      <th>AgeAtFirstClaim</th>\n      <th>CharlsonIndexMax</th>\n      <th>CharlsonIndexMin</th>\n      <th>ClaimCount</th>\n      <th>DSFSMax</th>\n      <th>DSFSMin</th>\n      <th>DrugClaimCount</th>\n      <th>DrugCountAvg</th>\n      <th>LabClaimCount</th>\n      <th>LabCountAvg</th>\n      <th>...</th>\n      <th>SpecialtyCount_General Practice</th>\n      <th>SpecialtyCount_Internal</th>\n      <th>SpecialtyCount_Laboratory</th>\n      <th>SpecialtyCount_Obstetrics and Gynecology</th>\n      <th>SpecialtyCount_Other</th>\n      <th>SpecialtyCount_Pathology</th>\n      <th>SpecialtyCount_Pediatrics</th>\n      <th>SpecialtyCount_Rehabilitation</th>\n      <th>SpecialtyCount_Surgery</th>\n      <th>SpecialtyCount_nan</th>\n    </tr>\n    <tr>\n      <th>MemberID</th>\n      <th></th>\n      <th></th>\n      <th></th>\n      <th></th>\n      <th></th>\n      <th></th>\n      <th></th>\n      <th></th>\n      <th></th>\n      <th></th>\n      <th></th>\n      <th></th>\n      <th></th>\n      <th></th>\n      <th></th>\n      <th></th>\n      <th></th>\n      <th></th>\n      <th></th>\n      <th></th>\n      <th></th>\n    </tr>\n  </thead>\n  <tbody>\n    <tr>\n      <th>210</th>\n      <td>0.418605</td>\n      <td>0.000000</td>\n      <td>0.0</td>\n      <td>0.166667</td>\n      <td>0.833333</td>\n      <td>0.111111</td>\n      <td>0.250000</td>\n      <td>0.238095</td>\n      <td>0.083333</td>\n      <td>0.200000</td>\n      <td>...</td>\n      <td>0.000000</td>\n      <td>0.102564</td>\n      <td>0.046512</td>\n      <td>0.0</td>\n      <td>0.000000</td>\n      <td>0.0</td>\n      <td>0.000000</td>\n      <td>0.0</td>\n      <td>0.000000</td>\n      <td>0.0</td>\n    </tr>\n    <tr>\n      <th>3197</th>\n      <td>0.069767</td>\n      <td>0.000000</td>\n      <td>0.0</td>\n      <td>0.095238</td>\n      <td>1.000000</td>\n      <td>0.111111</td>\n      <td>0.333333</td>\n      <td>0.178571</td>\n      <td>0.000000</td>\n      <td>0.000000</td>\n      <td>...</td>\n      <td>0.000000</td>\n      <td>0.000000</td>\n      <td>0.000000</td>\n      <td>0.0</td>\n      <td>0.000000</td>\n      <td>0.0</td>\n      <td>0.078947</td>\n      <td>0.0</td>\n      <td>0.000000</td>\n      <td>0.0</td>\n    </tr>\n    <tr>\n      <th>3889</th>\n      <td>0.000000</td>\n      <td>0.333333</td>\n      <td>0.0</td>\n      <td>0.285714</td>\n      <td>0.166667</td>\n      <td>0.111111</td>\n      <td>0.833333</td>\n      <td>0.428571</td>\n      <td>0.083333</td>\n      <td>1.000000</td>\n      <td>...</td>\n      <td>0.000000</td>\n      <td>0.102564</td>\n      <td>0.093023</td>\n      <td>0.0</td>\n      <td>0.000000</td>\n      <td>0.0</td>\n      <td>0.000000</td>\n      <td>0.0</td>\n      <td>0.000000</td>\n      <td>0.0</td>\n    </tr>\n    <tr>\n      <th>4187</th>\n      <td>0.651163</td>\n      <td>0.000000</td>\n      <td>0.0</td>\n      <td>0.071429</td>\n      <td>0.750000</td>\n      <td>0.111111</td>\n      <td>0.833333</td>\n      <td>0.871429</td>\n      <td>0.000000</td>\n      <td>0.000000</td>\n      <td>...</td>\n      <td>0.000000</td>\n      <td>0.051282</td>\n      <td>0.000000</td>\n      <td>0.0</td>\n      <td>0.028571</td>\n      <td>0.0</td>\n      <td>0.000000</td>\n      <td>0.0</td>\n      <td>0.000000</td>\n      <td>0.0</td>\n    </tr>\n    <tr>\n      <th>9063</th>\n      <td>0.767442</td>\n      <td>0.000000</td>\n      <td>0.0</td>\n      <td>0.071429</td>\n      <td>0.166667</td>\n      <td>0.111111</td>\n      <td>0.166667</td>\n      <td>0.142857</td>\n      <td>0.000000</td>\n      <td>0.000000</td>\n      <td>...</td>\n      <td>0.000000</td>\n      <td>0.076923</td>\n      <td>0.000000</td>\n      <td>0.0</td>\n      <td>0.000000</td>\n      <td>0.0</td>\n      <td>0.000000</td>\n      <td>0.0</td>\n      <td>0.000000</td>\n      <td>0.0</td>\n    </tr>\n    <tr>\n      <th>...</th>\n      <td>...</td>\n      <td>...</td>\n      <td>...</td>\n      <td>...</td>\n      <td>...</td>\n      <td>...</td>\n      <td>...</td>\n      <td>...</td>\n      <td>...</td>\n      <td>...</td>\n      <td>...</td>\n      <td>...</td>\n      <td>...</td>\n      <td>...</td>\n      <td>...</td>\n      <td>...</td>\n      <td>...</td>\n      <td>...</td>\n      <td>...</td>\n      <td>...</td>\n      <td>...</td>\n    </tr>\n    <tr>\n      <th>99995554</th>\n      <td>0.534884</td>\n      <td>0.000000</td>\n      <td>0.0</td>\n      <td>0.809524</td>\n      <td>0.833333</td>\n      <td>0.111111</td>\n      <td>0.333333</td>\n      <td>0.285714</td>\n      <td>0.250000</td>\n      <td>0.366667</td>\n      <td>...</td>\n      <td>0.051282</td>\n      <td>0.666667</td>\n      <td>0.162791</td>\n      <td>0.0</td>\n      <td>0.000000</td>\n      <td>0.0</td>\n      <td>0.000000</td>\n      <td>0.0</td>\n      <td>0.000000</td>\n      <td>0.0</td>\n    </tr>\n    <tr>\n      <th>99996214</th>\n      <td>0.534884</td>\n      <td>0.000000</td>\n      <td>0.0</td>\n      <td>0.000000</td>\n      <td>0.083333</td>\n      <td>0.111111</td>\n      <td>0.000000</td>\n      <td>0.000000</td>\n      <td>0.000000</td>\n      <td>0.000000</td>\n      <td>...</td>\n      <td>0.025641</td>\n      <td>0.000000</td>\n      <td>0.000000</td>\n      <td>0.0</td>\n      <td>0.000000</td>\n      <td>0.0</td>\n      <td>0.000000</td>\n      <td>0.0</td>\n      <td>0.000000</td>\n      <td>0.0</td>\n    </tr>\n    <tr>\n      <th>99997485</th>\n      <td>0.186047</td>\n      <td>0.000000</td>\n      <td>0.0</td>\n      <td>0.000000</td>\n      <td>0.083333</td>\n      <td>0.111111</td>\n      <td>0.000000</td>\n      <td>0.000000</td>\n      <td>0.000000</td>\n      <td>0.000000</td>\n      <td>...</td>\n      <td>0.025641</td>\n      <td>0.000000</td>\n      <td>0.000000</td>\n      <td>0.0</td>\n      <td>0.000000</td>\n      <td>0.0</td>\n      <td>0.000000</td>\n      <td>0.0</td>\n      <td>0.000000</td>\n      <td>0.0</td>\n    </tr>\n    <tr>\n      <th>99997895</th>\n      <td>0.534884</td>\n      <td>0.000000</td>\n      <td>0.0</td>\n      <td>0.309524</td>\n      <td>0.833333</td>\n      <td>0.111111</td>\n      <td>0.000000</td>\n      <td>0.000000</td>\n      <td>0.166667</td>\n      <td>0.500000</td>\n      <td>...</td>\n      <td>0.000000</td>\n      <td>0.102564</td>\n      <td>0.162791</td>\n      <td>0.0</td>\n      <td>0.000000</td>\n      <td>0.0</td>\n      <td>0.000000</td>\n      <td>0.0</td>\n      <td>0.060606</td>\n      <td>0.0</td>\n    </tr>\n    <tr>\n      <th>99998627</th>\n      <td>0.418605</td>\n      <td>0.333333</td>\n      <td>0.0</td>\n      <td>0.214286</td>\n      <td>0.083333</td>\n      <td>0.111111</td>\n      <td>0.083333</td>\n      <td>0.142857</td>\n      <td>0.083333</td>\n      <td>0.500000</td>\n      <td>...</td>\n      <td>0.000000</td>\n      <td>0.102564</td>\n      <td>0.046512</td>\n      <td>0.0</td>\n      <td>0.057143</td>\n      <td>0.0</td>\n      <td>0.000000</td>\n      <td>0.0</td>\n      <td>0.000000</td>\n      <td>0.0</td>\n    </tr>\n  </tbody>\n</table>\n<p>76038 rows × 106 columns</p>\n</div>"
     },
     "metadata": {},
     "execution_count": 27
    }
   ],
   "source": [
    "X_train"
   ]
  },
  {
   "cell_type": "code",
   "execution_count": 28,
   "metadata": {},
   "outputs": [],
   "source": [
    "df_a_train.to_csv(\"./processed/strategy-a/train/train.csv\")"
   ]
  },
  {
   "cell_type": "code",
   "execution_count": 29,
   "metadata": {},
   "outputs": [],
   "source": [
    "X_train.to_csv(\"./processed/strategy-a/train/X_train.csv\")"
   ]
  },
  {
   "cell_type": "code",
   "execution_count": 30,
   "metadata": {},
   "outputs": [],
   "source": [
    "y_train.to_csv(\"./processed/strategy-a/train/y_train.csv\")"
   ]
  },
  {
   "source": [
    "## Test set"
   ],
   "cell_type": "markdown",
   "metadata": {}
  },
  {
   "cell_type": "code",
   "execution_count": 31,
   "metadata": {},
   "outputs": [
    {
     "output_type": "execute_result",
     "data": {
      "text/plain": [
       "          AgeAtFirstClaim  Sex  ClaimCount  ProviderID  Vendor  PCP  \\\n",
       "MemberID                                                              \n",
       "4                       5    M         1.0         1.0     1.0  1.0   \n",
       "210                    35  NaN         6.0         3.0     3.0  1.0   \n",
       "3197                    5    F         5.0         4.0     3.0  1.0   \n",
       "3457                    5    M         1.0         1.0     1.0  1.0   \n",
       "3713                   45    F        10.0         5.0     5.0  2.0   \n",
       "...                   ...  ...         ...         ...     ...  ...   \n",
       "99985996               -1    F         5.0         2.0     2.0  1.0   \n",
       "99987030               25    M         4.0         3.0     2.0  1.0   \n",
       "99995391               65  NaN        11.0         2.0     2.0  1.0   \n",
       "99995554               45    M        15.0         3.0     3.0  1.0   \n",
       "99998824               35    F         8.0         5.0     6.0  1.0   \n",
       "\n",
       "          SpecialtyCount_Surgery  SpecialtyCount_Rehabilitation  \\\n",
       "MemberID                                                          \n",
       "4                            0.0                            0.0   \n",
       "210                          0.0                            0.0   \n",
       "3197                         0.0                            0.0   \n",
       "3457                         0.0                            0.0   \n",
       "3713                         0.0                            0.0   \n",
       "...                          ...                            ...   \n",
       "99985996                     1.0                            0.0   \n",
       "99987030                     0.0                            0.0   \n",
       "99995391                     5.0                            0.0   \n",
       "99995554                     0.0                            0.0   \n",
       "99998824                     0.0                            0.0   \n",
       "\n",
       "          SpecialtyCount_General Practice  SpecialtyCount_Emergency  ...  \\\n",
       "MemberID                                                             ...   \n",
       "4                                     0.0                       0.0  ...   \n",
       "210                                   0.0                       0.0  ...   \n",
       "3197                                  0.0                       0.0  ...   \n",
       "3457                                  0.0                       0.0  ...   \n",
       "3713                                  7.0                       0.0  ...   \n",
       "...                                   ...                       ...  ...   \n",
       "99985996                              0.0                       0.0  ...   \n",
       "99987030                              1.0                       3.0  ...   \n",
       "99995391                              0.0                       0.0  ...   \n",
       "99995554                              2.0                       0.0  ...   \n",
       "99998824                              2.0                       2.0  ...   \n",
       "\n",
       "          LabCountStd  LabCountSum  LabClaimCount  DrugCountMin  DrugCountMax  \\\n",
       "MemberID                                                                        \n",
       "4                 NaN          NaN            NaN           NaN           NaN   \n",
       "210               NaN          1.0            1.0           NaN           NaN   \n",
       "3197              NaN          2.0            1.0           1.0           2.0   \n",
       "3457              NaN          NaN            NaN           NaN           NaN   \n",
       "3713         4.949747          9.0            2.0           1.0           6.0   \n",
       "...               ...          ...            ...           ...           ...   \n",
       "99985996          NaN          NaN            NaN           3.0           3.0   \n",
       "99987030          NaN          NaN            NaN           2.0           2.0   \n",
       "99995391          NaN          1.0            1.0           1.0           3.0   \n",
       "99995554          NaN         10.0            1.0           2.0           2.0   \n",
       "99998824     0.707107          5.0            2.0           NaN           NaN   \n",
       "\n",
       "          DrugCountAvg  DrugCountStd  DrugCountSum  DrugClaimCount  \\\n",
       "MemberID                                                             \n",
       "4                  NaN           NaN           NaN             NaN   \n",
       "210                NaN           NaN           NaN             NaN   \n",
       "3197          1.500000      0.707107           3.0             2.0   \n",
       "3457               NaN           NaN           NaN             NaN   \n",
       "3713          4.250000      2.362908          17.0             4.0   \n",
       "...                ...           ...           ...             ...   \n",
       "99985996      3.000000      0.000000          18.0             6.0   \n",
       "99987030      2.000000           NaN           2.0             1.0   \n",
       "99995391      2.333333      0.816497          14.0             6.0   \n",
       "99995554      2.000000           NaN           2.0             1.0   \n",
       "99998824           NaN           NaN           NaN             NaN   \n",
       "\n",
       "          DaysInHospital  \n",
       "MemberID                  \n",
       "4                    0.0  \n",
       "210                  0.0  \n",
       "3197                 0.0  \n",
       "3457                 0.0  \n",
       "3713                 0.0  \n",
       "...                  ...  \n",
       "99985996             0.0  \n",
       "99987030             0.0  \n",
       "99995391             0.0  \n",
       "99995554             0.0  \n",
       "99998824             0.0  \n",
       "\n",
       "[71435 rows x 121 columns]"
      ],
      "text/html": "<div>\n<style scoped>\n    .dataframe tbody tr th:only-of-type {\n        vertical-align: middle;\n    }\n\n    .dataframe tbody tr th {\n        vertical-align: top;\n    }\n\n    .dataframe thead th {\n        text-align: right;\n    }\n</style>\n<table border=\"1\" class=\"dataframe\">\n  <thead>\n    <tr style=\"text-align: right;\">\n      <th></th>\n      <th>AgeAtFirstClaim</th>\n      <th>Sex</th>\n      <th>ClaimCount</th>\n      <th>ProviderID</th>\n      <th>Vendor</th>\n      <th>PCP</th>\n      <th>SpecialtyCount_Surgery</th>\n      <th>SpecialtyCount_Rehabilitation</th>\n      <th>SpecialtyCount_General Practice</th>\n      <th>SpecialtyCount_Emergency</th>\n      <th>...</th>\n      <th>LabCountStd</th>\n      <th>LabCountSum</th>\n      <th>LabClaimCount</th>\n      <th>DrugCountMin</th>\n      <th>DrugCountMax</th>\n      <th>DrugCountAvg</th>\n      <th>DrugCountStd</th>\n      <th>DrugCountSum</th>\n      <th>DrugClaimCount</th>\n      <th>DaysInHospital</th>\n    </tr>\n    <tr>\n      <th>MemberID</th>\n      <th></th>\n      <th></th>\n      <th></th>\n      <th></th>\n      <th></th>\n      <th></th>\n      <th></th>\n      <th></th>\n      <th></th>\n      <th></th>\n      <th></th>\n      <th></th>\n      <th></th>\n      <th></th>\n      <th></th>\n      <th></th>\n      <th></th>\n      <th></th>\n      <th></th>\n      <th></th>\n      <th></th>\n    </tr>\n  </thead>\n  <tbody>\n    <tr>\n      <th>4</th>\n      <td>5</td>\n      <td>M</td>\n      <td>1.0</td>\n      <td>1.0</td>\n      <td>1.0</td>\n      <td>1.0</td>\n      <td>0.0</td>\n      <td>0.0</td>\n      <td>0.0</td>\n      <td>0.0</td>\n      <td>...</td>\n      <td>NaN</td>\n      <td>NaN</td>\n      <td>NaN</td>\n      <td>NaN</td>\n      <td>NaN</td>\n      <td>NaN</td>\n      <td>NaN</td>\n      <td>NaN</td>\n      <td>NaN</td>\n      <td>0.0</td>\n    </tr>\n    <tr>\n      <th>210</th>\n      <td>35</td>\n      <td>NaN</td>\n      <td>6.0</td>\n      <td>3.0</td>\n      <td>3.0</td>\n      <td>1.0</td>\n      <td>0.0</td>\n      <td>0.0</td>\n      <td>0.0</td>\n      <td>0.0</td>\n      <td>...</td>\n      <td>NaN</td>\n      <td>1.0</td>\n      <td>1.0</td>\n      <td>NaN</td>\n      <td>NaN</td>\n      <td>NaN</td>\n      <td>NaN</td>\n      <td>NaN</td>\n      <td>NaN</td>\n      <td>0.0</td>\n    </tr>\n    <tr>\n      <th>3197</th>\n      <td>5</td>\n      <td>F</td>\n      <td>5.0</td>\n      <td>4.0</td>\n      <td>3.0</td>\n      <td>1.0</td>\n      <td>0.0</td>\n      <td>0.0</td>\n      <td>0.0</td>\n      <td>0.0</td>\n      <td>...</td>\n      <td>NaN</td>\n      <td>2.0</td>\n      <td>1.0</td>\n      <td>1.0</td>\n      <td>2.0</td>\n      <td>1.500000</td>\n      <td>0.707107</td>\n      <td>3.0</td>\n      <td>2.0</td>\n      <td>0.0</td>\n    </tr>\n    <tr>\n      <th>3457</th>\n      <td>5</td>\n      <td>M</td>\n      <td>1.0</td>\n      <td>1.0</td>\n      <td>1.0</td>\n      <td>1.0</td>\n      <td>0.0</td>\n      <td>0.0</td>\n      <td>0.0</td>\n      <td>0.0</td>\n      <td>...</td>\n      <td>NaN</td>\n      <td>NaN</td>\n      <td>NaN</td>\n      <td>NaN</td>\n      <td>NaN</td>\n      <td>NaN</td>\n      <td>NaN</td>\n      <td>NaN</td>\n      <td>NaN</td>\n      <td>0.0</td>\n    </tr>\n    <tr>\n      <th>3713</th>\n      <td>45</td>\n      <td>F</td>\n      <td>10.0</td>\n      <td>5.0</td>\n      <td>5.0</td>\n      <td>2.0</td>\n      <td>0.0</td>\n      <td>0.0</td>\n      <td>7.0</td>\n      <td>0.0</td>\n      <td>...</td>\n      <td>4.949747</td>\n      <td>9.0</td>\n      <td>2.0</td>\n      <td>1.0</td>\n      <td>6.0</td>\n      <td>4.250000</td>\n      <td>2.362908</td>\n      <td>17.0</td>\n      <td>4.0</td>\n      <td>0.0</td>\n    </tr>\n    <tr>\n      <th>...</th>\n      <td>...</td>\n      <td>...</td>\n      <td>...</td>\n      <td>...</td>\n      <td>...</td>\n      <td>...</td>\n      <td>...</td>\n      <td>...</td>\n      <td>...</td>\n      <td>...</td>\n      <td>...</td>\n      <td>...</td>\n      <td>...</td>\n      <td>...</td>\n      <td>...</td>\n      <td>...</td>\n      <td>...</td>\n      <td>...</td>\n      <td>...</td>\n      <td>...</td>\n      <td>...</td>\n    </tr>\n    <tr>\n      <th>99985996</th>\n      <td>-1</td>\n      <td>F</td>\n      <td>5.0</td>\n      <td>2.0</td>\n      <td>2.0</td>\n      <td>1.0</td>\n      <td>1.0</td>\n      <td>0.0</td>\n      <td>0.0</td>\n      <td>0.0</td>\n      <td>...</td>\n      <td>NaN</td>\n      <td>NaN</td>\n      <td>NaN</td>\n      <td>3.0</td>\n      <td>3.0</td>\n      <td>3.000000</td>\n      <td>0.000000</td>\n      <td>18.0</td>\n      <td>6.0</td>\n      <td>0.0</td>\n    </tr>\n    <tr>\n      <th>99987030</th>\n      <td>25</td>\n      <td>M</td>\n      <td>4.0</td>\n      <td>3.0</td>\n      <td>2.0</td>\n      <td>1.0</td>\n      <td>0.0</td>\n      <td>0.0</td>\n      <td>1.0</td>\n      <td>3.0</td>\n      <td>...</td>\n      <td>NaN</td>\n      <td>NaN</td>\n      <td>NaN</td>\n      <td>2.0</td>\n      <td>2.0</td>\n      <td>2.000000</td>\n      <td>NaN</td>\n      <td>2.0</td>\n      <td>1.0</td>\n      <td>0.0</td>\n    </tr>\n    <tr>\n      <th>99995391</th>\n      <td>65</td>\n      <td>NaN</td>\n      <td>11.0</td>\n      <td>2.0</td>\n      <td>2.0</td>\n      <td>1.0</td>\n      <td>5.0</td>\n      <td>0.0</td>\n      <td>0.0</td>\n      <td>0.0</td>\n      <td>...</td>\n      <td>NaN</td>\n      <td>1.0</td>\n      <td>1.0</td>\n      <td>1.0</td>\n      <td>3.0</td>\n      <td>2.333333</td>\n      <td>0.816497</td>\n      <td>14.0</td>\n      <td>6.0</td>\n      <td>0.0</td>\n    </tr>\n    <tr>\n      <th>99995554</th>\n      <td>45</td>\n      <td>M</td>\n      <td>15.0</td>\n      <td>3.0</td>\n      <td>3.0</td>\n      <td>1.0</td>\n      <td>0.0</td>\n      <td>0.0</td>\n      <td>2.0</td>\n      <td>0.0</td>\n      <td>...</td>\n      <td>NaN</td>\n      <td>10.0</td>\n      <td>1.0</td>\n      <td>2.0</td>\n      <td>2.0</td>\n      <td>2.000000</td>\n      <td>NaN</td>\n      <td>2.0</td>\n      <td>1.0</td>\n      <td>0.0</td>\n    </tr>\n    <tr>\n      <th>99998824</th>\n      <td>35</td>\n      <td>F</td>\n      <td>8.0</td>\n      <td>5.0</td>\n      <td>6.0</td>\n      <td>1.0</td>\n      <td>0.0</td>\n      <td>0.0</td>\n      <td>2.0</td>\n      <td>2.0</td>\n      <td>...</td>\n      <td>0.707107</td>\n      <td>5.0</td>\n      <td>2.0</td>\n      <td>NaN</td>\n      <td>NaN</td>\n      <td>NaN</td>\n      <td>NaN</td>\n      <td>NaN</td>\n      <td>NaN</td>\n      <td>0.0</td>\n    </tr>\n  </tbody>\n</table>\n<p>71435 rows × 121 columns</p>\n</div>"
     },
     "metadata": {},
     "execution_count": 31
    }
   ],
   "source": [
    "df_a_test"
   ]
  },
  {
   "cell_type": "code",
   "execution_count": 32,
   "metadata": {},
   "outputs": [
    {
     "output_type": "execute_result",
     "data": {
      "text/plain": [
       "AgeAtFirstClaim    0.000000\n",
       "Sex                0.198124\n",
       "ClaimCount         0.000000\n",
       "ProviderID         0.000000\n",
       "Vendor             0.000000\n",
       "                     ...   \n",
       "DrugCountAvg       0.353090\n",
       "DrugCountStd       0.465962\n",
       "DrugCountSum       0.353090\n",
       "DrugClaimCount     0.353090\n",
       "DaysInHospital     0.000000\n",
       "Length: 121, dtype: float64"
      ]
     },
     "metadata": {},
     "execution_count": 32
    }
   ],
   "source": [
    "missing_rate = df_a_test.isnull().sum() / df_a_test.shape[0]\n",
    "missing_rate"
   ]
  },
  {
   "cell_type": "code",
   "execution_count": 33,
   "metadata": {},
   "outputs": [
    {
     "output_type": "execute_result",
     "data": {
      "text/plain": [
       "Sex               0.198124\n",
       "PayDelayStd       0.081389\n",
       "DSFSMin           0.000238\n",
       "DSFSMax           0.000238\n",
       "LabCountMin       0.282313\n",
       "LabCountMax       0.282313\n",
       "LabCountAvg       0.282313\n",
       "LabCountStd       0.594023\n",
       "LabCountSum       0.282313\n",
       "LabClaimCount     0.282313\n",
       "DrugCountMin      0.353090\n",
       "DrugCountMax      0.353090\n",
       "DrugCountAvg      0.353090\n",
       "DrugCountStd      0.465962\n",
       "DrugCountSum      0.353090\n",
       "DrugClaimCount    0.353090\n",
       "dtype: float64"
      ]
     },
     "metadata": {},
     "execution_count": 33
    }
   ],
   "source": [
    "need_remove = missing_rate[missing_rate != 0]\n",
    "need_remove"
   ]
  },
  {
   "cell_type": "code",
   "execution_count": 34,
   "metadata": {},
   "outputs": [
    {
     "output_type": "execute_result",
     "data": {
      "text/plain": [
       "{'category': ['F', 'M', 'NaN'], 'drop': 'F'}"
      ]
     },
     "metadata": {},
     "execution_count": 34
    }
   ],
   "source": [
    "one_hot_encode(df_a_test, \"Sex\", sex_param)"
   ]
  },
  {
   "cell_type": "code",
   "execution_count": 35,
   "metadata": {},
   "outputs": [],
   "source": [
    "df_a_test[\"PayDelayStd\"].fillna(-1.0, inplace=True)\n",
    "df_a_test[\"LabCountStd\"].fillna(-1.0, inplace=True)\n",
    "df_a_test[\"DrugCountStd\"].fillna(-1.0, inplace=True)\n",
    "df_a_test.fillna(0.0, inplace=True)"
   ]
  },
  {
   "cell_type": "code",
   "execution_count": 36,
   "metadata": {},
   "outputs": [],
   "source": [
    "df_a_test.drop(columns=remove_col, inplace=True)"
   ]
  },
  {
   "cell_type": "code",
   "execution_count": 37,
   "metadata": {},
   "outputs": [],
   "source": [
    "X_test = df_a_test[df_a_test.columns.difference([\"DaysInHospital\"])]\n",
    "y_test = df_a_test[[\"DaysInHospital\"]]"
   ]
  },
  {
   "cell_type": "code",
   "execution_count": 38,
   "metadata": {},
   "outputs": [],
   "source": [
    "X_test = pd.DataFrame(scaler.transform(X_test), columns=X_test.columns, index=X_test.index)"
   ]
  },
  {
   "cell_type": "code",
   "execution_count": 39,
   "metadata": {},
   "outputs": [
    {
     "output_type": "execute_result",
     "data": {
      "text/plain": [
       "          AgeAtFirstClaim  CharlsonIndexMax  CharlsonIndexMin  ClaimCount  \\\n",
       "MemberID                                                                    \n",
       "4                0.069767          0.000000          0.000000    0.000000   \n",
       "210              0.418605          0.000000          0.000000    0.119048   \n",
       "3197             0.069767          0.000000          0.000000    0.095238   \n",
       "3457             0.069767          0.000000          0.000000    0.000000   \n",
       "3713             0.534884          0.000000          0.000000    0.214286   \n",
       "...                   ...               ...               ...         ...   \n",
       "99985996         0.000000          0.333333          0.333333    0.095238   \n",
       "99987030         0.302326          0.000000          0.000000    0.071429   \n",
       "99995391         0.767442          0.000000          0.000000    0.238095   \n",
       "99995554         0.534884          0.000000          0.000000    0.333333   \n",
       "99998824         0.418605          0.000000          0.000000    0.166667   \n",
       "\n",
       "           DSFSMax   DSFSMin  DrugClaimCount  DrugCountAvg  LabClaimCount  \\\n",
       "MemberID                                                                    \n",
       "4         0.083333  0.111111        0.000000      0.000000       0.000000   \n",
       "210       0.833333  0.111111        0.000000      0.000000       0.083333   \n",
       "3197      0.166667  0.111111        0.166667      0.214286       0.083333   \n",
       "3457      0.083333  0.111111        0.000000      0.000000       0.000000   \n",
       "3713      0.750000  0.111111        0.333333      0.607143       0.166667   \n",
       "...            ...       ...             ...           ...            ...   \n",
       "99985996  0.500000  0.111111        0.500000      0.428571       0.000000   \n",
       "99987030  0.666667  0.111111        0.083333      0.285714       0.000000   \n",
       "99995391  0.500000  0.111111        0.500000      0.333333       0.083333   \n",
       "99995554  0.333333  0.111111        0.083333      0.285714       0.083333   \n",
       "99998824  0.416667  0.111111        0.000000      0.000000       0.166667   \n",
       "\n",
       "          LabCountAvg  ...  SpecialtyCount_General Practice  \\\n",
       "MemberID               ...                                    \n",
       "4                0.00  ...                         0.000000   \n",
       "210              0.10  ...                         0.000000   \n",
       "3197             0.20  ...                         0.000000   \n",
       "3457             0.00  ...                         0.000000   \n",
       "3713             0.45  ...                         0.179487   \n",
       "...               ...  ...                              ...   \n",
       "99985996         0.00  ...                         0.000000   \n",
       "99987030         0.00  ...                         0.025641   \n",
       "99995391         0.10  ...                         0.000000   \n",
       "99995554         1.00  ...                         0.051282   \n",
       "99998824         0.25  ...                         0.051282   \n",
       "\n",
       "          SpecialtyCount_Internal  SpecialtyCount_Laboratory  \\\n",
       "MemberID                                                       \n",
       "4                        0.000000                   0.000000   \n",
       "210                      0.025641                   0.023256   \n",
       "3197                     0.025641                   0.046512   \n",
       "3457                     0.000000                   0.000000   \n",
       "3713                     0.000000                   0.046512   \n",
       "...                           ...                        ...   \n",
       "99985996                 0.102564                   0.000000   \n",
       "99987030                 0.000000                   0.000000   \n",
       "99995391                 0.153846                   0.000000   \n",
       "99995554                 0.282051                   0.046512   \n",
       "99998824                 0.000000                   0.046512   \n",
       "\n",
       "          SpecialtyCount_Obstetrics and Gynecology  SpecialtyCount_Other  \\\n",
       "MemberID                                                                   \n",
       "4                                         0.000000              0.000000   \n",
       "210                                       0.000000              0.114286   \n",
       "3197                                      0.000000              0.000000   \n",
       "3457                                      0.000000              0.000000   \n",
       "3713                                      0.000000              0.000000   \n",
       "...                                            ...                   ...   \n",
       "99985996                                  0.000000              0.000000   \n",
       "99987030                                  0.000000              0.000000   \n",
       "99995391                                  0.000000              0.000000   \n",
       "99995554                                  0.000000              0.000000   \n",
       "99998824                                  0.066667              0.000000   \n",
       "\n",
       "          SpecialtyCount_Pathology  SpecialtyCount_Pediatrics  \\\n",
       "MemberID                                                        \n",
       "4                              0.0                   0.026316   \n",
       "210                            0.0                   0.000000   \n",
       "3197                           0.0                   0.026316   \n",
       "3457                           0.0                   0.026316   \n",
       "3713                           0.0                   0.000000   \n",
       "...                            ...                        ...   \n",
       "99985996                       0.0                   0.000000   \n",
       "99987030                       0.0                   0.000000   \n",
       "99995391                       0.0                   0.000000   \n",
       "99995554                       0.0                   0.000000   \n",
       "99998824                       0.0                   0.000000   \n",
       "\n",
       "          SpecialtyCount_Rehabilitation  SpecialtyCount_Surgery  \\\n",
       "MemberID                                                          \n",
       "4                                   0.0                0.000000   \n",
       "210                                 0.0                0.000000   \n",
       "3197                                0.0                0.000000   \n",
       "3457                                0.0                0.000000   \n",
       "3713                                0.0                0.000000   \n",
       "...                                 ...                     ...   \n",
       "99985996                            0.0                0.030303   \n",
       "99987030                            0.0                0.000000   \n",
       "99995391                            0.0                0.151515   \n",
       "99995554                            0.0                0.000000   \n",
       "99998824                            0.0                0.000000   \n",
       "\n",
       "          SpecialtyCount_nan  \n",
       "MemberID                      \n",
       "4                        0.0  \n",
       "210                      0.0  \n",
       "3197                     0.0  \n",
       "3457                     0.0  \n",
       "3713                     0.0  \n",
       "...                      ...  \n",
       "99985996                 0.0  \n",
       "99987030                 0.0  \n",
       "99995391                 0.0  \n",
       "99995554                 0.0  \n",
       "99998824                 0.0  \n",
       "\n",
       "[71435 rows x 106 columns]"
      ],
      "text/html": "<div>\n<style scoped>\n    .dataframe tbody tr th:only-of-type {\n        vertical-align: middle;\n    }\n\n    .dataframe tbody tr th {\n        vertical-align: top;\n    }\n\n    .dataframe thead th {\n        text-align: right;\n    }\n</style>\n<table border=\"1\" class=\"dataframe\">\n  <thead>\n    <tr style=\"text-align: right;\">\n      <th></th>\n      <th>AgeAtFirstClaim</th>\n      <th>CharlsonIndexMax</th>\n      <th>CharlsonIndexMin</th>\n      <th>ClaimCount</th>\n      <th>DSFSMax</th>\n      <th>DSFSMin</th>\n      <th>DrugClaimCount</th>\n      <th>DrugCountAvg</th>\n      <th>LabClaimCount</th>\n      <th>LabCountAvg</th>\n      <th>...</th>\n      <th>SpecialtyCount_General Practice</th>\n      <th>SpecialtyCount_Internal</th>\n      <th>SpecialtyCount_Laboratory</th>\n      <th>SpecialtyCount_Obstetrics and Gynecology</th>\n      <th>SpecialtyCount_Other</th>\n      <th>SpecialtyCount_Pathology</th>\n      <th>SpecialtyCount_Pediatrics</th>\n      <th>SpecialtyCount_Rehabilitation</th>\n      <th>SpecialtyCount_Surgery</th>\n      <th>SpecialtyCount_nan</th>\n    </tr>\n    <tr>\n      <th>MemberID</th>\n      <th></th>\n      <th></th>\n      <th></th>\n      <th></th>\n      <th></th>\n      <th></th>\n      <th></th>\n      <th></th>\n      <th></th>\n      <th></th>\n      <th></th>\n      <th></th>\n      <th></th>\n      <th></th>\n      <th></th>\n      <th></th>\n      <th></th>\n      <th></th>\n      <th></th>\n      <th></th>\n      <th></th>\n    </tr>\n  </thead>\n  <tbody>\n    <tr>\n      <th>4</th>\n      <td>0.069767</td>\n      <td>0.000000</td>\n      <td>0.000000</td>\n      <td>0.000000</td>\n      <td>0.083333</td>\n      <td>0.111111</td>\n      <td>0.000000</td>\n      <td>0.000000</td>\n      <td>0.000000</td>\n      <td>0.00</td>\n      <td>...</td>\n      <td>0.000000</td>\n      <td>0.000000</td>\n      <td>0.000000</td>\n      <td>0.000000</td>\n      <td>0.000000</td>\n      <td>0.0</td>\n      <td>0.026316</td>\n      <td>0.0</td>\n      <td>0.000000</td>\n      <td>0.0</td>\n    </tr>\n    <tr>\n      <th>210</th>\n      <td>0.418605</td>\n      <td>0.000000</td>\n      <td>0.000000</td>\n      <td>0.119048</td>\n      <td>0.833333</td>\n      <td>0.111111</td>\n      <td>0.000000</td>\n      <td>0.000000</td>\n      <td>0.083333</td>\n      <td>0.10</td>\n      <td>...</td>\n      <td>0.000000</td>\n      <td>0.025641</td>\n      <td>0.023256</td>\n      <td>0.000000</td>\n      <td>0.114286</td>\n      <td>0.0</td>\n      <td>0.000000</td>\n      <td>0.0</td>\n      <td>0.000000</td>\n      <td>0.0</td>\n    </tr>\n    <tr>\n      <th>3197</th>\n      <td>0.069767</td>\n      <td>0.000000</td>\n      <td>0.000000</td>\n      <td>0.095238</td>\n      <td>0.166667</td>\n      <td>0.111111</td>\n      <td>0.166667</td>\n      <td>0.214286</td>\n      <td>0.083333</td>\n      <td>0.20</td>\n      <td>...</td>\n      <td>0.000000</td>\n      <td>0.025641</td>\n      <td>0.046512</td>\n      <td>0.000000</td>\n      <td>0.000000</td>\n      <td>0.0</td>\n      <td>0.026316</td>\n      <td>0.0</td>\n      <td>0.000000</td>\n      <td>0.0</td>\n    </tr>\n    <tr>\n      <th>3457</th>\n      <td>0.069767</td>\n      <td>0.000000</td>\n      <td>0.000000</td>\n      <td>0.000000</td>\n      <td>0.083333</td>\n      <td>0.111111</td>\n      <td>0.000000</td>\n      <td>0.000000</td>\n      <td>0.000000</td>\n      <td>0.00</td>\n      <td>...</td>\n      <td>0.000000</td>\n      <td>0.000000</td>\n      <td>0.000000</td>\n      <td>0.000000</td>\n      <td>0.000000</td>\n      <td>0.0</td>\n      <td>0.026316</td>\n      <td>0.0</td>\n      <td>0.000000</td>\n      <td>0.0</td>\n    </tr>\n    <tr>\n      <th>3713</th>\n      <td>0.534884</td>\n      <td>0.000000</td>\n      <td>0.000000</td>\n      <td>0.214286</td>\n      <td>0.750000</td>\n      <td>0.111111</td>\n      <td>0.333333</td>\n      <td>0.607143</td>\n      <td>0.166667</td>\n      <td>0.45</td>\n      <td>...</td>\n      <td>0.179487</td>\n      <td>0.000000</td>\n      <td>0.046512</td>\n      <td>0.000000</td>\n      <td>0.000000</td>\n      <td>0.0</td>\n      <td>0.000000</td>\n      <td>0.0</td>\n      <td>0.000000</td>\n      <td>0.0</td>\n    </tr>\n    <tr>\n      <th>...</th>\n      <td>...</td>\n      <td>...</td>\n      <td>...</td>\n      <td>...</td>\n      <td>...</td>\n      <td>...</td>\n      <td>...</td>\n      <td>...</td>\n      <td>...</td>\n      <td>...</td>\n      <td>...</td>\n      <td>...</td>\n      <td>...</td>\n      <td>...</td>\n      <td>...</td>\n      <td>...</td>\n      <td>...</td>\n      <td>...</td>\n      <td>...</td>\n      <td>...</td>\n      <td>...</td>\n    </tr>\n    <tr>\n      <th>99985996</th>\n      <td>0.000000</td>\n      <td>0.333333</td>\n      <td>0.333333</td>\n      <td>0.095238</td>\n      <td>0.500000</td>\n      <td>0.111111</td>\n      <td>0.500000</td>\n      <td>0.428571</td>\n      <td>0.000000</td>\n      <td>0.00</td>\n      <td>...</td>\n      <td>0.000000</td>\n      <td>0.102564</td>\n      <td>0.000000</td>\n      <td>0.000000</td>\n      <td>0.000000</td>\n      <td>0.0</td>\n      <td>0.000000</td>\n      <td>0.0</td>\n      <td>0.030303</td>\n      <td>0.0</td>\n    </tr>\n    <tr>\n      <th>99987030</th>\n      <td>0.302326</td>\n      <td>0.000000</td>\n      <td>0.000000</td>\n      <td>0.071429</td>\n      <td>0.666667</td>\n      <td>0.111111</td>\n      <td>0.083333</td>\n      <td>0.285714</td>\n      <td>0.000000</td>\n      <td>0.00</td>\n      <td>...</td>\n      <td>0.025641</td>\n      <td>0.000000</td>\n      <td>0.000000</td>\n      <td>0.000000</td>\n      <td>0.000000</td>\n      <td>0.0</td>\n      <td>0.000000</td>\n      <td>0.0</td>\n      <td>0.000000</td>\n      <td>0.0</td>\n    </tr>\n    <tr>\n      <th>99995391</th>\n      <td>0.767442</td>\n      <td>0.000000</td>\n      <td>0.000000</td>\n      <td>0.238095</td>\n      <td>0.500000</td>\n      <td>0.111111</td>\n      <td>0.500000</td>\n      <td>0.333333</td>\n      <td>0.083333</td>\n      <td>0.10</td>\n      <td>...</td>\n      <td>0.000000</td>\n      <td>0.153846</td>\n      <td>0.000000</td>\n      <td>0.000000</td>\n      <td>0.000000</td>\n      <td>0.0</td>\n      <td>0.000000</td>\n      <td>0.0</td>\n      <td>0.151515</td>\n      <td>0.0</td>\n    </tr>\n    <tr>\n      <th>99995554</th>\n      <td>0.534884</td>\n      <td>0.000000</td>\n      <td>0.000000</td>\n      <td>0.333333</td>\n      <td>0.333333</td>\n      <td>0.111111</td>\n      <td>0.083333</td>\n      <td>0.285714</td>\n      <td>0.083333</td>\n      <td>1.00</td>\n      <td>...</td>\n      <td>0.051282</td>\n      <td>0.282051</td>\n      <td>0.046512</td>\n      <td>0.000000</td>\n      <td>0.000000</td>\n      <td>0.0</td>\n      <td>0.000000</td>\n      <td>0.0</td>\n      <td>0.000000</td>\n      <td>0.0</td>\n    </tr>\n    <tr>\n      <th>99998824</th>\n      <td>0.418605</td>\n      <td>0.000000</td>\n      <td>0.000000</td>\n      <td>0.166667</td>\n      <td>0.416667</td>\n      <td>0.111111</td>\n      <td>0.000000</td>\n      <td>0.000000</td>\n      <td>0.166667</td>\n      <td>0.25</td>\n      <td>...</td>\n      <td>0.051282</td>\n      <td>0.000000</td>\n      <td>0.046512</td>\n      <td>0.066667</td>\n      <td>0.000000</td>\n      <td>0.0</td>\n      <td>0.000000</td>\n      <td>0.0</td>\n      <td>0.000000</td>\n      <td>0.0</td>\n    </tr>\n  </tbody>\n</table>\n<p>71435 rows × 106 columns</p>\n</div>"
     },
     "metadata": {},
     "execution_count": 39
    }
   ],
   "source": [
    "X_test"
   ]
  },
  {
   "cell_type": "code",
   "execution_count": 40,
   "metadata": {},
   "outputs": [],
   "source": [
    "df_a_test.to_csv(\"./processed/strategy-a/test/test.csv\")\n",
    "X_test.to_csv(\"./processed/strategy-a/test/X_test.csv\")\n",
    "y_test.to_csv(\"./processed/strategy-a/test/y_test.csv\")"
   ]
  },
  {
   "source": [
    "# Strategy B"
   ],
   "cell_type": "markdown",
   "metadata": {}
  },
  {
   "cell_type": "code",
   "execution_count": 41,
   "metadata": {},
   "outputs": [],
   "source": [
    "df_b = pd.read_csv(\"./processed/DatasetB.csv\", index_col=[\"MemberID\"])"
   ]
  },
  {
   "cell_type": "code",
   "execution_count": 42,
   "metadata": {},
   "outputs": [
    {
     "output_type": "execute_result",
     "data": {
      "text/plain": [
       "          AgeAtFirstClaim  Sex  ClaimCount  ClaimCountLatestYear  ProviderID  \\\n",
       "MemberID                                                                       \n",
       "4                       5    M         1.0                   1.0         1.0   \n",
       "210                    35  NaN        14.0                   6.0         5.0   \n",
       "3197                    5    F        10.0                   5.0         6.0   \n",
       "3457                    5    M         1.0                   1.0         1.0   \n",
       "3713                   45    F        10.0                  10.0         5.0   \n",
       "...                   ...  ...         ...                   ...         ...   \n",
       "99985996               -1    F         5.0                   5.0         2.0   \n",
       "99987030               25    M         4.0                   4.0         3.0   \n",
       "99995391               65  NaN        11.0                  11.0         2.0   \n",
       "99995554               45    M        50.0                  15.0         3.0   \n",
       "99998824               35    F         8.0                   8.0         5.0   \n",
       "\n",
       "          ProviderCountLatestYear  Vendor  VendorCountLatestYear  PCP  \\\n",
       "MemberID                                                                \n",
       "4                             1.0     1.0                    1.0  1.0   \n",
       "210                           3.0     5.0                    3.0  2.0   \n",
       "3197                          4.0     5.0                    3.0  1.0   \n",
       "3457                          1.0     1.0                    1.0  1.0   \n",
       "3713                          5.0     5.0                    5.0  2.0   \n",
       "...                           ...     ...                    ...  ...   \n",
       "99985996                      2.0     2.0                    2.0  1.0   \n",
       "99987030                      3.0     2.0                    2.0  1.0   \n",
       "99995391                      2.0     2.0                    2.0  1.0   \n",
       "99995554                      3.0     3.0                    3.0  1.0   \n",
       "99998824                      5.0     6.0                    6.0  1.0   \n",
       "\n",
       "          PCPCountLatestYear  ...  LabClaimCountLatestYear  DrugCountMin  \\\n",
       "MemberID                      ...                                          \n",
       "4                        1.0  ...                      NaN           NaN   \n",
       "210                      1.0  ...                      1.0           1.0   \n",
       "3197                     1.0  ...                      1.0           1.0   \n",
       "3457                     1.0  ...                      NaN           NaN   \n",
       "3713                     2.0  ...                      2.0           1.0   \n",
       "...                      ...  ...                      ...           ...   \n",
       "99985996                 1.0  ...                      NaN           3.0   \n",
       "99987030                 1.0  ...                      NaN           2.0   \n",
       "99995391                 1.0  ...                      1.0           1.0   \n",
       "99995554                 1.0  ...                      1.0           1.0   \n",
       "99998824                 1.0  ...                      2.0           NaN   \n",
       "\n",
       "          DrugCountMax  DrugCountAvg  DrugCountStd  DrugCountSum  \\\n",
       "MemberID                                                           \n",
       "4                  NaN           NaN           NaN           NaN   \n",
       "210                2.0      1.666667      0.577350           5.0   \n",
       "3197               2.0      1.333333      0.516398           8.0   \n",
       "3457               NaN           NaN           NaN           NaN   \n",
       "3713               6.0      4.250000      2.362908          17.0   \n",
       "...                ...           ...           ...           ...   \n",
       "99985996           3.0      3.000000      0.000000          18.0   \n",
       "99987030           2.0      2.000000           NaN           2.0   \n",
       "99995391           3.0      2.333333      0.816497          14.0   \n",
       "99995554           4.0      2.000000      1.224745          10.0   \n",
       "99998824           NaN           NaN           NaN           NaN   \n",
       "\n",
       "          DrugClaimCount  DrugCountSumLatestYear  DrugClaimCountLatestYear  \\\n",
       "MemberID                                                                     \n",
       "4                    NaN                     NaN                       NaN   \n",
       "210                  3.0                     NaN                       NaN   \n",
       "3197                 6.0                     3.0                       2.0   \n",
       "3457                 NaN                     NaN                       NaN   \n",
       "3713                 4.0                    17.0                       4.0   \n",
       "...                  ...                     ...                       ...   \n",
       "99985996             6.0                    18.0                       6.0   \n",
       "99987030             1.0                     2.0                       1.0   \n",
       "99995391             6.0                    14.0                       6.0   \n",
       "99995554             5.0                     2.0                       1.0   \n",
       "99998824             NaN                     NaN                       NaN   \n",
       "\n",
       "          DaysInHospital  \n",
       "MemberID                  \n",
       "4                    0.0  \n",
       "210                  0.0  \n",
       "3197                 0.0  \n",
       "3457                 0.0  \n",
       "3713                 0.0  \n",
       "...                  ...  \n",
       "99985996             0.0  \n",
       "99987030             0.0  \n",
       "99995391             0.0  \n",
       "99995554             0.0  \n",
       "99998824             0.0  \n",
       "\n",
       "[71435 rows x 139 columns]"
      ],
      "text/html": "<div>\n<style scoped>\n    .dataframe tbody tr th:only-of-type {\n        vertical-align: middle;\n    }\n\n    .dataframe tbody tr th {\n        vertical-align: top;\n    }\n\n    .dataframe thead th {\n        text-align: right;\n    }\n</style>\n<table border=\"1\" class=\"dataframe\">\n  <thead>\n    <tr style=\"text-align: right;\">\n      <th></th>\n      <th>AgeAtFirstClaim</th>\n      <th>Sex</th>\n      <th>ClaimCount</th>\n      <th>ClaimCountLatestYear</th>\n      <th>ProviderID</th>\n      <th>ProviderCountLatestYear</th>\n      <th>Vendor</th>\n      <th>VendorCountLatestYear</th>\n      <th>PCP</th>\n      <th>PCPCountLatestYear</th>\n      <th>...</th>\n      <th>LabClaimCountLatestYear</th>\n      <th>DrugCountMin</th>\n      <th>DrugCountMax</th>\n      <th>DrugCountAvg</th>\n      <th>DrugCountStd</th>\n      <th>DrugCountSum</th>\n      <th>DrugClaimCount</th>\n      <th>DrugCountSumLatestYear</th>\n      <th>DrugClaimCountLatestYear</th>\n      <th>DaysInHospital</th>\n    </tr>\n    <tr>\n      <th>MemberID</th>\n      <th></th>\n      <th></th>\n      <th></th>\n      <th></th>\n      <th></th>\n      <th></th>\n      <th></th>\n      <th></th>\n      <th></th>\n      <th></th>\n      <th></th>\n      <th></th>\n      <th></th>\n      <th></th>\n      <th></th>\n      <th></th>\n      <th></th>\n      <th></th>\n      <th></th>\n      <th></th>\n      <th></th>\n    </tr>\n  </thead>\n  <tbody>\n    <tr>\n      <th>4</th>\n      <td>5</td>\n      <td>M</td>\n      <td>1.0</td>\n      <td>1.0</td>\n      <td>1.0</td>\n      <td>1.0</td>\n      <td>1.0</td>\n      <td>1.0</td>\n      <td>1.0</td>\n      <td>1.0</td>\n      <td>...</td>\n      <td>NaN</td>\n      <td>NaN</td>\n      <td>NaN</td>\n      <td>NaN</td>\n      <td>NaN</td>\n      <td>NaN</td>\n      <td>NaN</td>\n      <td>NaN</td>\n      <td>NaN</td>\n      <td>0.0</td>\n    </tr>\n    <tr>\n      <th>210</th>\n      <td>35</td>\n      <td>NaN</td>\n      <td>14.0</td>\n      <td>6.0</td>\n      <td>5.0</td>\n      <td>3.0</td>\n      <td>5.0</td>\n      <td>3.0</td>\n      <td>2.0</td>\n      <td>1.0</td>\n      <td>...</td>\n      <td>1.0</td>\n      <td>1.0</td>\n      <td>2.0</td>\n      <td>1.666667</td>\n      <td>0.577350</td>\n      <td>5.0</td>\n      <td>3.0</td>\n      <td>NaN</td>\n      <td>NaN</td>\n      <td>0.0</td>\n    </tr>\n    <tr>\n      <th>3197</th>\n      <td>5</td>\n      <td>F</td>\n      <td>10.0</td>\n      <td>5.0</td>\n      <td>6.0</td>\n      <td>4.0</td>\n      <td>5.0</td>\n      <td>3.0</td>\n      <td>1.0</td>\n      <td>1.0</td>\n      <td>...</td>\n      <td>1.0</td>\n      <td>1.0</td>\n      <td>2.0</td>\n      <td>1.333333</td>\n      <td>0.516398</td>\n      <td>8.0</td>\n      <td>6.0</td>\n      <td>3.0</td>\n      <td>2.0</td>\n      <td>0.0</td>\n    </tr>\n    <tr>\n      <th>3457</th>\n      <td>5</td>\n      <td>M</td>\n      <td>1.0</td>\n      <td>1.0</td>\n      <td>1.0</td>\n      <td>1.0</td>\n      <td>1.0</td>\n      <td>1.0</td>\n      <td>1.0</td>\n      <td>1.0</td>\n      <td>...</td>\n      <td>NaN</td>\n      <td>NaN</td>\n      <td>NaN</td>\n      <td>NaN</td>\n      <td>NaN</td>\n      <td>NaN</td>\n      <td>NaN</td>\n      <td>NaN</td>\n      <td>NaN</td>\n      <td>0.0</td>\n    </tr>\n    <tr>\n      <th>3713</th>\n      <td>45</td>\n      <td>F</td>\n      <td>10.0</td>\n      <td>10.0</td>\n      <td>5.0</td>\n      <td>5.0</td>\n      <td>5.0</td>\n      <td>5.0</td>\n      <td>2.0</td>\n      <td>2.0</td>\n      <td>...</td>\n      <td>2.0</td>\n      <td>1.0</td>\n      <td>6.0</td>\n      <td>4.250000</td>\n      <td>2.362908</td>\n      <td>17.0</td>\n      <td>4.0</td>\n      <td>17.0</td>\n      <td>4.0</td>\n      <td>0.0</td>\n    </tr>\n    <tr>\n      <th>...</th>\n      <td>...</td>\n      <td>...</td>\n      <td>...</td>\n      <td>...</td>\n      <td>...</td>\n      <td>...</td>\n      <td>...</td>\n      <td>...</td>\n      <td>...</td>\n      <td>...</td>\n      <td>...</td>\n      <td>...</td>\n      <td>...</td>\n      <td>...</td>\n      <td>...</td>\n      <td>...</td>\n      <td>...</td>\n      <td>...</td>\n      <td>...</td>\n      <td>...</td>\n      <td>...</td>\n    </tr>\n    <tr>\n      <th>99985996</th>\n      <td>-1</td>\n      <td>F</td>\n      <td>5.0</td>\n      <td>5.0</td>\n      <td>2.0</td>\n      <td>2.0</td>\n      <td>2.0</td>\n      <td>2.0</td>\n      <td>1.0</td>\n      <td>1.0</td>\n      <td>...</td>\n      <td>NaN</td>\n      <td>3.0</td>\n      <td>3.0</td>\n      <td>3.000000</td>\n      <td>0.000000</td>\n      <td>18.0</td>\n      <td>6.0</td>\n      <td>18.0</td>\n      <td>6.0</td>\n      <td>0.0</td>\n    </tr>\n    <tr>\n      <th>99987030</th>\n      <td>25</td>\n      <td>M</td>\n      <td>4.0</td>\n      <td>4.0</td>\n      <td>3.0</td>\n      <td>3.0</td>\n      <td>2.0</td>\n      <td>2.0</td>\n      <td>1.0</td>\n      <td>1.0</td>\n      <td>...</td>\n      <td>NaN</td>\n      <td>2.0</td>\n      <td>2.0</td>\n      <td>2.000000</td>\n      <td>NaN</td>\n      <td>2.0</td>\n      <td>1.0</td>\n      <td>2.0</td>\n      <td>1.0</td>\n      <td>0.0</td>\n    </tr>\n    <tr>\n      <th>99995391</th>\n      <td>65</td>\n      <td>NaN</td>\n      <td>11.0</td>\n      <td>11.0</td>\n      <td>2.0</td>\n      <td>2.0</td>\n      <td>2.0</td>\n      <td>2.0</td>\n      <td>1.0</td>\n      <td>1.0</td>\n      <td>...</td>\n      <td>1.0</td>\n      <td>1.0</td>\n      <td>3.0</td>\n      <td>2.333333</td>\n      <td>0.816497</td>\n      <td>14.0</td>\n      <td>6.0</td>\n      <td>14.0</td>\n      <td>6.0</td>\n      <td>0.0</td>\n    </tr>\n    <tr>\n      <th>99995554</th>\n      <td>45</td>\n      <td>M</td>\n      <td>50.0</td>\n      <td>15.0</td>\n      <td>3.0</td>\n      <td>3.0</td>\n      <td>3.0</td>\n      <td>3.0</td>\n      <td>1.0</td>\n      <td>1.0</td>\n      <td>...</td>\n      <td>1.0</td>\n      <td>1.0</td>\n      <td>4.0</td>\n      <td>2.000000</td>\n      <td>1.224745</td>\n      <td>10.0</td>\n      <td>5.0</td>\n      <td>2.0</td>\n      <td>1.0</td>\n      <td>0.0</td>\n    </tr>\n    <tr>\n      <th>99998824</th>\n      <td>35</td>\n      <td>F</td>\n      <td>8.0</td>\n      <td>8.0</td>\n      <td>5.0</td>\n      <td>5.0</td>\n      <td>6.0</td>\n      <td>6.0</td>\n      <td>1.0</td>\n      <td>1.0</td>\n      <td>...</td>\n      <td>2.0</td>\n      <td>NaN</td>\n      <td>NaN</td>\n      <td>NaN</td>\n      <td>NaN</td>\n      <td>NaN</td>\n      <td>NaN</td>\n      <td>NaN</td>\n      <td>NaN</td>\n      <td>0.0</td>\n    </tr>\n  </tbody>\n</table>\n<p>71435 rows × 139 columns</p>\n</div>"
     },
     "metadata": {},
     "execution_count": 42
    }
   ],
   "source": [
    "df_b"
   ]
  },
  {
   "cell_type": "code",
   "execution_count": 43,
   "metadata": {},
   "outputs": [
    {
     "output_type": "execute_result",
     "data": {
      "text/plain": [
       "AgeAtFirstClaim             0.000000\n",
       "Sex                         0.198124\n",
       "ClaimCount                  0.000000\n",
       "ClaimCountLatestYear        0.000000\n",
       "ProviderID                  0.000000\n",
       "                              ...   \n",
       "DrugCountSum                0.310380\n",
       "DrugClaimCount              0.310380\n",
       "DrugCountSumLatestYear      0.353090\n",
       "DrugClaimCountLatestYear    0.353090\n",
       "DaysInHospital              0.000000\n",
       "Length: 139, dtype: float64"
      ]
     },
     "metadata": {},
     "execution_count": 43
    }
   ],
   "source": [
    "missing_rate = df_b.isnull().sum() / df_b.shape[0]\n",
    "missing_rate"
   ]
  },
  {
   "cell_type": "code",
   "execution_count": 44,
   "metadata": {},
   "outputs": [
    {
     "output_type": "execute_result",
     "data": {
      "text/plain": [
       "Sex                         0.198124\n",
       "PayDelayStd                 0.038301\n",
       "PayDelayStdLatestYear       0.081389\n",
       "DSFSMin                     0.000112\n",
       "DSFSMax                     0.000112\n",
       "DSFSMaxLatestYear           0.000238\n",
       "LabCountMin                 0.195856\n",
       "LabCountMax                 0.195856\n",
       "LabCountAvg                 0.195856\n",
       "LabCountStd                 0.414769\n",
       "LabCountSum                 0.195856\n",
       "LabClaimCount               0.195856\n",
       "LabCountSumLatestYear       0.282313\n",
       "LabClaimCountLatestYear     0.282313\n",
       "DrugCountMin                0.310380\n",
       "DrugCountMax                0.310380\n",
       "DrugCountAvg                0.310380\n",
       "DrugCountStd                0.399034\n",
       "DrugCountSum                0.310380\n",
       "DrugClaimCount              0.310380\n",
       "DrugCountSumLatestYear      0.353090\n",
       "DrugClaimCountLatestYear    0.353090\n",
       "dtype: float64"
      ]
     },
     "metadata": {},
     "execution_count": 44
    }
   ],
   "source": [
    "need_remove = missing_rate[missing_rate != 0]\n",
    "need_remove"
   ]
  },
  {
   "cell_type": "code",
   "execution_count": 45,
   "metadata": {},
   "outputs": [
    {
     "output_type": "execute_result",
     "data": {
      "text/plain": [
       "{'category': ['F', 'M', 'NaN'], 'drop': 'F'}"
      ]
     },
     "metadata": {},
     "execution_count": 45
    }
   ],
   "source": [
    "one_hot_encode(df_b, \"Sex\")"
   ]
  },
  {
   "cell_type": "code",
   "execution_count": 46,
   "metadata": {},
   "outputs": [],
   "source": [
    "def fillna(df, params, otherwise=None):\n",
    "    for col, value in params:\n",
    "        df[col].fillna(value, inplace=True)\n",
    "    if otherwise is not None:\n",
    "        df.fillna(otherwise, inplace=True)"
   ]
  },
  {
   "cell_type": "code",
   "execution_count": 47,
   "metadata": {},
   "outputs": [],
   "source": [
    "params = [\n",
    "    (\"PayDelayStd\", -1.0),\n",
    "    (\"PayDelayStdLatestYear\", -1.0),\n",
    "    (\"LabCountStd\", -1.0),\n",
    "    (\"DrugCountStd\", -1.0)\n",
    "]"
   ]
  },
  {
   "cell_type": "code",
   "execution_count": 48,
   "metadata": {},
   "outputs": [],
   "source": [
    "fillna(df_b, params, otherwise=0.0)"
   ]
  },
  {
   "cell_type": "code",
   "execution_count": 50,
   "metadata": {},
   "outputs": [
    {
     "output_type": "execute_result",
     "data": {
      "text/plain": [
       "                               AgeAtFirstClaim  CharlsonIndexAvg  \\\n",
       "AgeAtFirstClaim                       1.000000          0.338440   \n",
       "CharlsonIndexAvg                      0.338440          1.000000   \n",
       "CharlsonIndexMax                      0.345161          0.898972   \n",
       "CharlsonIndexMaxLatestYear            0.341468          0.888988   \n",
       "CharlsonIndexMin                      0.163851          0.620612   \n",
       "...                                        ...               ...   \n",
       "SpecialtyCount_Rehabilitation         0.073745          0.052314   \n",
       "SpecialtyCount_Surgery                0.208473          0.227497   \n",
       "SpecialtyCount_nan                    0.065700          0.072833   \n",
       "Vendor                                0.272720          0.372345   \n",
       "VendorCountLatestYear                 0.254084          0.347621   \n",
       "\n",
       "                               CharlsonIndexMax  CharlsonIndexMaxLatestYear  \\\n",
       "AgeAtFirstClaim                        0.345161                    0.341468   \n",
       "CharlsonIndexAvg                       0.898972                    0.888988   \n",
       "CharlsonIndexMax                       1.000000                    0.963165   \n",
       "CharlsonIndexMaxLatestYear             0.963165                    1.000000   \n",
       "CharlsonIndexMin                       0.469252                    0.471095   \n",
       "...                                         ...                         ...   \n",
       "SpecialtyCount_Rehabilitation          0.058275                    0.055504   \n",
       "SpecialtyCount_Surgery                 0.252197                    0.246760   \n",
       "SpecialtyCount_nan                     0.077421                    0.077346   \n",
       "Vendor                                 0.406656                    0.404135   \n",
       "VendorCountLatestYear                  0.372363                    0.382891   \n",
       "\n",
       "                               CharlsonIndexMin  ClaimCount  \\\n",
       "AgeAtFirstClaim                        0.163851    0.343924   \n",
       "CharlsonIndexAvg                       0.620612    0.508744   \n",
       "CharlsonIndexMax                       0.469252    0.541178   \n",
       "CharlsonIndexMaxLatestYear             0.471095    0.537309   \n",
       "CharlsonIndexMin                       1.000000    0.187231   \n",
       "...                                         ...         ...   \n",
       "SpecialtyCount_Rehabilitation          0.006876    0.262992   \n",
       "SpecialtyCount_Surgery                 0.058591    0.531618   \n",
       "SpecialtyCount_nan                     0.048220    0.116385   \n",
       "Vendor                                 0.102208    0.756168   \n",
       "VendorCountLatestYear                  0.122200    0.667476   \n",
       "\n",
       "                               ClaimCountLatestYear   DSFSMax  \\\n",
       "AgeAtFirstClaim                            0.304874  0.298315   \n",
       "CharlsonIndexAvg                           0.474218  0.382586   \n",
       "CharlsonIndexMax                           0.497931  0.409648   \n",
       "CharlsonIndexMaxLatestYear                 0.506759  0.408547   \n",
       "CharlsonIndexMin                           0.189603  0.129554   \n",
       "...                                             ...       ...   \n",
       "SpecialtyCount_Rehabilitation              0.240647  0.141286   \n",
       "SpecialtyCount_Surgery                     0.468602  0.344097   \n",
       "SpecialtyCount_nan                         0.117781  0.063037   \n",
       "Vendor                                     0.693873  0.559334   \n",
       "VendorCountLatestYear                      0.776683  0.485856   \n",
       "\n",
       "                               DSFSMaxLatestYear   DSFSMin  ...  \\\n",
       "AgeAtFirstClaim                         0.294662  0.003600  ...   \n",
       "CharlsonIndexAvg                        0.392841  0.001034  ...   \n",
       "CharlsonIndexMax                        0.413295  0.002818  ...   \n",
       "CharlsonIndexMaxLatestYear              0.424716  0.002302  ...   \n",
       "CharlsonIndexMin                        0.150562  0.010475  ...   \n",
       "...                                          ...       ...  ...   \n",
       "SpecialtyCount_Rehabilitation           0.141503  0.003051  ...   \n",
       "SpecialtyCount_Surgery                  0.343846  0.005940  ...   \n",
       "SpecialtyCount_nan                      0.065447  0.002358  ...   \n",
       "Vendor                                  0.534718  0.008282  ...   \n",
       "VendorCountLatestYear                   0.548758  0.003691  ...   \n",
       "\n",
       "                               SpecialtyCount_Laboratory  \\\n",
       "AgeAtFirstClaim                                 0.321633   \n",
       "CharlsonIndexAvg                                0.383211   \n",
       "CharlsonIndexMax                                0.403256   \n",
       "CharlsonIndexMaxLatestYear                      0.402881   \n",
       "CharlsonIndexMin                                0.153581   \n",
       "...                                                  ...   \n",
       "SpecialtyCount_Rehabilitation                   0.049128   \n",
       "SpecialtyCount_Surgery                          0.208368   \n",
       "SpecialtyCount_nan                              0.030795   \n",
       "Vendor                                          0.357991   \n",
       "VendorCountLatestYear                           0.317167   \n",
       "\n",
       "                               SpecialtyCount_Obstetrics and Gynecology  \\\n",
       "AgeAtFirstClaim                                                0.067104   \n",
       "CharlsonIndexAvg                                               0.063580   \n",
       "CharlsonIndexMax                                               0.047798   \n",
       "CharlsonIndexMaxLatestYear                                     0.043653   \n",
       "CharlsonIndexMin                                               0.051030   \n",
       "...                                                                 ...   \n",
       "SpecialtyCount_Rehabilitation                                  0.012598   \n",
       "SpecialtyCount_Surgery                                         0.026463   \n",
       "SpecialtyCount_nan                                             0.066081   \n",
       "Vendor                                                         0.166906   \n",
       "VendorCountLatestYear                                          0.157317   \n",
       "\n",
       "                               SpecialtyCount_Other  SpecialtyCount_Pathology  \\\n",
       "AgeAtFirstClaim                            0.138848                  0.014686   \n",
       "CharlsonIndexAvg                           0.247632                  0.082153   \n",
       "CharlsonIndexMax                           0.257852                  0.103463   \n",
       "CharlsonIndexMaxLatestYear                 0.261319                  0.104681   \n",
       "CharlsonIndexMin                           0.117702                  0.015607   \n",
       "...                                             ...                       ...   \n",
       "SpecialtyCount_Rehabilitation              0.047455                  0.011682   \n",
       "SpecialtyCount_Surgery                     0.132503                  0.146253   \n",
       "SpecialtyCount_nan                         0.056282                  0.159669   \n",
       "Vendor                                     0.254352                  0.341181   \n",
       "VendorCountLatestYear                      0.236893                  0.306052   \n",
       "\n",
       "                               SpecialtyCount_Pediatrics  \\\n",
       "AgeAtFirstClaim                                 0.359232   \n",
       "CharlsonIndexAvg                                0.107563   \n",
       "CharlsonIndexMax                                0.103959   \n",
       "CharlsonIndexMaxLatestYear                      0.101881   \n",
       "CharlsonIndexMin                                0.059622   \n",
       "...                                                  ...   \n",
       "SpecialtyCount_Rehabilitation                   0.045630   \n",
       "SpecialtyCount_Surgery                          0.089006   \n",
       "SpecialtyCount_nan                              0.011109   \n",
       "Vendor                                          0.095037   \n",
       "VendorCountLatestYear                           0.098194   \n",
       "\n",
       "                               SpecialtyCount_Rehabilitation  \\\n",
       "AgeAtFirstClaim                                     0.073745   \n",
       "CharlsonIndexAvg                                    0.052314   \n",
       "CharlsonIndexMax                                    0.058275   \n",
       "CharlsonIndexMaxLatestYear                          0.055504   \n",
       "CharlsonIndexMin                                    0.006876   \n",
       "...                                                      ...   \n",
       "SpecialtyCount_Rehabilitation                       1.000000   \n",
       "SpecialtyCount_Surgery                              0.163251   \n",
       "SpecialtyCount_nan                                  0.005689   \n",
       "Vendor                                              0.219678   \n",
       "VendorCountLatestYear                               0.182692   \n",
       "\n",
       "                               SpecialtyCount_Surgery  SpecialtyCount_nan  \\\n",
       "AgeAtFirstClaim                              0.208473            0.065700   \n",
       "CharlsonIndexAvg                             0.227497            0.072833   \n",
       "CharlsonIndexMax                             0.252197            0.077421   \n",
       "CharlsonIndexMaxLatestYear                   0.246760            0.077346   \n",
       "CharlsonIndexMin                             0.058591            0.048220   \n",
       "...                                               ...                 ...   \n",
       "SpecialtyCount_Rehabilitation                0.163251            0.005689   \n",
       "SpecialtyCount_Surgery                       1.000000            0.053070   \n",
       "SpecialtyCount_nan                           0.053070            1.000000   \n",
       "Vendor                                       0.529723            0.143521   \n",
       "VendorCountLatestYear                        0.456561            0.126764   \n",
       "\n",
       "                                 Vendor  VendorCountLatestYear  \n",
       "AgeAtFirstClaim                0.272720               0.254084  \n",
       "CharlsonIndexAvg               0.372345               0.347621  \n",
       "CharlsonIndexMax               0.406656               0.372363  \n",
       "CharlsonIndexMaxLatestYear     0.404135               0.382891  \n",
       "CharlsonIndexMin               0.102208               0.122200  \n",
       "...                                 ...                    ...  \n",
       "SpecialtyCount_Rehabilitation  0.219678               0.182692  \n",
       "SpecialtyCount_Surgery         0.529723               0.456561  \n",
       "SpecialtyCount_nan             0.143521               0.126764  \n",
       "Vendor                         1.000000               0.854368  \n",
       "VendorCountLatestYear          0.854368               1.000000  \n",
       "\n",
       "[140 rows x 140 columns]"
      ],
      "text/html": "<div>\n<style scoped>\n    .dataframe tbody tr th:only-of-type {\n        vertical-align: middle;\n    }\n\n    .dataframe tbody tr th {\n        vertical-align: top;\n    }\n\n    .dataframe thead th {\n        text-align: right;\n    }\n</style>\n<table border=\"1\" class=\"dataframe\">\n  <thead>\n    <tr style=\"text-align: right;\">\n      <th></th>\n      <th>AgeAtFirstClaim</th>\n      <th>CharlsonIndexAvg</th>\n      <th>CharlsonIndexMax</th>\n      <th>CharlsonIndexMaxLatestYear</th>\n      <th>CharlsonIndexMin</th>\n      <th>ClaimCount</th>\n      <th>ClaimCountLatestYear</th>\n      <th>DSFSMax</th>\n      <th>DSFSMaxLatestYear</th>\n      <th>DSFSMin</th>\n      <th>...</th>\n      <th>SpecialtyCount_Laboratory</th>\n      <th>SpecialtyCount_Obstetrics and Gynecology</th>\n      <th>SpecialtyCount_Other</th>\n      <th>SpecialtyCount_Pathology</th>\n      <th>SpecialtyCount_Pediatrics</th>\n      <th>SpecialtyCount_Rehabilitation</th>\n      <th>SpecialtyCount_Surgery</th>\n      <th>SpecialtyCount_nan</th>\n      <th>Vendor</th>\n      <th>VendorCountLatestYear</th>\n    </tr>\n  </thead>\n  <tbody>\n    <tr>\n      <th>AgeAtFirstClaim</th>\n      <td>1.000000</td>\n      <td>0.338440</td>\n      <td>0.345161</td>\n      <td>0.341468</td>\n      <td>0.163851</td>\n      <td>0.343924</td>\n      <td>0.304874</td>\n      <td>0.298315</td>\n      <td>0.294662</td>\n      <td>0.003600</td>\n      <td>...</td>\n      <td>0.321633</td>\n      <td>0.067104</td>\n      <td>0.138848</td>\n      <td>0.014686</td>\n      <td>0.359232</td>\n      <td>0.073745</td>\n      <td>0.208473</td>\n      <td>0.065700</td>\n      <td>0.272720</td>\n      <td>0.254084</td>\n    </tr>\n    <tr>\n      <th>CharlsonIndexAvg</th>\n      <td>0.338440</td>\n      <td>1.000000</td>\n      <td>0.898972</td>\n      <td>0.888988</td>\n      <td>0.620612</td>\n      <td>0.508744</td>\n      <td>0.474218</td>\n      <td>0.382586</td>\n      <td>0.392841</td>\n      <td>0.001034</td>\n      <td>...</td>\n      <td>0.383211</td>\n      <td>0.063580</td>\n      <td>0.247632</td>\n      <td>0.082153</td>\n      <td>0.107563</td>\n      <td>0.052314</td>\n      <td>0.227497</td>\n      <td>0.072833</td>\n      <td>0.372345</td>\n      <td>0.347621</td>\n    </tr>\n    <tr>\n      <th>CharlsonIndexMax</th>\n      <td>0.345161</td>\n      <td>0.898972</td>\n      <td>1.000000</td>\n      <td>0.963165</td>\n      <td>0.469252</td>\n      <td>0.541178</td>\n      <td>0.497931</td>\n      <td>0.409648</td>\n      <td>0.413295</td>\n      <td>0.002818</td>\n      <td>...</td>\n      <td>0.403256</td>\n      <td>0.047798</td>\n      <td>0.257852</td>\n      <td>0.103463</td>\n      <td>0.103959</td>\n      <td>0.058275</td>\n      <td>0.252197</td>\n      <td>0.077421</td>\n      <td>0.406656</td>\n      <td>0.372363</td>\n    </tr>\n    <tr>\n      <th>CharlsonIndexMaxLatestYear</th>\n      <td>0.341468</td>\n      <td>0.888988</td>\n      <td>0.963165</td>\n      <td>1.000000</td>\n      <td>0.471095</td>\n      <td>0.537309</td>\n      <td>0.506759</td>\n      <td>0.408547</td>\n      <td>0.424716</td>\n      <td>0.002302</td>\n      <td>...</td>\n      <td>0.402881</td>\n      <td>0.043653</td>\n      <td>0.261319</td>\n      <td>0.104681</td>\n      <td>0.101881</td>\n      <td>0.055504</td>\n      <td>0.246760</td>\n      <td>0.077346</td>\n      <td>0.404135</td>\n      <td>0.382891</td>\n    </tr>\n    <tr>\n      <th>CharlsonIndexMin</th>\n      <td>0.163851</td>\n      <td>0.620612</td>\n      <td>0.469252</td>\n      <td>0.471095</td>\n      <td>1.000000</td>\n      <td>0.187231</td>\n      <td>0.189603</td>\n      <td>0.129554</td>\n      <td>0.150562</td>\n      <td>0.010475</td>\n      <td>...</td>\n      <td>0.153581</td>\n      <td>0.051030</td>\n      <td>0.117702</td>\n      <td>0.015607</td>\n      <td>0.059622</td>\n      <td>0.006876</td>\n      <td>0.058591</td>\n      <td>0.048220</td>\n      <td>0.102208</td>\n      <td>0.122200</td>\n    </tr>\n    <tr>\n      <th>...</th>\n      <td>...</td>\n      <td>...</td>\n      <td>...</td>\n      <td>...</td>\n      <td>...</td>\n      <td>...</td>\n      <td>...</td>\n      <td>...</td>\n      <td>...</td>\n      <td>...</td>\n      <td>...</td>\n      <td>...</td>\n      <td>...</td>\n      <td>...</td>\n      <td>...</td>\n      <td>...</td>\n      <td>...</td>\n      <td>...</td>\n      <td>...</td>\n      <td>...</td>\n      <td>...</td>\n    </tr>\n    <tr>\n      <th>SpecialtyCount_Rehabilitation</th>\n      <td>0.073745</td>\n      <td>0.052314</td>\n      <td>0.058275</td>\n      <td>0.055504</td>\n      <td>0.006876</td>\n      <td>0.262992</td>\n      <td>0.240647</td>\n      <td>0.141286</td>\n      <td>0.141503</td>\n      <td>0.003051</td>\n      <td>...</td>\n      <td>0.049128</td>\n      <td>0.012598</td>\n      <td>0.047455</td>\n      <td>0.011682</td>\n      <td>0.045630</td>\n      <td>1.000000</td>\n      <td>0.163251</td>\n      <td>0.005689</td>\n      <td>0.219678</td>\n      <td>0.182692</td>\n    </tr>\n    <tr>\n      <th>SpecialtyCount_Surgery</th>\n      <td>0.208473</td>\n      <td>0.227497</td>\n      <td>0.252197</td>\n      <td>0.246760</td>\n      <td>0.058591</td>\n      <td>0.531618</td>\n      <td>0.468602</td>\n      <td>0.344097</td>\n      <td>0.343846</td>\n      <td>0.005940</td>\n      <td>...</td>\n      <td>0.208368</td>\n      <td>0.026463</td>\n      <td>0.132503</td>\n      <td>0.146253</td>\n      <td>0.089006</td>\n      <td>0.163251</td>\n      <td>1.000000</td>\n      <td>0.053070</td>\n      <td>0.529723</td>\n      <td>0.456561</td>\n    </tr>\n    <tr>\n      <th>SpecialtyCount_nan</th>\n      <td>0.065700</td>\n      <td>0.072833</td>\n      <td>0.077421</td>\n      <td>0.077346</td>\n      <td>0.048220</td>\n      <td>0.116385</td>\n      <td>0.117781</td>\n      <td>0.063037</td>\n      <td>0.065447</td>\n      <td>0.002358</td>\n      <td>...</td>\n      <td>0.030795</td>\n      <td>0.066081</td>\n      <td>0.056282</td>\n      <td>0.159669</td>\n      <td>0.011109</td>\n      <td>0.005689</td>\n      <td>0.053070</td>\n      <td>1.000000</td>\n      <td>0.143521</td>\n      <td>0.126764</td>\n    </tr>\n    <tr>\n      <th>Vendor</th>\n      <td>0.272720</td>\n      <td>0.372345</td>\n      <td>0.406656</td>\n      <td>0.404135</td>\n      <td>0.102208</td>\n      <td>0.756168</td>\n      <td>0.693873</td>\n      <td>0.559334</td>\n      <td>0.534718</td>\n      <td>0.008282</td>\n      <td>...</td>\n      <td>0.357991</td>\n      <td>0.166906</td>\n      <td>0.254352</td>\n      <td>0.341181</td>\n      <td>0.095037</td>\n      <td>0.219678</td>\n      <td>0.529723</td>\n      <td>0.143521</td>\n      <td>1.000000</td>\n      <td>0.854368</td>\n    </tr>\n    <tr>\n      <th>VendorCountLatestYear</th>\n      <td>0.254084</td>\n      <td>0.347621</td>\n      <td>0.372363</td>\n      <td>0.382891</td>\n      <td>0.122200</td>\n      <td>0.667476</td>\n      <td>0.776683</td>\n      <td>0.485856</td>\n      <td>0.548758</td>\n      <td>0.003691</td>\n      <td>...</td>\n      <td>0.317167</td>\n      <td>0.157317</td>\n      <td>0.236893</td>\n      <td>0.306052</td>\n      <td>0.098194</td>\n      <td>0.182692</td>\n      <td>0.456561</td>\n      <td>0.126764</td>\n      <td>0.854368</td>\n      <td>1.000000</td>\n    </tr>\n  </tbody>\n</table>\n<p>140 rows × 140 columns</p>\n</div>"
     },
     "metadata": {},
     "execution_count": 50
    }
   ],
   "source": [
    "d2 = df_b.sample(10000)\n",
    "cor = d2[d2.columns.difference(['DaysInHospital'])].corr().abs()\n",
    "cor"
   ]
  },
  {
   "cell_type": "code",
   "execution_count": 51,
   "metadata": {},
   "outputs": [
    {
     "output_type": "stream",
     "name": "stdout",
     "text": [
      "Row: CharlsonIndexAvg, Col: CharlsonIndexMax, corr=0.8989719354731243\nRow: ClaimCount, Col: LengthOfStayCountNan, corr=0.9984036025433519\nRow: ClaimCount, Col: PayDelaySum, corr=0.9165083727684302\nRow: ClaimCount, Col: PlaceSvcCount_Office, corr=0.8735005147568417\nRow: ClaimCount, Col: ProcedureGroupCount_EM, corr=0.8714340831463671\nRow: ClaimCount, Col: ProviderID, corr=0.8114088988285968\nRow: DrugClaimCount, Col: DrugCountMax, corr=0.8149334329025719\nRow: DrugClaimCount, Col: DrugCountSum, corr=0.8635658594471818\nRow: DrugCountAvg, Col: DrugCountMax, corr=0.9203876968800234\nRow: DrugCountAvg, Col: DrugCountMin, corr=0.784951557311069\nRow: DrugCountAvg, Col: DrugCountSum, corr=0.8372177789429649\nRow: DrugCountMax, Col: DrugCountStd, corr=0.8987627329706268\nRow: DrugCountMax, Col: DrugCountSum, corr=0.8094694508297253\nRow: LabClaimCount, Col: LabCountSum, corr=0.861386408610164\nRow: LabClaimCount, Col: PlaceSvcCount_Independent Lab, corr=0.9126434624279098\nRow: LabClaimCount, Col: ProcedureGroupCount_PL, corr=0.948025447084738\nRow: LabClaimCount, Col: SpecialtyCount_Laboratory, corr=0.9116812986252876\nRow: LabCountAvg, Col: LabCountMax, corr=0.8554566714493811\nRow: LabCountAvg, Col: LabCountMin, corr=0.8198161395827184\nRow: LabCountMax, Col: LabCountSum, corr=0.7390212564436325\nRow: LabCountSum, Col: ProcedureGroupCount_PL, corr=0.8196837828241569\nRow: LengthOfStayAvg, Col: LengthOfStayMax, corr=0.9221803097739567\nRow: LengthOfStayAvg, Col: LengthOfStayMin, corr=0.812827448011578\nRow: LengthOfStayAvg, Col: LengthOfStaySum, corr=0.598827138930578\nRow: LengthOfStayCountNan, Col: PayDelaySum, corr=0.9128416548031637\nRow: LengthOfStayCountNan, Col: PlaceSvcCount_Office, corr=0.8783139674463383\nRow: LengthOfStayCountNan, Col: ProcedureGroupCount_EM, corr=0.8705803932776973\nRow: LengthOfStayCountNan, Col: ProviderID, corr=0.797105263504576\nRow: LengthOfStayMax, Col: LengthOfStayMin, corr=0.6032628396160411\nRow: LengthOfStayMax, Col: LengthOfStaySum, corr=0.6226329661881037\nRow: PayDelayMax, Col: PayDelayStd, corr=0.8322702577120502\nRow: PayDelaySum, Col: PlaceSvcCount_Office, corr=0.8256749032388847\nRow: PayDelaySum, Col: ProcedureGroupCount_EM, corr=0.8367056569652811\nRow: PlaceSvcCount_Independent Lab, Col: ProcedureGroupCount_PL, corr=0.935926140645433\nRow: PlaceSvcCount_Independent Lab, Col: ProcedureGroupCount_SCS, corr=0.9281022981301184\nRow: PlaceSvcCount_Independent Lab, Col: SpecialtyCount_Laboratory, corr=0.9986692978264091\nRow: PlaceSvcCount_Office, Col: ProcedureGroupCount_EM, corr=0.8716754164840456\nRow: ProcedureGroupCount_PL, Col: SpecialtyCount_Laboratory, corr=0.9348615564693332\nRow: ProcedureGroupCount_RAD, Col: SpecialtyCount_Diagnostic Imaging, corr=0.8644376266905158\nRow: ProcedureGroupCount_SCS, Col: SpecialtyCount_Laboratory, corr=0.9269668559054154\nRow: ProviderID, Col: Vendor, corr=0.934515655217607\n"
     ]
    }
   ],
   "source": [
    "for row, col in high_corr:\n",
    "    print(\"Row: %s, Col: %s, corr=%s\" % (row, col, cor[row][col]))"
   ]
  },
  {
   "cell_type": "code",
   "execution_count": 52,
   "metadata": {},
   "outputs": [],
   "source": [
    "remove_col_b = [\"CharlsonIndexAvg\", \"LengthOfStayCountNan\", \"PayDelaySum\", \"ProviderID\", \"Vendor\", \"DrugCountMax\", \"DrugCountSum\", \"DrugCountMin\", \"DrugCountStd\", \"LabCountSum\", \"LabCountMax\", \"LabCountMin\", \"LengthOfStayMax\", \"LengthOfStayMin\", \"LengthOfStaySum\", \"PayDelayStd\", \"PlaceSvcCount_Independent Lab\", \"PlaceSvcCount_Office\" ]"
   ]
  },
  {
   "cell_type": "code",
   "execution_count": 53,
   "metadata": {},
   "outputs": [],
   "source": [
    "df_b.drop(columns=remove_col_b, inplace=True)"
   ]
  },
  {
   "cell_type": "code",
   "execution_count": 54,
   "metadata": {},
   "outputs": [
    {
     "output_type": "execute_result",
     "data": {
      "text/plain": [
       "          AgeAtFirstClaim  ClaimCount  ClaimCountLatestYear  \\\n",
       "MemberID                                                      \n",
       "4                       5         1.0                   1.0   \n",
       "210                    35        14.0                   6.0   \n",
       "3197                    5        10.0                   5.0   \n",
       "3457                    5         1.0                   1.0   \n",
       "3713                   45        10.0                  10.0   \n",
       "...                   ...         ...                   ...   \n",
       "99985996               -1         5.0                   5.0   \n",
       "99987030               25         4.0                   4.0   \n",
       "99995391               65        11.0                  11.0   \n",
       "99995554               45        50.0                  15.0   \n",
       "99998824               35         8.0                   8.0   \n",
       "\n",
       "          ProviderCountLatestYear  VendorCountLatestYear  PCP  \\\n",
       "MemberID                                                        \n",
       "4                             1.0                    1.0  1.0   \n",
       "210                           3.0                    3.0  2.0   \n",
       "3197                          4.0                    3.0  1.0   \n",
       "3457                          1.0                    1.0  1.0   \n",
       "3713                          5.0                    5.0  2.0   \n",
       "...                           ...                    ...  ...   \n",
       "99985996                      2.0                    2.0  1.0   \n",
       "99987030                      3.0                    2.0  1.0   \n",
       "99995391                      2.0                    2.0  1.0   \n",
       "99995554                      3.0                    3.0  1.0   \n",
       "99998824                      5.0                    6.0  1.0   \n",
       "\n",
       "          PCPCountLatestYear  SpecialtyCount_Surgery  \\\n",
       "MemberID                                               \n",
       "4                        1.0                     0.0   \n",
       "210                      1.0                     0.0   \n",
       "3197                     1.0                     0.0   \n",
       "3457                     1.0                     0.0   \n",
       "3713                     2.0                     0.0   \n",
       "...                      ...                     ...   \n",
       "99985996                 1.0                     1.0   \n",
       "99987030                 1.0                     0.0   \n",
       "99995391                 1.0                     5.0   \n",
       "99995554                 1.0                     0.0   \n",
       "99998824                 1.0                     0.0   \n",
       "\n",
       "          SpecialtyCount_Rehabilitation  SpecialtyCount_Diagnostic Imaging  \\\n",
       "MemberID                                                                     \n",
       "4                                   0.0                                0.0   \n",
       "210                                 0.0                                0.0   \n",
       "3197                                0.0                                1.0   \n",
       "3457                                0.0                                0.0   \n",
       "3713                                0.0                                1.0   \n",
       "...                                 ...                                ...   \n",
       "99985996                            0.0                                0.0   \n",
       "99987030                            0.0                                0.0   \n",
       "99995391                            0.0                                0.0   \n",
       "99995554                            0.0                                0.0   \n",
       "99998824                            0.0                                0.0   \n",
       "\n",
       "          ...  LabCountSumLatestYear  LabClaimCountLatestYear  DrugCountAvg  \\\n",
       "MemberID  ...                                                                 \n",
       "4         ...                    0.0                      0.0      0.000000   \n",
       "210       ...                    1.0                      1.0      1.666667   \n",
       "3197      ...                    2.0                      1.0      1.333333   \n",
       "3457      ...                    0.0                      0.0      0.000000   \n",
       "3713      ...                    9.0                      2.0      4.250000   \n",
       "...       ...                    ...                      ...           ...   \n",
       "99985996  ...                    0.0                      0.0      3.000000   \n",
       "99987030  ...                    0.0                      0.0      2.000000   \n",
       "99995391  ...                    1.0                      1.0      2.333333   \n",
       "99995554  ...                   10.0                      1.0      2.000000   \n",
       "99998824  ...                    5.0                      2.0      0.000000   \n",
       "\n",
       "          DrugClaimCount  DrugCountSumLatestYear  DrugClaimCountLatestYear  \\\n",
       "MemberID                                                                     \n",
       "4                    0.0                     0.0                       0.0   \n",
       "210                  3.0                     0.0                       0.0   \n",
       "3197                 6.0                     3.0                       2.0   \n",
       "3457                 0.0                     0.0                       0.0   \n",
       "3713                 4.0                    17.0                       4.0   \n",
       "...                  ...                     ...                       ...   \n",
       "99985996             6.0                    18.0                       6.0   \n",
       "99987030             1.0                     2.0                       1.0   \n",
       "99995391             6.0                    14.0                       6.0   \n",
       "99995554             5.0                     2.0                       1.0   \n",
       "99998824             0.0                     0.0                       0.0   \n",
       "\n",
       "          DaysInHospital  Sex_F  Sex_M  Sex_NaN  \n",
       "MemberID                                         \n",
       "4                    0.0      0      1        0  \n",
       "210                  0.0      0      0        1  \n",
       "3197                 0.0      1      0        0  \n",
       "3457                 0.0      0      1        0  \n",
       "3713                 0.0      1      0        0  \n",
       "...                  ...    ...    ...      ...  \n",
       "99985996             0.0      1      0        0  \n",
       "99987030             0.0      0      1        0  \n",
       "99995391             0.0      0      0        1  \n",
       "99995554             0.0      0      1        0  \n",
       "99998824             0.0      1      0        0  \n",
       "\n",
       "[71435 rows x 123 columns]"
      ],
      "text/html": "<div>\n<style scoped>\n    .dataframe tbody tr th:only-of-type {\n        vertical-align: middle;\n    }\n\n    .dataframe tbody tr th {\n        vertical-align: top;\n    }\n\n    .dataframe thead th {\n        text-align: right;\n    }\n</style>\n<table border=\"1\" class=\"dataframe\">\n  <thead>\n    <tr style=\"text-align: right;\">\n      <th></th>\n      <th>AgeAtFirstClaim</th>\n      <th>ClaimCount</th>\n      <th>ClaimCountLatestYear</th>\n      <th>ProviderCountLatestYear</th>\n      <th>VendorCountLatestYear</th>\n      <th>PCP</th>\n      <th>PCPCountLatestYear</th>\n      <th>SpecialtyCount_Surgery</th>\n      <th>SpecialtyCount_Rehabilitation</th>\n      <th>SpecialtyCount_Diagnostic Imaging</th>\n      <th>...</th>\n      <th>LabCountSumLatestYear</th>\n      <th>LabClaimCountLatestYear</th>\n      <th>DrugCountAvg</th>\n      <th>DrugClaimCount</th>\n      <th>DrugCountSumLatestYear</th>\n      <th>DrugClaimCountLatestYear</th>\n      <th>DaysInHospital</th>\n      <th>Sex_F</th>\n      <th>Sex_M</th>\n      <th>Sex_NaN</th>\n    </tr>\n    <tr>\n      <th>MemberID</th>\n      <th></th>\n      <th></th>\n      <th></th>\n      <th></th>\n      <th></th>\n      <th></th>\n      <th></th>\n      <th></th>\n      <th></th>\n      <th></th>\n      <th></th>\n      <th></th>\n      <th></th>\n      <th></th>\n      <th></th>\n      <th></th>\n      <th></th>\n      <th></th>\n      <th></th>\n      <th></th>\n      <th></th>\n    </tr>\n  </thead>\n  <tbody>\n    <tr>\n      <th>4</th>\n      <td>5</td>\n      <td>1.0</td>\n      <td>1.0</td>\n      <td>1.0</td>\n      <td>1.0</td>\n      <td>1.0</td>\n      <td>1.0</td>\n      <td>0.0</td>\n      <td>0.0</td>\n      <td>0.0</td>\n      <td>...</td>\n      <td>0.0</td>\n      <td>0.0</td>\n      <td>0.000000</td>\n      <td>0.0</td>\n      <td>0.0</td>\n      <td>0.0</td>\n      <td>0.0</td>\n      <td>0</td>\n      <td>1</td>\n      <td>0</td>\n    </tr>\n    <tr>\n      <th>210</th>\n      <td>35</td>\n      <td>14.0</td>\n      <td>6.0</td>\n      <td>3.0</td>\n      <td>3.0</td>\n      <td>2.0</td>\n      <td>1.0</td>\n      <td>0.0</td>\n      <td>0.0</td>\n      <td>0.0</td>\n      <td>...</td>\n      <td>1.0</td>\n      <td>1.0</td>\n      <td>1.666667</td>\n      <td>3.0</td>\n      <td>0.0</td>\n      <td>0.0</td>\n      <td>0.0</td>\n      <td>0</td>\n      <td>0</td>\n      <td>1</td>\n    </tr>\n    <tr>\n      <th>3197</th>\n      <td>5</td>\n      <td>10.0</td>\n      <td>5.0</td>\n      <td>4.0</td>\n      <td>3.0</td>\n      <td>1.0</td>\n      <td>1.0</td>\n      <td>0.0</td>\n      <td>0.0</td>\n      <td>1.0</td>\n      <td>...</td>\n      <td>2.0</td>\n      <td>1.0</td>\n      <td>1.333333</td>\n      <td>6.0</td>\n      <td>3.0</td>\n      <td>2.0</td>\n      <td>0.0</td>\n      <td>1</td>\n      <td>0</td>\n      <td>0</td>\n    </tr>\n    <tr>\n      <th>3457</th>\n      <td>5</td>\n      <td>1.0</td>\n      <td>1.0</td>\n      <td>1.0</td>\n      <td>1.0</td>\n      <td>1.0</td>\n      <td>1.0</td>\n      <td>0.0</td>\n      <td>0.0</td>\n      <td>0.0</td>\n      <td>...</td>\n      <td>0.0</td>\n      <td>0.0</td>\n      <td>0.000000</td>\n      <td>0.0</td>\n      <td>0.0</td>\n      <td>0.0</td>\n      <td>0.0</td>\n      <td>0</td>\n      <td>1</td>\n      <td>0</td>\n    </tr>\n    <tr>\n      <th>3713</th>\n      <td>45</td>\n      <td>10.0</td>\n      <td>10.0</td>\n      <td>5.0</td>\n      <td>5.0</td>\n      <td>2.0</td>\n      <td>2.0</td>\n      <td>0.0</td>\n      <td>0.0</td>\n      <td>1.0</td>\n      <td>...</td>\n      <td>9.0</td>\n      <td>2.0</td>\n      <td>4.250000</td>\n      <td>4.0</td>\n      <td>17.0</td>\n      <td>4.0</td>\n      <td>0.0</td>\n      <td>1</td>\n      <td>0</td>\n      <td>0</td>\n    </tr>\n    <tr>\n      <th>...</th>\n      <td>...</td>\n      <td>...</td>\n      <td>...</td>\n      <td>...</td>\n      <td>...</td>\n      <td>...</td>\n      <td>...</td>\n      <td>...</td>\n      <td>...</td>\n      <td>...</td>\n      <td>...</td>\n      <td>...</td>\n      <td>...</td>\n      <td>...</td>\n      <td>...</td>\n      <td>...</td>\n      <td>...</td>\n      <td>...</td>\n      <td>...</td>\n      <td>...</td>\n      <td>...</td>\n    </tr>\n    <tr>\n      <th>99985996</th>\n      <td>-1</td>\n      <td>5.0</td>\n      <td>5.0</td>\n      <td>2.0</td>\n      <td>2.0</td>\n      <td>1.0</td>\n      <td>1.0</td>\n      <td>1.0</td>\n      <td>0.0</td>\n      <td>0.0</td>\n      <td>...</td>\n      <td>0.0</td>\n      <td>0.0</td>\n      <td>3.000000</td>\n      <td>6.0</td>\n      <td>18.0</td>\n      <td>6.0</td>\n      <td>0.0</td>\n      <td>1</td>\n      <td>0</td>\n      <td>0</td>\n    </tr>\n    <tr>\n      <th>99987030</th>\n      <td>25</td>\n      <td>4.0</td>\n      <td>4.0</td>\n      <td>3.0</td>\n      <td>2.0</td>\n      <td>1.0</td>\n      <td>1.0</td>\n      <td>0.0</td>\n      <td>0.0</td>\n      <td>0.0</td>\n      <td>...</td>\n      <td>0.0</td>\n      <td>0.0</td>\n      <td>2.000000</td>\n      <td>1.0</td>\n      <td>2.0</td>\n      <td>1.0</td>\n      <td>0.0</td>\n      <td>0</td>\n      <td>1</td>\n      <td>0</td>\n    </tr>\n    <tr>\n      <th>99995391</th>\n      <td>65</td>\n      <td>11.0</td>\n      <td>11.0</td>\n      <td>2.0</td>\n      <td>2.0</td>\n      <td>1.0</td>\n      <td>1.0</td>\n      <td>5.0</td>\n      <td>0.0</td>\n      <td>0.0</td>\n      <td>...</td>\n      <td>1.0</td>\n      <td>1.0</td>\n      <td>2.333333</td>\n      <td>6.0</td>\n      <td>14.0</td>\n      <td>6.0</td>\n      <td>0.0</td>\n      <td>0</td>\n      <td>0</td>\n      <td>1</td>\n    </tr>\n    <tr>\n      <th>99995554</th>\n      <td>45</td>\n      <td>50.0</td>\n      <td>15.0</td>\n      <td>3.0</td>\n      <td>3.0</td>\n      <td>1.0</td>\n      <td>1.0</td>\n      <td>0.0</td>\n      <td>0.0</td>\n      <td>0.0</td>\n      <td>...</td>\n      <td>10.0</td>\n      <td>1.0</td>\n      <td>2.000000</td>\n      <td>5.0</td>\n      <td>2.0</td>\n      <td>1.0</td>\n      <td>0.0</td>\n      <td>0</td>\n      <td>1</td>\n      <td>0</td>\n    </tr>\n    <tr>\n      <th>99998824</th>\n      <td>35</td>\n      <td>8.0</td>\n      <td>8.0</td>\n      <td>5.0</td>\n      <td>6.0</td>\n      <td>1.0</td>\n      <td>1.0</td>\n      <td>0.0</td>\n      <td>0.0</td>\n      <td>0.0</td>\n      <td>...</td>\n      <td>5.0</td>\n      <td>2.0</td>\n      <td>0.000000</td>\n      <td>0.0</td>\n      <td>0.0</td>\n      <td>0.0</td>\n      <td>0.0</td>\n      <td>1</td>\n      <td>0</td>\n      <td>0</td>\n    </tr>\n  </tbody>\n</table>\n<p>71435 rows × 123 columns</p>\n</div>"
     },
     "metadata": {},
     "execution_count": 54
    }
   ],
   "source": [
    "df_b"
   ]
  },
  {
   "cell_type": "code",
   "execution_count": 55,
   "metadata": {},
   "outputs": [],
   "source": [
    "X = df_b[df_b.columns.difference([\"DaysInHospital\"])]"
   ]
  },
  {
   "cell_type": "code",
   "execution_count": 56,
   "metadata": {},
   "outputs": [],
   "source": [
    "y = df_b[[\"DaysInHospital\"]]"
   ]
  },
  {
   "cell_type": "code",
   "execution_count": 57,
   "metadata": {},
   "outputs": [
    {
     "output_type": "execute_result",
     "data": {
      "text/plain": [
       "          DaysInHospital\n",
       "MemberID                \n",
       "4                    0.0\n",
       "210                  0.0\n",
       "3197                 0.0\n",
       "3457                 0.0\n",
       "3713                 0.0\n",
       "...                  ...\n",
       "99985996             0.0\n",
       "99987030             0.0\n",
       "99995391             0.0\n",
       "99995554             0.0\n",
       "99998824             0.0\n",
       "\n",
       "[71435 rows x 1 columns]"
      ],
      "text/html": "<div>\n<style scoped>\n    .dataframe tbody tr th:only-of-type {\n        vertical-align: middle;\n    }\n\n    .dataframe tbody tr th {\n        vertical-align: top;\n    }\n\n    .dataframe thead th {\n        text-align: right;\n    }\n</style>\n<table border=\"1\" class=\"dataframe\">\n  <thead>\n    <tr style=\"text-align: right;\">\n      <th></th>\n      <th>DaysInHospital</th>\n    </tr>\n    <tr>\n      <th>MemberID</th>\n      <th></th>\n    </tr>\n  </thead>\n  <tbody>\n    <tr>\n      <th>4</th>\n      <td>0.0</td>\n    </tr>\n    <tr>\n      <th>210</th>\n      <td>0.0</td>\n    </tr>\n    <tr>\n      <th>3197</th>\n      <td>0.0</td>\n    </tr>\n    <tr>\n      <th>3457</th>\n      <td>0.0</td>\n    </tr>\n    <tr>\n      <th>3713</th>\n      <td>0.0</td>\n    </tr>\n    <tr>\n      <th>...</th>\n      <td>...</td>\n    </tr>\n    <tr>\n      <th>99985996</th>\n      <td>0.0</td>\n    </tr>\n    <tr>\n      <th>99987030</th>\n      <td>0.0</td>\n    </tr>\n    <tr>\n      <th>99995391</th>\n      <td>0.0</td>\n    </tr>\n    <tr>\n      <th>99995554</th>\n      <td>0.0</td>\n    </tr>\n    <tr>\n      <th>99998824</th>\n      <td>0.0</td>\n    </tr>\n  </tbody>\n</table>\n<p>71435 rows × 1 columns</p>\n</div>"
     },
     "metadata": {},
     "execution_count": 57
    }
   ],
   "source": [
    "y"
   ]
  },
  {
   "cell_type": "code",
   "execution_count": 58,
   "metadata": {},
   "outputs": [],
   "source": [
    "X_b_train, X_b_test, y_b_train, y_b_test = train_test_split(X, y, test_size=0.2, random_state=1)"
   ]
  },
  {
   "cell_type": "code",
   "execution_count": 59,
   "metadata": {},
   "outputs": [
    {
     "output_type": "execute_result",
     "data": {
      "text/plain": [
       "          DaysInHospital\n",
       "MemberID                \n",
       "7641328              0.0\n",
       "83061669             0.0\n",
       "84824313             2.0\n",
       "61515689             0.0\n",
       "92459860             3.0\n",
       "...                  ...\n",
       "68849480             0.0\n",
       "28574896             0.0\n",
       "29790245             0.0\n",
       "70200029             1.0\n",
       "7270346              0.0\n",
       "\n",
       "[57148 rows x 1 columns]"
      ],
      "text/html": "<div>\n<style scoped>\n    .dataframe tbody tr th:only-of-type {\n        vertical-align: middle;\n    }\n\n    .dataframe tbody tr th {\n        vertical-align: top;\n    }\n\n    .dataframe thead th {\n        text-align: right;\n    }\n</style>\n<table border=\"1\" class=\"dataframe\">\n  <thead>\n    <tr style=\"text-align: right;\">\n      <th></th>\n      <th>DaysInHospital</th>\n    </tr>\n    <tr>\n      <th>MemberID</th>\n      <th></th>\n    </tr>\n  </thead>\n  <tbody>\n    <tr>\n      <th>7641328</th>\n      <td>0.0</td>\n    </tr>\n    <tr>\n      <th>83061669</th>\n      <td>0.0</td>\n    </tr>\n    <tr>\n      <th>84824313</th>\n      <td>2.0</td>\n    </tr>\n    <tr>\n      <th>61515689</th>\n      <td>0.0</td>\n    </tr>\n    <tr>\n      <th>92459860</th>\n      <td>3.0</td>\n    </tr>\n    <tr>\n      <th>...</th>\n      <td>...</td>\n    </tr>\n    <tr>\n      <th>68849480</th>\n      <td>0.0</td>\n    </tr>\n    <tr>\n      <th>28574896</th>\n      <td>0.0</td>\n    </tr>\n    <tr>\n      <th>29790245</th>\n      <td>0.0</td>\n    </tr>\n    <tr>\n      <th>70200029</th>\n      <td>1.0</td>\n    </tr>\n    <tr>\n      <th>7270346</th>\n      <td>0.0</td>\n    </tr>\n  </tbody>\n</table>\n<p>57148 rows × 1 columns</p>\n</div>"
     },
     "metadata": {},
     "execution_count": 59
    }
   ],
   "source": [
    "y_b_train"
   ]
  },
  {
   "cell_type": "code",
   "execution_count": 60,
   "metadata": {},
   "outputs": [],
   "source": [
    "df_b.to_csv(\"./processed/strategy-b/dataset.csv\")\n",
    "X_b_train.to_csv(\"./processed/strategy-b/train/X_train.csv\")\n",
    "y_b_train.to_csv(\"./processed/strategy-b/train/y_train.csv\")\n",
    "X_b_test.to_csv(\"./processed/strategy-b/test/X_test.csv\")\n",
    "y_b_test.to_csv(\"./processed/strategy-b/test/y_test.csv\")"
   ]
  },
  {
   "cell_type": "code",
   "execution_count": null,
   "metadata": {},
   "outputs": [],
   "source": []
  }
 ]
}