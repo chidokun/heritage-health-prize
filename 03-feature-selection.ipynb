{
 "metadata": {
  "language_info": {
   "codemirror_mode": {
    "name": "ipython",
    "version": 3
   },
   "file_extension": ".py",
   "mimetype": "text/x-python",
   "name": "python",
   "nbconvert_exporter": "python",
   "pygments_lexer": "ipython3",
   "version": "3.7.7-final"
  },
  "orig_nbformat": 2,
  "kernelspec": {
   "name": "python3",
   "display_name": "Python 3"
  }
 },
 "nbformat": 4,
 "nbformat_minor": 2,
 "cells": [
  {
   "source": [
    "# Feature Selection"
   ],
   "cell_type": "markdown",
   "metadata": {}
  },
  {
   "cell_type": "code",
   "execution_count": 20,
   "metadata": {},
   "outputs": [],
   "source": [
    "import numpy as np # Linear algebra\n",
    "import pandas as pd # Data processing, CSV file I/O (e.g. pd.read_csv)\n",
    "\n",
    "import matplotlib.pyplot as plt  # Matlab-style plotting\n",
    "# Make sure plot shows immediately\n",
    "%matplotlib inline \n",
    "import seaborn as sns # Library for plotting\n",
    "color = sns.color_palette()\n",
    "sns.set_style('darkgrid')"
   ]
  },
  {
   "cell_type": "code",
   "execution_count": 21,
   "metadata": {},
   "outputs": [],
   "source": [
    "df_member = pd.read_csv(\"./processed/Members.csv\", index_col=[\"MemberID\"])"
   ]
  },
  {
   "cell_type": "code",
   "execution_count": 22,
   "metadata": {},
   "outputs": [
    {
     "output_type": "execute_result",
     "data": {
      "text/plain": [
       "          AgeAtFirstClaim  Sex_M  Sex_NaN\n",
       "MemberID                                 \n",
       "14723353             75.0      1        0\n",
       "75706636             75.0      1        0\n",
       "17320609             75.0      1        0\n",
       "69690888             45.0      1        0\n",
       "33004608              5.0      1        0\n",
       "...                   ...    ...      ...\n",
       "99711514             45.0      0        0\n",
       "31690877             55.0      0        0\n",
       "9519985              35.0      0        0\n",
       "92806272             55.0      0        0\n",
       "81827173             45.0      0        0\n",
       "\n",
       "[113000 rows x 3 columns]"
      ],
      "text/html": "<div>\n<style scoped>\n    .dataframe tbody tr th:only-of-type {\n        vertical-align: middle;\n    }\n\n    .dataframe tbody tr th {\n        vertical-align: top;\n    }\n\n    .dataframe thead th {\n        text-align: right;\n    }\n</style>\n<table border=\"1\" class=\"dataframe\">\n  <thead>\n    <tr style=\"text-align: right;\">\n      <th></th>\n      <th>AgeAtFirstClaim</th>\n      <th>Sex_M</th>\n      <th>Sex_NaN</th>\n    </tr>\n    <tr>\n      <th>MemberID</th>\n      <th></th>\n      <th></th>\n      <th></th>\n    </tr>\n  </thead>\n  <tbody>\n    <tr>\n      <th>14723353</th>\n      <td>75.0</td>\n      <td>1</td>\n      <td>0</td>\n    </tr>\n    <tr>\n      <th>75706636</th>\n      <td>75.0</td>\n      <td>1</td>\n      <td>0</td>\n    </tr>\n    <tr>\n      <th>17320609</th>\n      <td>75.0</td>\n      <td>1</td>\n      <td>0</td>\n    </tr>\n    <tr>\n      <th>69690888</th>\n      <td>45.0</td>\n      <td>1</td>\n      <td>0</td>\n    </tr>\n    <tr>\n      <th>33004608</th>\n      <td>5.0</td>\n      <td>1</td>\n      <td>0</td>\n    </tr>\n    <tr>\n      <th>...</th>\n      <td>...</td>\n      <td>...</td>\n      <td>...</td>\n    </tr>\n    <tr>\n      <th>99711514</th>\n      <td>45.0</td>\n      <td>0</td>\n      <td>0</td>\n    </tr>\n    <tr>\n      <th>31690877</th>\n      <td>55.0</td>\n      <td>0</td>\n      <td>0</td>\n    </tr>\n    <tr>\n      <th>9519985</th>\n      <td>35.0</td>\n      <td>0</td>\n      <td>0</td>\n    </tr>\n    <tr>\n      <th>92806272</th>\n      <td>55.0</td>\n      <td>0</td>\n      <td>0</td>\n    </tr>\n    <tr>\n      <th>81827173</th>\n      <td>45.0</td>\n      <td>0</td>\n      <td>0</td>\n    </tr>\n  </tbody>\n</table>\n<p>113000 rows × 3 columns</p>\n</div>"
     },
     "metadata": {},
     "execution_count": 22
    }
   ],
   "source": [
    "df_member"
   ]
  },
  {
   "cell_type": "code",
   "execution_count": 23,
   "metadata": {},
   "outputs": [],
   "source": [
    "df_claim_count_y1 = pd.read_csv(\"./processed/ClaimCount_Y1.csv\", index_col=[\"MemberID\"])\n",
    "df_claim_count_y2 = pd.read_csv(\"./processed/ClaimCount_Y2.csv\", index_col=[\"MemberID\"])"
   ]
  },
  {
   "cell_type": "code",
   "execution_count": 24,
   "metadata": {},
   "outputs": [],
   "source": [
    "df_char_y1 = pd.read_csv(\"./processed/CharlsonIndex_Count_Y1.csv\", index_col=[\"MemberID\"])\n",
    "df_char_y2 = pd.read_csv(\"./processed/CharlsonIndex_Count_Y2.csv\", index_col=[\"MemberID\"])"
   ]
  },
  {
   "cell_type": "code",
   "execution_count": 25,
   "metadata": {},
   "outputs": [],
   "source": [
    "df_drug_y1 = pd.read_csv(\"./processed/DrugCount_Y1.csv\", index_col=[\"MemberID\"])\n",
    "df_drug_y2 = pd.read_csv(\"./processed/DrugCount_Y2.csv\", index_col=[\"MemberID\"])"
   ]
  },
  {
   "cell_type": "code",
   "execution_count": 26,
   "metadata": {},
   "outputs": [],
   "source": [
    "df_dsfs_y1 = pd.read_csv(\"./processed/DSFS_Count_Y1.csv\", index_col=[\"MemberID\"])\n",
    "df_dsfs_y2 = pd.read_csv(\"./processed/DSFS_Count_Y2.csv\", index_col=[\"MemberID\"])"
   ]
  },
  {
   "cell_type": "code",
   "execution_count": 27,
   "metadata": {},
   "outputs": [],
   "source": [
    "df_lab_y1 = pd.read_csv(\"./processed/LabCount_Y1.csv\", index_col=[\"MemberID\"])\n",
    "df_lab_y2 = pd.read_csv(\"./processed/LabCount_Y2.csv\", index_col=[\"MemberID\"])"
   ]
  },
  {
   "cell_type": "code",
   "execution_count": 28,
   "metadata": {},
   "outputs": [],
   "source": [
    "df_los_y1 = pd.read_csv(\"./processed/LengthOfStay_Count_Y1.csv\", index_col=[\"MemberID\"])\n",
    "df_los_y2 = pd.read_csv(\"./processed/LengthOfStay_Count_Y2.csv\", index_col=[\"MemberID\"])"
   ]
  },
  {
   "cell_type": "code",
   "execution_count": 29,
   "metadata": {},
   "outputs": [],
   "source": [
    "df_pay_max_y1 = pd.read_csv(\"./processed/PayDelayMax_Y1.csv\", index_col=[\"MemberID\"])\n",
    "df_pay_max_y2 = pd.read_csv(\"./processed/PayDelayMax_Y2.csv\", index_col=[\"MemberID\"])\n",
    "df_pay_mean_y1 = pd.read_csv(\"./processed/PayDelayMean_Y1.csv\", index_col=[\"MemberID\"])\n",
    "df_pay_mean_y2 = pd.read_csv(\"./processed/PayDelayMean_Y2.csv\", index_col=[\"MemberID\"])"
   ]
  },
  {
   "cell_type": "code",
   "execution_count": 30,
   "metadata": {},
   "outputs": [],
   "source": [
    "df_pcp_y1 = pd.read_csv(\"./processed/PCP_Y1.csv\", index_col=[\"MemberID\"])\n",
    "df_pcp_y2 = pd.read_csv(\"./processed/PCP_Y2.csv\", index_col=[\"MemberID\"])"
   ]
  },
  {
   "cell_type": "code",
   "execution_count": 31,
   "metadata": {},
   "outputs": [],
   "source": [
    "df_place_mode = pd.read_csv(\"./processed/PlaceSVCMode.csv\", index_col=[\"MemberID\"])"
   ]
  },
  {
   "cell_type": "code",
   "execution_count": 32,
   "metadata": {},
   "outputs": [],
   "source": [
    "df_pcg_mode = pd.read_csv(\"./processed/PrimaryConditionGroupMode.csv\", index_col=[\"MemberID\"])"
   ]
  },
  {
   "cell_type": "code",
   "execution_count": 33,
   "metadata": {},
   "outputs": [],
   "source": [
    "df_pg_mode = pd.read_csv(\"./processed/ProcedureGroup_Mode.csv\", index_col=[\"MemberID\"])\n",
    "df_pg_y1 = pd.read_csv(\"./processed/ProcedureGroup_Y1.csv\", index_col=[\"MemberID\"])\n",
    "df_pg_y2 = pd.read_csv(\"./processed/ProcedureGroup_Y2.csv\", index_col=[\"MemberID\"])"
   ]
  },
  {
   "cell_type": "code",
   "execution_count": 34,
   "metadata": {},
   "outputs": [],
   "source": [
    "df_p_y1 = pd.read_csv(\"./processed/ProviderID_Y1.csv\", index_col=[\"MemberID\"])\n",
    "df_p_y2 = pd.read_csv(\"./processed/ProviderID_Y2.csv\", index_col=[\"MemberID\"])"
   ]
  },
  {
   "cell_type": "code",
   "execution_count": 36,
   "metadata": {},
   "outputs": [],
   "source": [
    "df_spe_y1 = pd.read_csv(\"./processed/Specialty_Y1.csv\", index_col=[\"MemberID\"])\n",
    "df_spe_y2 = pd.read_csv(\"./processed/Specialty_Y2.csv\", index_col=[\"MemberID\"])\n",
    "df_spe_mode = pd.read_csv(\"./processed/SpecialtyMode.csv\", index_col=[\"MemberID\"])"
   ]
  },
  {
   "cell_type": "code",
   "execution_count": 37,
   "metadata": {},
   "outputs": [],
   "source": [
    "df_v_y1 = pd.read_csv(\"./processed/VendorID_Y1.csv\", index_col=[\"MemberID\"])\n",
    "df_v_y2 = pd.read_csv(\"./processed/VendorID_Y2.csv\", index_col=[\"MemberID\"])"
   ]
  },
  {
   "cell_type": "code",
   "execution_count": 38,
   "metadata": {},
   "outputs": [],
   "source": [
    "df_join = pd.concat([df_member, df_claim_count_y1, df_claim_count_y2, \\\n",
    "    df_char_y1, df_char_y2, df_drug_y1, df_drug_y2, df_dsfs_y1, df_dsfs_y2, \\\n",
    "        df_lab_y1, df_lab_y2, df_los_y1, df_los_y2, df_pay_max_y1, df_pay_max_y2, \\\n",
    "            df_pay_mean_y1, df_pay_mean_y2, df_pcp_y1, df_pcp_y2, df_place_mode, df_pcg_mode, \\\n",
    "                df_pg_mode, df_pg_y1, df_pg_y2, df_p_y1, df_p_y2, df_spe_y1, df_spe_y2, df_spe_mode, \\\n",
    "                    df_v_y1, df_v_y2], axis=1)"
   ]
  },
  {
   "cell_type": "code",
   "execution_count": 39,
   "metadata": {},
   "outputs": [
    {
     "output_type": "execute_result",
     "data": {
      "text/plain": [
       "          AgeAtFirstClaim  Sex_M  Sex_NaN  ClaimCount_Y1  ClaimCount_Y2  \\\n",
       "MemberID                                                                  \n",
       "4                     5.0      1        0            NaN            1.0   \n",
       "210                  35.0      0        1            8.0            6.0   \n",
       "3197                  5.0      0        0            5.0            5.0   \n",
       "3457                  5.0      1        0            NaN            1.0   \n",
       "3713                 45.0      0        0            NaN           10.0   \n",
       "...                   ...    ...      ...            ...            ...   \n",
       "99996214             45.0      1        0            1.0            NaN   \n",
       "99997485             15.0      1        0            1.0            NaN   \n",
       "99997895             45.0      1        0           14.0            NaN   \n",
       "99998627             35.0      0        0           10.0            NaN   \n",
       "99998824             35.0      0        0            NaN            8.0   \n",
       "\n",
       "          CharlsonIndex_0  CharlsonIndex_1-2  CharlsonIndex_3-4  \\\n",
       "MemberID                                                          \n",
       "4                     NaN                NaN                NaN   \n",
       "210                   8.0                0.0                0.0   \n",
       "3197                  5.0                0.0                0.0   \n",
       "3457                  NaN                NaN                NaN   \n",
       "3713                  NaN                NaN                NaN   \n",
       "...                   ...                ...                ...   \n",
       "99996214              1.0                0.0                0.0   \n",
       "99997485              1.0                0.0                0.0   \n",
       "99997895             14.0                0.0                0.0   \n",
       "99998627              6.0                4.0                0.0   \n",
       "99998824              NaN                NaN                NaN   \n",
       "\n",
       "          CharlsonIndex_5+  CharlsonIndex_0  ...  ProcedureGroup_Mode  \\\n",
       "MemberID                                     ...                        \n",
       "4                      NaN              1.0  ...                   EM   \n",
       "210                    0.0              6.0  ...                  MED   \n",
       "3197                   0.0              5.0  ...                   EM   \n",
       "3457                   NaN              1.0  ...                   EM   \n",
       "3713                   NaN             10.0  ...                   EM   \n",
       "...                    ...              ...  ...                  ...   \n",
       "99996214               0.0              NaN  ...                   EM   \n",
       "99997485               0.0              NaN  ...                   EM   \n",
       "99997895               0.0              NaN  ...                   EM   \n",
       "99998627               0.0              NaN  ...   ['EM' 'SCS' 'SMS']   \n",
       "99998824               NaN              8.0  ...                   EM   \n",
       "\n",
       "          ProcedureGroup_Y1  ProcedureGroup_Y2  UniqueProviderID_Y1  \\\n",
       "MemberID                                                              \n",
       "4                       NaN                1.0                  NaN   \n",
       "210                     5.0                3.0                  4.0   \n",
       "3197                    2.0                4.0                  3.0   \n",
       "3457                    NaN                1.0                  NaN   \n",
       "3713                    NaN                3.0                  NaN   \n",
       "...                     ...                ...                  ...   \n",
       "99996214                1.0                NaN                  1.0   \n",
       "99997485                1.0                NaN                  1.0   \n",
       "99997895                4.0                NaN                  5.0   \n",
       "99998627                7.0                NaN                  7.0   \n",
       "99998824                NaN                3.0                  NaN   \n",
       "\n",
       "          UniqueProviderID_Y2  UniqueSpecialty_Y1  UniqueSpecialty_Y2  \\\n",
       "MemberID                                                                \n",
       "4                         1.0                 NaN                 1.0   \n",
       "210                       3.0                 3.0                 3.0   \n",
       "3197                      4.0                 2.0                 4.0   \n",
       "3457                      1.0                 NaN                 1.0   \n",
       "3713                      5.0                 NaN                 3.0   \n",
       "...                       ...                 ...                 ...   \n",
       "99996214                  NaN                 1.0                 NaN   \n",
       "99997485                  NaN                 1.0                 NaN   \n",
       "99997895                  NaN                 4.0                 NaN   \n",
       "99998627                  NaN                 5.0                 NaN   \n",
       "99998824                  5.0                 NaN                 4.0   \n",
       "\n",
       "                                               ModeSpeciaty  \\\n",
       "MemberID                                                      \n",
       "4                                                Pediatrics   \n",
       "210                                                Internal   \n",
       "3197                                             Pediatrics   \n",
       "3457                                             Pediatrics   \n",
       "3713                                       General Practice   \n",
       "...                                                     ...   \n",
       "99996214                                   General Practice   \n",
       "99997485                                   General Practice   \n",
       "99997895                                         Laboratory   \n",
       "99998627                                           Internal   \n",
       "99998824  ['Emergency' 'General Practice' 'Laboratory' '...   \n",
       "\n",
       "          UniqueVendorID_Y1  UniqueVendorID_Y2  \n",
       "MemberID                                        \n",
       "4                       NaN                1.0  \n",
       "210                     4.0                3.0  \n",
       "3197                    3.0                3.0  \n",
       "3457                    NaN                1.0  \n",
       "3713                    NaN                5.0  \n",
       "...                     ...                ...  \n",
       "99996214                1.0                NaN  \n",
       "99997485                1.0                NaN  \n",
       "99997895                4.0                NaN  \n",
       "99998627                7.0                NaN  \n",
       "99998824                NaN                6.0  \n",
       "\n",
       "[113000 rows x 81 columns]"
      ],
      "text/html": "<div>\n<style scoped>\n    .dataframe tbody tr th:only-of-type {\n        vertical-align: middle;\n    }\n\n    .dataframe tbody tr th {\n        vertical-align: top;\n    }\n\n    .dataframe thead th {\n        text-align: right;\n    }\n</style>\n<table border=\"1\" class=\"dataframe\">\n  <thead>\n    <tr style=\"text-align: right;\">\n      <th></th>\n      <th>AgeAtFirstClaim</th>\n      <th>Sex_M</th>\n      <th>Sex_NaN</th>\n      <th>ClaimCount_Y1</th>\n      <th>ClaimCount_Y2</th>\n      <th>CharlsonIndex_0</th>\n      <th>CharlsonIndex_1-2</th>\n      <th>CharlsonIndex_3-4</th>\n      <th>CharlsonIndex_5+</th>\n      <th>CharlsonIndex_0</th>\n      <th>...</th>\n      <th>ProcedureGroup_Mode</th>\n      <th>ProcedureGroup_Y1</th>\n      <th>ProcedureGroup_Y2</th>\n      <th>UniqueProviderID_Y1</th>\n      <th>UniqueProviderID_Y2</th>\n      <th>UniqueSpecialty_Y1</th>\n      <th>UniqueSpecialty_Y2</th>\n      <th>ModeSpeciaty</th>\n      <th>UniqueVendorID_Y1</th>\n      <th>UniqueVendorID_Y2</th>\n    </tr>\n    <tr>\n      <th>MemberID</th>\n      <th></th>\n      <th></th>\n      <th></th>\n      <th></th>\n      <th></th>\n      <th></th>\n      <th></th>\n      <th></th>\n      <th></th>\n      <th></th>\n      <th></th>\n      <th></th>\n      <th></th>\n      <th></th>\n      <th></th>\n      <th></th>\n      <th></th>\n      <th></th>\n      <th></th>\n      <th></th>\n      <th></th>\n    </tr>\n  </thead>\n  <tbody>\n    <tr>\n      <th>4</th>\n      <td>5.0</td>\n      <td>1</td>\n      <td>0</td>\n      <td>NaN</td>\n      <td>1.0</td>\n      <td>NaN</td>\n      <td>NaN</td>\n      <td>NaN</td>\n      <td>NaN</td>\n      <td>1.0</td>\n      <td>...</td>\n      <td>EM</td>\n      <td>NaN</td>\n      <td>1.0</td>\n      <td>NaN</td>\n      <td>1.0</td>\n      <td>NaN</td>\n      <td>1.0</td>\n      <td>Pediatrics</td>\n      <td>NaN</td>\n      <td>1.0</td>\n    </tr>\n    <tr>\n      <th>210</th>\n      <td>35.0</td>\n      <td>0</td>\n      <td>1</td>\n      <td>8.0</td>\n      <td>6.0</td>\n      <td>8.0</td>\n      <td>0.0</td>\n      <td>0.0</td>\n      <td>0.0</td>\n      <td>6.0</td>\n      <td>...</td>\n      <td>MED</td>\n      <td>5.0</td>\n      <td>3.0</td>\n      <td>4.0</td>\n      <td>3.0</td>\n      <td>3.0</td>\n      <td>3.0</td>\n      <td>Internal</td>\n      <td>4.0</td>\n      <td>3.0</td>\n    </tr>\n    <tr>\n      <th>3197</th>\n      <td>5.0</td>\n      <td>0</td>\n      <td>0</td>\n      <td>5.0</td>\n      <td>5.0</td>\n      <td>5.0</td>\n      <td>0.0</td>\n      <td>0.0</td>\n      <td>0.0</td>\n      <td>5.0</td>\n      <td>...</td>\n      <td>EM</td>\n      <td>2.0</td>\n      <td>4.0</td>\n      <td>3.0</td>\n      <td>4.0</td>\n      <td>2.0</td>\n      <td>4.0</td>\n      <td>Pediatrics</td>\n      <td>3.0</td>\n      <td>3.0</td>\n    </tr>\n    <tr>\n      <th>3457</th>\n      <td>5.0</td>\n      <td>1</td>\n      <td>0</td>\n      <td>NaN</td>\n      <td>1.0</td>\n      <td>NaN</td>\n      <td>NaN</td>\n      <td>NaN</td>\n      <td>NaN</td>\n      <td>1.0</td>\n      <td>...</td>\n      <td>EM</td>\n      <td>NaN</td>\n      <td>1.0</td>\n      <td>NaN</td>\n      <td>1.0</td>\n      <td>NaN</td>\n      <td>1.0</td>\n      <td>Pediatrics</td>\n      <td>NaN</td>\n      <td>1.0</td>\n    </tr>\n    <tr>\n      <th>3713</th>\n      <td>45.0</td>\n      <td>0</td>\n      <td>0</td>\n      <td>NaN</td>\n      <td>10.0</td>\n      <td>NaN</td>\n      <td>NaN</td>\n      <td>NaN</td>\n      <td>NaN</td>\n      <td>10.0</td>\n      <td>...</td>\n      <td>EM</td>\n      <td>NaN</td>\n      <td>3.0</td>\n      <td>NaN</td>\n      <td>5.0</td>\n      <td>NaN</td>\n      <td>3.0</td>\n      <td>General Practice</td>\n      <td>NaN</td>\n      <td>5.0</td>\n    </tr>\n    <tr>\n      <th>...</th>\n      <td>...</td>\n      <td>...</td>\n      <td>...</td>\n      <td>...</td>\n      <td>...</td>\n      <td>...</td>\n      <td>...</td>\n      <td>...</td>\n      <td>...</td>\n      <td>...</td>\n      <td>...</td>\n      <td>...</td>\n      <td>...</td>\n      <td>...</td>\n      <td>...</td>\n      <td>...</td>\n      <td>...</td>\n      <td>...</td>\n      <td>...</td>\n      <td>...</td>\n      <td>...</td>\n    </tr>\n    <tr>\n      <th>99996214</th>\n      <td>45.0</td>\n      <td>1</td>\n      <td>0</td>\n      <td>1.0</td>\n      <td>NaN</td>\n      <td>1.0</td>\n      <td>0.0</td>\n      <td>0.0</td>\n      <td>0.0</td>\n      <td>NaN</td>\n      <td>...</td>\n      <td>EM</td>\n      <td>1.0</td>\n      <td>NaN</td>\n      <td>1.0</td>\n      <td>NaN</td>\n      <td>1.0</td>\n      <td>NaN</td>\n      <td>General Practice</td>\n      <td>1.0</td>\n      <td>NaN</td>\n    </tr>\n    <tr>\n      <th>99997485</th>\n      <td>15.0</td>\n      <td>1</td>\n      <td>0</td>\n      <td>1.0</td>\n      <td>NaN</td>\n      <td>1.0</td>\n      <td>0.0</td>\n      <td>0.0</td>\n      <td>0.0</td>\n      <td>NaN</td>\n      <td>...</td>\n      <td>EM</td>\n      <td>1.0</td>\n      <td>NaN</td>\n      <td>1.0</td>\n      <td>NaN</td>\n      <td>1.0</td>\n      <td>NaN</td>\n      <td>General Practice</td>\n      <td>1.0</td>\n      <td>NaN</td>\n    </tr>\n    <tr>\n      <th>99997895</th>\n      <td>45.0</td>\n      <td>1</td>\n      <td>0</td>\n      <td>14.0</td>\n      <td>NaN</td>\n      <td>14.0</td>\n      <td>0.0</td>\n      <td>0.0</td>\n      <td>0.0</td>\n      <td>NaN</td>\n      <td>...</td>\n      <td>EM</td>\n      <td>4.0</td>\n      <td>NaN</td>\n      <td>5.0</td>\n      <td>NaN</td>\n      <td>4.0</td>\n      <td>NaN</td>\n      <td>Laboratory</td>\n      <td>4.0</td>\n      <td>NaN</td>\n    </tr>\n    <tr>\n      <th>99998627</th>\n      <td>35.0</td>\n      <td>0</td>\n      <td>0</td>\n      <td>10.0</td>\n      <td>NaN</td>\n      <td>6.0</td>\n      <td>4.0</td>\n      <td>0.0</td>\n      <td>0.0</td>\n      <td>NaN</td>\n      <td>...</td>\n      <td>['EM' 'SCS' 'SMS']</td>\n      <td>7.0</td>\n      <td>NaN</td>\n      <td>7.0</td>\n      <td>NaN</td>\n      <td>5.0</td>\n      <td>NaN</td>\n      <td>Internal</td>\n      <td>7.0</td>\n      <td>NaN</td>\n    </tr>\n    <tr>\n      <th>99998824</th>\n      <td>35.0</td>\n      <td>0</td>\n      <td>0</td>\n      <td>NaN</td>\n      <td>8.0</td>\n      <td>NaN</td>\n      <td>NaN</td>\n      <td>NaN</td>\n      <td>NaN</td>\n      <td>8.0</td>\n      <td>...</td>\n      <td>EM</td>\n      <td>NaN</td>\n      <td>3.0</td>\n      <td>NaN</td>\n      <td>5.0</td>\n      <td>NaN</td>\n      <td>4.0</td>\n      <td>['Emergency' 'General Practice' 'Laboratory' '...</td>\n      <td>NaN</td>\n      <td>6.0</td>\n    </tr>\n  </tbody>\n</table>\n<p>113000 rows × 81 columns</p>\n</div>"
     },
     "metadata": {},
     "execution_count": 39
    }
   ],
   "source": [
    "df_join"
   ]
  },
  {
   "cell_type": "code",
   "execution_count": 40,
   "metadata": {},
   "outputs": [
    {
     "output_type": "execute_result",
     "data": {
      "text/plain": [
       "113000"
      ]
     },
     "metadata": {},
     "execution_count": 40
    }
   ],
   "source": [
    "len(set(df_join.index))"
   ]
  },
  {
   "cell_type": "code",
   "execution_count": null,
   "metadata": {},
   "outputs": [],
   "source": []
  }
 ]
}