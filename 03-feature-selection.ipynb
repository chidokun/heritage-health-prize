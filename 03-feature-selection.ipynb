{
 "metadata": {
  "language_info": {
   "codemirror_mode": {
    "name": "ipython",
    "version": 3
   },
   "file_extension": ".py",
   "mimetype": "text/x-python",
   "name": "python",
   "nbconvert_exporter": "python",
   "pygments_lexer": "ipython3",
   "version": "3.7.7-final"
  },
  "orig_nbformat": 2,
  "kernelspec": {
   "name": "python3",
   "display_name": "Python 3"
  }
 },
 "nbformat": 4,
 "nbformat_minor": 2,
 "cells": [
  {
   "source": [
    "# Feature Selection"
   ],
   "cell_type": "markdown",
   "metadata": {}
  },
  {
   "cell_type": "code",
   "execution_count": 127,
   "metadata": {},
   "outputs": [],
   "source": [
    "import numpy as np # Linear algebra\n",
    "import pandas as pd # Data processing, CSV file I/O (e.g. pd.read_csv)\n",
    "\n",
    "import matplotlib.pyplot as plt  # Matlab-style plotting\n",
    "# Make sure plot shows immediately\n",
    "%matplotlib inline \n",
    "import seaborn as sns # Library for plotting\n",
    "color = sns.color_palette()\n",
    "sns.set_style('darkgrid')\n",
    "\n",
    "from sklearn.preprocessing import MinMaxScaler\n",
    "from sklearn.model_selection import train_test_split"
   ]
  },
  {
   "cell_type": "code",
   "execution_count": 4,
   "metadata": {},
   "outputs": [],
   "source": [
    "def show_stt(df):\n",
    "    print(\"Shape: \", df.shape)\n",
    "    print(\"Dtypes: \", df.dtypes)\n",
    "    print(\"Describe: \\n\", df.describe())\n",
    "    print(\"Unique value: \")\n",
    "    ls = list(filter(lambda i : df[i].dtype == 'object', list(df.columns)))\n",
    "    for i in ls:\n",
    "        print(\"[{}]: {}\".format(i, df[i].unique()))\n",
    "    return df.sample(5)"
   ]
  },
  {
   "source": [
    "# Strategy A"
   ],
   "cell_type": "markdown",
   "metadata": {}
  },
  {
   "cell_type": "code",
   "execution_count": 25,
   "metadata": {},
   "outputs": [],
   "source": [
    "df_a_train = pd.read_csv(\"./processed/DatasetATrain.csv\", index_col=[\"MemberID\"])\n",
    "df_a_test = pd.read_csv(\"./processed/DatasetATest.csv\", index_col=[\"MemberID\"])"
   ]
  },
  {
   "cell_type": "code",
   "execution_count": 5,
   "metadata": {},
   "outputs": [
    {
     "output_type": "stream",
     "name": "stdout",
     "text": [
      "Shape:  (76038, 121)\n",
      "Dtypes:  AgeAtFirstClaim    float64\n",
      "Sex                 object\n",
      "ClaimCount         float64\n",
      "ProviderID         float64\n",
      "Vendor             float64\n",
      "                    ...   \n",
      "DrugCountAvg       float64\n",
      "DrugCountStd       float64\n",
      "DrugCountSum       float64\n",
      "DrugClaimCount     float64\n",
      "DaysInHospital     float64\n",
      "Length: 121, dtype: object\n",
      "Describe: \n",
      "        AgeAtFirstClaim    ClaimCount    ProviderID        Vendor  \\\n",
      "count     71496.000000  76038.000000  76038.000000  76038.000000   \n",
      "mean         48.606915     11.384952      4.404127      3.705805   \n",
      "std          24.831272     10.555889      3.341382      2.615952   \n",
      "min           5.000000      1.000000      0.000000      0.000000   \n",
      "25%          25.000000      3.000000      2.000000      2.000000   \n",
      "50%          55.000000      8.000000      3.000000      3.000000   \n",
      "75%          75.000000     16.000000      6.000000      5.000000   \n",
      "max          85.000000     43.000000     27.000000     19.000000   \n",
      "\n",
      "                PCP  SpecialtyCount_Surgery  SpecialtyCount_Rehabilitation  \\\n",
      "count  76038.000000            76038.000000                   76038.000000   \n",
      "mean       1.022344                0.865712                       0.226058   \n",
      "std        0.150621                2.044290                       1.381126   \n",
      "min        0.000000                0.000000                       0.000000   \n",
      "25%        1.000000                0.000000                       0.000000   \n",
      "50%        1.000000                0.000000                       0.000000   \n",
      "75%        1.000000                1.000000                       0.000000   \n",
      "max        3.000000               33.000000                      31.000000   \n",
      "\n",
      "       SpecialtyCount_Diagnostic Imaging  SpecialtyCount_Emergency  \\\n",
      "count                       76038.000000              76038.000000   \n",
      "mean                            0.876312                  0.567230   \n",
      "std                             1.429824                  1.328654   \n",
      "min                             0.000000                  0.000000   \n",
      "25%                             0.000000                  0.000000   \n",
      "50%                             0.000000                  0.000000   \n",
      "75%                             1.000000                  0.000000   \n",
      "max                            24.000000                 27.000000   \n",
      "\n",
      "       SpecialtyCount_Internal  ...   LabCountStd   LabCountSum  \\\n",
      "count             76038.000000  ...  28914.000000  53227.000000   \n",
      "mean                  2.766012  ...      2.281018      8.784057   \n",
      "std                   4.258823  ...      1.463841      7.183210   \n",
      "min                   0.000000  ...      0.000000      1.000000   \n",
      "25%                   0.000000  ...      1.154701      4.000000   \n",
      "50%                   1.000000  ...      2.121320      7.000000   \n",
      "75%                   4.000000  ...      3.286335     12.000000   \n",
      "max                  39.000000  ...      6.363961     89.000000   \n",
      "\n",
      "       LabClaimCount  DrugCountMin  DrugCountMax  DrugCountAvg  DrugCountStd  \\\n",
      "count   53227.000000  49838.000000  49838.000000  49838.000000  39996.000000   \n",
      "mean        2.257538      1.478089      3.318472      2.306282      0.909692   \n",
      "std         1.781216      0.958282      1.970870      1.330349      0.646030   \n",
      "min         1.000000      1.000000      1.000000      1.000000      0.000000   \n",
      "25%         1.000000      1.000000      2.000000      1.250000      0.500000   \n",
      "50%         2.000000      1.000000      3.000000      2.000000      0.823273   \n",
      "75%         3.000000      2.000000      5.000000      3.000000      1.322876   \n",
      "max        12.000000      7.000000      7.000000      7.000000      4.242641   \n",
      "\n",
      "       DrugCountSum  DrugClaimCount  DaysInHospital  \n",
      "count  49838.000000    49838.000000    76038.000000  \n",
      "mean      15.437518        5.650688        0.467095  \n",
      "std       16.659446        3.810392        1.612194  \n",
      "min        1.000000        1.000000        0.000000  \n",
      "25%        3.000000        2.000000        0.000000  \n",
      "50%        9.000000        5.000000        0.000000  \n",
      "75%       22.000000        9.000000        0.000000  \n",
      "max       84.000000       12.000000       15.000000  \n",
      "\n",
      "[8 rows x 120 columns]\n",
      "Unique value: \n",
      "[Sex]: [nan 'F' 'M']\n"
     ]
    },
    {
     "output_type": "execute_result",
     "data": {
      "text/plain": [
       "          AgeAtFirstClaim Sex  ClaimCount  ProviderID  Vendor  PCP  \\\n",
       "MemberID                                                             \n",
       "46343873             75.0   F         3.0         1.0     1.0  1.0   \n",
       "46503266             65.0   F        15.0         6.0     6.0  1.0   \n",
       "89236682             45.0   F         2.0         2.0     2.0  1.0   \n",
       "35689950             55.0   M         9.0         3.0     3.0  1.0   \n",
       "39351891             55.0   F        10.0         4.0     4.0  1.0   \n",
       "\n",
       "          SpecialtyCount_Surgery  SpecialtyCount_Rehabilitation  \\\n",
       "MemberID                                                          \n",
       "46343873                     0.0                            0.0   \n",
       "46503266                     8.0                            0.0   \n",
       "89236682                     0.0                            0.0   \n",
       "35689950                     1.0                            0.0   \n",
       "39351891                     0.0                            0.0   \n",
       "\n",
       "          SpecialtyCount_Diagnostic Imaging  SpecialtyCount_Emergency  ...  \\\n",
       "MemberID                                                               ...   \n",
       "46343873                                0.0                       0.0  ...   \n",
       "46503266                                0.0                       0.0  ...   \n",
       "89236682                                0.0                       0.0  ...   \n",
       "35689950                                0.0                       0.0  ...   \n",
       "39351891                                1.0                       0.0  ...   \n",
       "\n",
       "          LabCountStd  LabCountSum  LabClaimCount  DrugCountMin  DrugCountMax  \\\n",
       "MemberID                                                                        \n",
       "46343873          NaN          NaN            NaN           4.0           7.0   \n",
       "46503266          NaN          3.0            1.0           NaN           NaN   \n",
       "89236682          NaN          3.0            1.0           NaN           NaN   \n",
       "35689950     0.816497          8.0            4.0           5.0           5.0   \n",
       "39351891     0.707107          9.0            2.0           NaN           NaN   \n",
       "\n",
       "          DrugCountAvg  DrugCountStd  DrugCountSum  DrugClaimCount  \\\n",
       "MemberID                                                             \n",
       "46343873          6.25      1.035098          50.0             8.0   \n",
       "46503266           NaN           NaN           NaN             NaN   \n",
       "89236682           NaN           NaN           NaN             NaN   \n",
       "35689950          5.00      0.000000          20.0             4.0   \n",
       "39351891           NaN           NaN           NaN             NaN   \n",
       "\n",
       "          DaysInHospital  \n",
       "MemberID                  \n",
       "46343873             0.0  \n",
       "46503266             2.0  \n",
       "89236682             0.0  \n",
       "35689950             0.0  \n",
       "39351891             0.0  \n",
       "\n",
       "[5 rows x 121 columns]"
      ],
      "text/html": "<div>\n<style scoped>\n    .dataframe tbody tr th:only-of-type {\n        vertical-align: middle;\n    }\n\n    .dataframe tbody tr th {\n        vertical-align: top;\n    }\n\n    .dataframe thead th {\n        text-align: right;\n    }\n</style>\n<table border=\"1\" class=\"dataframe\">\n  <thead>\n    <tr style=\"text-align: right;\">\n      <th></th>\n      <th>AgeAtFirstClaim</th>\n      <th>Sex</th>\n      <th>ClaimCount</th>\n      <th>ProviderID</th>\n      <th>Vendor</th>\n      <th>PCP</th>\n      <th>SpecialtyCount_Surgery</th>\n      <th>SpecialtyCount_Rehabilitation</th>\n      <th>SpecialtyCount_Diagnostic Imaging</th>\n      <th>SpecialtyCount_Emergency</th>\n      <th>...</th>\n      <th>LabCountStd</th>\n      <th>LabCountSum</th>\n      <th>LabClaimCount</th>\n      <th>DrugCountMin</th>\n      <th>DrugCountMax</th>\n      <th>DrugCountAvg</th>\n      <th>DrugCountStd</th>\n      <th>DrugCountSum</th>\n      <th>DrugClaimCount</th>\n      <th>DaysInHospital</th>\n    </tr>\n    <tr>\n      <th>MemberID</th>\n      <th></th>\n      <th></th>\n      <th></th>\n      <th></th>\n      <th></th>\n      <th></th>\n      <th></th>\n      <th></th>\n      <th></th>\n      <th></th>\n      <th></th>\n      <th></th>\n      <th></th>\n      <th></th>\n      <th></th>\n      <th></th>\n      <th></th>\n      <th></th>\n      <th></th>\n      <th></th>\n      <th></th>\n    </tr>\n  </thead>\n  <tbody>\n    <tr>\n      <th>46343873</th>\n      <td>75.0</td>\n      <td>F</td>\n      <td>3.0</td>\n      <td>1.0</td>\n      <td>1.0</td>\n      <td>1.0</td>\n      <td>0.0</td>\n      <td>0.0</td>\n      <td>0.0</td>\n      <td>0.0</td>\n      <td>...</td>\n      <td>NaN</td>\n      <td>NaN</td>\n      <td>NaN</td>\n      <td>4.0</td>\n      <td>7.0</td>\n      <td>6.25</td>\n      <td>1.035098</td>\n      <td>50.0</td>\n      <td>8.0</td>\n      <td>0.0</td>\n    </tr>\n    <tr>\n      <th>46503266</th>\n      <td>65.0</td>\n      <td>F</td>\n      <td>15.0</td>\n      <td>6.0</td>\n      <td>6.0</td>\n      <td>1.0</td>\n      <td>8.0</td>\n      <td>0.0</td>\n      <td>0.0</td>\n      <td>0.0</td>\n      <td>...</td>\n      <td>NaN</td>\n      <td>3.0</td>\n      <td>1.0</td>\n      <td>NaN</td>\n      <td>NaN</td>\n      <td>NaN</td>\n      <td>NaN</td>\n      <td>NaN</td>\n      <td>NaN</td>\n      <td>2.0</td>\n    </tr>\n    <tr>\n      <th>89236682</th>\n      <td>45.0</td>\n      <td>F</td>\n      <td>2.0</td>\n      <td>2.0</td>\n      <td>2.0</td>\n      <td>1.0</td>\n      <td>0.0</td>\n      <td>0.0</td>\n      <td>0.0</td>\n      <td>0.0</td>\n      <td>...</td>\n      <td>NaN</td>\n      <td>3.0</td>\n      <td>1.0</td>\n      <td>NaN</td>\n      <td>NaN</td>\n      <td>NaN</td>\n      <td>NaN</td>\n      <td>NaN</td>\n      <td>NaN</td>\n      <td>0.0</td>\n    </tr>\n    <tr>\n      <th>35689950</th>\n      <td>55.0</td>\n      <td>M</td>\n      <td>9.0</td>\n      <td>3.0</td>\n      <td>3.0</td>\n      <td>1.0</td>\n      <td>1.0</td>\n      <td>0.0</td>\n      <td>0.0</td>\n      <td>0.0</td>\n      <td>...</td>\n      <td>0.816497</td>\n      <td>8.0</td>\n      <td>4.0</td>\n      <td>5.0</td>\n      <td>5.0</td>\n      <td>5.00</td>\n      <td>0.000000</td>\n      <td>20.0</td>\n      <td>4.0</td>\n      <td>0.0</td>\n    </tr>\n    <tr>\n      <th>39351891</th>\n      <td>55.0</td>\n      <td>F</td>\n      <td>10.0</td>\n      <td>4.0</td>\n      <td>4.0</td>\n      <td>1.0</td>\n      <td>0.0</td>\n      <td>0.0</td>\n      <td>1.0</td>\n      <td>0.0</td>\n      <td>...</td>\n      <td>0.707107</td>\n      <td>9.0</td>\n      <td>2.0</td>\n      <td>NaN</td>\n      <td>NaN</td>\n      <td>NaN</td>\n      <td>NaN</td>\n      <td>NaN</td>\n      <td>NaN</td>\n      <td>0.0</td>\n    </tr>\n  </tbody>\n</table>\n<p>5 rows × 121 columns</p>\n</div>"
     },
     "metadata": {},
     "execution_count": 5
    }
   ],
   "source": [
    "show_stt(df_a_train)"
   ]
  },
  {
   "cell_type": "code",
   "execution_count": 16,
   "metadata": {},
   "outputs": [
    {
     "output_type": "execute_result",
     "data": {
      "text/plain": [
       "<matplotlib.axes._subplots.AxesSubplot at 0x7f96f262de50>"
      ]
     },
     "metadata": {},
     "execution_count": 16
    },
    {
     "output_type": "display_data",
     "data": {
      "text/plain": "<Figure size 432x288 with 1 Axes>",
      "image/svg+xml": "<?xml version=\"1.0\" encoding=\"utf-8\" standalone=\"no\"?>\n<!DOCTYPE svg PUBLIC \"-//W3C//DTD SVG 1.1//EN\"\n  \"http://www.w3.org/Graphics/SVG/1.1/DTD/svg11.dtd\">\n<!-- Created with matplotlib (https://matplotlib.org/) -->\n<svg height=\"261.247813pt\" version=\"1.1\" viewBox=\"0 0 370.1 261.247813\" width=\"370.1pt\" xmlns=\"http://www.w3.org/2000/svg\" xmlns:xlink=\"http://www.w3.org/1999/xlink\">\n <defs>\n  <style type=\"text/css\">\n*{stroke-linecap:butt;stroke-linejoin:round;}\n  </style>\n </defs>\n <g id=\"figure_1\">\n  <g id=\"patch_1\">\n   <path d=\"M 0 261.247813 \nL 370.1 261.247813 \nL 370.1 0 \nL 0 0 \nz\n\" style=\"fill:#ffffff;\"/>\n  </g>\n  <g id=\"axes_1\">\n   <g id=\"patch_2\">\n    <path d=\"M 28.1 224.64 \nL 362.9 224.64 \nL 362.9 7.2 \nL 28.1 7.2 \nz\n\" style=\"fill:#eaeaf2;\"/>\n   </g>\n   <g id=\"matplotlib.axis_1\">\n    <g id=\"xtick_1\">\n     <g id=\"line2d_1\">\n      <path clip-path=\"url(#p98bce2db88)\" d=\"M 43.318182 224.64 \nL 43.318182 7.2 \n\" style=\"fill:none;stroke:#ffffff;stroke-linecap:round;stroke-width:0.8;\"/>\n     </g>\n     <g id=\"text_1\">\n      <!-- 0 -->\n      <defs>\n       <path d=\"M 4.15625 35.296875 \nQ 4.15625 48 6.765625 55.734375 \nQ 9.375 63.484375 14.515625 67.671875 \nQ 19.671875 71.875 27.484375 71.875 \nQ 33.25 71.875 37.59375 69.546875 \nQ 41.9375 67.234375 44.765625 62.859375 \nQ 47.609375 58.5 49.21875 52.21875 \nQ 50.828125 45.953125 50.828125 35.296875 \nQ 50.828125 22.703125 48.234375 14.96875 \nQ 45.65625 7.234375 40.5 3 \nQ 35.359375 -1.21875 27.484375 -1.21875 \nQ 17.140625 -1.21875 11.234375 6.203125 \nQ 4.15625 15.140625 4.15625 35.296875 \nz\nM 13.1875 35.296875 \nQ 13.1875 17.671875 17.3125 11.828125 \nQ 21.4375 6 27.484375 6 \nQ 33.546875 6 37.671875 11.859375 \nQ 41.796875 17.71875 41.796875 35.296875 \nQ 41.796875 52.984375 37.671875 58.78125 \nQ 33.546875 64.59375 27.390625 64.59375 \nQ 21.34375 64.59375 17.71875 59.46875 \nQ 13.1875 52.9375 13.1875 35.296875 \nz\n\" id=\"ArialMT-48\"/>\n      </defs>\n      <g style=\"fill:#262626;\" transform=\"translate(40.537713 238.797812)scale(0.1 -0.1)\">\n       <use xlink:href=\"#ArialMT-48\"/>\n      </g>\n     </g>\n    </g>\n    <g id=\"xtick_2\">\n     <g id=\"line2d_2\">\n      <path clip-path=\"url(#p98bce2db88)\" d=\"M 83.9 224.64 \nL 83.9 7.2 \n\" style=\"fill:none;stroke:#ffffff;stroke-linecap:round;stroke-width:0.8;\"/>\n     </g>\n     <g id=\"text_2\">\n      <!-- 2 -->\n      <defs>\n       <path d=\"M 50.34375 8.453125 \nL 50.34375 0 \nL 3.03125 0 \nQ 2.9375 3.171875 4.046875 6.109375 \nQ 5.859375 10.9375 9.828125 15.625 \nQ 13.8125 20.3125 21.34375 26.46875 \nQ 33.015625 36.03125 37.109375 41.625 \nQ 41.21875 47.21875 41.21875 52.203125 \nQ 41.21875 57.421875 37.46875 61 \nQ 33.734375 64.59375 27.734375 64.59375 \nQ 21.390625 64.59375 17.578125 60.78125 \nQ 13.765625 56.984375 13.71875 50.25 \nL 4.6875 51.171875 \nQ 5.609375 61.28125 11.65625 66.578125 \nQ 17.71875 71.875 27.9375 71.875 \nQ 38.234375 71.875 44.234375 66.15625 \nQ 50.25 60.453125 50.25 52 \nQ 50.25 47.703125 48.484375 43.546875 \nQ 46.734375 39.40625 42.65625 34.8125 \nQ 38.578125 30.21875 29.109375 22.21875 \nQ 21.1875 15.578125 18.9375 13.203125 \nQ 16.703125 10.84375 15.234375 8.453125 \nz\n\" id=\"ArialMT-50\"/>\n      </defs>\n      <g style=\"fill:#262626;\" transform=\"translate(81.119531 238.797812)scale(0.1 -0.1)\">\n       <use xlink:href=\"#ArialMT-50\"/>\n      </g>\n     </g>\n    </g>\n    <g id=\"xtick_3\">\n     <g id=\"line2d_3\">\n      <path clip-path=\"url(#p98bce2db88)\" d=\"M 124.481818 224.64 \nL 124.481818 7.2 \n\" style=\"fill:none;stroke:#ffffff;stroke-linecap:round;stroke-width:0.8;\"/>\n     </g>\n     <g id=\"text_3\">\n      <!-- 4 -->\n      <defs>\n       <path d=\"M 32.328125 0 \nL 32.328125 17.140625 \nL 1.265625 17.140625 \nL 1.265625 25.203125 \nL 33.9375 71.578125 \nL 41.109375 71.578125 \nL 41.109375 25.203125 \nL 50.78125 25.203125 \nL 50.78125 17.140625 \nL 41.109375 17.140625 \nL 41.109375 0 \nz\nM 32.328125 25.203125 \nL 32.328125 57.46875 \nL 9.90625 25.203125 \nz\n\" id=\"ArialMT-52\"/>\n      </defs>\n      <g style=\"fill:#262626;\" transform=\"translate(121.701349 238.797812)scale(0.1 -0.1)\">\n       <use xlink:href=\"#ArialMT-52\"/>\n      </g>\n     </g>\n    </g>\n    <g id=\"xtick_4\">\n     <g id=\"line2d_4\">\n      <path clip-path=\"url(#p98bce2db88)\" d=\"M 165.063636 224.64 \nL 165.063636 7.2 \n\" style=\"fill:none;stroke:#ffffff;stroke-linecap:round;stroke-width:0.8;\"/>\n     </g>\n     <g id=\"text_4\">\n      <!-- 6 -->\n      <defs>\n       <path d=\"M 49.75 54.046875 \nL 41.015625 53.375 \nQ 39.84375 58.546875 37.703125 60.890625 \nQ 34.125 64.65625 28.90625 64.65625 \nQ 24.703125 64.65625 21.53125 62.3125 \nQ 17.390625 59.28125 14.984375 53.46875 \nQ 12.59375 47.65625 12.5 36.921875 \nQ 15.671875 41.75 20.265625 44.09375 \nQ 24.859375 46.4375 29.890625 46.4375 \nQ 38.671875 46.4375 44.84375 39.96875 \nQ 51.03125 33.5 51.03125 23.25 \nQ 51.03125 16.5 48.125 10.71875 \nQ 45.21875 4.9375 40.140625 1.859375 \nQ 35.0625 -1.21875 28.609375 -1.21875 \nQ 17.625 -1.21875 10.6875 6.859375 \nQ 3.765625 14.9375 3.765625 33.5 \nQ 3.765625 54.25 11.421875 63.671875 \nQ 18.109375 71.875 29.4375 71.875 \nQ 37.890625 71.875 43.28125 67.140625 \nQ 48.6875 62.40625 49.75 54.046875 \nz\nM 13.875 23.1875 \nQ 13.875 18.65625 15.796875 14.5 \nQ 17.71875 10.359375 21.1875 8.171875 \nQ 24.65625 6 28.46875 6 \nQ 34.03125 6 38.03125 10.484375 \nQ 42.046875 14.984375 42.046875 22.703125 \nQ 42.046875 30.125 38.078125 34.390625 \nQ 34.125 38.671875 28.125 38.671875 \nQ 22.171875 38.671875 18.015625 34.390625 \nQ 13.875 30.125 13.875 23.1875 \nz\n\" id=\"ArialMT-54\"/>\n      </defs>\n      <g style=\"fill:#262626;\" transform=\"translate(162.283168 238.797812)scale(0.1 -0.1)\">\n       <use xlink:href=\"#ArialMT-54\"/>\n      </g>\n     </g>\n    </g>\n    <g id=\"xtick_5\">\n     <g id=\"line2d_5\">\n      <path clip-path=\"url(#p98bce2db88)\" d=\"M 205.645455 224.64 \nL 205.645455 7.2 \n\" style=\"fill:none;stroke:#ffffff;stroke-linecap:round;stroke-width:0.8;\"/>\n     </g>\n     <g id=\"text_5\">\n      <!-- 8 -->\n      <defs>\n       <path d=\"M 17.671875 38.8125 \nQ 12.203125 40.828125 9.5625 44.53125 \nQ 6.9375 48.25 6.9375 53.421875 \nQ 6.9375 61.234375 12.546875 66.546875 \nQ 18.171875 71.875 27.484375 71.875 \nQ 36.859375 71.875 42.578125 66.421875 \nQ 48.296875 60.984375 48.296875 53.171875 \nQ 48.296875 48.1875 45.671875 44.5 \nQ 43.0625 40.828125 37.75 38.8125 \nQ 44.34375 36.671875 47.78125 31.875 \nQ 51.21875 27.09375 51.21875 20.453125 \nQ 51.21875 11.28125 44.71875 5.03125 \nQ 38.234375 -1.21875 27.640625 -1.21875 \nQ 17.046875 -1.21875 10.546875 5.046875 \nQ 4.046875 11.328125 4.046875 20.703125 \nQ 4.046875 27.6875 7.59375 32.390625 \nQ 11.140625 37.109375 17.671875 38.8125 \nz\nM 15.921875 53.71875 \nQ 15.921875 48.640625 19.1875 45.40625 \nQ 22.46875 42.1875 27.6875 42.1875 \nQ 32.765625 42.1875 36.015625 45.375 \nQ 39.265625 48.578125 39.265625 53.21875 \nQ 39.265625 58.0625 35.90625 61.359375 \nQ 32.5625 64.65625 27.59375 64.65625 \nQ 22.5625 64.65625 19.234375 61.421875 \nQ 15.921875 58.203125 15.921875 53.71875 \nz\nM 13.09375 20.65625 \nQ 13.09375 16.890625 14.875 13.375 \nQ 16.65625 9.859375 20.171875 7.921875 \nQ 23.6875 6 27.734375 6 \nQ 34.03125 6 38.125 10.046875 \nQ 42.234375 14.109375 42.234375 20.359375 \nQ 42.234375 26.703125 38.015625 30.859375 \nQ 33.796875 35.015625 27.4375 35.015625 \nQ 21.234375 35.015625 17.15625 30.90625 \nQ 13.09375 26.8125 13.09375 20.65625 \nz\n\" id=\"ArialMT-56\"/>\n      </defs>\n      <g style=\"fill:#262626;\" transform=\"translate(202.864986 238.797812)scale(0.1 -0.1)\">\n       <use xlink:href=\"#ArialMT-56\"/>\n      </g>\n     </g>\n    </g>\n    <g id=\"xtick_6\">\n     <g id=\"line2d_6\">\n      <path clip-path=\"url(#p98bce2db88)\" d=\"M 246.227273 224.64 \nL 246.227273 7.2 \n\" style=\"fill:none;stroke:#ffffff;stroke-linecap:round;stroke-width:0.8;\"/>\n     </g>\n     <g id=\"text_6\">\n      <!-- 10 -->\n      <defs>\n       <path d=\"M 37.25 0 \nL 28.46875 0 \nL 28.46875 56 \nQ 25.296875 52.984375 20.140625 49.953125 \nQ 14.984375 46.921875 10.890625 45.40625 \nL 10.890625 53.90625 \nQ 18.265625 57.375 23.78125 62.296875 \nQ 29.296875 67.234375 31.59375 71.875 \nL 37.25 71.875 \nz\n\" id=\"ArialMT-49\"/>\n      </defs>\n      <g style=\"fill:#262626;\" transform=\"translate(240.666335 238.797812)scale(0.1 -0.1)\">\n       <use xlink:href=\"#ArialMT-49\"/>\n       <use x=\"55.615234\" xlink:href=\"#ArialMT-48\"/>\n      </g>\n     </g>\n    </g>\n    <g id=\"xtick_7\">\n     <g id=\"line2d_7\">\n      <path clip-path=\"url(#p98bce2db88)\" d=\"M 286.809091 224.64 \nL 286.809091 7.2 \n\" style=\"fill:none;stroke:#ffffff;stroke-linecap:round;stroke-width:0.8;\"/>\n     </g>\n     <g id=\"text_7\">\n      <!-- 12 -->\n      <g style=\"fill:#262626;\" transform=\"translate(281.248153 238.797812)scale(0.1 -0.1)\">\n       <use xlink:href=\"#ArialMT-49\"/>\n       <use x=\"55.615234\" xlink:href=\"#ArialMT-50\"/>\n      </g>\n     </g>\n    </g>\n    <g id=\"xtick_8\">\n     <g id=\"line2d_8\">\n      <path clip-path=\"url(#p98bce2db88)\" d=\"M 327.390909 224.64 \nL 327.390909 7.2 \n\" style=\"fill:none;stroke:#ffffff;stroke-linecap:round;stroke-width:0.8;\"/>\n     </g>\n     <g id=\"text_8\">\n      <!-- 14 -->\n      <g style=\"fill:#262626;\" transform=\"translate(321.829972 238.797812)scale(0.1 -0.1)\">\n       <use xlink:href=\"#ArialMT-49\"/>\n       <use x=\"55.615234\" xlink:href=\"#ArialMT-52\"/>\n      </g>\n     </g>\n    </g>\n    <g id=\"text_9\">\n     <!-- DaysInHospital -->\n     <defs>\n      <path d=\"M 7.71875 0 \nL 7.71875 71.578125 \nL 32.375 71.578125 \nQ 40.71875 71.578125 45.125 70.5625 \nQ 51.265625 69.140625 55.609375 65.4375 \nQ 61.28125 60.640625 64.078125 53.1875 \nQ 66.890625 45.75 66.890625 36.1875 \nQ 66.890625 28.03125 64.984375 21.734375 \nQ 63.09375 15.4375 60.109375 11.296875 \nQ 57.125 7.171875 53.578125 4.796875 \nQ 50.046875 2.4375 45.046875 1.21875 \nQ 40.046875 0 33.546875 0 \nz\nM 17.1875 8.453125 \nL 32.46875 8.453125 \nQ 39.546875 8.453125 43.578125 9.765625 \nQ 47.609375 11.078125 50 13.484375 \nQ 53.375 16.84375 55.25 22.53125 \nQ 57.125 28.21875 57.125 36.328125 \nQ 57.125 47.5625 53.4375 53.59375 \nQ 49.75 59.625 44.484375 61.671875 \nQ 40.671875 63.140625 32.234375 63.140625 \nL 17.1875 63.140625 \nz\n\" id=\"ArialMT-68\"/>\n      <path d=\"M 40.4375 6.390625 \nQ 35.546875 2.25 31.03125 0.53125 \nQ 26.515625 -1.171875 21.34375 -1.171875 \nQ 12.796875 -1.171875 8.203125 3 \nQ 3.609375 7.171875 3.609375 13.671875 \nQ 3.609375 17.484375 5.34375 20.625 \nQ 7.078125 23.78125 9.890625 25.6875 \nQ 12.703125 27.59375 16.21875 28.5625 \nQ 18.796875 29.25 24.03125 29.890625 \nQ 34.671875 31.15625 39.703125 32.90625 \nQ 39.75 34.71875 39.75 35.203125 \nQ 39.75 40.578125 37.25 42.78125 \nQ 33.890625 45.75 27.25 45.75 \nQ 21.046875 45.75 18.09375 43.578125 \nQ 15.140625 41.40625 13.71875 35.890625 \nL 5.125 37.0625 \nQ 6.296875 42.578125 8.984375 45.96875 \nQ 11.671875 49.359375 16.75 51.1875 \nQ 21.828125 53.03125 28.515625 53.03125 \nQ 35.15625 53.03125 39.296875 51.46875 \nQ 43.453125 49.90625 45.40625 47.53125 \nQ 47.359375 45.171875 48.140625 41.546875 \nQ 48.578125 39.3125 48.578125 33.453125 \nL 48.578125 21.734375 \nQ 48.578125 9.46875 49.140625 6.21875 \nQ 49.703125 2.984375 51.375 0 \nL 42.1875 0 \nQ 40.828125 2.734375 40.4375 6.390625 \nz\nM 39.703125 26.03125 \nQ 34.90625 24.078125 25.34375 22.703125 \nQ 19.921875 21.921875 17.671875 20.9375 \nQ 15.4375 19.96875 14.203125 18.09375 \nQ 12.984375 16.21875 12.984375 13.921875 \nQ 12.984375 10.40625 15.640625 8.0625 \nQ 18.3125 5.71875 23.4375 5.71875 \nQ 28.515625 5.71875 32.46875 7.9375 \nQ 36.421875 10.15625 38.28125 14.015625 \nQ 39.703125 17 39.703125 22.796875 \nz\n\" id=\"ArialMT-97\"/>\n      <path d=\"M 6.203125 -19.96875 \nL 5.21875 -11.71875 \nQ 8.109375 -12.5 10.25 -12.5 \nQ 13.1875 -12.5 14.9375 -11.515625 \nQ 16.703125 -10.546875 17.828125 -8.796875 \nQ 18.65625 -7.46875 20.515625 -2.25 \nQ 20.75 -1.515625 21.296875 -0.09375 \nL 1.609375 51.859375 \nL 11.078125 51.859375 \nL 21.875 21.828125 \nQ 23.96875 16.109375 25.640625 9.8125 \nQ 27.15625 15.875 29.25 21.625 \nL 40.328125 51.859375 \nL 49.125 51.859375 \nL 29.390625 -0.875 \nQ 26.21875 -9.421875 24.46875 -12.640625 \nQ 22.125 -17 19.09375 -19.015625 \nQ 16.0625 -21.046875 11.859375 -21.046875 \nQ 9.328125 -21.046875 6.203125 -19.96875 \nz\n\" id=\"ArialMT-121\"/>\n      <path d=\"M 3.078125 15.484375 \nL 11.765625 16.84375 \nQ 12.5 11.625 15.84375 8.84375 \nQ 19.1875 6.0625 25.203125 6.0625 \nQ 31.25 6.0625 34.171875 8.515625 \nQ 37.109375 10.984375 37.109375 14.3125 \nQ 37.109375 17.28125 34.515625 19 \nQ 32.71875 20.171875 25.53125 21.96875 \nQ 15.875 24.421875 12.140625 26.203125 \nQ 8.40625 27.984375 6.46875 31.125 \nQ 4.546875 34.28125 4.546875 38.09375 \nQ 4.546875 41.546875 6.125 44.5 \nQ 7.71875 47.46875 10.453125 49.421875 \nQ 12.5 50.921875 16.03125 51.96875 \nQ 19.578125 53.03125 23.640625 53.03125 \nQ 29.734375 53.03125 34.34375 51.265625 \nQ 38.96875 49.515625 41.15625 46.5 \nQ 43.359375 43.5 44.1875 38.484375 \nL 35.59375 37.3125 \nQ 35.015625 41.3125 32.203125 43.546875 \nQ 29.390625 45.796875 24.265625 45.796875 \nQ 18.21875 45.796875 15.625 43.796875 \nQ 13.03125 41.796875 13.03125 39.109375 \nQ 13.03125 37.40625 14.109375 36.03125 \nQ 15.1875 34.625 17.484375 33.6875 \nQ 18.796875 33.203125 25.25 31.453125 \nQ 34.578125 28.953125 38.25 27.359375 \nQ 41.9375 25.78125 44.03125 22.75 \nQ 46.140625 19.734375 46.140625 15.234375 \nQ 46.140625 10.84375 43.578125 6.953125 \nQ 41.015625 3.078125 36.171875 0.953125 \nQ 31.34375 -1.171875 25.25 -1.171875 \nQ 15.140625 -1.171875 9.84375 3.03125 \nQ 4.546875 7.234375 3.078125 15.484375 \nz\n\" id=\"ArialMT-115\"/>\n      <path d=\"M 9.328125 0 \nL 9.328125 71.578125 \nL 18.796875 71.578125 \nL 18.796875 0 \nz\n\" id=\"ArialMT-73\"/>\n      <path d=\"M 6.59375 0 \nL 6.59375 51.859375 \nL 14.5 51.859375 \nL 14.5 44.484375 \nQ 20.21875 53.03125 31 53.03125 \nQ 35.6875 53.03125 39.625 51.34375 \nQ 43.5625 49.65625 45.515625 46.921875 \nQ 47.46875 44.1875 48.25 40.4375 \nQ 48.734375 37.984375 48.734375 31.890625 \nL 48.734375 0 \nL 39.9375 0 \nL 39.9375 31.546875 \nQ 39.9375 36.921875 38.90625 39.578125 \nQ 37.890625 42.234375 35.28125 43.8125 \nQ 32.671875 45.40625 29.15625 45.40625 \nQ 23.53125 45.40625 19.453125 41.84375 \nQ 15.375 38.28125 15.375 28.328125 \nL 15.375 0 \nz\n\" id=\"ArialMT-110\"/>\n      <path d=\"M 8.015625 0 \nL 8.015625 71.578125 \nL 17.484375 71.578125 \nL 17.484375 42.1875 \nL 54.6875 42.1875 \nL 54.6875 71.578125 \nL 64.15625 71.578125 \nL 64.15625 0 \nL 54.6875 0 \nL 54.6875 33.734375 \nL 17.484375 33.734375 \nL 17.484375 0 \nz\n\" id=\"ArialMT-72\"/>\n      <path d=\"M 3.328125 25.921875 \nQ 3.328125 40.328125 11.328125 47.265625 \nQ 18.015625 53.03125 27.640625 53.03125 \nQ 38.328125 53.03125 45.109375 46.015625 \nQ 51.90625 39.015625 51.90625 26.65625 \nQ 51.90625 16.65625 48.90625 10.90625 \nQ 45.90625 5.171875 40.15625 2 \nQ 34.421875 -1.171875 27.640625 -1.171875 \nQ 16.75 -1.171875 10.03125 5.8125 \nQ 3.328125 12.796875 3.328125 25.921875 \nz\nM 12.359375 25.921875 \nQ 12.359375 15.96875 16.703125 11.015625 \nQ 21.046875 6.0625 27.640625 6.0625 \nQ 34.1875 6.0625 38.53125 11.03125 \nQ 42.875 16.015625 42.875 26.21875 \nQ 42.875 35.84375 38.5 40.796875 \nQ 34.125 45.75 27.640625 45.75 \nQ 21.046875 45.75 16.703125 40.8125 \nQ 12.359375 35.890625 12.359375 25.921875 \nz\n\" id=\"ArialMT-111\"/>\n      <path d=\"M 6.59375 -19.875 \nL 6.59375 51.859375 \nL 14.59375 51.859375 \nL 14.59375 45.125 \nQ 17.4375 49.078125 21 51.046875 \nQ 24.5625 53.03125 29.640625 53.03125 \nQ 36.28125 53.03125 41.359375 49.609375 \nQ 46.4375 46.1875 49.015625 39.953125 \nQ 51.609375 33.734375 51.609375 26.3125 \nQ 51.609375 18.359375 48.75 11.984375 \nQ 45.90625 5.609375 40.453125 2.21875 \nQ 35.015625 -1.171875 29 -1.171875 \nQ 24.609375 -1.171875 21.109375 0.6875 \nQ 17.625 2.546875 15.375 5.375 \nL 15.375 -19.875 \nz\nM 14.546875 25.640625 \nQ 14.546875 15.625 18.59375 10.84375 \nQ 22.65625 6.0625 28.421875 6.0625 \nQ 34.28125 6.0625 38.453125 11.015625 \nQ 42.625 15.96875 42.625 26.375 \nQ 42.625 36.28125 38.546875 41.203125 \nQ 34.46875 46.140625 28.8125 46.140625 \nQ 23.1875 46.140625 18.859375 40.890625 \nQ 14.546875 35.640625 14.546875 25.640625 \nz\n\" id=\"ArialMT-112\"/>\n      <path d=\"M 6.640625 61.46875 \nL 6.640625 71.578125 \nL 15.4375 71.578125 \nL 15.4375 61.46875 \nz\nM 6.640625 0 \nL 6.640625 51.859375 \nL 15.4375 51.859375 \nL 15.4375 0 \nz\n\" id=\"ArialMT-105\"/>\n      <path d=\"M 25.78125 7.859375 \nL 27.046875 0.09375 \nQ 23.34375 -0.6875 20.40625 -0.6875 \nQ 15.625 -0.6875 12.984375 0.828125 \nQ 10.359375 2.34375 9.28125 4.8125 \nQ 8.203125 7.28125 8.203125 15.1875 \nL 8.203125 45.015625 \nL 1.765625 45.015625 \nL 1.765625 51.859375 \nL 8.203125 51.859375 \nL 8.203125 64.703125 \nL 16.9375 69.96875 \nL 16.9375 51.859375 \nL 25.78125 51.859375 \nL 25.78125 45.015625 \nL 16.9375 45.015625 \nL 16.9375 14.703125 \nQ 16.9375 10.9375 17.40625 9.859375 \nQ 17.875 8.796875 18.921875 8.15625 \nQ 19.96875 7.515625 21.921875 7.515625 \nQ 23.390625 7.515625 25.78125 7.859375 \nz\n\" id=\"ArialMT-116\"/>\n      <path d=\"M 6.390625 0 \nL 6.390625 71.578125 \nL 15.1875 71.578125 \nL 15.1875 0 \nz\n\" id=\"ArialMT-108\"/>\n     </defs>\n     <g style=\"fill:#262626;\" transform=\"translate(161.875781 251.943125)scale(0.1 -0.1)\">\n      <use xlink:href=\"#ArialMT-68\"/>\n      <use x=\"72.216797\" xlink:href=\"#ArialMT-97\"/>\n      <use x=\"127.832031\" xlink:href=\"#ArialMT-121\"/>\n      <use x=\"177.832031\" xlink:href=\"#ArialMT-115\"/>\n      <use x=\"227.832031\" xlink:href=\"#ArialMT-73\"/>\n      <use x=\"255.615234\" xlink:href=\"#ArialMT-110\"/>\n      <use x=\"311.230469\" xlink:href=\"#ArialMT-72\"/>\n      <use x=\"383.447266\" xlink:href=\"#ArialMT-111\"/>\n      <use x=\"439.0625\" xlink:href=\"#ArialMT-115\"/>\n      <use x=\"489.0625\" xlink:href=\"#ArialMT-112\"/>\n      <use x=\"544.677734\" xlink:href=\"#ArialMT-105\"/>\n      <use x=\"566.894531\" xlink:href=\"#ArialMT-116\"/>\n      <use x=\"594.677734\" xlink:href=\"#ArialMT-97\"/>\n      <use x=\"650.292969\" xlink:href=\"#ArialMT-108\"/>\n     </g>\n    </g>\n   </g>\n   <g id=\"matplotlib.axis_2\">\n    <g id=\"ytick_1\">\n     <g id=\"line2d_9\">\n      <path clip-path=\"url(#p98bce2db88)\" d=\"M 28.1 224.64 \nL 362.9 224.64 \n\" style=\"fill:none;stroke:#ffffff;stroke-linecap:round;stroke-width:0.8;\"/>\n     </g>\n     <g id=\"text_10\">\n      <!-- 0.0 -->\n      <defs>\n       <path d=\"M 9.078125 0 \nL 9.078125 10.015625 \nL 19.09375 10.015625 \nL 19.09375 0 \nz\n\" id=\"ArialMT-46\"/>\n      </defs>\n      <g style=\"fill:#262626;\" transform=\"translate(7.2 228.218906)scale(0.1 -0.1)\">\n       <use xlink:href=\"#ArialMT-48\"/>\n       <use x=\"55.615234\" xlink:href=\"#ArialMT-46\"/>\n       <use x=\"83.398438\" xlink:href=\"#ArialMT-48\"/>\n      </g>\n     </g>\n    </g>\n    <g id=\"ytick_2\">\n     <g id=\"line2d_10\">\n      <path clip-path=\"url(#p98bce2db88)\" d=\"M 28.1 187.888883 \nL 362.9 187.888883 \n\" style=\"fill:none;stroke:#ffffff;stroke-linecap:round;stroke-width:0.8;\"/>\n     </g>\n     <g id=\"text_11\">\n      <!-- 0.5 -->\n      <defs>\n       <path d=\"M 4.15625 18.75 \nL 13.375 19.53125 \nQ 14.40625 12.796875 18.140625 9.390625 \nQ 21.875 6 27.15625 6 \nQ 33.5 6 37.890625 10.78125 \nQ 42.28125 15.578125 42.28125 23.484375 \nQ 42.28125 31 38.0625 35.34375 \nQ 33.84375 39.703125 27 39.703125 \nQ 22.75 39.703125 19.328125 37.765625 \nQ 15.921875 35.84375 13.96875 32.765625 \nL 5.71875 33.84375 \nL 12.640625 70.609375 \nL 48.25 70.609375 \nL 48.25 62.203125 \nL 19.671875 62.203125 \nL 15.828125 42.96875 \nQ 22.265625 47.46875 29.34375 47.46875 \nQ 38.71875 47.46875 45.15625 40.96875 \nQ 51.609375 34.46875 51.609375 24.265625 \nQ 51.609375 14.546875 45.953125 7.46875 \nQ 39.0625 -1.21875 27.15625 -1.21875 \nQ 17.390625 -1.21875 11.203125 4.25 \nQ 5.03125 9.71875 4.15625 18.75 \nz\n\" id=\"ArialMT-53\"/>\n      </defs>\n      <g style=\"fill:#262626;\" transform=\"translate(7.2 191.467789)scale(0.1 -0.1)\">\n       <use xlink:href=\"#ArialMT-48\"/>\n       <use x=\"55.615234\" xlink:href=\"#ArialMT-46\"/>\n       <use x=\"83.398438\" xlink:href=\"#ArialMT-53\"/>\n      </g>\n     </g>\n    </g>\n    <g id=\"ytick_3\">\n     <g id=\"line2d_11\">\n      <path clip-path=\"url(#p98bce2db88)\" d=\"M 28.1 151.137766 \nL 362.9 151.137766 \n\" style=\"fill:none;stroke:#ffffff;stroke-linecap:round;stroke-width:0.8;\"/>\n     </g>\n     <g id=\"text_12\">\n      <!-- 1.0 -->\n      <g style=\"fill:#262626;\" transform=\"translate(7.2 154.716672)scale(0.1 -0.1)\">\n       <use xlink:href=\"#ArialMT-49\"/>\n       <use x=\"55.615234\" xlink:href=\"#ArialMT-46\"/>\n       <use x=\"83.398438\" xlink:href=\"#ArialMT-48\"/>\n      </g>\n     </g>\n    </g>\n    <g id=\"ytick_4\">\n     <g id=\"line2d_12\">\n      <path clip-path=\"url(#p98bce2db88)\" d=\"M 28.1 114.386649 \nL 362.9 114.386649 \n\" style=\"fill:none;stroke:#ffffff;stroke-linecap:round;stroke-width:0.8;\"/>\n     </g>\n     <g id=\"text_13\">\n      <!-- 1.5 -->\n      <g style=\"fill:#262626;\" transform=\"translate(7.2 117.965556)scale(0.1 -0.1)\">\n       <use xlink:href=\"#ArialMT-49\"/>\n       <use x=\"55.615234\" xlink:href=\"#ArialMT-46\"/>\n       <use x=\"83.398438\" xlink:href=\"#ArialMT-53\"/>\n      </g>\n     </g>\n    </g>\n    <g id=\"ytick_5\">\n     <g id=\"line2d_13\">\n      <path clip-path=\"url(#p98bce2db88)\" d=\"M 28.1 77.635532 \nL 362.9 77.635532 \n\" style=\"fill:none;stroke:#ffffff;stroke-linecap:round;stroke-width:0.8;\"/>\n     </g>\n     <g id=\"text_14\">\n      <!-- 2.0 -->\n      <g style=\"fill:#262626;\" transform=\"translate(7.2 81.214439)scale(0.1 -0.1)\">\n       <use xlink:href=\"#ArialMT-50\"/>\n       <use x=\"55.615234\" xlink:href=\"#ArialMT-46\"/>\n       <use x=\"83.398438\" xlink:href=\"#ArialMT-48\"/>\n      </g>\n     </g>\n    </g>\n    <g id=\"ytick_6\">\n     <g id=\"line2d_14\">\n      <path clip-path=\"url(#p98bce2db88)\" d=\"M 28.1 40.884416 \nL 362.9 40.884416 \n\" style=\"fill:none;stroke:#ffffff;stroke-linecap:round;stroke-width:0.8;\"/>\n     </g>\n     <g id=\"text_15\">\n      <!-- 2.5 -->\n      <g style=\"fill:#262626;\" transform=\"translate(7.2 44.463322)scale(0.1 -0.1)\">\n       <use xlink:href=\"#ArialMT-50\"/>\n       <use x=\"55.615234\" xlink:href=\"#ArialMT-46\"/>\n       <use x=\"83.398438\" xlink:href=\"#ArialMT-53\"/>\n      </g>\n     </g>\n    </g>\n   </g>\n   <g id=\"patch_3\">\n    <path clip-path=\"url(#p98bce2db88)\" d=\"M 43.318182 224.64 \nL 49.405455 224.64 \nL 49.405455 17.554286 \nL 43.318182 17.554286 \nz\n\" style=\"fill:#1f77b4;opacity:0.4;stroke:#ffffff;stroke-linejoin:miter;\"/>\n   </g>\n   <g id=\"patch_4\">\n    <path clip-path=\"url(#p98bce2db88)\" d=\"M 49.405455 224.64 \nL 55.492727 224.64 \nL 55.492727 224.64 \nL 49.405455 224.64 \nz\n\" style=\"fill:#1f77b4;opacity:0.4;stroke:#ffffff;stroke-linejoin:miter;\"/>\n   </g>\n   <g id=\"patch_5\">\n    <path clip-path=\"url(#p98bce2db88)\" d=\"M 55.492727 224.64 \nL 61.58 224.64 \nL 61.58 224.64 \nL 55.492727 224.64 \nz\n\" style=\"fill:#1f77b4;opacity:0.4;stroke:#ffffff;stroke-linejoin:miter;\"/>\n   </g>\n   <g id=\"patch_6\">\n    <path clip-path=\"url(#p98bce2db88)\" d=\"M 61.58 224.64 \nL 67.667273 224.64 \nL 67.667273 209.060803 \nL 61.58 209.060803 \nz\n\" style=\"fill:#1f77b4;opacity:0.4;stroke:#ffffff;stroke-linejoin:miter;\"/>\n   </g>\n   <g id=\"patch_7\">\n    <path clip-path=\"url(#p98bce2db88)\" d=\"M 67.667273 224.64 \nL 73.754545 224.64 \nL 73.754545 224.64 \nL 67.667273 224.64 \nz\n\" style=\"fill:#1f77b4;opacity:0.4;stroke:#ffffff;stroke-linejoin:miter;\"/>\n   </g>\n   <g id=\"patch_8\">\n    <path clip-path=\"url(#p98bce2db88)\" d=\"M 73.754545 224.64 \nL 79.841818 224.64 \nL 79.841818 224.64 \nL 73.754545 224.64 \nz\n\" style=\"fill:#1f77b4;opacity:0.4;stroke:#ffffff;stroke-linejoin:miter;\"/>\n   </g>\n   <g id=\"patch_9\">\n    <path clip-path=\"url(#p98bce2db88)\" d=\"M 79.841818 224.64 \nL 85.929091 224.64 \nL 85.929091 217.016343 \nL 79.841818 217.016343 \nz\n\" style=\"fill:#1f77b4;opacity:0.4;stroke:#ffffff;stroke-linejoin:miter;\"/>\n   </g>\n   <g id=\"patch_10\">\n    <path clip-path=\"url(#p98bce2db88)\" d=\"M 85.929091 224.64 \nL 92.016364 224.64 \nL 92.016364 224.64 \nL 85.929091 224.64 \nz\n\" style=\"fill:#1f77b4;opacity:0.4;stroke:#ffffff;stroke-linejoin:miter;\"/>\n   </g>\n   <g id=\"patch_11\">\n    <path clip-path=\"url(#p98bce2db88)\" d=\"M 92.016364 224.64 \nL 98.103636 224.64 \nL 98.103636 224.64 \nL 92.016364 224.64 \nz\n\" style=\"fill:#1f77b4;opacity:0.4;stroke:#ffffff;stroke-linejoin:miter;\"/>\n   </g>\n   <g id=\"patch_12\">\n    <path clip-path=\"url(#p98bce2db88)\" d=\"M 98.103636 224.64 \nL 104.190909 224.64 \nL 104.190909 224.64 \nL 98.103636 224.64 \nz\n\" style=\"fill:#1f77b4;opacity:0.4;stroke:#ffffff;stroke-linejoin:miter;\"/>\n   </g>\n   <g id=\"patch_13\">\n    <path clip-path=\"url(#p98bce2db88)\" d=\"M 104.190909 224.64 \nL 110.278182 224.64 \nL 110.278182 219.958185 \nL 104.190909 219.958185 \nz\n\" style=\"fill:#1f77b4;opacity:0.4;stroke:#ffffff;stroke-linejoin:miter;\"/>\n   </g>\n   <g id=\"patch_14\">\n    <path clip-path=\"url(#p98bce2db88)\" d=\"M 110.278182 224.64 \nL 116.365455 224.64 \nL 116.365455 224.64 \nL 110.278182 224.64 \nz\n\" style=\"fill:#1f77b4;opacity:0.4;stroke:#ffffff;stroke-linejoin:miter;\"/>\n   </g>\n   <g id=\"patch_15\">\n    <path clip-path=\"url(#p98bce2db88)\" d=\"M 116.365455 224.64 \nL 122.452727 224.64 \nL 122.452727 224.64 \nL 116.365455 224.64 \nz\n\" style=\"fill:#1f77b4;opacity:0.4;stroke:#ffffff;stroke-linejoin:miter;\"/>\n   </g>\n   <g id=\"patch_16\">\n    <path clip-path=\"url(#p98bce2db88)\" d=\"M 122.452727 224.64 \nL 128.54 224.64 \nL 128.54 221.491939 \nL 122.452727 221.491939 \nz\n\" style=\"fill:#1f77b4;opacity:0.4;stroke:#ffffff;stroke-linejoin:miter;\"/>\n   </g>\n   <g id=\"patch_17\">\n    <path clip-path=\"url(#p98bce2db88)\" d=\"M 128.54 224.64 \nL 134.627273 224.64 \nL 134.627273 224.64 \nL 128.54 224.64 \nz\n\" style=\"fill:#1f77b4;opacity:0.4;stroke:#ffffff;stroke-linejoin:miter;\"/>\n   </g>\n   <g id=\"patch_18\">\n    <path clip-path=\"url(#p98bce2db88)\" d=\"M 134.627273 224.64 \nL 140.714545 224.64 \nL 140.714545 224.64 \nL 134.627273 224.64 \nz\n\" style=\"fill:#1f77b4;opacity:0.4;stroke:#ffffff;stroke-linejoin:miter;\"/>\n   </g>\n   <g id=\"patch_19\">\n    <path clip-path=\"url(#p98bce2db88)\" d=\"M 140.714545 224.64 \nL 146.801818 224.64 \nL 146.801818 222.819473 \nL 140.714545 222.819473 \nz\n\" style=\"fill:#1f77b4;opacity:0.4;stroke:#ffffff;stroke-linejoin:miter;\"/>\n   </g>\n   <g id=\"patch_20\">\n    <path clip-path=\"url(#p98bce2db88)\" d=\"M 146.801818 224.64 \nL 152.889091 224.64 \nL 152.889091 224.64 \nL 146.801818 224.64 \nz\n\" style=\"fill:#1f77b4;opacity:0.4;stroke:#ffffff;stroke-linejoin:miter;\"/>\n   </g>\n   <g id=\"patch_21\">\n    <path clip-path=\"url(#p98bce2db88)\" d=\"M 152.889091 224.64 \nL 158.976364 224.64 \nL 158.976364 224.64 \nL 152.889091 224.64 \nz\n\" style=\"fill:#1f77b4;opacity:0.4;stroke:#ffffff;stroke-linejoin:miter;\"/>\n   </g>\n   <g id=\"patch_22\">\n    <path clip-path=\"url(#p98bce2db88)\" d=\"M 158.976364 224.64 \nL 165.063636 224.64 \nL 165.063636 224.64 \nL 158.976364 224.64 \nz\n\" style=\"fill:#1f77b4;opacity:0.4;stroke:#ffffff;stroke-linejoin:miter;\"/>\n   </g>\n   <g id=\"patch_23\">\n    <path clip-path=\"url(#p98bce2db88)\" d=\"M 165.063636 224.64 \nL 171.150909 224.64 \nL 171.150909 223.43813 \nL 165.063636 223.43813 \nz\n\" style=\"fill:#1f77b4;opacity:0.4;stroke:#ffffff;stroke-linejoin:miter;\"/>\n   </g>\n   <g id=\"patch_24\">\n    <path clip-path=\"url(#p98bce2db88)\" d=\"M 171.150909 224.64 \nL 177.238182 224.64 \nL 177.238182 224.64 \nL 171.150909 224.64 \nz\n\" style=\"fill:#1f77b4;opacity:0.4;stroke:#ffffff;stroke-linejoin:miter;\"/>\n   </g>\n   <g id=\"patch_25\">\n    <path clip-path=\"url(#p98bce2db88)\" d=\"M 177.238182 224.64 \nL 183.325455 224.64 \nL 183.325455 224.64 \nL 177.238182 224.64 \nz\n\" style=\"fill:#1f77b4;opacity:0.4;stroke:#ffffff;stroke-linejoin:miter;\"/>\n   </g>\n   <g id=\"patch_26\">\n    <path clip-path=\"url(#p98bce2db88)\" d=\"M 183.325455 224.64 \nL 189.412727 224.64 \nL 189.412727 223.815124 \nL 183.325455 223.815124 \nz\n\" style=\"fill:#1f77b4;opacity:0.4;stroke:#ffffff;stroke-linejoin:miter;\"/>\n   </g>\n   <g id=\"patch_27\">\n    <path clip-path=\"url(#p98bce2db88)\" d=\"M 189.412727 224.64 \nL 195.5 224.64 \nL 195.5 224.64 \nL 189.412727 224.64 \nz\n\" style=\"fill:#1f77b4;opacity:0.4;stroke:#ffffff;stroke-linejoin:miter;\"/>\n   </g>\n   <g id=\"patch_28\">\n    <path clip-path=\"url(#p98bce2db88)\" d=\"M 195.5 224.64 \nL 201.587273 224.64 \nL 201.587273 224.64 \nL 195.5 224.64 \nz\n\" style=\"fill:#1f77b4;opacity:0.4;stroke:#ffffff;stroke-linejoin:miter;\"/>\n   </g>\n   <g id=\"patch_29\">\n    <path clip-path=\"url(#p98bce2db88)\" d=\"M 201.587273 224.64 \nL 207.674545 224.64 \nL 207.674545 224.082564 \nL 201.587273 224.082564 \nz\n\" style=\"fill:#1f77b4;opacity:0.4;stroke:#ffffff;stroke-linejoin:miter;\"/>\n   </g>\n   <g id=\"patch_30\">\n    <path clip-path=\"url(#p98bce2db88)\" d=\"M 207.674545 224.64 \nL 213.761818 224.64 \nL 213.761818 224.64 \nL 207.674545 224.64 \nz\n\" style=\"fill:#1f77b4;opacity:0.4;stroke:#ffffff;stroke-linejoin:miter;\"/>\n   </g>\n   <g id=\"patch_31\">\n    <path clip-path=\"url(#p98bce2db88)\" d=\"M 213.761818 224.64 \nL 219.849091 224.64 \nL 219.849091 224.64 \nL 213.761818 224.64 \nz\n\" style=\"fill:#1f77b4;opacity:0.4;stroke:#ffffff;stroke-linejoin:miter;\"/>\n   </g>\n   <g id=\"patch_32\">\n    <path clip-path=\"url(#p98bce2db88)\" d=\"M 219.849091 224.64 \nL 225.936364 224.64 \nL 225.936364 224.64 \nL 219.849091 224.64 \nz\n\" style=\"fill:#1f77b4;opacity:0.4;stroke:#ffffff;stroke-linejoin:miter;\"/>\n   </g>\n   <g id=\"patch_33\">\n    <path clip-path=\"url(#p98bce2db88)\" d=\"M 225.936364 224.64 \nL 232.023636 224.64 \nL 232.023636 224.163119 \nL 225.936364 224.163119 \nz\n\" style=\"fill:#1f77b4;opacity:0.4;stroke:#ffffff;stroke-linejoin:miter;\"/>\n   </g>\n   <g id=\"patch_34\">\n    <path clip-path=\"url(#p98bce2db88)\" d=\"M 232.023636 224.64 \nL 238.110909 224.64 \nL 238.110909 224.64 \nL 232.023636 224.64 \nz\n\" style=\"fill:#1f77b4;opacity:0.4;stroke:#ffffff;stroke-linejoin:miter;\"/>\n   </g>\n   <g id=\"patch_35\">\n    <path clip-path=\"url(#p98bce2db88)\" d=\"M 238.110909 224.64 \nL 244.198182 224.64 \nL 244.198182 224.64 \nL 238.110909 224.64 \nz\n\" style=\"fill:#1f77b4;opacity:0.4;stroke:#ffffff;stroke-linejoin:miter;\"/>\n   </g>\n   <g id=\"patch_36\">\n    <path clip-path=\"url(#p98bce2db88)\" d=\"M 244.198182 224.64 \nL 250.285455 224.64 \nL 250.285455 224.29845 \nL 244.198182 224.29845 \nz\n\" style=\"fill:#1f77b4;opacity:0.4;stroke:#ffffff;stroke-linejoin:miter;\"/>\n   </g>\n   <g id=\"patch_37\">\n    <path clip-path=\"url(#p98bce2db88)\" d=\"M 250.285455 224.64 \nL 256.372727 224.64 \nL 256.372727 224.64 \nL 250.285455 224.64 \nz\n\" style=\"fill:#1f77b4;opacity:0.4;stroke:#ffffff;stroke-linejoin:miter;\"/>\n   </g>\n   <g id=\"patch_38\">\n    <path clip-path=\"url(#p98bce2db88)\" d=\"M 256.372727 224.64 \nL 262.46 224.64 \nL 262.46 224.64 \nL 256.372727 224.64 \nz\n\" style=\"fill:#1f77b4;opacity:0.4;stroke:#ffffff;stroke-linejoin:miter;\"/>\n   </g>\n   <g id=\"patch_39\">\n    <path clip-path=\"url(#p98bce2db88)\" d=\"M 262.46 224.64 \nL 268.547273 224.64 \nL 268.547273 224.382226 \nL 262.46 224.382226 \nz\n\" style=\"fill:#1f77b4;opacity:0.4;stroke:#ffffff;stroke-linejoin:miter;\"/>\n   </g>\n   <g id=\"patch_40\">\n    <path clip-path=\"url(#p98bce2db88)\" d=\"M 268.547273 224.64 \nL 274.634545 224.64 \nL 274.634545 224.64 \nL 268.547273 224.64 \nz\n\" style=\"fill:#1f77b4;opacity:0.4;stroke:#ffffff;stroke-linejoin:miter;\"/>\n   </g>\n   <g id=\"patch_41\">\n    <path clip-path=\"url(#p98bce2db88)\" d=\"M 274.634545 224.64 \nL 280.721818 224.64 \nL 280.721818 224.64 \nL 274.634545 224.64 \nz\n\" style=\"fill:#1f77b4;opacity:0.4;stroke:#ffffff;stroke-linejoin:miter;\"/>\n   </g>\n   <g id=\"patch_42\">\n    <path clip-path=\"url(#p98bce2db88)\" d=\"M 280.721818 224.64 \nL 286.809091 224.64 \nL 286.809091 224.64 \nL 280.721818 224.64 \nz\n\" style=\"fill:#1f77b4;opacity:0.4;stroke:#ffffff;stroke-linejoin:miter;\"/>\n   </g>\n   <g id=\"patch_43\">\n    <path clip-path=\"url(#p98bce2db88)\" d=\"M 286.809091 224.64 \nL 292.896364 224.64 \nL 292.896364 224.404782 \nL 286.809091 224.404782 \nz\n\" style=\"fill:#1f77b4;opacity:0.4;stroke:#ffffff;stroke-linejoin:miter;\"/>\n   </g>\n   <g id=\"patch_44\">\n    <path clip-path=\"url(#p98bce2db88)\" d=\"M 292.896364 224.64 \nL 298.983636 224.64 \nL 298.983636 224.64 \nL 292.896364 224.64 \nz\n\" style=\"fill:#1f77b4;opacity:0.4;stroke:#ffffff;stroke-linejoin:miter;\"/>\n   </g>\n   <g id=\"patch_45\">\n    <path clip-path=\"url(#p98bce2db88)\" d=\"M 298.983636 224.64 \nL 305.070909 224.64 \nL 305.070909 224.64 \nL 298.983636 224.64 \nz\n\" style=\"fill:#1f77b4;opacity:0.4;stroke:#ffffff;stroke-linejoin:miter;\"/>\n   </g>\n   <g id=\"patch_46\">\n    <path clip-path=\"url(#p98bce2db88)\" d=\"M 305.070909 224.64 \nL 311.158182 224.64 \nL 311.158182 224.443448 \nL 305.070909 224.443448 \nz\n\" style=\"fill:#1f77b4;opacity:0.4;stroke:#ffffff;stroke-linejoin:miter;\"/>\n   </g>\n   <g id=\"patch_47\">\n    <path clip-path=\"url(#p98bce2db88)\" d=\"M 311.158182 224.64 \nL 317.245455 224.64 \nL 317.245455 224.64 \nL 311.158182 224.64 \nz\n\" style=\"fill:#1f77b4;opacity:0.4;stroke:#ffffff;stroke-linejoin:miter;\"/>\n   </g>\n   <g id=\"patch_48\">\n    <path clip-path=\"url(#p98bce2db88)\" d=\"M 317.245455 224.64 \nL 323.332727 224.64 \nL 323.332727 224.64 \nL 317.245455 224.64 \nz\n\" style=\"fill:#1f77b4;opacity:0.4;stroke:#ffffff;stroke-linejoin:miter;\"/>\n   </g>\n   <g id=\"patch_49\">\n    <path clip-path=\"url(#p98bce2db88)\" d=\"M 323.332727 224.64 \nL 329.42 224.64 \nL 329.42 224.504669 \nL 323.332727 224.504669 \nz\n\" style=\"fill:#1f77b4;opacity:0.4;stroke:#ffffff;stroke-linejoin:miter;\"/>\n   </g>\n   <g id=\"patch_50\">\n    <path clip-path=\"url(#p98bce2db88)\" d=\"M 329.42 224.64 \nL 335.507273 224.64 \nL 335.507273 224.64 \nL 329.42 224.64 \nz\n\" style=\"fill:#1f77b4;opacity:0.4;stroke:#ffffff;stroke-linejoin:miter;\"/>\n   </g>\n   <g id=\"patch_51\">\n    <path clip-path=\"url(#p98bce2db88)\" d=\"M 335.507273 224.64 \nL 341.594545 224.64 \nL 341.594545 224.64 \nL 335.507273 224.64 \nz\n\" style=\"fill:#1f77b4;opacity:0.4;stroke:#ffffff;stroke-linejoin:miter;\"/>\n   </g>\n   <g id=\"patch_52\">\n    <path clip-path=\"url(#p98bce2db88)\" d=\"M 341.594545 224.64 \nL 347.681818 224.64 \nL 347.681818 223.799013 \nL 341.594545 223.799013 \nz\n\" style=\"fill:#1f77b4;opacity:0.4;stroke:#ffffff;stroke-linejoin:miter;\"/>\n   </g>\n   <g id=\"line2d_15\"/>\n   <g id=\"patch_53\">\n    <path d=\"M 28.1 224.64 \nL 28.1 7.2 \n\" style=\"fill:none;stroke:#ffffff;stroke-linecap:square;stroke-linejoin:miter;stroke-width:0.8;\"/>\n   </g>\n   <g id=\"patch_54\">\n    <path d=\"M 362.9 224.64 \nL 362.9 7.2 \n\" style=\"fill:none;stroke:#ffffff;stroke-linecap:square;stroke-linejoin:miter;stroke-width:0.8;\"/>\n   </g>\n   <g id=\"patch_55\">\n    <path d=\"M 28.1 224.64 \nL 362.9 224.64 \n\" style=\"fill:none;stroke:#ffffff;stroke-linecap:square;stroke-linejoin:miter;stroke-width:0.8;\"/>\n   </g>\n   <g id=\"patch_56\">\n    <path d=\"M 28.1 7.2 \nL 362.9 7.2 \n\" style=\"fill:none;stroke:#ffffff;stroke-linecap:square;stroke-linejoin:miter;stroke-width:0.8;\"/>\n   </g>\n  </g>\n </g>\n <defs>\n  <clipPath id=\"p98bce2db88\">\n   <rect height=\"217.44\" width=\"334.8\" x=\"28.1\" y=\"7.2\"/>\n  </clipPath>\n </defs>\n</svg>\n",
      "image/png": "[encoded data removed]"
     },
     "metadata": {}
    }
   ],
   "source": [
    "sns.distplot(df_a_train[\"DaysInHospital\"])"
   ]
  },
  {
   "cell_type": "code",
   "execution_count": 37,
   "metadata": {},
   "outputs": [
    {
     "output_type": "execute_result",
     "data": {
      "text/plain": [
       "AgeAtFirstClaim    0.0\n",
       "ClaimCount         0.0\n",
       "ProviderID         0.0\n",
       "Vendor             0.0\n",
       "PCP                0.0\n",
       "                  ... \n",
       "DrugClaimCount     0.0\n",
       "DaysInHospital     0.0\n",
       "Sex_F              0.0\n",
       "Sex_M              0.0\n",
       "Sex_NaN            0.0\n",
       "Length: 123, dtype: float64"
      ]
     },
     "metadata": {},
     "execution_count": 37
    }
   ],
   "source": [
    "missing_rate = df_a_train.isnull().sum() / df_a_train.shape[0]\n",
    "missing_rate"
   ]
  },
  {
   "cell_type": "code",
   "execution_count": 38,
   "metadata": {},
   "outputs": [
    {
     "output_type": "execute_result",
     "data": {
      "text/plain": [
       "Series([], dtype: float64)"
      ]
     },
     "metadata": {},
     "execution_count": 38
    }
   ],
   "source": [
    "need_remove = missing_rate[missing_rate != 0]\n",
    "need_remove"
   ]
  },
  {
   "cell_type": "code",
   "execution_count": 82,
   "metadata": {},
   "outputs": [],
   "source": [
    "def one_hot_encode(df, column, params=None, drop=False):\n",
    "    df[column].fillna(\"NaN\", inplace=True)\n",
    "    if params == None:\n",
    "        value_count = df[column].value_counts()\n",
    "\n",
    "        category = list(value_count.index)\n",
    "        max_category = category[np.argmax(value_count)]\n",
    "        if drop:\n",
    "            category.remove(max_category)\n",
    "        \n",
    "        for index in category:\n",
    "            column_name = \"{}_{}\".format(column, index)\n",
    "            df[column_name] = 0\n",
    "            df.loc[df[column] == index, column_name] = 1\n",
    "\n",
    "        df.drop(columns=[column], inplace=True)\n",
    "        return { \"category\": list(value_count.index), \"drop\": max_category }\n",
    "    else:\n",
    "        category = params[\"category\"]\n",
    "        is_drop = params[\"drop\"]\n",
    "        if drop:\n",
    "            category.remove(drop)\n",
    "\n",
    "        for index in category:\n",
    "            column_name = \"{}_{}\".format(column, index)\n",
    "            df[column_name] = 0\n",
    "            df.loc[df[column] == index, column_name] = 1\n",
    "\n",
    "        df.drop(columns=[column], inplace=True)\n",
    "        return params"
   ]
  },
  {
   "cell_type": "code",
   "execution_count": 28,
   "metadata": {},
   "outputs": [],
   "source": [
    "sex_param = one_hot_encode(df_a_train, \"Sex\")"
   ]
  },
  {
   "cell_type": "code",
   "execution_count": 21,
   "metadata": {},
   "outputs": [
    {
     "output_type": "execute_result",
     "data": {
      "text/plain": [
       "{'category': ['F', 'M', 'NaN'], 'drop': 'F'}"
      ]
     },
     "metadata": {},
     "execution_count": 21
    }
   ],
   "source": [
    "sex_param"
   ]
  },
  {
   "cell_type": "code",
   "execution_count": 22,
   "metadata": {},
   "outputs": [
    {
     "output_type": "execute_result",
     "data": {
      "text/plain": [
       "          AgeAtFirstClaim  ClaimCount  ProviderID  Vendor  PCP  \\\n",
       "MemberID                                                         \n",
       "210                    35         8.0         4.0     4.0  2.0   \n",
       "3197                    5         5.0         3.0     3.0  1.0   \n",
       "3889                   -1        13.0         7.0     7.0  1.0   \n",
       "4187                   55         4.0         3.0     3.0  1.0   \n",
       "9063                   65         4.0         2.0     2.0  1.0   \n",
       "...                   ...         ...         ...     ...  ...   \n",
       "99995554               45        35.0         3.0     3.0  1.0   \n",
       "99996214               45         1.0         1.0     1.0  1.0   \n",
       "99997485               15         1.0         1.0     1.0  1.0   \n",
       "99997895               45        14.0         5.0     4.0  1.0   \n",
       "99998627               35        10.0         7.0     7.0  1.0   \n",
       "\n",
       "          SpecialtyCount_Surgery  SpecialtyCount_Rehabilitation  \\\n",
       "MemberID                                                          \n",
       "210                          0.0                            0.0   \n",
       "3197                         0.0                            0.0   \n",
       "3889                         0.0                            0.0   \n",
       "4187                         0.0                            0.0   \n",
       "9063                         0.0                            0.0   \n",
       "...                          ...                            ...   \n",
       "99995554                     0.0                            0.0   \n",
       "99996214                     0.0                            0.0   \n",
       "99997485                     0.0                            0.0   \n",
       "99997895                     2.0                            0.0   \n",
       "99998627                     0.0                            0.0   \n",
       "\n",
       "          SpecialtyCount_Diagnostic Imaging  SpecialtyCount_Emergency  \\\n",
       "MemberID                                                                \n",
       "210                                     0.0                       2.0   \n",
       "3197                                    0.0                       2.0   \n",
       "3889                                    1.0                       4.0   \n",
       "4187                                    1.0                       0.0   \n",
       "9063                                    1.0                       0.0   \n",
       "...                                     ...                       ...   \n",
       "99995554                                0.0                       0.0   \n",
       "99996214                                0.0                       0.0   \n",
       "99997485                                0.0                       0.0   \n",
       "99997895                                1.0                       0.0   \n",
       "99998627                                1.0                       0.0   \n",
       "\n",
       "          SpecialtyCount_Internal  ...  DrugCountMin  DrugCountMax  \\\n",
       "MemberID                           ...                               \n",
       "210                           4.0  ...           1.0           2.0   \n",
       "3197                          0.0  ...           1.0           2.0   \n",
       "3889                          4.0  ...           2.0           5.0   \n",
       "4187                          2.0  ...           3.0           7.0   \n",
       "9063                          3.0  ...           1.0           1.0   \n",
       "...                           ...  ...           ...           ...   \n",
       "99995554                     26.0  ...           1.0           4.0   \n",
       "99996214                      0.0  ...           NaN           NaN   \n",
       "99997485                      0.0  ...           NaN           NaN   \n",
       "99997895                      4.0  ...           NaN           NaN   \n",
       "99998627                      4.0  ...           1.0           1.0   \n",
       "\n",
       "          DrugCountAvg  DrugCountStd  DrugCountSum  DrugClaimCount  \\\n",
       "MemberID                                                             \n",
       "210           1.666667      0.577350           5.0             3.0   \n",
       "3197          1.250000      0.500000           5.0             4.0   \n",
       "3889          3.000000      0.816497          30.0            10.0   \n",
       "4187          6.100000      1.449138          61.0            10.0   \n",
       "9063          1.000000      0.000000           2.0             2.0   \n",
       "...                ...           ...           ...             ...   \n",
       "99995554      2.000000      1.414214           8.0             4.0   \n",
       "99996214           NaN           NaN           NaN             NaN   \n",
       "99997485           NaN           NaN           NaN             NaN   \n",
       "99997895           NaN           NaN           NaN             NaN   \n",
       "99998627      1.000000      0.000000           1.0             1.0   \n",
       "\n",
       "          DaysInHospital  Sex_F  Sex_M  Sex_NaN  \n",
       "MemberID                                         \n",
       "210                  0.0      0      0        1  \n",
       "3197                 0.0      1      0        0  \n",
       "3889                 0.0      1      0        0  \n",
       "4187                 0.0      1      0        0  \n",
       "9063                 0.0      1      0        0  \n",
       "...                  ...    ...    ...      ...  \n",
       "99995554             0.0      0      1        0  \n",
       "99996214             0.0      0      1        0  \n",
       "99997485             0.0      0      1        0  \n",
       "99997895             0.0      0      1        0  \n",
       "99998627             0.0      1      0        0  \n",
       "\n",
       "[76038 rows x 123 columns]"
      ],
      "text/html": "<div>\n<style scoped>\n    .dataframe tbody tr th:only-of-type {\n        vertical-align: middle;\n    }\n\n    .dataframe tbody tr th {\n        vertical-align: top;\n    }\n\n    .dataframe thead th {\n        text-align: right;\n    }\n</style>\n<table border=\"1\" class=\"dataframe\">\n  <thead>\n    <tr style=\"text-align: right;\">\n      <th></th>\n      <th>AgeAtFirstClaim</th>\n      <th>ClaimCount</th>\n      <th>ProviderID</th>\n      <th>Vendor</th>\n      <th>PCP</th>\n      <th>SpecialtyCount_Surgery</th>\n      <th>SpecialtyCount_Rehabilitation</th>\n      <th>SpecialtyCount_Diagnostic Imaging</th>\n      <th>SpecialtyCount_Emergency</th>\n      <th>SpecialtyCount_Internal</th>\n      <th>...</th>\n      <th>DrugCountMin</th>\n      <th>DrugCountMax</th>\n      <th>DrugCountAvg</th>\n      <th>DrugCountStd</th>\n      <th>DrugCountSum</th>\n      <th>DrugClaimCount</th>\n      <th>DaysInHospital</th>\n      <th>Sex_F</th>\n      <th>Sex_M</th>\n      <th>Sex_NaN</th>\n    </tr>\n    <tr>\n      <th>MemberID</th>\n      <th></th>\n      <th></th>\n      <th></th>\n      <th></th>\n      <th></th>\n      <th></th>\n      <th></th>\n      <th></th>\n      <th></th>\n      <th></th>\n      <th></th>\n      <th></th>\n      <th></th>\n      <th></th>\n      <th></th>\n      <th></th>\n      <th></th>\n      <th></th>\n      <th></th>\n      <th></th>\n      <th></th>\n    </tr>\n  </thead>\n  <tbody>\n    <tr>\n      <th>210</th>\n      <td>35</td>\n      <td>8.0</td>\n      <td>4.0</td>\n      <td>4.0</td>\n      <td>2.0</td>\n      <td>0.0</td>\n      <td>0.0</td>\n      <td>0.0</td>\n      <td>2.0</td>\n      <td>4.0</td>\n      <td>...</td>\n      <td>1.0</td>\n      <td>2.0</td>\n      <td>1.666667</td>\n      <td>0.577350</td>\n      <td>5.0</td>\n      <td>3.0</td>\n      <td>0.0</td>\n      <td>0</td>\n      <td>0</td>\n      <td>1</td>\n    </tr>\n    <tr>\n      <th>3197</th>\n      <td>5</td>\n      <td>5.0</td>\n      <td>3.0</td>\n      <td>3.0</td>\n      <td>1.0</td>\n      <td>0.0</td>\n      <td>0.0</td>\n      <td>0.0</td>\n      <td>2.0</td>\n      <td>0.0</td>\n      <td>...</td>\n      <td>1.0</td>\n      <td>2.0</td>\n      <td>1.250000</td>\n      <td>0.500000</td>\n      <td>5.0</td>\n      <td>4.0</td>\n      <td>0.0</td>\n      <td>1</td>\n      <td>0</td>\n      <td>0</td>\n    </tr>\n    <tr>\n      <th>3889</th>\n      <td>-1</td>\n      <td>13.0</td>\n      <td>7.0</td>\n      <td>7.0</td>\n      <td>1.0</td>\n      <td>0.0</td>\n      <td>0.0</td>\n      <td>1.0</td>\n      <td>4.0</td>\n      <td>4.0</td>\n      <td>...</td>\n      <td>2.0</td>\n      <td>5.0</td>\n      <td>3.000000</td>\n      <td>0.816497</td>\n      <td>30.0</td>\n      <td>10.0</td>\n      <td>0.0</td>\n      <td>1</td>\n      <td>0</td>\n      <td>0</td>\n    </tr>\n    <tr>\n      <th>4187</th>\n      <td>55</td>\n      <td>4.0</td>\n      <td>3.0</td>\n      <td>3.0</td>\n      <td>1.0</td>\n      <td>0.0</td>\n      <td>0.0</td>\n      <td>1.0</td>\n      <td>0.0</td>\n      <td>2.0</td>\n      <td>...</td>\n      <td>3.0</td>\n      <td>7.0</td>\n      <td>6.100000</td>\n      <td>1.449138</td>\n      <td>61.0</td>\n      <td>10.0</td>\n      <td>0.0</td>\n      <td>1</td>\n      <td>0</td>\n      <td>0</td>\n    </tr>\n    <tr>\n      <th>9063</th>\n      <td>65</td>\n      <td>4.0</td>\n      <td>2.0</td>\n      <td>2.0</td>\n      <td>1.0</td>\n      <td>0.0</td>\n      <td>0.0</td>\n      <td>1.0</td>\n      <td>0.0</td>\n      <td>3.0</td>\n      <td>...</td>\n      <td>1.0</td>\n      <td>1.0</td>\n      <td>1.000000</td>\n      <td>0.000000</td>\n      <td>2.0</td>\n      <td>2.0</td>\n      <td>0.0</td>\n      <td>1</td>\n      <td>0</td>\n      <td>0</td>\n    </tr>\n    <tr>\n      <th>...</th>\n      <td>...</td>\n      <td>...</td>\n      <td>...</td>\n      <td>...</td>\n      <td>...</td>\n      <td>...</td>\n      <td>...</td>\n      <td>...</td>\n      <td>...</td>\n      <td>...</td>\n      <td>...</td>\n      <td>...</td>\n      <td>...</td>\n      <td>...</td>\n      <td>...</td>\n      <td>...</td>\n      <td>...</td>\n      <td>...</td>\n      <td>...</td>\n      <td>...</td>\n      <td>...</td>\n    </tr>\n    <tr>\n      <th>99995554</th>\n      <td>45</td>\n      <td>35.0</td>\n      <td>3.0</td>\n      <td>3.0</td>\n      <td>1.0</td>\n      <td>0.0</td>\n      <td>0.0</td>\n      <td>0.0</td>\n      <td>0.0</td>\n      <td>26.0</td>\n      <td>...</td>\n      <td>1.0</td>\n      <td>4.0</td>\n      <td>2.000000</td>\n      <td>1.414214</td>\n      <td>8.0</td>\n      <td>4.0</td>\n      <td>0.0</td>\n      <td>0</td>\n      <td>1</td>\n      <td>0</td>\n    </tr>\n    <tr>\n      <th>99996214</th>\n      <td>45</td>\n      <td>1.0</td>\n      <td>1.0</td>\n      <td>1.0</td>\n      <td>1.0</td>\n      <td>0.0</td>\n      <td>0.0</td>\n      <td>0.0</td>\n      <td>0.0</td>\n      <td>0.0</td>\n      <td>...</td>\n      <td>NaN</td>\n      <td>NaN</td>\n      <td>NaN</td>\n      <td>NaN</td>\n      <td>NaN</td>\n      <td>NaN</td>\n      <td>0.0</td>\n      <td>0</td>\n      <td>1</td>\n      <td>0</td>\n    </tr>\n    <tr>\n      <th>99997485</th>\n      <td>15</td>\n      <td>1.0</td>\n      <td>1.0</td>\n      <td>1.0</td>\n      <td>1.0</td>\n      <td>0.0</td>\n      <td>0.0</td>\n      <td>0.0</td>\n      <td>0.0</td>\n      <td>0.0</td>\n      <td>...</td>\n      <td>NaN</td>\n      <td>NaN</td>\n      <td>NaN</td>\n      <td>NaN</td>\n      <td>NaN</td>\n      <td>NaN</td>\n      <td>0.0</td>\n      <td>0</td>\n      <td>1</td>\n      <td>0</td>\n    </tr>\n    <tr>\n      <th>99997895</th>\n      <td>45</td>\n      <td>14.0</td>\n      <td>5.0</td>\n      <td>4.0</td>\n      <td>1.0</td>\n      <td>2.0</td>\n      <td>0.0</td>\n      <td>1.0</td>\n      <td>0.0</td>\n      <td>4.0</td>\n      <td>...</td>\n      <td>NaN</td>\n      <td>NaN</td>\n      <td>NaN</td>\n      <td>NaN</td>\n      <td>NaN</td>\n      <td>NaN</td>\n      <td>0.0</td>\n      <td>0</td>\n      <td>1</td>\n      <td>0</td>\n    </tr>\n    <tr>\n      <th>99998627</th>\n      <td>35</td>\n      <td>10.0</td>\n      <td>7.0</td>\n      <td>7.0</td>\n      <td>1.0</td>\n      <td>0.0</td>\n      <td>0.0</td>\n      <td>1.0</td>\n      <td>0.0</td>\n      <td>4.0</td>\n      <td>...</td>\n      <td>1.0</td>\n      <td>1.0</td>\n      <td>1.000000</td>\n      <td>0.000000</td>\n      <td>1.0</td>\n      <td>1.0</td>\n      <td>0.0</td>\n      <td>1</td>\n      <td>0</td>\n      <td>0</td>\n    </tr>\n  </tbody>\n</table>\n<p>76038 rows × 123 columns</p>\n</div>"
     },
     "metadata": {},
     "execution_count": 22
    }
   ],
   "source": [
    "df_a_train"
   ]
  },
  {
   "cell_type": "code",
   "execution_count": 35,
   "metadata": {},
   "outputs": [],
   "source": [
    "df_a_train[\"PayDelayStd\"].fillna(-1.0, inplace=True)\n",
    "df_a_train[\"LabCountStd\"].fillna(-1.0, inplace=True)\n",
    "df_a_train[\"DrugCountStd\"].fillna(-1.0, inplace=True)\n",
    "df_a_train.fillna(0.0, inplace=True)"
   ]
  },
  {
   "cell_type": "code",
   "execution_count": 44,
   "metadata": {},
   "outputs": [
    {
     "output_type": "execute_result",
     "data": {
      "text/plain": [
       "                               AgeAtFirstClaim  CharlsonIndexAvg  \\\n",
       "AgeAtFirstClaim                       1.000000          0.298620   \n",
       "CharlsonIndexAvg                      0.298620          1.000000   \n",
       "CharlsonIndexMax                      0.295688          0.918972   \n",
       "CharlsonIndexMin                      0.158785          0.691234   \n",
       "ClaimCount                            0.271904          0.499269   \n",
       "...                                        ...               ...   \n",
       "SpecialtyCount_Pediatrics             0.308144          0.099452   \n",
       "SpecialtyCount_Rehabilitation         0.072105          0.052004   \n",
       "SpecialtyCount_Surgery                0.137102          0.281382   \n",
       "SpecialtyCount_nan                    0.019993          0.078801   \n",
       "Vendor                                0.209289          0.392938   \n",
       "\n",
       "                               CharlsonIndexMax  CharlsonIndexMin  ClaimCount  \\\n",
       "AgeAtFirstClaim                        0.295688          0.158785    0.271904   \n",
       "CharlsonIndexAvg                       0.918972          0.691234    0.499269   \n",
       "CharlsonIndexMax                       1.000000          0.538496    0.527888   \n",
       "CharlsonIndexMin                       0.538496          1.000000    0.212832   \n",
       "ClaimCount                             0.527888          0.212832    1.000000   \n",
       "...                                         ...               ...         ...   \n",
       "SpecialtyCount_Pediatrics              0.100461          0.048138    0.025263   \n",
       "SpecialtyCount_Rehabilitation          0.049071          0.021427    0.242599   \n",
       "SpecialtyCount_Surgery                 0.281380          0.149123    0.539990   \n",
       "SpecialtyCount_nan                     0.077320          0.008720    0.100183   \n",
       "Vendor                                 0.435568          0.169715    0.805736   \n",
       "\n",
       "                                DSFSMax  DSFSMin  DrugClaimCount  \\\n",
       "AgeAtFirstClaim                0.297485      NaN        0.405907   \n",
       "CharlsonIndexAvg               0.361102      NaN        0.393117   \n",
       "CharlsonIndexMax               0.369155      NaN        0.398279   \n",
       "CharlsonIndexMin               0.159100      NaN        0.186074   \n",
       "ClaimCount                     0.687899      NaN        0.563614   \n",
       "...                                 ...      ...             ...   \n",
       "SpecialtyCount_Pediatrics      0.042542      NaN        0.127581   \n",
       "SpecialtyCount_Rehabilitation  0.158795      NaN        0.126519   \n",
       "SpecialtyCount_Surgery         0.339764      NaN        0.294666   \n",
       "SpecialtyCount_nan             0.049596      NaN        0.007294   \n",
       "Vendor                         0.575273      NaN        0.428452   \n",
       "\n",
       "                               DrugCountAvg  DrugCountMax  ...  \\\n",
       "AgeAtFirstClaim                    0.336146      0.366098  ...   \n",
       "CharlsonIndexAvg                   0.405788      0.428646  ...   \n",
       "CharlsonIndexMax                   0.417583      0.443012  ...   \n",
       "CharlsonIndexMin                   0.200454      0.214919  ...   \n",
       "ClaimCount                         0.444941      0.520888  ...   \n",
       "...                                     ...           ...  ...   \n",
       "SpecialtyCount_Pediatrics          0.132940      0.140189  ...   \n",
       "SpecialtyCount_Rehabilitation      0.076880      0.095509  ...   \n",
       "SpecialtyCount_Surgery             0.227482      0.272478  ...   \n",
       "SpecialtyCount_nan                 0.049510      0.056566  ...   \n",
       "Vendor                             0.341860      0.406822  ...   \n",
       "\n",
       "                               SpecialtyCount_Internal  \\\n",
       "AgeAtFirstClaim                               0.287102   \n",
       "CharlsonIndexAvg                              0.442370   \n",
       "CharlsonIndexMax                              0.453654   \n",
       "CharlsonIndexMin                              0.231852   \n",
       "ClaimCount                                    0.694673   \n",
       "...                                                ...   \n",
       "SpecialtyCount_Pediatrics                     0.103979   \n",
       "SpecialtyCount_Rehabilitation                 0.042576   \n",
       "SpecialtyCount_Surgery                        0.280611   \n",
       "SpecialtyCount_nan                            0.052935   \n",
       "Vendor                                        0.580915   \n",
       "\n",
       "                               SpecialtyCount_Laboratory  \\\n",
       "AgeAtFirstClaim                                 0.289764   \n",
       "CharlsonIndexAvg                                0.345341   \n",
       "CharlsonIndexMax                                0.357404   \n",
       "CharlsonIndexMin                                0.161129   \n",
       "ClaimCount                                      0.664100   \n",
       "...                                                  ...   \n",
       "SpecialtyCount_Pediatrics                       0.078617   \n",
       "SpecialtyCount_Rehabilitation                   0.060506   \n",
       "SpecialtyCount_Surgery                          0.226101   \n",
       "SpecialtyCount_nan                              0.038593   \n",
       "Vendor                                          0.399446   \n",
       "\n",
       "                               SpecialtyCount_Obstetrics and Gynecology  \\\n",
       "AgeAtFirstClaim                                                0.030408   \n",
       "CharlsonIndexAvg                                               0.070147   \n",
       "CharlsonIndexMax                                               0.069342   \n",
       "CharlsonIndexMin                                               0.055672   \n",
       "ClaimCount                                                     0.065956   \n",
       "...                                                                 ...   \n",
       "SpecialtyCount_Pediatrics                                      0.007649   \n",
       "SpecialtyCount_Rehabilitation                                  0.024033   \n",
       "SpecialtyCount_Surgery                                         0.028744   \n",
       "SpecialtyCount_nan                                             0.007942   \n",
       "Vendor                                                         0.167529   \n",
       "\n",
       "                               SpecialtyCount_Other  SpecialtyCount_Pathology  \\\n",
       "AgeAtFirstClaim                            0.116461                  0.032983   \n",
       "CharlsonIndexAvg                           0.191706                  0.045314   \n",
       "CharlsonIndexMax                           0.211974                  0.058719   \n",
       "CharlsonIndexMin                           0.049825                  0.030131   \n",
       "ClaimCount                                 0.341771                  0.181428   \n",
       "...                                             ...                       ...   \n",
       "SpecialtyCount_Pediatrics                  0.045949                  0.024823   \n",
       "SpecialtyCount_Rehabilitation              0.014125                  0.018680   \n",
       "SpecialtyCount_Surgery                     0.064104                  0.139041   \n",
       "SpecialtyCount_nan                         0.000522                  0.001998   \n",
       "Vendor                                     0.202042                  0.319426   \n",
       "\n",
       "                               SpecialtyCount_Pediatrics  \\\n",
       "AgeAtFirstClaim                                 0.308144   \n",
       "CharlsonIndexAvg                                0.099452   \n",
       "CharlsonIndexMax                                0.100461   \n",
       "CharlsonIndexMin                                0.048138   \n",
       "ClaimCount                                      0.025263   \n",
       "...                                                  ...   \n",
       "SpecialtyCount_Pediatrics                       1.000000   \n",
       "SpecialtyCount_Rehabilitation                   0.032470   \n",
       "SpecialtyCount_Surgery                          0.037014   \n",
       "SpecialtyCount_nan                              0.014478   \n",
       "Vendor                                          0.036497   \n",
       "\n",
       "                               SpecialtyCount_Rehabilitation  \\\n",
       "AgeAtFirstClaim                                     0.072105   \n",
       "CharlsonIndexAvg                                    0.052004   \n",
       "CharlsonIndexMax                                    0.049071   \n",
       "CharlsonIndexMin                                    0.021427   \n",
       "ClaimCount                                          0.242599   \n",
       "...                                                      ...   \n",
       "SpecialtyCount_Pediatrics                           0.032470   \n",
       "SpecialtyCount_Rehabilitation                       1.000000   \n",
       "SpecialtyCount_Surgery                              0.142593   \n",
       "SpecialtyCount_nan                                  0.020317   \n",
       "Vendor                                              0.202319   \n",
       "\n",
       "                               SpecialtyCount_Surgery  SpecialtyCount_nan  \\\n",
       "AgeAtFirstClaim                              0.137102            0.019993   \n",
       "CharlsonIndexAvg                             0.281382            0.078801   \n",
       "CharlsonIndexMax                             0.281380            0.077320   \n",
       "CharlsonIndexMin                             0.149123            0.008720   \n",
       "ClaimCount                                   0.539990            0.100183   \n",
       "...                                               ...                 ...   \n",
       "SpecialtyCount_Pediatrics                    0.037014            0.014478   \n",
       "SpecialtyCount_Rehabilitation                0.142593            0.020317   \n",
       "SpecialtyCount_Surgery                       1.000000            0.047647   \n",
       "SpecialtyCount_nan                           0.047647            1.000000   \n",
       "Vendor                                       0.510448            0.140247   \n",
       "\n",
       "                                 Vendor  \n",
       "AgeAtFirstClaim                0.209289  \n",
       "CharlsonIndexAvg               0.392938  \n",
       "CharlsonIndexMax               0.435568  \n",
       "CharlsonIndexMin               0.169715  \n",
       "ClaimCount                     0.805736  \n",
       "...                                 ...  \n",
       "SpecialtyCount_Pediatrics      0.036497  \n",
       "SpecialtyCount_Rehabilitation  0.202319  \n",
       "SpecialtyCount_Surgery         0.510448  \n",
       "SpecialtyCount_nan             0.140247  \n",
       "Vendor                         1.000000  \n",
       "\n",
       "[122 rows x 122 columns]"
      ],
      "text/html": "<div>\n<style scoped>\n    .dataframe tbody tr th:only-of-type {\n        vertical-align: middle;\n    }\n\n    .dataframe tbody tr th {\n        vertical-align: top;\n    }\n\n    .dataframe thead th {\n        text-align: right;\n    }\n</style>\n<table border=\"1\" class=\"dataframe\">\n  <thead>\n    <tr style=\"text-align: right;\">\n      <th></th>\n      <th>AgeAtFirstClaim</th>\n      <th>CharlsonIndexAvg</th>\n      <th>CharlsonIndexMax</th>\n      <th>CharlsonIndexMin</th>\n      <th>ClaimCount</th>\n      <th>DSFSMax</th>\n      <th>DSFSMin</th>\n      <th>DrugClaimCount</th>\n      <th>DrugCountAvg</th>\n      <th>DrugCountMax</th>\n      <th>...</th>\n      <th>SpecialtyCount_Internal</th>\n      <th>SpecialtyCount_Laboratory</th>\n      <th>SpecialtyCount_Obstetrics and Gynecology</th>\n      <th>SpecialtyCount_Other</th>\n      <th>SpecialtyCount_Pathology</th>\n      <th>SpecialtyCount_Pediatrics</th>\n      <th>SpecialtyCount_Rehabilitation</th>\n      <th>SpecialtyCount_Surgery</th>\n      <th>SpecialtyCount_nan</th>\n      <th>Vendor</th>\n    </tr>\n  </thead>\n  <tbody>\n    <tr>\n      <th>AgeAtFirstClaim</th>\n      <td>1.000000</td>\n      <td>0.298620</td>\n      <td>0.295688</td>\n      <td>0.158785</td>\n      <td>0.271904</td>\n      <td>0.297485</td>\n      <td>NaN</td>\n      <td>0.405907</td>\n      <td>0.336146</td>\n      <td>0.366098</td>\n      <td>...</td>\n      <td>0.287102</td>\n      <td>0.289764</td>\n      <td>0.030408</td>\n      <td>0.116461</td>\n      <td>0.032983</td>\n      <td>0.308144</td>\n      <td>0.072105</td>\n      <td>0.137102</td>\n      <td>0.019993</td>\n      <td>0.209289</td>\n    </tr>\n    <tr>\n      <th>CharlsonIndexAvg</th>\n      <td>0.298620</td>\n      <td>1.000000</td>\n      <td>0.918972</td>\n      <td>0.691234</td>\n      <td>0.499269</td>\n      <td>0.361102</td>\n      <td>NaN</td>\n      <td>0.393117</td>\n      <td>0.405788</td>\n      <td>0.428646</td>\n      <td>...</td>\n      <td>0.442370</td>\n      <td>0.345341</td>\n      <td>0.070147</td>\n      <td>0.191706</td>\n      <td>0.045314</td>\n      <td>0.099452</td>\n      <td>0.052004</td>\n      <td>0.281382</td>\n      <td>0.078801</td>\n      <td>0.392938</td>\n    </tr>\n    <tr>\n      <th>CharlsonIndexMax</th>\n      <td>0.295688</td>\n      <td>0.918972</td>\n      <td>1.000000</td>\n      <td>0.538496</td>\n      <td>0.527888</td>\n      <td>0.369155</td>\n      <td>NaN</td>\n      <td>0.398279</td>\n      <td>0.417583</td>\n      <td>0.443012</td>\n      <td>...</td>\n      <td>0.453654</td>\n      <td>0.357404</td>\n      <td>0.069342</td>\n      <td>0.211974</td>\n      <td>0.058719</td>\n      <td>0.100461</td>\n      <td>0.049071</td>\n      <td>0.281380</td>\n      <td>0.077320</td>\n      <td>0.435568</td>\n    </tr>\n    <tr>\n      <th>CharlsonIndexMin</th>\n      <td>0.158785</td>\n      <td>0.691234</td>\n      <td>0.538496</td>\n      <td>1.000000</td>\n      <td>0.212832</td>\n      <td>0.159100</td>\n      <td>NaN</td>\n      <td>0.186074</td>\n      <td>0.200454</td>\n      <td>0.214919</td>\n      <td>...</td>\n      <td>0.231852</td>\n      <td>0.161129</td>\n      <td>0.055672</td>\n      <td>0.049825</td>\n      <td>0.030131</td>\n      <td>0.048138</td>\n      <td>0.021427</td>\n      <td>0.149123</td>\n      <td>0.008720</td>\n      <td>0.169715</td>\n    </tr>\n    <tr>\n      <th>ClaimCount</th>\n      <td>0.271904</td>\n      <td>0.499269</td>\n      <td>0.527888</td>\n      <td>0.212832</td>\n      <td>1.000000</td>\n      <td>0.687899</td>\n      <td>NaN</td>\n      <td>0.563614</td>\n      <td>0.444941</td>\n      <td>0.520888</td>\n      <td>...</td>\n      <td>0.694673</td>\n      <td>0.664100</td>\n      <td>0.065956</td>\n      <td>0.341771</td>\n      <td>0.181428</td>\n      <td>0.025263</td>\n      <td>0.242599</td>\n      <td>0.539990</td>\n      <td>0.100183</td>\n      <td>0.805736</td>\n    </tr>\n    <tr>\n      <th>...</th>\n      <td>...</td>\n      <td>...</td>\n      <td>...</td>\n      <td>...</td>\n      <td>...</td>\n      <td>...</td>\n      <td>...</td>\n      <td>...</td>\n      <td>...</td>\n      <td>...</td>\n      <td>...</td>\n      <td>...</td>\n      <td>...</td>\n      <td>...</td>\n      <td>...</td>\n      <td>...</td>\n      <td>...</td>\n      <td>...</td>\n      <td>...</td>\n      <td>...</td>\n      <td>...</td>\n    </tr>\n    <tr>\n      <th>SpecialtyCount_Pediatrics</th>\n      <td>0.308144</td>\n      <td>0.099452</td>\n      <td>0.100461</td>\n      <td>0.048138</td>\n      <td>0.025263</td>\n      <td>0.042542</td>\n      <td>NaN</td>\n      <td>0.127581</td>\n      <td>0.132940</td>\n      <td>0.140189</td>\n      <td>...</td>\n      <td>0.103979</td>\n      <td>0.078617</td>\n      <td>0.007649</td>\n      <td>0.045949</td>\n      <td>0.024823</td>\n      <td>1.000000</td>\n      <td>0.032470</td>\n      <td>0.037014</td>\n      <td>0.014478</td>\n      <td>0.036497</td>\n    </tr>\n    <tr>\n      <th>SpecialtyCount_Rehabilitation</th>\n      <td>0.072105</td>\n      <td>0.052004</td>\n      <td>0.049071</td>\n      <td>0.021427</td>\n      <td>0.242599</td>\n      <td>0.158795</td>\n      <td>NaN</td>\n      <td>0.126519</td>\n      <td>0.076880</td>\n      <td>0.095509</td>\n      <td>...</td>\n      <td>0.042576</td>\n      <td>0.060506</td>\n      <td>0.024033</td>\n      <td>0.014125</td>\n      <td>0.018680</td>\n      <td>0.032470</td>\n      <td>1.000000</td>\n      <td>0.142593</td>\n      <td>0.020317</td>\n      <td>0.202319</td>\n    </tr>\n    <tr>\n      <th>SpecialtyCount_Surgery</th>\n      <td>0.137102</td>\n      <td>0.281382</td>\n      <td>0.281380</td>\n      <td>0.149123</td>\n      <td>0.539990</td>\n      <td>0.339764</td>\n      <td>NaN</td>\n      <td>0.294666</td>\n      <td>0.227482</td>\n      <td>0.272478</td>\n      <td>...</td>\n      <td>0.280611</td>\n      <td>0.226101</td>\n      <td>0.028744</td>\n      <td>0.064104</td>\n      <td>0.139041</td>\n      <td>0.037014</td>\n      <td>0.142593</td>\n      <td>1.000000</td>\n      <td>0.047647</td>\n      <td>0.510448</td>\n    </tr>\n    <tr>\n      <th>SpecialtyCount_nan</th>\n      <td>0.019993</td>\n      <td>0.078801</td>\n      <td>0.077320</td>\n      <td>0.008720</td>\n      <td>0.100183</td>\n      <td>0.049596</td>\n      <td>NaN</td>\n      <td>0.007294</td>\n      <td>0.049510</td>\n      <td>0.056566</td>\n      <td>...</td>\n      <td>0.052935</td>\n      <td>0.038593</td>\n      <td>0.007942</td>\n      <td>0.000522</td>\n      <td>0.001998</td>\n      <td>0.014478</td>\n      <td>0.020317</td>\n      <td>0.047647</td>\n      <td>1.000000</td>\n      <td>0.140247</td>\n    </tr>\n    <tr>\n      <th>Vendor</th>\n      <td>0.209289</td>\n      <td>0.392938</td>\n      <td>0.435568</td>\n      <td>0.169715</td>\n      <td>0.805736</td>\n      <td>0.575273</td>\n      <td>NaN</td>\n      <td>0.428452</td>\n      <td>0.341860</td>\n      <td>0.406822</td>\n      <td>...</td>\n      <td>0.580915</td>\n      <td>0.399446</td>\n      <td>0.167529</td>\n      <td>0.202042</td>\n      <td>0.319426</td>\n      <td>0.036497</td>\n      <td>0.202319</td>\n      <td>0.510448</td>\n      <td>0.140247</td>\n      <td>1.000000</td>\n    </tr>\n  </tbody>\n</table>\n<p>122 rows × 122 columns</p>\n</div>"
     },
     "metadata": {},
     "execution_count": 44
    }
   ],
   "source": [
    "d1 = df_a_train.sample(1000)\n",
    "cor = d1[d1.columns.difference(['DaysInHospital'])].corr().abs()\n",
    "cor"
   ]
  },
  {
   "cell_type": "code",
   "execution_count": 45,
   "metadata": {},
   "outputs": [
    {
     "output_type": "execute_result",
     "data": {
      "text/plain": [
       "[('CharlsonIndexAvg', 'CharlsonIndexMax'),\n",
       " ('ClaimCount', 'LengthOfStayCountNan'),\n",
       " ('ClaimCount', 'PayDelaySum'),\n",
       " ('ClaimCount', 'PlaceSvcCount_Office'),\n",
       " ('ClaimCount', 'ProcedureGroupCount_EM'),\n",
       " ('ClaimCount', 'ProviderID'),\n",
       " ('ClaimCount', 'Vendor'),\n",
       " ('DrugClaimCount', 'DrugCountMax'),\n",
       " ('DrugClaimCount', 'DrugCountSum'),\n",
       " ('DrugCountAvg', 'DrugCountMax'),\n",
       " ('DrugCountAvg', 'DrugCountMin'),\n",
       " ('DrugCountAvg', 'DrugCountSum'),\n",
       " ('DrugCountMax', 'DrugCountStd'),\n",
       " ('DrugCountMax', 'DrugCountSum'),\n",
       " ('LabClaimCount', 'LabCountSum'),\n",
       " ('LabClaimCount', 'PlaceSvcCount_Independent Lab'),\n",
       " ('LabClaimCount', 'ProcedureGroupCount_PL'),\n",
       " ('LabClaimCount', 'SpecialtyCount_Laboratory'),\n",
       " ('LabCountAvg', 'LabCountMax'),\n",
       " ('LabCountAvg', 'LabCountMin'),\n",
       " ('LabCountMax', 'LabCountSum'),\n",
       " ('LengthOfStayAvg', 'LengthOfStayMax'),\n",
       " ('LengthOfStayAvg', 'LengthOfStayMin'),\n",
       " ('LengthOfStayCountNan', 'PayDelaySum'),\n",
       " ('LengthOfStayCountNan', 'PlaceSvcCount_Office'),\n",
       " ('LengthOfStayCountNan', 'ProcedureGroupCount_EM'),\n",
       " ('LengthOfStayCountNan', 'ProviderID'),\n",
       " ('LengthOfStayMax', 'LengthOfStayMin'),\n",
       " ('LengthOfStayMax', 'LengthOfStaySum'),\n",
       " ('PayDelayMax', 'PayDelayStd'),\n",
       " ('PayDelaySum', 'PlaceSvcCount_Office'),\n",
       " ('PayDelaySum', 'ProcedureGroupCount_EM'),\n",
       " ('PlaceSvcCount_Independent Lab', 'ProcedureGroupCount_PL'),\n",
       " ('PlaceSvcCount_Independent Lab', 'ProcedureGroupCount_SCS'),\n",
       " ('PlaceSvcCount_Independent Lab', 'SpecialtyCount_Laboratory'),\n",
       " ('PlaceSvcCount_Office', 'ProcedureGroupCount_EM'),\n",
       " ('PrimaryConditionGroupCount_PRGNCY', 'ProcedureGroupCount_SMCD'),\n",
       " ('ProcedureGroupCount_PL', 'SpecialtyCount_Laboratory'),\n",
       " ('ProcedureGroupCount_RAD', 'SpecialtyCount_Diagnostic Imaging'),\n",
       " ('ProcedureGroupCount_SCS', 'SpecialtyCount_Laboratory'),\n",
       " ('ProviderID', 'Vendor')]"
      ]
     },
     "metadata": {},
     "execution_count": 45
    }
   ],
   "source": [
    "high_corr = np.where(cor > 0.8)\n",
    "high_corr = [(cor.columns[x],cor.columns[y]) for x,y in zip(*high_corr) if x!=y and x<y]\n",
    "high_corr"
   ]
  },
  {
   "cell_type": "code",
   "execution_count": 46,
   "metadata": {},
   "outputs": [
    {
     "output_type": "stream",
     "name": "stdout",
     "text": [
      "Row: CharlsonIndexAvg, Col: CharlsonIndexMax, corr=0.9189719125109225\nRow: ClaimCount, Col: LengthOfStayCountNan, corr=0.9971904735304288\nRow: ClaimCount, Col: PayDelaySum, corr=0.9074177246308364\nRow: ClaimCount, Col: PlaceSvcCount_Office, corr=0.8600508625456887\nRow: ClaimCount, Col: ProcedureGroupCount_EM, corr=0.8673797149707176\nRow: ClaimCount, Col: ProviderID, corr=0.8400148945824265\nRow: ClaimCount, Col: Vendor, corr=0.8057359259114205\nRow: DrugClaimCount, Col: DrugCountMax, corr=0.80757370506159\nRow: DrugClaimCount, Col: DrugCountSum, corr=0.8433650383677248\nRow: DrugCountAvg, Col: DrugCountMax, corr=0.9397674409403389\nRow: DrugCountAvg, Col: DrugCountMin, corr=0.840383777807836\nRow: DrugCountAvg, Col: DrugCountSum, corr=0.85300402783089\nRow: DrugCountMax, Col: DrugCountStd, corr=0.8992557221334111\nRow: DrugCountMax, Col: DrugCountSum, corr=0.8505894822121106\nRow: LabClaimCount, Col: LabCountSum, corr=0.8269220685643857\nRow: LabClaimCount, Col: PlaceSvcCount_Independent Lab, corr=0.8929126007354626\nRow: LabClaimCount, Col: ProcedureGroupCount_PL, corr=0.9332417866854334\nRow: LabClaimCount, Col: SpecialtyCount_Laboratory, corr=0.8892375077963991\nRow: LabCountAvg, Col: LabCountMax, corr=0.910531224695889\nRow: LabCountAvg, Col: LabCountMin, corr=0.8926389354938385\nRow: LabCountMax, Col: LabCountSum, corr=0.8163379019502695\nRow: LengthOfStayAvg, Col: LengthOfStayMax, corr=0.987831879065156\nRow: LengthOfStayAvg, Col: LengthOfStayMin, corr=0.9874179596509075\nRow: LengthOfStayCountNan, Col: PayDelaySum, corr=0.9068092655514741\nRow: LengthOfStayCountNan, Col: PlaceSvcCount_Office, corr=0.8678379190235158\nRow: LengthOfStayCountNan, Col: ProcedureGroupCount_EM, corr=0.8640418686700874\nRow: LengthOfStayCountNan, Col: ProviderID, corr=0.8278276944403068\nRow: LengthOfStayMax, Col: LengthOfStayMin, corr=0.9532427164521965\nRow: LengthOfStayMax, Col: LengthOfStaySum, corr=0.8352106268972723\nRow: PayDelayMax, Col: PayDelayStd, corr=0.8275894797960976\nRow: PayDelaySum, Col: PlaceSvcCount_Office, corr=0.804287868039159\nRow: PayDelaySum, Col: ProcedureGroupCount_EM, corr=0.834188773942205\nRow: PlaceSvcCount_Independent Lab, Col: ProcedureGroupCount_PL, corr=0.8941313046891699\nRow: PlaceSvcCount_Independent Lab, Col: ProcedureGroupCount_SCS, corr=0.8899663531581623\nRow: PlaceSvcCount_Independent Lab, Col: SpecialtyCount_Laboratory, corr=0.9958067947912124\nRow: PlaceSvcCount_Office, Col: ProcedureGroupCount_EM, corr=0.8350980710963715\nRow: PrimaryConditionGroupCount_PRGNCY, Col: ProcedureGroupCount_SMCD, corr=0.9263208845605932\nRow: ProcedureGroupCount_PL, Col: SpecialtyCount_Laboratory, corr=0.891921774165236\nRow: ProcedureGroupCount_RAD, Col: SpecialtyCount_Diagnostic Imaging, corr=0.8824854352090188\nRow: ProcedureGroupCount_SCS, Col: SpecialtyCount_Laboratory, corr=0.8870498594370876\nRow: ProviderID, Col: Vendor, corr=0.9510903046156266\n"
     ]
    }
   ],
   "source": [
    "for row, col in high_corr:\n",
    "    print(\"Row: %s, Col: %s, corr=%s\" % (row, col, cor[row][col]))"
   ]
  },
  {
   "cell_type": "code",
   "execution_count": 47,
   "metadata": {},
   "outputs": [],
   "source": [
    "remove_col = [\"CharlsonIndexAvg\", \"LengthOfStayCountNan\", \"PayDelaySum\", \"ProviderID\", \"Vendor\", \"DrugCountMax\", \"DrugCountSum\", \"DrugCountMin\", \"DrugCountStd\", \"LabCountSum\", \"LabCountMax\", \"LabCountMin\", \"LengthOfStayMax\", \"LengthOfStayMin\"]"
   ]
  },
  {
   "cell_type": "code",
   "execution_count": 48,
   "metadata": {},
   "outputs": [],
   "source": [
    "df_a_train.drop(columns=remove_col, inplace=True)"
   ]
  },
  {
   "cell_type": "code",
   "execution_count": 49,
   "metadata": {},
   "outputs": [
    {
     "output_type": "execute_result",
     "data": {
      "text/plain": [
       "          AgeAtFirstClaim  ClaimCount  PCP  SpecialtyCount_Surgery  \\\n",
       "MemberID                                                             \n",
       "210                    35         8.0  2.0                     0.0   \n",
       "3197                    5         5.0  1.0                     0.0   \n",
       "3889                   -1        13.0  1.0                     0.0   \n",
       "4187                   55         4.0  1.0                     0.0   \n",
       "9063                   65         4.0  1.0                     0.0   \n",
       "...                   ...         ...  ...                     ...   \n",
       "99995554               45        35.0  1.0                     0.0   \n",
       "99996214               45         1.0  1.0                     0.0   \n",
       "99997485               15         1.0  1.0                     0.0   \n",
       "99997895               45        14.0  1.0                     2.0   \n",
       "99998627               35        10.0  1.0                     0.0   \n",
       "\n",
       "          SpecialtyCount_Rehabilitation  SpecialtyCount_Diagnostic Imaging  \\\n",
       "MemberID                                                                     \n",
       "210                                 0.0                                0.0   \n",
       "3197                                0.0                                0.0   \n",
       "3889                                0.0                                1.0   \n",
       "4187                                0.0                                1.0   \n",
       "9063                                0.0                                1.0   \n",
       "...                                 ...                                ...   \n",
       "99995554                            0.0                                0.0   \n",
       "99996214                            0.0                                0.0   \n",
       "99997485                            0.0                                0.0   \n",
       "99997895                            0.0                                1.0   \n",
       "99998627                            0.0                                1.0   \n",
       "\n",
       "          SpecialtyCount_Emergency  SpecialtyCount_Internal  \\\n",
       "MemberID                                                      \n",
       "210                            2.0                      4.0   \n",
       "3197                           2.0                      0.0   \n",
       "3889                           4.0                      4.0   \n",
       "4187                           0.0                      2.0   \n",
       "9063                           0.0                      3.0   \n",
       "...                            ...                      ...   \n",
       "99995554                       0.0                     26.0   \n",
       "99996214                       0.0                      0.0   \n",
       "99997485                       0.0                      0.0   \n",
       "99997895                       0.0                      4.0   \n",
       "99998627                       0.0                      4.0   \n",
       "\n",
       "          SpecialtyCount_General Practice  SpecialtyCount_Laboratory  ...  \\\n",
       "MemberID                                                              ...   \n",
       "210                                   0.0                        2.0  ...   \n",
       "3197                                  0.0                        0.0  ...   \n",
       "3889                                  0.0                        4.0  ...   \n",
       "4187                                  0.0                        0.0  ...   \n",
       "9063                                  0.0                        0.0  ...   \n",
       "...                                   ...                        ...  ...   \n",
       "99995554                              2.0                        7.0  ...   \n",
       "99996214                              1.0                        0.0  ...   \n",
       "99997485                              1.0                        0.0  ...   \n",
       "99997895                              0.0                        7.0  ...   \n",
       "99998627                              0.0                        2.0  ...   \n",
       "\n",
       "          ProcedureGroupCount_SO  LabCountAvg  LabCountStd  LabClaimCount  \\\n",
       "MemberID                                                                    \n",
       "210                          0.0     2.000000     0.000000            1.0   \n",
       "3197                         0.0     0.000000    -1.000000            0.0   \n",
       "3889                         0.0    10.000000     0.000000            1.0   \n",
       "4187                         0.0     0.000000    -1.000000            0.0   \n",
       "9063                         0.0     0.000000    -1.000000            0.0   \n",
       "...                          ...          ...          ...            ...   \n",
       "99995554                     0.0     3.666667     3.785939            3.0   \n",
       "99996214                     0.0     0.000000    -1.000000            0.0   \n",
       "99997485                     0.0     0.000000    -1.000000            0.0   \n",
       "99997895                     0.0     5.000000     1.414214            2.0   \n",
       "99998627                     0.0     5.000000     0.000000            1.0   \n",
       "\n",
       "          DrugCountAvg  DrugClaimCount  DaysInHospital  Sex_F  Sex_M  Sex_NaN  \n",
       "MemberID                                                                       \n",
       "210           1.666667             3.0             0.0      0      0        1  \n",
       "3197          1.250000             4.0             0.0      1      0        0  \n",
       "3889          3.000000            10.0             0.0      1      0        0  \n",
       "4187          6.100000            10.0             0.0      1      0        0  \n",
       "9063          1.000000             2.0             0.0      1      0        0  \n",
       "...                ...             ...             ...    ...    ...      ...  \n",
       "99995554      2.000000             4.0             0.0      0      1        0  \n",
       "99996214      0.000000             0.0             0.0      0      1        0  \n",
       "99997485      0.000000             0.0             0.0      0      1        0  \n",
       "99997895      0.000000             0.0             0.0      0      1        0  \n",
       "99998627      1.000000             1.0             0.0      1      0        0  \n",
       "\n",
       "[76038 rows x 109 columns]"
      ],
      "text/html": "<div>\n<style scoped>\n    .dataframe tbody tr th:only-of-type {\n        vertical-align: middle;\n    }\n\n    .dataframe tbody tr th {\n        vertical-align: top;\n    }\n\n    .dataframe thead th {\n        text-align: right;\n    }\n</style>\n<table border=\"1\" class=\"dataframe\">\n  <thead>\n    <tr style=\"text-align: right;\">\n      <th></th>\n      <th>AgeAtFirstClaim</th>\n      <th>ClaimCount</th>\n      <th>PCP</th>\n      <th>SpecialtyCount_Surgery</th>\n      <th>SpecialtyCount_Rehabilitation</th>\n      <th>SpecialtyCount_Diagnostic Imaging</th>\n      <th>SpecialtyCount_Emergency</th>\n      <th>SpecialtyCount_Internal</th>\n      <th>SpecialtyCount_General Practice</th>\n      <th>SpecialtyCount_Laboratory</th>\n      <th>...</th>\n      <th>ProcedureGroupCount_SO</th>\n      <th>LabCountAvg</th>\n      <th>LabCountStd</th>\n      <th>LabClaimCount</th>\n      <th>DrugCountAvg</th>\n      <th>DrugClaimCount</th>\n      <th>DaysInHospital</th>\n      <th>Sex_F</th>\n      <th>Sex_M</th>\n      <th>Sex_NaN</th>\n    </tr>\n    <tr>\n      <th>MemberID</th>\n      <th></th>\n      <th></th>\n      <th></th>\n      <th></th>\n      <th></th>\n      <th></th>\n      <th></th>\n      <th></th>\n      <th></th>\n      <th></th>\n      <th></th>\n      <th></th>\n      <th></th>\n      <th></th>\n      <th></th>\n      <th></th>\n      <th></th>\n      <th></th>\n      <th></th>\n      <th></th>\n      <th></th>\n    </tr>\n  </thead>\n  <tbody>\n    <tr>\n      <th>210</th>\n      <td>35</td>\n      <td>8.0</td>\n      <td>2.0</td>\n      <td>0.0</td>\n      <td>0.0</td>\n      <td>0.0</td>\n      <td>2.0</td>\n      <td>4.0</td>\n      <td>0.0</td>\n      <td>2.0</td>\n      <td>...</td>\n      <td>0.0</td>\n      <td>2.000000</td>\n      <td>0.000000</td>\n      <td>1.0</td>\n      <td>1.666667</td>\n      <td>3.0</td>\n      <td>0.0</td>\n      <td>0</td>\n      <td>0</td>\n      <td>1</td>\n    </tr>\n    <tr>\n      <th>3197</th>\n      <td>5</td>\n      <td>5.0</td>\n      <td>1.0</td>\n      <td>0.0</td>\n      <td>0.0</td>\n      <td>0.0</td>\n      <td>2.0</td>\n      <td>0.0</td>\n      <td>0.0</td>\n      <td>0.0</td>\n      <td>...</td>\n      <td>0.0</td>\n      <td>0.000000</td>\n      <td>-1.000000</td>\n      <td>0.0</td>\n      <td>1.250000</td>\n      <td>4.0</td>\n      <td>0.0</td>\n      <td>1</td>\n      <td>0</td>\n      <td>0</td>\n    </tr>\n    <tr>\n      <th>3889</th>\n      <td>-1</td>\n      <td>13.0</td>\n      <td>1.0</td>\n      <td>0.0</td>\n      <td>0.0</td>\n      <td>1.0</td>\n      <td>4.0</td>\n      <td>4.0</td>\n      <td>0.0</td>\n      <td>4.0</td>\n      <td>...</td>\n      <td>0.0</td>\n      <td>10.000000</td>\n      <td>0.000000</td>\n      <td>1.0</td>\n      <td>3.000000</td>\n      <td>10.0</td>\n      <td>0.0</td>\n      <td>1</td>\n      <td>0</td>\n      <td>0</td>\n    </tr>\n    <tr>\n      <th>4187</th>\n      <td>55</td>\n      <td>4.0</td>\n      <td>1.0</td>\n      <td>0.0</td>\n      <td>0.0</td>\n      <td>1.0</td>\n      <td>0.0</td>\n      <td>2.0</td>\n      <td>0.0</td>\n      <td>0.0</td>\n      <td>...</td>\n      <td>0.0</td>\n      <td>0.000000</td>\n      <td>-1.000000</td>\n      <td>0.0</td>\n      <td>6.100000</td>\n      <td>10.0</td>\n      <td>0.0</td>\n      <td>1</td>\n      <td>0</td>\n      <td>0</td>\n    </tr>\n    <tr>\n      <th>9063</th>\n      <td>65</td>\n      <td>4.0</td>\n      <td>1.0</td>\n      <td>0.0</td>\n      <td>0.0</td>\n      <td>1.0</td>\n      <td>0.0</td>\n      <td>3.0</td>\n      <td>0.0</td>\n      <td>0.0</td>\n      <td>...</td>\n      <td>0.0</td>\n      <td>0.000000</td>\n      <td>-1.000000</td>\n      <td>0.0</td>\n      <td>1.000000</td>\n      <td>2.0</td>\n      <td>0.0</td>\n      <td>1</td>\n      <td>0</td>\n      <td>0</td>\n    </tr>\n    <tr>\n      <th>...</th>\n      <td>...</td>\n      <td>...</td>\n      <td>...</td>\n      <td>...</td>\n      <td>...</td>\n      <td>...</td>\n      <td>...</td>\n      <td>...</td>\n      <td>...</td>\n      <td>...</td>\n      <td>...</td>\n      <td>...</td>\n      <td>...</td>\n      <td>...</td>\n      <td>...</td>\n      <td>...</td>\n      <td>...</td>\n      <td>...</td>\n      <td>...</td>\n      <td>...</td>\n      <td>...</td>\n    </tr>\n    <tr>\n      <th>99995554</th>\n      <td>45</td>\n      <td>35.0</td>\n      <td>1.0</td>\n      <td>0.0</td>\n      <td>0.0</td>\n      <td>0.0</td>\n      <td>0.0</td>\n      <td>26.0</td>\n      <td>2.0</td>\n      <td>7.0</td>\n      <td>...</td>\n      <td>0.0</td>\n      <td>3.666667</td>\n      <td>3.785939</td>\n      <td>3.0</td>\n      <td>2.000000</td>\n      <td>4.0</td>\n      <td>0.0</td>\n      <td>0</td>\n      <td>1</td>\n      <td>0</td>\n    </tr>\n    <tr>\n      <th>99996214</th>\n      <td>45</td>\n      <td>1.0</td>\n      <td>1.0</td>\n      <td>0.0</td>\n      <td>0.0</td>\n      <td>0.0</td>\n      <td>0.0</td>\n      <td>0.0</td>\n      <td>1.0</td>\n      <td>0.0</td>\n      <td>...</td>\n      <td>0.0</td>\n      <td>0.000000</td>\n      <td>-1.000000</td>\n      <td>0.0</td>\n      <td>0.000000</td>\n      <td>0.0</td>\n      <td>0.0</td>\n      <td>0</td>\n      <td>1</td>\n      <td>0</td>\n    </tr>\n    <tr>\n      <th>99997485</th>\n      <td>15</td>\n      <td>1.0</td>\n      <td>1.0</td>\n      <td>0.0</td>\n      <td>0.0</td>\n      <td>0.0</td>\n      <td>0.0</td>\n      <td>0.0</td>\n      <td>1.0</td>\n      <td>0.0</td>\n      <td>...</td>\n      <td>0.0</td>\n      <td>0.000000</td>\n      <td>-1.000000</td>\n      <td>0.0</td>\n      <td>0.000000</td>\n      <td>0.0</td>\n      <td>0.0</td>\n      <td>0</td>\n      <td>1</td>\n      <td>0</td>\n    </tr>\n    <tr>\n      <th>99997895</th>\n      <td>45</td>\n      <td>14.0</td>\n      <td>1.0</td>\n      <td>2.0</td>\n      <td>0.0</td>\n      <td>1.0</td>\n      <td>0.0</td>\n      <td>4.0</td>\n      <td>0.0</td>\n      <td>7.0</td>\n      <td>...</td>\n      <td>0.0</td>\n      <td>5.000000</td>\n      <td>1.414214</td>\n      <td>2.0</td>\n      <td>0.000000</td>\n      <td>0.0</td>\n      <td>0.0</td>\n      <td>0</td>\n      <td>1</td>\n      <td>0</td>\n    </tr>\n    <tr>\n      <th>99998627</th>\n      <td>35</td>\n      <td>10.0</td>\n      <td>1.0</td>\n      <td>0.0</td>\n      <td>0.0</td>\n      <td>1.0</td>\n      <td>0.0</td>\n      <td>4.0</td>\n      <td>0.0</td>\n      <td>2.0</td>\n      <td>...</td>\n      <td>0.0</td>\n      <td>5.000000</td>\n      <td>0.000000</td>\n      <td>1.0</td>\n      <td>1.000000</td>\n      <td>1.0</td>\n      <td>0.0</td>\n      <td>1</td>\n      <td>0</td>\n      <td>0</td>\n    </tr>\n  </tbody>\n</table>\n<p>76038 rows × 109 columns</p>\n</div>"
     },
     "metadata": {},
     "execution_count": 49
    }
   ],
   "source": []
  },
  {
   "cell_type": "code",
   "execution_count": 67,
   "metadata": {},
   "outputs": [],
   "source": [
    "X_train = df_a_train[df_a_train.columns.difference([\"DaysInHospital\"])]\n",
    "y_train = df_a_train[[\"DaysInHospital\"]]"
   ]
  },
  {
   "cell_type": "code",
   "execution_count": 68,
   "metadata": {},
   "outputs": [],
   "source": [
    "scaler = MinMaxScaler()\n",
    "scaler = scaler.fit(X_train)"
   ]
  },
  {
   "cell_type": "code",
   "execution_count": 70,
   "metadata": {},
   "outputs": [
    {
     "output_type": "execute_result",
     "data": {
      "text/plain": [
       "          AgeAtFirstClaim  CharlsonIndexMax  CharlsonIndexMin  ClaimCount  \\\n",
       "MemberID                                                                    \n",
       "210                    35               0.0               0.0         8.0   \n",
       "3197                    5               0.0               0.0         5.0   \n",
       "3889                   -1               2.0               0.0        13.0   \n",
       "4187                   55               0.0               0.0         4.0   \n",
       "9063                   65               0.0               0.0         4.0   \n",
       "...                   ...               ...               ...         ...   \n",
       "99995554               45               0.0               0.0        35.0   \n",
       "99996214               45               0.0               0.0         1.0   \n",
       "99997485               15               0.0               0.0         1.0   \n",
       "99997895               45               0.0               0.0        14.0   \n",
       "99998627               35               2.0               0.0        10.0   \n",
       "\n",
       "          DSFSMax  DSFSMin  DrugClaimCount  DrugCountAvg  LabClaimCount  \\\n",
       "MemberID                                                                  \n",
       "210          10.0      1.0             3.0      1.666667            1.0   \n",
       "3197         12.0      1.0             4.0      1.250000            0.0   \n",
       "3889          2.0      1.0            10.0      3.000000            1.0   \n",
       "4187          9.0      1.0            10.0      6.100000            0.0   \n",
       "9063          2.0      1.0             2.0      1.000000            0.0   \n",
       "...           ...      ...             ...           ...            ...   \n",
       "99995554     10.0      1.0             4.0      2.000000            3.0   \n",
       "99996214      1.0      1.0             0.0      0.000000            0.0   \n",
       "99997485      1.0      1.0             0.0      0.000000            0.0   \n",
       "99997895     10.0      1.0             0.0      0.000000            2.0   \n",
       "99998627      1.0      1.0             1.0      1.000000            1.0   \n",
       "\n",
       "          LabCountAvg  ...  SpecialtyCount_General Practice  \\\n",
       "MemberID               ...                                    \n",
       "210          2.000000  ...                              0.0   \n",
       "3197         0.000000  ...                              0.0   \n",
       "3889        10.000000  ...                              0.0   \n",
       "4187         0.000000  ...                              0.0   \n",
       "9063         0.000000  ...                              0.0   \n",
       "...               ...  ...                              ...   \n",
       "99995554     3.666667  ...                              2.0   \n",
       "99996214     0.000000  ...                              1.0   \n",
       "99997485     0.000000  ...                              1.0   \n",
       "99997895     5.000000  ...                              0.0   \n",
       "99998627     5.000000  ...                              0.0   \n",
       "\n",
       "          SpecialtyCount_Internal  SpecialtyCount_Laboratory  \\\n",
       "MemberID                                                       \n",
       "210                           4.0                        2.0   \n",
       "3197                          0.0                        0.0   \n",
       "3889                          4.0                        4.0   \n",
       "4187                          2.0                        0.0   \n",
       "9063                          3.0                        0.0   \n",
       "...                           ...                        ...   \n",
       "99995554                     26.0                        7.0   \n",
       "99996214                      0.0                        0.0   \n",
       "99997485                      0.0                        0.0   \n",
       "99997895                      4.0                        7.0   \n",
       "99998627                      4.0                        2.0   \n",
       "\n",
       "          SpecialtyCount_Obstetrics and Gynecology  SpecialtyCount_Other  \\\n",
       "MemberID                                                                   \n",
       "210                                            0.0                   0.0   \n",
       "3197                                           0.0                   0.0   \n",
       "3889                                           0.0                   0.0   \n",
       "4187                                           0.0                   1.0   \n",
       "9063                                           0.0                   0.0   \n",
       "...                                            ...                   ...   \n",
       "99995554                                       0.0                   0.0   \n",
       "99996214                                       0.0                   0.0   \n",
       "99997485                                       0.0                   0.0   \n",
       "99997895                                       0.0                   0.0   \n",
       "99998627                                       0.0                   2.0   \n",
       "\n",
       "          SpecialtyCount_Pathology  SpecialtyCount_Pediatrics  \\\n",
       "MemberID                                                        \n",
       "210                            0.0                        0.0   \n",
       "3197                           0.0                        3.0   \n",
       "3889                           0.0                        0.0   \n",
       "4187                           0.0                        0.0   \n",
       "9063                           0.0                        0.0   \n",
       "...                            ...                        ...   \n",
       "99995554                       0.0                        0.0   \n",
       "99996214                       0.0                        0.0   \n",
       "99997485                       0.0                        0.0   \n",
       "99997895                       0.0                        0.0   \n",
       "99998627                       0.0                        0.0   \n",
       "\n",
       "          SpecialtyCount_Rehabilitation  SpecialtyCount_Surgery  \\\n",
       "MemberID                                                          \n",
       "210                                 0.0                     0.0   \n",
       "3197                                0.0                     0.0   \n",
       "3889                                0.0                     0.0   \n",
       "4187                                0.0                     0.0   \n",
       "9063                                0.0                     0.0   \n",
       "...                                 ...                     ...   \n",
       "99995554                            0.0                     0.0   \n",
       "99996214                            0.0                     0.0   \n",
       "99997485                            0.0                     0.0   \n",
       "99997895                            0.0                     2.0   \n",
       "99998627                            0.0                     0.0   \n",
       "\n",
       "          SpecialtyCount_nan  \n",
       "MemberID                      \n",
       "210                      0.0  \n",
       "3197                     0.0  \n",
       "3889                     0.0  \n",
       "4187                     0.0  \n",
       "9063                     0.0  \n",
       "...                      ...  \n",
       "99995554                 0.0  \n",
       "99996214                 0.0  \n",
       "99997485                 0.0  \n",
       "99997895                 0.0  \n",
       "99998627                 0.0  \n",
       "\n",
       "[76038 rows x 108 columns]"
      ],
      "text/html": "<div>\n<style scoped>\n    .dataframe tbody tr th:only-of-type {\n        vertical-align: middle;\n    }\n\n    .dataframe tbody tr th {\n        vertical-align: top;\n    }\n\n    .dataframe thead th {\n        text-align: right;\n    }\n</style>\n<table border=\"1\" class=\"dataframe\">\n  <thead>\n    <tr style=\"text-align: right;\">\n      <th></th>\n      <th>AgeAtFirstClaim</th>\n      <th>CharlsonIndexMax</th>\n      <th>CharlsonIndexMin</th>\n      <th>ClaimCount</th>\n      <th>DSFSMax</th>\n      <th>DSFSMin</th>\n      <th>DrugClaimCount</th>\n      <th>DrugCountAvg</th>\n      <th>LabClaimCount</th>\n      <th>LabCountAvg</th>\n      <th>...</th>\n      <th>SpecialtyCount_General Practice</th>\n      <th>SpecialtyCount_Internal</th>\n      <th>SpecialtyCount_Laboratory</th>\n      <th>SpecialtyCount_Obstetrics and Gynecology</th>\n      <th>SpecialtyCount_Other</th>\n      <th>SpecialtyCount_Pathology</th>\n      <th>SpecialtyCount_Pediatrics</th>\n      <th>SpecialtyCount_Rehabilitation</th>\n      <th>SpecialtyCount_Surgery</th>\n      <th>SpecialtyCount_nan</th>\n    </tr>\n    <tr>\n      <th>MemberID</th>\n      <th></th>\n      <th></th>\n      <th></th>\n      <th></th>\n      <th></th>\n      <th></th>\n      <th></th>\n      <th></th>\n      <th></th>\n      <th></th>\n      <th></th>\n      <th></th>\n      <th></th>\n      <th></th>\n      <th></th>\n      <th></th>\n      <th></th>\n      <th></th>\n      <th></th>\n      <th></th>\n      <th></th>\n    </tr>\n  </thead>\n  <tbody>\n    <tr>\n      <th>210</th>\n      <td>35</td>\n      <td>0.0</td>\n      <td>0.0</td>\n      <td>8.0</td>\n      <td>10.0</td>\n      <td>1.0</td>\n      <td>3.0</td>\n      <td>1.666667</td>\n      <td>1.0</td>\n      <td>2.000000</td>\n      <td>...</td>\n      <td>0.0</td>\n      <td>4.0</td>\n      <td>2.0</td>\n      <td>0.0</td>\n      <td>0.0</td>\n      <td>0.0</td>\n      <td>0.0</td>\n      <td>0.0</td>\n      <td>0.0</td>\n      <td>0.0</td>\n    </tr>\n    <tr>\n      <th>3197</th>\n      <td>5</td>\n      <td>0.0</td>\n      <td>0.0</td>\n      <td>5.0</td>\n      <td>12.0</td>\n      <td>1.0</td>\n      <td>4.0</td>\n      <td>1.250000</td>\n      <td>0.0</td>\n      <td>0.000000</td>\n      <td>...</td>\n      <td>0.0</td>\n      <td>0.0</td>\n      <td>0.0</td>\n      <td>0.0</td>\n      <td>0.0</td>\n      <td>0.0</td>\n      <td>3.0</td>\n      <td>0.0</td>\n      <td>0.0</td>\n      <td>0.0</td>\n    </tr>\n    <tr>\n      <th>3889</th>\n      <td>-1</td>\n      <td>2.0</td>\n      <td>0.0</td>\n      <td>13.0</td>\n      <td>2.0</td>\n      <td>1.0</td>\n      <td>10.0</td>\n      <td>3.000000</td>\n      <td>1.0</td>\n      <td>10.000000</td>\n      <td>...</td>\n      <td>0.0</td>\n      <td>4.0</td>\n      <td>4.0</td>\n      <td>0.0</td>\n      <td>0.0</td>\n      <td>0.0</td>\n      <td>0.0</td>\n      <td>0.0</td>\n      <td>0.0</td>\n      <td>0.0</td>\n    </tr>\n    <tr>\n      <th>4187</th>\n      <td>55</td>\n      <td>0.0</td>\n      <td>0.0</td>\n      <td>4.0</td>\n      <td>9.0</td>\n      <td>1.0</td>\n      <td>10.0</td>\n      <td>6.100000</td>\n      <td>0.0</td>\n      <td>0.000000</td>\n      <td>...</td>\n      <td>0.0</td>\n      <td>2.0</td>\n      <td>0.0</td>\n      <td>0.0</td>\n      <td>1.0</td>\n      <td>0.0</td>\n      <td>0.0</td>\n      <td>0.0</td>\n      <td>0.0</td>\n      <td>0.0</td>\n    </tr>\n    <tr>\n      <th>9063</th>\n      <td>65</td>\n      <td>0.0</td>\n      <td>0.0</td>\n      <td>4.0</td>\n      <td>2.0</td>\n      <td>1.0</td>\n      <td>2.0</td>\n      <td>1.000000</td>\n      <td>0.0</td>\n      <td>0.000000</td>\n      <td>...</td>\n      <td>0.0</td>\n      <td>3.0</td>\n      <td>0.0</td>\n      <td>0.0</td>\n      <td>0.0</td>\n      <td>0.0</td>\n      <td>0.0</td>\n      <td>0.0</td>\n      <td>0.0</td>\n      <td>0.0</td>\n    </tr>\n    <tr>\n      <th>...</th>\n      <td>...</td>\n      <td>...</td>\n      <td>...</td>\n      <td>...</td>\n      <td>...</td>\n      <td>...</td>\n      <td>...</td>\n      <td>...</td>\n      <td>...</td>\n      <td>...</td>\n      <td>...</td>\n      <td>...</td>\n      <td>...</td>\n      <td>...</td>\n      <td>...</td>\n      <td>...</td>\n      <td>...</td>\n      <td>...</td>\n      <td>...</td>\n      <td>...</td>\n      <td>...</td>\n    </tr>\n    <tr>\n      <th>99995554</th>\n      <td>45</td>\n      <td>0.0</td>\n      <td>0.0</td>\n      <td>35.0</td>\n      <td>10.0</td>\n      <td>1.0</td>\n      <td>4.0</td>\n      <td>2.000000</td>\n      <td>3.0</td>\n      <td>3.666667</td>\n      <td>...</td>\n      <td>2.0</td>\n      <td>26.0</td>\n      <td>7.0</td>\n      <td>0.0</td>\n      <td>0.0</td>\n      <td>0.0</td>\n      <td>0.0</td>\n      <td>0.0</td>\n      <td>0.0</td>\n      <td>0.0</td>\n    </tr>\n    <tr>\n      <th>99996214</th>\n      <td>45</td>\n      <td>0.0</td>\n      <td>0.0</td>\n      <td>1.0</td>\n      <td>1.0</td>\n      <td>1.0</td>\n      <td>0.0</td>\n      <td>0.000000</td>\n      <td>0.0</td>\n      <td>0.000000</td>\n      <td>...</td>\n      <td>1.0</td>\n      <td>0.0</td>\n      <td>0.0</td>\n      <td>0.0</td>\n      <td>0.0</td>\n      <td>0.0</td>\n      <td>0.0</td>\n      <td>0.0</td>\n      <td>0.0</td>\n      <td>0.0</td>\n    </tr>\n    <tr>\n      <th>99997485</th>\n      <td>15</td>\n      <td>0.0</td>\n      <td>0.0</td>\n      <td>1.0</td>\n      <td>1.0</td>\n      <td>1.0</td>\n      <td>0.0</td>\n      <td>0.000000</td>\n      <td>0.0</td>\n      <td>0.000000</td>\n      <td>...</td>\n      <td>1.0</td>\n      <td>0.0</td>\n      <td>0.0</td>\n      <td>0.0</td>\n      <td>0.0</td>\n      <td>0.0</td>\n      <td>0.0</td>\n      <td>0.0</td>\n      <td>0.0</td>\n      <td>0.0</td>\n    </tr>\n    <tr>\n      <th>99997895</th>\n      <td>45</td>\n      <td>0.0</td>\n      <td>0.0</td>\n      <td>14.0</td>\n      <td>10.0</td>\n      <td>1.0</td>\n      <td>0.0</td>\n      <td>0.000000</td>\n      <td>2.0</td>\n      <td>5.000000</td>\n      <td>...</td>\n      <td>0.0</td>\n      <td>4.0</td>\n      <td>7.0</td>\n      <td>0.0</td>\n      <td>0.0</td>\n      <td>0.0</td>\n      <td>0.0</td>\n      <td>0.0</td>\n      <td>2.0</td>\n      <td>0.0</td>\n    </tr>\n    <tr>\n      <th>99998627</th>\n      <td>35</td>\n      <td>2.0</td>\n      <td>0.0</td>\n      <td>10.0</td>\n      <td>1.0</td>\n      <td>1.0</td>\n      <td>1.0</td>\n      <td>1.000000</td>\n      <td>1.0</td>\n      <td>5.000000</td>\n      <td>...</td>\n      <td>0.0</td>\n      <td>4.0</td>\n      <td>2.0</td>\n      <td>0.0</td>\n      <td>2.0</td>\n      <td>0.0</td>\n      <td>0.0</td>\n      <td>0.0</td>\n      <td>0.0</td>\n      <td>0.0</td>\n    </tr>\n  </tbody>\n</table>\n<p>76038 rows × 108 columns</p>\n</div>"
     },
     "metadata": {},
     "execution_count": 70
    }
   ],
   "source": [
    "X_train"
   ]
  },
  {
   "cell_type": "code",
   "execution_count": 73,
   "metadata": {},
   "outputs": [],
   "source": [
    "X_train = pd.DataFrame(scaler.transform(X_train), columns=X_train.columns, index=X_train.index)"
   ]
  },
  {
   "cell_type": "code",
   "execution_count": 74,
   "metadata": {},
   "outputs": [
    {
     "output_type": "execute_result",
     "data": {
      "text/plain": [
       "          AgeAtFirstClaim  CharlsonIndexMax  CharlsonIndexMin  ClaimCount  \\\n",
       "MemberID                                                                    \n",
       "210              0.418605          0.000000               0.0    0.166667   \n",
       "3197             0.069767          0.000000               0.0    0.095238   \n",
       "3889             0.000000          0.333333               0.0    0.285714   \n",
       "4187             0.651163          0.000000               0.0    0.071429   \n",
       "9063             0.767442          0.000000               0.0    0.071429   \n",
       "...                   ...               ...               ...         ...   \n",
       "99995554         0.534884          0.000000               0.0    0.809524   \n",
       "99996214         0.534884          0.000000               0.0    0.000000   \n",
       "99997485         0.186047          0.000000               0.0    0.000000   \n",
       "99997895         0.534884          0.000000               0.0    0.309524   \n",
       "99998627         0.418605          0.333333               0.0    0.214286   \n",
       "\n",
       "           DSFSMax   DSFSMin  DrugClaimCount  DrugCountAvg  LabClaimCount  \\\n",
       "MemberID                                                                    \n",
       "210       0.833333  0.111111        0.250000      0.238095       0.083333   \n",
       "3197      1.000000  0.111111        0.333333      0.178571       0.000000   \n",
       "3889      0.166667  0.111111        0.833333      0.428571       0.083333   \n",
       "4187      0.750000  0.111111        0.833333      0.871429       0.000000   \n",
       "9063      0.166667  0.111111        0.166667      0.142857       0.000000   \n",
       "...            ...       ...             ...           ...            ...   \n",
       "99995554  0.833333  0.111111        0.333333      0.285714       0.250000   \n",
       "99996214  0.083333  0.111111        0.000000      0.000000       0.000000   \n",
       "99997485  0.083333  0.111111        0.000000      0.000000       0.000000   \n",
       "99997895  0.833333  0.111111        0.000000      0.000000       0.166667   \n",
       "99998627  0.083333  0.111111        0.083333      0.142857       0.083333   \n",
       "\n",
       "          LabCountAvg  ...  SpecialtyCount_General Practice  \\\n",
       "MemberID               ...                                    \n",
       "210          0.200000  ...                         0.000000   \n",
       "3197         0.000000  ...                         0.000000   \n",
       "3889         1.000000  ...                         0.000000   \n",
       "4187         0.000000  ...                         0.000000   \n",
       "9063         0.000000  ...                         0.000000   \n",
       "...               ...  ...                              ...   \n",
       "99995554     0.366667  ...                         0.051282   \n",
       "99996214     0.000000  ...                         0.025641   \n",
       "99997485     0.000000  ...                         0.025641   \n",
       "99997895     0.500000  ...                         0.000000   \n",
       "99998627     0.500000  ...                         0.000000   \n",
       "\n",
       "          SpecialtyCount_Internal  SpecialtyCount_Laboratory  \\\n",
       "MemberID                                                       \n",
       "210                      0.102564                   0.046512   \n",
       "3197                     0.000000                   0.000000   \n",
       "3889                     0.102564                   0.093023   \n",
       "4187                     0.051282                   0.000000   \n",
       "9063                     0.076923                   0.000000   \n",
       "...                           ...                        ...   \n",
       "99995554                 0.666667                   0.162791   \n",
       "99996214                 0.000000                   0.000000   \n",
       "99997485                 0.000000                   0.000000   \n",
       "99997895                 0.102564                   0.162791   \n",
       "99998627                 0.102564                   0.046512   \n",
       "\n",
       "          SpecialtyCount_Obstetrics and Gynecology  SpecialtyCount_Other  \\\n",
       "MemberID                                                                   \n",
       "210                                            0.0              0.000000   \n",
       "3197                                           0.0              0.000000   \n",
       "3889                                           0.0              0.000000   \n",
       "4187                                           0.0              0.028571   \n",
       "9063                                           0.0              0.000000   \n",
       "...                                            ...                   ...   \n",
       "99995554                                       0.0              0.000000   \n",
       "99996214                                       0.0              0.000000   \n",
       "99997485                                       0.0              0.000000   \n",
       "99997895                                       0.0              0.000000   \n",
       "99998627                                       0.0              0.057143   \n",
       "\n",
       "          SpecialtyCount_Pathology  SpecialtyCount_Pediatrics  \\\n",
       "MemberID                                                        \n",
       "210                            0.0                   0.000000   \n",
       "3197                           0.0                   0.078947   \n",
       "3889                           0.0                   0.000000   \n",
       "4187                           0.0                   0.000000   \n",
       "9063                           0.0                   0.000000   \n",
       "...                            ...                        ...   \n",
       "99995554                       0.0                   0.000000   \n",
       "99996214                       0.0                   0.000000   \n",
       "99997485                       0.0                   0.000000   \n",
       "99997895                       0.0                   0.000000   \n",
       "99998627                       0.0                   0.000000   \n",
       "\n",
       "          SpecialtyCount_Rehabilitation  SpecialtyCount_Surgery  \\\n",
       "MemberID                                                          \n",
       "210                                 0.0                0.000000   \n",
       "3197                                0.0                0.000000   \n",
       "3889                                0.0                0.000000   \n",
       "4187                                0.0                0.000000   \n",
       "9063                                0.0                0.000000   \n",
       "...                                 ...                     ...   \n",
       "99995554                            0.0                0.000000   \n",
       "99996214                            0.0                0.000000   \n",
       "99997485                            0.0                0.000000   \n",
       "99997895                            0.0                0.060606   \n",
       "99998627                            0.0                0.000000   \n",
       "\n",
       "          SpecialtyCount_nan  \n",
       "MemberID                      \n",
       "210                      0.0  \n",
       "3197                     0.0  \n",
       "3889                     0.0  \n",
       "4187                     0.0  \n",
       "9063                     0.0  \n",
       "...                      ...  \n",
       "99995554                 0.0  \n",
       "99996214                 0.0  \n",
       "99997485                 0.0  \n",
       "99997895                 0.0  \n",
       "99998627                 0.0  \n",
       "\n",
       "[76038 rows x 108 columns]"
      ],
      "text/html": "<div>\n<style scoped>\n    .dataframe tbody tr th:only-of-type {\n        vertical-align: middle;\n    }\n\n    .dataframe tbody tr th {\n        vertical-align: top;\n    }\n\n    .dataframe thead th {\n        text-align: right;\n    }\n</style>\n<table border=\"1\" class=\"dataframe\">\n  <thead>\n    <tr style=\"text-align: right;\">\n      <th></th>\n      <th>AgeAtFirstClaim</th>\n      <th>CharlsonIndexMax</th>\n      <th>CharlsonIndexMin</th>\n      <th>ClaimCount</th>\n      <th>DSFSMax</th>\n      <th>DSFSMin</th>\n      <th>DrugClaimCount</th>\n      <th>DrugCountAvg</th>\n      <th>LabClaimCount</th>\n      <th>LabCountAvg</th>\n      <th>...</th>\n      <th>SpecialtyCount_General Practice</th>\n      <th>SpecialtyCount_Internal</th>\n      <th>SpecialtyCount_Laboratory</th>\n      <th>SpecialtyCount_Obstetrics and Gynecology</th>\n      <th>SpecialtyCount_Other</th>\n      <th>SpecialtyCount_Pathology</th>\n      <th>SpecialtyCount_Pediatrics</th>\n      <th>SpecialtyCount_Rehabilitation</th>\n      <th>SpecialtyCount_Surgery</th>\n      <th>SpecialtyCount_nan</th>\n    </tr>\n    <tr>\n      <th>MemberID</th>\n      <th></th>\n      <th></th>\n      <th></th>\n      <th></th>\n      <th></th>\n      <th></th>\n      <th></th>\n      <th></th>\n      <th></th>\n      <th></th>\n      <th></th>\n      <th></th>\n      <th></th>\n      <th></th>\n      <th></th>\n      <th></th>\n      <th></th>\n      <th></th>\n      <th></th>\n      <th></th>\n      <th></th>\n    </tr>\n  </thead>\n  <tbody>\n    <tr>\n      <th>210</th>\n      <td>0.418605</td>\n      <td>0.000000</td>\n      <td>0.0</td>\n      <td>0.166667</td>\n      <td>0.833333</td>\n      <td>0.111111</td>\n      <td>0.250000</td>\n      <td>0.238095</td>\n      <td>0.083333</td>\n      <td>0.200000</td>\n      <td>...</td>\n      <td>0.000000</td>\n      <td>0.102564</td>\n      <td>0.046512</td>\n      <td>0.0</td>\n      <td>0.000000</td>\n      <td>0.0</td>\n      <td>0.000000</td>\n      <td>0.0</td>\n      <td>0.000000</td>\n      <td>0.0</td>\n    </tr>\n    <tr>\n      <th>3197</th>\n      <td>0.069767</td>\n      <td>0.000000</td>\n      <td>0.0</td>\n      <td>0.095238</td>\n      <td>1.000000</td>\n      <td>0.111111</td>\n      <td>0.333333</td>\n      <td>0.178571</td>\n      <td>0.000000</td>\n      <td>0.000000</td>\n      <td>...</td>\n      <td>0.000000</td>\n      <td>0.000000</td>\n      <td>0.000000</td>\n      <td>0.0</td>\n      <td>0.000000</td>\n      <td>0.0</td>\n      <td>0.078947</td>\n      <td>0.0</td>\n      <td>0.000000</td>\n      <td>0.0</td>\n    </tr>\n    <tr>\n      <th>3889</th>\n      <td>0.000000</td>\n      <td>0.333333</td>\n      <td>0.0</td>\n      <td>0.285714</td>\n      <td>0.166667</td>\n      <td>0.111111</td>\n      <td>0.833333</td>\n      <td>0.428571</td>\n      <td>0.083333</td>\n      <td>1.000000</td>\n      <td>...</td>\n      <td>0.000000</td>\n      <td>0.102564</td>\n      <td>0.093023</td>\n      <td>0.0</td>\n      <td>0.000000</td>\n      <td>0.0</td>\n      <td>0.000000</td>\n      <td>0.0</td>\n      <td>0.000000</td>\n      <td>0.0</td>\n    </tr>\n    <tr>\n      <th>4187</th>\n      <td>0.651163</td>\n      <td>0.000000</td>\n      <td>0.0</td>\n      <td>0.071429</td>\n      <td>0.750000</td>\n      <td>0.111111</td>\n      <td>0.833333</td>\n      <td>0.871429</td>\n      <td>0.000000</td>\n      <td>0.000000</td>\n      <td>...</td>\n      <td>0.000000</td>\n      <td>0.051282</td>\n      <td>0.000000</td>\n      <td>0.0</td>\n      <td>0.028571</td>\n      <td>0.0</td>\n      <td>0.000000</td>\n      <td>0.0</td>\n      <td>0.000000</td>\n      <td>0.0</td>\n    </tr>\n    <tr>\n      <th>9063</th>\n      <td>0.767442</td>\n      <td>0.000000</td>\n      <td>0.0</td>\n      <td>0.071429</td>\n      <td>0.166667</td>\n      <td>0.111111</td>\n      <td>0.166667</td>\n      <td>0.142857</td>\n      <td>0.000000</td>\n      <td>0.000000</td>\n      <td>...</td>\n      <td>0.000000</td>\n      <td>0.076923</td>\n      <td>0.000000</td>\n      <td>0.0</td>\n      <td>0.000000</td>\n      <td>0.0</td>\n      <td>0.000000</td>\n      <td>0.0</td>\n      <td>0.000000</td>\n      <td>0.0</td>\n    </tr>\n    <tr>\n      <th>...</th>\n      <td>...</td>\n      <td>...</td>\n      <td>...</td>\n      <td>...</td>\n      <td>...</td>\n      <td>...</td>\n      <td>...</td>\n      <td>...</td>\n      <td>...</td>\n      <td>...</td>\n      <td>...</td>\n      <td>...</td>\n      <td>...</td>\n      <td>...</td>\n      <td>...</td>\n      <td>...</td>\n      <td>...</td>\n      <td>...</td>\n      <td>...</td>\n      <td>...</td>\n      <td>...</td>\n    </tr>\n    <tr>\n      <th>99995554</th>\n      <td>0.534884</td>\n      <td>0.000000</td>\n      <td>0.0</td>\n      <td>0.809524</td>\n      <td>0.833333</td>\n      <td>0.111111</td>\n      <td>0.333333</td>\n      <td>0.285714</td>\n      <td>0.250000</td>\n      <td>0.366667</td>\n      <td>...</td>\n      <td>0.051282</td>\n      <td>0.666667</td>\n      <td>0.162791</td>\n      <td>0.0</td>\n      <td>0.000000</td>\n      <td>0.0</td>\n      <td>0.000000</td>\n      <td>0.0</td>\n      <td>0.000000</td>\n      <td>0.0</td>\n    </tr>\n    <tr>\n      <th>99996214</th>\n      <td>0.534884</td>\n      <td>0.000000</td>\n      <td>0.0</td>\n      <td>0.000000</td>\n      <td>0.083333</td>\n      <td>0.111111</td>\n      <td>0.000000</td>\n      <td>0.000000</td>\n      <td>0.000000</td>\n      <td>0.000000</td>\n      <td>...</td>\n      <td>0.025641</td>\n      <td>0.000000</td>\n      <td>0.000000</td>\n      <td>0.0</td>\n      <td>0.000000</td>\n      <td>0.0</td>\n      <td>0.000000</td>\n      <td>0.0</td>\n      <td>0.000000</td>\n      <td>0.0</td>\n    </tr>\n    <tr>\n      <th>99997485</th>\n      <td>0.186047</td>\n      <td>0.000000</td>\n      <td>0.0</td>\n      <td>0.000000</td>\n      <td>0.083333</td>\n      <td>0.111111</td>\n      <td>0.000000</td>\n      <td>0.000000</td>\n      <td>0.000000</td>\n      <td>0.000000</td>\n      <td>...</td>\n      <td>0.025641</td>\n      <td>0.000000</td>\n      <td>0.000000</td>\n      <td>0.0</td>\n      <td>0.000000</td>\n      <td>0.0</td>\n      <td>0.000000</td>\n      <td>0.0</td>\n      <td>0.000000</td>\n      <td>0.0</td>\n    </tr>\n    <tr>\n      <th>99997895</th>\n      <td>0.534884</td>\n      <td>0.000000</td>\n      <td>0.0</td>\n      <td>0.309524</td>\n      <td>0.833333</td>\n      <td>0.111111</td>\n      <td>0.000000</td>\n      <td>0.000000</td>\n      <td>0.166667</td>\n      <td>0.500000</td>\n      <td>...</td>\n      <td>0.000000</td>\n      <td>0.102564</td>\n      <td>0.162791</td>\n      <td>0.0</td>\n      <td>0.000000</td>\n      <td>0.0</td>\n      <td>0.000000</td>\n      <td>0.0</td>\n      <td>0.060606</td>\n      <td>0.0</td>\n    </tr>\n    <tr>\n      <th>99998627</th>\n      <td>0.418605</td>\n      <td>0.333333</td>\n      <td>0.0</td>\n      <td>0.214286</td>\n      <td>0.083333</td>\n      <td>0.111111</td>\n      <td>0.083333</td>\n      <td>0.142857</td>\n      <td>0.083333</td>\n      <td>0.500000</td>\n      <td>...</td>\n      <td>0.000000</td>\n      <td>0.102564</td>\n      <td>0.046512</td>\n      <td>0.0</td>\n      <td>0.057143</td>\n      <td>0.0</td>\n      <td>0.000000</td>\n      <td>0.0</td>\n      <td>0.000000</td>\n      <td>0.0</td>\n    </tr>\n  </tbody>\n</table>\n<p>76038 rows × 108 columns</p>\n</div>"
     },
     "metadata": {},
     "execution_count": 74
    }
   ],
   "source": [
    "X_train"
   ]
  },
  {
   "cell_type": "code",
   "execution_count": 50,
   "metadata": {},
   "outputs": [],
   "source": [
    "df_a_train.to_csv(\"./processed/strategy-a/train/train.csv\")"
   ]
  },
  {
   "cell_type": "code",
   "execution_count": 75,
   "metadata": {},
   "outputs": [],
   "source": [
    "X_train.to_csv(\"./processed/strategy-a/train/X_train.csv\")"
   ]
  },
  {
   "cell_type": "code",
   "execution_count": 76,
   "metadata": {},
   "outputs": [],
   "source": [
    "y_train.to_csv(\"./processed/strategy-a/train/y_train.csv\")"
   ]
  },
  {
   "source": [
    "## Test set"
   ],
   "cell_type": "markdown",
   "metadata": {}
  },
  {
   "cell_type": "code",
   "execution_count": 90,
   "metadata": {},
   "outputs": [
    {
     "output_type": "execute_result",
     "data": {
      "text/plain": [
       "          AgeAtFirstClaim  ClaimCount  PCP  SpecialtyCount_Surgery  \\\n",
       "MemberID                                                             \n",
       "4                       5         1.0  1.0                     0.0   \n",
       "210                    35         6.0  1.0                     0.0   \n",
       "3197                    5         5.0  1.0                     0.0   \n",
       "3457                    5         1.0  1.0                     0.0   \n",
       "3713                   45        10.0  2.0                     0.0   \n",
       "...                   ...         ...  ...                     ...   \n",
       "99985996               -1         5.0  1.0                     1.0   \n",
       "99987030               25         4.0  1.0                     0.0   \n",
       "99995391               65        11.0  1.0                     5.0   \n",
       "99995554               45        15.0  1.0                     0.0   \n",
       "99998824               35         8.0  1.0                     0.0   \n",
       "\n",
       "          SpecialtyCount_Rehabilitation  SpecialtyCount_General Practice  \\\n",
       "MemberID                                                                   \n",
       "4                                   0.0                              0.0   \n",
       "210                                 0.0                              0.0   \n",
       "3197                                0.0                              0.0   \n",
       "3457                                0.0                              0.0   \n",
       "3713                                0.0                              7.0   \n",
       "...                                 ...                              ...   \n",
       "99985996                            0.0                              0.0   \n",
       "99987030                            0.0                              1.0   \n",
       "99995391                            0.0                              0.0   \n",
       "99995554                            0.0                              2.0   \n",
       "99998824                            0.0                              2.0   \n",
       "\n",
       "          SpecialtyCount_Emergency  SpecialtyCount_Laboratory  \\\n",
       "MemberID                                                        \n",
       "4                              0.0                        0.0   \n",
       "210                            0.0                        1.0   \n",
       "3197                           0.0                        2.0   \n",
       "3457                           0.0                        0.0   \n",
       "3713                           0.0                        2.0   \n",
       "...                            ...                        ...   \n",
       "99985996                       0.0                        0.0   \n",
       "99987030                       3.0                        0.0   \n",
       "99995391                       0.0                        0.0   \n",
       "99995554                       0.0                        2.0   \n",
       "99998824                       2.0                        2.0   \n",
       "\n",
       "          SpecialtyCount_Other  SpecialtyCount_Obstetrics and Gynecology  ...  \\\n",
       "MemberID                                                                  ...   \n",
       "4                          0.0                                       0.0  ...   \n",
       "210                        4.0                                       0.0  ...   \n",
       "3197                       0.0                                       0.0  ...   \n",
       "3457                       0.0                                       0.0  ...   \n",
       "3713                       0.0                                       0.0  ...   \n",
       "...                        ...                                       ...  ...   \n",
       "99985996                   0.0                                       0.0  ...   \n",
       "99987030                   0.0                                       0.0  ...   \n",
       "99995391                   0.0                                       0.0  ...   \n",
       "99995554                   0.0                                       0.0  ...   \n",
       "99998824                   0.0                                       2.0  ...   \n",
       "\n",
       "          ProcedureGroupCount_nan  LabCountAvg  LabCountStd  LabClaimCount  \\\n",
       "MemberID                                                                     \n",
       "4                             0.0          0.0    -1.000000            0.0   \n",
       "210                           0.0          1.0     0.000000            1.0   \n",
       "3197                          0.0          2.0     0.000000            1.0   \n",
       "3457                          0.0          0.0    -1.000000            0.0   \n",
       "3713                          0.0          4.5     4.949747            2.0   \n",
       "...                           ...          ...          ...            ...   \n",
       "99985996                      0.0          0.0    -1.000000            0.0   \n",
       "99987030                      0.0          0.0    -1.000000            0.0   \n",
       "99995391                      0.0          1.0     0.000000            1.0   \n",
       "99995554                      0.0         10.0     0.000000            1.0   \n",
       "99998824                      0.0          2.5     0.707107            2.0   \n",
       "\n",
       "          DrugCountAvg  DrugClaimCount  DaysInHospital  Sex_F  Sex_M  Sex_NaN  \n",
       "MemberID                                                                       \n",
       "4             0.000000             0.0             0.0      0      1        0  \n",
       "210           0.000000             0.0             0.0      0      0        1  \n",
       "3197          1.500000             2.0             0.0      1      0        0  \n",
       "3457          0.000000             0.0             0.0      0      1        0  \n",
       "3713          4.250000             4.0             0.0      1      0        0  \n",
       "...                ...             ...             ...    ...    ...      ...  \n",
       "99985996      3.000000             6.0             0.0      1      0        0  \n",
       "99987030      2.000000             1.0             0.0      0      1        0  \n",
       "99995391      2.333333             6.0             0.0      0      0        1  \n",
       "99995554      2.000000             1.0             0.0      0      1        0  \n",
       "99998824      0.000000             0.0             0.0      1      0        0  \n",
       "\n",
       "[71435 rows x 109 columns]"
      ],
      "text/html": "<div>\n<style scoped>\n    .dataframe tbody tr th:only-of-type {\n        vertical-align: middle;\n    }\n\n    .dataframe tbody tr th {\n        vertical-align: top;\n    }\n\n    .dataframe thead th {\n        text-align: right;\n    }\n</style>\n<table border=\"1\" class=\"dataframe\">\n  <thead>\n    <tr style=\"text-align: right;\">\n      <th></th>\n      <th>AgeAtFirstClaim</th>\n      <th>ClaimCount</th>\n      <th>PCP</th>\n      <th>SpecialtyCount_Surgery</th>\n      <th>SpecialtyCount_Rehabilitation</th>\n      <th>SpecialtyCount_General Practice</th>\n      <th>SpecialtyCount_Emergency</th>\n      <th>SpecialtyCount_Laboratory</th>\n      <th>SpecialtyCount_Other</th>\n      <th>SpecialtyCount_Obstetrics and Gynecology</th>\n      <th>...</th>\n      <th>ProcedureGroupCount_nan</th>\n      <th>LabCountAvg</th>\n      <th>LabCountStd</th>\n      <th>LabClaimCount</th>\n      <th>DrugCountAvg</th>\n      <th>DrugClaimCount</th>\n      <th>DaysInHospital</th>\n      <th>Sex_F</th>\n      <th>Sex_M</th>\n      <th>Sex_NaN</th>\n    </tr>\n    <tr>\n      <th>MemberID</th>\n      <th></th>\n      <th></th>\n      <th></th>\n      <th></th>\n      <th></th>\n      <th></th>\n      <th></th>\n      <th></th>\n      <th></th>\n      <th></th>\n      <th></th>\n      <th></th>\n      <th></th>\n      <th></th>\n      <th></th>\n      <th></th>\n      <th></th>\n      <th></th>\n      <th></th>\n      <th></th>\n      <th></th>\n    </tr>\n  </thead>\n  <tbody>\n    <tr>\n      <th>4</th>\n      <td>5</td>\n      <td>1.0</td>\n      <td>1.0</td>\n      <td>0.0</td>\n      <td>0.0</td>\n      <td>0.0</td>\n      <td>0.0</td>\n      <td>0.0</td>\n      <td>0.0</td>\n      <td>0.0</td>\n      <td>...</td>\n      <td>0.0</td>\n      <td>0.0</td>\n      <td>-1.000000</td>\n      <td>0.0</td>\n      <td>0.000000</td>\n      <td>0.0</td>\n      <td>0.0</td>\n      <td>0</td>\n      <td>1</td>\n      <td>0</td>\n    </tr>\n    <tr>\n      <th>210</th>\n      <td>35</td>\n      <td>6.0</td>\n      <td>1.0</td>\n      <td>0.0</td>\n      <td>0.0</td>\n      <td>0.0</td>\n      <td>0.0</td>\n      <td>1.0</td>\n      <td>4.0</td>\n      <td>0.0</td>\n      <td>...</td>\n      <td>0.0</td>\n      <td>1.0</td>\n      <td>0.000000</td>\n      <td>1.0</td>\n      <td>0.000000</td>\n      <td>0.0</td>\n      <td>0.0</td>\n      <td>0</td>\n      <td>0</td>\n      <td>1</td>\n    </tr>\n    <tr>\n      <th>3197</th>\n      <td>5</td>\n      <td>5.0</td>\n      <td>1.0</td>\n      <td>0.0</td>\n      <td>0.0</td>\n      <td>0.0</td>\n      <td>0.0</td>\n      <td>2.0</td>\n      <td>0.0</td>\n      <td>0.0</td>\n      <td>...</td>\n      <td>0.0</td>\n      <td>2.0</td>\n      <td>0.000000</td>\n      <td>1.0</td>\n      <td>1.500000</td>\n      <td>2.0</td>\n      <td>0.0</td>\n      <td>1</td>\n      <td>0</td>\n      <td>0</td>\n    </tr>\n    <tr>\n      <th>3457</th>\n      <td>5</td>\n      <td>1.0</td>\n      <td>1.0</td>\n      <td>0.0</td>\n      <td>0.0</td>\n      <td>0.0</td>\n      <td>0.0</td>\n      <td>0.0</td>\n      <td>0.0</td>\n      <td>0.0</td>\n      <td>...</td>\n      <td>0.0</td>\n      <td>0.0</td>\n      <td>-1.000000</td>\n      <td>0.0</td>\n      <td>0.000000</td>\n      <td>0.0</td>\n      <td>0.0</td>\n      <td>0</td>\n      <td>1</td>\n      <td>0</td>\n    </tr>\n    <tr>\n      <th>3713</th>\n      <td>45</td>\n      <td>10.0</td>\n      <td>2.0</td>\n      <td>0.0</td>\n      <td>0.0</td>\n      <td>7.0</td>\n      <td>0.0</td>\n      <td>2.0</td>\n      <td>0.0</td>\n      <td>0.0</td>\n      <td>...</td>\n      <td>0.0</td>\n      <td>4.5</td>\n      <td>4.949747</td>\n      <td>2.0</td>\n      <td>4.250000</td>\n      <td>4.0</td>\n      <td>0.0</td>\n      <td>1</td>\n      <td>0</td>\n      <td>0</td>\n    </tr>\n    <tr>\n      <th>...</th>\n      <td>...</td>\n      <td>...</td>\n      <td>...</td>\n      <td>...</td>\n      <td>...</td>\n      <td>...</td>\n      <td>...</td>\n      <td>...</td>\n      <td>...</td>\n      <td>...</td>\n      <td>...</td>\n      <td>...</td>\n      <td>...</td>\n      <td>...</td>\n      <td>...</td>\n      <td>...</td>\n      <td>...</td>\n      <td>...</td>\n      <td>...</td>\n      <td>...</td>\n      <td>...</td>\n    </tr>\n    <tr>\n      <th>99985996</th>\n      <td>-1</td>\n      <td>5.0</td>\n      <td>1.0</td>\n      <td>1.0</td>\n      <td>0.0</td>\n      <td>0.0</td>\n      <td>0.0</td>\n      <td>0.0</td>\n      <td>0.0</td>\n      <td>0.0</td>\n      <td>...</td>\n      <td>0.0</td>\n      <td>0.0</td>\n      <td>-1.000000</td>\n      <td>0.0</td>\n      <td>3.000000</td>\n      <td>6.0</td>\n      <td>0.0</td>\n      <td>1</td>\n      <td>0</td>\n      <td>0</td>\n    </tr>\n    <tr>\n      <th>99987030</th>\n      <td>25</td>\n      <td>4.0</td>\n      <td>1.0</td>\n      <td>0.0</td>\n      <td>0.0</td>\n      <td>1.0</td>\n      <td>3.0</td>\n      <td>0.0</td>\n      <td>0.0</td>\n      <td>0.0</td>\n      <td>...</td>\n      <td>0.0</td>\n      <td>0.0</td>\n      <td>-1.000000</td>\n      <td>0.0</td>\n      <td>2.000000</td>\n      <td>1.0</td>\n      <td>0.0</td>\n      <td>0</td>\n      <td>1</td>\n      <td>0</td>\n    </tr>\n    <tr>\n      <th>99995391</th>\n      <td>65</td>\n      <td>11.0</td>\n      <td>1.0</td>\n      <td>5.0</td>\n      <td>0.0</td>\n      <td>0.0</td>\n      <td>0.0</td>\n      <td>0.0</td>\n      <td>0.0</td>\n      <td>0.0</td>\n      <td>...</td>\n      <td>0.0</td>\n      <td>1.0</td>\n      <td>0.000000</td>\n      <td>1.0</td>\n      <td>2.333333</td>\n      <td>6.0</td>\n      <td>0.0</td>\n      <td>0</td>\n      <td>0</td>\n      <td>1</td>\n    </tr>\n    <tr>\n      <th>99995554</th>\n      <td>45</td>\n      <td>15.0</td>\n      <td>1.0</td>\n      <td>0.0</td>\n      <td>0.0</td>\n      <td>2.0</td>\n      <td>0.0</td>\n      <td>2.0</td>\n      <td>0.0</td>\n      <td>0.0</td>\n      <td>...</td>\n      <td>0.0</td>\n      <td>10.0</td>\n      <td>0.000000</td>\n      <td>1.0</td>\n      <td>2.000000</td>\n      <td>1.0</td>\n      <td>0.0</td>\n      <td>0</td>\n      <td>1</td>\n      <td>0</td>\n    </tr>\n    <tr>\n      <th>99998824</th>\n      <td>35</td>\n      <td>8.0</td>\n      <td>1.0</td>\n      <td>0.0</td>\n      <td>0.0</td>\n      <td>2.0</td>\n      <td>2.0</td>\n      <td>2.0</td>\n      <td>0.0</td>\n      <td>2.0</td>\n      <td>...</td>\n      <td>0.0</td>\n      <td>2.5</td>\n      <td>0.707107</td>\n      <td>2.0</td>\n      <td>0.000000</td>\n      <td>0.0</td>\n      <td>0.0</td>\n      <td>1</td>\n      <td>0</td>\n      <td>0</td>\n    </tr>\n  </tbody>\n</table>\n<p>71435 rows × 109 columns</p>\n</div>"
     },
     "metadata": {},
     "execution_count": 90
    }
   ],
   "source": [
    "df_a_test"
   ]
  },
  {
   "cell_type": "code",
   "execution_count": 86,
   "metadata": {},
   "outputs": [
    {
     "output_type": "execute_result",
     "data": {
      "text/plain": [
       "AgeAtFirstClaim    0.0\n",
       "ClaimCount         0.0\n",
       "ProviderID         0.0\n",
       "Vendor             0.0\n",
       "PCP                0.0\n",
       "                  ... \n",
       "DrugClaimCount     0.0\n",
       "DaysInHospital     0.0\n",
       "Sex_F              0.0\n",
       "Sex_M              0.0\n",
       "Sex_NaN            0.0\n",
       "Length: 123, dtype: float64"
      ]
     },
     "metadata": {},
     "execution_count": 86
    }
   ],
   "source": [
    "missing_rate = df_a_test.isnull().sum() / df_a_test.shape[0]\n",
    "missing_rate"
   ]
  },
  {
   "cell_type": "code",
   "execution_count": 87,
   "metadata": {},
   "outputs": [
    {
     "output_type": "execute_result",
     "data": {
      "text/plain": [
       "Series([], dtype: float64)"
      ]
     },
     "metadata": {},
     "execution_count": 87
    }
   ],
   "source": [
    "need_remove = missing_rate[missing_rate != 0]\n",
    "need_remove"
   ]
  },
  {
   "cell_type": "code",
   "execution_count": 83,
   "metadata": {},
   "outputs": [
    {
     "output_type": "execute_result",
     "data": {
      "text/plain": [
       "{'category': ['F', 'M', 'NaN'], 'drop': 'F'}"
      ]
     },
     "metadata": {},
     "execution_count": 83
    }
   ],
   "source": [
    "one_hot_encode(df_a_test, \"Sex\", sex_param)"
   ]
  },
  {
   "cell_type": "code",
   "execution_count": 85,
   "metadata": {},
   "outputs": [],
   "source": [
    "df_a_test[\"PayDelayStd\"].fillna(-1.0, inplace=True)\n",
    "df_a_test[\"LabCountStd\"].fillna(-1.0, inplace=True)\n",
    "df_a_test[\"DrugCountStd\"].fillna(-1.0, inplace=True)\n",
    "df_a_test.fillna(0.0, inplace=True)"
   ]
  },
  {
   "cell_type": "code",
   "execution_count": 89,
   "metadata": {},
   "outputs": [],
   "source": [
    "df_a_test.drop(columns=remove_col, inplace=True)"
   ]
  },
  {
   "cell_type": "code",
   "execution_count": 91,
   "metadata": {},
   "outputs": [],
   "source": [
    "X_test = df_a_test[df_a_test.columns.difference([\"DaysInHospital\"])]\n",
    "y_test = df_a_test[[\"DaysInHospital\"]]"
   ]
  },
  {
   "cell_type": "code",
   "execution_count": 92,
   "metadata": {},
   "outputs": [],
   "source": [
    "X_test = pd.DataFrame(scaler.transform(X_test), columns=X_test.columns, index=X_test.index)"
   ]
  },
  {
   "cell_type": "code",
   "execution_count": 93,
   "metadata": {},
   "outputs": [
    {
     "output_type": "execute_result",
     "data": {
      "text/plain": [
       "          AgeAtFirstClaim  CharlsonIndexMax  CharlsonIndexMin  ClaimCount  \\\n",
       "MemberID                                                                    \n",
       "4                0.069767          0.000000          0.000000    0.000000   \n",
       "210              0.418605          0.000000          0.000000    0.119048   \n",
       "3197             0.069767          0.000000          0.000000    0.095238   \n",
       "3457             0.069767          0.000000          0.000000    0.000000   \n",
       "3713             0.534884          0.000000          0.000000    0.214286   \n",
       "...                   ...               ...               ...         ...   \n",
       "99985996         0.000000          0.333333          0.333333    0.095238   \n",
       "99987030         0.302326          0.000000          0.000000    0.071429   \n",
       "99995391         0.767442          0.000000          0.000000    0.238095   \n",
       "99995554         0.534884          0.000000          0.000000    0.333333   \n",
       "99998824         0.418605          0.000000          0.000000    0.166667   \n",
       "\n",
       "           DSFSMax   DSFSMin  DrugClaimCount  DrugCountAvg  LabClaimCount  \\\n",
       "MemberID                                                                    \n",
       "4         0.083333  0.111111        0.000000      0.000000       0.000000   \n",
       "210       0.833333  0.111111        0.000000      0.000000       0.083333   \n",
       "3197      0.166667  0.111111        0.166667      0.214286       0.083333   \n",
       "3457      0.083333  0.111111        0.000000      0.000000       0.000000   \n",
       "3713      0.750000  0.111111        0.333333      0.607143       0.166667   \n",
       "...            ...       ...             ...           ...            ...   \n",
       "99985996  0.500000  0.111111        0.500000      0.428571       0.000000   \n",
       "99987030  0.666667  0.111111        0.083333      0.285714       0.000000   \n",
       "99995391  0.500000  0.111111        0.500000      0.333333       0.083333   \n",
       "99995554  0.333333  0.111111        0.083333      0.285714       0.083333   \n",
       "99998824  0.416667  0.111111        0.000000      0.000000       0.166667   \n",
       "\n",
       "          LabCountAvg  ...  SpecialtyCount_General Practice  \\\n",
       "MemberID               ...                                    \n",
       "4                0.00  ...                         0.000000   \n",
       "210              0.10  ...                         0.000000   \n",
       "3197             0.20  ...                         0.000000   \n",
       "3457             0.00  ...                         0.000000   \n",
       "3713             0.45  ...                         0.179487   \n",
       "...               ...  ...                              ...   \n",
       "99985996         0.00  ...                         0.000000   \n",
       "99987030         0.00  ...                         0.025641   \n",
       "99995391         0.10  ...                         0.000000   \n",
       "99995554         1.00  ...                         0.051282   \n",
       "99998824         0.25  ...                         0.051282   \n",
       "\n",
       "          SpecialtyCount_Internal  SpecialtyCount_Laboratory  \\\n",
       "MemberID                                                       \n",
       "4                        0.000000                   0.000000   \n",
       "210                      0.025641                   0.023256   \n",
       "3197                     0.025641                   0.046512   \n",
       "3457                     0.000000                   0.000000   \n",
       "3713                     0.000000                   0.046512   \n",
       "...                           ...                        ...   \n",
       "99985996                 0.102564                   0.000000   \n",
       "99987030                 0.000000                   0.000000   \n",
       "99995391                 0.153846                   0.000000   \n",
       "99995554                 0.282051                   0.046512   \n",
       "99998824                 0.000000                   0.046512   \n",
       "\n",
       "          SpecialtyCount_Obstetrics and Gynecology  SpecialtyCount_Other  \\\n",
       "MemberID                                                                   \n",
       "4                                         0.000000              0.000000   \n",
       "210                                       0.000000              0.114286   \n",
       "3197                                      0.000000              0.000000   \n",
       "3457                                      0.000000              0.000000   \n",
       "3713                                      0.000000              0.000000   \n",
       "...                                            ...                   ...   \n",
       "99985996                                  0.000000              0.000000   \n",
       "99987030                                  0.000000              0.000000   \n",
       "99995391                                  0.000000              0.000000   \n",
       "99995554                                  0.000000              0.000000   \n",
       "99998824                                  0.066667              0.000000   \n",
       "\n",
       "          SpecialtyCount_Pathology  SpecialtyCount_Pediatrics  \\\n",
       "MemberID                                                        \n",
       "4                              0.0                   0.026316   \n",
       "210                            0.0                   0.000000   \n",
       "3197                           0.0                   0.026316   \n",
       "3457                           0.0                   0.026316   \n",
       "3713                           0.0                   0.000000   \n",
       "...                            ...                        ...   \n",
       "99985996                       0.0                   0.000000   \n",
       "99987030                       0.0                   0.000000   \n",
       "99995391                       0.0                   0.000000   \n",
       "99995554                       0.0                   0.000000   \n",
       "99998824                       0.0                   0.000000   \n",
       "\n",
       "          SpecialtyCount_Rehabilitation  SpecialtyCount_Surgery  \\\n",
       "MemberID                                                          \n",
       "4                                   0.0                0.000000   \n",
       "210                                 0.0                0.000000   \n",
       "3197                                0.0                0.000000   \n",
       "3457                                0.0                0.000000   \n",
       "3713                                0.0                0.000000   \n",
       "...                                 ...                     ...   \n",
       "99985996                            0.0                0.030303   \n",
       "99987030                            0.0                0.000000   \n",
       "99995391                            0.0                0.151515   \n",
       "99995554                            0.0                0.000000   \n",
       "99998824                            0.0                0.000000   \n",
       "\n",
       "          SpecialtyCount_nan  \n",
       "MemberID                      \n",
       "4                        0.0  \n",
       "210                      0.0  \n",
       "3197                     0.0  \n",
       "3457                     0.0  \n",
       "3713                     0.0  \n",
       "...                      ...  \n",
       "99985996                 0.0  \n",
       "99987030                 0.0  \n",
       "99995391                 0.0  \n",
       "99995554                 0.0  \n",
       "99998824                 0.0  \n",
       "\n",
       "[71435 rows x 108 columns]"
      ],
      "text/html": "<div>\n<style scoped>\n    .dataframe tbody tr th:only-of-type {\n        vertical-align: middle;\n    }\n\n    .dataframe tbody tr th {\n        vertical-align: top;\n    }\n\n    .dataframe thead th {\n        text-align: right;\n    }\n</style>\n<table border=\"1\" class=\"dataframe\">\n  <thead>\n    <tr style=\"text-align: right;\">\n      <th></th>\n      <th>AgeAtFirstClaim</th>\n      <th>CharlsonIndexMax</th>\n      <th>CharlsonIndexMin</th>\n      <th>ClaimCount</th>\n      <th>DSFSMax</th>\n      <th>DSFSMin</th>\n      <th>DrugClaimCount</th>\n      <th>DrugCountAvg</th>\n      <th>LabClaimCount</th>\n      <th>LabCountAvg</th>\n      <th>...</th>\n      <th>SpecialtyCount_General Practice</th>\n      <th>SpecialtyCount_Internal</th>\n      <th>SpecialtyCount_Laboratory</th>\n      <th>SpecialtyCount_Obstetrics and Gynecology</th>\n      <th>SpecialtyCount_Other</th>\n      <th>SpecialtyCount_Pathology</th>\n      <th>SpecialtyCount_Pediatrics</th>\n      <th>SpecialtyCount_Rehabilitation</th>\n      <th>SpecialtyCount_Surgery</th>\n      <th>SpecialtyCount_nan</th>\n    </tr>\n    <tr>\n      <th>MemberID</th>\n      <th></th>\n      <th></th>\n      <th></th>\n      <th></th>\n      <th></th>\n      <th></th>\n      <th></th>\n      <th></th>\n      <th></th>\n      <th></th>\n      <th></th>\n      <th></th>\n      <th></th>\n      <th></th>\n      <th></th>\n      <th></th>\n      <th></th>\n      <th></th>\n      <th></th>\n      <th></th>\n      <th></th>\n    </tr>\n  </thead>\n  <tbody>\n    <tr>\n      <th>4</th>\n      <td>0.069767</td>\n      <td>0.000000</td>\n      <td>0.000000</td>\n      <td>0.000000</td>\n      <td>0.083333</td>\n      <td>0.111111</td>\n      <td>0.000000</td>\n      <td>0.000000</td>\n      <td>0.000000</td>\n      <td>0.00</td>\n      <td>...</td>\n      <td>0.000000</td>\n      <td>0.000000</td>\n      <td>0.000000</td>\n      <td>0.000000</td>\n      <td>0.000000</td>\n      <td>0.0</td>\n      <td>0.026316</td>\n      <td>0.0</td>\n      <td>0.000000</td>\n      <td>0.0</td>\n    </tr>\n    <tr>\n      <th>210</th>\n      <td>0.418605</td>\n      <td>0.000000</td>\n      <td>0.000000</td>\n      <td>0.119048</td>\n      <td>0.833333</td>\n      <td>0.111111</td>\n      <td>0.000000</td>\n      <td>0.000000</td>\n      <td>0.083333</td>\n      <td>0.10</td>\n      <td>...</td>\n      <td>0.000000</td>\n      <td>0.025641</td>\n      <td>0.023256</td>\n      <td>0.000000</td>\n      <td>0.114286</td>\n      <td>0.0</td>\n      <td>0.000000</td>\n      <td>0.0</td>\n      <td>0.000000</td>\n      <td>0.0</td>\n    </tr>\n    <tr>\n      <th>3197</th>\n      <td>0.069767</td>\n      <td>0.000000</td>\n      <td>0.000000</td>\n      <td>0.095238</td>\n      <td>0.166667</td>\n      <td>0.111111</td>\n      <td>0.166667</td>\n      <td>0.214286</td>\n      <td>0.083333</td>\n      <td>0.20</td>\n      <td>...</td>\n      <td>0.000000</td>\n      <td>0.025641</td>\n      <td>0.046512</td>\n      <td>0.000000</td>\n      <td>0.000000</td>\n      <td>0.0</td>\n      <td>0.026316</td>\n      <td>0.0</td>\n      <td>0.000000</td>\n      <td>0.0</td>\n    </tr>\n    <tr>\n      <th>3457</th>\n      <td>0.069767</td>\n      <td>0.000000</td>\n      <td>0.000000</td>\n      <td>0.000000</td>\n      <td>0.083333</td>\n      <td>0.111111</td>\n      <td>0.000000</td>\n      <td>0.000000</td>\n      <td>0.000000</td>\n      <td>0.00</td>\n      <td>...</td>\n      <td>0.000000</td>\n      <td>0.000000</td>\n      <td>0.000000</td>\n      <td>0.000000</td>\n      <td>0.000000</td>\n      <td>0.0</td>\n      <td>0.026316</td>\n      <td>0.0</td>\n      <td>0.000000</td>\n      <td>0.0</td>\n    </tr>\n    <tr>\n      <th>3713</th>\n      <td>0.534884</td>\n      <td>0.000000</td>\n      <td>0.000000</td>\n      <td>0.214286</td>\n      <td>0.750000</td>\n      <td>0.111111</td>\n      <td>0.333333</td>\n      <td>0.607143</td>\n      <td>0.166667</td>\n      <td>0.45</td>\n      <td>...</td>\n      <td>0.179487</td>\n      <td>0.000000</td>\n      <td>0.046512</td>\n      <td>0.000000</td>\n      <td>0.000000</td>\n      <td>0.0</td>\n      <td>0.000000</td>\n      <td>0.0</td>\n      <td>0.000000</td>\n      <td>0.0</td>\n    </tr>\n    <tr>\n      <th>...</th>\n      <td>...</td>\n      <td>...</td>\n      <td>...</td>\n      <td>...</td>\n      <td>...</td>\n      <td>...</td>\n      <td>...</td>\n      <td>...</td>\n      <td>...</td>\n      <td>...</td>\n      <td>...</td>\n      <td>...</td>\n      <td>...</td>\n      <td>...</td>\n      <td>...</td>\n      <td>...</td>\n      <td>...</td>\n      <td>...</td>\n      <td>...</td>\n      <td>...</td>\n      <td>...</td>\n    </tr>\n    <tr>\n      <th>99985996</th>\n      <td>0.000000</td>\n      <td>0.333333</td>\n      <td>0.333333</td>\n      <td>0.095238</td>\n      <td>0.500000</td>\n      <td>0.111111</td>\n      <td>0.500000</td>\n      <td>0.428571</td>\n      <td>0.000000</td>\n      <td>0.00</td>\n      <td>...</td>\n      <td>0.000000</td>\n      <td>0.102564</td>\n      <td>0.000000</td>\n      <td>0.000000</td>\n      <td>0.000000</td>\n      <td>0.0</td>\n      <td>0.000000</td>\n      <td>0.0</td>\n      <td>0.030303</td>\n      <td>0.0</td>\n    </tr>\n    <tr>\n      <th>99987030</th>\n      <td>0.302326</td>\n      <td>0.000000</td>\n      <td>0.000000</td>\n      <td>0.071429</td>\n      <td>0.666667</td>\n      <td>0.111111</td>\n      <td>0.083333</td>\n      <td>0.285714</td>\n      <td>0.000000</td>\n      <td>0.00</td>\n      <td>...</td>\n      <td>0.025641</td>\n      <td>0.000000</td>\n      <td>0.000000</td>\n      <td>0.000000</td>\n      <td>0.000000</td>\n      <td>0.0</td>\n      <td>0.000000</td>\n      <td>0.0</td>\n      <td>0.000000</td>\n      <td>0.0</td>\n    </tr>\n    <tr>\n      <th>99995391</th>\n      <td>0.767442</td>\n      <td>0.000000</td>\n      <td>0.000000</td>\n      <td>0.238095</td>\n      <td>0.500000</td>\n      <td>0.111111</td>\n      <td>0.500000</td>\n      <td>0.333333</td>\n      <td>0.083333</td>\n      <td>0.10</td>\n      <td>...</td>\n      <td>0.000000</td>\n      <td>0.153846</td>\n      <td>0.000000</td>\n      <td>0.000000</td>\n      <td>0.000000</td>\n      <td>0.0</td>\n      <td>0.000000</td>\n      <td>0.0</td>\n      <td>0.151515</td>\n      <td>0.0</td>\n    </tr>\n    <tr>\n      <th>99995554</th>\n      <td>0.534884</td>\n      <td>0.000000</td>\n      <td>0.000000</td>\n      <td>0.333333</td>\n      <td>0.333333</td>\n      <td>0.111111</td>\n      <td>0.083333</td>\n      <td>0.285714</td>\n      <td>0.083333</td>\n      <td>1.00</td>\n      <td>...</td>\n      <td>0.051282</td>\n      <td>0.282051</td>\n      <td>0.046512</td>\n      <td>0.000000</td>\n      <td>0.000000</td>\n      <td>0.0</td>\n      <td>0.000000</td>\n      <td>0.0</td>\n      <td>0.000000</td>\n      <td>0.0</td>\n    </tr>\n    <tr>\n      <th>99998824</th>\n      <td>0.418605</td>\n      <td>0.000000</td>\n      <td>0.000000</td>\n      <td>0.166667</td>\n      <td>0.416667</td>\n      <td>0.111111</td>\n      <td>0.000000</td>\n      <td>0.000000</td>\n      <td>0.166667</td>\n      <td>0.25</td>\n      <td>...</td>\n      <td>0.051282</td>\n      <td>0.000000</td>\n      <td>0.046512</td>\n      <td>0.066667</td>\n      <td>0.000000</td>\n      <td>0.0</td>\n      <td>0.000000</td>\n      <td>0.0</td>\n      <td>0.000000</td>\n      <td>0.0</td>\n    </tr>\n  </tbody>\n</table>\n<p>71435 rows × 108 columns</p>\n</div>"
     },
     "metadata": {},
     "execution_count": 93
    }
   ],
   "source": [
    "X_test"
   ]
  },
  {
   "cell_type": "code",
   "execution_count": 94,
   "metadata": {},
   "outputs": [],
   "source": [
    "df_a_test.to_csv(\"./processed/strategy-a/test/test.csv\")\n",
    "X_test.to_csv(\"./processed/strategy-a/test/X_test.csv\")\n",
    "y_test.to_csv(\"./processed/strategy-a/test/y_test.csv\")"
   ]
  },
  {
   "source": [
    "# Strategy B"
   ],
   "cell_type": "markdown",
   "metadata": {}
  },
  {
   "cell_type": "code",
   "execution_count": 101,
   "metadata": {},
   "outputs": [],
   "source": [
    "df_b = pd.read_csv(\"./processed/DatasetB.csv\", index_col=[\"MemberID\"])"
   ]
  },
  {
   "cell_type": "code",
   "execution_count": 102,
   "metadata": {},
   "outputs": [
    {
     "output_type": "execute_result",
     "data": {
      "text/plain": [
       "          AgeAtFirstClaim  Sex  ClaimCount  ClaimCountLatestYear  ProviderID  \\\n",
       "MemberID                                                                       \n",
       "4                       5    M         1.0                   1.0         1.0   \n",
       "210                    35  NaN        14.0                   6.0         5.0   \n",
       "3197                    5    F        10.0                   5.0         6.0   \n",
       "3457                    5    M         1.0                   1.0         1.0   \n",
       "3713                   45    F        10.0                  10.0         5.0   \n",
       "...                   ...  ...         ...                   ...         ...   \n",
       "99985996               -1    F         5.0                   5.0         2.0   \n",
       "99987030               25    M         4.0                   4.0         3.0   \n",
       "99995391               65  NaN        11.0                  11.0         2.0   \n",
       "99995554               45    M        50.0                  15.0         3.0   \n",
       "99998824               35    F         8.0                   8.0         5.0   \n",
       "\n",
       "          ProviderCountLatestYear  Vendor  VendorCountLatestYear  PCP  \\\n",
       "MemberID                                                                \n",
       "4                             1.0     1.0                    1.0  1.0   \n",
       "210                           3.0     5.0                    3.0  2.0   \n",
       "3197                          4.0     5.0                    3.0  1.0   \n",
       "3457                          1.0     1.0                    1.0  1.0   \n",
       "3713                          5.0     5.0                    5.0  2.0   \n",
       "...                           ...     ...                    ...  ...   \n",
       "99985996                      2.0     2.0                    2.0  1.0   \n",
       "99987030                      3.0     2.0                    2.0  1.0   \n",
       "99995391                      2.0     2.0                    2.0  1.0   \n",
       "99995554                      3.0     3.0                    3.0  1.0   \n",
       "99998824                      5.0     6.0                    6.0  1.0   \n",
       "\n",
       "          PCPCountLatestYear  ...  LabClaimCountLatestYear  DrugCountMin  \\\n",
       "MemberID                      ...                                          \n",
       "4                        1.0  ...                      NaN           NaN   \n",
       "210                      1.0  ...                      1.0           1.0   \n",
       "3197                     1.0  ...                      1.0           1.0   \n",
       "3457                     1.0  ...                      NaN           NaN   \n",
       "3713                     2.0  ...                      2.0           1.0   \n",
       "...                      ...  ...                      ...           ...   \n",
       "99985996                 1.0  ...                      NaN           3.0   \n",
       "99987030                 1.0  ...                      NaN           2.0   \n",
       "99995391                 1.0  ...                      1.0           1.0   \n",
       "99995554                 1.0  ...                      1.0           1.0   \n",
       "99998824                 1.0  ...                      2.0           NaN   \n",
       "\n",
       "          DrugCountMax  DrugCountAvg  DrugCountStd  DrugCountSum  \\\n",
       "MemberID                                                           \n",
       "4                  NaN           NaN           NaN           NaN   \n",
       "210                2.0      1.666667      0.577350           5.0   \n",
       "3197               2.0      1.333333      0.516398           8.0   \n",
       "3457               NaN           NaN           NaN           NaN   \n",
       "3713               6.0      4.250000      2.362908          17.0   \n",
       "...                ...           ...           ...           ...   \n",
       "99985996           3.0      3.000000      0.000000          18.0   \n",
       "99987030           2.0      2.000000           NaN           2.0   \n",
       "99995391           3.0      2.333333      0.816497          14.0   \n",
       "99995554           4.0      2.000000      1.224745          10.0   \n",
       "99998824           NaN           NaN           NaN           NaN   \n",
       "\n",
       "          DrugClaimCount  DrugCountSumLatestYear  DrugClaimCountLatestYear  \\\n",
       "MemberID                                                                     \n",
       "4                    NaN                     NaN                       NaN   \n",
       "210                  3.0                     NaN                       NaN   \n",
       "3197                 6.0                     3.0                       2.0   \n",
       "3457                 NaN                     NaN                       NaN   \n",
       "3713                 4.0                    17.0                       4.0   \n",
       "...                  ...                     ...                       ...   \n",
       "99985996             6.0                    18.0                       6.0   \n",
       "99987030             1.0                     2.0                       1.0   \n",
       "99995391             6.0                    14.0                       6.0   \n",
       "99995554             5.0                     2.0                       1.0   \n",
       "99998824             NaN                     NaN                       NaN   \n",
       "\n",
       "          DaysInHospital  \n",
       "MemberID                  \n",
       "4                    0.0  \n",
       "210                  0.0  \n",
       "3197                 0.0  \n",
       "3457                 0.0  \n",
       "3713                 0.0  \n",
       "...                  ...  \n",
       "99985996             0.0  \n",
       "99987030             0.0  \n",
       "99995391             0.0  \n",
       "99995554             0.0  \n",
       "99998824             0.0  \n",
       "\n",
       "[71435 rows x 139 columns]"
      ],
      "text/html": "<div>\n<style scoped>\n    .dataframe tbody tr th:only-of-type {\n        vertical-align: middle;\n    }\n\n    .dataframe tbody tr th {\n        vertical-align: top;\n    }\n\n    .dataframe thead th {\n        text-align: right;\n    }\n</style>\n<table border=\"1\" class=\"dataframe\">\n  <thead>\n    <tr style=\"text-align: right;\">\n      <th></th>\n      <th>AgeAtFirstClaim</th>\n      <th>Sex</th>\n      <th>ClaimCount</th>\n      <th>ClaimCountLatestYear</th>\n      <th>ProviderID</th>\n      <th>ProviderCountLatestYear</th>\n      <th>Vendor</th>\n      <th>VendorCountLatestYear</th>\n      <th>PCP</th>\n      <th>PCPCountLatestYear</th>\n      <th>...</th>\n      <th>LabClaimCountLatestYear</th>\n      <th>DrugCountMin</th>\n      <th>DrugCountMax</th>\n      <th>DrugCountAvg</th>\n      <th>DrugCountStd</th>\n      <th>DrugCountSum</th>\n      <th>DrugClaimCount</th>\n      <th>DrugCountSumLatestYear</th>\n      <th>DrugClaimCountLatestYear</th>\n      <th>DaysInHospital</th>\n    </tr>\n    <tr>\n      <th>MemberID</th>\n      <th></th>\n      <th></th>\n      <th></th>\n      <th></th>\n      <th></th>\n      <th></th>\n      <th></th>\n      <th></th>\n      <th></th>\n      <th></th>\n      <th></th>\n      <th></th>\n      <th></th>\n      <th></th>\n      <th></th>\n      <th></th>\n      <th></th>\n      <th></th>\n      <th></th>\n      <th></th>\n      <th></th>\n    </tr>\n  </thead>\n  <tbody>\n    <tr>\n      <th>4</th>\n      <td>5</td>\n      <td>M</td>\n      <td>1.0</td>\n      <td>1.0</td>\n      <td>1.0</td>\n      <td>1.0</td>\n      <td>1.0</td>\n      <td>1.0</td>\n      <td>1.0</td>\n      <td>1.0</td>\n      <td>...</td>\n      <td>NaN</td>\n      <td>NaN</td>\n      <td>NaN</td>\n      <td>NaN</td>\n      <td>NaN</td>\n      <td>NaN</td>\n      <td>NaN</td>\n      <td>NaN</td>\n      <td>NaN</td>\n      <td>0.0</td>\n    </tr>\n    <tr>\n      <th>210</th>\n      <td>35</td>\n      <td>NaN</td>\n      <td>14.0</td>\n      <td>6.0</td>\n      <td>5.0</td>\n      <td>3.0</td>\n      <td>5.0</td>\n      <td>3.0</td>\n      <td>2.0</td>\n      <td>1.0</td>\n      <td>...</td>\n      <td>1.0</td>\n      <td>1.0</td>\n      <td>2.0</td>\n      <td>1.666667</td>\n      <td>0.577350</td>\n      <td>5.0</td>\n      <td>3.0</td>\n      <td>NaN</td>\n      <td>NaN</td>\n      <td>0.0</td>\n    </tr>\n    <tr>\n      <th>3197</th>\n      <td>5</td>\n      <td>F</td>\n      <td>10.0</td>\n      <td>5.0</td>\n      <td>6.0</td>\n      <td>4.0</td>\n      <td>5.0</td>\n      <td>3.0</td>\n      <td>1.0</td>\n      <td>1.0</td>\n      <td>...</td>\n      <td>1.0</td>\n      <td>1.0</td>\n      <td>2.0</td>\n      <td>1.333333</td>\n      <td>0.516398</td>\n      <td>8.0</td>\n      <td>6.0</td>\n      <td>3.0</td>\n      <td>2.0</td>\n      <td>0.0</td>\n    </tr>\n    <tr>\n      <th>3457</th>\n      <td>5</td>\n      <td>M</td>\n      <td>1.0</td>\n      <td>1.0</td>\n      <td>1.0</td>\n      <td>1.0</td>\n      <td>1.0</td>\n      <td>1.0</td>\n      <td>1.0</td>\n      <td>1.0</td>\n      <td>...</td>\n      <td>NaN</td>\n      <td>NaN</td>\n      <td>NaN</td>\n      <td>NaN</td>\n      <td>NaN</td>\n      <td>NaN</td>\n      <td>NaN</td>\n      <td>NaN</td>\n      <td>NaN</td>\n      <td>0.0</td>\n    </tr>\n    <tr>\n      <th>3713</th>\n      <td>45</td>\n      <td>F</td>\n      <td>10.0</td>\n      <td>10.0</td>\n      <td>5.0</td>\n      <td>5.0</td>\n      <td>5.0</td>\n      <td>5.0</td>\n      <td>2.0</td>\n      <td>2.0</td>\n      <td>...</td>\n      <td>2.0</td>\n      <td>1.0</td>\n      <td>6.0</td>\n      <td>4.250000</td>\n      <td>2.362908</td>\n      <td>17.0</td>\n      <td>4.0</td>\n      <td>17.0</td>\n      <td>4.0</td>\n      <td>0.0</td>\n    </tr>\n    <tr>\n      <th>...</th>\n      <td>...</td>\n      <td>...</td>\n      <td>...</td>\n      <td>...</td>\n      <td>...</td>\n      <td>...</td>\n      <td>...</td>\n      <td>...</td>\n      <td>...</td>\n      <td>...</td>\n      <td>...</td>\n      <td>...</td>\n      <td>...</td>\n      <td>...</td>\n      <td>...</td>\n      <td>...</td>\n      <td>...</td>\n      <td>...</td>\n      <td>...</td>\n      <td>...</td>\n      <td>...</td>\n    </tr>\n    <tr>\n      <th>99985996</th>\n      <td>-1</td>\n      <td>F</td>\n      <td>5.0</td>\n      <td>5.0</td>\n      <td>2.0</td>\n      <td>2.0</td>\n      <td>2.0</td>\n      <td>2.0</td>\n      <td>1.0</td>\n      <td>1.0</td>\n      <td>...</td>\n      <td>NaN</td>\n      <td>3.0</td>\n      <td>3.0</td>\n      <td>3.000000</td>\n      <td>0.000000</td>\n      <td>18.0</td>\n      <td>6.0</td>\n      <td>18.0</td>\n      <td>6.0</td>\n      <td>0.0</td>\n    </tr>\n    <tr>\n      <th>99987030</th>\n      <td>25</td>\n      <td>M</td>\n      <td>4.0</td>\n      <td>4.0</td>\n      <td>3.0</td>\n      <td>3.0</td>\n      <td>2.0</td>\n      <td>2.0</td>\n      <td>1.0</td>\n      <td>1.0</td>\n      <td>...</td>\n      <td>NaN</td>\n      <td>2.0</td>\n      <td>2.0</td>\n      <td>2.000000</td>\n      <td>NaN</td>\n      <td>2.0</td>\n      <td>1.0</td>\n      <td>2.0</td>\n      <td>1.0</td>\n      <td>0.0</td>\n    </tr>\n    <tr>\n      <th>99995391</th>\n      <td>65</td>\n      <td>NaN</td>\n      <td>11.0</td>\n      <td>11.0</td>\n      <td>2.0</td>\n      <td>2.0</td>\n      <td>2.0</td>\n      <td>2.0</td>\n      <td>1.0</td>\n      <td>1.0</td>\n      <td>...</td>\n      <td>1.0</td>\n      <td>1.0</td>\n      <td>3.0</td>\n      <td>2.333333</td>\n      <td>0.816497</td>\n      <td>14.0</td>\n      <td>6.0</td>\n      <td>14.0</td>\n      <td>6.0</td>\n      <td>0.0</td>\n    </tr>\n    <tr>\n      <th>99995554</th>\n      <td>45</td>\n      <td>M</td>\n      <td>50.0</td>\n      <td>15.0</td>\n      <td>3.0</td>\n      <td>3.0</td>\n      <td>3.0</td>\n      <td>3.0</td>\n      <td>1.0</td>\n      <td>1.0</td>\n      <td>...</td>\n      <td>1.0</td>\n      <td>1.0</td>\n      <td>4.0</td>\n      <td>2.000000</td>\n      <td>1.224745</td>\n      <td>10.0</td>\n      <td>5.0</td>\n      <td>2.0</td>\n      <td>1.0</td>\n      <td>0.0</td>\n    </tr>\n    <tr>\n      <th>99998824</th>\n      <td>35</td>\n      <td>F</td>\n      <td>8.0</td>\n      <td>8.0</td>\n      <td>5.0</td>\n      <td>5.0</td>\n      <td>6.0</td>\n      <td>6.0</td>\n      <td>1.0</td>\n      <td>1.0</td>\n      <td>...</td>\n      <td>2.0</td>\n      <td>NaN</td>\n      <td>NaN</td>\n      <td>NaN</td>\n      <td>NaN</td>\n      <td>NaN</td>\n      <td>NaN</td>\n      <td>NaN</td>\n      <td>NaN</td>\n      <td>0.0</td>\n    </tr>\n  </tbody>\n</table>\n<p>71435 rows × 139 columns</p>\n</div>"
     },
     "metadata": {},
     "execution_count": 102
    }
   ],
   "source": [
    "df_b"
   ]
  },
  {
   "cell_type": "code",
   "execution_count": 120,
   "metadata": {},
   "outputs": [
    {
     "output_type": "execute_result",
     "data": {
      "text/plain": [
       "AgeAtFirstClaim             0.0\n",
       "ClaimCount                  0.0\n",
       "ClaimCountLatestYear        0.0\n",
       "ProviderID                  0.0\n",
       "ProviderCountLatestYear     0.0\n",
       "                           ... \n",
       "DrugClaimCountLatestYear    0.0\n",
       "DaysInHospital              0.0\n",
       "Sex_F                       0.0\n",
       "Sex_M                       0.0\n",
       "Sex_NaN                     0.0\n",
       "Length: 141, dtype: float64"
      ]
     },
     "metadata": {},
     "execution_count": 120
    }
   ],
   "source": [
    "missing_rate = df_b.isnull().sum() / df_b.shape[0]\n",
    "missing_rate"
   ]
  },
  {
   "cell_type": "code",
   "execution_count": 121,
   "metadata": {},
   "outputs": [
    {
     "output_type": "execute_result",
     "data": {
      "text/plain": [
       "Series([], dtype: float64)"
      ]
     },
     "metadata": {},
     "execution_count": 121
    }
   ],
   "source": [
    "need_remove = missing_rate[missing_rate != 0]\n",
    "need_remove"
   ]
  },
  {
   "cell_type": "code",
   "execution_count": 105,
   "metadata": {},
   "outputs": [
    {
     "output_type": "execute_result",
     "data": {
      "text/plain": [
       "{'category': ['F', 'M', 'NaN'], 'drop': 'F'}"
      ]
     },
     "metadata": {},
     "execution_count": 105
    }
   ],
   "source": [
    "one_hot_encode(df_b, \"Sex\")"
   ]
  },
  {
   "cell_type": "code",
   "execution_count": 118,
   "metadata": {},
   "outputs": [],
   "source": [
    "def fillna(df, params, otherwise=None):\n",
    "    for col, value in params:\n",
    "        df[col].fillna(value, inplace=True)\n",
    "    if otherwise is not None:\n",
    "        df.fillna(otherwise, inplace=True)"
   ]
  },
  {
   "cell_type": "code",
   "execution_count": 109,
   "metadata": {},
   "outputs": [],
   "source": [
    "params = [\n",
    "    (\"PayDelayStd\", -1.0),\n",
    "    (\"PayDelayStdLatestYear\", -1.0),\n",
    "    (\"LabCountStd\", -1.0),\n",
    "    (\"DrugCountStd\", -1.0)\n",
    "]"
   ]
  },
  {
   "cell_type": "code",
   "execution_count": 119,
   "metadata": {},
   "outputs": [],
   "source": [
    "fillna(df_b, params, otherwise=0.0)"
   ]
  },
  {
   "cell_type": "code",
   "execution_count": 122,
   "metadata": {},
   "outputs": [
    {
     "output_type": "execute_result",
     "data": {
      "text/plain": [
       "                               AgeAtFirstClaim  CharlsonIndexAvg  \\\n",
       "AgeAtFirstClaim                       1.000000          0.348823   \n",
       "CharlsonIndexAvg                      0.348823          1.000000   \n",
       "CharlsonIndexMax                      0.329802          0.891581   \n",
       "CharlsonIndexMaxLatestYear            0.335928          0.876052   \n",
       "CharlsonIndexMin                      0.224810          0.621878   \n",
       "...                                        ...               ...   \n",
       "SpecialtyCount_Rehabilitation         0.117237          0.061858   \n",
       "SpecialtyCount_Surgery                0.163300          0.270130   \n",
       "SpecialtyCount_nan                    0.056014          0.057311   \n",
       "Vendor                                0.250433          0.454213   \n",
       "VendorCountLatestYear                 0.262005          0.424903   \n",
       "\n",
       "                               CharlsonIndexMax  CharlsonIndexMaxLatestYear  \\\n",
       "AgeAtFirstClaim                        0.329802                    0.335928   \n",
       "CharlsonIndexAvg                       0.891581                    0.876052   \n",
       "CharlsonIndexMax                       1.000000                    0.960743   \n",
       "CharlsonIndexMaxLatestYear             0.960743                    1.000000   \n",
       "CharlsonIndexMin                       0.477446                    0.487966   \n",
       "...                                         ...                         ...   \n",
       "SpecialtyCount_Rehabilitation          0.069700                    0.083250   \n",
       "SpecialtyCount_Surgery                 0.274170                    0.278978   \n",
       "SpecialtyCount_nan                     0.055231                    0.059041   \n",
       "Vendor                                 0.471303                    0.463828   \n",
       "VendorCountLatestYear                  0.442393                    0.447552   \n",
       "\n",
       "                               CharlsonIndexMin  ClaimCount  \\\n",
       "AgeAtFirstClaim                        0.224810    0.318248   \n",
       "CharlsonIndexAvg                       0.621878    0.533700   \n",
       "CharlsonIndexMax                       0.477446    0.566995   \n",
       "CharlsonIndexMaxLatestYear             0.487966    0.561849   \n",
       "CharlsonIndexMin                       1.000000    0.261878   \n",
       "...                                         ...         ...   \n",
       "SpecialtyCount_Rehabilitation          0.012578    0.259912   \n",
       "SpecialtyCount_Surgery                 0.119732    0.536520   \n",
       "SpecialtyCount_nan                     0.030522    0.128219   \n",
       "Vendor                                 0.218995    0.789599   \n",
       "VendorCountLatestYear                  0.200666    0.697231   \n",
       "\n",
       "                               ClaimCountLatestYear   DSFSMax  \\\n",
       "AgeAtFirstClaim                            0.290272  0.266208   \n",
       "CharlsonIndexAvg                           0.490563  0.384919   \n",
       "CharlsonIndexMax                           0.524900  0.403434   \n",
       "CharlsonIndexMaxLatestYear                 0.534374  0.402529   \n",
       "CharlsonIndexMin                           0.229835  0.158998   \n",
       "...                                             ...       ...   \n",
       "SpecialtyCount_Rehabilitation              0.234905  0.198512   \n",
       "SpecialtyCount_Surgery                     0.507680  0.343482   \n",
       "SpecialtyCount_nan                         0.129989  0.064013   \n",
       "Vendor                                     0.723585  0.548571   \n",
       "VendorCountLatestYear                      0.788388  0.485149   \n",
       "\n",
       "                               DSFSMaxLatestYear  DSFSMin  ...  \\\n",
       "AgeAtFirstClaim                         0.286093      NaN  ...   \n",
       "CharlsonIndexAvg                        0.394388      NaN  ...   \n",
       "CharlsonIndexMax                        0.415329      NaN  ...   \n",
       "CharlsonIndexMaxLatestYear              0.432663      NaN  ...   \n",
       "CharlsonIndexMin                        0.178631      NaN  ...   \n",
       "...                                          ...      ...  ...   \n",
       "SpecialtyCount_Rehabilitation           0.213552      NaN  ...   \n",
       "SpecialtyCount_Surgery                  0.342117      NaN  ...   \n",
       "SpecialtyCount_nan                      0.059490      NaN  ...   \n",
       "Vendor                                  0.536744      NaN  ...   \n",
       "VendorCountLatestYear                   0.548024      NaN  ...   \n",
       "\n",
       "                               SpecialtyCount_Laboratory  \\\n",
       "AgeAtFirstClaim                                 0.306372   \n",
       "CharlsonIndexAvg                                0.375930   \n",
       "CharlsonIndexMax                                0.403369   \n",
       "CharlsonIndexMaxLatestYear                      0.395085   \n",
       "CharlsonIndexMin                                0.198520   \n",
       "...                                                  ...   \n",
       "SpecialtyCount_Rehabilitation                   0.067115   \n",
       "SpecialtyCount_Surgery                          0.229002   \n",
       "SpecialtyCount_nan                              0.074416   \n",
       "Vendor                                          0.388587   \n",
       "VendorCountLatestYear                           0.347633   \n",
       "\n",
       "                               SpecialtyCount_Obstetrics and Gynecology  \\\n",
       "AgeAtFirstClaim                                                0.062565   \n",
       "CharlsonIndexAvg                                               0.043780   \n",
       "CharlsonIndexMax                                               0.026812   \n",
       "CharlsonIndexMaxLatestYear                                     0.035314   \n",
       "CharlsonIndexMin                                               0.052669   \n",
       "...                                                                 ...   \n",
       "SpecialtyCount_Rehabilitation                                  0.014866   \n",
       "SpecialtyCount_Surgery                                         0.010927   \n",
       "SpecialtyCount_nan                                             0.012871   \n",
       "Vendor                                                         0.185107   \n",
       "VendorCountLatestYear                                          0.187186   \n",
       "\n",
       "                               SpecialtyCount_Other  SpecialtyCount_Pathology  \\\n",
       "AgeAtFirstClaim                            0.121277                  0.045635   \n",
       "CharlsonIndexAvg                           0.266169                  0.149498   \n",
       "CharlsonIndexMax                           0.282245                  0.213027   \n",
       "CharlsonIndexMaxLatestYear                 0.272626                  0.200130   \n",
       "CharlsonIndexMin                           0.146969                  0.081319   \n",
       "...                                             ...                       ...   \n",
       "SpecialtyCount_Rehabilitation              0.150583                  0.003125   \n",
       "SpecialtyCount_Surgery                     0.151398                  0.193122   \n",
       "SpecialtyCount_nan                         0.181395                  0.197863   \n",
       "Vendor                                     0.360044                  0.424262   \n",
       "VendorCountLatestYear                      0.275266                  0.382126   \n",
       "\n",
       "                               SpecialtyCount_Pediatrics  \\\n",
       "AgeAtFirstClaim                                 0.366181   \n",
       "CharlsonIndexAvg                                0.111124   \n",
       "CharlsonIndexMax                                0.088137   \n",
       "CharlsonIndexMaxLatestYear                      0.090063   \n",
       "CharlsonIndexMin                                0.074568   \n",
       "...                                                  ...   \n",
       "SpecialtyCount_Rehabilitation                   0.059074   \n",
       "SpecialtyCount_Surgery                          0.079743   \n",
       "SpecialtyCount_nan                              0.064192   \n",
       "Vendor                                          0.080681   \n",
       "VendorCountLatestYear                           0.076726   \n",
       "\n",
       "                               SpecialtyCount_Rehabilitation  \\\n",
       "AgeAtFirstClaim                                     0.117237   \n",
       "CharlsonIndexAvg                                    0.061858   \n",
       "CharlsonIndexMax                                    0.069700   \n",
       "CharlsonIndexMaxLatestYear                          0.083250   \n",
       "CharlsonIndexMin                                    0.012578   \n",
       "...                                                      ...   \n",
       "SpecialtyCount_Rehabilitation                       1.000000   \n",
       "SpecialtyCount_Surgery                              0.094503   \n",
       "SpecialtyCount_nan                                  0.027010   \n",
       "Vendor                                              0.219054   \n",
       "VendorCountLatestYear                               0.190891   \n",
       "\n",
       "                               SpecialtyCount_Surgery  SpecialtyCount_nan  \\\n",
       "AgeAtFirstClaim                              0.163300            0.056014   \n",
       "CharlsonIndexAvg                             0.270130            0.057311   \n",
       "CharlsonIndexMax                             0.274170            0.055231   \n",
       "CharlsonIndexMaxLatestYear                   0.278978            0.059041   \n",
       "CharlsonIndexMin                             0.119732            0.030522   \n",
       "...                                               ...                 ...   \n",
       "SpecialtyCount_Rehabilitation                0.094503            0.027010   \n",
       "SpecialtyCount_Surgery                       1.000000            0.034075   \n",
       "SpecialtyCount_nan                           0.034075            1.000000   \n",
       "Vendor                                       0.552431            0.139502   \n",
       "VendorCountLatestYear                        0.506264            0.093271   \n",
       "\n",
       "                                 Vendor  VendorCountLatestYear  \n",
       "AgeAtFirstClaim                0.250433               0.262005  \n",
       "CharlsonIndexAvg               0.454213               0.424903  \n",
       "CharlsonIndexMax               0.471303               0.442393  \n",
       "CharlsonIndexMaxLatestYear     0.463828               0.447552  \n",
       "CharlsonIndexMin               0.218995               0.200666  \n",
       "...                                 ...                    ...  \n",
       "SpecialtyCount_Rehabilitation  0.219054               0.190891  \n",
       "SpecialtyCount_Surgery         0.552431               0.506264  \n",
       "SpecialtyCount_nan             0.139502               0.093271  \n",
       "Vendor                         1.000000               0.870539  \n",
       "VendorCountLatestYear          0.870539               1.000000  \n",
       "\n",
       "[140 rows x 140 columns]"
      ],
      "text/html": "<div>\n<style scoped>\n    .dataframe tbody tr th:only-of-type {\n        vertical-align: middle;\n    }\n\n    .dataframe tbody tr th {\n        vertical-align: top;\n    }\n\n    .dataframe thead th {\n        text-align: right;\n    }\n</style>\n<table border=\"1\" class=\"dataframe\">\n  <thead>\n    <tr style=\"text-align: right;\">\n      <th></th>\n      <th>AgeAtFirstClaim</th>\n      <th>CharlsonIndexAvg</th>\n      <th>CharlsonIndexMax</th>\n      <th>CharlsonIndexMaxLatestYear</th>\n      <th>CharlsonIndexMin</th>\n      <th>ClaimCount</th>\n      <th>ClaimCountLatestYear</th>\n      <th>DSFSMax</th>\n      <th>DSFSMaxLatestYear</th>\n      <th>DSFSMin</th>\n      <th>...</th>\n      <th>SpecialtyCount_Laboratory</th>\n      <th>SpecialtyCount_Obstetrics and Gynecology</th>\n      <th>SpecialtyCount_Other</th>\n      <th>SpecialtyCount_Pathology</th>\n      <th>SpecialtyCount_Pediatrics</th>\n      <th>SpecialtyCount_Rehabilitation</th>\n      <th>SpecialtyCount_Surgery</th>\n      <th>SpecialtyCount_nan</th>\n      <th>Vendor</th>\n      <th>VendorCountLatestYear</th>\n    </tr>\n  </thead>\n  <tbody>\n    <tr>\n      <th>AgeAtFirstClaim</th>\n      <td>1.000000</td>\n      <td>0.348823</td>\n      <td>0.329802</td>\n      <td>0.335928</td>\n      <td>0.224810</td>\n      <td>0.318248</td>\n      <td>0.290272</td>\n      <td>0.266208</td>\n      <td>0.286093</td>\n      <td>NaN</td>\n      <td>...</td>\n      <td>0.306372</td>\n      <td>0.062565</td>\n      <td>0.121277</td>\n      <td>0.045635</td>\n      <td>0.366181</td>\n      <td>0.117237</td>\n      <td>0.163300</td>\n      <td>0.056014</td>\n      <td>0.250433</td>\n      <td>0.262005</td>\n    </tr>\n    <tr>\n      <th>CharlsonIndexAvg</th>\n      <td>0.348823</td>\n      <td>1.000000</td>\n      <td>0.891581</td>\n      <td>0.876052</td>\n      <td>0.621878</td>\n      <td>0.533700</td>\n      <td>0.490563</td>\n      <td>0.384919</td>\n      <td>0.394388</td>\n      <td>NaN</td>\n      <td>...</td>\n      <td>0.375930</td>\n      <td>0.043780</td>\n      <td>0.266169</td>\n      <td>0.149498</td>\n      <td>0.111124</td>\n      <td>0.061858</td>\n      <td>0.270130</td>\n      <td>0.057311</td>\n      <td>0.454213</td>\n      <td>0.424903</td>\n    </tr>\n    <tr>\n      <th>CharlsonIndexMax</th>\n      <td>0.329802</td>\n      <td>0.891581</td>\n      <td>1.000000</td>\n      <td>0.960743</td>\n      <td>0.477446</td>\n      <td>0.566995</td>\n      <td>0.524900</td>\n      <td>0.403434</td>\n      <td>0.415329</td>\n      <td>NaN</td>\n      <td>...</td>\n      <td>0.403369</td>\n      <td>0.026812</td>\n      <td>0.282245</td>\n      <td>0.213027</td>\n      <td>0.088137</td>\n      <td>0.069700</td>\n      <td>0.274170</td>\n      <td>0.055231</td>\n      <td>0.471303</td>\n      <td>0.442393</td>\n    </tr>\n    <tr>\n      <th>CharlsonIndexMaxLatestYear</th>\n      <td>0.335928</td>\n      <td>0.876052</td>\n      <td>0.960743</td>\n      <td>1.000000</td>\n      <td>0.487966</td>\n      <td>0.561849</td>\n      <td>0.534374</td>\n      <td>0.402529</td>\n      <td>0.432663</td>\n      <td>NaN</td>\n      <td>...</td>\n      <td>0.395085</td>\n      <td>0.035314</td>\n      <td>0.272626</td>\n      <td>0.200130</td>\n      <td>0.090063</td>\n      <td>0.083250</td>\n      <td>0.278978</td>\n      <td>0.059041</td>\n      <td>0.463828</td>\n      <td>0.447552</td>\n    </tr>\n    <tr>\n      <th>CharlsonIndexMin</th>\n      <td>0.224810</td>\n      <td>0.621878</td>\n      <td>0.477446</td>\n      <td>0.487966</td>\n      <td>1.000000</td>\n      <td>0.261878</td>\n      <td>0.229835</td>\n      <td>0.158998</td>\n      <td>0.178631</td>\n      <td>NaN</td>\n      <td>...</td>\n      <td>0.198520</td>\n      <td>0.052669</td>\n      <td>0.146969</td>\n      <td>0.081319</td>\n      <td>0.074568</td>\n      <td>0.012578</td>\n      <td>0.119732</td>\n      <td>0.030522</td>\n      <td>0.218995</td>\n      <td>0.200666</td>\n    </tr>\n    <tr>\n      <th>...</th>\n      <td>...</td>\n      <td>...</td>\n      <td>...</td>\n      <td>...</td>\n      <td>...</td>\n      <td>...</td>\n      <td>...</td>\n      <td>...</td>\n      <td>...</td>\n      <td>...</td>\n      <td>...</td>\n      <td>...</td>\n      <td>...</td>\n      <td>...</td>\n      <td>...</td>\n      <td>...</td>\n      <td>...</td>\n      <td>...</td>\n      <td>...</td>\n      <td>...</td>\n      <td>...</td>\n    </tr>\n    <tr>\n      <th>SpecialtyCount_Rehabilitation</th>\n      <td>0.117237</td>\n      <td>0.061858</td>\n      <td>0.069700</td>\n      <td>0.083250</td>\n      <td>0.012578</td>\n      <td>0.259912</td>\n      <td>0.234905</td>\n      <td>0.198512</td>\n      <td>0.213552</td>\n      <td>NaN</td>\n      <td>...</td>\n      <td>0.067115</td>\n      <td>0.014866</td>\n      <td>0.150583</td>\n      <td>0.003125</td>\n      <td>0.059074</td>\n      <td>1.000000</td>\n      <td>0.094503</td>\n      <td>0.027010</td>\n      <td>0.219054</td>\n      <td>0.190891</td>\n    </tr>\n    <tr>\n      <th>SpecialtyCount_Surgery</th>\n      <td>0.163300</td>\n      <td>0.270130</td>\n      <td>0.274170</td>\n      <td>0.278978</td>\n      <td>0.119732</td>\n      <td>0.536520</td>\n      <td>0.507680</td>\n      <td>0.343482</td>\n      <td>0.342117</td>\n      <td>NaN</td>\n      <td>...</td>\n      <td>0.229002</td>\n      <td>0.010927</td>\n      <td>0.151398</td>\n      <td>0.193122</td>\n      <td>0.079743</td>\n      <td>0.094503</td>\n      <td>1.000000</td>\n      <td>0.034075</td>\n      <td>0.552431</td>\n      <td>0.506264</td>\n    </tr>\n    <tr>\n      <th>SpecialtyCount_nan</th>\n      <td>0.056014</td>\n      <td>0.057311</td>\n      <td>0.055231</td>\n      <td>0.059041</td>\n      <td>0.030522</td>\n      <td>0.128219</td>\n      <td>0.129989</td>\n      <td>0.064013</td>\n      <td>0.059490</td>\n      <td>NaN</td>\n      <td>...</td>\n      <td>0.074416</td>\n      <td>0.012871</td>\n      <td>0.181395</td>\n      <td>0.197863</td>\n      <td>0.064192</td>\n      <td>0.027010</td>\n      <td>0.034075</td>\n      <td>1.000000</td>\n      <td>0.139502</td>\n      <td>0.093271</td>\n    </tr>\n    <tr>\n      <th>Vendor</th>\n      <td>0.250433</td>\n      <td>0.454213</td>\n      <td>0.471303</td>\n      <td>0.463828</td>\n      <td>0.218995</td>\n      <td>0.789599</td>\n      <td>0.723585</td>\n      <td>0.548571</td>\n      <td>0.536744</td>\n      <td>NaN</td>\n      <td>...</td>\n      <td>0.388587</td>\n      <td>0.185107</td>\n      <td>0.360044</td>\n      <td>0.424262</td>\n      <td>0.080681</td>\n      <td>0.219054</td>\n      <td>0.552431</td>\n      <td>0.139502</td>\n      <td>1.000000</td>\n      <td>0.870539</td>\n    </tr>\n    <tr>\n      <th>VendorCountLatestYear</th>\n      <td>0.262005</td>\n      <td>0.424903</td>\n      <td>0.442393</td>\n      <td>0.447552</td>\n      <td>0.200666</td>\n      <td>0.697231</td>\n      <td>0.788388</td>\n      <td>0.485149</td>\n      <td>0.548024</td>\n      <td>NaN</td>\n      <td>...</td>\n      <td>0.347633</td>\n      <td>0.187186</td>\n      <td>0.275266</td>\n      <td>0.382126</td>\n      <td>0.076726</td>\n      <td>0.190891</td>\n      <td>0.506264</td>\n      <td>0.093271</td>\n      <td>0.870539</td>\n      <td>1.000000</td>\n    </tr>\n  </tbody>\n</table>\n<p>140 rows × 140 columns</p>\n</div>"
     },
     "metadata": {},
     "execution_count": 122
    }
   ],
   "source": [
    "d2 = df_b.sample(1000)\n",
    "cor = d2[d2.columns.difference(['DaysInHospital'])].corr().abs()\n",
    "cor"
   ]
  },
  {
   "cell_type": "code",
   "execution_count": 123,
   "metadata": {},
   "outputs": [
    {
     "output_type": "stream",
     "name": "stdout",
     "text": [
      "Row: CharlsonIndexAvg, Col: CharlsonIndexMax, corr=0.8915812363734692\nRow: ClaimCount, Col: LengthOfStayCountNan, corr=0.9985225326266366\nRow: ClaimCount, Col: PayDelaySum, corr=0.9305701770260388\nRow: ClaimCount, Col: PlaceSvcCount_Office, corr=0.8912207328012108\nRow: ClaimCount, Col: ProcedureGroupCount_EM, corr=0.8884156667064733\nRow: ClaimCount, Col: ProviderID, corr=0.845086798186959\nRow: ClaimCount, Col: Vendor, corr=0.7895985201166396\nRow: DrugClaimCount, Col: DrugCountMax, corr=0.7984541896102717\nRow: DrugClaimCount, Col: DrugCountSum, corr=0.8590795918243437\nRow: DrugCountAvg, Col: DrugCountMax, corr=0.9103076770766105\nRow: DrugCountAvg, Col: DrugCountMin, corr=0.7728067670654778\nRow: DrugCountAvg, Col: DrugCountSum, corr=0.8222124192469812\nRow: DrugCountMax, Col: DrugCountStd, corr=0.8948045141035372\nRow: DrugCountMax, Col: DrugCountSum, corr=0.8015418750998557\nRow: LabClaimCount, Col: LabCountSum, corr=0.8623698373822013\nRow: LabClaimCount, Col: PlaceSvcCount_Independent Lab, corr=0.9219217122017148\nRow: LabClaimCount, Col: ProcedureGroupCount_PL, corr=0.957380724778876\nRow: LabClaimCount, Col: SpecialtyCount_Laboratory, corr=0.9203354071104961\nRow: LabCountAvg, Col: LabCountMax, corr=0.8504765759928601\nRow: LabCountAvg, Col: LabCountMin, corr=0.8287465426644897\nRow: LabCountMax, Col: LabCountSum, corr=0.7516116350888619\nRow: LengthOfStayAvg, Col: LengthOfStayMax, corr=0.9095676269249927\nRow: LengthOfStayAvg, Col: LengthOfStayMin, corr=0.8257910091927916\nRow: LengthOfStayCountNan, Col: PayDelaySum, corr=0.925909194324422\nRow: LengthOfStayCountNan, Col: PlaceSvcCount_Office, corr=0.8940423405692892\nRow: LengthOfStayCountNan, Col: ProcedureGroupCount_EM, corr=0.885950445546297\nRow: LengthOfStayCountNan, Col: ProviderID, corr=0.8332525544046304\nRow: LengthOfStayMax, Col: LengthOfStayMin, corr=0.6075787267239003\nRow: LengthOfStayMax, Col: LengthOfStaySum, corr=0.9106136902812563\nRow: PayDelayMax, Col: PayDelayStd, corr=0.8289823754995961\nRow: PayDelaySum, Col: PlaceSvcCount_Office, corr=0.8567528041489879\nRow: PayDelaySum, Col: ProcedureGroupCount_EM, corr=0.871023964363599\nRow: PlaceSvcCount_Independent Lab, Col: ProcedureGroupCount_PL, corr=0.9286454100526969\nRow: PlaceSvcCount_Independent Lab, Col: ProcedureGroupCount_SCS, corr=0.9474015284724379\nRow: PlaceSvcCount_Independent Lab, Col: SpecialtyCount_Laboratory, corr=0.9988533333349293\nRow: PlaceSvcCount_Office, Col: ProcedureGroupCount_EM, corr=0.8966232194375007\nRow: PrimaryConditionGroupCount_PRGNCY, Col: ProcedureGroupCount_SMCD, corr=0.9071969593384595\nRow: ProcedureGroupCount_PL, Col: SpecialtyCount_Laboratory, corr=0.9272666640636813\nRow: ProcedureGroupCount_RAD, Col: SpecialtyCount_Diagnostic Imaging, corr=0.8560082572784908\nRow: ProcedureGroupCount_SCS, Col: SpecialtyCount_Laboratory, corr=0.9472302732548697\nRow: ProviderID, Col: Vendor, corr=0.9466247424640586\n"
     ]
    }
   ],
   "source": [
    "for row, col in high_corr:\n",
    "    print(\"Row: %s, Col: %s, corr=%s\" % (row, col, cor[row][col]))"
   ]
  },
  {
   "cell_type": "code",
   "execution_count": 124,
   "metadata": {},
   "outputs": [],
   "source": [
    "remove_col_b = [\"CharlsonIndexAvg\", \"LengthOfStayCountNan\", \"PayDelaySum\", \"ProviderID\", \"Vendor\", \"DrugCountMax\", \"DrugCountSum\", \"DrugCountMin\", \"DrugCountStd\", \"LabCountSum\", \"LabCountMax\", \"LabCountMin\", \"LengthOfStayMax\", \"LengthOfStayMin\"]"
   ]
  },
  {
   "cell_type": "code",
   "execution_count": 125,
   "metadata": {},
   "outputs": [],
   "source": [
    "df_b.drop(columns=remove_col_b, inplace=True)"
   ]
  },
  {
   "cell_type": "code",
   "execution_count": 126,
   "metadata": {},
   "outputs": [
    {
     "output_type": "execute_result",
     "data": {
      "text/plain": [
       "          AgeAtFirstClaim  ClaimCount  ClaimCountLatestYear  \\\n",
       "MemberID                                                      \n",
       "4                       5         1.0                   1.0   \n",
       "210                    35        14.0                   6.0   \n",
       "3197                    5        10.0                   5.0   \n",
       "3457                    5         1.0                   1.0   \n",
       "3713                   45        10.0                  10.0   \n",
       "...                   ...         ...                   ...   \n",
       "99985996               -1         5.0                   5.0   \n",
       "99987030               25         4.0                   4.0   \n",
       "99995391               65        11.0                  11.0   \n",
       "99995554               45        50.0                  15.0   \n",
       "99998824               35         8.0                   8.0   \n",
       "\n",
       "          ProviderCountLatestYear  VendorCountLatestYear  PCP  \\\n",
       "MemberID                                                        \n",
       "4                             1.0                    1.0  1.0   \n",
       "210                           3.0                    3.0  2.0   \n",
       "3197                          4.0                    3.0  1.0   \n",
       "3457                          1.0                    1.0  1.0   \n",
       "3713                          5.0                    5.0  2.0   \n",
       "...                           ...                    ...  ...   \n",
       "99985996                      2.0                    2.0  1.0   \n",
       "99987030                      3.0                    2.0  1.0   \n",
       "99995391                      2.0                    2.0  1.0   \n",
       "99995554                      3.0                    3.0  1.0   \n",
       "99998824                      5.0                    6.0  1.0   \n",
       "\n",
       "          PCPCountLatestYear  SpecialtyCount_Surgery  \\\n",
       "MemberID                                               \n",
       "4                        1.0                     0.0   \n",
       "210                      1.0                     0.0   \n",
       "3197                     1.0                     0.0   \n",
       "3457                     1.0                     0.0   \n",
       "3713                     2.0                     0.0   \n",
       "...                      ...                     ...   \n",
       "99985996                 1.0                     1.0   \n",
       "99987030                 1.0                     0.0   \n",
       "99995391                 1.0                     5.0   \n",
       "99995554                 1.0                     0.0   \n",
       "99998824                 1.0                     0.0   \n",
       "\n",
       "          SpecialtyCount_Rehabilitation  SpecialtyCount_Diagnostic Imaging  \\\n",
       "MemberID                                                                     \n",
       "4                                   0.0                                0.0   \n",
       "210                                 0.0                                0.0   \n",
       "3197                                0.0                                1.0   \n",
       "3457                                0.0                                0.0   \n",
       "3713                                0.0                                1.0   \n",
       "...                                 ...                                ...   \n",
       "99985996                            0.0                                0.0   \n",
       "99987030                            0.0                                0.0   \n",
       "99995391                            0.0                                0.0   \n",
       "99995554                            0.0                                0.0   \n",
       "99998824                            0.0                                0.0   \n",
       "\n",
       "          ...  LabCountSumLatestYear  LabClaimCountLatestYear  DrugCountAvg  \\\n",
       "MemberID  ...                                                                 \n",
       "4         ...                    0.0                      0.0      0.000000   \n",
       "210       ...                    1.0                      1.0      1.666667   \n",
       "3197      ...                    2.0                      1.0      1.333333   \n",
       "3457      ...                    0.0                      0.0      0.000000   \n",
       "3713      ...                    9.0                      2.0      4.250000   \n",
       "...       ...                    ...                      ...           ...   \n",
       "99985996  ...                    0.0                      0.0      3.000000   \n",
       "99987030  ...                    0.0                      0.0      2.000000   \n",
       "99995391  ...                    1.0                      1.0      2.333333   \n",
       "99995554  ...                   10.0                      1.0      2.000000   \n",
       "99998824  ...                    5.0                      2.0      0.000000   \n",
       "\n",
       "          DrugClaimCount  DrugCountSumLatestYear  DrugClaimCountLatestYear  \\\n",
       "MemberID                                                                     \n",
       "4                    0.0                     0.0                       0.0   \n",
       "210                  3.0                     0.0                       0.0   \n",
       "3197                 6.0                     3.0                       2.0   \n",
       "3457                 0.0                     0.0                       0.0   \n",
       "3713                 4.0                    17.0                       4.0   \n",
       "...                  ...                     ...                       ...   \n",
       "99985996             6.0                    18.0                       6.0   \n",
       "99987030             1.0                     2.0                       1.0   \n",
       "99995391             6.0                    14.0                       6.0   \n",
       "99995554             5.0                     2.0                       1.0   \n",
       "99998824             0.0                     0.0                       0.0   \n",
       "\n",
       "          DaysInHospital  Sex_F  Sex_M  Sex_NaN  \n",
       "MemberID                                         \n",
       "4                    0.0      0      1        0  \n",
       "210                  0.0      0      0        1  \n",
       "3197                 0.0      1      0        0  \n",
       "3457                 0.0      0      1        0  \n",
       "3713                 0.0      1      0        0  \n",
       "...                  ...    ...    ...      ...  \n",
       "99985996             0.0      1      0        0  \n",
       "99987030             0.0      0      1        0  \n",
       "99995391             0.0      0      0        1  \n",
       "99995554             0.0      0      1        0  \n",
       "99998824             0.0      1      0        0  \n",
       "\n",
       "[71435 rows x 127 columns]"
      ],
      "text/html": "<div>\n<style scoped>\n    .dataframe tbody tr th:only-of-type {\n        vertical-align: middle;\n    }\n\n    .dataframe tbody tr th {\n        vertical-align: top;\n    }\n\n    .dataframe thead th {\n        text-align: right;\n    }\n</style>\n<table border=\"1\" class=\"dataframe\">\n  <thead>\n    <tr style=\"text-align: right;\">\n      <th></th>\n      <th>AgeAtFirstClaim</th>\n      <th>ClaimCount</th>\n      <th>ClaimCountLatestYear</th>\n      <th>ProviderCountLatestYear</th>\n      <th>VendorCountLatestYear</th>\n      <th>PCP</th>\n      <th>PCPCountLatestYear</th>\n      <th>SpecialtyCount_Surgery</th>\n      <th>SpecialtyCount_Rehabilitation</th>\n      <th>SpecialtyCount_Diagnostic Imaging</th>\n      <th>...</th>\n      <th>LabCountSumLatestYear</th>\n      <th>LabClaimCountLatestYear</th>\n      <th>DrugCountAvg</th>\n      <th>DrugClaimCount</th>\n      <th>DrugCountSumLatestYear</th>\n      <th>DrugClaimCountLatestYear</th>\n      <th>DaysInHospital</th>\n      <th>Sex_F</th>\n      <th>Sex_M</th>\n      <th>Sex_NaN</th>\n    </tr>\n    <tr>\n      <th>MemberID</th>\n      <th></th>\n      <th></th>\n      <th></th>\n      <th></th>\n      <th></th>\n      <th></th>\n      <th></th>\n      <th></th>\n      <th></th>\n      <th></th>\n      <th></th>\n      <th></th>\n      <th></th>\n      <th></th>\n      <th></th>\n      <th></th>\n      <th></th>\n      <th></th>\n      <th></th>\n      <th></th>\n      <th></th>\n    </tr>\n  </thead>\n  <tbody>\n    <tr>\n      <th>4</th>\n      <td>5</td>\n      <td>1.0</td>\n      <td>1.0</td>\n      <td>1.0</td>\n      <td>1.0</td>\n      <td>1.0</td>\n      <td>1.0</td>\n      <td>0.0</td>\n      <td>0.0</td>\n      <td>0.0</td>\n      <td>...</td>\n      <td>0.0</td>\n      <td>0.0</td>\n      <td>0.000000</td>\n      <td>0.0</td>\n      <td>0.0</td>\n      <td>0.0</td>\n      <td>0.0</td>\n      <td>0</td>\n      <td>1</td>\n      <td>0</td>\n    </tr>\n    <tr>\n      <th>210</th>\n      <td>35</td>\n      <td>14.0</td>\n      <td>6.0</td>\n      <td>3.0</td>\n      <td>3.0</td>\n      <td>2.0</td>\n      <td>1.0</td>\n      <td>0.0</td>\n      <td>0.0</td>\n      <td>0.0</td>\n      <td>...</td>\n      <td>1.0</td>\n      <td>1.0</td>\n      <td>1.666667</td>\n      <td>3.0</td>\n      <td>0.0</td>\n      <td>0.0</td>\n      <td>0.0</td>\n      <td>0</td>\n      <td>0</td>\n      <td>1</td>\n    </tr>\n    <tr>\n      <th>3197</th>\n      <td>5</td>\n      <td>10.0</td>\n      <td>5.0</td>\n      <td>4.0</td>\n      <td>3.0</td>\n      <td>1.0</td>\n      <td>1.0</td>\n      <td>0.0</td>\n      <td>0.0</td>\n      <td>1.0</td>\n      <td>...</td>\n      <td>2.0</td>\n      <td>1.0</td>\n      <td>1.333333</td>\n      <td>6.0</td>\n      <td>3.0</td>\n      <td>2.0</td>\n      <td>0.0</td>\n      <td>1</td>\n      <td>0</td>\n      <td>0</td>\n    </tr>\n    <tr>\n      <th>3457</th>\n      <td>5</td>\n      <td>1.0</td>\n      <td>1.0</td>\n      <td>1.0</td>\n      <td>1.0</td>\n      <td>1.0</td>\n      <td>1.0</td>\n      <td>0.0</td>\n      <td>0.0</td>\n      <td>0.0</td>\n      <td>...</td>\n      <td>0.0</td>\n      <td>0.0</td>\n      <td>0.000000</td>\n      <td>0.0</td>\n      <td>0.0</td>\n      <td>0.0</td>\n      <td>0.0</td>\n      <td>0</td>\n      <td>1</td>\n      <td>0</td>\n    </tr>\n    <tr>\n      <th>3713</th>\n      <td>45</td>\n      <td>10.0</td>\n      <td>10.0</td>\n      <td>5.0</td>\n      <td>5.0</td>\n      <td>2.0</td>\n      <td>2.0</td>\n      <td>0.0</td>\n      <td>0.0</td>\n      <td>1.0</td>\n      <td>...</td>\n      <td>9.0</td>\n      <td>2.0</td>\n      <td>4.250000</td>\n      <td>4.0</td>\n      <td>17.0</td>\n      <td>4.0</td>\n      <td>0.0</td>\n      <td>1</td>\n      <td>0</td>\n      <td>0</td>\n    </tr>\n    <tr>\n      <th>...</th>\n      <td>...</td>\n      <td>...</td>\n      <td>...</td>\n      <td>...</td>\n      <td>...</td>\n      <td>...</td>\n      <td>...</td>\n      <td>...</td>\n      <td>...</td>\n      <td>...</td>\n      <td>...</td>\n      <td>...</td>\n      <td>...</td>\n      <td>...</td>\n      <td>...</td>\n      <td>...</td>\n      <td>...</td>\n      <td>...</td>\n      <td>...</td>\n      <td>...</td>\n      <td>...</td>\n    </tr>\n    <tr>\n      <th>99985996</th>\n      <td>-1</td>\n      <td>5.0</td>\n      <td>5.0</td>\n      <td>2.0</td>\n      <td>2.0</td>\n      <td>1.0</td>\n      <td>1.0</td>\n      <td>1.0</td>\n      <td>0.0</td>\n      <td>0.0</td>\n      <td>...</td>\n      <td>0.0</td>\n      <td>0.0</td>\n      <td>3.000000</td>\n      <td>6.0</td>\n      <td>18.0</td>\n      <td>6.0</td>\n      <td>0.0</td>\n      <td>1</td>\n      <td>0</td>\n      <td>0</td>\n    </tr>\n    <tr>\n      <th>99987030</th>\n      <td>25</td>\n      <td>4.0</td>\n      <td>4.0</td>\n      <td>3.0</td>\n      <td>2.0</td>\n      <td>1.0</td>\n      <td>1.0</td>\n      <td>0.0</td>\n      <td>0.0</td>\n      <td>0.0</td>\n      <td>...</td>\n      <td>0.0</td>\n      <td>0.0</td>\n      <td>2.000000</td>\n      <td>1.0</td>\n      <td>2.0</td>\n      <td>1.0</td>\n      <td>0.0</td>\n      <td>0</td>\n      <td>1</td>\n      <td>0</td>\n    </tr>\n    <tr>\n      <th>99995391</th>\n      <td>65</td>\n      <td>11.0</td>\n      <td>11.0</td>\n      <td>2.0</td>\n      <td>2.0</td>\n      <td>1.0</td>\n      <td>1.0</td>\n      <td>5.0</td>\n      <td>0.0</td>\n      <td>0.0</td>\n      <td>...</td>\n      <td>1.0</td>\n      <td>1.0</td>\n      <td>2.333333</td>\n      <td>6.0</td>\n      <td>14.0</td>\n      <td>6.0</td>\n      <td>0.0</td>\n      <td>0</td>\n      <td>0</td>\n      <td>1</td>\n    </tr>\n    <tr>\n      <th>99995554</th>\n      <td>45</td>\n      <td>50.0</td>\n      <td>15.0</td>\n      <td>3.0</td>\n      <td>3.0</td>\n      <td>1.0</td>\n      <td>1.0</td>\n      <td>0.0</td>\n      <td>0.0</td>\n      <td>0.0</td>\n      <td>...</td>\n      <td>10.0</td>\n      <td>1.0</td>\n      <td>2.000000</td>\n      <td>5.0</td>\n      <td>2.0</td>\n      <td>1.0</td>\n      <td>0.0</td>\n      <td>0</td>\n      <td>1</td>\n      <td>0</td>\n    </tr>\n    <tr>\n      <th>99998824</th>\n      <td>35</td>\n      <td>8.0</td>\n      <td>8.0</td>\n      <td>5.0</td>\n      <td>6.0</td>\n      <td>1.0</td>\n      <td>1.0</td>\n      <td>0.0</td>\n      <td>0.0</td>\n      <td>0.0</td>\n      <td>...</td>\n      <td>5.0</td>\n      <td>2.0</td>\n      <td>0.000000</td>\n      <td>0.0</td>\n      <td>0.0</td>\n      <td>0.0</td>\n      <td>0.0</td>\n      <td>1</td>\n      <td>0</td>\n      <td>0</td>\n    </tr>\n  </tbody>\n</table>\n<p>71435 rows × 127 columns</p>\n</div>"
     },
     "metadata": {},
     "execution_count": 126
    }
   ],
   "source": [
    "df_b"
   ]
  },
  {
   "cell_type": "code",
   "execution_count": 128,
   "metadata": {},
   "outputs": [],
   "source": [
    "X = df_b[df_b.columns.difference([\"DaysInHospital\"])]"
   ]
  },
  {
   "cell_type": "code",
   "execution_count": 130,
   "metadata": {},
   "outputs": [],
   "source": [
    "y = df_b[[\"DaysInHospital\"]]"
   ]
  },
  {
   "cell_type": "code",
   "execution_count": 131,
   "metadata": {},
   "outputs": [
    {
     "output_type": "execute_result",
     "data": {
      "text/plain": [
       "          DaysInHospital\n",
       "MemberID                \n",
       "4                    0.0\n",
       "210                  0.0\n",
       "3197                 0.0\n",
       "3457                 0.0\n",
       "3713                 0.0\n",
       "...                  ...\n",
       "99985996             0.0\n",
       "99987030             0.0\n",
       "99995391             0.0\n",
       "99995554             0.0\n",
       "99998824             0.0\n",
       "\n",
       "[71435 rows x 1 columns]"
      ],
      "text/html": "<div>\n<style scoped>\n    .dataframe tbody tr th:only-of-type {\n        vertical-align: middle;\n    }\n\n    .dataframe tbody tr th {\n        vertical-align: top;\n    }\n\n    .dataframe thead th {\n        text-align: right;\n    }\n</style>\n<table border=\"1\" class=\"dataframe\">\n  <thead>\n    <tr style=\"text-align: right;\">\n      <th></th>\n      <th>DaysInHospital</th>\n    </tr>\n    <tr>\n      <th>MemberID</th>\n      <th></th>\n    </tr>\n  </thead>\n  <tbody>\n    <tr>\n      <th>4</th>\n      <td>0.0</td>\n    </tr>\n    <tr>\n      <th>210</th>\n      <td>0.0</td>\n    </tr>\n    <tr>\n      <th>3197</th>\n      <td>0.0</td>\n    </tr>\n    <tr>\n      <th>3457</th>\n      <td>0.0</td>\n    </tr>\n    <tr>\n      <th>3713</th>\n      <td>0.0</td>\n    </tr>\n    <tr>\n      <th>...</th>\n      <td>...</td>\n    </tr>\n    <tr>\n      <th>99985996</th>\n      <td>0.0</td>\n    </tr>\n    <tr>\n      <th>99987030</th>\n      <td>0.0</td>\n    </tr>\n    <tr>\n      <th>99995391</th>\n      <td>0.0</td>\n    </tr>\n    <tr>\n      <th>99995554</th>\n      <td>0.0</td>\n    </tr>\n    <tr>\n      <th>99998824</th>\n      <td>0.0</td>\n    </tr>\n  </tbody>\n</table>\n<p>71435 rows × 1 columns</p>\n</div>"
     },
     "metadata": {},
     "execution_count": 131
    }
   ],
   "source": [
    "y"
   ]
  },
  {
   "cell_type": "code",
   "execution_count": 134,
   "metadata": {},
   "outputs": [],
   "source": [
    "X_b_train, X_b_test, y_b_train, y_b_test = train_test_split(X, y, test_size=0.2, random_state=1)"
   ]
  },
  {
   "cell_type": "code",
   "execution_count": 138,
   "metadata": {},
   "outputs": [
    {
     "output_type": "execute_result",
     "data": {
      "text/plain": [
       "          DaysInHospital\n",
       "MemberID                \n",
       "7641328              0.0\n",
       "83061669             0.0\n",
       "84824313             2.0\n",
       "61515689             0.0\n",
       "92459860             3.0\n",
       "...                  ...\n",
       "68849480             0.0\n",
       "28574896             0.0\n",
       "29790245             0.0\n",
       "70200029             1.0\n",
       "7270346              0.0\n",
       "\n",
       "[57148 rows x 1 columns]"
      ],
      "text/html": "<div>\n<style scoped>\n    .dataframe tbody tr th:only-of-type {\n        vertical-align: middle;\n    }\n\n    .dataframe tbody tr th {\n        vertical-align: top;\n    }\n\n    .dataframe thead th {\n        text-align: right;\n    }\n</style>\n<table border=\"1\" class=\"dataframe\">\n  <thead>\n    <tr style=\"text-align: right;\">\n      <th></th>\n      <th>DaysInHospital</th>\n    </tr>\n    <tr>\n      <th>MemberID</th>\n      <th></th>\n    </tr>\n  </thead>\n  <tbody>\n    <tr>\n      <th>7641328</th>\n      <td>0.0</td>\n    </tr>\n    <tr>\n      <th>83061669</th>\n      <td>0.0</td>\n    </tr>\n    <tr>\n      <th>84824313</th>\n      <td>2.0</td>\n    </tr>\n    <tr>\n      <th>61515689</th>\n      <td>0.0</td>\n    </tr>\n    <tr>\n      <th>92459860</th>\n      <td>3.0</td>\n    </tr>\n    <tr>\n      <th>...</th>\n      <td>...</td>\n    </tr>\n    <tr>\n      <th>68849480</th>\n      <td>0.0</td>\n    </tr>\n    <tr>\n      <th>28574896</th>\n      <td>0.0</td>\n    </tr>\n    <tr>\n      <th>29790245</th>\n      <td>0.0</td>\n    </tr>\n    <tr>\n      <th>70200029</th>\n      <td>1.0</td>\n    </tr>\n    <tr>\n      <th>7270346</th>\n      <td>0.0</td>\n    </tr>\n  </tbody>\n</table>\n<p>57148 rows × 1 columns</p>\n</div>"
     },
     "metadata": {},
     "execution_count": 138
    }
   ],
   "source": [
    "y_b_train"
   ]
  },
  {
   "cell_type": "code",
   "execution_count": 139,
   "metadata": {},
   "outputs": [],
   "source": [
    "df_b.to_csv(\"./processed/strategy-b/dataset.csv\")\n",
    "X_b_train.to_csv(\"./processed/strategy-b/train/X_train.csv\")\n",
    "y_b_train.to_csv(\"./processed/strategy-b/train/y_train.csv\")\n",
    "X_b_test.to_csv(\"./processed/strategy-b/test/X_test.csv\")\n",
    "y_b_test.to_csv(\"./processed/strategy-b/test/y_test.csv\")"
   ]
  },
  {
   "cell_type": "code",
   "execution_count": null,
   "metadata": {},
   "outputs": [],
   "source": []
  }
 ]
}