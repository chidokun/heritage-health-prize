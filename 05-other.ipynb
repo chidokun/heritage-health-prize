{
 "metadata": {
  "language_info": {
   "codemirror_mode": {
    "name": "ipython",
    "version": 3
   },
   "file_extension": ".py",
   "mimetype": "text/x-python",
   "name": "python",
   "nbconvert_exporter": "python",
   "pygments_lexer": "ipython3",
   "version": "3.7.7-final"
  },
  "orig_nbformat": 2,
  "kernelspec": {
   "name": "python38164bittuanconda0d1158ff6a3f4103ab371d8d1b87e888",
   "display_name": "Python 3.8.1 64-bit ('tuan': conda)",
   "language": "python"
  }
 },
 "nbformat": 4,
 "nbformat_minor": 2,
 "cells": [
  {
   "source": [
    "# Other"
   ],
   "cell_type": "markdown",
   "metadata": {}
  },
  {
   "cell_type": "code",
   "execution_count": 1,
   "metadata": {},
   "outputs": [],
   "source": [
    "import numpy as np # Linear algebra\n",
    "import pandas as pd # Data processing, CSV file I/O (e.g. pd.read_csv)\n",
    "\n",
    "import matplotlib.pyplot as plt  # Matlab-style plotting\n",
    "# Make sure plot shows immediately\n",
    "%matplotlib inline \n",
    "import seaborn as sns # Library for plotting\n",
    "color = sns.color_palette()\n",
    "sns.set_style('darkgrid')\n",
    "\n",
    "from sklearn.svm import SVR\n",
    "from sklearn.model_selection import GridSearchCV\n",
    "from sklearn.metrics import make_scorer, mean_squared_error\n",
    "from xgboost import XGBRegressor"
   ]
  },
  {
   "cell_type": "code",
   "execution_count": 2,
   "metadata": {},
   "outputs": [],
   "source": [
    "def rmsle(y_true, y_pred):\n",
    "    return np.sqrt(np.mean(np.power(np.log(y_pred + 1) - np.log(y_true + 1),2)))"
   ]
  },
  {
   "source": [
    "# Learning Curve"
   ],
   "cell_type": "markdown",
   "metadata": {}
  },
  {
   "cell_type": "code",
   "execution_count": 3,
   "metadata": {},
   "outputs": [],
   "source": [
    "n_sample = [ 10, 100, 200, 300, 400, 500, 600, 700, 800, 900, 1000, 2000, 3000, 4000, 5000, 6000 ]"
   ]
  },
  {
   "source": [
    "## Strategy A"
   ],
   "cell_type": "markdown",
   "metadata": {}
  },
  {
   "cell_type": "code",
   "execution_count": 4,
   "metadata": {},
   "outputs": [],
   "source": [
    "X_a_train = pd.read_csv(\"./processed/strategy-a/train/X_train.csv\", index_col=[\"MemberID\"])\n",
    "y_a_train = pd.read_csv(\"./processed/strategy-a/train/y_train.csv\", index_col=[\"MemberID\"])\n",
    "X_a_test = pd.read_csv(\"./processed/strategy-a/test/X_test.csv\", index_col=[\"MemberID\"])\n",
    "y_a_test = pd.read_csv(\"./processed/strategy-a/test/y_test.csv\", index_col=[\"MemberID\"])"
   ]
  },
  {
   "source": [
    "### XGBoost"
   ],
   "cell_type": "markdown",
   "metadata": {}
  },
  {
   "cell_type": "code",
   "execution_count": 5,
   "metadata": {},
   "outputs": [],
   "source": [
    "a_xgb_params = {'learning_rate': 0.01, 'max_depth': 3, 'n_estimators': 100, 'subsample': 0.3}"
   ]
  },
  {
   "cell_type": "code",
   "execution_count": 6,
   "metadata": {},
   "outputs": [
    {
     "output_type": "stream",
     "name": "stdout",
     "text": [
      "Sample: 10, rmsle: 0.4823575692333976\n",
      "Sample: 100, rmsle: 0.48185417129002456\n",
      "Sample: 200, rmsle: 0.4988620842657617\n",
      "Sample: 300, rmsle: 0.5209147106124357\n",
      "Sample: 400, rmsle: 0.5151518939764415\n",
      "Sample: 500, rmsle: 0.5247630466736724\n",
      "Sample: 600, rmsle: 0.5157140293177316\n",
      "Sample: 700, rmsle: 0.5109233021284056\n",
      "Sample: 800, rmsle: 0.5100568819305227\n",
      "Sample: 900, rmsle: 0.509550115665655\n",
      "Sample: 1000, rmsle: 0.5105598367046137\n",
      "Sample: 2000, rmsle: 0.5072139428010072\n",
      "Sample: 3000, rmsle: 0.5063631500908787\n",
      "Sample: 4000, rmsle: 0.5079755000459188\n",
      "Sample: 5000, rmsle: 0.5078447373821157\n",
      "Sample: 6000, rmsle: 0.5068801043769587\n",
      "CPU times: user 21.9 s, sys: 1.45 s, total: 23.3 s\n",
      "Wall time: 12.2 s\n"
     ]
    }
   ],
   "source": [
    "%%time\n",
    "a_xgb_result = []\n",
    "for i in n_sample:\n",
    "    a_xgb = XGBRegressor(objective='reg:squarederror', **a_xgb_params)\n",
    "    a_xgb.fit(X_a_train.sample(n=i, random_state=1).to_numpy(), y_a_train.sample(n=i, random_state=1).to_numpy())\n",
    "    y_pred = a_xgb.predict(X_a_test.to_numpy())\n",
    "    rs = rmsle(y_a_test.to_numpy().T, y_pred)\n",
    "    print(\"Sample: {}, rmsle: {}\".format(i, rs))\n",
    "    a_xgb_result.append(rs)\n"
   ]
  },
  {
   "source": [
    "### Support Vector Regression"
   ],
   "cell_type": "markdown",
   "metadata": {}
  },
  {
   "cell_type": "code",
   "execution_count": 7,
   "metadata": {},
   "outputs": [],
   "source": [
    "a_svr_params = {'C': 0.1, 'epsilon': 0.1, 'gamma': 'scale'}"
   ]
  },
  {
   "cell_type": "code",
   "execution_count": 8,
   "metadata": {},
   "outputs": [
    {
     "output_type": "stream",
     "name": "stdout",
     "text": [
      "Sample: 10, rmsle: 0.47960091516026193\n",
      "Sample: 100, rmsle: 0.4809984710566387\n",
      "Sample: 200, rmsle: 0.4809187323744621\n",
      "Sample: 300, rmsle: 0.4805788488376517\n",
      "Sample: 400, rmsle: 0.48051325167109027\n",
      "Sample: 500, rmsle: 0.48018212766500157\n",
      "Sample: 600, rmsle: 0.4802885857504097\n",
      "Sample: 700, rmsle: 0.4802321927623156\n",
      "Sample: 800, rmsle: 0.48025930095004565\n",
      "Sample: 900, rmsle: 0.48005178365960716\n",
      "Sample: 1000, rmsle: 0.4801557755174278\n",
      "Sample: 2000, rmsle: 0.47987002985386934\n",
      "Sample: 3000, rmsle: 0.47928212412515475\n",
      "Sample: 4000, rmsle: 0.4789058058071127\n",
      "Sample: 5000, rmsle: 0.478414322491396\n",
      "Sample: 6000, rmsle: 0.4785960686950652\n",
      "CPU times: user 1min 52s, sys: 1.66 s, total: 1min 54s\n",
      "Wall time: 2min 11s\n"
     ]
    }
   ],
   "source": [
    "%%time\n",
    "a_svr_result = []\n",
    "for i in n_sample:\n",
    "    a_svr = SVR(**a_svr_params)\n",
    "    a_svr.fit(X_a_train.sample(n=i, random_state=1).to_numpy(), y_a_train.sample(n=i, random_state=1).to_numpy())\n",
    "    y_pred = a_svr.predict(X_a_test.to_numpy())\n",
    "    rs = rmsle(y_a_test.to_numpy().T, y_pred)\n",
    "    print(\"Sample: {}, rmsle: {}\".format(i, rs))\n",
    "    a_xgb_result.append(rs)\n"
   ]
  },
  {
   "source": [
    "## Strategy B"
   ],
   "cell_type": "markdown",
   "metadata": {}
  },
  {
   "cell_type": "code",
   "execution_count": 9,
   "metadata": {},
   "outputs": [],
   "source": [
    "X_b_train = pd.read_csv(\"./processed/strategy-b/train/X_train.csv\", index_col=[\"MemberID\"])\n",
    "y_b_train = pd.read_csv(\"./processed/strategy-b/train/y_train.csv\", index_col=[\"MemberID\"])\n",
    "X_b_test = pd.read_csv(\"./processed/strategy-b/test/X_test.csv\", index_col=[\"MemberID\"])\n",
    "y_b_test = pd.read_csv(\"./processed/strategy-b/test/y_test.csv\", index_col=[\"MemberID\"])"
   ]
  },
  {
   "source": [
    "### XGBoost"
   ],
   "cell_type": "markdown",
   "metadata": {}
  },
  {
   "cell_type": "code",
   "execution_count": 10,
   "metadata": {},
   "outputs": [],
   "source": [
    "b_xgb_params = {'learning_rate': 0.01, 'max_depth': 3, 'n_estimators': 100, 'subsample': 0.3}"
   ]
  },
  {
   "cell_type": "code",
   "execution_count": 11,
   "metadata": {},
   "outputs": [
    {
     "output_type": "stream",
     "name": "stdout",
     "text": [
      "Sample: 10, rmsle: 0.5096456446894639\n",
      "Sample: 100, rmsle: 0.4985007140501991\n",
      "Sample: 200, rmsle: 0.496012703915103\n",
      "Sample: 300, rmsle: 0.4988683810343194\n",
      "Sample: 400, rmsle: 0.49799336558359497\n",
      "Sample: 500, rmsle: 0.5099611762340597\n",
      "Sample: 600, rmsle: 0.5029850704354204\n",
      "Sample: 700, rmsle: 0.5036604754304911\n",
      "Sample: 800, rmsle: 0.5021589983025834\n",
      "Sample: 900, rmsle: 0.5013844273980206\n",
      "Sample: 1000, rmsle: 0.5041692028333487\n",
      "Sample: 2000, rmsle: 0.5002407297535661\n",
      "Sample: 3000, rmsle: 0.4966788076907899\n",
      "Sample: 4000, rmsle: 0.49757707355750336\n",
      "Sample: 5000, rmsle: 0.4945377380003405\n",
      "Sample: 6000, rmsle: 0.4928877888414815\n",
      "CPU times: user 18.4 s, sys: 834 ms, total: 19.3 s\n",
      "Wall time: 11.5 s\n"
     ]
    }
   ],
   "source": [
    "%%time\n",
    "b_xgb_result = []\n",
    "for i in n_sample:\n",
    "    b_xgb = XGBRegressor(objective='reg:squarederror', **b_xgb_params)\n",
    "    b_xgb.fit(X_b_train.sample(n=i, random_state=1).to_numpy(), y_b_train.sample(n=i, random_state=1).to_numpy())\n",
    "    y_pred = b_xgb.predict(X_b_test.to_numpy())\n",
    "    rs = rmsle(y_b_test.to_numpy().T, y_pred)\n",
    "    print(\"Sample: {}, rmsle: {}\".format(i, rs))\n",
    "    b_xgb_result.append(rs)\n"
   ]
  },
  {
   "source": [
    "### Support Vector Regression"
   ],
   "cell_type": "markdown",
   "metadata": {}
  },
  {
   "cell_type": "code",
   "execution_count": 12,
   "metadata": {},
   "outputs": [],
   "source": [
    "b_svr_params = {'C': 1, 'epsilon': 0.01, 'gamma': 'auto'}"
   ]
  },
  {
   "cell_type": "code",
   "execution_count": 13,
   "metadata": {},
   "outputs": [
    {
     "output_type": "stream",
     "name": "stdout",
     "text": [
      "Sample: 10, rmsle: 0.4742723324792723\n",
      "Sample: 100, rmsle: 0.47390571084557\n",
      "Sample: 200, rmsle: 0.47389037155141556\n",
      "Sample: 300, rmsle: 0.4741929623240851\n",
      "Sample: 400, rmsle: 0.4746361425855459\n",
      "Sample: 500, rmsle: 0.4747840422402774\n",
      "Sample: 600, rmsle: 0.47482468641688247\n",
      "Sample: 700, rmsle: 0.4745421212788578\n",
      "Sample: 800, rmsle: 0.47454428516869596\n",
      "Sample: 900, rmsle: 0.4744053296628215\n",
      "Sample: 1000, rmsle: 0.47406067119613715\n",
      "Sample: 2000, rmsle: 0.47406974857372275\n",
      "Sample: 3000, rmsle: 0.47367724975233616\n",
      "Sample: 4000, rmsle: 0.4738133511974307\n",
      "Sample: 5000, rmsle: 0.4741860679910001\n",
      "Sample: 6000, rmsle: 0.47416639028513735\n",
      "CPU times: user 1min 28s, sys: 1.46 s, total: 1min 30s\n",
      "Wall time: 1min 58s\n"
     ]
    }
   ],
   "source": [
    "%%time\n",
    "b_svr_result = []\n",
    "for i in n_sample:\n",
    "    b_svr = SVR(**b_svr_params)\n",
    "    b_svr.fit(X_b_train.sample(n=i, random_state=1).to_numpy(), y_b_train.sample(n=i, random_state=1).to_numpy())\n",
    "    y_pred = b_svr.predict(X_b_test.to_numpy())\n",
    "    rs = rmsle(y_b_test.to_numpy().T, y_pred)\n",
    "    print(\"Sample: {}, rmsle: {}\".format(i, rs))\n",
    "    b_xgb_result.append(rs)\n"
   ]
  },
  {
   "cell_type": "code",
   "execution_count": null,
   "metadata": {},
   "outputs": [],
   "source": []
  }
 ]
}