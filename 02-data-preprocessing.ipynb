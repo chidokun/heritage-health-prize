{
 "metadata": {
  "language_info": {
   "codemirror_mode": {
    "name": "ipython",
    "version": 3
   },
   "file_extension": ".py",
   "mimetype": "text/x-python",
   "name": "python",
   "nbconvert_exporter": "python",
   "pygments_lexer": "ipython3",
   "version": "3.7.7-final"
  },
  "orig_nbformat": 2,
  "kernelspec": {
   "name": "python38164bittuanconda0d1158ff6a3f4103ab371d8d1b87e888",
   "display_name": "Python 3.8.1 64-bit ('tuan': conda)",
   "language": "python"
  }
 },
 "nbformat": 4,
 "nbformat_minor": 2,
 "cells": [
  {
   "source": [
    "# Data Preprocessing"
   ],
   "cell_type": "markdown",
   "metadata": {}
  },
  {
   "cell_type": "code",
   "execution_count": 2,
   "metadata": {},
   "outputs": [],
   "source": [
    "import numpy as np # Linear algebra\n",
    "import pandas as pd # Data processing, CSV file I/O (e.g. pd.read_csv)\n",
    "\n",
    "import matplotlib.pyplot as plt  # Matlab-style plotting\n",
    "# Make sure plot shows immediately\n",
    "%matplotlib inline \n",
    "import seaborn as sns # Library for plotting\n",
    "color = sns.color_palette()\n",
    "sns.set_style('darkgrid')"
   ]
  },
  {
   "cell_type": "code",
   "execution_count": 3,
   "metadata": {},
   "outputs": [],
   "source": [
    "df_claim = pd.read_csv(\"./data/Claims.csv\")\n",
    "df_member = pd.read_csv(\"./data/Members.csv\", index_col=[\"MemberID\"])\n",
    "df_lab = pd.read_csv(\"./data/LabCount.csv\")\n",
    "df_drug = pd.read_csv(\"./data/DrugCount.csv\")"
   ]
  },
  {
   "source": [
    "# Preprocessing"
   ],
   "cell_type": "markdown",
   "metadata": {}
  },
  {
   "source": [
    "Convert `PayDelay` to numeric by converting `162+` to `162"
   ],
   "cell_type": "markdown",
   "metadata": {}
  },
  {
   "cell_type": "code",
   "execution_count": 4,
   "metadata": {},
   "outputs": [],
   "source": [
    "df_claim[\"PayDelay\"].replace({'162+': 162}, inplace=True)\n",
    "df_claim[\"PayDelay\"] = df_claim[\"PayDelay\"].astype(\"int32\")"
   ]
  },
  {
   "source": [
    "Covert `LengthOfStay` to average number of days"
   ],
   "cell_type": "markdown",
   "metadata": {}
  },
  {
   "cell_type": "code",
   "execution_count": 5,
   "metadata": {},
   "outputs": [
    {
     "output_type": "stream",
     "name": "stdout",
     "text": [
      "CPU times: user 1.25 s, sys: 132 ms, total: 1.38 s\nWall time: 1.9 s\n"
     ]
    }
   ],
   "source": [
    "%%time\n",
    "# convert los to day\n",
    "los_value = [ \"1 day\", \"2 days\", \"3 days\", \"4 days\", \"5 days\", \"6 days\", \"1- 2 weeks\", \"2- 4 weeks\", \"4- 8 weeks\", \"8- 12 weeks\", \"12- 26 weeks\", \"26+ weeks\"]\n",
    "los_replace = [ 1, 2, 3, 4, 5, 6, 11, 21, 42, 84, 133, 182]\n",
    "\n",
    "for i, j in zip(los_value, los_replace):\n",
    "    df_claim.loc[df_claim[\"LengthOfStay\"] == i, \"LengthOfStay\"] = j\n",
    "\n",
    "df_claim[\"LengthOfStay\"] = df_claim[\"LengthOfStay\"].astype(\"float64\")"
   ]
  },
  {
   "source": [
    "Convert `DSFS` to number of months"
   ],
   "cell_type": "markdown",
   "metadata": {}
  },
  {
   "cell_type": "code",
   "execution_count": 6,
   "metadata": {},
   "outputs": [
    {
     "output_type": "stream",
     "name": "stdout",
     "text": [
      "CPU times: user 1.48 s, sys: 173 ms, total: 1.65 s\nWall time: 2.33 s\n"
     ]
    }
   ],
   "source": [
    "%%time\n",
    "# convert to month\n",
    "dsfs_value = [ '0- 1 month', '1- 2 months', '2- 3 months', '3- 4 months', '4- 5 months', '5- 6 months', '6- 7 months', '7- 8 months', '8- 9 months', '9-10 months', '10-11 months', '11-12 months']\n",
    "dsfs_replace = [ 1, 2, 3, 4, 5, 6, 7, 8, 9, 10, 11, 12 ]\n",
    "\n",
    "try:\n",
    "    for i, j in zip(dsfs_value, dsfs_replace):\n",
    "        df_claim[\"DSFS\"].replace({i: j}, inplace=True)\n",
    "\n",
    "    df_claim[\"DSFS\"] = df_claim[\"DSFS\"].astype(\"float64\")\n",
    "except: \n",
    "    pass"
   ]
  },
  {
   "source": [
    "Convert `CharlsonIndex` to number"
   ],
   "cell_type": "markdown",
   "metadata": {}
  },
  {
   "cell_type": "code",
   "execution_count": 7,
   "metadata": {},
   "outputs": [
    {
     "output_type": "stream",
     "name": "stdout",
     "text": [
      "CPU times: user 847 ms, sys: 116 ms, total: 963 ms\nWall time: 1.16 s\n"
     ]
    }
   ],
   "source": [
    "%%time\n",
    "# convert to month\n",
    "ch_value = [ '0', '1-2', '3-4', '5+' ]\n",
    "ch_replace = [ 0, 2, 4, 6 ]\n",
    "\n",
    "try:\n",
    "    for i, j in zip(ch_value, ch_replace):\n",
    "        df_claim[\"CharlsonIndex\"].replace({i: j}, inplace=True)\n",
    "       \n",
    "    df_claim[\"CharlsonIndex\"] = df_claim[\"CharlsonIndex\"].astype(\"float64\")\n",
    "except: \n",
    "    pass"
   ]
  },
  {
   "source": [
    "Convert `LabCount` to number"
   ],
   "cell_type": "markdown",
   "metadata": {}
  },
  {
   "cell_type": "code",
   "execution_count": 8,
   "metadata": {},
   "outputs": [],
   "source": [
    "df_lab[\"LabCount\"].replace({ \"10+\": 10 }, inplace=True)\n",
    "df_lab[\"LabCount\"] = df_lab[\"LabCount\"].astype(\"float64\")"
   ]
  },
  {
   "source": [
    "Convert `DrugCount` to number"
   ],
   "cell_type": "markdown",
   "metadata": {}
  },
  {
   "cell_type": "code",
   "execution_count": 9,
   "metadata": {},
   "outputs": [],
   "source": [
    "df_drug[\"DrugCount\"].replace({ \"7+\": 7 }, inplace=True)\n",
    "df_drug[\"DrugCount\"] = df_drug[\"DrugCount\"].astype(\"float64\")"
   ]
  },
  {
   "source": [
    "## Member"
   ],
   "cell_type": "markdown",
   "metadata": {}
  },
  {
   "source": [
    "Convert `AgeAtFirstClaim` to mean value. Fill `NaN` by `-1`"
   ],
   "cell_type": "markdown",
   "metadata": {}
  },
  {
   "cell_type": "code",
   "execution_count": 10,
   "metadata": {},
   "outputs": [
    {
     "output_type": "execute_result",
     "data": {
      "text/plain": [
       "['0-9', '10-19', '20-29', '30-39', '40-49', '50-59', '60-69', '70-79', '80+']"
      ]
     },
     "metadata": {},
     "execution_count": 10
    }
   ],
   "source": [
    "age_list = list(df_member[\"AgeAtFirstClaim\"].value_counts().index)\n",
    "age_list.sort()\n",
    "age_list"
   ]
  },
  {
   "cell_type": "code",
   "execution_count": 11,
   "metadata": {},
   "outputs": [],
   "source": [
    "mean_age_list = [ 5, 15, 25, 35, 45, 55, 65, 75, 85]"
   ]
  },
  {
   "cell_type": "code",
   "execution_count": 12,
   "metadata": {},
   "outputs": [],
   "source": [
    "for age, mean_age in zip(age_list, mean_age_list):\n",
    "    df_member.loc[df_member[\"AgeAtFirstClaim\"] == age, \"AgeAtFirstClaim\"] = mean_age\n",
    "\n",
    "df_member.loc[df_member[\"AgeAtFirstClaim\"].isna(), \"AgeAtFirstClaim\"] = -1"
   ]
  },
  {
   "cell_type": "code",
   "execution_count": 13,
   "metadata": {},
   "outputs": [],
   "source": [
    "df_member.to_csv(\"./processed/Members.csv\")"
   ]
  },
  {
   "source": [
    "## ClaimCount"
   ],
   "cell_type": "markdown",
   "metadata": {}
  },
  {
   "source": [
    "Calculate `ClaimCount` for each `MemberID` in `Y1`, `Y2` and both `Y1-Y2`"
   ],
   "cell_type": "markdown",
   "metadata": {}
  },
  {
   "cell_type": "code",
   "execution_count": 14,
   "metadata": {},
   "outputs": [
    {
     "output_type": "stream",
     "name": "stdout",
     "text": [
      "(865689, 14)\n",
      "(898872, 14)\n",
      "(1764561, 14)\n"
     ]
    }
   ],
   "source": [
    "df_claim_y1 = df_claim[df_claim[\"Year\"] == \"Y1\"]\n",
    "print(df_claim_y1.shape)\n",
    "df_claim_y2 = df_claim[df_claim[\"Year\"] == \"Y2\"]\n",
    "print(df_claim_y2.shape)\n",
    "df_claim_y12 = df_claim[(df_claim[\"Year\"] == \"Y1\") | (df_claim[\"Year\"] == \"Y2\")]\n",
    "print(df_claim_y12.shape)"
   ]
  },
  {
   "cell_type": "code",
   "execution_count": 15,
   "metadata": {},
   "outputs": [],
   "source": [
    "def value_counts(df, count_by, col_name):\n",
    "    cnt = df[count_by].value_counts()\n",
    "    return pd.DataFrame({ count_by: list(cnt.index), col_name: list(cnt)}).set_index(count_by)"
   ]
  },
  {
   "cell_type": "code",
   "execution_count": 16,
   "metadata": {},
   "outputs": [],
   "source": [
    "df_claim_count_y1 = value_counts(df_claim_y1, \"MemberID\", \"ClaimCount\")\n",
    "df_claim_count_y2 = value_counts(df_claim_y2, \"MemberID\", \"ClaimCount\")\n",
    "df_claim_count_y12 = value_counts(df_claim_y12, \"MemberID\", \"ClaimCount\")"
   ]
  },
  {
   "cell_type": "code",
   "execution_count": 17,
   "metadata": {},
   "outputs": [],
   "source": [
    "df_claim_count_y1.to_csv(\"./processed/ClaimCount_Y1.csv\")\n",
    "df_claim_count_y2.to_csv(\"./processed/ClaimCount_Y2.csv\")\n",
    "df_claim_count_y12.to_csv(\"./processed/ClaimCount_Y12.csv\")"
   ]
  },
  {
   "source": [
    "## Provider"
   ],
   "cell_type": "markdown",
   "metadata": {}
  },
  {
   "cell_type": "code",
   "execution_count": 18,
   "metadata": {},
   "outputs": [],
   "source": [
    "def value_counts_unique(df, count_by, count_unique_col, col_name):\n",
    "    cnt = df.groupby(count_by)[count_unique_col].nunique(dropna=True)\n",
    "    return pd.DataFrame({ count_by: cnt.index, col_name: cnt}).set_index(count_by)"
   ]
  },
  {
   "source": [
    "Count unique `ProviderID` each `MemberID` in `Y1`, `Y2`, `Y1-Y2`"
   ],
   "cell_type": "markdown",
   "metadata": {}
  },
  {
   "cell_type": "code",
   "execution_count": 19,
   "metadata": {},
   "outputs": [],
   "source": [
    "df_pvd_count_y1 = value_counts_unique(df_claim_y1, \"MemberID\", \"ProviderID\", \"ProviderID\")\n",
    "df_pvd_count_y2 = value_counts_unique(df_claim_y2, \"MemberID\", \"ProviderID\", \"ProviderID\")\n",
    "df_pvd_count_y12 = value_counts_unique(df_claim_y12, \"MemberID\", \"ProviderID\", \"ProviderID\")"
   ]
  },
  {
   "cell_type": "code",
   "execution_count": 20,
   "metadata": {},
   "outputs": [],
   "source": [
    "df_pvd_count_y1.to_csv(\"./processed/ProviderID_Y1.csv\")\n",
    "df_pvd_count_y2.to_csv(\"./processed/ProviderID_Y2.csv\")\n",
    "df_pvd_count_y12.to_csv(\"./processed/ProviderID_Y12.csv\")"
   ]
  },
  {
   "source": [
    "## Vendor"
   ],
   "cell_type": "markdown",
   "metadata": {}
  },
  {
   "source": [
    "Count unique `Vendor` each `MemberID` in `Y1`, `Y2`, `Y1-Y2`"
   ],
   "cell_type": "markdown",
   "metadata": {}
  },
  {
   "cell_type": "code",
   "execution_count": 21,
   "metadata": {},
   "outputs": [],
   "source": [
    "df_v_count_y1 = value_counts_unique(df_claim_y1, \"MemberID\", \"Vendor\", \"Vendor\")\n",
    "df_v_count_y2 = value_counts_unique(df_claim_y1, \"MemberID\", \"Vendor\", \"Vendor\")\n",
    "df_v_count_y12 = value_counts_unique(df_claim_y1, \"MemberID\", \"Vendor\", \"Vendor\")"
   ]
  },
  {
   "cell_type": "code",
   "execution_count": 22,
   "metadata": {},
   "outputs": [],
   "source": [
    "df_v_count_y1.to_csv(\"./processed/Vendor_Y1.csv\")\n",
    "df_v_count_y2.to_csv(\"./processed/Vendor_Y2.csv\")\n",
    "df_v_count_y12.to_csv(\"./processed/Vendor_Y12.csv\")"
   ]
  },
  {
   "source": [
    "## PCP"
   ],
   "cell_type": "markdown",
   "metadata": {}
  },
  {
   "source": [
    "Count unique `PCP` each `MemberID` in `Y1`, `Y2`, `Y1-Y2`"
   ],
   "cell_type": "markdown",
   "metadata": {}
  },
  {
   "cell_type": "code",
   "execution_count": 23,
   "metadata": {},
   "outputs": [],
   "source": [
    "df_pcp_count_y1 = value_counts_unique(df_claim_y1, \"MemberID\", \"PCP\", \"PCP\")\n",
    "df_pcp_count_y2 = value_counts_unique(df_claim_y2, \"MemberID\", \"PCP\", \"PCP\")\n",
    "df_pcp_count_y12 = value_counts_unique(df_claim_y12, \"MemberID\", \"PCP\", \"PCP\")"
   ]
  },
  {
   "cell_type": "code",
   "execution_count": 24,
   "metadata": {},
   "outputs": [],
   "source": [
    "df_pcp_count_y1.to_csv(\"./processed/PCP_Y1.csv\")\n",
    "df_pcp_count_y2.to_csv(\"./processed/PCP_Y2.csv\")\n",
    "df_pcp_count_y12.to_csv(\"./processed/PCP_Y12.csv\")"
   ]
  },
  {
   "source": [
    "## Specialty"
   ],
   "cell_type": "markdown",
   "metadata": {}
  },
  {
   "source": [
    "Count each kind of `Speciaty` each `MemberID` in `Y1`, `Y2`, `Y1-Y2`"
   ],
   "cell_type": "markdown",
   "metadata": {}
  },
  {
   "cell_type": "code",
   "execution_count": 28,
   "metadata": {},
   "outputs": [],
   "source": [
    "def one_hot_count(index_col, count_value_col, df, one_hot_cols):\n",
    "    # get unique index\n",
    "    index_list = list(df[index_col].unique())\n",
    "    # create df\n",
    "    result_df = pd.DataFrame(index=index_list)\n",
    "    result_df.index.name = index_col\n",
    "    # fill one hot columns\n",
    "    for col in one_hot_cols:\n",
    "        col_name = \"{}Count_{}\".format(count_value_col, col)\n",
    "        result_df[col_name] = 0\n",
    "    # query and fill count\n",
    "    query = df.groupby([index_col])[count_value_col].value_counts(dropna=False)\n",
    "    i = 0\n",
    "    length = len(index_list)\n",
    "    for index in index_list:\n",
    "        for col in one_hot_cols:\n",
    "            col_name = \"{}Count_{}\".format(count_value_col, col)\n",
    "            try:\n",
    "                result_df.loc[index][col_name] = query.loc[(index, col)]\n",
    "            except:\n",
    "                continue\n",
    "\n",
    "        if i % 10000 == 0:\n",
    "            print(\"Processed: {}/{}\".format(i, length))\n",
    "        i += 1\n",
    "    print(\"Processed: {}/{} DONE\".format(i, length))\n",
    "    return result_df"
   ]
  },
  {
   "cell_type": "code",
   "execution_count": 29,
   "metadata": {},
   "outputs": [],
   "source": [
    "spe_unique_y1 = list(df_claim_y1[\"Specialty\"].unique())\n",
    "spe_unique_y2 = list(df_claim_y2[\"Specialty\"].unique())\n",
    "spe_unique_y12 = list(df_claim_y12[\"Specialty\"].unique())"
   ]
  },
  {
   "cell_type": "code",
   "execution_count": 30,
   "metadata": {},
   "outputs": [
    {
     "output_type": "stream",
     "name": "stdout",
     "text": [
      "Processed: 0/76038\n",
      "Processed: 10000/76038\n",
      "Processed: 20000/76038\n",
      "Processed: 30000/76038\n",
      "Processed: 40000/76038\n",
      "Processed: 50000/76038\n",
      "Processed: 60000/76038\n",
      "Processed: 70000/76038\n",
      "Processed: 76038/76038 DONE\n",
      "Processed: 0/71435\n",
      "Processed: 10000/71435\n",
      "Processed: 20000/71435\n",
      "Processed: 30000/71435\n",
      "Processed: 40000/71435\n",
      "Processed: 50000/71435\n",
      "Processed: 60000/71435\n",
      "Processed: 70000/71435\n",
      "Processed: 71435/71435 DONE\n",
      "Processed: 0/95507\n",
      "Processed: 10000/95507\n",
      "Processed: 20000/95507\n",
      "Processed: 30000/95507\n",
      "Processed: 40000/95507\n",
      "Processed: 50000/95507\n",
      "Processed: 60000/95507\n",
      "Processed: 70000/95507\n",
      "Processed: 80000/95507\n",
      "Processed: 90000/95507\n",
      "Processed: 95507/95507 DONE\n",
      "CPU times: user 6min 34s, sys: 6.93 s, total: 6min 41s\n",
      "Wall time: 11min 15s\n"
     ]
    }
   ],
   "source": [
    "%%time\n",
    "df_spe_count_y1 = one_hot_count(\"MemberID\", \"Specialty\", df_claim_y1, spe_unique_y1)\n",
    "df_spe_count_y2 = one_hot_count(\"MemberID\", \"Specialty\", df_claim_y2, spe_unique_y2)\n",
    "df_spe_count_y12 = one_hot_count(\"MemberID\", \"Specialty\", df_claim_y12, spe_unique_y12)"
   ]
  },
  {
   "cell_type": "code",
   "execution_count": 31,
   "metadata": {},
   "outputs": [],
   "source": [
    "df_spe_count_y1.to_csv(\"./processed/SpecialtyCount_Y1.csv\")\n",
    "df_spe_count_y2.to_csv(\"./processed/SpecialtyCount_Y2.csv\")\n",
    "df_spe_count_y12.to_csv(\"./processed/SpecialtyCount_Y12.csv\")"
   ]
  },
  {
   "source": [
    "## PlaceSvc"
   ],
   "cell_type": "markdown",
   "metadata": {}
  },
  {
   "source": [
    "Count each kind of `PlaceSvc` each `MemberID` in `Y1`, `Y2`, `Y1-Y2`"
   ],
   "cell_type": "markdown",
   "metadata": {}
  },
  {
   "cell_type": "code",
   "execution_count": 32,
   "metadata": {},
   "outputs": [],
   "source": [
    "psvc_unique_y1 = list(df_claim_y1[\"PlaceSvc\"].unique())\n",
    "psvc_unique_y2 = list(df_claim_y2[\"PlaceSvc\"].unique())\n",
    "psvc_unique_y12 = list(df_claim_y12[\"PlaceSvc\"].unique())"
   ]
  },
  {
   "cell_type": "code",
   "execution_count": 33,
   "metadata": {},
   "outputs": [
    {
     "output_type": "stream",
     "name": "stdout",
     "text": [
      "Processed: 0/76038\n",
      "Processed: 10000/76038\n",
      "Processed: 20000/76038\n",
      "Processed: 30000/76038\n",
      "Processed: 40000/76038\n",
      "Processed: 50000/76038\n",
      "Processed: 60000/76038\n",
      "Processed: 70000/76038\n",
      "Processed: 76038/76038 DONE\n",
      "Processed: 0/71435\n",
      "Processed: 10000/71435\n",
      "Processed: 20000/71435\n",
      "Processed: 30000/71435\n",
      "Processed: 40000/71435\n",
      "Processed: 50000/71435\n",
      "Processed: 60000/71435\n",
      "Processed: 70000/71435\n",
      "Processed: 71435/71435 DONE\n",
      "Processed: 0/95507\n",
      "Processed: 10000/95507\n",
      "Processed: 20000/95507\n",
      "Processed: 30000/95507\n",
      "Processed: 40000/95507\n",
      "Processed: 50000/95507\n",
      "Processed: 60000/95507\n",
      "Processed: 70000/95507\n",
      "Processed: 80000/95507\n",
      "Processed: 90000/95507\n",
      "Processed: 95507/95507 DONE\n",
      "CPU times: user 4min 7s, sys: 3.88 s, total: 4min 11s\n",
      "Wall time: 5min 46s\n"
     ]
    }
   ],
   "source": [
    "%%time\n",
    "df_psvc_count_y1 = one_hot_count(\"MemberID\", \"PlaceSvc\", df_claim_y1, psvc_unique_y1)\n",
    "df_psvc_count_y2 = one_hot_count(\"MemberID\", \"PlaceSvc\", df_claim_y2, psvc_unique_y2)\n",
    "df_psvc_count_y12 = one_hot_count(\"MemberID\", \"PlaceSvc\", df_claim_y12, psvc_unique_y12)"
   ]
  },
  {
   "cell_type": "code",
   "execution_count": 34,
   "metadata": {},
   "outputs": [],
   "source": [
    "df_psvc_count_y1.to_csv(\"./processed/PlaceSvcCount_Y1.csv\")\n",
    "df_psvc_count_y2.to_csv(\"./processed/PlaceSvcCount_Y2.csv\")\n",
    "df_psvc_count_y12.to_csv(\"./processed/PlaceSvcCount_Y12.csv\")"
   ]
  },
  {
   "source": [
    "## PayDelay"
   ],
   "cell_type": "markdown",
   "metadata": {}
  },
  {
   "source": [
    "Calculate some metrics `min`, `max`, `avg`, `std`, `sum` of `PayDelay` in `Y1`, `Y2`, `Y1-Y2`"
   ],
   "cell_type": "markdown",
   "metadata": {}
  },
  {
   "cell_type": "code",
   "execution_count": 146,
   "metadata": {},
   "outputs": [],
   "source": [
    "def process_paydelay(df):\n",
    "    pdl_min = df.groupby([\"MemberID\"])[\"PayDelay\"].min()\n",
    "    pdl_max = df.groupby([\"MemberID\"])[\"PayDelay\"].max()\n",
    "    pdl_avg = df.groupby([\"MemberID\"])[\"PayDelay\"].mean()\n",
    "    pdl_std = df.groupby([\"MemberID\"])[\"PayDelay\"].std()\n",
    "    pdl_sum = df.groupby([\"MemberID\"])[\"PayDelay\"].sum()\n",
    "\n",
    "    result = pd.concat([ \n",
    "        pd.DataFrame(np.array(pdl_min).T, columns=[\"PayDelayMin\"], index=pdl_min.index),\n",
    "        pd.DataFrame(np.array(pdl_max).T, columns=[\"PayDelayMax\"], index=pdl_max.index),\n",
    "        pd.DataFrame(np.array(pdl_avg).T, columns=[\"PayDelayAvg\"], index=pdl_avg.index),\n",
    "        pd.DataFrame(np.array(pdl_std).T, columns=[\"PayDelayStd\"], index=pdl_std.index),\n",
    "        pd.DataFrame(np.array(pdl_sum).T, columns=[\"PayDelaySum\"], index=pdl_sum.index)\n",
    "    ], axis=1)\n",
    "    result[\"PayDelayStd\"].fillna(-1)\n",
    "    result.fillna(0)\n",
    "    return result"
   ]
  },
  {
   "cell_type": "code",
   "execution_count": 147,
   "metadata": {},
   "outputs": [],
   "source": [
    "df_pdl_y1 = process_paydelay(df_claim_y1)\n",
    "df_pdl_y2 = process_paydelay(df_claim_y2)\n",
    "df_pdl_y12 = process_paydelay(df_claim_y12)"
   ]
  },
  {
   "cell_type": "code",
   "execution_count": 148,
   "metadata": {},
   "outputs": [],
   "source": [
    "df_pdl_y1.to_csv(\"./processed/PayDelay_Y1.csv\")\n",
    "df_pdl_y2.to_csv(\"./processed/PayDelay_Y2.csv\")\n",
    "df_pdl_y12.to_csv(\"./processed/PayDelay_Y12.csv\")"
   ]
  },
  {
   "source": [
    "## LengthOfStay"
   ],
   "cell_type": "markdown",
   "metadata": {}
  },
  {
   "source": [
    "Calculate some metrics `min`, `max`, `avg`, `std`, `sum` of `LengthOfStay` in `Y1`, `Y2`, `Y1-Y2`"
   ],
   "cell_type": "markdown",
   "metadata": {}
  },
  {
   "cell_type": "code",
   "execution_count": 125,
   "metadata": {},
   "outputs": [],
   "source": [
    "def process_los(df):\n",
    "    los_min = df.groupby([\"MemberID\"])[\"LengthOfStay\"].min()\n",
    "    los_max = df.groupby([\"MemberID\"])[\"LengthOfStay\"].max()\n",
    "    los_avg = df.groupby([\"MemberID\"])[\"LengthOfStay\"].mean()\n",
    "    los_std = df.groupby([\"MemberID\"])[\"LengthOfStay\"].std()\n",
    "    los_sum = df.groupby([\"MemberID\"])[\"LengthOfStay\"].sum()\n",
    "    los_nan = df[df[\"LengthOfStay\"].isna()].groupby([\"MemberID\"])[\"MemberID\"].count()\n",
    "\n",
    "    return pd.concat([ \n",
    "        pd.DataFrame(np.array(los_min).T, columns=[\"LengthOfStayMin\"], index=los_min.index),\n",
    "        pd.DataFrame(np.array(los_max).T, columns=[\"LengthOfStayMax\"], index=los_max.index),\n",
    "        pd.DataFrame(np.array(los_avg).T, columns=[\"LengthOfStayAvg\"], index=los_avg.index),\n",
    "        pd.DataFrame(np.array(los_std).T, columns=[\"LengthOfStayStd\"], index=los_std.index),\n",
    "        pd.DataFrame(np.array(los_sum).T, columns=[\"LengthOfStaySum\"], index=los_sum.index),\n",
    "        pd.DataFrame(np.array(los_nan).T, columns=[\"LengthOfStayCountNan\"], index=los_nan.index)\n",
    "    ], axis=1).fillna(0)"
   ]
  },
  {
   "cell_type": "code",
   "execution_count": 126,
   "metadata": {},
   "outputs": [],
   "source": [
    "df_los_y1 = process_los(df_claim_y1)\n",
    "df_los_y2 = process_los(df_claim_y2)\n",
    "df_los_y12 = process_los(df_claim_y12)"
   ]
  },
  {
   "cell_type": "code",
   "execution_count": 127,
   "metadata": {},
   "outputs": [],
   "source": [
    "df_los_y1.to_csv(\"./processed/LengthOfStay_Y1.csv\")\n",
    "df_los_y2.to_csv(\"./processed/LengthOfStay_Y2.csv\")\n",
    "df_los_y12.to_csv(\"./processed/LengthOfStay_Y12.csv\")"
   ]
  },
  {
   "source": [
    "## DSFS"
   ],
   "cell_type": "markdown",
   "metadata": {}
  },
  {
   "source": [
    "Calculate some metrics `min`, `max` of `DSFS` in `Y1`, `Y2`, `Y1-Y2`"
   ],
   "cell_type": "markdown",
   "metadata": {}
  },
  {
   "cell_type": "code",
   "execution_count": 42,
   "metadata": {},
   "outputs": [],
   "source": [
    "def process_dsfs(df):\n",
    "    dsfs_min = df.groupby([\"MemberID\"])[\"DSFS\"].min()\n",
    "    dsfs_max = df.groupby([\"MemberID\"])[\"DSFS\"].max()\n",
    "\n",
    "    return pd.concat([\n",
    "        pd.DataFrame(np.array(dsfs_min).T, columns=[\"DSFSMin\"], index=dsfs_min.index),\n",
    "        pd.DataFrame(np.array(dsfs_max).T, columns=[\"DSFSMax\"], index=dsfs_max.index),\n",
    "    ], axis=1)"
   ]
  },
  {
   "cell_type": "code",
   "execution_count": 43,
   "metadata": {},
   "outputs": [
    {
     "output_type": "stream",
     "name": "stdout",
     "text": [
      "CPU times: user 483 ms, sys: 68.3 ms, total: 552 ms\nWall time: 758 ms\n"
     ]
    }
   ],
   "source": [
    "%%time\n",
    "df_dsfs_y1 = process_dsfs(df_claim_y1)\n",
    "df_dsfs_y2 = process_dsfs(df_claim_y2)\n",
    "df_dsfs_y12 = process_dsfs(df_claim_y12)"
   ]
  },
  {
   "cell_type": "code",
   "execution_count": 44,
   "metadata": {},
   "outputs": [],
   "source": [
    "df_dsfs_y1.to_csv(\"./processed/DSFS_Y1.csv\")\n",
    "df_dsfs_y2.to_csv(\"./processed/DSFS_Y2.csv\")\n",
    "df_dsfs_y12.to_csv(\"./processed/DSFS_Y12.csv\")"
   ]
  },
  {
   "source": [
    "## CharlsonIndex"
   ],
   "cell_type": "markdown",
   "metadata": {}
  },
  {
   "cell_type": "code",
   "execution_count": null,
   "metadata": {},
   "outputs": [],
   "source": [
    "Calculate some metrics `min`, `max`, `avg` of `CharlsonIndex` in `Y1`, `Y2`, `Y1-Y2`"
   ]
  },
  {
   "cell_type": "code",
   "execution_count": 45,
   "metadata": {},
   "outputs": [],
   "source": [
    "def process_charlsonindex(df):\n",
    "    ch_min = df.groupby([\"MemberID\"])[\"CharlsonIndex\"].min()\n",
    "    ch_max = df.groupby([\"MemberID\"])[\"CharlsonIndex\"].max()\n",
    "    ch_avg = df.groupby([\"MemberID\"])[\"CharlsonIndex\"].mean()\n",
    "\n",
    "    return pd.concat([\n",
    "        pd.DataFrame(np.array(ch_min).T, columns=[\"CharlsonIndexMin\"], index=ch_min.index),\n",
    "        pd.DataFrame(np.array(ch_max).T, columns=[\"CharlsonIndexMax\"], index=ch_max.index),\n",
    "        pd.DataFrame(np.array(ch_avg).T, columns=[\"CharlsonIndexAvg\"], index=ch_avg.index),\n",
    "    ], axis=1)"
   ]
  },
  {
   "cell_type": "code",
   "execution_count": 46,
   "metadata": {},
   "outputs": [],
   "source": [
    "df_ch_y1 = process_charlsonindex(df_claim_y1)\n",
    "df_ch_y2 = process_charlsonindex(df_claim_y2)\n",
    "df_ch_y12 = process_charlsonindex(df_claim_y12)"
   ]
  },
  {
   "cell_type": "code",
   "execution_count": 47,
   "metadata": {},
   "outputs": [],
   "source": [
    "df_ch_y1.to_csv(\"./processed/CharlsonIndex_Y1.csv\")\n",
    "df_ch_y2.to_csv(\"./processed/CharlsonIndex_Y2.csv\")\n",
    "df_ch_y12.to_csv(\"./processed/CharlsonIndex_Y12.csv\")"
   ]
  },
  {
   "source": [
    "## PrimaryConditionGroup"
   ],
   "cell_type": "markdown",
   "metadata": {}
  },
  {
   "source": [
    "Count each kind of `PrimaryConditionGroup` each `MemberID` in `Y1`, `Y2`, `Y1-Y2`"
   ],
   "cell_type": "markdown",
   "metadata": {}
  },
  {
   "cell_type": "code",
   "execution_count": 48,
   "metadata": {},
   "outputs": [],
   "source": [
    "pcg_unique_y1 = list(df_claim_y1[\"PrimaryConditionGroup\"].unique())\n",
    "pcg_unique_y2 = list(df_claim_y2[\"PrimaryConditionGroup\"].unique())\n",
    "pcg_unique_y12 = list(df_claim_y12[\"PrimaryConditionGroup\"].unique())"
   ]
  },
  {
   "cell_type": "code",
   "execution_count": 49,
   "metadata": {},
   "outputs": [
    {
     "output_type": "stream",
     "name": "stdout",
     "text": [
      "Processed: 0/76038\n",
      "Processed: 10000/76038\n",
      "Processed: 20000/76038\n",
      "Processed: 30000/76038\n",
      "Processed: 40000/76038\n",
      "Processed: 50000/76038\n",
      "Processed: 60000/76038\n",
      "Processed: 70000/76038\n",
      "Processed: 76038/76038 DONE\n",
      "Processed: 0/71435\n",
      "Processed: 10000/71435\n",
      "Processed: 20000/71435\n",
      "Processed: 30000/71435\n",
      "Processed: 40000/71435\n",
      "Processed: 50000/71435\n",
      "Processed: 60000/71435\n",
      "Processed: 70000/71435\n",
      "Processed: 71435/71435 DONE\n",
      "Processed: 0/95507\n",
      "Processed: 10000/95507\n",
      "Processed: 20000/95507\n",
      "Processed: 30000/95507\n",
      "Processed: 40000/95507\n",
      "Processed: 50000/95507\n",
      "Processed: 60000/95507\n",
      "Processed: 70000/95507\n",
      "Processed: 80000/95507\n",
      "Processed: 90000/95507\n",
      "Processed: 95507/95507 DONE\n",
      "CPU times: user 16min, sys: 14.8 s, total: 16min 15s\n",
      "Wall time: 23min 14s\n"
     ]
    }
   ],
   "source": [
    "%%time\n",
    "df_pcg_count_y1 = one_hot_count(\"MemberID\", \"PrimaryConditionGroup\", df_claim_y1, pcg_unique_y1)\n",
    "df_pcg_count_y2 = one_hot_count(\"MemberID\", \"PrimaryConditionGroup\", df_claim_y2, pcg_unique_y2)\n",
    "df_pcg_count_y12 = one_hot_count(\"MemberID\", \"PrimaryConditionGroup\", df_claim_y12, pcg_unique_y12)"
   ]
  },
  {
   "cell_type": "code",
   "execution_count": 50,
   "metadata": {},
   "outputs": [],
   "source": [
    "df_pcg_count_y1.to_csv(\"./processed/PrimaryConditionGroup_Y1.csv\")\n",
    "df_pcg_count_y2.to_csv(\"./processed/PrimaryConditionGroup_Y2.csv\")\n",
    "df_pcg_count_y12.to_csv(\"./processed/PrimaryConditionGroup_Y12.csv\")"
   ]
  },
  {
   "source": [
    "## ProcedureGroup"
   ],
   "cell_type": "markdown",
   "metadata": {}
  },
  {
   "source": [
    "Count each kind of `ProcedureGroup` each `MemberID` in `Y1`, `Y2`, `Y1-Y2`"
   ],
   "cell_type": "markdown",
   "metadata": {}
  },
  {
   "cell_type": "code",
   "execution_count": 51,
   "metadata": {},
   "outputs": [],
   "source": [
    "pg_unique_y1 = list(df_claim_y1[\"ProcedureGroup\"].unique())\n",
    "pg_unique_y2 = list(df_claim_y2[\"ProcedureGroup\"].unique())\n",
    "pg_unique_y12 = list(df_claim_y12[\"ProcedureGroup\"].unique())"
   ]
  },
  {
   "cell_type": "code",
   "execution_count": 52,
   "metadata": {},
   "outputs": [
    {
     "output_type": "stream",
     "name": "stdout",
     "text": [
      "Processed: 0/76038\n",
      "Processed: 10000/76038\n",
      "Processed: 20000/76038\n",
      "Processed: 30000/76038\n",
      "Processed: 40000/76038\n",
      "Processed: 50000/76038\n",
      "Processed: 60000/76038\n",
      "Processed: 70000/76038\n",
      "Processed: 76038/76038 DONE\n",
      "Processed: 0/71435\n",
      "Processed: 10000/71435\n",
      "Processed: 20000/71435\n",
      "Processed: 30000/71435\n",
      "Processed: 40000/71435\n",
      "Processed: 50000/71435\n",
      "Processed: 60000/71435\n",
      "Processed: 70000/71435\n",
      "Processed: 71435/71435 DONE\n",
      "Processed: 0/95507\n",
      "Processed: 10000/95507\n",
      "Processed: 20000/95507\n",
      "Processed: 30000/95507\n",
      "Processed: 40000/95507\n",
      "Processed: 50000/95507\n",
      "Processed: 60000/95507\n",
      "Processed: 70000/95507\n",
      "Processed: 80000/95507\n",
      "Processed: 90000/95507\n",
      "Processed: 95507/95507 DONE\n",
      "CPU times: user 9min 35s, sys: 9.96 s, total: 9min 45s\n",
      "Wall time: 14min 35s\n"
     ]
    }
   ],
   "source": [
    "%%time\n",
    "df_pg_count_y1 = one_hot_count(\"MemberID\", \"ProcedureGroup\", df_claim_y1, pg_unique_y1)\n",
    "df_pg_count_y2 = one_hot_count(\"MemberID\", \"ProcedureGroup\", df_claim_y2, pg_unique_y2)\n",
    "df_pg_count_y12 = one_hot_count(\"MemberID\", \"ProcedureGroup\", df_claim_y12, pg_unique_y12)"
   ]
  },
  {
   "cell_type": "code",
   "execution_count": 53,
   "metadata": {},
   "outputs": [],
   "source": [
    "df_pg_count_y1.to_csv(\"./processed/ProcedureGroup_Y1.csv\")\n",
    "df_pg_count_y2.to_csv(\"./processed/ProcedureGroup_Y2.csv\")\n",
    "df_pg_count_y12.to_csv(\"./processed/ProcedureGroup_Y12.csv\")"
   ]
  },
  {
   "source": [
    "## LabCount"
   ],
   "cell_type": "markdown",
   "metadata": {}
  },
  {
   "cell_type": "code",
   "execution_count": 54,
   "metadata": {},
   "outputs": [
    {
     "output_type": "stream",
     "name": "stdout",
     "text": [
      "(120162, 4)\n(122416, 4)\n(242578, 4)\n"
     ]
    }
   ],
   "source": [
    "df_lab_y1 = df_lab[df_lab[\"Year\"] == \"Y1\"]\n",
    "print(df_lab_y1.shape)\n",
    "df_lab_y2 = df_lab[df_lab[\"Year\"] == \"Y2\"]\n",
    "print(df_lab_y2.shape)\n",
    "df_lab_y12 = df_lab[(df_lab[\"Year\"] == \"Y1\") | (df_lab[\"Year\"] == \"Y2\")]\n",
    "print(df_lab_y12.shape)"
   ]
  },
  {
   "source": [
    "Calculate some metrics `min`, `max`, `avg`, `std`, `sum` of `LabCount` in `Y1`, `Y2`, `Y1-Y2`"
   ],
   "cell_type": "markdown",
   "metadata": {}
  },
  {
   "cell_type": "code",
   "execution_count": 157,
   "metadata": {},
   "outputs": [],
   "source": [
    "def process_lab(df):\n",
    "    lab_min = df.groupby([\"MemberID\"])[\"LabCount\"].min()\n",
    "    lab_max = df.groupby([\"MemberID\"])[\"LabCount\"].max()\n",
    "    lab_avg = df.groupby([\"MemberID\"])[\"LabCount\"].mean()\n",
    "    lab_std = df.groupby([\"MemberID\"])[\"LabCount\"].std()\n",
    "    lab_sum = df.groupby([\"MemberID\"])[\"LabCount\"].sum()\n",
    "    lab_claim_count = df.groupby([\"MemberID\"])[\"MemberID\"].count()\n",
    "\n",
    "    result = pd.concat([\n",
    "        pd.DataFrame(np.array(lab_min).T, columns=[\"LabCountMin\"], index=lab_min.index),\n",
    "        pd.DataFrame(np.array(lab_max).T, columns=[\"LabCountMax\"], index=lab_max.index),\n",
    "        pd.DataFrame(np.array(lab_avg).T, columns=[\"LabCountAvg\"], index=lab_avg.index),\n",
    "        pd.DataFrame(np.array(lab_std).T, columns=[\"LabCountStd\"], index=lab_std.index),\n",
    "        pd.DataFrame(np.array(lab_sum).T, columns=[\"LabCountSum\"], index=lab_sum.index),\n",
    "        pd.DataFrame(np.array(lab_claim_count).T, columns=[\"LabClaimCount\"], index=lab_claim_count.index),\n",
    "    ], axis=1)\n",
    "    result[\"LabCountStd\"].fillna(-1.0)\n",
    "    result.fillna(0.0)\n",
    "    return result\n"
   ]
  },
  {
   "cell_type": "code",
   "execution_count": 158,
   "metadata": {},
   "outputs": [
    {
     "output_type": "stream",
     "name": "stdout",
     "text": [
      "CPU times: user 384 ms, sys: 62.8 ms, total: 447 ms\nWall time: 998 ms\n"
     ]
    }
   ],
   "source": [
    "%%time\n",
    "df_lab_count_y1 = process_lab(df_lab_y1)\n",
    "df_lab_count_y2 = process_lab(df_lab_y2)\n",
    "df_lab_count_y12 = process_lab(df_lab_y12)"
   ]
  },
  {
   "cell_type": "code",
   "execution_count": 159,
   "metadata": {},
   "outputs": [],
   "source": [
    "df_lab_count_y1.to_csv(\"./processed/LabCount_Y1.csv\")\n",
    "df_lab_count_y2.to_csv(\"./processed/LabCount_Y2.csv\")\n",
    "df_lab_count_y12.to_csv(\"./processed/LabCount_Y12.csv\")"
   ]
  },
  {
   "source": [
    "## DrugCount"
   ],
   "cell_type": "markdown",
   "metadata": {}
  },
  {
   "cell_type": "code",
   "execution_count": 58,
   "metadata": {},
   "outputs": [
    {
     "output_type": "stream",
     "name": "stdout",
     "text": [
      "(281619, 4)\n",
      "(276027, 4)\n",
      "(557646, 4)\n"
     ]
    }
   ],
   "source": [
    "df_drug_y1 = df_drug[df_drug[\"Year\"] == \"Y1\"]\n",
    "print(df_drug_y1.shape)\n",
    "df_drug_y2 = df_drug[df_drug[\"Year\"] == \"Y2\"]\n",
    "print(df_drug_y2.shape)\n",
    "df_drug_y12 = df_drug[(df_drug[\"Year\"] == \"Y1\") | (df_drug[\"Year\"] == \"Y2\")]\n",
    "print(df_drug_y12.shape)"
   ]
  },
  {
   "source": [
    "Calculate some metrics `min`, `max`, `avg`, `std`, `sum` of `DrugCount` in `Y1`, `Y2`, `Y1-Y2`"
   ],
   "cell_type": "markdown",
   "metadata": {}
  },
  {
   "cell_type": "code",
   "execution_count": 156,
   "metadata": {},
   "outputs": [],
   "source": [
    "def process_drug(df):\n",
    "    drug_min = df.groupby([\"MemberID\"])[\"DrugCount\"].min()\n",
    "    drug_max = df.groupby([\"MemberID\"])[\"DrugCount\"].max()\n",
    "    drug_avg = df.groupby([\"MemberID\"])[\"DrugCount\"].mean()\n",
    "    drug_std = df.groupby([\"MemberID\"])[\"DrugCount\"].std()\n",
    "    drug_sum = df.groupby([\"MemberID\"])[\"DrugCount\"].sum()\n",
    "    drug_claim_count = df.groupby([\"MemberID\"])[\"DrugCount\"].count()\n",
    "\n",
    "    result = pd.concat([\n",
    "        pd.DataFrame(np.array(drug_min).T, columns=[\"DrugCountMin\"], index=drug_min.index),\n",
    "        pd.DataFrame(np.array(drug_max).T, columns=[\"DrugCountMax\"], index=drug_max.index),\n",
    "        pd.DataFrame(np.array(drug_avg).T, columns=[\"DrugCountAvg\"], index=drug_avg.index),\n",
    "        pd.DataFrame(np.array(drug_std).T, columns=[\"DrugCountStd\"], index=drug_std.index),\n",
    "        pd.DataFrame(np.array(drug_sum).T, columns=[\"DrugCountSum\"], index=drug_sum.index),\n",
    "        pd.DataFrame(np.array(drug_claim_count).T, columns=[\"DrugClaimCount\"], index=drug_claim_count.index),\n",
    "    ], axis=1)\n",
    "    result[\"DrugCountStd\"].fillna(-1.0)\n",
    "    result.fillna(0.0)\n",
    "    return result\n"
   ]
  },
  {
   "cell_type": "code",
   "execution_count": 160,
   "metadata": {},
   "outputs": [
    {
     "output_type": "stream",
     "name": "stdout",
     "text": [
      "CPU times: user 543 ms, sys: 111 ms, total: 653 ms\nWall time: 1.56 s\n"
     ]
    }
   ],
   "source": [
    "%%time\n",
    "df_drug_count_y1 = process_drug(df_drug_y1)\n",
    "df_drug_count_y2 = process_drug(df_drug_y2)\n",
    "df_drug_count_y12 = process_drug(df_drug_y12)"
   ]
  },
  {
   "cell_type": "code",
   "execution_count": 161,
   "metadata": {},
   "outputs": [],
   "source": [
    "df_drug_count_y1.to_csv(\"./processed/DrugCount_Y1.csv\")\n",
    "df_drug_count_y2.to_csv(\"./processed/DrugCount_Y2.csv\")\n",
    "df_drug_count_y12.to_csv(\"./processed/DrugCount_Y12.csv\")"
   ]
  },
  {
   "source": [
    "## Build Strategy A dataset"
   ],
   "cell_type": "markdown",
   "metadata": {}
  },
  {
   "cell_type": "code",
   "execution_count": 62,
   "metadata": {},
   "outputs": [],
   "source": [
    "df_dih_y2 = pd.read_csv(\"./data/DaysInHospital_Y2.csv\", index_col=[\"MemberID\"])"
   ]
  },
  {
   "cell_type": "code",
   "execution_count": 162,
   "metadata": {},
   "outputs": [],
   "source": [
    "df_a_y1 = pd.concat([\n",
    "        df_member,\n",
    "        df_claim_count_y1,\n",
    "        df_pvd_count_y1,\n",
    "        df_v_count_y1,\n",
    "        df_pcp_count_y1,\n",
    "        df_spe_count_y1,\n",
    "        df_psvc_count_y1,\n",
    "        df_pdl_y1,\n",
    "        df_los_y1,\n",
    "        df_dsfs_y1,\n",
    "        df_ch_y1,\n",
    "        df_pcg_count_y1,\n",
    "        df_pg_count_y1,\n",
    "        df_lab_count_y1,\n",
    "        df_drug_count_y1,\n",
    "        df_dih_y2[\"DaysInHospital\"]\n",
    "    ], axis=1)"
   ]
  },
  {
   "cell_type": "code",
   "execution_count": 129,
   "metadata": {},
   "outputs": [
    {
     "output_type": "execute_result",
     "data": {
      "text/plain": [
       "         AgeAtFirstClaim  Sex  ClaimCount  ProviderID  Vendor  PCP  \\\n",
       "MemberID                                                             \n",
       "4                      5    M         NaN         NaN     NaN  NaN   \n",
       "210                   35  NaN         8.0         4.0     4.0  2.0   \n",
       "3197                   5    F         5.0         3.0     3.0  1.0   \n",
       "3457                   5    M         NaN         NaN     NaN  NaN   \n",
       "3713                  45    F         NaN         NaN     NaN  NaN   \n",
       "...                  ...  ...         ...         ...     ...  ...   \n",
       "99996214              45    M         1.0         1.0     1.0  1.0   \n",
       "99997485              15    M         1.0         1.0     1.0  1.0   \n",
       "99997895              45    M        14.0         5.0     4.0  1.0   \n",
       "99998627              35    F        10.0         7.0     7.0  1.0   \n",
       "99998824              35    F         NaN         NaN     NaN  NaN   \n",
       "\n",
       "          SpecialtyCount_Surgery  SpecialtyCount_Rehabilitation  \\\n",
       "MemberID                                                          \n",
       "4                            NaN                            NaN   \n",
       "210                          0.0                            0.0   \n",
       "3197                         0.0                            0.0   \n",
       "3457                         NaN                            NaN   \n",
       "3713                         NaN                            NaN   \n",
       "...                          ...                            ...   \n",
       "99996214                     0.0                            0.0   \n",
       "99997485                     0.0                            0.0   \n",
       "99997895                     2.0                            0.0   \n",
       "99998627                     0.0                            0.0   \n",
       "99998824                     NaN                            NaN   \n",
       "\n",
       "          SpecialtyCount_Diagnostic Imaging  SpecialtyCount_Emergency  ...  \\\n",
       "MemberID                                                               ...   \n",
       "4                                       NaN                       NaN  ...   \n",
       "210                                     0.0                       2.0  ...   \n",
       "3197                                    0.0                       2.0  ...   \n",
       "3457                                    NaN                       NaN  ...   \n",
       "3713                                    NaN                       NaN  ...   \n",
       "...                                     ...                       ...  ...   \n",
       "99996214                                0.0                       0.0  ...   \n",
       "99997485                                0.0                       0.0  ...   \n",
       "99997895                                1.0                       0.0  ...   \n",
       "99998627                                1.0                       0.0  ...   \n",
       "99998824                                NaN                       NaN  ...   \n",
       "\n",
       "          LabCountStd  LabCountSum  LabClaimCount  DrugCountMin  DrugCountMax  \\\n",
       "MemberID                                                                        \n",
       "4                 NaN          NaN            NaN           NaN           NaN   \n",
       "210          0.000000          2.0            1.0           1.0           2.0   \n",
       "3197              NaN          NaN            NaN           1.0           2.0   \n",
       "3457              NaN          NaN            NaN           NaN           NaN   \n",
       "3713              NaN          NaN            NaN           NaN           NaN   \n",
       "...               ...          ...            ...           ...           ...   \n",
       "99996214          NaN          NaN            NaN           NaN           NaN   \n",
       "99997485          NaN          NaN            NaN           NaN           NaN   \n",
       "99997895     1.414214         10.0            2.0           NaN           NaN   \n",
       "99998627     0.000000          5.0            1.0           1.0           1.0   \n",
       "99998824          NaN          NaN            NaN           NaN           NaN   \n",
       "\n",
       "          DrugCountAvg  DrugCountStd  DrugCountSum  DrugClaimCount  \\\n",
       "MemberID                                                             \n",
       "4                  NaN           NaN           NaN             NaN   \n",
       "210           1.666667       0.57735           5.0             3.0   \n",
       "3197          1.250000       0.50000           5.0             4.0   \n",
       "3457               NaN           NaN           NaN             NaN   \n",
       "3713               NaN           NaN           NaN             NaN   \n",
       "...                ...           ...           ...             ...   \n",
       "99996214           NaN           NaN           NaN             NaN   \n",
       "99997485           NaN           NaN           NaN             NaN   \n",
       "99997895           NaN           NaN           NaN             NaN   \n",
       "99998627      1.000000       0.00000           1.0             1.0   \n",
       "99998824           NaN           NaN           NaN             NaN   \n",
       "\n",
       "          DaysInHospital  \n",
       "MemberID                  \n",
       "4                    NaN  \n",
       "210                  0.0  \n",
       "3197                 0.0  \n",
       "3457                 NaN  \n",
       "3713                 NaN  \n",
       "...                  ...  \n",
       "99996214             0.0  \n",
       "99997485             0.0  \n",
       "99997895             0.0  \n",
       "99998627             0.0  \n",
       "99998824             NaN  \n",
       "\n",
       "[113000 rows x 121 columns]"
      ],
      "text/html": "<div>\n<style scoped>\n    .dataframe tbody tr th:only-of-type {\n        vertical-align: middle;\n    }\n\n    .dataframe tbody tr th {\n        vertical-align: top;\n    }\n\n    .dataframe thead th {\n        text-align: right;\n    }\n</style>\n<table border=\"1\" class=\"dataframe\">\n  <thead>\n    <tr style=\"text-align: right;\">\n      <th></th>\n      <th>AgeAtFirstClaim</th>\n      <th>Sex</th>\n      <th>ClaimCount</th>\n      <th>ProviderID</th>\n      <th>Vendor</th>\n      <th>PCP</th>\n      <th>SpecialtyCount_Surgery</th>\n      <th>SpecialtyCount_Rehabilitation</th>\n      <th>SpecialtyCount_Diagnostic Imaging</th>\n      <th>SpecialtyCount_Emergency</th>\n      <th>...</th>\n      <th>LabCountStd</th>\n      <th>LabCountSum</th>\n      <th>LabClaimCount</th>\n      <th>DrugCountMin</th>\n      <th>DrugCountMax</th>\n      <th>DrugCountAvg</th>\n      <th>DrugCountStd</th>\n      <th>DrugCountSum</th>\n      <th>DrugClaimCount</th>\n      <th>DaysInHospital</th>\n    </tr>\n    <tr>\n      <th>MemberID</th>\n      <th></th>\n      <th></th>\n      <th></th>\n      <th></th>\n      <th></th>\n      <th></th>\n      <th></th>\n      <th></th>\n      <th></th>\n      <th></th>\n      <th></th>\n      <th></th>\n      <th></th>\n      <th></th>\n      <th></th>\n      <th></th>\n      <th></th>\n      <th></th>\n      <th></th>\n      <th></th>\n      <th></th>\n    </tr>\n  </thead>\n  <tbody>\n    <tr>\n      <th>4</th>\n      <td>5</td>\n      <td>M</td>\n      <td>NaN</td>\n      <td>NaN</td>\n      <td>NaN</td>\n      <td>NaN</td>\n      <td>NaN</td>\n      <td>NaN</td>\n      <td>NaN</td>\n      <td>NaN</td>\n      <td>...</td>\n      <td>NaN</td>\n      <td>NaN</td>\n      <td>NaN</td>\n      <td>NaN</td>\n      <td>NaN</td>\n      <td>NaN</td>\n      <td>NaN</td>\n      <td>NaN</td>\n      <td>NaN</td>\n      <td>NaN</td>\n    </tr>\n    <tr>\n      <th>210</th>\n      <td>35</td>\n      <td>NaN</td>\n      <td>8.0</td>\n      <td>4.0</td>\n      <td>4.0</td>\n      <td>2.0</td>\n      <td>0.0</td>\n      <td>0.0</td>\n      <td>0.0</td>\n      <td>2.0</td>\n      <td>...</td>\n      <td>0.000000</td>\n      <td>2.0</td>\n      <td>1.0</td>\n      <td>1.0</td>\n      <td>2.0</td>\n      <td>1.666667</td>\n      <td>0.57735</td>\n      <td>5.0</td>\n      <td>3.0</td>\n      <td>0.0</td>\n    </tr>\n    <tr>\n      <th>3197</th>\n      <td>5</td>\n      <td>F</td>\n      <td>5.0</td>\n      <td>3.0</td>\n      <td>3.0</td>\n      <td>1.0</td>\n      <td>0.0</td>\n      <td>0.0</td>\n      <td>0.0</td>\n      <td>2.0</td>\n      <td>...</td>\n      <td>NaN</td>\n      <td>NaN</td>\n      <td>NaN</td>\n      <td>1.0</td>\n      <td>2.0</td>\n      <td>1.250000</td>\n      <td>0.50000</td>\n      <td>5.0</td>\n      <td>4.0</td>\n      <td>0.0</td>\n    </tr>\n    <tr>\n      <th>3457</th>\n      <td>5</td>\n      <td>M</td>\n      <td>NaN</td>\n      <td>NaN</td>\n      <td>NaN</td>\n      <td>NaN</td>\n      <td>NaN</td>\n      <td>NaN</td>\n      <td>NaN</td>\n      <td>NaN</td>\n      <td>...</td>\n      <td>NaN</td>\n      <td>NaN</td>\n      <td>NaN</td>\n      <td>NaN</td>\n      <td>NaN</td>\n      <td>NaN</td>\n      <td>NaN</td>\n      <td>NaN</td>\n      <td>NaN</td>\n      <td>NaN</td>\n    </tr>\n    <tr>\n      <th>3713</th>\n      <td>45</td>\n      <td>F</td>\n      <td>NaN</td>\n      <td>NaN</td>\n      <td>NaN</td>\n      <td>NaN</td>\n      <td>NaN</td>\n      <td>NaN</td>\n      <td>NaN</td>\n      <td>NaN</td>\n      <td>...</td>\n      <td>NaN</td>\n      <td>NaN</td>\n      <td>NaN</td>\n      <td>NaN</td>\n      <td>NaN</td>\n      <td>NaN</td>\n      <td>NaN</td>\n      <td>NaN</td>\n      <td>NaN</td>\n      <td>NaN</td>\n    </tr>\n    <tr>\n      <th>...</th>\n      <td>...</td>\n      <td>...</td>\n      <td>...</td>\n      <td>...</td>\n      <td>...</td>\n      <td>...</td>\n      <td>...</td>\n      <td>...</td>\n      <td>...</td>\n      <td>...</td>\n      <td>...</td>\n      <td>...</td>\n      <td>...</td>\n      <td>...</td>\n      <td>...</td>\n      <td>...</td>\n      <td>...</td>\n      <td>...</td>\n      <td>...</td>\n      <td>...</td>\n      <td>...</td>\n    </tr>\n    <tr>\n      <th>99996214</th>\n      <td>45</td>\n      <td>M</td>\n      <td>1.0</td>\n      <td>1.0</td>\n      <td>1.0</td>\n      <td>1.0</td>\n      <td>0.0</td>\n      <td>0.0</td>\n      <td>0.0</td>\n      <td>0.0</td>\n      <td>...</td>\n      <td>NaN</td>\n      <td>NaN</td>\n      <td>NaN</td>\n      <td>NaN</td>\n      <td>NaN</td>\n      <td>NaN</td>\n      <td>NaN</td>\n      <td>NaN</td>\n      <td>NaN</td>\n      <td>0.0</td>\n    </tr>\n    <tr>\n      <th>99997485</th>\n      <td>15</td>\n      <td>M</td>\n      <td>1.0</td>\n      <td>1.0</td>\n      <td>1.0</td>\n      <td>1.0</td>\n      <td>0.0</td>\n      <td>0.0</td>\n      <td>0.0</td>\n      <td>0.0</td>\n      <td>...</td>\n      <td>NaN</td>\n      <td>NaN</td>\n      <td>NaN</td>\n      <td>NaN</td>\n      <td>NaN</td>\n      <td>NaN</td>\n      <td>NaN</td>\n      <td>NaN</td>\n      <td>NaN</td>\n      <td>0.0</td>\n    </tr>\n    <tr>\n      <th>99997895</th>\n      <td>45</td>\n      <td>M</td>\n      <td>14.0</td>\n      <td>5.0</td>\n      <td>4.0</td>\n      <td>1.0</td>\n      <td>2.0</td>\n      <td>0.0</td>\n      <td>1.0</td>\n      <td>0.0</td>\n      <td>...</td>\n      <td>1.414214</td>\n      <td>10.0</td>\n      <td>2.0</td>\n      <td>NaN</td>\n      <td>NaN</td>\n      <td>NaN</td>\n      <td>NaN</td>\n      <td>NaN</td>\n      <td>NaN</td>\n      <td>0.0</td>\n    </tr>\n    <tr>\n      <th>99998627</th>\n      <td>35</td>\n      <td>F</td>\n      <td>10.0</td>\n      <td>7.0</td>\n      <td>7.0</td>\n      <td>1.0</td>\n      <td>0.0</td>\n      <td>0.0</td>\n      <td>1.0</td>\n      <td>0.0</td>\n      <td>...</td>\n      <td>0.000000</td>\n      <td>5.0</td>\n      <td>1.0</td>\n      <td>1.0</td>\n      <td>1.0</td>\n      <td>1.000000</td>\n      <td>0.00000</td>\n      <td>1.0</td>\n      <td>1.0</td>\n      <td>0.0</td>\n    </tr>\n    <tr>\n      <th>99998824</th>\n      <td>35</td>\n      <td>F</td>\n      <td>NaN</td>\n      <td>NaN</td>\n      <td>NaN</td>\n      <td>NaN</td>\n      <td>NaN</td>\n      <td>NaN</td>\n      <td>NaN</td>\n      <td>NaN</td>\n      <td>...</td>\n      <td>NaN</td>\n      <td>NaN</td>\n      <td>NaN</td>\n      <td>NaN</td>\n      <td>NaN</td>\n      <td>NaN</td>\n      <td>NaN</td>\n      <td>NaN</td>\n      <td>NaN</td>\n      <td>NaN</td>\n    </tr>\n  </tbody>\n</table>\n<p>113000 rows × 121 columns</p>\n</div>"
     },
     "metadata": {},
     "execution_count": 129
    }
   ],
   "source": [
    "df_a_y1"
   ]
  },
  {
   "cell_type": "code",
   "execution_count": 163,
   "metadata": {},
   "outputs": [],
   "source": [
    "df_a_y1 = df_a_y1[df_a_y1[\"DaysInHospital\"].notna()]"
   ]
  },
  {
   "cell_type": "code",
   "execution_count": 164,
   "metadata": {},
   "outputs": [],
   "source": [
    "df_a_y1.to_csv(\"./processed/DatasetATrain.csv\")"
   ]
  },
  {
   "cell_type": "code",
   "execution_count": 72,
   "metadata": {},
   "outputs": [],
   "source": [
    "df_dih_y3 = pd.read_csv(\"./data/DaysInHospital_Y3.csv\", index_col=[\"MemberID\"])"
   ]
  },
  {
   "cell_type": "code",
   "execution_count": 165,
   "metadata": {},
   "outputs": [],
   "source": [
    "df_a_y2 = pd.concat([\n",
    "        df_member,\n",
    "        df_claim_count_y2,\n",
    "        df_pvd_count_y2,\n",
    "        df_v_count_y2,\n",
    "        df_pcp_count_y2,\n",
    "        df_spe_count_y2,\n",
    "        df_psvc_count_y2,\n",
    "        df_pdl_y2,\n",
    "        df_los_y2,\n",
    "        df_dsfs_y2,\n",
    "        df_ch_y2,\n",
    "        df_pcg_count_y2,\n",
    "        df_pg_count_y2,\n",
    "        df_lab_count_y2,\n",
    "        df_drug_count_y2,\n",
    "        df_dih_y3[\"DaysInHospital\"]\n",
    "    ], axis=1)"
   ]
  },
  {
   "cell_type": "code",
   "execution_count": 166,
   "metadata": {},
   "outputs": [],
   "source": [
    "df_a_y2 = df_a_y2[df_a_y2[\"DaysInHospital\"].notna()]"
   ]
  },
  {
   "cell_type": "code",
   "execution_count": 167,
   "metadata": {},
   "outputs": [],
   "source": [
    "df_a_y2.to_csv(\"./processed/DatasetATest.csv\")"
   ]
  },
  {
   "source": [
    "## Build Strategy B dataset"
   ],
   "cell_type": "markdown",
   "metadata": {}
  },
  {
   "cell_type": "code",
   "execution_count": 172,
   "metadata": {},
   "outputs": [],
   "source": [
    "df_b = pd.concat([\n",
    "        df_member,\n",
    "        df_claim_count_y12,\n",
    "        pd.DataFrame(list(df_claim_count_y2[\"ClaimCount\"]), columns=[\"ClaimCountLatestYear\"], index=df_claim_count_y2.index),\n",
    "        df_pvd_count_y12,\n",
    "        pd.DataFrame(list(df_pvd_count_y2[\"ProviderID\"]), columns=[\"ProviderCountLatestYear\"], index=df_pvd_count_y2.index),\n",
    "        df_v_count_y12,\n",
    "        pd.DataFrame(list(df_v_count_y2[\"Vendor\"]), columns=[\"VendorCountLatestYear\"], index=df_v_count_y2.index),\n",
    "        df_pcp_count_y12,\n",
    "        pd.DataFrame(list(df_pcp_count_y2[\"PCP\"]), columns=[\"PCPCountLatestYear\"], index=df_pcp_count_y2.index),\n",
    "        df_spe_count_y12,\n",
    "        df_psvc_count_y12,\n",
    "        df_pdl_y12,\n",
    "        pd.DataFrame(df_pdl_y2.to_numpy(), columns=map(lambda x: x + \"LatestYear\", df_pdl_y2.columns), index=df_pdl_y2.index),\n",
    "        df_los_y12,\n",
    "        pd.DataFrame(df_los_y2[[\"LengthOfStaySum\", \"LengthOfStayMax\", \"LengthOfStayCountNan\"]].to_numpy(), columns=[\"LengthOfStaySumLatestYear\", \"LengthOfStayMaxLatestYear\", \"LengthOfStayCountNanLatestYear\"], index=df_los_y2.index),\n",
    "        df_dsfs_y12,\n",
    "        pd.DataFrame(list(df_dsfs_y2[\"DSFSMax\"]), columns=[\"DSFSMaxLatestYear\"], index=df_dsfs_y2.index),\n",
    "        df_ch_y12,\n",
    "        pd.DataFrame(list(df_ch_y2[\"CharlsonIndexMax\"]), columns=[\"CharlsonIndexMaxLatestYear\"], index=df_ch_y2.index),\n",
    "        df_pcg_count_y12,\n",
    "        df_pg_count_y12,\n",
    "        df_lab_count_y12,\n",
    "        pd.DataFrame(df_lab_count_y2[[\"LabCountSum\",\"LabClaimCount\"]].to_numpy(), columns=[\"LabCountSumLatestYear\", \"LabClaimCountLatestYear\"], index=df_lab_count_y2.index),\n",
    "        df_drug_count_y12,\n",
    "        pd.DataFrame(df_drug_count_y2[[\"DrugCountSum\",\"DrugClaimCount\"]].to_numpy(), columns=[\"DrugCountSumLatestYear\", \"DrugClaimCountLatestYear\"], index=df_drug_count_y2.index),\n",
    "        df_dih_y3[\"DaysInHospital\"]\n",
    "    ], axis=1)"
   ]
  },
  {
   "cell_type": "code",
   "execution_count": 173,
   "metadata": {},
   "outputs": [],
   "source": [
    "df_b = df_b[df_b[\"DaysInHospital\"].notna()]"
   ]
  },
  {
   "cell_type": "code",
   "execution_count": 170,
   "metadata": {},
   "outputs": [
    {
     "output_type": "execute_result",
     "data": {
      "text/plain": [
       "         AgeAtFirstClaim  Sex  ClaimCount  ClaimCountLatestYear  ProviderID  \\\n",
       "MemberID                                                                      \n",
       "4                      5    M         1.0                   1.0         1.0   \n",
       "210                   35  NaN        14.0                   6.0         5.0   \n",
       "3197                   5    F        10.0                   5.0         6.0   \n",
       "3457                   5    M         1.0                   1.0         1.0   \n",
       "3713                  45    F        10.0                  10.0         5.0   \n",
       "...                  ...  ...         ...                   ...         ...   \n",
       "99985996              -1    F         5.0                   5.0         2.0   \n",
       "99987030              25    M         4.0                   4.0         3.0   \n",
       "99995391              65  NaN        11.0                  11.0         2.0   \n",
       "99995554              45    M        50.0                  15.0         3.0   \n",
       "99998824              35    F         8.0                   8.0         5.0   \n",
       "\n",
       "          ProviderCountLatestYear  Vendor  VendorCountLatestYear  PCP  \\\n",
       "MemberID                                                                \n",
       "4                             1.0     1.0                    1.0  1.0   \n",
       "210                           3.0     5.0                    3.0  2.0   \n",
       "3197                          4.0     5.0                    3.0  1.0   \n",
       "3457                          1.0     1.0                    1.0  1.0   \n",
       "3713                          5.0     5.0                    5.0  2.0   \n",
       "...                           ...     ...                    ...  ...   \n",
       "99985996                      2.0     2.0                    2.0  1.0   \n",
       "99987030                      3.0     2.0                    2.0  1.0   \n",
       "99995391                      2.0     2.0                    2.0  1.0   \n",
       "99995554                      3.0     3.0                    3.0  1.0   \n",
       "99998824                      5.0     6.0                    6.0  1.0   \n",
       "\n",
       "          PCPCountLatestYear  ...  LabClaimCountLatestYear  DrugCountMin  \\\n",
       "MemberID                      ...                                          \n",
       "4                        1.0  ...                      NaN           NaN   \n",
       "210                      1.0  ...                      1.0           1.0   \n",
       "3197                     1.0  ...                      1.0           1.0   \n",
       "3457                     1.0  ...                      NaN           NaN   \n",
       "3713                     2.0  ...                      2.0           1.0   \n",
       "...                      ...  ...                      ...           ...   \n",
       "99985996                 1.0  ...                      NaN           3.0   \n",
       "99987030                 1.0  ...                      NaN           2.0   \n",
       "99995391                 1.0  ...                      1.0           1.0   \n",
       "99995554                 1.0  ...                      1.0           1.0   \n",
       "99998824                 1.0  ...                      2.0           NaN   \n",
       "\n",
       "          DrugCountMax  DrugCountAvg  DrugCountStd  DrugCountSum  \\\n",
       "MemberID                                                           \n",
       "4                  NaN           NaN           NaN           NaN   \n",
       "210                2.0      1.666667      0.577350           5.0   \n",
       "3197               2.0      1.333333      0.516398           8.0   \n",
       "3457               NaN           NaN           NaN           NaN   \n",
       "3713               6.0      4.250000      2.362908          17.0   \n",
       "...                ...           ...           ...           ...   \n",
       "99985996           3.0      3.000000      0.000000          18.0   \n",
       "99987030           2.0      2.000000           NaN           2.0   \n",
       "99995391           3.0      2.333333      0.816497          14.0   \n",
       "99995554           4.0      2.000000      1.224745          10.0   \n",
       "99998824           NaN           NaN           NaN           NaN   \n",
       "\n",
       "          DrugClaimCount  DrugCountSumLatestYear  DrugClaimCountLatestYear  \\\n",
       "MemberID                                                                     \n",
       "4                    NaN                     NaN                       NaN   \n",
       "210                  3.0                     NaN                       NaN   \n",
       "3197                 6.0                     3.0                       2.0   \n",
       "3457                 NaN                     NaN                       NaN   \n",
       "3713                 4.0                    17.0                       4.0   \n",
       "...                  ...                     ...                       ...   \n",
       "99985996             6.0                    18.0                       6.0   \n",
       "99987030             1.0                     2.0                       1.0   \n",
       "99995391             6.0                    14.0                       6.0   \n",
       "99995554             5.0                     2.0                       1.0   \n",
       "99998824             NaN                     NaN                       NaN   \n",
       "\n",
       "          DaysInHospital  \n",
       "MemberID                  \n",
       "4                    0.0  \n",
       "210                  0.0  \n",
       "3197                 0.0  \n",
       "3457                 0.0  \n",
       "3713                 0.0  \n",
       "...                  ...  \n",
       "99985996             0.0  \n",
       "99987030             0.0  \n",
       "99995391             0.0  \n",
       "99995554             0.0  \n",
       "99998824             0.0  \n",
       "\n",
       "[71435 rows x 139 columns]"
      ],
      "text/html": "<div>\n<style scoped>\n    .dataframe tbody tr th:only-of-type {\n        vertical-align: middle;\n    }\n\n    .dataframe tbody tr th {\n        vertical-align: top;\n    }\n\n    .dataframe thead th {\n        text-align: right;\n    }\n</style>\n<table border=\"1\" class=\"dataframe\">\n  <thead>\n    <tr style=\"text-align: right;\">\n      <th></th>\n      <th>AgeAtFirstClaim</th>\n      <th>Sex</th>\n      <th>ClaimCount</th>\n      <th>ClaimCountLatestYear</th>\n      <th>ProviderID</th>\n      <th>ProviderCountLatestYear</th>\n      <th>Vendor</th>\n      <th>VendorCountLatestYear</th>\n      <th>PCP</th>\n      <th>PCPCountLatestYear</th>\n      <th>...</th>\n      <th>LabClaimCountLatestYear</th>\n      <th>DrugCountMin</th>\n      <th>DrugCountMax</th>\n      <th>DrugCountAvg</th>\n      <th>DrugCountStd</th>\n      <th>DrugCountSum</th>\n      <th>DrugClaimCount</th>\n      <th>DrugCountSumLatestYear</th>\n      <th>DrugClaimCountLatestYear</th>\n      <th>DaysInHospital</th>\n    </tr>\n    <tr>\n      <th>MemberID</th>\n      <th></th>\n      <th></th>\n      <th></th>\n      <th></th>\n      <th></th>\n      <th></th>\n      <th></th>\n      <th></th>\n      <th></th>\n      <th></th>\n      <th></th>\n      <th></th>\n      <th></th>\n      <th></th>\n      <th></th>\n      <th></th>\n      <th></th>\n      <th></th>\n      <th></th>\n      <th></th>\n      <th></th>\n    </tr>\n  </thead>\n  <tbody>\n    <tr>\n      <th>4</th>\n      <td>5</td>\n      <td>M</td>\n      <td>1.0</td>\n      <td>1.0</td>\n      <td>1.0</td>\n      <td>1.0</td>\n      <td>1.0</td>\n      <td>1.0</td>\n      <td>1.0</td>\n      <td>1.0</td>\n      <td>...</td>\n      <td>NaN</td>\n      <td>NaN</td>\n      <td>NaN</td>\n      <td>NaN</td>\n      <td>NaN</td>\n      <td>NaN</td>\n      <td>NaN</td>\n      <td>NaN</td>\n      <td>NaN</td>\n      <td>0.0</td>\n    </tr>\n    <tr>\n      <th>210</th>\n      <td>35</td>\n      <td>NaN</td>\n      <td>14.0</td>\n      <td>6.0</td>\n      <td>5.0</td>\n      <td>3.0</td>\n      <td>5.0</td>\n      <td>3.0</td>\n      <td>2.0</td>\n      <td>1.0</td>\n      <td>...</td>\n      <td>1.0</td>\n      <td>1.0</td>\n      <td>2.0</td>\n      <td>1.666667</td>\n      <td>0.577350</td>\n      <td>5.0</td>\n      <td>3.0</td>\n      <td>NaN</td>\n      <td>NaN</td>\n      <td>0.0</td>\n    </tr>\n    <tr>\n      <th>3197</th>\n      <td>5</td>\n      <td>F</td>\n      <td>10.0</td>\n      <td>5.0</td>\n      <td>6.0</td>\n      <td>4.0</td>\n      <td>5.0</td>\n      <td>3.0</td>\n      <td>1.0</td>\n      <td>1.0</td>\n      <td>...</td>\n      <td>1.0</td>\n      <td>1.0</td>\n      <td>2.0</td>\n      <td>1.333333</td>\n      <td>0.516398</td>\n      <td>8.0</td>\n      <td>6.0</td>\n      <td>3.0</td>\n      <td>2.0</td>\n      <td>0.0</td>\n    </tr>\n    <tr>\n      <th>3457</th>\n      <td>5</td>\n      <td>M</td>\n      <td>1.0</td>\n      <td>1.0</td>\n      <td>1.0</td>\n      <td>1.0</td>\n      <td>1.0</td>\n      <td>1.0</td>\n      <td>1.0</td>\n      <td>1.0</td>\n      <td>...</td>\n      <td>NaN</td>\n      <td>NaN</td>\n      <td>NaN</td>\n      <td>NaN</td>\n      <td>NaN</td>\n      <td>NaN</td>\n      <td>NaN</td>\n      <td>NaN</td>\n      <td>NaN</td>\n      <td>0.0</td>\n    </tr>\n    <tr>\n      <th>3713</th>\n      <td>45</td>\n      <td>F</td>\n      <td>10.0</td>\n      <td>10.0</td>\n      <td>5.0</td>\n      <td>5.0</td>\n      <td>5.0</td>\n      <td>5.0</td>\n      <td>2.0</td>\n      <td>2.0</td>\n      <td>...</td>\n      <td>2.0</td>\n      <td>1.0</td>\n      <td>6.0</td>\n      <td>4.250000</td>\n      <td>2.362908</td>\n      <td>17.0</td>\n      <td>4.0</td>\n      <td>17.0</td>\n      <td>4.0</td>\n      <td>0.0</td>\n    </tr>\n    <tr>\n      <th>...</th>\n      <td>...</td>\n      <td>...</td>\n      <td>...</td>\n      <td>...</td>\n      <td>...</td>\n      <td>...</td>\n      <td>...</td>\n      <td>...</td>\n      <td>...</td>\n      <td>...</td>\n      <td>...</td>\n      <td>...</td>\n      <td>...</td>\n      <td>...</td>\n      <td>...</td>\n      <td>...</td>\n      <td>...</td>\n      <td>...</td>\n      <td>...</td>\n      <td>...</td>\n      <td>...</td>\n    </tr>\n    <tr>\n      <th>99985996</th>\n      <td>-1</td>\n      <td>F</td>\n      <td>5.0</td>\n      <td>5.0</td>\n      <td>2.0</td>\n      <td>2.0</td>\n      <td>2.0</td>\n      <td>2.0</td>\n      <td>1.0</td>\n      <td>1.0</td>\n      <td>...</td>\n      <td>NaN</td>\n      <td>3.0</td>\n      <td>3.0</td>\n      <td>3.000000</td>\n      <td>0.000000</td>\n      <td>18.0</td>\n      <td>6.0</td>\n      <td>18.0</td>\n      <td>6.0</td>\n      <td>0.0</td>\n    </tr>\n    <tr>\n      <th>99987030</th>\n      <td>25</td>\n      <td>M</td>\n      <td>4.0</td>\n      <td>4.0</td>\n      <td>3.0</td>\n      <td>3.0</td>\n      <td>2.0</td>\n      <td>2.0</td>\n      <td>1.0</td>\n      <td>1.0</td>\n      <td>...</td>\n      <td>NaN</td>\n      <td>2.0</td>\n      <td>2.0</td>\n      <td>2.000000</td>\n      <td>NaN</td>\n      <td>2.0</td>\n      <td>1.0</td>\n      <td>2.0</td>\n      <td>1.0</td>\n      <td>0.0</td>\n    </tr>\n    <tr>\n      <th>99995391</th>\n      <td>65</td>\n      <td>NaN</td>\n      <td>11.0</td>\n      <td>11.0</td>\n      <td>2.0</td>\n      <td>2.0</td>\n      <td>2.0</td>\n      <td>2.0</td>\n      <td>1.0</td>\n      <td>1.0</td>\n      <td>...</td>\n      <td>1.0</td>\n      <td>1.0</td>\n      <td>3.0</td>\n      <td>2.333333</td>\n      <td>0.816497</td>\n      <td>14.0</td>\n      <td>6.0</td>\n      <td>14.0</td>\n      <td>6.0</td>\n      <td>0.0</td>\n    </tr>\n    <tr>\n      <th>99995554</th>\n      <td>45</td>\n      <td>M</td>\n      <td>50.0</td>\n      <td>15.0</td>\n      <td>3.0</td>\n      <td>3.0</td>\n      <td>3.0</td>\n      <td>3.0</td>\n      <td>1.0</td>\n      <td>1.0</td>\n      <td>...</td>\n      <td>1.0</td>\n      <td>1.0</td>\n      <td>4.0</td>\n      <td>2.000000</td>\n      <td>1.224745</td>\n      <td>10.0</td>\n      <td>5.0</td>\n      <td>2.0</td>\n      <td>1.0</td>\n      <td>0.0</td>\n    </tr>\n    <tr>\n      <th>99998824</th>\n      <td>35</td>\n      <td>F</td>\n      <td>8.0</td>\n      <td>8.0</td>\n      <td>5.0</td>\n      <td>5.0</td>\n      <td>6.0</td>\n      <td>6.0</td>\n      <td>1.0</td>\n      <td>1.0</td>\n      <td>...</td>\n      <td>2.0</td>\n      <td>NaN</td>\n      <td>NaN</td>\n      <td>NaN</td>\n      <td>NaN</td>\n      <td>NaN</td>\n      <td>NaN</td>\n      <td>NaN</td>\n      <td>NaN</td>\n      <td>0.0</td>\n    </tr>\n  </tbody>\n</table>\n<p>71435 rows × 139 columns</p>\n</div>"
     },
     "metadata": {},
     "execution_count": 170
    }
   ],
   "source": [
    "df_b"
   ]
  },
  {
   "cell_type": "code",
   "execution_count": 174,
   "metadata": {},
   "outputs": [],
   "source": [
    "df_b.to_csv(\"./processed/DatasetB.csv\")"
   ]
  },
  {
   "cell_type": "code",
   "execution_count": null,
   "metadata": {},
   "outputs": [],
   "source": []
  }
 ]
}