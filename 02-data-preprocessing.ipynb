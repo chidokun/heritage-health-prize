{
 "metadata": {
  "language_info": {
   "codemirror_mode": {
    "name": "ipython",
    "version": 3
   },
   "file_extension": ".py",
   "mimetype": "text/x-python",
   "name": "python",
   "nbconvert_exporter": "python",
   "pygments_lexer": "ipython3",
   "version": "3.7.7-final"
  },
  "orig_nbformat": 2,
  "kernelspec": {
   "name": "python38164bittuanconda0d1158ff6a3f4103ab371d8d1b87e888",
   "display_name": "Python 3.8.1 64-bit ('tuan': conda)"
  }
 },
 "nbformat": 4,
 "nbformat_minor": 2,
 "cells": [
  {
   "source": [
    "# Data Preprocessing"
   ],
   "cell_type": "markdown",
   "metadata": {}
  },
  {
   "cell_type": "code",
   "execution_count": 1,
   "metadata": {},
   "outputs": [],
   "source": [
    "import numpy as np # Linear algebra\n",
    "import pandas as pd # Data processing, CSV file I/O (e.g. pd.read_csv)\n",
    "\n",
    "import matplotlib.pyplot as plt  # Matlab-style plotting\n",
    "# Make sure plot shows immediately\n",
    "%matplotlib inline \n",
    "import seaborn as sns # Library for plotting\n",
    "color = sns.color_palette()\n",
    "sns.set_style('darkgrid')"
   ]
  },
  {
   "source": [
    "# Strategy A"
   ],
   "cell_type": "markdown",
   "metadata": {}
  },
  {
   "cell_type": "code",
   "execution_count": 63,
   "metadata": {},
   "outputs": [],
   "source": [
    "df_claim = pd.read_csv(\"./data/Claims.csv\")\n",
    "df_member = pd.read_csv(\"./data/Members.csv\")\n",
    "df_lab = pd.read_csv(\"./data/LabCount.csv\")\n",
    "df_drug = pd.read_csv(\"./data/DrugCount.csv\")\n"
   ]
  },
  {
   "source": [
    "## Member"
   ],
   "cell_type": "markdown",
   "metadata": {}
  },
  {
   "cell_type": "code",
   "execution_count": 3,
   "metadata": {},
   "outputs": [
    {
     "output_type": "execute_result",
     "data": {
      "text/plain": [
       "['0-9', '10-19', '20-29', '30-39', '40-49', '50-59', '60-69', '70-79', '80+']"
      ]
     },
     "metadata": {},
     "execution_count": 3
    }
   ],
   "source": [
    "age_list = list(df_member[\"AgeAtFirstClaim\"].value_counts().index)\n",
    "age_list.sort()\n",
    "age_list"
   ]
  },
  {
   "cell_type": "code",
   "execution_count": 4,
   "metadata": {},
   "outputs": [],
   "source": [
    "mean_age_list = [ 5, 15, 25, 35, 45, 55, 65, 75, 85]"
   ]
  },
  {
   "cell_type": "code",
   "execution_count": 5,
   "metadata": {},
   "outputs": [],
   "source": [
    "for age, mean_age in zip(age_list, mean_age_list):\n",
    "    df_member.loc[df_member[\"AgeAtFirstClaim\"] == age, \"AgeAtFirstClaim\"] = mean_age"
   ]
  },
  {
   "cell_type": "code",
   "execution_count": 6,
   "metadata": {},
   "outputs": [
    {
     "output_type": "execute_result",
     "data": {
      "text/plain": [
       "        MemberID AgeAtFirstClaim Sex\n",
       "0       14723353              75   M\n",
       "1       75706636              75   M\n",
       "2       17320609              75   M\n",
       "3       69690888              45   M\n",
       "4       33004608               5   M\n",
       "...          ...             ...  ..\n",
       "112995  99711514              45   F\n",
       "112996  31690877              55   F\n",
       "112997   9519985              35   F\n",
       "112998  92806272              55   F\n",
       "112999  81827173              45   F\n",
       "\n",
       "[113000 rows x 3 columns]"
      ],
      "text/html": "<div>\n<style scoped>\n    .dataframe tbody tr th:only-of-type {\n        vertical-align: middle;\n    }\n\n    .dataframe tbody tr th {\n        vertical-align: top;\n    }\n\n    .dataframe thead th {\n        text-align: right;\n    }\n</style>\n<table border=\"1\" class=\"dataframe\">\n  <thead>\n    <tr style=\"text-align: right;\">\n      <th></th>\n      <th>MemberID</th>\n      <th>AgeAtFirstClaim</th>\n      <th>Sex</th>\n    </tr>\n  </thead>\n  <tbody>\n    <tr>\n      <th>0</th>\n      <td>14723353</td>\n      <td>75</td>\n      <td>M</td>\n    </tr>\n    <tr>\n      <th>1</th>\n      <td>75706636</td>\n      <td>75</td>\n      <td>M</td>\n    </tr>\n    <tr>\n      <th>2</th>\n      <td>17320609</td>\n      <td>75</td>\n      <td>M</td>\n    </tr>\n    <tr>\n      <th>3</th>\n      <td>69690888</td>\n      <td>45</td>\n      <td>M</td>\n    </tr>\n    <tr>\n      <th>4</th>\n      <td>33004608</td>\n      <td>5</td>\n      <td>M</td>\n    </tr>\n    <tr>\n      <th>...</th>\n      <td>...</td>\n      <td>...</td>\n      <td>...</td>\n    </tr>\n    <tr>\n      <th>112995</th>\n      <td>99711514</td>\n      <td>45</td>\n      <td>F</td>\n    </tr>\n    <tr>\n      <th>112996</th>\n      <td>31690877</td>\n      <td>55</td>\n      <td>F</td>\n    </tr>\n    <tr>\n      <th>112997</th>\n      <td>9519985</td>\n      <td>35</td>\n      <td>F</td>\n    </tr>\n    <tr>\n      <th>112998</th>\n      <td>92806272</td>\n      <td>55</td>\n      <td>F</td>\n    </tr>\n    <tr>\n      <th>112999</th>\n      <td>81827173</td>\n      <td>45</td>\n      <td>F</td>\n    </tr>\n  </tbody>\n</table>\n<p>113000 rows × 3 columns</p>\n</div>"
     },
     "metadata": {},
     "execution_count": 6
    }
   ],
   "source": [
    "df_member"
   ]
  },
  {
   "cell_type": "code",
   "execution_count": 7,
   "metadata": {},
   "outputs": [],
   "source": [
    "df_member.to_csv(\"./processed/Members.csv\", index=False)"
   ]
  },
  {
   "source": [
    "## ClaimCount"
   ],
   "cell_type": "markdown",
   "metadata": {}
  },
  {
   "cell_type": "code",
   "execution_count": 64,
   "metadata": {},
   "outputs": [
    {
     "output_type": "stream",
     "name": "stdout",
     "text": [
      "(865689, 14)\n",
      "(898872, 14)\n",
      "(1764561, 14)\n"
     ]
    }
   ],
   "source": [
    "df_claim_y1 = df_claim[df_claim[\"Year\"] == \"Y1\"]\n",
    "print(df_claim_y1.shape)\n",
    "df_claim_y2 = df_claim[df_claim[\"Year\"] == \"Y2\"]\n",
    "print(df_claim_y2.shape)\n",
    "df_claim_y12 = df_claim[(df_claim[\"Year\"] == \"Y1\") | (df_claim[\"Year\"] == \"Y2\")]\n",
    "print(df_claim_y12.shape)"
   ]
  },
  {
   "source": [
    "count_y1 = df_claim_y1[\"MemberID\"].value_counts()\n",
    "count_y2 = df_claim_y2[\"MemberID\"].value_counts()\n",
    "count_y12 = df_claim_y12[\"MemberID\"].value_counts()"
   ],
   "cell_type": "code",
   "metadata": {},
   "execution_count": 9,
   "outputs": []
  },
  {
   "cell_type": "code",
   "execution_count": 10,
   "metadata": {},
   "outputs": [],
   "source": [
    "df_claim_count_y1 = pd.DataFrame({ \"MemberID\": list(count_y1.index), \"ClaimCount\": list(count_y1)})\n",
    "df_claim_count_y2 = pd.DataFrame({ \"MemberID\": list(count_y2.index), \"ClaimCount\": list(count_y2)})\n",
    "df_claim_count_y12 = pd.DataFrame({ \"MemberID\": list(count_y12.index), \"ClaimCount\": list(count_y12)})"
   ]
  },
  {
   "cell_type": "code",
   "execution_count": 11,
   "metadata": {},
   "outputs": [],
   "source": [
    "df_claim_count_y1.to_csv(\"./processed/ClaimCount_Y1.csv\", index=False)\n",
    "df_claim_count_y2.to_csv(\"./processed/ClaimCount_Y2.csv\", index=False)\n",
    "df_claim_count_y12.to_csv(\"./processed/ClaimCount_Y12.csv\", index=False)"
   ]
  },
  {
   "source": [
    "## Provider"
   ],
   "cell_type": "markdown",
   "metadata": {}
  },
  {
   "cell_type": "code",
   "execution_count": 12,
   "metadata": {},
   "outputs": [],
   "source": [
    "pvd_count_y1 = df_claim_y1.groupby(\"MemberID\")[\"ProviderID\"].nunique(dropna=True)\n",
    "pvd_count_y2 = df_claim_y2.groupby(\"MemberID\")[\"ProviderID\"].nunique(dropna=True)\n",
    "pvd_count_y12 = df_claim_y12.groupby(\"MemberID\")[\"ProviderID\"].nunique(dropna=True)"
   ]
  },
  {
   "cell_type": "code",
   "execution_count": 13,
   "metadata": {},
   "outputs": [],
   "source": [
    "df_pvd_count_y1 = pd.DataFrame({ \"MemberID\": pvd_count_y1.index, \"ProviderID\": pvd_count_y1})\n",
    "df_pvd_count_y2 = pd.DataFrame({ \"MemberID\": pvd_count_y2.index, \"ProviderID\": pvd_count_y2})\n",
    "df_pvd_count_y12 = pd.DataFrame({ \"MemberID\": pvd_count_y12.index, \"ProviderID\": pvd_count_y12})"
   ]
  },
  {
   "cell_type": "code",
   "execution_count": 14,
   "metadata": {},
   "outputs": [],
   "source": [
    "df_pvd_count_y1.to_csv(\"./processed/ProviderID_Y1.csv\", index=False)\n",
    "df_pvd_count_y2.to_csv(\"./processed/ProviderID_Y2.csv\", index=False)\n",
    "df_pvd_count_y12.to_csv(\"./processed/ProviderID_Y12.csv\", index=False)"
   ]
  },
  {
   "source": [
    "## Vendor"
   ],
   "cell_type": "markdown",
   "metadata": {}
  },
  {
   "cell_type": "code",
   "execution_count": 15,
   "metadata": {},
   "outputs": [],
   "source": [
    "v_count_y1 = df_claim_y1.groupby(\"MemberID\")[\"Vendor\"].nunique(dropna=True)\n",
    "v_count_y2 = df_claim_y2.groupby(\"MemberID\")[\"Vendor\"].nunique(dropna=True)\n",
    "v_count_y12 = df_claim_y12.groupby(\"MemberID\")[\"Vendor\"].nunique(dropna=True)"
   ]
  },
  {
   "cell_type": "code",
   "execution_count": 16,
   "metadata": {},
   "outputs": [],
   "source": [
    "df_v_count_y1 = pd.DataFrame({\"MemberID\": v_count_y1.index, \"Vendor\": v_count_y1})\n",
    "df_v_count_y2 = pd.DataFrame({\"MemberID\": v_count_y2.index, \"Vendor\": v_count_y2})\n",
    "df_v_count_y12 = pd.DataFrame({\"MemberID\": v_count_y12.index, \"Vendor\": v_count_y12})"
   ]
  },
  {
   "cell_type": "code",
   "execution_count": 17,
   "metadata": {},
   "outputs": [],
   "source": [
    "df_v_count_y1.to_csv(\"./processed/Vendor_Y1.csv\", index=False)\n",
    "df_v_count_y2.to_csv(\"./processed/Vendor_Y2.csv\", index=False)\n",
    "df_v_count_y12.to_csv(\"./processed/Vendor_Y12.csv\", index=False)"
   ]
  },
  {
   "source": [
    "## PCP"
   ],
   "cell_type": "markdown",
   "metadata": {}
  },
  {
   "cell_type": "code",
   "execution_count": 18,
   "metadata": {},
   "outputs": [],
   "source": [
    "pcp_count_y1 = df_claim_y1.groupby(\"MemberID\")[\"PCP\"].nunique(dropna=True)\n",
    "pcp_count_y2 = df_claim_y2.groupby(\"MemberID\")[\"PCP\"].nunique(dropna=True)\n",
    "pcp_count_y12 = df_claim_y12.groupby(\"MemberID\")[\"PCP\"].nunique(dropna=True)"
   ]
  },
  {
   "cell_type": "code",
   "execution_count": 19,
   "metadata": {},
   "outputs": [],
   "source": [
    "df_pcp_count_y1 = pd.DataFrame({ \"MemberID\": pcp_count_y1.index, \"PCP\": pcp_count_y1})\n",
    "df_pcp_count_y2 = pd.DataFrame({ \"MemberID\": pcp_count_y2.index, \"PCP\": pcp_count_y2})\n",
    "df_pcp_count_y12 = pd.DataFrame({ \"MemberID\": pcp_count_y12.index, \"PCP\": pcp_count_y12})"
   ]
  },
  {
   "cell_type": "code",
   "execution_count": 20,
   "metadata": {},
   "outputs": [],
   "source": [
    "df_pcp_count_y1.to_csv(\"./processed/PCP_Y1.csv\", index=False)\n",
    "df_pcp_count_y2.to_csv(\"./processed/PCP_Y2.csv\", index=False)\n",
    "df_pcp_count_y12.to_csv(\"./processed/PCP_Y12.csv\", index=False)"
   ]
  },
  {
   "source": [
    "## Specialty"
   ],
   "cell_type": "markdown",
   "metadata": {}
  },
  {
   "cell_type": "code",
   "execution_count": 21,
   "metadata": {},
   "outputs": [],
   "source": [
    "def one_hot_count(index_col, count_value_col, df, one_hot_cols):\n",
    "    # get unique index\n",
    "    index_list = list(df[index_col].unique())\n",
    "    # create df\n",
    "    result_df = pd.DataFrame(index=index_list)\n",
    "    result_df.index.name = index_col\n",
    "    # fill one hot columns\n",
    "    for col in one_hot_cols:\n",
    "        col_name = \"{}Count_{}\".format(count_value_col, col)\n",
    "        result_df[col_name] = 0\n",
    "    # query and fill count\n",
    "    query = df.groupby([index_col])[count_value_col].value_counts(dropna=False)\n",
    "    i = 0\n",
    "    length = len(index_list)\n",
    "    for index in index_list:\n",
    "        for col in one_hot_cols:\n",
    "            col_name = \"{}Count_{}\".format(count_value_col, col)\n",
    "            try:\n",
    "                result_df.loc[index][col_name] = query.loc[(index, col)]\n",
    "            except:\n",
    "                continue\n",
    "\n",
    "        if i % 10000 == 0:\n",
    "            print(\"Processed: {}/{}\".format(i, length))\n",
    "        i += 1\n",
    "    print(\"Processed: {}/{} DONE\".format(i, length))\n",
    "    return result_df"
   ]
  },
  {
   "cell_type": "code",
   "execution_count": 22,
   "metadata": {},
   "outputs": [],
   "source": [
    "spe_unique_y1 = list(df_claim_y1[\"Specialty\"].unique())\n",
    "spe_unique_y2 = list(df_claim_y2[\"Specialty\"].unique())\n",
    "spe_unique_y12 = list(df_claim_y12[\"Specialty\"].unique())"
   ]
  },
  {
   "cell_type": "code",
   "execution_count": 23,
   "metadata": {},
   "outputs": [
    {
     "output_type": "stream",
     "name": "stdout",
     "text": [
      "Processed: 0/76038\n",
      "Processed: 10000/76038\n",
      "Processed: 20000/76038\n",
      "Processed: 30000/76038\n",
      "Processed: 40000/76038\n",
      "Processed: 50000/76038\n",
      "Processed: 60000/76038\n",
      "Processed: 70000/76038\n",
      "Processed: 76038/76038 DONE\n",
      "Processed: 0/71435\n",
      "Processed: 10000/71435\n",
      "Processed: 20000/71435\n",
      "Processed: 30000/71435\n",
      "Processed: 40000/71435\n",
      "Processed: 50000/71435\n",
      "Processed: 60000/71435\n",
      "Processed: 70000/71435\n",
      "Processed: 71435/71435 DONE\n",
      "Processed: 0/95507\n",
      "Processed: 10000/95507\n",
      "Processed: 20000/95507\n",
      "Processed: 30000/95507\n",
      "Processed: 40000/95507\n",
      "Processed: 50000/95507\n",
      "Processed: 60000/95507\n",
      "Processed: 70000/95507\n",
      "Processed: 80000/95507\n",
      "Processed: 90000/95507\n",
      "Processed: 95507/95507 DONE\n",
      "CPU times: user 6min 54s, sys: 7.43 s, total: 7min 2s\n",
      "Wall time: 10min 37s\n"
     ]
    }
   ],
   "source": [
    "%%time\n",
    "df_spe_count_y1 = one_hot_count(\"MemberID\", \"Specialty\", df_claim_y1, spe_unique_y1)\n",
    "df_spe_count_y2 = one_hot_count(\"MemberID\", \"Specialty\", df_claim_y2, spe_unique_y2)\n",
    "df_spe_count_y12 = one_hot_count(\"MemberID\", \"Specialty\", df_claim_y12, spe_unique_y12)"
   ]
  },
  {
   "cell_type": "code",
   "execution_count": 24,
   "metadata": {},
   "outputs": [],
   "source": [
    "df_spe_count_y1.to_csv(\"./processed/SpecialtyCount_Y1.csv\")\n",
    "df_spe_count_y2.to_csv(\"./processed/SpecialtyCount_Y2.csv\")\n",
    "df_spe_count_y12.to_csv(\"./processed/SpecialtyCount_Y12.csv\")"
   ]
  },
  {
   "source": [
    "## PlaceSvc"
   ],
   "cell_type": "markdown",
   "metadata": {}
  },
  {
   "cell_type": "code",
   "execution_count": 25,
   "metadata": {},
   "outputs": [],
   "source": [
    "psvc_unique_y1 = list(df_claim_y1[\"PlaceSvc\"].unique())\n",
    "psvc_unique_y2 = list(df_claim_y2[\"PlaceSvc\"].unique())\n",
    "psvc_unique_y12 = list(df_claim_y12[\"PlaceSvc\"].unique())"
   ]
  },
  {
   "cell_type": "code",
   "execution_count": 26,
   "metadata": {},
   "outputs": [
    {
     "output_type": "stream",
     "name": "stdout",
     "text": [
      "Processed: 0/76038\n",
      "Processed: 10000/76038\n",
      "Processed: 20000/76038\n",
      "Processed: 30000/76038\n",
      "Processed: 40000/76038\n",
      "Processed: 50000/76038\n",
      "Processed: 60000/76038\n",
      "Processed: 70000/76038\n",
      "Processed: 76038/76038 DONE\n",
      "Processed: 0/71435\n",
      "Processed: 10000/71435\n",
      "Processed: 20000/71435\n",
      "Processed: 30000/71435\n",
      "Processed: 40000/71435\n",
      "Processed: 50000/71435\n",
      "Processed: 60000/71435\n",
      "Processed: 70000/71435\n",
      "Processed: 71435/71435 DONE\n",
      "Processed: 0/95507\n",
      "Processed: 10000/95507\n",
      "Processed: 20000/95507\n",
      "Processed: 30000/95507\n",
      "Processed: 40000/95507\n",
      "Processed: 50000/95507\n",
      "Processed: 60000/95507\n",
      "Processed: 70000/95507\n",
      "Processed: 80000/95507\n",
      "Processed: 90000/95507\n",
      "Processed: 95507/95507 DONE\n",
      "CPU times: user 5min 19s, sys: 6.46 s, total: 5min 26s\n",
      "Wall time: 8min 28s\n"
     ]
    }
   ],
   "source": [
    "%%time\n",
    "df_psvc_count_y1 = one_hot_count(\"MemberID\", \"PlaceSvc\", df_claim_y1, psvc_unique_y1)\n",
    "df_psvc_count_y2 = one_hot_count(\"MemberID\", \"PlaceSvc\", df_claim_y2, psvc_unique_y2)\n",
    "df_psvc_count_y12 = one_hot_count(\"MemberID\", \"PlaceSvc\", df_claim_y12, psvc_unique_y12)"
   ]
  },
  {
   "cell_type": "code",
   "execution_count": 27,
   "metadata": {},
   "outputs": [],
   "source": [
    "df_psvc_count_y1.to_csv(\"./processed/PlaceSvcCount_Y1.csv\")\n",
    "df_psvc_count_y2.to_csv(\"./processed/PlaceSvcCount_Y2.csv\")\n",
    "df_psvc_count_y12.to_csv(\"./processed/PlaceSvcCount_Y12.csv\")"
   ]
  },
  {
   "source": [
    "## PayDelay"
   ],
   "cell_type": "markdown",
   "metadata": {}
  },
  {
   "cell_type": "code",
   "execution_count": 28,
   "metadata": {},
   "outputs": [],
   "source": [
    "df_claim_y1[\"PayDelay\"].replace({'162+': '162'}, inplace=True)\n",
    "df_claim_y2[\"PayDelay\"].replace({'162+': '162'}, inplace=True)\n",
    "df_claim_y12[\"PayDelay\"].replace({'162+': '162'}, inplace=True)"
   ]
  },
  {
   "cell_type": "code",
   "execution_count": 30,
   "metadata": {},
   "outputs": [],
   "source": [
    "df_claim_y1[\"PayDelay\"] = df_claim_y1[\"PayDelay\"].astype(\"int32\")\n",
    "df_claim_y2[\"PayDelay\"] = df_claim_y2[\"PayDelay\"].astype(\"int32\")\n",
    "df_claim_y12[\"PayDelay\"] = df_claim_y12[\"PayDelay\"].astype(\"int32\")"
   ]
  },
  {
   "cell_type": "code",
   "execution_count": 33,
   "metadata": {},
   "outputs": [],
   "source": [
    "pdl_min_y1 = df_claim_y1.groupby([\"MemberID\"])[\"PayDelay\"].min()\n",
    "pdl_max_y1 = df_claim_y1.groupby([\"MemberID\"])[\"PayDelay\"].max()\n",
    "pdl_avg_y1 = df_claim_y1.groupby([\"MemberID\"])[\"PayDelay\"].mean()\n",
    "pdl_std_y1 = df_claim_y1.groupby([\"MemberID\"])[\"PayDelay\"].std()\n",
    "pdl_sum_y1 = df_claim_y1.groupby([\"MemberID\"])[\"PayDelay\"].sum()\n",
    "\n",
    "pdl_min_y2 = df_claim_y2.groupby([\"MemberID\"])[\"PayDelay\"].min()\n",
    "pdl_max_y2 = df_claim_y2.groupby([\"MemberID\"])[\"PayDelay\"].max()\n",
    "pdl_avg_y2 = df_claim_y2.groupby([\"MemberID\"])[\"PayDelay\"].mean()\n",
    "pdl_std_y2 = df_claim_y2.groupby([\"MemberID\"])[\"PayDelay\"].std()\n",
    "pdl_sum_y2 = df_claim_y2.groupby([\"MemberID\"])[\"PayDelay\"].sum()\n",
    "\n",
    "pdl_min_y12 = df_claim_y12.groupby([\"MemberID\"])[\"PayDelay\"].min()\n",
    "pdl_max_y12 = df_claim_y12.groupby([\"MemberID\"])[\"PayDelay\"].max()\n",
    "pdl_avg_y12 = df_claim_y12.groupby([\"MemberID\"])[\"PayDelay\"].mean()\n",
    "pdl_std_y12 = df_claim_y12.groupby([\"MemberID\"])[\"PayDelay\"].std()\n",
    "pdl_sum_y12 = df_claim_y12.groupby([\"MemberID\"])[\"PayDelay\"].sum()"
   ]
  },
  {
   "cell_type": "code",
   "execution_count": 45,
   "metadata": {},
   "outputs": [
    {
     "output_type": "execute_result",
     "data": {
      "text/plain": [
       "MemberID\n",
       "4             43\n",
       "210         1028\n",
       "3197         640\n",
       "3457          63\n",
       "3713         562\n",
       "            ... \n",
       "99996214      19\n",
       "99997485     130\n",
       "99997895     539\n",
       "99998627     526\n",
       "99998824     343\n",
       "Name: PayDelay, Length: 95507, dtype: int32"
      ]
     },
     "metadata": {},
     "execution_count": 45
    }
   ],
   "source": [
    "pdl_sum_y12"
   ]
  },
  {
   "cell_type": "code",
   "execution_count": 46,
   "metadata": {},
   "outputs": [],
   "source": [
    "df_pdl_y1 = pd.DataFrame({ \n",
    "    \"MemberID\": pdl_min_y1.index, \n",
    "    \"PayDelayMin\": pdl_min_y1,\n",
    "    \"PayDelayMax\": pdl_max_y1,\n",
    "    \"PayDelayAvg\": pdl_avg_y1,\n",
    "    \"PayDelayStd\": pdl_std_y1,\n",
    "    \"PayDelaySum\": pdl_sum_y1\n",
    "})\n",
    "\n",
    "df_pdl_y2 = pd.DataFrame({ \n",
    "    \"MemberID\": pdl_min_y2.index, \n",
    "    \"PayDelayMin\": pdl_min_y2,\n",
    "    \"PayDelayMax\": pdl_max_y2,\n",
    "    \"PayDelayAvg\": pdl_avg_y2,\n",
    "    \"PayDelayStd\": pdl_std_y2,\n",
    "    \"PayDelaySum\": pdl_sum_y2\n",
    "})\n",
    "\n",
    "df_pdl_y12 = pd.DataFrame({ \n",
    "    \"MemberID\": pdl_min_y12.index, \n",
    "    \"PayDelayMin\": pdl_min_y12,\n",
    "    \"PayDelayMax\": pdl_max_y12,\n",
    "    \"PayDelayAvg\": pdl_avg_y12,\n",
    "    \"PayDelayStd\": pdl_std_y12,\n",
    "    \"PayDelaySum\": pdl_sum_y12\n",
    "})"
   ]
  },
  {
   "cell_type": "code",
   "execution_count": 49,
   "metadata": {},
   "outputs": [],
   "source": [
    "df_pdl_y1.to_csv(\"./processed/PayDelay_Y1.csv\", index=False)\n",
    "df_pdl_y2.to_csv(\"./processed/PayDelay_Y2.csv\", index=False)\n",
    "df_pdl_y12.to_csv(\"./processed/PayDelay_Y12.csv\", index=False)"
   ]
  },
  {
   "source": [
    "## LengthOfStay"
   ],
   "cell_type": "markdown",
   "metadata": {}
  },
  {
   "cell_type": "code",
   "execution_count": 71,
   "metadata": {},
   "outputs": [
    {
     "output_type": "stream",
     "name": "stdout",
     "text": [
      "CPU times: user 1.15 s, sys: 158 ms, total: 1.31 s\nWall time: 1.55 s\n"
     ]
    }
   ],
   "source": [
    "%%time\n",
    "# convert los to day\n",
    "los_value = [ \"1 day\", \"2 days\", \"3 days\", \"4 days\", \"5 days\", \"6 days\", \"1- 2 weeks\", \"2- 4 weeks\", \"4- 8 weeks\", \"8- 12 weeks\", \"12- 26 weeks\", \"26+ weeks\"]\n",
    "los_replace = [ 1, 2, 3, 4, 5, 6, 11, 21, 42, 84, 133, 182]\n",
    "\n",
    "for i, j in zip(los_value, los_replace):\n",
    "    df_claim_y1[\"LengthOfStay\"].replace({i: j}, inplace=True)\n",
    "    df_claim_y2[\"LengthOfStay\"].replace({i: j}, inplace=True)\n",
    "    df_claim_y12[\"LengthOfStay\"].replace({i: j}, inplace=True)\n",
    "\n",
    "df_claim_y1[\"LengthOfStay\"] = df_claim_y1[\"LengthOfStay\"].astype(\"float64\")\n",
    "df_claim_y2[\"LengthOfStay\"] = df_claim_y2[\"LengthOfStay\"].astype(\"float64\")\n",
    "df_claim_y12[\"LengthOfStay\"] = df_claim_y12[\"LengthOfStay\"].astype(\"float64\")"
   ]
  },
  {
   "cell_type": "code",
   "execution_count": 151,
   "metadata": {},
   "outputs": [],
   "source": [
    "def process_los(df):\n",
    "    los_min = df.groupby([\"MemberID\"])[\"LengthOfStay\"].min()\n",
    "    los_max = df.groupby([\"MemberID\"])[\"LengthOfStay\"].max()\n",
    "    los_avg = df.groupby([\"MemberID\"])[\"LengthOfStay\"].mean()\n",
    "    los_std = df.groupby([\"MemberID\"])[\"LengthOfStay\"].std()\n",
    "    los_sum = df.groupby([\"MemberID\"])[\"LengthOfStay\"].sum()\n",
    "    los_nan = df[df[\"LengthOfStay\"].isna()].groupby([\"MemberID\"])[\"MemberID\"].count()\n",
    "\n",
    "    return pd.concat([ \n",
    "        pd.DataFrame(np.array(los_min).T, columns=[\"LengthOfStayMin\"], index=los_min.index),\n",
    "        pd.DataFrame(np.array(los_max).T, columns=[\"LengthOfStayMax\"], index=los_max.index),\n",
    "        pd.DataFrame(np.array(los_avg).T, columns=[\"LengthOfStayAvg\"], index=los_avg.index),\n",
    "        pd.DataFrame(np.array(los_std).T, columns=[\"LengthOfStayStd\"], index=los_std.index),\n",
    "        pd.DataFrame(np.array(los_sum).T, columns=[\"LengthOfStaySum\"], index=los_sum.index),\n",
    "        pd.DataFrame(np.array(los_nan).T, columns=[\"LengthOfStayCountNan\"], index=los_nan.index)\n",
    "    ], axis=1)"
   ]
  },
  {
   "cell_type": "code",
   "execution_count": 152,
   "metadata": {},
   "outputs": [],
   "source": [
    "df_los_y1 = process_los(df_claim_y1)\n",
    "df_los_y2 = process_los(df_claim_y2)\n",
    "df_los_y12 = process_los(df_claim_y12)"
   ]
  },
  {
   "cell_type": "code",
   "execution_count": 154,
   "metadata": {},
   "outputs": [],
   "source": [
    "df_los_y1.to_csv(\"./processed/LengthOfStay_Y1.csv\")\n",
    "df_los_y2.to_csv(\"./processed/LengthOfStay_Y2.csv\")\n",
    "df_los_y12.to_csv(\"./processed/LengthOfStay_Y12.csv\")"
   ]
  },
  {
   "source": [
    "## DSFS"
   ],
   "cell_type": "markdown",
   "metadata": {}
  },
  {
   "cell_type": "code",
   "execution_count": 159,
   "metadata": {},
   "outputs": [
    {
     "output_type": "stream",
     "name": "stdout",
     "text": [
      "CPU times: user 263 µs, sys: 14 µs, total: 277 µs\nWall time: 411 µs\n"
     ]
    }
   ],
   "source": [
    "%%time\n",
    "# convert to month\n",
    "dsfs_value = [ '0- 1 month', '1- 2 months', '2- 3 months', '3- 4 months', '4- 5 months', '5- 6 months', '6- 7 months', '7- 8 months', '8- 9 months', '9-10 months', '10-11 months', '11-12 months']\n",
    "dsfs_replace = [ 1, 2, 3, 4, 5, 6, 7, 8, 9, 10, 11, 12 ]\n",
    "\n",
    "try:\n",
    "    for i, j in zip(dsfs_value, dsfs_replace):\n",
    "        df_claim_y1[\"DSFS\"].replace({i: j}, inplace=True)\n",
    "        df_claim_y2[\"DSFS\"].replace({i: j}, inplace=True)\n",
    "        df_claim_y12[\"DSFS\"].replace({i: j}, inplace=True)\n",
    "\n",
    "\n",
    "    df_claim_y1[\"DSFS\"] = df_claim_y1[\"DSFS\"].astype(\"float64\")\n",
    "    df_claim_y2[\"DSFS\"] = df_claim_y2[\"DSFS\"].astype(\"float64\")\n",
    "    df_claim_y12[\"DSFS\"] = df_claim_y12[\"DSFS\"].astype(\"float64\")\n",
    "except: \n",
    "    pass"
   ]
  },
  {
   "cell_type": "code",
   "execution_count": 163,
   "metadata": {},
   "outputs": [],
   "source": [
    "def process_dsfs(df):\n",
    "    dsfs_min = df.groupby([\"MemberID\"])[\"DSFS\"].min()\n",
    "    dsfs_max = df.groupby([\"MemberID\"])[\"DSFS\"].max()\n",
    "\n",
    "    return pd.concat([\n",
    "        pd.DataFrame(np.array(dsfs_min).T, columns=[\"DSFSMin\"], index=dsfs_min.index),\n",
    "        pd.DataFrame(np.array(dsfs_max).T, columns=[\"DSFSMax\"], index=dsfs_max.index),\n",
    "    ], axis=1)"
   ]
  },
  {
   "cell_type": "code",
   "execution_count": 164,
   "metadata": {},
   "outputs": [
    {
     "output_type": "stream",
     "name": "stdout",
     "text": [
      "CPU times: user 535 ms, sys: 73.5 ms, total: 608 ms\nWall time: 1.24 s\n"
     ]
    }
   ],
   "source": [
    "%%time\n",
    "df_dsfs_y1 = process_dsfs(df_claim_y1)\n",
    "df_dsfs_y2 = process_dsfs(df_claim_y2)\n",
    "df_dsfs_y12 = process_dsfs(df_claim_y12)"
   ]
  },
  {
   "cell_type": "code",
   "execution_count": 169,
   "metadata": {},
   "outputs": [],
   "source": [
    "df_dsfs_y1.to_csv(\"./processed/DSFS_Y1.csv\")\n",
    "df_dsfs_y2.to_csv(\"./processed/DSFS_Y2.csv\")\n",
    "df_dsfs_y12.to_csv(\"./processed/DSFS_Y12.csv\")"
   ]
  },
  {
   "source": [
    "## CharlsonIndex"
   ],
   "cell_type": "markdown",
   "metadata": {}
  },
  {
   "cell_type": "code",
   "execution_count": 170,
   "metadata": {},
   "outputs": [
    {
     "output_type": "stream",
     "name": "stdout",
     "text": [
      "CPU times: user 1.39 s, sys: 477 ms, total: 1.87 s\nWall time: 3.02 s\n"
     ]
    }
   ],
   "source": [
    "%%time\n",
    "# convert to month\n",
    "ch_value = [ '0', '1-2', '3-4', '5+' ]\n",
    "ch_replace = [ 0, 2, 4, 6 ]\n",
    "\n",
    "try:\n",
    "    for i, j in zip(ch_value, ch_replace):\n",
    "        df_claim_y1[\"CharlsonIndex\"].replace({i: j}, inplace=True)\n",
    "        df_claim_y2[\"CharlsonIndex\"].replace({i: j}, inplace=True)\n",
    "        df_claim_y12[\"CharlsonIndex\"].replace({i: j}, inplace=True)\n",
    "\n",
    "\n",
    "    df_claim_y1[\"CharlsonIndex\"] = df_claim_y1[\"CharlsonIndex\"].astype(\"float64\")\n",
    "    df_claim_y2[\"CharlsonIndex\"] = df_claim_y2[\"CharlsonIndex\"].astype(\"float64\")\n",
    "    df_claim_y12[\"CharlsonIndex\"] = df_claim_y12[\"CharlsonIndex\"].astype(\"float64\")\n",
    "except: \n",
    "    pass"
   ]
  },
  {
   "cell_type": "code",
   "execution_count": 181,
   "metadata": {},
   "outputs": [],
   "source": [
    "def process_charlsonindex(df):\n",
    "    ch_min = df.groupby([\"MemberID\"])[\"CharlsonIndex\"].min()\n",
    "    ch_max = df.groupby([\"MemberID\"])[\"CharlsonIndex\"].max()\n",
    "    ch_avg = df.groupby([\"MemberID\"])[\"CharlsonIndex\"].mean()\n",
    "\n",
    "    return pd.concat([\n",
    "        pd.DataFrame(np.array(ch_min).T, columns=[\"CharlsonIndexMin\"], index=ch_min.index),\n",
    "        pd.DataFrame(np.array(ch_max).T, columns=[\"CharlsonIndexMax\"], index=ch_max.index),\n",
    "        pd.DataFrame(np.array(ch_avg).T, columns=[\"CharlsonIndexAvg\"], index=ch_avg.index),\n",
    "    ], axis=1)"
   ]
  },
  {
   "cell_type": "code",
   "execution_count": 182,
   "metadata": {},
   "outputs": [],
   "source": [
    "df_ch_y1 = process_charlsonindex(df_claim_y1)\n",
    "df_ch_y2 = process_charlsonindex(df_claim_y2)\n",
    "df_ch_y12 = process_charlsonindex(df_claim_y12)"
   ]
  },
  {
   "cell_type": "code",
   "execution_count": 185,
   "metadata": {},
   "outputs": [],
   "source": [
    "df_ch_y1.to_csv(\"./processed/CharlsonIndex_Y1.csv\")\n",
    "df_ch_y2.to_csv(\"./processed/CharlsonIndex_Y2.csv\")\n",
    "df_ch_y12.to_csv(\"./processed/CharlsonIndex_Y12.csv\")"
   ]
  },
  {
   "source": [
    "## PrimaryConditionGroup"
   ],
   "cell_type": "markdown",
   "metadata": {}
  },
  {
   "cell_type": "code",
   "execution_count": 186,
   "metadata": {},
   "outputs": [],
   "source": [
    "pcg_unique_y1 = list(df_claim_y1[\"PrimaryConditionGroup\"].unique())\n",
    "pcg_unique_y2 = list(df_claim_y2[\"PrimaryConditionGroup\"].unique())\n",
    "pcg_unique_y12 = list(df_claim_y12[\"PrimaryConditionGroup\"].unique())"
   ]
  },
  {
   "cell_type": "code",
   "execution_count": 187,
   "metadata": {},
   "outputs": [
    {
     "output_type": "stream",
     "name": "stdout",
     "text": [
      "Processed: 0/76038\n",
      "Processed: 10000/76038\n",
      "Processed: 20000/76038\n",
      "Processed: 30000/76038\n",
      "Processed: 40000/76038\n",
      "Processed: 50000/76038\n",
      "Processed: 60000/76038\n",
      "Processed: 70000/76038\n",
      "Processed: 76038/76038 DONE\n",
      "Processed: 0/71435\n",
      "Processed: 10000/71435\n",
      "Processed: 20000/71435\n",
      "Processed: 30000/71435\n",
      "Processed: 40000/71435\n",
      "Processed: 50000/71435\n",
      "Processed: 60000/71435\n",
      "Processed: 70000/71435\n",
      "Processed: 71435/71435 DONE\n",
      "Processed: 0/95507\n",
      "Processed: 10000/95507\n",
      "Processed: 20000/95507\n",
      "Processed: 30000/95507\n",
      "Processed: 40000/95507\n",
      "Processed: 50000/95507\n",
      "Processed: 60000/95507\n",
      "Processed: 70000/95507\n",
      "Processed: 80000/95507\n",
      "Processed: 90000/95507\n",
      "Processed: 95507/95507 DONE\n",
      "CPU times: user 15min 6s, sys: 14 s, total: 15min 20s\n",
      "Wall time: 19min 31s\n"
     ]
    }
   ],
   "source": [
    "%%time\n",
    "df_pcg_count_y1 = one_hot_count(\"MemberID\", \"PrimaryConditionGroup\", df_claim_y1, pcg_unique_y1)\n",
    "df_pcg_count_y2 = one_hot_count(\"MemberID\", \"PrimaryConditionGroup\", df_claim_y2, pcg_unique_y2)\n",
    "df_pcg_count_y12 = one_hot_count(\"MemberID\", \"PrimaryConditionGroup\", df_claim_y12, pcg_unique_y12)"
   ]
  },
  {
   "cell_type": "code",
   "execution_count": 189,
   "metadata": {},
   "outputs": [
    {
     "output_type": "execute_result",
     "data": {
      "text/plain": [
       "          PrimaryConditionGroupCount_NEUMENT  \\\n",
       "MemberID                                       \n",
       "42286978                                   3   \n",
       "11837054                                   0   \n",
       "99829076                                   0   \n",
       "54666321                                   0   \n",
       "60497718                                   0   \n",
       "...                                      ...   \n",
       "3137916                                    0   \n",
       "94826294                                   0   \n",
       "3867712                                    0   \n",
       "46279285                                   0   \n",
       "40389320                                   0   \n",
       "\n",
       "          PrimaryConditionGroupCount_FXDISLC  \\\n",
       "MemberID                                       \n",
       "42286978                                   0   \n",
       "11837054                                  15   \n",
       "99829076                                   0   \n",
       "54666321                                   0   \n",
       "60497718                                   0   \n",
       "...                                      ...   \n",
       "3137916                                    0   \n",
       "94826294                                   0   \n",
       "3867712                                    0   \n",
       "46279285                                   0   \n",
       "40389320                                   0   \n",
       "\n",
       "          PrimaryConditionGroupCount_TRAUMA  \\\n",
       "MemberID                                      \n",
       "42286978                                  0   \n",
       "11837054                                  0   \n",
       "99829076                                 12   \n",
       "54666321                                  2   \n",
       "60497718                                  4   \n",
       "...                                     ...   \n",
       "3137916                                   0   \n",
       "94826294                                  0   \n",
       "3867712                                   0   \n",
       "46279285                                  0   \n",
       "40389320                                  0   \n",
       "\n",
       "          PrimaryConditionGroupCount_RESPR4  \\\n",
       "MemberID                                      \n",
       "42286978                                  0   \n",
       "11837054                                  3   \n",
       "99829076                                  1   \n",
       "54666321                                 48   \n",
       "60497718                                  0   \n",
       "...                                     ...   \n",
       "3137916                                   0   \n",
       "94826294                                  1   \n",
       "3867712                                   1   \n",
       "46279285                                  0   \n",
       "40389320                                  1   \n",
       "\n",
       "          PrimaryConditionGroupCount_INFEC4  PrimaryConditionGroupCount_ROAMI  \\\n",
       "MemberID                                                                        \n",
       "42286978                                  0                                 0   \n",
       "11837054                                  0                                 0   \n",
       "99829076                                  0                                10   \n",
       "54666321                                  2                                 0   \n",
       "60497718                                  1                                 0   \n",
       "...                                     ...                               ...   \n",
       "3137916                                   0                                 0   \n",
       "94826294                                  0                                 0   \n",
       "3867712                                   0                                 0   \n",
       "46279285                                  0                                 0   \n",
       "40389320                                  0                                 0   \n",
       "\n",
       "          PrimaryConditionGroupCount_HEART2  \\\n",
       "MemberID                                      \n",
       "42286978                                  0   \n",
       "11837054                                  0   \n",
       "99829076                                  0   \n",
       "54666321                                  0   \n",
       "60497718                                  0   \n",
       "...                                     ...   \n",
       "3137916                                   0   \n",
       "94826294                                  0   \n",
       "3867712                                   0   \n",
       "46279285                                  0   \n",
       "40389320                                  0   \n",
       "\n",
       "          PrimaryConditionGroupCount_MISCHRT  \\\n",
       "MemberID                                       \n",
       "42286978                                   1   \n",
       "11837054                                   1   \n",
       "99829076                                  14   \n",
       "54666321                                   0   \n",
       "60497718                                   0   \n",
       "...                                      ...   \n",
       "3137916                                    0   \n",
       "94826294                                   0   \n",
       "3867712                                    0   \n",
       "46279285                                   0   \n",
       "40389320                                   0   \n",
       "\n",
       "          PrimaryConditionGroupCount_PNEUM  PrimaryConditionGroupCount_MISCL5  \\\n",
       "MemberID                                                                        \n",
       "42286978                                 0                                  0   \n",
       "11837054                                 0                                  0   \n",
       "99829076                                 0                                  1   \n",
       "54666321                                 0                                  2   \n",
       "60497718                                 0                                  1   \n",
       "...                                    ...                                ...   \n",
       "3137916                                  0                                  0   \n",
       "94826294                                 0                                  0   \n",
       "3867712                                  0                                  0   \n",
       "46279285                                 0                                  0   \n",
       "40389320                                 0                                  0   \n",
       "\n",
       "          ...  PrimaryConditionGroupCount_HIPFX  \\\n",
       "MemberID  ...                                     \n",
       "42286978  ...                                 0   \n",
       "11837054  ...                                 0   \n",
       "99829076  ...                                 0   \n",
       "54666321  ...                                 0   \n",
       "60497718  ...                                 0   \n",
       "...       ...                               ...   \n",
       "3137916   ...                                 0   \n",
       "94826294  ...                                 0   \n",
       "3867712   ...                                 0   \n",
       "46279285  ...                                 0   \n",
       "40389320  ...                                 0   \n",
       "\n",
       "          PrimaryConditionGroupCount_GYNECA  \\\n",
       "MemberID                                      \n",
       "42286978                                  0   \n",
       "11837054                                  0   \n",
       "99829076                                  0   \n",
       "54666321                                  0   \n",
       "60497718                                  0   \n",
       "...                                     ...   \n",
       "3137916                                   0   \n",
       "94826294                                  0   \n",
       "3867712                                   0   \n",
       "46279285                                  0   \n",
       "40389320                                  0   \n",
       "\n",
       "          PrimaryConditionGroupCount_CATAST  \\\n",
       "MemberID                                      \n",
       "42286978                                  0   \n",
       "11837054                                  0   \n",
       "99829076                                  0   \n",
       "54666321                                  0   \n",
       "60497718                                  0   \n",
       "...                                     ...   \n",
       "3137916                                   0   \n",
       "94826294                                  0   \n",
       "3867712                                   0   \n",
       "46279285                                  0   \n",
       "40389320                                  0   \n",
       "\n",
       "          PrimaryConditionGroupCount_SEPSIS  \\\n",
       "MemberID                                      \n",
       "42286978                                  0   \n",
       "11837054                                  0   \n",
       "99829076                                  0   \n",
       "54666321                                  0   \n",
       "60497718                                  0   \n",
       "...                                     ...   \n",
       "3137916                                   0   \n",
       "94826294                                  0   \n",
       "3867712                                   0   \n",
       "46279285                                  0   \n",
       "40389320                                  0   \n",
       "\n",
       "          PrimaryConditionGroupCount_LIVERDZ  \\\n",
       "MemberID                                       \n",
       "42286978                                   0   \n",
       "11837054                                   0   \n",
       "99829076                                   0   \n",
       "54666321                                   0   \n",
       "60497718                                   0   \n",
       "...                                      ...   \n",
       "3137916                                    0   \n",
       "94826294                                   0   \n",
       "3867712                                    0   \n",
       "46279285                                   0   \n",
       "40389320                                   0   \n",
       "\n",
       "          PrimaryConditionGroupCount_PNCRDZ  \\\n",
       "MemberID                                      \n",
       "42286978                                  0   \n",
       "11837054                                  0   \n",
       "99829076                                  0   \n",
       "54666321                                  0   \n",
       "60497718                                  0   \n",
       "...                                     ...   \n",
       "3137916                                   0   \n",
       "94826294                                  0   \n",
       "3867712                                   0   \n",
       "46279285                                  0   \n",
       "40389320                                  0   \n",
       "\n",
       "          PrimaryConditionGroupCount_METAB1  \\\n",
       "MemberID                                      \n",
       "42286978                                  0   \n",
       "11837054                                  0   \n",
       "99829076                                  0   \n",
       "54666321                                  0   \n",
       "60497718                                  0   \n",
       "...                                     ...   \n",
       "3137916                                   0   \n",
       "94826294                                  0   \n",
       "3867712                                   0   \n",
       "46279285                                  0   \n",
       "40389320                                  0   \n",
       "\n",
       "          PrimaryConditionGroupCount_RENAL1  \\\n",
       "MemberID                                      \n",
       "42286978                                  0   \n",
       "11837054                                  0   \n",
       "99829076                                  0   \n",
       "54666321                                  0   \n",
       "60497718                                  0   \n",
       "...                                     ...   \n",
       "3137916                                   0   \n",
       "94826294                                  0   \n",
       "3867712                                   0   \n",
       "46279285                                  0   \n",
       "40389320                                  0   \n",
       "\n",
       "          PrimaryConditionGroupCount_CANCRM  \\\n",
       "MemberID                                      \n",
       "42286978                                  0   \n",
       "11837054                                  0   \n",
       "99829076                                  0   \n",
       "54666321                                  0   \n",
       "60497718                                  0   \n",
       "...                                     ...   \n",
       "3137916                                   0   \n",
       "94826294                                  0   \n",
       "3867712                                   0   \n",
       "46279285                                  0   \n",
       "40389320                                  0   \n",
       "\n",
       "          PrimaryConditionGroupCount_PERINTL  \n",
       "MemberID                                      \n",
       "42286978                                   0  \n",
       "11837054                                   0  \n",
       "99829076                                   0  \n",
       "54666321                                   0  \n",
       "60497718                                   0  \n",
       "...                                      ...  \n",
       "3137916                                    0  \n",
       "94826294                                   0  \n",
       "3867712                                    0  \n",
       "46279285                                   0  \n",
       "40389320                                   0  \n",
       "\n",
       "[95507 rows x 46 columns]"
      ],
      "text/html": "<div>\n<style scoped>\n    .dataframe tbody tr th:only-of-type {\n        vertical-align: middle;\n    }\n\n    .dataframe tbody tr th {\n        vertical-align: top;\n    }\n\n    .dataframe thead th {\n        text-align: right;\n    }\n</style>\n<table border=\"1\" class=\"dataframe\">\n  <thead>\n    <tr style=\"text-align: right;\">\n      <th></th>\n      <th>PrimaryConditionGroupCount_NEUMENT</th>\n      <th>PrimaryConditionGroupCount_FXDISLC</th>\n      <th>PrimaryConditionGroupCount_TRAUMA</th>\n      <th>PrimaryConditionGroupCount_RESPR4</th>\n      <th>PrimaryConditionGroupCount_INFEC4</th>\n      <th>PrimaryConditionGroupCount_ROAMI</th>\n      <th>PrimaryConditionGroupCount_HEART2</th>\n      <th>PrimaryConditionGroupCount_MISCHRT</th>\n      <th>PrimaryConditionGroupCount_PNEUM</th>\n      <th>PrimaryConditionGroupCount_MISCL5</th>\n      <th>...</th>\n      <th>PrimaryConditionGroupCount_HIPFX</th>\n      <th>PrimaryConditionGroupCount_GYNECA</th>\n      <th>PrimaryConditionGroupCount_CATAST</th>\n      <th>PrimaryConditionGroupCount_SEPSIS</th>\n      <th>PrimaryConditionGroupCount_LIVERDZ</th>\n      <th>PrimaryConditionGroupCount_PNCRDZ</th>\n      <th>PrimaryConditionGroupCount_METAB1</th>\n      <th>PrimaryConditionGroupCount_RENAL1</th>\n      <th>PrimaryConditionGroupCount_CANCRM</th>\n      <th>PrimaryConditionGroupCount_PERINTL</th>\n    </tr>\n    <tr>\n      <th>MemberID</th>\n      <th></th>\n      <th></th>\n      <th></th>\n      <th></th>\n      <th></th>\n      <th></th>\n      <th></th>\n      <th></th>\n      <th></th>\n      <th></th>\n      <th></th>\n      <th></th>\n      <th></th>\n      <th></th>\n      <th></th>\n      <th></th>\n      <th></th>\n      <th></th>\n      <th></th>\n      <th></th>\n      <th></th>\n    </tr>\n  </thead>\n  <tbody>\n    <tr>\n      <th>42286978</th>\n      <td>3</td>\n      <td>0</td>\n      <td>0</td>\n      <td>0</td>\n      <td>0</td>\n      <td>0</td>\n      <td>0</td>\n      <td>1</td>\n      <td>0</td>\n      <td>0</td>\n      <td>...</td>\n      <td>0</td>\n      <td>0</td>\n      <td>0</td>\n      <td>0</td>\n      <td>0</td>\n      <td>0</td>\n      <td>0</td>\n      <td>0</td>\n      <td>0</td>\n      <td>0</td>\n    </tr>\n    <tr>\n      <th>11837054</th>\n      <td>0</td>\n      <td>15</td>\n      <td>0</td>\n      <td>3</td>\n      <td>0</td>\n      <td>0</td>\n      <td>0</td>\n      <td>1</td>\n      <td>0</td>\n      <td>0</td>\n      <td>...</td>\n      <td>0</td>\n      <td>0</td>\n      <td>0</td>\n      <td>0</td>\n      <td>0</td>\n      <td>0</td>\n      <td>0</td>\n      <td>0</td>\n      <td>0</td>\n      <td>0</td>\n    </tr>\n    <tr>\n      <th>99829076</th>\n      <td>0</td>\n      <td>0</td>\n      <td>12</td>\n      <td>1</td>\n      <td>0</td>\n      <td>10</td>\n      <td>0</td>\n      <td>14</td>\n      <td>0</td>\n      <td>1</td>\n      <td>...</td>\n      <td>0</td>\n      <td>0</td>\n      <td>0</td>\n      <td>0</td>\n      <td>0</td>\n      <td>0</td>\n      <td>0</td>\n      <td>0</td>\n      <td>0</td>\n      <td>0</td>\n    </tr>\n    <tr>\n      <th>54666321</th>\n      <td>0</td>\n      <td>0</td>\n      <td>2</td>\n      <td>48</td>\n      <td>2</td>\n      <td>0</td>\n      <td>0</td>\n      <td>0</td>\n      <td>0</td>\n      <td>2</td>\n      <td>...</td>\n      <td>0</td>\n      <td>0</td>\n      <td>0</td>\n      <td>0</td>\n      <td>0</td>\n      <td>0</td>\n      <td>0</td>\n      <td>0</td>\n      <td>0</td>\n      <td>0</td>\n    </tr>\n    <tr>\n      <th>60497718</th>\n      <td>0</td>\n      <td>0</td>\n      <td>4</td>\n      <td>0</td>\n      <td>1</td>\n      <td>0</td>\n      <td>0</td>\n      <td>0</td>\n      <td>0</td>\n      <td>1</td>\n      <td>...</td>\n      <td>0</td>\n      <td>0</td>\n      <td>0</td>\n      <td>0</td>\n      <td>0</td>\n      <td>0</td>\n      <td>0</td>\n      <td>0</td>\n      <td>0</td>\n      <td>0</td>\n    </tr>\n    <tr>\n      <th>...</th>\n      <td>...</td>\n      <td>...</td>\n      <td>...</td>\n      <td>...</td>\n      <td>...</td>\n      <td>...</td>\n      <td>...</td>\n      <td>...</td>\n      <td>...</td>\n      <td>...</td>\n      <td>...</td>\n      <td>...</td>\n      <td>...</td>\n      <td>...</td>\n      <td>...</td>\n      <td>...</td>\n      <td>...</td>\n      <td>...</td>\n      <td>...</td>\n      <td>...</td>\n      <td>...</td>\n    </tr>\n    <tr>\n      <th>3137916</th>\n      <td>0</td>\n      <td>0</td>\n      <td>0</td>\n      <td>0</td>\n      <td>0</td>\n      <td>0</td>\n      <td>0</td>\n      <td>0</td>\n      <td>0</td>\n      <td>0</td>\n      <td>...</td>\n      <td>0</td>\n      <td>0</td>\n      <td>0</td>\n      <td>0</td>\n      <td>0</td>\n      <td>0</td>\n      <td>0</td>\n      <td>0</td>\n      <td>0</td>\n      <td>0</td>\n    </tr>\n    <tr>\n      <th>94826294</th>\n      <td>0</td>\n      <td>0</td>\n      <td>0</td>\n      <td>1</td>\n      <td>0</td>\n      <td>0</td>\n      <td>0</td>\n      <td>0</td>\n      <td>0</td>\n      <td>0</td>\n      <td>...</td>\n      <td>0</td>\n      <td>0</td>\n      <td>0</td>\n      <td>0</td>\n      <td>0</td>\n      <td>0</td>\n      <td>0</td>\n      <td>0</td>\n      <td>0</td>\n      <td>0</td>\n    </tr>\n    <tr>\n      <th>3867712</th>\n      <td>0</td>\n      <td>0</td>\n      <td>0</td>\n      <td>1</td>\n      <td>0</td>\n      <td>0</td>\n      <td>0</td>\n      <td>0</td>\n      <td>0</td>\n      <td>0</td>\n      <td>...</td>\n      <td>0</td>\n      <td>0</td>\n      <td>0</td>\n      <td>0</td>\n      <td>0</td>\n      <td>0</td>\n      <td>0</td>\n      <td>0</td>\n      <td>0</td>\n      <td>0</td>\n    </tr>\n    <tr>\n      <th>46279285</th>\n      <td>0</td>\n      <td>0</td>\n      <td>0</td>\n      <td>0</td>\n      <td>0</td>\n      <td>0</td>\n      <td>0</td>\n      <td>0</td>\n      <td>0</td>\n      <td>0</td>\n      <td>...</td>\n      <td>0</td>\n      <td>0</td>\n      <td>0</td>\n      <td>0</td>\n      <td>0</td>\n      <td>0</td>\n      <td>0</td>\n      <td>0</td>\n      <td>0</td>\n      <td>0</td>\n    </tr>\n    <tr>\n      <th>40389320</th>\n      <td>0</td>\n      <td>0</td>\n      <td>0</td>\n      <td>1</td>\n      <td>0</td>\n      <td>0</td>\n      <td>0</td>\n      <td>0</td>\n      <td>0</td>\n      <td>0</td>\n      <td>...</td>\n      <td>0</td>\n      <td>0</td>\n      <td>0</td>\n      <td>0</td>\n      <td>0</td>\n      <td>0</td>\n      <td>0</td>\n      <td>0</td>\n      <td>0</td>\n      <td>0</td>\n    </tr>\n  </tbody>\n</table>\n<p>95507 rows × 46 columns</p>\n</div>"
     },
     "metadata": {},
     "execution_count": 189
    }
   ],
   "source": [
    "df_pcg_count_y12"
   ]
  },
  {
   "cell_type": "code",
   "execution_count": 188,
   "metadata": {},
   "outputs": [],
   "source": [
    "df_pcg_count_y1.to_csv(\"./processed/PrimaryConditionGroup_Y1.csv\")\n",
    "df_pcg_count_y2.to_csv(\"./processed/PrimaryConditionGroup_Y2.csv\")\n",
    "df_pcg_count_y12.to_csv(\"./processed/PrimaryConditionGroup_Y12.csv\")"
   ]
  },
  {
   "source": [
    "## ProcedureGroup"
   ],
   "cell_type": "markdown",
   "metadata": {}
  },
  {
   "cell_type": "code",
   "execution_count": 190,
   "metadata": {},
   "outputs": [],
   "source": [
    "pg_unique_y1 = list(df_claim_y1[\"ProcedureGroup\"].unique())\n",
    "pg_unique_y2 = list(df_claim_y2[\"ProcedureGroup\"].unique())\n",
    "pg_unique_y12 = list(df_claim_y12[\"ProcedureGroup\"].unique())"
   ]
  },
  {
   "cell_type": "code",
   "execution_count": 191,
   "metadata": {},
   "outputs": [
    {
     "output_type": "stream",
     "name": "stdout",
     "text": [
      "Processed: 0/76038\n",
      "Processed: 10000/76038\n",
      "Processed: 20000/76038\n",
      "Processed: 30000/76038\n",
      "Processed: 40000/76038\n",
      "Processed: 50000/76038\n",
      "Processed: 60000/76038\n",
      "Processed: 70000/76038\n",
      "Processed: 76038/76038 DONE\n",
      "Processed: 0/71435\n",
      "Processed: 10000/71435\n",
      "Processed: 20000/71435\n",
      "Processed: 30000/71435\n",
      "Processed: 40000/71435\n",
      "Processed: 50000/71435\n",
      "Processed: 60000/71435\n",
      "Processed: 70000/71435\n",
      "Processed: 71435/71435 DONE\n",
      "Processed: 0/95507\n",
      "Processed: 10000/95507\n",
      "Processed: 20000/95507\n",
      "Processed: 30000/95507\n",
      "Processed: 40000/95507\n",
      "Processed: 50000/95507\n",
      "Processed: 60000/95507\n",
      "Processed: 70000/95507\n",
      "Processed: 80000/95507\n",
      "Processed: 90000/95507\n",
      "Processed: 95507/95507 DONE\n",
      "CPU times: user 8min 27s, sys: 8.8 s, total: 8min 36s\n",
      "Wall time: 13min 1s\n"
     ]
    }
   ],
   "source": [
    "%%time\n",
    "df_pg_count_y1 = one_hot_count(\"MemberID\", \"ProcedureGroup\", df_claim_y1, pg_unique_y1)\n",
    "df_pg_count_y2 = one_hot_count(\"MemberID\", \"ProcedureGroup\", df_claim_y2, pg_unique_y2)\n",
    "df_pg_count_y12 = one_hot_count(\"MemberID\", \"ProcedureGroup\", df_claim_y12, pg_unique_y12)"
   ]
  },
  {
   "cell_type": "code",
   "execution_count": 192,
   "metadata": {},
   "outputs": [],
   "source": [
    "df_pg_count_y1.to_csv(\"./processed/ProcedureGroup_Y1.csv\")\n",
    "df_pg_count_y2.to_csv(\"./processed/ProcedureGroup_Y2.csv\")\n",
    "df_pg_count_y12.to_csv(\"./processed/ProcedureGroup_Y12.csv\")"
   ]
  },
  {
   "source": [
    "## LabCount"
   ],
   "cell_type": "markdown",
   "metadata": {}
  },
  {
   "cell_type": "code",
   "execution_count": 206,
   "metadata": {},
   "outputs": [
    {
     "output_type": "error",
     "ename": "TypeError",
     "evalue": "Cannot compare types 'ndarray(dtype=int32)' and 'str'",
     "traceback": [
      "\u001b[0;31m---------------------------------------------------------------------------\u001b[0m",
      "\u001b[0;31mTypeError\u001b[0m                                 Traceback (most recent call last)",
      "\u001b[0;32m<ipython-input-206-ce3fd483a801>\u001b[0m in \u001b[0;36m<module>\u001b[0;34m\u001b[0m\n\u001b[0;32m----> 1\u001b[0;31m \u001b[0mdf_lab\u001b[0m\u001b[0;34m[\u001b[0m\u001b[0;34m\"LabCount\"\u001b[0m\u001b[0;34m]\u001b[0m\u001b[0;34m.\u001b[0m\u001b[0mreplace\u001b[0m\u001b[0;34m(\u001b[0m\u001b[0;34m{\u001b[0m \u001b[0;34m\"10+\"\u001b[0m\u001b[0;34m:\u001b[0m \u001b[0;36m10\u001b[0m \u001b[0;34m}\u001b[0m\u001b[0;34m,\u001b[0m \u001b[0minplace\u001b[0m\u001b[0;34m=\u001b[0m\u001b[0;32mTrue\u001b[0m\u001b[0;34m)\u001b[0m\u001b[0;34m\u001b[0m\u001b[0;34m\u001b[0m\u001b[0m\n\u001b[0m\u001b[1;32m      2\u001b[0m \u001b[0;34m\u001b[0m\u001b[0m\n\u001b[1;32m      3\u001b[0m \u001b[0mdf_lab\u001b[0m\u001b[0;34m[\u001b[0m\u001b[0;34m\"LabCount\"\u001b[0m\u001b[0;34m]\u001b[0m \u001b[0;34m=\u001b[0m \u001b[0mdf_lab\u001b[0m\u001b[0;34m[\u001b[0m\u001b[0;34m\"LabCount\"\u001b[0m\u001b[0;34m]\u001b[0m\u001b[0;34m.\u001b[0m\u001b[0mastype\u001b[0m\u001b[0;34m(\u001b[0m\u001b[0;34m\"float64\"\u001b[0m\u001b[0;34m)\u001b[0m\u001b[0;34m\u001b[0m\u001b[0;34m\u001b[0m\u001b[0m\n",
      "\u001b[0;32m/usr/local/anaconda3/envs/tuan/lib/python3.7/site-packages/pandas/core/series.py\u001b[0m in \u001b[0;36mreplace\u001b[0;34m(self, to_replace, value, inplace, limit, regex, method)\u001b[0m\n\u001b[1;32m   4176\u001b[0m             \u001b[0mlimit\u001b[0m\u001b[0;34m=\u001b[0m\u001b[0mlimit\u001b[0m\u001b[0;34m,\u001b[0m\u001b[0;34m\u001b[0m\u001b[0;34m\u001b[0m\u001b[0m\n\u001b[1;32m   4177\u001b[0m             \u001b[0mregex\u001b[0m\u001b[0;34m=\u001b[0m\u001b[0mregex\u001b[0m\u001b[0;34m,\u001b[0m\u001b[0;34m\u001b[0m\u001b[0;34m\u001b[0m\u001b[0m\n\u001b[0;32m-> 4178\u001b[0;31m             \u001b[0mmethod\u001b[0m\u001b[0;34m=\u001b[0m\u001b[0mmethod\u001b[0m\u001b[0;34m,\u001b[0m\u001b[0;34m\u001b[0m\u001b[0;34m\u001b[0m\u001b[0m\n\u001b[0m\u001b[1;32m   4179\u001b[0m         )\n\u001b[1;32m   4180\u001b[0m \u001b[0;34m\u001b[0m\u001b[0m\n",
      "\u001b[0;32m/usr/local/anaconda3/envs/tuan/lib/python3.7/site-packages/pandas/core/generic.py\u001b[0m in \u001b[0;36mreplace\u001b[0;34m(self, to_replace, value, inplace, limit, regex, method)\u001b[0m\n\u001b[1;32m   6644\u001b[0m \u001b[0;34m\u001b[0m\u001b[0m\n\u001b[1;32m   6645\u001b[0m             return self.replace(\n\u001b[0;32m-> 6646\u001b[0;31m                 \u001b[0mto_replace\u001b[0m\u001b[0;34m,\u001b[0m \u001b[0mvalue\u001b[0m\u001b[0;34m,\u001b[0m \u001b[0minplace\u001b[0m\u001b[0;34m=\u001b[0m\u001b[0minplace\u001b[0m\u001b[0;34m,\u001b[0m \u001b[0mlimit\u001b[0m\u001b[0;34m=\u001b[0m\u001b[0mlimit\u001b[0m\u001b[0;34m,\u001b[0m \u001b[0mregex\u001b[0m\u001b[0;34m=\u001b[0m\u001b[0mregex\u001b[0m\u001b[0;34m\u001b[0m\u001b[0;34m\u001b[0m\u001b[0m\n\u001b[0m\u001b[1;32m   6647\u001b[0m             )\n\u001b[1;32m   6648\u001b[0m         \u001b[0;32melse\u001b[0m\u001b[0;34m:\u001b[0m\u001b[0;34m\u001b[0m\u001b[0;34m\u001b[0m\u001b[0m\n",
      "\u001b[0;32m/usr/local/anaconda3/envs/tuan/lib/python3.7/site-packages/pandas/core/series.py\u001b[0m in \u001b[0;36mreplace\u001b[0;34m(self, to_replace, value, inplace, limit, regex, method)\u001b[0m\n\u001b[1;32m   4176\u001b[0m             \u001b[0mlimit\u001b[0m\u001b[0;34m=\u001b[0m\u001b[0mlimit\u001b[0m\u001b[0;34m,\u001b[0m\u001b[0;34m\u001b[0m\u001b[0;34m\u001b[0m\u001b[0m\n\u001b[1;32m   4177\u001b[0m             \u001b[0mregex\u001b[0m\u001b[0;34m=\u001b[0m\u001b[0mregex\u001b[0m\u001b[0;34m,\u001b[0m\u001b[0;34m\u001b[0m\u001b[0;34m\u001b[0m\u001b[0m\n\u001b[0;32m-> 4178\u001b[0;31m             \u001b[0mmethod\u001b[0m\u001b[0;34m=\u001b[0m\u001b[0mmethod\u001b[0m\u001b[0;34m,\u001b[0m\u001b[0;34m\u001b[0m\u001b[0;34m\u001b[0m\u001b[0m\n\u001b[0m\u001b[1;32m   4179\u001b[0m         )\n\u001b[1;32m   4180\u001b[0m \u001b[0;34m\u001b[0m\u001b[0m\n",
      "\u001b[0;32m/usr/local/anaconda3/envs/tuan/lib/python3.7/site-packages/pandas/core/generic.py\u001b[0m in \u001b[0;36mreplace\u001b[0;34m(self, to_replace, value, inplace, limit, regex, method)\u001b[0m\n\u001b[1;32m   6697\u001b[0m                         \u001b[0mdest_list\u001b[0m\u001b[0;34m=\u001b[0m\u001b[0mvalue\u001b[0m\u001b[0;34m,\u001b[0m\u001b[0;34m\u001b[0m\u001b[0;34m\u001b[0m\u001b[0m\n\u001b[1;32m   6698\u001b[0m                         \u001b[0minplace\u001b[0m\u001b[0;34m=\u001b[0m\u001b[0minplace\u001b[0m\u001b[0;34m,\u001b[0m\u001b[0;34m\u001b[0m\u001b[0;34m\u001b[0m\u001b[0m\n\u001b[0;32m-> 6699\u001b[0;31m                         \u001b[0mregex\u001b[0m\u001b[0;34m=\u001b[0m\u001b[0mregex\u001b[0m\u001b[0;34m,\u001b[0m\u001b[0;34m\u001b[0m\u001b[0;34m\u001b[0m\u001b[0m\n\u001b[0m\u001b[1;32m   6700\u001b[0m                     )\n\u001b[1;32m   6701\u001b[0m \u001b[0;34m\u001b[0m\u001b[0m\n",
      "\u001b[0;32m/usr/local/anaconda3/envs/tuan/lib/python3.7/site-packages/pandas/core/internals/managers.py\u001b[0m in \u001b[0;36mreplace_list\u001b[0;34m(self, src_list, dest_list, inplace, regex)\u001b[0m\n\u001b[1;32m    611\u001b[0m             \u001b[0;32mreturn\u001b[0m \u001b[0m_compare_or_regex_search\u001b[0m\u001b[0;34m(\u001b[0m\u001b[0mvalues\u001b[0m\u001b[0;34m,\u001b[0m \u001b[0ms\u001b[0m\u001b[0;34m,\u001b[0m \u001b[0mregex\u001b[0m\u001b[0;34m)\u001b[0m\u001b[0;34m\u001b[0m\u001b[0;34m\u001b[0m\u001b[0m\n\u001b[1;32m    612\u001b[0m \u001b[0;34m\u001b[0m\u001b[0m\n\u001b[0;32m--> 613\u001b[0;31m         \u001b[0mmasks\u001b[0m \u001b[0;34m=\u001b[0m \u001b[0;34m[\u001b[0m\u001b[0mcomp\u001b[0m\u001b[0;34m(\u001b[0m\u001b[0ms\u001b[0m\u001b[0;34m,\u001b[0m \u001b[0mregex\u001b[0m\u001b[0;34m)\u001b[0m \u001b[0;32mfor\u001b[0m \u001b[0mi\u001b[0m\u001b[0;34m,\u001b[0m \u001b[0ms\u001b[0m \u001b[0;32min\u001b[0m \u001b[0menumerate\u001b[0m\u001b[0;34m(\u001b[0m\u001b[0msrc_list\u001b[0m\u001b[0;34m)\u001b[0m\u001b[0;34m]\u001b[0m\u001b[0;34m\u001b[0m\u001b[0;34m\u001b[0m\u001b[0m\n\u001b[0m\u001b[1;32m    614\u001b[0m \u001b[0;34m\u001b[0m\u001b[0m\n\u001b[1;32m    615\u001b[0m         \u001b[0mresult_blocks\u001b[0m \u001b[0;34m=\u001b[0m \u001b[0;34m[\u001b[0m\u001b[0;34m]\u001b[0m\u001b[0;34m\u001b[0m\u001b[0;34m\u001b[0m\u001b[0m\n",
      "\u001b[0;32m/usr/local/anaconda3/envs/tuan/lib/python3.7/site-packages/pandas/core/internals/managers.py\u001b[0m in \u001b[0;36m<listcomp>\u001b[0;34m(.0)\u001b[0m\n\u001b[1;32m    611\u001b[0m             \u001b[0;32mreturn\u001b[0m \u001b[0m_compare_or_regex_search\u001b[0m\u001b[0;34m(\u001b[0m\u001b[0mvalues\u001b[0m\u001b[0;34m,\u001b[0m \u001b[0ms\u001b[0m\u001b[0;34m,\u001b[0m \u001b[0mregex\u001b[0m\u001b[0;34m)\u001b[0m\u001b[0;34m\u001b[0m\u001b[0;34m\u001b[0m\u001b[0m\n\u001b[1;32m    612\u001b[0m \u001b[0;34m\u001b[0m\u001b[0m\n\u001b[0;32m--> 613\u001b[0;31m         \u001b[0mmasks\u001b[0m \u001b[0;34m=\u001b[0m \u001b[0;34m[\u001b[0m\u001b[0mcomp\u001b[0m\u001b[0;34m(\u001b[0m\u001b[0ms\u001b[0m\u001b[0;34m,\u001b[0m \u001b[0mregex\u001b[0m\u001b[0;34m)\u001b[0m \u001b[0;32mfor\u001b[0m \u001b[0mi\u001b[0m\u001b[0;34m,\u001b[0m \u001b[0ms\u001b[0m \u001b[0;32min\u001b[0m \u001b[0menumerate\u001b[0m\u001b[0;34m(\u001b[0m\u001b[0msrc_list\u001b[0m\u001b[0;34m)\u001b[0m\u001b[0;34m]\u001b[0m\u001b[0;34m\u001b[0m\u001b[0;34m\u001b[0m\u001b[0m\n\u001b[0m\u001b[1;32m    614\u001b[0m \u001b[0;34m\u001b[0m\u001b[0m\n\u001b[1;32m    615\u001b[0m         \u001b[0mresult_blocks\u001b[0m \u001b[0;34m=\u001b[0m \u001b[0;34m[\u001b[0m\u001b[0;34m]\u001b[0m\u001b[0;34m\u001b[0m\u001b[0;34m\u001b[0m\u001b[0m\n",
      "\u001b[0;32m/usr/local/anaconda3/envs/tuan/lib/python3.7/site-packages/pandas/core/internals/managers.py\u001b[0m in \u001b[0;36mcomp\u001b[0;34m(s, regex)\u001b[0m\n\u001b[1;32m    609\u001b[0m                     \u001b[0mmaybe_convert_objects\u001b[0m\u001b[0;34m(\u001b[0m\u001b[0mvalues\u001b[0m\u001b[0;34m)\u001b[0m\u001b[0;34m,\u001b[0m \u001b[0ms\u001b[0m\u001b[0;34m.\u001b[0m\u001b[0masm8\u001b[0m\u001b[0;34m,\u001b[0m \u001b[0mregex\u001b[0m\u001b[0;34m\u001b[0m\u001b[0;34m\u001b[0m\u001b[0m\n\u001b[1;32m    610\u001b[0m                 )\n\u001b[0;32m--> 611\u001b[0;31m             \u001b[0;32mreturn\u001b[0m \u001b[0m_compare_or_regex_search\u001b[0m\u001b[0;34m(\u001b[0m\u001b[0mvalues\u001b[0m\u001b[0;34m,\u001b[0m \u001b[0ms\u001b[0m\u001b[0;34m,\u001b[0m \u001b[0mregex\u001b[0m\u001b[0;34m)\u001b[0m\u001b[0;34m\u001b[0m\u001b[0;34m\u001b[0m\u001b[0m\n\u001b[0m\u001b[1;32m    612\u001b[0m \u001b[0;34m\u001b[0m\u001b[0m\n\u001b[1;32m    613\u001b[0m         \u001b[0mmasks\u001b[0m \u001b[0;34m=\u001b[0m \u001b[0;34m[\u001b[0m\u001b[0mcomp\u001b[0m\u001b[0;34m(\u001b[0m\u001b[0ms\u001b[0m\u001b[0;34m,\u001b[0m \u001b[0mregex\u001b[0m\u001b[0;34m)\u001b[0m \u001b[0;32mfor\u001b[0m \u001b[0mi\u001b[0m\u001b[0;34m,\u001b[0m \u001b[0ms\u001b[0m \u001b[0;32min\u001b[0m \u001b[0menumerate\u001b[0m\u001b[0;34m(\u001b[0m\u001b[0msrc_list\u001b[0m\u001b[0;34m)\u001b[0m\u001b[0;34m]\u001b[0m\u001b[0;34m\u001b[0m\u001b[0;34m\u001b[0m\u001b[0m\n",
      "\u001b[0;32m/usr/local/anaconda3/envs/tuan/lib/python3.7/site-packages/pandas/core/internals/managers.py\u001b[0m in \u001b[0;36m_compare_or_regex_search\u001b[0;34m(a, b, regex)\u001b[0m\n\u001b[1;32m   1934\u001b[0m \u001b[0;34m\u001b[0m\u001b[0m\n\u001b[1;32m   1935\u001b[0m         raise TypeError(\n\u001b[0;32m-> 1936\u001b[0;31m             \u001b[0;34mf\"Cannot compare types {repr(type_names[0])} and {repr(type_names[1])}\"\u001b[0m\u001b[0;34m\u001b[0m\u001b[0;34m\u001b[0m\u001b[0m\n\u001b[0m\u001b[1;32m   1937\u001b[0m         )\n\u001b[1;32m   1938\u001b[0m     \u001b[0;32mreturn\u001b[0m \u001b[0mresult\u001b[0m\u001b[0;34m\u001b[0m\u001b[0;34m\u001b[0m\u001b[0m\n",
      "\u001b[0;31mTypeError\u001b[0m: Cannot compare types 'ndarray(dtype=int32)' and 'str'"
     ]
    }
   ],
   "source": [
    "df_lab[\"LabCount\"].replace({ \"10+\": 10 }, inplace=True)"
   ]
  },
  {
   "cell_type": "code",
   "execution_count": 207,
   "metadata": {},
   "outputs": [],
   "source": [
    "df_lab[\"LabCount\"] = df_lab[\"LabCount\"].astype(\"float64\")"
   ]
  },
  {
   "cell_type": "code",
   "execution_count": 208,
   "metadata": {},
   "outputs": [
    {
     "output_type": "stream",
     "name": "stdout",
     "text": [
      "(120162, 4)\n(122416, 4)\n(242578, 4)\n"
     ]
    }
   ],
   "source": [
    "df_lab_y1 = df_lab[df_lab[\"Year\"] == \"Y1\"]\n",
    "print(df_lab_y1.shape)\n",
    "df_lab_y2 = df_lab[df_lab[\"Year\"] == \"Y2\"]\n",
    "print(df_lab_y2.shape)\n",
    "df_lab_y12 = df_lab[(df_lab[\"Year\"] == \"Y1\") | (df_lab[\"Year\"] == \"Y2\")]\n",
    "print(df_lab_y12.shape)"
   ]
  },
  {
   "cell_type": "code",
   "execution_count": 209,
   "metadata": {},
   "outputs": [],
   "source": [
    "def process_lab(df):\n",
    "    lab_min = df.groupby([\"MemberID\"])[\"LabCount\"].min()\n",
    "    lab_max = df.groupby([\"MemberID\"])[\"LabCount\"].max()\n",
    "    lab_avg = df.groupby([\"MemberID\"])[\"LabCount\"].mean()\n",
    "    lab_std = df.groupby([\"MemberID\"])[\"LabCount\"].std()\n",
    "    lab_sum = df.groupby([\"MemberID\"])[\"LabCount\"].sum()\n",
    "    lab_claim_count = df.groupby([\"MemberID\"])[\"MemberID\"].count()\n",
    "\n",
    "    return pd.concat([\n",
    "        pd.DataFrame(np.array(lab_min).T, columns=[\"LabCountMin\"], index=lab_min.index),\n",
    "        pd.DataFrame(np.array(lab_max).T, columns=[\"LabCountMax\"], index=lab_max.index),\n",
    "        pd.DataFrame(np.array(lab_avg).T, columns=[\"LabCountAvg\"], index=lab_avg.index),\n",
    "        pd.DataFrame(np.array(lab_std).T, columns=[\"LabCountStd\"], index=lab_std.index),\n",
    "        pd.DataFrame(np.array(lab_sum).T, columns=[\"LabCountSum\"], index=lab_sum.index),\n",
    "        pd.DataFrame(np.array(lab_claim_count).T, columns=[\"LabClaimCount\"], index=lab_claim_count.index),\n",
    "    ], axis=1)\n"
   ]
  },
  {
   "cell_type": "code",
   "execution_count": 211,
   "metadata": {},
   "outputs": [
    {
     "output_type": "stream",
     "name": "stdout",
     "text": [
      "ok\n",
      "ok\n",
      "ok\n",
      "CPU times: user 376 ms, sys: 30.4 ms, total: 407 ms\n",
      "Wall time: 952 ms\n"
     ]
    }
   ],
   "source": [
    "%%time\n",
    "df_lab_count_y1 = process_lab(df_lab_y1)\n",
    "df_lab_count_y2 = process_lab(df_lab_y2)\n",
    "df_lab_count_y12 = process_lab(df_lab_y12)"
   ]
  },
  {
   "cell_type": "code",
   "execution_count": 213,
   "metadata": {},
   "outputs": [],
   "source": [
    "df_lab_count_y1.to_csv(\"./processed/LabCount_Y1.csv\")\n",
    "df_lab_count_y2.to_csv(\"./processed/LabCount_Y2.csv\")\n",
    "df_lab_count_y12.to_csv(\"./processed/LabCount_Y12.csv\")"
   ]
  },
  {
   "source": [
    "## DrugCount"
   ],
   "cell_type": "markdown",
   "metadata": {}
  },
  {
   "source": [
    "df_drug[\"DrugCount\"].replace({ \"7+\": 7 }, inplace=True)"
   ],
   "cell_type": "code",
   "metadata": {},
   "execution_count": 214,
   "outputs": []
  },
  {
   "cell_type": "code",
   "execution_count": 215,
   "metadata": {},
   "outputs": [],
   "source": [
    "df_drug[\"DrugCount\"] = df_drug[\"DrugCount\"].astype(\"float64\")"
   ]
  },
  {
   "cell_type": "code",
   "execution_count": 217,
   "metadata": {},
   "outputs": [
    {
     "output_type": "stream",
     "name": "stdout",
     "text": [
      "(281619, 4)\n",
      "(276027, 4)\n",
      "(557646, 4)\n"
     ]
    }
   ],
   "source": [
    "df_drug_y1 = df_drug[df_drug[\"Year\"] == \"Y1\"]\n",
    "print(df_drug_y1.shape)\n",
    "df_drug_y2 = df_drug[df_drug[\"Year\"] == \"Y2\"]\n",
    "print(df_drug_y2.shape)\n",
    "df_drug_y12 = df_drug[(df_drug[\"Year\"] == \"Y1\") | (df_drug[\"Year\"] == \"Y2\")]\n",
    "print(df_drug_y12.shape)"
   ]
  },
  {
   "cell_type": "code",
   "execution_count": 218,
   "metadata": {},
   "outputs": [],
   "source": [
    "def process_drug(df):\n",
    "    drug_min = df.groupby([\"MemberID\"])[\"DrugCount\"].min()\n",
    "    drug_max = df.groupby([\"MemberID\"])[\"DrugCount\"].max()\n",
    "    drug_avg = df.groupby([\"MemberID\"])[\"DrugCount\"].mean()\n",
    "    drug_std = df.groupby([\"MemberID\"])[\"DrugCount\"].std()\n",
    "    drug_sum = df.groupby([\"MemberID\"])[\"DrugCount\"].sum()\n",
    "    drug_claim_count = df.groupby([\"MemberID\"])[\"DrugCount\"].count()\n",
    "\n",
    "    return pd.concat([\n",
    "        pd.DataFrame(np.array(drug_min).T, columns=[\"DrugCountMin\"], index=drug_min.index),\n",
    "        pd.DataFrame(np.array(drug_max).T, columns=[\"DrugCountMax\"], index=drug_max.index),\n",
    "        pd.DataFrame(np.array(drug_avg).T, columns=[\"DrugCountAvg\"], index=drug_avg.index),\n",
    "        pd.DataFrame(np.array(drug_std).T, columns=[\"DrugCountStd\"], index=drug_std.index),\n",
    "        pd.DataFrame(np.array(drug_sum).T, columns=[\"DrugCountSum\"], index=drug_sum.index),\n",
    "        pd.DataFrame(np.array(drug_claim_count).T, columns=[\"DrugClaimCount\"], index=drug_claim_count.index),\n",
    "    ], axis=1)\n"
   ]
  },
  {
   "cell_type": "code",
   "execution_count": 219,
   "metadata": {},
   "outputs": [
    {
     "output_type": "stream",
     "name": "stdout",
     "text": [
      "CPU times: user 519 ms, sys: 51.2 ms, total: 570 ms\nWall time: 788 ms\n"
     ]
    }
   ],
   "source": [
    "%%time\n",
    "df_drug_count_y1 = process_drug(df_drug_y1)\n",
    "df_drug_count_y2 = process_drug(df_drug_y2)\n",
    "df_drug_count_y12 = process_drug(df_drug_y12)"
   ]
  },
  {
   "cell_type": "code",
   "execution_count": 220,
   "metadata": {},
   "outputs": [],
   "source": [
    "df_drug_count_y1.to_csv(\"./processed/DrugCount_Y1.csv\")\n",
    "df_drug_count_y2.to_csv(\"./processed/DrugCount_Y2.csv\")\n",
    "df_drug_count_y12.to_csv(\"./processed/DrugCount_Y12.csv\")"
   ]
  },
  {
   "cell_type": "code",
   "execution_count": null,
   "metadata": {},
   "outputs": [],
   "source": []
  }
 ]
}